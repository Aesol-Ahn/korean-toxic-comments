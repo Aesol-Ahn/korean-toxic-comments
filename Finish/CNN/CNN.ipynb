{
 "cells": [
  {
   "cell_type": "code",
   "execution_count": 15,
   "metadata": {
    "executionInfo": {
     "elapsed": 1106,
     "status": "ok",
     "timestamp": 1604906467105,
     "user": {
      "displayName": "조원우",
      "photoUrl": "",
      "userId": "11153319923813420173"
     },
     "user_tz": -540
    },
    "id": "26MNEKH61WG2",
    "scrolled": true
   },
   "outputs": [],
   "source": [
    "import re\n",
    "import pickle\n",
    "import pandas as pd\n",
    "import numpy as np\n",
    "%matplotlib inline\n",
    "import matplotlib.pyplot as plt\n",
    "from PIL import Image\n",
    "from konlpy.tag import Okt\n",
    "from wordcloud import WordCloud\n",
    "from tensorflow.keras.preprocessing.text import Tokenizer\n",
    "from tensorflow.keras.preprocessing.sequence import pad_sequences\n",
    "from konlpy.tag import Mecab\n",
    "from collections import Counter\n",
    "import sklearn.metrics as metrics"
   ]
  },
  {
   "cell_type": "markdown",
   "metadata": {
    "id": "Jt9swcpM1WG9"
   },
   "source": [
    "## 데이터 로드"
   ]
  },
  {
   "cell_type": "code",
   "execution_count": 11,
   "metadata": {},
   "outputs": [
    {
     "name": "stdout",
     "output_type": "stream",
     "text": [
      "   label   count\n",
      "0      0   90000\n",
      "1      1  100000\n"
     ]
    }
   ],
   "source": [
    "data_origin = pd.read_csv(\"data/hate_speech_large.csv\")\n",
    "data_origin.columns = [\"comments\", \"label\"]\n",
    "print(data_origin.groupby('label').size().reset_index(name = 'count'))"
   ]
  },
  {
   "cell_type": "code",
   "execution_count": 16,
   "metadata": {
    "colab": {
     "base_uri": "https://localhost:8080/",
     "height": 204
    },
    "executionInfo": {
     "elapsed": 3742,
     "status": "ok",
     "timestamp": 1604906089831,
     "user": {
      "displayName": "조원우",
      "photoUrl": "",
      "userId": "11153319923813420173"
     },
     "user_tz": -540
    },
    "id": "XvcqDo_i1WG9",
    "outputId": "22456ecd-fa91-45b8-f3ff-53d4f27e3d26",
    "scrolled": true
   },
   "outputs": [
    {
     "data": {
      "text/html": [
       "<div>\n",
       "<style scoped>\n",
       "    .dataframe tbody tr th:only-of-type {\n",
       "        vertical-align: middle;\n",
       "    }\n",
       "\n",
       "    .dataframe tbody tr th {\n",
       "        vertical-align: top;\n",
       "    }\n",
       "\n",
       "    .dataframe thead th {\n",
       "        text-align: right;\n",
       "    }\n",
       "</style>\n",
       "<table border=\"1\" class=\"dataframe\">\n",
       "  <thead>\n",
       "    <tr style=\"text-align: right;\">\n",
       "      <th></th>\n",
       "      <th>comments</th>\n",
       "      <th>label</th>\n",
       "    </tr>\n",
       "  </thead>\n",
       "  <tbody>\n",
       "    <tr>\n",
       "      <th>0</th>\n",
       "      <td>정말 재밌다 연기도 좋고 디카프리오 짱</td>\n",
       "      <td>1</td>\n",
       "    </tr>\n",
       "    <tr>\n",
       "      <th>1</th>\n",
       "      <td>심쿵심쿵 미치네요이수혁땜에 잠 못자겠어요ㅠ자꾸 아른거림ㅠ</td>\n",
       "      <td>1</td>\n",
       "    </tr>\n",
       "    <tr>\n",
       "      <th>2</th>\n",
       "      <td>하지만 이니후빨러들은 이런거 관심 하나도 없음</td>\n",
       "      <td>0</td>\n",
       "    </tr>\n",
       "    <tr>\n",
       "      <th>3</th>\n",
       "      <td>@착한아이임당 A4 용지 덮고?</td>\n",
       "      <td>0</td>\n",
       "    </tr>\n",
       "    <tr>\n",
       "      <th>4</th>\n",
       "      <td>진짜 평점 믿으면 안된 다는 걸 현실로 보여주는 영화입니다. 네티즌,전문가 하나같이...</td>\n",
       "      <td>1</td>\n",
       "    </tr>\n",
       "  </tbody>\n",
       "</table>\n",
       "</div>"
      ],
      "text/plain": [
       "                                            comments  label\n",
       "0                              정말 재밌다 연기도 좋고 디카프리오 짱      1\n",
       "1                    심쿵심쿵 미치네요이수혁땜에 잠 못자겠어요ㅠ자꾸 아른거림ㅠ      1\n",
       "2                          하지만 이니후빨러들은 이런거 관심 하나도 없음      0\n",
       "3                                  @착한아이임당 A4 용지 덮고?      0\n",
       "4  진짜 평점 믿으면 안된 다는 걸 현실로 보여주는 영화입니다. 네티즌,전문가 하나같이...      1"
      ]
     },
     "execution_count": 16,
     "metadata": {},
     "output_type": "execute_result"
    }
   ],
   "source": [
    "data = pd.read_csv(\"data/hate_speech_large.csv\")\n",
    "data.columns = [\"comments\", \"label\"]\n",
    "data.head()"
   ]
  },
  {
   "cell_type": "code",
   "execution_count": 17,
   "metadata": {
    "colab": {
     "base_uri": "https://localhost:8080/"
    },
    "executionInfo": {
     "elapsed": 1145,
     "status": "ok",
     "timestamp": 1604906093733,
     "user": {
      "displayName": "조원우",
      "photoUrl": "",
      "userId": "11153319923813420173"
     },
     "user_tz": -540
    },
    "id": "1tAsPFHa1WHC",
    "outputId": "7573f8aa-84d7-411a-e9af-fe45970b7917"
   },
   "outputs": [
    {
     "name": "stdout",
     "output_type": "stream",
     "text": [
      "댓글 개수 : 190000\n"
     ]
    }
   ],
   "source": [
    "print(\"댓글 개수 :\",len(data)) # 댓글 개수 출력"
   ]
  },
  {
   "cell_type": "code",
   "execution_count": 18,
   "metadata": {},
   "outputs": [
    {
     "data": {
      "text/plain": [
       "(0.0, 110000.0)"
      ]
     },
     "execution_count": 18,
     "metadata": {},
     "output_type": "execute_result"
    },
    {
     "data": {
      "image/png": "[encoded data removed]",
      "text/plain": [
       "<Figure size 432x288 with 1 Axes>"
      ]
     },
     "metadata": {
      "needs_background": "light"
     },
     "output_type": "display_data"
    }
   ],
   "source": [
    "data['label'].value_counts().plot(kind = 'bar')\n",
    "plt.ylabel('length of samples')\n",
    "plt.xlabel('none or hate')\n",
    "plt.ylim(top = 110000)"
   ]
  },
  {
   "cell_type": "markdown",
   "metadata": {
    "id": "IiMOhpiv1WHF"
   },
   "source": [
    "## 데이터 정제"
   ]
  },
  {
   "cell_type": "code",
   "execution_count": 19,
   "metadata": {
    "executionInfo": {
     "elapsed": 1061,
     "status": "ok",
     "timestamp": 1604906098914,
     "user": {
      "displayName": "조원우",
      "photoUrl": "",
      "userId": "11153319923813420173"
     },
     "user_tz": -540
    },
    "id": "PdqWnPZ61WHF"
   },
   "outputs": [],
   "source": [
    "data['label'] = np.where(data['label'] == 0, 1, 0)"
   ]
  },
  {
   "cell_type": "markdown",
   "metadata": {
    "id": "dHmbQmAU1WHI"
   },
   "source": [
    "### 댓글의 중복 여부 확인"
   ]
  },
  {
   "cell_type": "code",
   "execution_count": 20,
   "metadata": {
    "colab": {
     "base_uri": "https://localhost:8080/"
    },
    "executionInfo": {
     "elapsed": 1116,
     "status": "ok",
     "timestamp": 1604906101076,
     "user": {
      "displayName": "조원우",
      "photoUrl": "",
      "userId": "11153319923813420173"
     },
     "user_tz": -540
    },
    "id": "VX-t0yIG1WHJ",
    "outputId": "e71ef32f-dbd8-412a-8b19-eb6e1602d0ac"
   },
   "outputs": [
    {
     "data": {
      "text/plain": [
       "(187142, 2)"
      ]
     },
     "execution_count": 20,
     "metadata": {},
     "output_type": "execute_result"
    }
   ],
   "source": [
    "data['comments'].nunique(), data['label'].nunique()"
   ]
  },
  {
   "cell_type": "code",
   "execution_count": 21,
   "metadata": {
    "colab": {
     "base_uri": "https://localhost:8080/"
    },
    "executionInfo": {
     "elapsed": 1159,
     "status": "ok",
     "timestamp": 1604906102016,
     "user": {
      "displayName": "조원우",
      "photoUrl": "",
      "userId": "11153319923813420173"
     },
     "user_tz": -540
    },
    "id": "ErP9BGIX1WHN",
    "outputId": "0044b88b-9389-4602-f8f2-51c8df50c619"
   },
   "outputs": [
    {
     "data": {
      "text/plain": [
       "(187143, 2)"
      ]
     },
     "execution_count": 21,
     "metadata": {},
     "output_type": "execute_result"
    }
   ],
   "source": [
    "data.drop_duplicates(subset=['comments'], inplace=True) # 중복 코멘트 제거\n",
    "data.shape"
   ]
  },
  {
   "cell_type": "code",
   "execution_count": 22,
   "metadata": {
    "colab": {
     "base_uri": "https://localhost:8080/"
    },
    "executionInfo": {
     "elapsed": 1495,
     "status": "ok",
     "timestamp": 1604906103184,
     "user": {
      "displayName": "조원우",
      "photoUrl": "",
      "userId": "11153319923813420173"
     },
     "user_tz": -540
    },
    "id": "iGQOtDjk1WHQ",
    "outputId": "fe5b0a58-4b61-4857-9047-aad8f522707c"
   },
   "outputs": [
    {
     "name": "stdout",
     "output_type": "stream",
     "text": [
      "총 샘플의 수 : 187143\n"
     ]
    }
   ],
   "source": [
    "print('총 샘플의 수 :',len(data))"
   ]
  },
  {
   "cell_type": "markdown",
   "metadata": {
    "id": "KwOBoC1t1WHV"
   },
   "source": [
    "#### 레이블 값의 분포"
   ]
  },
  {
   "cell_type": "code",
   "execution_count": 96,
   "metadata": {
    "colab": {
     "base_uri": "https://localhost:8080/",
     "height": 280
    },
    "executionInfo": {
     "elapsed": 1203,
     "status": "ok",
     "timestamp": 1604906104053,
     "user": {
      "displayName": "조원우",
      "photoUrl": "",
      "userId": "11153319923813420173"
     },
     "user_tz": -540
    },
    "id": "5RvVPaWy1WHW",
    "outputId": "2e2567e5-084b-4cec-8991-0f3c914e37f5"
   },
   "outputs": [
    {
     "data": {
      "text/plain": [
       "(0.0, 110000.0)"
      ]
     },
     "execution_count": 96,
     "metadata": {},
     "output_type": "execute_result"
    },
    {
     "data": {
      "image/png": "[encoded data removed]",
      "text/plain": [
       "<Figure size 432x288 with 1 Axes>"
      ]
     },
     "metadata": {
      "needs_background": "light"
     },
     "output_type": "display_data"
    }
   ],
   "source": [
    "data['label'].value_counts().plot(kind = 'bar')\n",
    "plt.ylabel('length of samples')\n",
    "plt.xlabel('none or hate')\n",
    "plt.ylim(top = 110000)"
   ]
  },
  {
   "cell_type": "code",
   "execution_count": 24,
   "metadata": {
    "colab": {
     "base_uri": "https://localhost:8080/"
    },
    "executionInfo": {
     "elapsed": 623,
     "status": "ok",
     "timestamp": 1604906104467,
     "user": {
      "displayName": "조원우",
      "photoUrl": "",
      "userId": "11153319923813420173"
     },
     "user_tz": -540
    },
    "id": "ANP5jvwo1WHb",
    "outputId": "d4416591-df10-4e1c-cd69-3ebe9c5d0c7d"
   },
   "outputs": [
    {
     "name": "stdout",
     "output_type": "stream",
     "text": [
      "   label  count\n",
      "0      0  97223\n",
      "1      1  89920\n"
     ]
    }
   ],
   "source": [
    "print(data.groupby('label').size().reset_index(name = 'count'))"
   ]
  },
  {
   "cell_type": "markdown",
   "metadata": {
    "id": "l9CrgOOn1WHg"
   },
   "source": [
    "### Null 값 제거"
   ]
  },
  {
   "cell_type": "code",
   "execution_count": 25,
   "metadata": {
    "colab": {
     "base_uri": "https://localhost:8080/"
    },
    "executionInfo": {
     "elapsed": 1084,
     "status": "ok",
     "timestamp": 1604906107283,
     "user": {
      "displayName": "조원우",
      "photoUrl": "",
      "userId": "11153319923813420173"
     },
     "user_tz": -540
    },
    "id": "B3ahSAD31WHh",
    "outputId": "3c02e3be-80c2-4ad4-bec2-84b12028f1aa"
   },
   "outputs": [
    {
     "name": "stdout",
     "output_type": "stream",
     "text": [
      "True\n"
     ]
    }
   ],
   "source": [
    "print(data.isnull().values.any())"
   ]
  },
  {
   "cell_type": "code",
   "execution_count": 26,
   "metadata": {
    "colab": {
     "base_uri": "https://localhost:8080/"
    },
    "executionInfo": {
     "elapsed": 1235,
     "status": "ok",
     "timestamp": 1604906108733,
     "user": {
      "displayName": "조원우",
      "photoUrl": "",
      "userId": "11153319923813420173"
     },
     "user_tz": -540
    },
    "id": "3neFBZD41WHj",
    "outputId": "0a9fe918-ae57-46e3-c50a-c1e3d2bd9dcd"
   },
   "outputs": [
    {
     "name": "stdout",
     "output_type": "stream",
     "text": [
      "comments    1\n",
      "label       0\n",
      "dtype: int64\n"
     ]
    }
   ],
   "source": [
    "print(data.isnull().sum())"
   ]
  },
  {
   "cell_type": "code",
   "execution_count": 27,
   "metadata": {
    "colab": {
     "base_uri": "https://localhost:8080/",
     "height": 80
    },
    "executionInfo": {
     "elapsed": 652,
     "status": "ok",
     "timestamp": 1604906108734,
     "user": {
      "displayName": "조원우",
      "photoUrl": "",
      "userId": "11153319923813420173"
     },
     "user_tz": -540
    },
    "id": "NFOr1oZ81WHm",
    "outputId": "e431c0c2-9ad7-45a0-f743-7424b3969b0d"
   },
   "outputs": [
    {
     "data": {
      "text/html": [
       "<div>\n",
       "<style scoped>\n",
       "    .dataframe tbody tr th:only-of-type {\n",
       "        vertical-align: middle;\n",
       "    }\n",
       "\n",
       "    .dataframe tbody tr th {\n",
       "        vertical-align: top;\n",
       "    }\n",
       "\n",
       "    .dataframe thead th {\n",
       "        text-align: right;\n",
       "    }\n",
       "</style>\n",
       "<table border=\"1\" class=\"dataframe\">\n",
       "  <thead>\n",
       "    <tr style=\"text-align: right;\">\n",
       "      <th></th>\n",
       "      <th>comments</th>\n",
       "      <th>label</th>\n",
       "    </tr>\n",
       "  </thead>\n",
       "  <tbody>\n",
       "    <tr>\n",
       "      <th>7807</th>\n",
       "      <td>NaN</td>\n",
       "      <td>0</td>\n",
       "    </tr>\n",
       "  </tbody>\n",
       "</table>\n",
       "</div>"
      ],
      "text/plain": [
       "     comments  label\n",
       "7807      NaN      0"
      ]
     },
     "execution_count": 27,
     "metadata": {},
     "output_type": "execute_result"
    }
   ],
   "source": [
    "data.loc[data.comments.isnull()]"
   ]
  },
  {
   "cell_type": "code",
   "execution_count": 28,
   "metadata": {
    "colab": {
     "base_uri": "https://localhost:8080/"
    },
    "executionInfo": {
     "elapsed": 1100,
     "status": "ok",
     "timestamp": 1604906109817,
     "user": {
      "displayName": "조원우",
      "photoUrl": "",
      "userId": "11153319923813420173"
     },
     "user_tz": -540
    },
    "id": "cRGoBcTr1WHo",
    "outputId": "c96e5f48-902d-4b04-ad2e-fead33e37e9b"
   },
   "outputs": [
    {
     "name": "stdout",
     "output_type": "stream",
     "text": [
      "False\n"
     ]
    }
   ],
   "source": [
    "data = data.dropna(how = 'any') # Null 값이 존재하는 행 제거\n",
    "print(data.isnull().values.any()) # Null 값이 존재하는지 확인"
   ]
  },
  {
   "cell_type": "code",
   "execution_count": 29,
   "metadata": {
    "colab": {
     "base_uri": "https://localhost:8080/"
    },
    "executionInfo": {
     "elapsed": 1769,
     "status": "ok",
     "timestamp": 1604906111315,
     "user": {
      "displayName": "조원우",
      "photoUrl": "",
      "userId": "11153319923813420173"
     },
     "user_tz": -540
    },
    "id": "67T7vrks1WHr",
    "outputId": "65632989-4d8e-4922-b687-ed58f15b0450"
   },
   "outputs": [
    {
     "name": "stdout",
     "output_type": "stream",
     "text": [
      "187142\n"
     ]
    }
   ],
   "source": [
    "print(len(data))"
   ]
  },
  {
   "cell_type": "markdown",
   "metadata": {
    "id": "Q0l-Lh9i1WHu"
   },
   "source": [
    "### 한글, 공백 제외 전처리"
   ]
  },
  {
   "cell_type": "code",
   "execution_count": 30,
   "metadata": {
    "colab": {
     "base_uri": "https://localhost:8080/",
     "height": 204
    },
    "executionInfo": {
     "elapsed": 1058,
     "status": "ok",
     "timestamp": 1604906115438,
     "user": {
      "displayName": "조원우",
      "photoUrl": "",
      "userId": "11153319923813420173"
     },
     "user_tz": -540
    },
    "id": "yJj_vCWr1WHv",
    "outputId": "ea36a5b5-8dee-4163-d775-4abdbe810984"
   },
   "outputs": [
    {
     "data": {
      "text/html": [
       "<div>\n",
       "<style scoped>\n",
       "    .dataframe tbody tr th:only-of-type {\n",
       "        vertical-align: middle;\n",
       "    }\n",
       "\n",
       "    .dataframe tbody tr th {\n",
       "        vertical-align: top;\n",
       "    }\n",
       "\n",
       "    .dataframe thead th {\n",
       "        text-align: right;\n",
       "    }\n",
       "</style>\n",
       "<table border=\"1\" class=\"dataframe\">\n",
       "  <thead>\n",
       "    <tr style=\"text-align: right;\">\n",
       "      <th></th>\n",
       "      <th>comments</th>\n",
       "      <th>label</th>\n",
       "    </tr>\n",
       "  </thead>\n",
       "  <tbody>\n",
       "    <tr>\n",
       "      <th>0</th>\n",
       "      <td>정말 재밌다 연기도 좋고 디카프리오 짱</td>\n",
       "      <td>0</td>\n",
       "    </tr>\n",
       "    <tr>\n",
       "      <th>1</th>\n",
       "      <td>심쿵심쿵 미치네요이수혁땜에 잠 못자겠어요ㅠ자꾸 아른거림ㅠ</td>\n",
       "      <td>0</td>\n",
       "    </tr>\n",
       "    <tr>\n",
       "      <th>2</th>\n",
       "      <td>하지만 이니후빨러들은 이런거 관심 하나도 없음</td>\n",
       "      <td>1</td>\n",
       "    </tr>\n",
       "    <tr>\n",
       "      <th>3</th>\n",
       "      <td>착한아이임당  용지 덮고</td>\n",
       "      <td>1</td>\n",
       "    </tr>\n",
       "    <tr>\n",
       "      <th>4</th>\n",
       "      <td>진짜 평점 믿으면 안된 다는 걸 현실로 보여주는 영화입니다 네티즌전문가 하나같이 영...</td>\n",
       "      <td>0</td>\n",
       "    </tr>\n",
       "  </tbody>\n",
       "</table>\n",
       "</div>"
      ],
      "text/plain": [
       "                                            comments  label\n",
       "0                              정말 재밌다 연기도 좋고 디카프리오 짱      0\n",
       "1                    심쿵심쿵 미치네요이수혁땜에 잠 못자겠어요ㅠ자꾸 아른거림ㅠ      0\n",
       "2                          하지만 이니후빨러들은 이런거 관심 하나도 없음      1\n",
       "3                                      착한아이임당  용지 덮고      1\n",
       "4  진짜 평점 믿으면 안된 다는 걸 현실로 보여주는 영화입니다 네티즌전문가 하나같이 영...      0"
      ]
     },
     "execution_count": 30,
     "metadata": {},
     "output_type": "execute_result"
    }
   ],
   "source": [
    "data['comments'] = data['comments'].str.replace(\"[^ㄱ-ㅎㅏ-ㅣ가-힣 ]\",\"\")\n",
    "data.head()"
   ]
  },
  {
   "cell_type": "code",
   "execution_count": 31,
   "metadata": {
    "colab": {
     "base_uri": "https://localhost:8080/"
    },
    "executionInfo": {
     "elapsed": 1023,
     "status": "ok",
     "timestamp": 1604906115856,
     "user": {
      "displayName": "조원우",
      "photoUrl": "",
      "userId": "11153319923813420173"
     },
     "user_tz": -540
    },
    "id": "XFW4hlEL1WHy",
    "outputId": "bd9d7d2d-c8ff-431e-c55b-f26714317684"
   },
   "outputs": [
    {
     "name": "stdout",
     "output_type": "stream",
     "text": [
      "comments    1021\n",
      "label          0\n",
      "dtype: int64\n"
     ]
    }
   ],
   "source": [
    "data['comments'] = data['comments'].str.strip()\n",
    "data['comments'].replace('', np.nan, inplace=True)\n",
    "print(data.isnull().sum())"
   ]
  },
  {
   "cell_type": "code",
   "execution_count": 32,
   "metadata": {
    "colab": {
     "base_uri": "https://localhost:8080/"
    },
    "executionInfo": {
     "elapsed": 1063,
     "status": "ok",
     "timestamp": 1604906116270,
     "user": {
      "displayName": "조원우",
      "photoUrl": "",
      "userId": "11153319923813420173"
     },
     "user_tz": -540
    },
    "id": "ao7EdMbK1WH1",
    "outputId": "712ef98e-9f0d-4579-ffb9-a86c8e244a5b"
   },
   "outputs": [
    {
     "name": "stdout",
     "output_type": "stream",
     "text": [
      "186121\n"
     ]
    }
   ],
   "source": [
    "data = data.dropna(how = 'any')\n",
    "print(len(data))"
   ]
  },
  {
   "cell_type": "markdown",
   "metadata": {
    "id": "qZFvstm61WH5"
   },
   "source": [
    "### 데이터 분리"
   ]
  },
  {
   "cell_type": "code",
   "execution_count": 33,
   "metadata": {
    "executionInfo": {
     "elapsed": 1102,
     "status": "ok",
     "timestamp": 1604906120146,
     "user": {
      "displayName": "조원우",
      "photoUrl": "",
      "userId": "11153319923813420173"
     },
     "user_tz": -540
    },
    "id": "J3L2-BMk1WH5"
   },
   "outputs": [],
   "source": [
    "train_data = data[:150000]\n",
    "test_data = data[150000:]\n",
    "\n",
    "train_data.to_csv(\"train_data.csv\", index=False)\n",
    "test_data.to_csv(\"test_data.csv\", index=False)"
   ]
  },
  {
   "cell_type": "code",
   "execution_count": 115,
   "metadata": {
    "executionInfo": {
     "elapsed": 1201,
     "status": "ok",
     "timestamp": 1604906120655,
     "user": {
      "displayName": "조원우",
      "photoUrl": "",
      "userId": "11153319923813420173"
     },
     "user_tz": -540
    },
    "id": "m6s1A15S1WH8",
    "scrolled": true
   },
   "outputs": [],
   "source": [
    "train_data = pd.read_csv(\"train_data.csv\")\n",
    "test_data = pd.read_csv(\"test_data.csv\")"
   ]
  },
  {
   "cell_type": "markdown",
   "metadata": {
    "id": "g8PY6dmu1WH_"
   },
   "source": [
    "## EDA"
   ]
  },
  {
   "cell_type": "markdown",
   "metadata": {
    "id": "aePY1I5G1WH_"
   },
   "source": [
    "### 워드클라우드\n",
    "* 긍정/부정 댓글에서 빈도수가 가장 높은 명사들을 시각화"
   ]
  },
  {
   "cell_type": "markdown",
   "metadata": {
    "id": "snfgoTRX1WH_"
   },
   "source": [
    "명사 추출 함수"
   ]
  },
  {
   "cell_type": "code",
   "execution_count": 40,
   "metadata": {
    "executionInfo": {
     "elapsed": 15592,
     "status": "ok",
     "timestamp": 1604906492941,
     "user": {
      "displayName": "조원우",
      "photoUrl": "",
      "userId": "11153319923813420173"
     },
     "user_tz": -540
    },
    "id": "tMTGslpV1WIA"
   },
   "outputs": [],
   "source": [
    "def get_nouns(data, label):\n",
    "    subset = data[data['label'] == label]\n",
    "    text = subset['comments']\n",
    "    \n",
    "    morphs = []\n",
    "    for sentence in text:\n",
    "        morphs.append(mecab.pos(sentence))\n",
    "\n",
    "    nouns = []\n",
    "    for morph in morphs:\n",
    "        for word, tag in morph:\n",
    "            if tag in ['Noun']:\n",
    "                nouns.append(word)\n",
    "    \n",
    "    count = Counter(nouns)\n",
    "    words = dict(count.most_common())\n",
    "    \n",
    "    return words\n",
    "\n",
    "positive = get_nouns(train_data, 0)\n",
    "negative = get_nouns(train_data, 1)"
   ]
  },
  {
   "cell_type": "markdown",
   "metadata": {
    "id": "APTMSRqR1WIC"
   },
   "source": [
    "워드 클라우드 생성 함수"
   ]
  },
  {
   "cell_type": "code",
   "execution_count": 43,
   "metadata": {
    "colab": {
     "base_uri": "https://localhost:8080/",
     "height": 376
    },
    "executionInfo": {
     "elapsed": 1413,
     "status": "error",
     "timestamp": 1604906634462,
     "user": {
      "displayName": "조원우",
      "photoUrl": "",
      "userId": "11153319923813420173"
     },
     "user_tz": -540
    },
    "id": "u0E7vecp1WID",
    "outputId": "b929c952-8f9f-4ebe-d2b0-9a54c4beab15"
   },
   "outputs": [
    {
     "ename": "FileNotFoundError",
     "evalue": "ignored",
     "output_type": "error",
     "traceback": [
      "\u001b[0;31m---------------------------------------------------------------------------\u001b[0m",
      "\u001b[0;31mFileNotFoundError\u001b[0m                         Traceback (most recent call last)",
      "\u001b[0;32m<ipython-input-43-ba832870b971>\u001b[0m in \u001b[0;36m<module>\u001b[0;34m()\u001b[0m\n\u001b[1;32m     17\u001b[0m \u001b[0;34m\u001b[0m\u001b[0m\n\u001b[1;32m     18\u001b[0m \u001b[0mstopwords\u001b[0m \u001b[0;34m=\u001b[0m \u001b[0;34m[\u001b[0m\u001b[0;34m'의'\u001b[0m\u001b[0;34m,\u001b[0m\u001b[0;34m'가'\u001b[0m\u001b[0;34m,\u001b[0m\u001b[0;34m'이'\u001b[0m\u001b[0;34m,\u001b[0m\u001b[0;34m'은'\u001b[0m\u001b[0;34m,\u001b[0m\u001b[0;34m'들'\u001b[0m\u001b[0;34m,\u001b[0m\u001b[0;34m'는'\u001b[0m\u001b[0;34m,\u001b[0m\u001b[0;34m'좀'\u001b[0m\u001b[0;34m,\u001b[0m\u001b[0;34m'잘'\u001b[0m\u001b[0;34m,\u001b[0m\u001b[0;34m'걍'\u001b[0m\u001b[0;34m,\u001b[0m\u001b[0;34m'과'\u001b[0m\u001b[0;34m,\u001b[0m\u001b[0;34m'도'\u001b[0m\u001b[0;34m,\u001b[0m\u001b[0;34m'를'\u001b[0m\u001b[0;34m,\u001b[0m\u001b[0;34m'으로'\u001b[0m\u001b[0;34m,\u001b[0m\u001b[0;34m'자'\u001b[0m\u001b[0;34m,\u001b[0m\u001b[0;34m'에'\u001b[0m\u001b[0;34m,\u001b[0m\u001b[0;34m'와'\u001b[0m\u001b[0;34m,\u001b[0m\u001b[0;34m'한'\u001b[0m\u001b[0;34m,\u001b[0m\u001b[0;34m'하다'\u001b[0m\u001b[0;34m]\u001b[0m\u001b[0;34m\u001b[0m\u001b[0;34m\u001b[0m\u001b[0m\n\u001b[0;32m---> 19\u001b[0;31m \u001b[0mgenerate_word_cloud\u001b[0m\u001b[0;34m(\u001b[0m\u001b[0mpositive\u001b[0m\u001b[0;34m,\u001b[0m \u001b[0;34m\"safe-zone\"\u001b[0m\u001b[0;34m,\u001b[0m \u001b[0;34m\"긍정 댓글 명사 빈도\"\u001b[0m\u001b[0;34m,\u001b[0m \u001b[0;34m\"viridis\"\u001b[0m\u001b[0;34m)\u001b[0m\u001b[0;34m\u001b[0m\u001b[0;34m\u001b[0m\u001b[0m\n\u001b[0m\u001b[1;32m     20\u001b[0m \u001b[0mgenerate_word_cloud\u001b[0m\u001b[0;34m(\u001b[0m\u001b[0mnegative\u001b[0m\u001b[0;34m,\u001b[0m \u001b[0;34m\"anger\"\u001b[0m\u001b[0;34m,\u001b[0m \u001b[0;34m\"부정 댓글 명사 빈도\"\u001b[0m\u001b[0;34m,\u001b[0m \u001b[0;34m\"hot\"\u001b[0m\u001b[0;34m)\u001b[0m\u001b[0;34m\u001b[0m\u001b[0;34m\u001b[0m\u001b[0m\n",
      "\u001b[0;32m<ipython-input-43-ba832870b971>\u001b[0m in \u001b[0;36mgenerate_word_cloud\u001b[0;34m(data, img, title, cmap)\u001b[0m\n\u001b[1;32m      1\u001b[0m \u001b[0;32mdef\u001b[0m \u001b[0mgenerate_word_cloud\u001b[0m\u001b[0;34m(\u001b[0m\u001b[0mdata\u001b[0m\u001b[0;34m,\u001b[0m \u001b[0mimg\u001b[0m\u001b[0;34m,\u001b[0m \u001b[0mtitle\u001b[0m\u001b[0;34m,\u001b[0m \u001b[0mcmap\u001b[0m\u001b[0;34m)\u001b[0m\u001b[0;34m:\u001b[0m\u001b[0;34m\u001b[0m\u001b[0;34m\u001b[0m\u001b[0m\n\u001b[0;32m----> 2\u001b[0;31m     \u001b[0mclean_mask\u001b[0m \u001b[0;34m=\u001b[0m \u001b[0mnp\u001b[0m\u001b[0;34m.\u001b[0m\u001b[0marray\u001b[0m\u001b[0;34m(\u001b[0m\u001b[0mImage\u001b[0m\u001b[0;34m.\u001b[0m\u001b[0mopen\u001b[0m\u001b[0;34m(\u001b[0m\u001b[0mstr\u001b[0m\u001b[0;34m(\u001b[0m\u001b[0mimg\u001b[0m\u001b[0;34m)\u001b[0m \u001b[0;34m+\u001b[0m \u001b[0;34m\".png\"\u001b[0m\u001b[0;34m)\u001b[0m\u001b[0;34m)\u001b[0m\u001b[0;34m\u001b[0m\u001b[0;34m\u001b[0m\u001b[0m\n\u001b[0m\u001b[1;32m      3\u001b[0m     \u001b[0mclean_mask\u001b[0m \u001b[0;34m=\u001b[0m \u001b[0mclean_mask\u001b[0m\u001b[0;34m[\u001b[0m\u001b[0;34m:\u001b[0m\u001b[0;34m,\u001b[0m\u001b[0;34m:\u001b[0m\u001b[0;34m,\u001b[0m\u001b[0;36m1\u001b[0m\u001b[0;34m]\u001b[0m\u001b[0;34m\u001b[0m\u001b[0;34m\u001b[0m\u001b[0m\n\u001b[1;32m      4\u001b[0m \u001b[0;34m\u001b[0m\u001b[0m\n\u001b[1;32m      5\u001b[0m     wc = WordCloud(font_path ='NanumGothic.ttf', \n",
      "\u001b[0;32m/usr/local/lib/python3.6/dist-packages/PIL/Image.py\u001b[0m in \u001b[0;36mopen\u001b[0;34m(fp, mode)\u001b[0m\n\u001b[1;32m   2807\u001b[0m \u001b[0;34m\u001b[0m\u001b[0m\n\u001b[1;32m   2808\u001b[0m     \u001b[0;32mif\u001b[0m \u001b[0mfilename\u001b[0m\u001b[0;34m:\u001b[0m\u001b[0;34m\u001b[0m\u001b[0;34m\u001b[0m\u001b[0m\n\u001b[0;32m-> 2809\u001b[0;31m         \u001b[0mfp\u001b[0m \u001b[0;34m=\u001b[0m \u001b[0mbuiltins\u001b[0m\u001b[0;34m.\u001b[0m\u001b[0mopen\u001b[0m\u001b[0;34m(\u001b[0m\u001b[0mfilename\u001b[0m\u001b[0;34m,\u001b[0m \u001b[0;34m\"rb\"\u001b[0m\u001b[0;34m)\u001b[0m\u001b[0;34m\u001b[0m\u001b[0;34m\u001b[0m\u001b[0m\n\u001b[0m\u001b[1;32m   2810\u001b[0m         \u001b[0mexclusive_fp\u001b[0m \u001b[0;34m=\u001b[0m \u001b[0;32mTrue\u001b[0m\u001b[0;34m\u001b[0m\u001b[0;34m\u001b[0m\u001b[0m\n\u001b[1;32m   2811\u001b[0m \u001b[0;34m\u001b[0m\u001b[0m\n",
      "\u001b[0;31mFileNotFoundError\u001b[0m: [Errno 2] No such file or directory: 'safe-zone.png'"
     ]
    }
   ],
   "source": [
    "def generate_word_cloud(data, img, title, cmap):\n",
    "    clean_mask = np.array(Image.open(str(img) + \".png\"))\n",
    "    clean_mask = clean_mask[:,:,1]\n",
    "\n",
    "    wc = WordCloud(font_path ='NanumGothic.ttf', \n",
    "                   background_color =\"black\",\n",
    "                   max_words = 2000,\n",
    "                   mask = clean_mask,\n",
    "                   stopwords = stopwords)\n",
    "\n",
    "    wc.generate(\" \".join(data))\n",
    "    plt.figure(figsize = (20, 10))\n",
    "    plt.axis(\"off\")\n",
    "    plt.title(title, fontsize = 30)\n",
    "    plt.imshow(wc.recolor(colormap = cmap, random_state = 17), alpha = 0.98)\n",
    "    plt.savefig(title + \".png\")\n",
    "\n",
    "stopwords = ['의','가','이','은','들','는','좀','잘','걍','과','도','를','으로','자','에','와','한','하다']\n",
    "generate_word_cloud(positive, \"safe-zone\", \"긍정 댓글 명사 빈도\", \"viridis\")\n",
    "generate_word_cloud(negative, \"anger\", \"부정 댓글 명사 빈도\", \"hot\")"
   ]
  },
  {
   "cell_type": "markdown",
   "metadata": {
    "id": "ZxFYbD8V1WIF"
   },
   "source": [
    "## 토큰화"
   ]
  },
  {
   "cell_type": "code",
   "execution_count": 116,
   "metadata": {
    "executionInfo": {
     "elapsed": 1065,
     "status": "ok",
     "timestamp": 1604906678542,
     "user": {
      "displayName": "조원우",
      "photoUrl": "",
      "userId": "11153319923813420173"
     },
     "user_tz": -540
    },
    "id": "ImkLJhcu1WIG"
   },
   "outputs": [],
   "source": [
    "stopwords = ['의','가','이','은','들','는','좀','잘','걍','과','도','를','으로','자','에','와','한','하다']"
   ]
  },
  {
   "cell_type": "code",
   "execution_count": 117,
   "metadata": {
    "executionInfo": {
     "elapsed": 15743,
     "status": "ok",
     "timestamp": 1604906717697,
     "user": {
      "displayName": "조원우",
      "photoUrl": "",
      "userId": "11153319923813420173"
     },
     "user_tz": -540
    },
    "id": "yEMqvLYA1WII"
   },
   "outputs": [],
   "source": [
    "okt=Okt()\n",
    "X_train = []\n",
    "for sentence in train_data['comments']:\n",
    "    temp_X = []\n",
    "    temp_X = okt.morphs(sentence,) # 토큰화\n",
    "    temp_X = [word for word in temp_X if not word in stopwords] # 불용어 제거\n",
    "    X_train.append(temp_X)"
   ]
  },
  {
   "cell_type": "code",
   "execution_count": 118,
   "metadata": {},
   "outputs": [
    {
     "data": {
      "text/plain": [
       "['정말', '재밌다', '연기', '좋고', '디카프리오', '짱']"
      ]
     },
     "execution_count": 118,
     "metadata": {},
     "output_type": "execute_result"
    }
   ],
   "source": [
    "X_train[0]"
   ]
  },
  {
   "cell_type": "code",
   "execution_count": 119,
   "metadata": {
    "colab": {
     "base_uri": "https://localhost:8080/"
    },
    "executionInfo": {
     "elapsed": 1077,
     "status": "ok",
     "timestamp": 1604906730210,
     "user": {
      "displayName": "조원우",
      "photoUrl": "",
      "userId": "11153319923813420173"
     },
     "user_tz": -540
    },
    "id": "TJfz10s91WIL",
    "outputId": "538d3e41-ea72-43ef-fc6e-a2aa19536787"
   },
   "outputs": [
    {
     "name": "stdout",
     "output_type": "stream",
     "text": [
      "['정말', '재밌다', '연기', '좋고', '디카프리오', '짱']\n"
     ]
    }
   ],
   "source": [
    "print(X_train[0])"
   ]
  },
  {
   "cell_type": "code",
   "execution_count": 120,
   "metadata": {
    "executionInfo": {
     "elapsed": 4447,
     "status": "ok",
     "timestamp": 1604906748283,
     "user": {
      "displayName": "조원우",
      "photoUrl": "",
      "userId": "11153319923813420173"
     },
     "user_tz": -540
    },
    "id": "_ys5JAk01WIP"
   },
   "outputs": [
    {
     "ename": "NameError",
     "evalue": "name 'mecab' is not defined",
     "output_type": "error",
     "traceback": [
      "\u001b[1;31m---------------------------------------------------------------------------\u001b[0m",
      "\u001b[1;31mNameError\u001b[0m                                 Traceback (most recent call last)",
      "\u001b[1;32m<ipython-input-120-712116ce76ee>\u001b[0m in \u001b[0;36m<module>\u001b[1;34m\u001b[0m\n\u001b[0;32m      2\u001b[0m \u001b[1;32mfor\u001b[0m \u001b[0msentence\u001b[0m \u001b[1;32min\u001b[0m \u001b[0mtest_data\u001b[0m\u001b[1;33m[\u001b[0m\u001b[1;34m'comments'\u001b[0m\u001b[1;33m]\u001b[0m\u001b[1;33m:\u001b[0m\u001b[1;33m\u001b[0m\u001b[1;33m\u001b[0m\u001b[0m\n\u001b[0;32m      3\u001b[0m     \u001b[0mtemp_X\u001b[0m \u001b[1;33m=\u001b[0m \u001b[1;33m[\u001b[0m\u001b[1;33m]\u001b[0m\u001b[1;33m\u001b[0m\u001b[1;33m\u001b[0m\u001b[0m\n\u001b[1;32m----> 4\u001b[1;33m     \u001b[0mtemp_X\u001b[0m \u001b[1;33m=\u001b[0m \u001b[0mmecab\u001b[0m\u001b[1;33m.\u001b[0m\u001b[0mmorphs\u001b[0m\u001b[1;33m(\u001b[0m\u001b[0msentence\u001b[0m\u001b[1;33m)\u001b[0m \u001b[1;31m# 토큰화\u001b[0m\u001b[1;33m\u001b[0m\u001b[1;33m\u001b[0m\u001b[0m\n\u001b[0m\u001b[0;32m      5\u001b[0m     \u001b[0mtemp_X\u001b[0m \u001b[1;33m=\u001b[0m \u001b[1;33m[\u001b[0m\u001b[0mword\u001b[0m \u001b[1;32mfor\u001b[0m \u001b[0mword\u001b[0m \u001b[1;32min\u001b[0m \u001b[0mtemp_X\u001b[0m \u001b[1;32mif\u001b[0m \u001b[1;32mnot\u001b[0m \u001b[0mword\u001b[0m \u001b[1;32min\u001b[0m \u001b[0mstopwords\u001b[0m\u001b[1;33m]\u001b[0m \u001b[1;31m# 불용어 제거\u001b[0m\u001b[1;33m\u001b[0m\u001b[1;33m\u001b[0m\u001b[0m\n\u001b[0;32m      6\u001b[0m     \u001b[0mX_test\u001b[0m\u001b[1;33m.\u001b[0m\u001b[0mappend\u001b[0m\u001b[1;33m(\u001b[0m\u001b[0mtemp_X\u001b[0m\u001b[1;33m)\u001b[0m\u001b[1;33m\u001b[0m\u001b[1;33m\u001b[0m\u001b[0m\n",
      "\u001b[1;31mNameError\u001b[0m: name 'mecab' is not defined"
     ]
    }
   ],
   "source": [
    "X_test = []\n",
    "for sentence in test_data['comments']:\n",
    "    temp_X = []\n",
    "    temp_X = mecab.morphs(sentence) # 토큰화\n",
    "    temp_X = [word for word in temp_X if not word in stopwords] # 불용어 제거\n",
    "    X_test.append(temp_X)"
   ]
  },
  {
   "cell_type": "code",
   "execution_count": 52,
   "metadata": {
    "colab": {
     "base_uri": "https://localhost:8080/"
    },
    "executionInfo": {
     "elapsed": 3252,
     "status": "ok",
     "timestamp": 1604906748287,
     "user": {
      "displayName": "조원우",
      "photoUrl": "",
      "userId": "11153319923813420173"
     },
     "user_tz": -540
    },
    "id": "NPNe2Dww1WIR",
    "outputId": "f5c8cfb2-7c80-41f7-ef27-0c68da2a7d38"
   },
   "outputs": [
    {
     "name": "stdout",
     "output_type": "stream",
     "text": [
      "['문채원', '짱', '너무나', '사랑', '스럽', '고', '귀엽', '고', '문채원', '매력', '푹', '빠져', '보', '세요']\n"
     ]
    }
   ],
   "source": [
    "print(X_test[0])"
   ]
  },
  {
   "cell_type": "code",
   "execution_count": 169,
   "metadata": {
    "executionInfo": {
     "elapsed": 2214,
     "status": "ok",
     "timestamp": 1604906763140,
     "user": {
      "displayName": "조원우",
      "photoUrl": "",
      "userId": "11153319923813420173"
     },
     "user_tz": -540
    },
    "id": "P580cdyS1WIT"
   },
   "outputs": [],
   "source": [
    "with open(\"data/khaiii_train.pkl\", \"wb\") as f:\n",
    "    pickle.dump(X_train, f)\n",
    "    \n",
    "with open(\"data/khaiii_test.pkl\", \"wb\") as f:\n",
    "     pickle.dump(X_test, f)"
   ]
  },
  {
   "cell_type": "markdown",
   "metadata": {
    "id": "GSozx0Zk1WIV"
   },
   "source": [
    "# 여기서 시작 ---------------------------------------------------------"
   ]
  },
  {
   "cell_type": "code",
   "execution_count": 38,
   "metadata": {
    "id": "ObmlFMh31WIV"
   },
   "outputs": [],
   "source": [
    "import re\n",
    "import pickle\n",
    "import pandas as pd\n",
    "import numpy as np\n",
    "%matplotlib inline\n",
    "import matplotlib.pyplot as plt\n",
    "from PIL import Image\n",
    "from konlpy.tag import Okt\n",
    "from wordcloud import WordCloud\n",
    "from tensorflow.keras.preprocessing.text import Tokenizer\n",
    "from tensorflow.keras.preprocessing.sequence import pad_sequences"
   ]
  },
  {
   "cell_type": "code",
   "execution_count": 39,
   "metadata": {},
   "outputs": [],
   "source": [
    "with open(\"data/okt_train.pkl\", \"rb\") as f:\n",
    "    X_train = pickle.load(f)\n",
    "    \n",
    "with open(\"data/okt_test.pkl\", \"rb\") as f:\n",
    "    X_test = pickle.load(f)"
   ]
  },
  {
   "cell_type": "code",
   "execution_count": 40,
   "metadata": {},
   "outputs": [
    {
     "name": "stdout",
     "output_type": "stream",
     "text": [
      "36121 150000\n"
     ]
    }
   ],
   "source": [
    "print(len(X_test),len(X_train))"
   ]
  },
  {
   "cell_type": "code",
   "execution_count": 41,
   "metadata": {
    "id": "jXTtxkRQ1WIc"
   },
   "outputs": [],
   "source": [
    "train_data = pd.read_csv(\"data/train_data.csv\")\n",
    "test_data = pd.read_csv(\"data/test_data.csv\")"
   ]
  },
  {
   "cell_type": "markdown",
   "metadata": {
    "id": "RleDW4hB1WIe"
   },
   "source": [
    "## 정수 인코딩"
   ]
  },
  {
   "cell_type": "code",
   "execution_count": 42,
   "metadata": {
    "id": "gGoaNwuN1WIe"
   },
   "outputs": [],
   "source": [
    "tokenizer = Tokenizer()\n",
    "tokenizer.fit_on_texts(X_train)"
   ]
  },
  {
   "cell_type": "code",
   "execution_count": 43,
   "metadata": {
    "id": "gVxVHfmu1WIg",
    "outputId": "5322717b-a3a5-47ee-c2d4-41cd2f82850e"
   },
   "outputs": [
    {
     "name": "stdout",
     "output_type": "stream",
     "text": [
      "56246\n"
     ]
    }
   ],
   "source": [
    "print(len(tokenizer.word_index))"
   ]
  },
  {
   "cell_type": "code",
   "execution_count": 44,
   "metadata": {
    "id": "EaYO5S8a1WIi",
    "outputId": "1de3e469-d096-46ff-c325-ac457d190bf1"
   },
   "outputs": [
    {
     "name": "stdout",
     "output_type": "stream",
     "text": [
      "단어 집합(vocabulary)의 크기 : 56246\n",
      "등장 빈도가 2번 이하인 희귀 단어의 수: 31118\n",
      "단어 집합에서 희귀 단어의 비율: 55.32482309853145\n",
      "전체 등장 빈도에서 희귀 단어 등장 빈도 비율: 2.119818367596178\n"
     ]
    }
   ],
   "source": [
    "threshold = 3\n",
    "total_cnt = len(tokenizer.word_index) # 단어의 수\n",
    "rare_cnt = 0 # 등장 빈도수가 threshold보다 작은 단어의 개수를 카운트\n",
    "total_freq = 0 # 훈련 데이터의 전체 단어 빈도수 총 합\n",
    "rare_freq = 0 # 등장 빈도수가 threshold보다 작은 단어의 등장 빈도수의 총 합\n",
    "\n",
    "# 단어와 빈도수의 쌍(pair)을 key와 value로 받는다.\n",
    "for key, value in tokenizer.word_counts.items():\n",
    "    total_freq = total_freq + value\n",
    "\n",
    "    # 단어의 등장 빈도수가 threshold보다 작으면\n",
    "    if(value < threshold):\n",
    "        rare_cnt = rare_cnt + 1\n",
    "        rare_freq = rare_freq + value\n",
    "\n",
    "print('단어 집합(vocabulary)의 크기 :',total_cnt)\n",
    "print('등장 빈도가 %s번 이하인 희귀 단어의 수: %s'%(threshold - 1, rare_cnt))\n",
    "print(\"단어 집합에서 희귀 단어의 비율:\", (rare_cnt / total_cnt)*100)\n",
    "print(\"전체 등장 빈도에서 희귀 단어 등장 빈도 비율:\", (rare_freq / total_freq)*100)"
   ]
  },
  {
   "cell_type": "code",
   "execution_count": 45,
   "metadata": {
    "id": "4_7YvyGC1WIk",
    "outputId": "99348f0a-1dab-4692-ceb8-c7fab393dcae"
   },
   "outputs": [
    {
     "name": "stdout",
     "output_type": "stream",
     "text": [
      "단어 집합의 크기 : 25130\n"
     ]
    }
   ],
   "source": [
    "vocab_size = total_cnt - rare_cnt + 2\n",
    "print('단어 집합의 크기 :',vocab_size)"
   ]
  },
  {
   "cell_type": "code",
   "execution_count": 46,
   "metadata": {
    "id": "Ri7D-xW31WIp"
   },
   "outputs": [],
   "source": [
    "tokenizer = Tokenizer(vocab_size, oov_token = 'OOV') \n",
    "tokenizer.fit_on_texts(X_train)\n",
    "X_train = tokenizer.texts_to_sequences(X_train)\n",
    "X_test = tokenizer.texts_to_sequences(X_test)"
   ]
  },
  {
   "cell_type": "code",
   "execution_count": 47,
   "metadata": {
    "id": "hH2lsgyg1WIt",
    "outputId": "1d1166a9-7ce1-4388-93ea-da96bbf5d2bb"
   },
   "outputs": [
    {
     "name": "stdout",
     "output_type": "stream",
     "text": [
      "[[21, 17, 54, 8, 3090, 130], [21036, 216, 13736, 1235, 2155, 3000, 305, 1069, 9532, 305], [368, 6, 320, 447, 51, 67, 698, 98, 10]]\n"
     ]
    }
   ],
   "source": [
    "print(X_train[:3])"
   ]
  },
  {
   "cell_type": "code",
   "execution_count": 48,
   "metadata": {
    "id": "kKFmMVDT1WIx"
   },
   "outputs": [],
   "source": [
    "y_train = np.array(train_data['label'])\n",
    "y_test = np.array(test_data['label'])"
   ]
  },
  {
   "cell_type": "markdown",
   "metadata": {
    "id": "bx_HFC5J1WI1"
   },
   "source": [
    "## 빈 샘플 제거"
   ]
  },
  {
   "cell_type": "code",
   "execution_count": 49,
   "metadata": {
    "id": "gWF4Cx931WI2",
    "outputId": "3fcf23f4-997b-40a2-ea98-b6ee136a567c"
   },
   "outputs": [
    {
     "data": {
      "text/plain": [
       "15"
      ]
     },
     "execution_count": 49,
     "metadata": {},
     "output_type": "execute_result"
    }
   ],
   "source": [
    "drop_train = [index for index, sentence in enumerate(X_train) if len(sentence) < 1]\n",
    "len(drop_train)"
   ]
  },
  {
   "cell_type": "code",
   "execution_count": 50,
   "metadata": {
    "id": "3r1fA7TF1WI5",
    "outputId": "0ba233f8-8ce8-4bc2-bb9f-1f32c66a35a8"
   },
   "outputs": [
    {
     "name": "stdout",
     "output_type": "stream",
     "text": [
      "149985\n",
      "149985\n"
     ]
    }
   ],
   "source": [
    "# 빈 샘플들을 제거\n",
    "X_train = np.delete(X_train, drop_train, axis=0)\n",
    "y_train = np.delete(y_train, drop_train, axis=0)\n",
    "print(len(X_train))\n",
    "print(len(y_train))"
   ]
  },
  {
   "cell_type": "markdown",
   "metadata": {
    "id": "HWsBS_2s1WI8"
   },
   "source": [
    "## 패딩"
   ]
  },
  {
   "cell_type": "code",
   "execution_count": 51,
   "metadata": {
    "id": "1ppVV1rE1WI9",
    "outputId": "2a41358d-f30a-414e-f9aa-bc0490526b7d"
   },
   "outputs": [
    {
     "name": "stdout",
     "output_type": "stream",
     "text": [
      "리뷰의 최대 길이 : 468\n",
      "리뷰의 평균 길이 : 12.065133179984665\n"
     ]
    },
    {
     "data": {
      "image/png": "[encoded data removed]",
      "text/plain": [
       "<Figure size 432x288 with 1 Axes>"
      ]
     },
     "metadata": {
      "needs_background": "light"
     },
     "output_type": "display_data"
    }
   ],
   "source": [
    "print('리뷰의 최대 길이 :',max(len(l) for l in X_train))\n",
    "print('리뷰의 평균 길이 :',sum(map(len, X_train))/len(X_train))\n",
    "plt.hist([len(s) for s in X_train], bins=50)\n",
    "plt.xlabel('length of samples')\n",
    "plt.ylabel('number of samples')\n",
    "plt.show()"
   ]
  },
  {
   "cell_type": "code",
   "execution_count": 52,
   "metadata": {
    "id": "WF_Uf6pi1WJC"
   },
   "outputs": [],
   "source": [
    "def below_threshold_len(max_len, nested_list):\n",
    "    cnt = 0\n",
    "    for s in nested_list:\n",
    "        if(len(s) <= max_len):\n",
    "            cnt = cnt + 1\n",
    "    print('전체 샘플 중 길이가 %s 이하인 샘플의 비율: %s'%(max_len, (cnt / len(nested_list))*100))"
   ]
  },
  {
   "cell_type": "code",
   "execution_count": 53,
   "metadata": {
    "id": "8GYbZRNd1WJG",
    "outputId": "66679017-bd35-4b7f-f5ac-12b709313368"
   },
   "outputs": [
    {
     "name": "stdout",
     "output_type": "stream",
     "text": [
      "전체 샘플 중 길이가 50 이하인 샘플의 비율: 98.35716905023835\n"
     ]
    }
   ],
   "source": [
    "max_len = 50\n",
    "below_threshold_len(max_len, X_train)"
   ]
  },
  {
   "cell_type": "code",
   "execution_count": 54,
   "metadata": {
    "id": "uoX9s4-S1WJJ"
   },
   "outputs": [],
   "source": [
    "X_train = pad_sequences(X_train, maxlen = max_len)\n",
    "X_test = pad_sequences(X_test, maxlen = max_len)"
   ]
  },
  {
   "cell_type": "code",
   "execution_count": 55,
   "metadata": {},
   "outputs": [
    {
     "data": {
      "text/plain": [
       "(149985, 50)"
      ]
     },
     "execution_count": 55,
     "metadata": {},
     "output_type": "execute_result"
    }
   ],
   "source": [
    "X_train.shape"
   ]
  },
  {
   "cell_type": "code",
   "execution_count": 57,
   "metadata": {},
   "outputs": [
    {
     "data": {
      "text/plain": [
       "array([   0,    0,    0,    0,    0,    0,    0,    0,    0,    0,    0,\n",
       "          0,    0,    0,    0,    0,    0,    0,    0,    0,    0,    0,\n",
       "          0,    0,    0,    0,    0,    0,    0,    0,    0,    0,    0,\n",
       "          0,    0,    0,    0,    0,    0,    0,    0,    0,    0,    0,\n",
       "         21,   17,   54,    8, 3090,  130])"
      ]
     },
     "execution_count": 57,
     "metadata": {},
     "output_type": "execute_result"
    }
   ],
   "source": [
    "X_train[0]"
   ]
  },
  {
   "cell_type": "code",
   "execution_count": 75,
   "metadata": {},
   "outputs": [],
   "source": [
    "import collections, numpy"
   ]
  },
  {
   "cell_type": "code",
   "execution_count": 98,
   "metadata": {
    "scrolled": true
   },
   "outputs": [
    {
     "name": "stdout",
     "output_type": "stream",
     "text": [
      "Counter({0: 78008, 1: 71977})\n",
      "Counter({0: 18550, 1: 17571})\n"
     ]
    }
   ],
   "source": [
    "train_y= collections.Counter(y_train)\n",
    "test_y = collections.Counter(y_test)\n",
    "print(train_y)\n",
    "print(test_y)"
   ]
  },
  {
   "cell_type": "code",
   "execution_count": 107,
   "metadata": {},
   "outputs": [
    {
     "data": {
      "text/html": [
       "<div>\n",
       "<style scoped>\n",
       "    .dataframe tbody tr th:only-of-type {\n",
       "        vertical-align: middle;\n",
       "    }\n",
       "\n",
       "    .dataframe tbody tr th {\n",
       "        vertical-align: top;\n",
       "    }\n",
       "\n",
       "    .dataframe thead th {\n",
       "        text-align: right;\n",
       "    }\n",
       "</style>\n",
       "<table border=\"1\" class=\"dataframe\">\n",
       "  <thead>\n",
       "    <tr style=\"text-align: right;\">\n",
       "      <th></th>\n",
       "      <th>0</th>\n",
       "      <th>1</th>\n",
       "    </tr>\n",
       "  </thead>\n",
       "  <tbody>\n",
       "    <tr>\n",
       "      <th>Train</th>\n",
       "      <td>78008</td>\n",
       "      <td>71977</td>\n",
       "    </tr>\n",
       "    <tr>\n",
       "      <th>Test</th>\n",
       "      <td>18550</td>\n",
       "      <td>17571</td>\n",
       "    </tr>\n",
       "  </tbody>\n",
       "</table>\n",
       "</div>"
      ],
      "text/plain": [
       "           0      1\n",
       "Train  78008  71977\n",
       "Test   18550  17571"
      ]
     },
     "execution_count": 107,
     "metadata": {},
     "output_type": "execute_result"
    }
   ],
   "source": [
    "df = pd.DataFrame([[78008, 71977], [18550, 17571]],index = ['Train', 'Test'], columns = [0, 1])\n",
    "df"
   ]
  },
  {
   "cell_type": "code",
   "execution_count": 113,
   "metadata": {},
   "outputs": [
    {
     "data": {
      "text/plain": [
       "(0.0, 110000.0)"
      ]
     },
     "execution_count": 113,
     "metadata": {},
     "output_type": "execute_result"
    },
    {
     "data": {
      "image/png": "[encoded data removed]",
      "text/plain": [
       "<Figure size 432x288 with 1 Axes>"
      ]
     },
     "metadata": {
      "needs_background": "light"
     },
     "output_type": "display_data"
    }
   ],
   "source": [
    "df.plot(kind='bar')\n",
    "plt.ylabel('length of samples')\n",
    "plt.xticks(rotation = 0)\n",
    "plt.ylim(top = 110000)"
   ]
  },
  {
   "cell_type": "code",
   "execution_count": 97,
   "metadata": {
    "scrolled": true
   },
   "outputs": [
    {
     "data": {
      "text/plain": [
       "(0.0, 110000.0)"
      ]
     },
     "execution_count": 97,
     "metadata": {},
     "output_type": "execute_result"
    },
    {
     "data": {
      "image/png": "[encoded data removed]",
      "text/plain": [
       "<Figure size 432x288 with 1 Axes>"
      ]
     },
     "metadata": {
      "needs_background": "light"
     },
     "output_type": "display_data"
    }
   ],
   "source": [
    "plt.bar(x1,y1,width=0.5)\n",
    "plt.xticks(rotation=90)\n",
    "plt.ylabel('length of samples')\n",
    "plt.xlabel('none or hate')\n",
    "plt.ylim(top = 110000)"
   ]
  },
  {
   "cell_type": "code",
   "execution_count": 99,
   "metadata": {
    "scrolled": true
   },
   "outputs": [
    {
     "ename": "ValueError",
     "evalue": "shape mismatch: objects cannot be broadcast to a single shape",
     "output_type": "error",
     "traceback": [
      "\u001b[1;31m---------------------------------------------------------------------------\u001b[0m",
      "\u001b[1;31mValueError\u001b[0m                                Traceback (most recent call last)",
      "\u001b[1;32m<ipython-input-99-bd3c9a491283>\u001b[0m in \u001b[0;36m<module>\u001b[1;34m\u001b[0m\n\u001b[0;32m     12\u001b[0m \u001b[1;33m\u001b[0m\u001b[0m\n\u001b[0;32m     13\u001b[0m \u001b[0max\u001b[0m \u001b[1;33m=\u001b[0m \u001b[0mplt\u001b[0m\u001b[1;33m.\u001b[0m\u001b[0msubplot\u001b[0m\u001b[1;33m(\u001b[0m\u001b[1;33m)\u001b[0m\u001b[1;33m\u001b[0m\u001b[1;33m\u001b[0m\u001b[0m\n\u001b[1;32m---> 14\u001b[1;33m \u001b[0max\u001b[0m\u001b[1;33m.\u001b[0m\u001b[0mbar\u001b[0m\u001b[1;33m(\u001b[0m\u001b[0mvalue_a_x\u001b[0m\u001b[1;33m,\u001b[0m \u001b[0mvalue_a\u001b[0m\u001b[1;33m)\u001b[0m\u001b[1;33m\u001b[0m\u001b[1;33m\u001b[0m\u001b[0m\n\u001b[0m\u001b[0;32m     15\u001b[0m \u001b[0max\u001b[0m\u001b[1;33m.\u001b[0m\u001b[0mbar\u001b[0m\u001b[1;33m(\u001b[0m\u001b[0mvalue_b_x\u001b[0m\u001b[1;33m,\u001b[0m \u001b[0mvalue_b\u001b[0m\u001b[1;33m)\u001b[0m\u001b[1;33m\u001b[0m\u001b[1;33m\u001b[0m\u001b[0m\n\u001b[0;32m     16\u001b[0m \u001b[1;33m\u001b[0m\u001b[0m\n",
      "\u001b[1;32m~\\anaconda3\\lib\\site-packages\\matplotlib\\__init__.py\u001b[0m in \u001b[0;36minner\u001b[1;34m(ax, data, *args, **kwargs)\u001b[0m\n\u001b[0;32m   1563\u001b[0m     \u001b[1;32mdef\u001b[0m \u001b[0minner\u001b[0m\u001b[1;33m(\u001b[0m\u001b[0max\u001b[0m\u001b[1;33m,\u001b[0m \u001b[1;33m*\u001b[0m\u001b[0margs\u001b[0m\u001b[1;33m,\u001b[0m \u001b[0mdata\u001b[0m\u001b[1;33m=\u001b[0m\u001b[1;32mNone\u001b[0m\u001b[1;33m,\u001b[0m \u001b[1;33m**\u001b[0m\u001b[0mkwargs\u001b[0m\u001b[1;33m)\u001b[0m\u001b[1;33m:\u001b[0m\u001b[1;33m\u001b[0m\u001b[1;33m\u001b[0m\u001b[0m\n\u001b[0;32m   1564\u001b[0m         \u001b[1;32mif\u001b[0m \u001b[0mdata\u001b[0m \u001b[1;32mis\u001b[0m \u001b[1;32mNone\u001b[0m\u001b[1;33m:\u001b[0m\u001b[1;33m\u001b[0m\u001b[1;33m\u001b[0m\u001b[0m\n\u001b[1;32m-> 1565\u001b[1;33m             \u001b[1;32mreturn\u001b[0m \u001b[0mfunc\u001b[0m\u001b[1;33m(\u001b[0m\u001b[0max\u001b[0m\u001b[1;33m,\u001b[0m \u001b[1;33m*\u001b[0m\u001b[0mmap\u001b[0m\u001b[1;33m(\u001b[0m\u001b[0msanitize_sequence\u001b[0m\u001b[1;33m,\u001b[0m \u001b[0margs\u001b[0m\u001b[1;33m)\u001b[0m\u001b[1;33m,\u001b[0m \u001b[1;33m**\u001b[0m\u001b[0mkwargs\u001b[0m\u001b[1;33m)\u001b[0m\u001b[1;33m\u001b[0m\u001b[1;33m\u001b[0m\u001b[0m\n\u001b[0m\u001b[0;32m   1566\u001b[0m \u001b[1;33m\u001b[0m\u001b[0m\n\u001b[0;32m   1567\u001b[0m         \u001b[0mbound\u001b[0m \u001b[1;33m=\u001b[0m \u001b[0mnew_sig\u001b[0m\u001b[1;33m.\u001b[0m\u001b[0mbind\u001b[0m\u001b[1;33m(\u001b[0m\u001b[0max\u001b[0m\u001b[1;33m,\u001b[0m \u001b[1;33m*\u001b[0m\u001b[0margs\u001b[0m\u001b[1;33m,\u001b[0m \u001b[1;33m**\u001b[0m\u001b[0mkwargs\u001b[0m\u001b[1;33m)\u001b[0m\u001b[1;33m\u001b[0m\u001b[1;33m\u001b[0m\u001b[0m\n",
      "\u001b[1;32m~\\anaconda3\\lib\\site-packages\\matplotlib\\axes\\_axes.py\u001b[0m in \u001b[0;36mbar\u001b[1;34m(self, x, height, width, bottom, align, **kwargs)\u001b[0m\n\u001b[0;32m   2340\u001b[0m         x, height, width, y, linewidth = np.broadcast_arrays(\n\u001b[0;32m   2341\u001b[0m             \u001b[1;31m# Make args iterable too.\u001b[0m\u001b[1;33m\u001b[0m\u001b[1;33m\u001b[0m\u001b[1;33m\u001b[0m\u001b[0m\n\u001b[1;32m-> 2342\u001b[1;33m             np.atleast_1d(x), height, width, y, linewidth)\n\u001b[0m\u001b[0;32m   2343\u001b[0m \u001b[1;33m\u001b[0m\u001b[0m\n\u001b[0;32m   2344\u001b[0m         \u001b[1;31m# Now that units have been converted, set the tick locations.\u001b[0m\u001b[1;33m\u001b[0m\u001b[1;33m\u001b[0m\u001b[1;33m\u001b[0m\u001b[0m\n",
      "\u001b[1;32m<__array_function__ internals>\u001b[0m in \u001b[0;36mbroadcast_arrays\u001b[1;34m(*args, **kwargs)\u001b[0m\n",
      "\u001b[1;32m~\\anaconda3\\lib\\site-packages\\numpy\\lib\\stride_tricks.py\u001b[0m in \u001b[0;36mbroadcast_arrays\u001b[1;34m(*args, **kwargs)\u001b[0m\n\u001b[0;32m    262\u001b[0m     \u001b[0margs\u001b[0m \u001b[1;33m=\u001b[0m \u001b[1;33m[\u001b[0m\u001b[0mnp\u001b[0m\u001b[1;33m.\u001b[0m\u001b[0marray\u001b[0m\u001b[1;33m(\u001b[0m\u001b[0m_m\u001b[0m\u001b[1;33m,\u001b[0m \u001b[0mcopy\u001b[0m\u001b[1;33m=\u001b[0m\u001b[1;32mFalse\u001b[0m\u001b[1;33m,\u001b[0m \u001b[0msubok\u001b[0m\u001b[1;33m=\u001b[0m\u001b[0msubok\u001b[0m\u001b[1;33m)\u001b[0m \u001b[1;32mfor\u001b[0m \u001b[0m_m\u001b[0m \u001b[1;32min\u001b[0m \u001b[0margs\u001b[0m\u001b[1;33m]\u001b[0m\u001b[1;33m\u001b[0m\u001b[1;33m\u001b[0m\u001b[0m\n\u001b[0;32m    263\u001b[0m \u001b[1;33m\u001b[0m\u001b[0m\n\u001b[1;32m--> 264\u001b[1;33m     \u001b[0mshape\u001b[0m \u001b[1;33m=\u001b[0m \u001b[0m_broadcast_shape\u001b[0m\u001b[1;33m(\u001b[0m\u001b[1;33m*\u001b[0m\u001b[0margs\u001b[0m\u001b[1;33m)\u001b[0m\u001b[1;33m\u001b[0m\u001b[1;33m\u001b[0m\u001b[0m\n\u001b[0m\u001b[0;32m    265\u001b[0m \u001b[1;33m\u001b[0m\u001b[0m\n\u001b[0;32m    266\u001b[0m     \u001b[1;32mif\u001b[0m \u001b[0mall\u001b[0m\u001b[1;33m(\u001b[0m\u001b[0marray\u001b[0m\u001b[1;33m.\u001b[0m\u001b[0mshape\u001b[0m \u001b[1;33m==\u001b[0m \u001b[0mshape\u001b[0m \u001b[1;32mfor\u001b[0m \u001b[0marray\u001b[0m \u001b[1;32min\u001b[0m \u001b[0margs\u001b[0m\u001b[1;33m)\u001b[0m\u001b[1;33m:\u001b[0m\u001b[1;33m\u001b[0m\u001b[1;33m\u001b[0m\u001b[0m\n",
      "\u001b[1;32m~\\anaconda3\\lib\\site-packages\\numpy\\lib\\stride_tricks.py\u001b[0m in \u001b[0;36m_broadcast_shape\u001b[1;34m(*args)\u001b[0m\n\u001b[0;32m    189\u001b[0m     \u001b[1;31m# use the old-iterator because np.nditer does not handle size 0 arrays\u001b[0m\u001b[1;33m\u001b[0m\u001b[1;33m\u001b[0m\u001b[1;33m\u001b[0m\u001b[0m\n\u001b[0;32m    190\u001b[0m     \u001b[1;31m# consistently\u001b[0m\u001b[1;33m\u001b[0m\u001b[1;33m\u001b[0m\u001b[1;33m\u001b[0m\u001b[0m\n\u001b[1;32m--> 191\u001b[1;33m     \u001b[0mb\u001b[0m \u001b[1;33m=\u001b[0m \u001b[0mnp\u001b[0m\u001b[1;33m.\u001b[0m\u001b[0mbroadcast\u001b[0m\u001b[1;33m(\u001b[0m\u001b[1;33m*\u001b[0m\u001b[0margs\u001b[0m\u001b[1;33m[\u001b[0m\u001b[1;33m:\u001b[0m\u001b[1;36m32\u001b[0m\u001b[1;33m]\u001b[0m\u001b[1;33m)\u001b[0m\u001b[1;33m\u001b[0m\u001b[1;33m\u001b[0m\u001b[0m\n\u001b[0m\u001b[0;32m    192\u001b[0m     \u001b[1;31m# unfortunately, it cannot handle 32 or more arguments directly\u001b[0m\u001b[1;33m\u001b[0m\u001b[1;33m\u001b[0m\u001b[1;33m\u001b[0m\u001b[0m\n\u001b[0;32m    193\u001b[0m     \u001b[1;32mfor\u001b[0m \u001b[0mpos\u001b[0m \u001b[1;32min\u001b[0m \u001b[0mrange\u001b[0m\u001b[1;33m(\u001b[0m\u001b[1;36m32\u001b[0m\u001b[1;33m,\u001b[0m \u001b[0mlen\u001b[0m\u001b[1;33m(\u001b[0m\u001b[0margs\u001b[0m\u001b[1;33m)\u001b[0m\u001b[1;33m,\u001b[0m \u001b[1;36m31\u001b[0m\u001b[1;33m)\u001b[0m\u001b[1;33m:\u001b[0m\u001b[1;33m\u001b[0m\u001b[1;33m\u001b[0m\u001b[0m\n",
      "\u001b[1;31mValueError\u001b[0m: shape mismatch: objects cannot be broadcast to a single shape"
     ]
    },
    {
     "data": {
      "image/png": "[encoded data removed]",
      "text/plain": [
       "<Figure size 432x288 with 1 Axes>"
      ]
     },
     "metadata": {
      "needs_background": "light"
     },
     "output_type": "display_data"
    }
   ],
   "source": [
    "from matplotlib import pyplot as plt\n",
    "\n",
    "topics = [0,1]\n",
    "value_a = [78008,71977]\n",
    "value_b = [18550,17571]\n",
    "\n",
    "def create_x(t, w, n, d):\n",
    "    return [t*x + w*n for x in range(d)]\n",
    "\n",
    "value_a_x = create_x(2, 0.8, 1, 5)\n",
    "value_b_x = create_x(2, 0.8, 2, 5)\n",
    "\n",
    "ax = plt.subplot()\n",
    "ax.bar(value_a_x, value_a)\n",
    "ax.bar(value_b_x, value_b)\n",
    "\n",
    "middle_x = [(a+b)/2 for (a,b) in zip(value_a_x, value_b_x)]\n",
    "ax.set_xticks(middle_x)\n",
    "ax.set_xticklabels(topics)\n",
    "\n",
    "plt.show()"
   ]
  },
  {
   "cell_type": "code",
   "execution_count": null,
   "metadata": {},
   "outputs": [],
   "source": []
  },
  {
   "cell_type": "code",
   "execution_count": null,
   "metadata": {},
   "outputs": [],
   "source": [
    "data['label'].value_counts().plot(kind = 'bar')\n",
    "plt.ylim(top = 110000)"
   ]
  },
  {
   "cell_type": "code",
   "execution_count": null,
   "metadata": {},
   "outputs": [],
   "source": []
  },
  {
   "cell_type": "code",
   "execution_count": 56,
   "metadata": {
    "scrolled": true
   },
   "outputs": [
    {
     "data": {
      "text/plain": [
       "36121"
      ]
     },
     "execution_count": 56,
     "metadata": {},
     "output_type": "execute_result"
    }
   ],
   "source": [
    "len(X_test)"
   ]
  },
  {
   "cell_type": "markdown",
   "metadata": {
    "id": "h6xImfsi1WJM"
   },
   "source": [
    "## CNN으로 악성 댓글 분류"
   ]
  },
  {
   "cell_type": "code",
   "execution_count": 59,
   "metadata": {
    "id": "iSsD70zG1WJM"
   },
   "outputs": [],
   "source": [
    "from tensorflow.keras.layers import Embedding, Activation, Input,Conv2D, Flatten, Reshape, Dense, Dropout, LSTM, SimpleRNN,Conv1D, MaxPooling1D\n",
    "from tensorflow.keras.models import Sequential\n",
    "from tensorflow.keras.models import load_model\n",
    "from tensorflow.keras.callbacks import EarlyStopping, ModelCheckpoint"
   ]
  },
  {
   "cell_type": "code",
   "execution_count": 241,
   "metadata": {},
   "outputs": [],
   "source": [
    "sequence_length = max_len\n",
    "num_features = vocab_size\n",
    "embedding_dimension = 100"
   ]
  },
  {
   "cell_type": "code",
   "execution_count": 114,
   "metadata": {},
   "outputs": [
    {
     "name": "stdout",
     "output_type": "stream",
     "text": [
      "Model: \"sequential\"\n",
      "_________________________________________________________________\n",
      "Layer (type)                 Output Shape              Param #   \n",
      "=================================================================\n",
      "embedding (Embedding)        (None, None, 100)         2513000   \n",
      "_________________________________________________________________\n",
      "lstm (LSTM)                  (None, 128)               117248    \n",
      "_________________________________________________________________\n",
      "dense (Dense)                (None, 1)                 129       \n",
      "=================================================================\n",
      "Total params: 2,630,377\n",
      "Trainable params: 2,630,377\n",
      "Non-trainable params: 0\n",
      "_________________________________________________________________\n"
     ]
    }
   ],
   "source": [
    "model = Sequential()\n",
    "model.add(Embedding(vocab_size, 100))\n",
    "model.add(LSTM(128))\n",
    "model.add(Dense(1, activation='sigmoid'))\n",
    "model.summary()"
   ]
  },
  {
   "cell_type": "code",
   "execution_count": 242,
   "metadata": {},
   "outputs": [
    {
     "name": "stdout",
     "output_type": "stream",
     "text": [
      "Model: \"sequential_42\"\n",
      "_________________________________________________________________\n",
      "Layer (type)                 Output Shape              Param #   \n",
      "=================================================================\n",
      "embedding_41 (Embedding)     (None, 50, 100)           2513000   \n",
      "_________________________________________________________________\n",
      "conv1d_48 (Conv1D)           (None, 46, 50)            25050     \n",
      "_________________________________________________________________\n",
      "max_pooling1d_29 (MaxPooling (None, 23, 50)            0         \n",
      "_________________________________________________________________\n",
      "flatten_27 (Flatten)         (None, 1150)              0         \n",
      "_________________________________________________________________\n",
      "dense_49 (Dense)             (None, 10)                11510     \n",
      "_________________________________________________________________\n",
      "dense_50 (Dense)             (None, 1)                 11        \n",
      "=================================================================\n",
      "Total params: 2,549,571\n",
      "Trainable params: 2,549,571\n",
      "Non-trainable params: 0\n",
      "_________________________________________________________________\n"
     ]
    }
   ],
   "source": [
    "# Basic CNN using 1D convolution and pooling(Known as \"temperal convoulution\")\n",
    "sequence_length = max_len\n",
    "num_features = vocab_size\n",
    "embedding_dimension = 100\n",
    "\n",
    "model = Sequential()\n",
    "model.add(Embedding(input_dim = num_features ,\n",
    "                    output_dim = embedding_dimension, \n",
    "                    input_length = max_len))\n",
    "model.add(Conv1D(filters = 50, kernel_size = 5, strides = 1, padding = 'valid'))\n",
    "model.add(MaxPooling1D(2, padding = 'valid'))\n",
    "model.add(Flatten())\n",
    "model.add(Dense(10,activation = 'relu'))\n",
    "model.add(Dense(1,activation = 'sigmoid'))\n",
    "model.summary()"
   ]
  },
  {
   "cell_type": "code",
   "execution_count": 243,
   "metadata": {},
   "outputs": [],
   "source": [
    "es = EarlyStopping(monitor='val_loss', mode='min', verbose=1, patience=4)\n",
    "mc = ModelCheckpoint('okt_CNN1D_.h5', monitor='val_acc', mode='max', verbose=1, save_best_only=True)"
   ]
  },
  {
   "cell_type": "code",
   "execution_count": 244,
   "metadata": {
    "scrolled": true
   },
   "outputs": [
    {
     "name": "stdout",
     "output_type": "stream",
     "text": [
      "Epoch 1/15\n",
      "1999/2000 [============================>.] - ETA: 0s - loss: 0.1908 - acc: 0.9203\n",
      "Epoch 00001: val_acc improved from -inf to 0.93703, saving model to okt_CNN1D_.h5\n",
      "2000/2000 [==============================] - 63s 32ms/step - loss: 0.1908 - acc: 0.9204 - val_loss: 0.1609 - val_acc: 0.9370\n",
      "Epoch 2/15\n",
      "1999/2000 [============================>.] - ETA: 0s - loss: 0.1424 - acc: 0.9450\n",
      "Epoch 00002: val_acc improved from 0.93703 to 0.94023, saving model to okt_CNN1D_.h5\n",
      "2000/2000 [==============================] - 65s 32ms/step - loss: 0.1424 - acc: 0.9451 - val_loss: 0.1553 - val_acc: 0.9402\n",
      "Epoch 3/15\n",
      "1999/2000 [============================>.] - ETA: 0s - loss: 0.1290 - acc: 0.9511\n",
      "Epoch 00003: val_acc improved from 0.94023 to 0.94059, saving model to okt_CNN1D_.h5\n",
      "2000/2000 [==============================] - 64s 32ms/step - loss: 0.1290 - acc: 0.9511 - val_loss: 0.1515 - val_acc: 0.9406\n",
      "Epoch 4/15\n",
      "2000/2000 [==============================] - ETA: 0s - loss: 0.1156 - acc: 0.9566\n",
      "Epoch 00004: val_acc did not improve from 0.94059\n",
      "2000/2000 [==============================] - 60s 30ms/step - loss: 0.1156 - acc: 0.9566 - val_loss: 0.1619 - val_acc: 0.9399\n",
      "Epoch 5/15\n",
      "1999/2000 [============================>.] - ETA: 0s - loss: 0.1022 - acc: 0.9618\n",
      "Epoch 00005: val_acc did not improve from 0.94059\n",
      "2000/2000 [==============================] - 60s 30ms/step - loss: 0.1022 - acc: 0.9618 - val_loss: 0.1684 - val_acc: 0.9393\n",
      "Epoch 6/15\n",
      "1999/2000 [============================>.] - ETA: 0s - loss: 0.0896 - acc: 0.9673\n",
      "Epoch 00006: val_acc did not improve from 0.94059\n",
      "2000/2000 [==============================] - 60s 30ms/step - loss: 0.0896 - acc: 0.9672 - val_loss: 0.1860 - val_acc: 0.9310\n",
      "Epoch 7/15\n",
      "1999/2000 [============================>.] - ETA: 0s - loss: 0.0785 - acc: 0.9714\n",
      "Epoch 00007: val_acc did not improve from 0.94059\n",
      "2000/2000 [==============================] - 60s 30ms/step - loss: 0.0785 - acc: 0.9715 - val_loss: 0.2057 - val_acc: 0.9350\n",
      "Epoch 00007: early stopping\n"
     ]
    }
   ],
   "source": [
    "model.compile(optimizer='rmsprop', loss='binary_crossentropy', metrics=['acc'])\n",
    "history = model.fit(X_train, y_train, epochs=15, callbacks=[es, mc], batch_size=60, validation_split=0.2)"
   ]
  },
  {
   "cell_type": "code",
   "execution_count": 60,
   "metadata": {
    "id": "erda4-Na1WJS",
    "outputId": "a21ef5ff-3d07-4374-a78f-851512d8a2af",
    "scrolled": false
   },
   "outputs": [
    {
     "name": "stdout",
     "output_type": "stream",
     "text": [
      "1129/1129 [==============================] - 4s 3ms/step - loss: 0.1487 - acc: 0.9427\n",
      "\n",
      "테스트 정확도: 0.9427\n"
     ]
    }
   ],
   "source": [
    "loaded_model = load_model('okt_CNN1D_.h5')\n",
    "print(\"\\n테스트 정확도: %.4f\" % (loaded_model.evaluate(X_test, y_test)[1]))"
   ]
  },
  {
   "cell_type": "code",
   "execution_count": 61,
   "metadata": {},
   "outputs": [
    {
     "data": {
      "text/plain": [
       "array([[9.4511597e-06],\n",
       "       [9.9998885e-01],\n",
       "       [4.2025208e-02],\n",
       "       ...,\n",
       "       [8.9248383e-01],\n",
       "       [4.4890010e-05],\n",
       "       [1.0000000e+00]], dtype=float32)"
      ]
     },
     "execution_count": 61,
     "metadata": {},
     "output_type": "execute_result"
    }
   ],
   "source": [
    "pred = loaded_model.predict(X_test)\n",
    "pred"
   ]
  },
  {
   "cell_type": "code",
   "execution_count": 62,
   "metadata": {},
   "outputs": [
    {
     "name": "stdout",
     "output_type": "stream",
     "text": [
      "[[17312  1238]\n",
      " [  831 16740]]\n"
     ]
    }
   ],
   "source": [
    "from sklearn.metrics import confusion_matrix\n",
    "results = confusion_matrix(y_true=y_test, y_pred=pred.round())\n",
    "\n",
    "print(results)"
   ]
  },
  {
   "cell_type": "code",
   "execution_count": 63,
   "metadata": {},
   "outputs": [
    {
     "ename": "NameError",
     "evalue": "name 'model' is not defined",
     "output_type": "error",
     "traceback": [
      "\u001b[1;31m---------------------------------------------------------------------------\u001b[0m",
      "\u001b[1;31mNameError\u001b[0m                                 Traceback (most recent call last)",
      "\u001b[1;32m<ipython-input-63-172e7e92b210>\u001b[0m in \u001b[0;36m<module>\u001b[1;34m\u001b[0m\n\u001b[0;32m      6\u001b[0m         \u001b[0my_test_decode\u001b[0m\u001b[1;33m.\u001b[0m\u001b[0mappend\u001b[0m\u001b[1;33m(\u001b[0m\u001b[1;36m0\u001b[0m\u001b[1;33m)\u001b[0m\u001b[1;33m\u001b[0m\u001b[1;33m\u001b[0m\u001b[0m\n\u001b[0;32m      7\u001b[0m \u001b[0mlen\u001b[0m\u001b[1;33m(\u001b[0m\u001b[0my_test_decode\u001b[0m\u001b[1;33m)\u001b[0m\u001b[1;33m\u001b[0m\u001b[1;33m\u001b[0m\u001b[0m\n\u001b[1;32m----> 8\u001b[1;33m \u001b[0mpred\u001b[0m \u001b[1;33m=\u001b[0m \u001b[0mmodel\u001b[0m\u001b[1;33m.\u001b[0m\u001b[0mpredict\u001b[0m\u001b[1;33m(\u001b[0m\u001b[0mX_test\u001b[0m\u001b[1;33m)\u001b[0m\u001b[1;33m\u001b[0m\u001b[1;33m\u001b[0m\u001b[0m\n\u001b[0m\u001b[0;32m      9\u001b[0m \u001b[0mpred_decode\u001b[0m \u001b[1;33m=\u001b[0m \u001b[1;33m[\u001b[0m\u001b[1;33m]\u001b[0m\u001b[1;33m\u001b[0m\u001b[1;33m\u001b[0m\u001b[0m\n\u001b[0;32m     10\u001b[0m \u001b[1;32mfor\u001b[0m \u001b[0mi\u001b[0m \u001b[1;32min\u001b[0m \u001b[0mrange\u001b[0m\u001b[1;33m(\u001b[0m\u001b[0mlen\u001b[0m\u001b[1;33m(\u001b[0m\u001b[0mpred\u001b[0m\u001b[1;33m)\u001b[0m\u001b[1;33m)\u001b[0m\u001b[1;33m:\u001b[0m\u001b[1;33m\u001b[0m\u001b[1;33m\u001b[0m\u001b[0m\n",
      "\u001b[1;31mNameError\u001b[0m: name 'model' is not defined"
     ]
    }
   ],
   "source": [
    "y_test_decode = []\n",
    "for i in range(len(y_test)):\n",
    "    if y_test[i] >= 0.5:\n",
    "        y_test_decode.append(1)\n",
    "    else:\n",
    "        y_test_decode.append(0)\n",
    "len(y_test_decode)\n",
    "pred = model.predict(X_test)\n",
    "pred_decode = []\n",
    "for i in range(len(pred)):\n",
    "    if pred[i] >= 0.5:\n",
    "        pred_decode.append(1)\n",
    "    else:\n",
    "        pred_decode.append(0)\n",
    "pred"
   ]
  },
  {
   "cell_type": "code",
   "execution_count": null,
   "metadata": {
    "scrolled": true
   },
   "outputs": [],
   "source": [
    "print('f1 : ',metrics.f1_score(y_test_decode, pred_decode, average='macro'))\n",
    "print('recall : ', metrics.recall_score(y_test_decode,pred_decode,average='macro'))\n",
    "print('precision : ',metrics.precision_score(y_test_decode,pred_decode,average='macro'))\n",
    "print('accuracy', metrics.accuracy_score(y_test_decode, pred_decode,))"
   ]
  },
  {
   "cell_type": "code",
   "execution_count": 64,
   "metadata": {
    "id": "ALLlrfP71WJV"
   },
   "outputs": [],
   "source": [
    "def sentiment_predict(new_sentence):\n",
    "    sent = new_sentence\n",
    "    new_sentence = okt.morphs(new_sentence, stem=True) # 토큰화\n",
    "    new_sentence = [word for word in new_sentence if not word in stopwords] # 불용어 제거\n",
    "    encoded = tokenizer.texts_to_sequences([new_sentence]) # 정수 인코딩\n",
    "    pad_new = pad_sequences(encoded, maxlen = max_len) # 패딩\n",
    "    score = float(loaded_model.predict(pad_new)) # 예측\n",
    "    if(score > 0.5):\n",
    "        print(\"{}: {:.2f}% --.\\n\".format(sent, score * 100))\n",
    "    else:\n",
    "        print(\"{}: {:.2f}% ++.\\n\".format(sent, (1 - score) * 100))"
   ]
  },
  {
   "cell_type": "code",
   "execution_count": 66,
   "metadata": {},
   "outputs": [
    {
     "name": "stdout",
     "output_type": "stream",
     "text": [
      "정말 재밌다 연기도 좋고 디카프리오 짱: 99.99% ++.\n",
      "\n",
      "심쿵심쿵 미치네요이수혁땜에 잠 못자겠어요ㅠ자꾸 아른거림ㅠ: 98.47% ++.\n",
      "\n",
      "하지만 이니후빨러들은 이런거 관심 하나도 없음: 76.93% --.\n",
      "\n",
      "착한아이임당  용지 덮고: 93.75% --.\n",
      "\n",
      "진짜 평점 믿으면 안된 다는 걸 현실로 보여주는 영화입니다 네티즌전문가 하나같이 영화에서 예술성과 철학만 찾고있으니 영화 볼때 평점 안보고 봅니다: 100.00% ++.\n",
      "\n",
      "조원진이 비례대표나 경북에서 공천 못받고도 입다물면 친중질히던거 이해할게: 99.95% --.\n",
      "\n",
      "후 쩔었다: 88.26% ++.\n",
      "\n",
      "오랜만에 휴가내서 조카들 데리고 보고나왔어요  조카들이 너무 좋아해서 평점 점 남겨용: 100.00% ++.\n",
      "\n",
      "제목만 보고도 더러운 머리스탈 떠올랐다 이름보다 아 그더런새끼겠지 이랬다니까: 98.44% --.\n",
      "\n",
      "중국 공산당 보는것 같다: 98.84% --.\n",
      "\n",
      "별점별점별점별점별점: 100.00% ++.\n",
      "\n",
      "조센징들의 한계지 민족성 자체가 동남아나 아프리카 토인이랑 다르게없음 ㅋㅋㅋ: 93.21% --.\n",
      "\n",
      "오 좋은데요 사랑이 넘치네요: 95.68% ++.\n",
      "\n",
      "ㅋㅋㅋㅋㅋㅋㅋㅋㅋ 아니 북한이 그렇게 좋으면 보따리 싸가서 살지 진짜 ㅋㅋㅋㅋㅋ: 99.47% --.\n",
      "\n",
      "야기라유야의 매력을 알게된영화: 99.75% ++.\n",
      "\n",
      "노루엣이 개나 ㅋㅋㅋㅋㅋㅋㅋㅋ: 97.76% --.\n",
      "\n",
      "저새끼는 아무 것도 한게 없는데 목소리만 깔아서지지율 높은 미스테리한 인간임: 99.81% --.\n",
      "\n",
      "액션을 정말 이렇게 맛깔나게 표현할수가 신선하고 멋지다: 100.00% ++.\n",
      "\n",
      "근데이전에박선영도 단식좀했는데진짜 쩔게마름ㄷㄷ진짜좌파역겹다진짜존나게: 99.96% --.\n",
      "\n",
      "엄마의 아픔이 고스란히 전해지는것 같아 슬펐어요: 99.92% ++.\n",
      "\n",
      "대단한 영화이긴 한데 도대체 남자 쌍둥이 예지자는 왜 필요한거지 어차피 아가사가 제일 잘하고 둘이 놓치는 것도 아가사 혼자서 다 잡아낼 정도인데 한명이면 너무 쓸쓸할거같았나: 96.92% ++.\n",
      "\n",
      "부모님에 대한 생각을 했습니다: 95.37% ++.\n",
      "\n",
      "저 개돼지들은 왜 꼭 당해봐야 아는걸까그래서 개돼진가: 99.70% --.\n",
      "\n",
      "무엇보다 벤의 스레이케오를 향한 희생적 사랑이 맘아프면서도 따뜻하게 느껴졌다: 99.98% ++.\n",
      "\n",
      "따르릉: 65.73% --.\n",
      "\n",
      "서편제 정말 감동적입니다: 99.72% ++.\n",
      "\n",
      "홍통거르고 저토론은 캐리한건맞지않냐 나도봤는데 와 역시 뉴스 간판하던사람은 입터는거부터 급이다르구나 싶던데: 97.56% --.\n",
      "\n",
      "길가에 정차하려고: 82.70% --.\n",
      "\n",
      "년전 영화라고는 믿기지 않을 정도: 99.45% ++.\n",
      "\n",
      "굳: 95.66% ++.\n",
      "\n",
      "아재: 65.54% --.\n",
      "\n",
      "드라마니 뭐니 아이돌이니 뭐니 하는 선입견을 제외하고 보면 남장여자라는 역할을 원작만큼이나 깔끔하게 소화한 드라마아쉬웠다면 별점을 적게 주는 많은 사람들의 공통점인  드라마라는 점: 100.00% ++.\n",
      "\n",
      "역시 재밌군ㅋ: 99.56% ++.\n",
      "\n",
      "정통 로맨틱코미디첫사랑을 완벽하게 승화시킨 영화네요이렇게 잔잔한 로맨틱 코메디 좋아: 99.98% ++.\n",
      "\n",
      "잔잔하다 점 개인적으로 이런영화를 좋아해서: 100.00% ++.\n",
      "\n",
      "진짜 재밌게 보고있어요ㅋㅋㅋ 주말만 기다려지네요ㅋㅋㅋ 그리고 제 생각에는 의사분이 그 아들같아요ㅋㅋㅋ: 70.31% ++.\n",
      "\n",
      "본능을 이기지 못한 계몽가와 어리석은 시민들이 빚어낸 비극 그들의 감정을 매우 잘 표현해냈다: 91.79% ++.\n",
      "\n",
      "틀에박힌 형식이 아닌 새로운 시도를 한 공포영화 새로운 시도가 그럴게 쉬운게 아닐텐데 꽤나 매끄러운 스토리 진행과 적절한 긴장감에 화려한 볼거리 액션씬등이 돋보였음 간만에 보는 꽤나 볼만한 영화였음: 100.00% ++.\n",
      "\n",
      "거짓말 탐지기로 한번 검증을 받아봐야: 72.93% --.\n",
      "\n",
      "보통은 오랑캐라는 표현이 외국에서는 모욕으로 받아들여질수 있다 라는 논리로 갈 수 있는데문재앙 병신새끼가 중국몽같은 소리해서 이 사단난거지진짜 더불당 새끼들 중국한테 정치자금 받아먹은게 분명함: 100.00% --.\n",
      "\n",
      "아니 고작 딴따라새끼들 입국 못 하게 했다고트럼프니 뭐니 전쟁까지 들먹이네 병신들: 100.00% --.\n",
      "\n",
      "르완다의 살아있는 영웅이다: 53.29% --.\n",
      "\n",
      "글루미블루문 우리나라 전체 수출중에 중국에 수출하는게 가장 많은데 그럼 친중도 애국이겠네 뭐 이런 병신같은 새끼가 다 있지: 100.00% --.\n",
      "\n",
      "솔직히 처음 볼 때는 이게뭐야 이랬는데 몇 년째 계속 보는중 잊으려하면 다시 생각나서 그 예쁜 영상 다시 돌려보고 하고있다: 98.50% ++.\n",
      "\n",
      "하긴 애미가 뭔지도 모르는새끼한테 무슨말을 하노 ㅋㅋㅋ엔두장군이 광주폭동때 싹밀었으면 지금같은 꼬라지는 없엇을텐데 그치: 100.00% --.\n",
      "\n",
      "보면서 생각하게만들고 배우들의 짙은 연기에 집중하면서 봤네요흥해라: 99.61% ++.\n",
      "\n",
      "에서 영화로 방하나에서 도시로 대단하다 상상력에 박수를: 99.96% ++.\n",
      "\n",
      "벤테이가 지식이 늘었다 ㄱㅅ: 94.11% --.\n",
      "\n",
      "익명 아문법 조로 일등 벽상공신으로 승격되노: 99.99% --.\n",
      "\n",
      "굳입니다 아주아주 굳굳: 99.87% ++.\n",
      "\n",
      "그래도 는 막장까진 안 갔네: 71.53% --.\n",
      "\n",
      "흑흑ㅎ그흑흑흐그 감동 ㅠㅠ: 98.86% ++.\n",
      "\n",
      "대가리박기에는 너무 많은 시간이 흘렀는데 지금 알았노: 93.76% --.\n",
      "\n",
      "재밌습니다 이정현 배우의 앞으로의 행보가 기대됩니다: 99.89% ++.\n",
      "\n",
      "추천 고전명작을 읽은느낌입니다: 99.76% ++.\n",
      "\n",
      "점줘야돼 이드라마: 99.74% ++.\n",
      "\n",
      "자 씩씩하게 아오지로 가즈아개돼지 국민일동ㅠㅠㅠ: 99.52% --.\n",
      "\n"
     ]
    },
    {
     "ename": "KeyboardInterrupt",
     "evalue": "",
     "output_type": "error",
     "traceback": [
      "\u001b[1;31m---------------------------------------------------------------------------\u001b[0m",
      "\u001b[1;31mKeyboardInterrupt\u001b[0m                         Traceback (most recent call last)",
      "\u001b[1;32m<ipython-input-66-24ff6ed95026>\u001b[0m in \u001b[0;36m<module>\u001b[1;34m\u001b[0m\n\u001b[0;32m      1\u001b[0m \u001b[1;32mfor\u001b[0m \u001b[0msentence\u001b[0m \u001b[1;32min\u001b[0m \u001b[0mtrain_data\u001b[0m\u001b[1;33m[\u001b[0m\u001b[1;34m'comments'\u001b[0m\u001b[1;33m]\u001b[0m\u001b[1;33m[\u001b[0m\u001b[1;33m:\u001b[0m\u001b[1;36m100\u001b[0m\u001b[1;33m]\u001b[0m\u001b[1;33m:\u001b[0m\u001b[1;33m\u001b[0m\u001b[1;33m\u001b[0m\u001b[0m\n\u001b[1;32m----> 2\u001b[1;33m     \u001b[0msentiment_predict\u001b[0m\u001b[1;33m(\u001b[0m\u001b[0msentence\u001b[0m\u001b[1;33m)\u001b[0m\u001b[1;33m\u001b[0m\u001b[1;33m\u001b[0m\u001b[0m\n\u001b[0m",
      "\u001b[1;32m<ipython-input-64-5c8124f3a5ca>\u001b[0m in \u001b[0;36msentiment_predict\u001b[1;34m(new_sentence)\u001b[0m\n\u001b[0;32m      1\u001b[0m \u001b[1;32mdef\u001b[0m \u001b[0msentiment_predict\u001b[0m\u001b[1;33m(\u001b[0m\u001b[0mnew_sentence\u001b[0m\u001b[1;33m)\u001b[0m\u001b[1;33m:\u001b[0m\u001b[1;33m\u001b[0m\u001b[1;33m\u001b[0m\u001b[0m\n\u001b[0;32m      2\u001b[0m     \u001b[0msent\u001b[0m \u001b[1;33m=\u001b[0m \u001b[0mnew_sentence\u001b[0m\u001b[1;33m\u001b[0m\u001b[1;33m\u001b[0m\u001b[0m\n\u001b[1;32m----> 3\u001b[1;33m     \u001b[0mnew_sentence\u001b[0m \u001b[1;33m=\u001b[0m \u001b[0mokt\u001b[0m\u001b[1;33m.\u001b[0m\u001b[0mmorphs\u001b[0m\u001b[1;33m(\u001b[0m\u001b[0mnew_sentence\u001b[0m\u001b[1;33m,\u001b[0m \u001b[0mstem\u001b[0m\u001b[1;33m=\u001b[0m\u001b[1;32mTrue\u001b[0m\u001b[1;33m)\u001b[0m \u001b[1;31m# 토큰화\u001b[0m\u001b[1;33m\u001b[0m\u001b[1;33m\u001b[0m\u001b[0m\n\u001b[0m\u001b[0;32m      4\u001b[0m     \u001b[0mnew_sentence\u001b[0m \u001b[1;33m=\u001b[0m \u001b[1;33m[\u001b[0m\u001b[0mword\u001b[0m \u001b[1;32mfor\u001b[0m \u001b[0mword\u001b[0m \u001b[1;32min\u001b[0m \u001b[0mnew_sentence\u001b[0m \u001b[1;32mif\u001b[0m \u001b[1;32mnot\u001b[0m \u001b[0mword\u001b[0m \u001b[1;32min\u001b[0m \u001b[0mstopwords\u001b[0m\u001b[1;33m]\u001b[0m \u001b[1;31m# 불용어 제거\u001b[0m\u001b[1;33m\u001b[0m\u001b[1;33m\u001b[0m\u001b[0m\n\u001b[0;32m      5\u001b[0m     \u001b[0mencoded\u001b[0m \u001b[1;33m=\u001b[0m \u001b[0mtokenizer\u001b[0m\u001b[1;33m.\u001b[0m\u001b[0mtexts_to_sequences\u001b[0m\u001b[1;33m(\u001b[0m\u001b[1;33m[\u001b[0m\u001b[0mnew_sentence\u001b[0m\u001b[1;33m]\u001b[0m\u001b[1;33m)\u001b[0m \u001b[1;31m# 정수 인코딩\u001b[0m\u001b[1;33m\u001b[0m\u001b[1;33m\u001b[0m\u001b[0m\n",
      "\u001b[1;32m~\\anaconda3\\lib\\site-packages\\konlpy\\tag\\_okt.py\u001b[0m in \u001b[0;36mmorphs\u001b[1;34m(self, phrase, norm, stem)\u001b[0m\n\u001b[0;32m     76\u001b[0m         \u001b[1;34m\"\"\"Parse phrase to morphemes.\"\"\"\u001b[0m\u001b[1;33m\u001b[0m\u001b[1;33m\u001b[0m\u001b[0m\n\u001b[0;32m     77\u001b[0m \u001b[1;33m\u001b[0m\u001b[0m\n\u001b[1;32m---> 78\u001b[1;33m         \u001b[1;32mreturn\u001b[0m \u001b[1;33m[\u001b[0m\u001b[0ms\u001b[0m \u001b[1;32mfor\u001b[0m \u001b[0ms\u001b[0m\u001b[1;33m,\u001b[0m \u001b[0mt\u001b[0m \u001b[1;32min\u001b[0m \u001b[0mself\u001b[0m\u001b[1;33m.\u001b[0m\u001b[0mpos\u001b[0m\u001b[1;33m(\u001b[0m\u001b[0mphrase\u001b[0m\u001b[1;33m,\u001b[0m \u001b[0mnorm\u001b[0m\u001b[1;33m=\u001b[0m\u001b[0mnorm\u001b[0m\u001b[1;33m,\u001b[0m \u001b[0mstem\u001b[0m\u001b[1;33m=\u001b[0m\u001b[0mstem\u001b[0m\u001b[1;33m)\u001b[0m\u001b[1;33m]\u001b[0m\u001b[1;33m\u001b[0m\u001b[1;33m\u001b[0m\u001b[0m\n\u001b[0m\u001b[0;32m     79\u001b[0m \u001b[1;33m\u001b[0m\u001b[0m\n\u001b[0;32m     80\u001b[0m     \u001b[1;32mdef\u001b[0m \u001b[0mphrases\u001b[0m\u001b[1;33m(\u001b[0m\u001b[0mself\u001b[0m\u001b[1;33m,\u001b[0m \u001b[0mphrase\u001b[0m\u001b[1;33m)\u001b[0m\u001b[1;33m:\u001b[0m\u001b[1;33m\u001b[0m\u001b[1;33m\u001b[0m\u001b[0m\n",
      "\u001b[1;32m~\\anaconda3\\lib\\site-packages\\konlpy\\tag\\_okt.py\u001b[0m in \u001b[0;36mpos\u001b[1;34m(self, phrase, norm, stem, join)\u001b[0m\n\u001b[0;32m     61\u001b[0m                     \u001b[0mphrase\u001b[0m\u001b[1;33m,\u001b[0m\u001b[1;33m\u001b[0m\u001b[1;33m\u001b[0m\u001b[0m\n\u001b[0;32m     62\u001b[0m                     \u001b[0mjpype\u001b[0m\u001b[1;33m.\u001b[0m\u001b[0mjava\u001b[0m\u001b[1;33m.\u001b[0m\u001b[0mlang\u001b[0m\u001b[1;33m.\u001b[0m\u001b[0mBoolean\u001b[0m\u001b[1;33m(\u001b[0m\u001b[0mnorm\u001b[0m\u001b[1;33m)\u001b[0m\u001b[1;33m,\u001b[0m\u001b[1;33m\u001b[0m\u001b[1;33m\u001b[0m\u001b[0m\n\u001b[1;32m---> 63\u001b[1;33m                     jpype.java.lang.Boolean(stem)).toArray()\n\u001b[0m\u001b[0;32m     64\u001b[0m         \u001b[1;32mif\u001b[0m \u001b[0mjoin\u001b[0m\u001b[1;33m:\u001b[0m\u001b[1;33m\u001b[0m\u001b[1;33m\u001b[0m\u001b[0m\n\u001b[0;32m     65\u001b[0m             \u001b[1;32mreturn\u001b[0m \u001b[1;33m[\u001b[0m\u001b[0mt\u001b[0m \u001b[1;32mfor\u001b[0m \u001b[0mt\u001b[0m \u001b[1;32min\u001b[0m \u001b[0mtokens\u001b[0m\u001b[1;33m]\u001b[0m\u001b[1;33m\u001b[0m\u001b[1;33m\u001b[0m\u001b[0m\n",
      "\u001b[1;31mKeyboardInterrupt\u001b[0m: "
     ]
    }
   ],
   "source": [
    "for sentence in train_data['comments'][:100]:\n",
    "    sentiment_predict(sentence)"
   ]
  },
  {
   "cell_type": "code",
   "execution_count": 65,
   "metadata": {
    "id": "kn46qgsI1WJZ",
    "outputId": "1bc28767-b1b1-4cd8-8cdf-cfabc8866550"
   },
   "outputs": [
    {
     "name": "stdout",
     "output_type": "stream",
     "text": [
      "문채원 짱 너무나 사랑스럽고 귀엽고 문채원의 매력에 푹 빠져보세요: 100.00% ++.\n",
      "\n",
      "익명 육사 조지는거: 100.00% --.\n",
      "\n",
      "재미만있구만: 95.80% ++.\n",
      "\n",
      "내가 지인들에게 가장 추천하고픈 영화: 99.67% ++.\n",
      "\n",
      "가슴에 사무치게 따뜻한 영화ㅋ: 99.85% ++.\n",
      "\n",
      "이건뭐 우리 강지환씨가 다 살려주네 그려차도남 현기준의 무한매력에 빠져있느라 다른캐릭터는눈에 들어오지도 않았음ㅋㅋ어쨌든 만화같은 이야기 넘 재밌게 봄: 100.00% ++.\n",
      "\n",
      "무능보다 거짓말이래 ㅋㅋㅋ 탈당했다가 복당 짓은 거짓말이냐 무능이냐 저런 의원들  상황에따라 적이 바뀌고 말이 바뀌는 사람들  저러는 이유는 다른거 없다 지가 정치 계속하고 싶고 의원 계속하고 싶기 때문이지 속은 주판말 퉁기면서 겉으론 입바른 소리: 100.00% --.\n",
      "\n",
      "강남권서울멋쟁이 ㄱㅅ: 98.72% --.\n",
      "\n",
      "의사가 일부러 그런것도 아니고 저정도 고수들만 의사하라고 하면 당장 국민이 더 불편함 어쩔 수 없는거임: 99.72% --.\n",
      "\n",
      "진중권 ㅇㅂ: 99.99% --.\n",
      "\n",
      "서울 안살면 대부분  전화번호 안받음: 99.03% --.\n",
      "\n",
      "임기말쯤 터질듯결국 바둑이랑기: 91.34% --.\n",
      "\n",
      "김수현의 불륜에는 뭔가 철학이 있더라: 96.42% ++.\n",
      "\n",
      "사랑에눈멀어눈에뵈는게없는게아니라 사랑을 기성세대의 틀로 억압한 결과지 무식아: 50.20% --.\n",
      "\n",
      "익명 중일러 헬조셴도 만만치않은듯: 100.00% --.\n",
      "\n",
      "머가리폭도컷 아오 씨발ㅋㅋ 존나웃기노: 100.00% --.\n",
      "\n",
      "오프리 윈프리 맞나: 93.19% --.\n",
      "\n",
      "사랑을알아가는데필요한시간을잘말해주는영화: 99.99% ++.\n",
      "\n",
      "이게 점짜리지: 96.65% ++.\n",
      "\n",
      "나도 그러던데지들이 걸어놓고 갑자기 귀하는 해당지역 조사대상이 아니래 ㅋ: 99.69% --.\n",
      "\n",
      "사무엘잭슨은 좀빼라 못봐주겠다: 82.47% ++.\n",
      "\n",
      "제발 세컨더리 보이콧 해주세요: 89.27% --.\n",
      "\n",
      "샤이니오빠들 사랑해요 지금은 빛나는 우리 샤이니 시대 진기종현기범민호태민 오빠 사랑해요: 99.99% ++.\n",
      "\n",
      "영화보고 나서 일드로도 찾아봤네요 사람들간의 따뜻한 얘기들이 좋네요 며칠동안 시즌까지 보면서 힐링되었음: 99.99% ++.\n",
      "\n",
      "역시 최민수 형은 쩔어 ㅇㅅㅇ: 90.35% ++.\n",
      "\n",
      "원숭이 수법 모르냐 저린식으로 소송해서 돈 뜻는거잖아: 97.36% --.\n",
      "\n",
      "제 친구를 보는 듯ㅋ 저예산 무명배우들로 이정도면 만점인거같네요: 90.48% ++.\n",
      "\n",
      "글렌 클로즈와 배우들이 말해주는 여성 영화의 전형: 99.15% ++.\n",
      "\n",
      "이 영화는 분명히 청소년기에 꼭 봐야할 영화다: 99.99% ++.\n",
      "\n",
      "가벼운 영화지만 행복해집니다: 99.82% ++.\n",
      "\n",
      "완전 감동이다: 99.84% ++.\n",
      "\n",
      "근래에 봤던 드라마 중 최고마지막에 항상 거지같이 마무리되는 드라마는 정말 그동안 투자한 시간을 아깝게 하지만직장의 신은 마지막까지 감동적이고 깔끔했음: 100.00% ++.\n",
      "\n",
      "근데 저언거 왜 굳이 저렇게 비싼돈주고 사는거냐결국 옷걸이가 중요한건데 알아보는년놈들만 알아보는것들 아님: 98.98% --.\n",
      "\n",
      "로빈 윌리엄스의 연기는 정말 감동적입니다: 99.98% ++.\n",
      "\n",
      "예고편만마믿고 봤는데 읭 완전 재밌음 흥미진진하고 존 아저씨의 능글한연기짱: 100.00% ++.\n",
      "\n",
      "타카가키 아야히: 69.98% --.\n",
      "\n",
      "전라도는아니랑께요: 99.96% --.\n",
      "\n",
      "놀라운건 감독음악연출 모두 주걸륜이 만들었다는거헐 천재였네: 99.99% ++.\n",
      "\n",
      "지금 내 옆에 있는 사람을 진심으로 이해하고 사랑하고 있스니까 생각을 다시하게 해주는 고마운 영화 심지어 도 좋다: 99.77% ++.\n",
      "\n",
      "예쁜여자가 노랴부르고 춤추면 예쁜게 노래도 춤도 열심히 하네 라고 하지만 못생긴 여자가 저렇게 노래부르면서 나대면 어휴 그 노력으로 얼굴이나 노력해서 바꾸지라고 남자들은 생각한다: 98.22% --.\n",
      "\n",
      "노고무대전령 어떤 새끼가 십자로 집을 터냐 십자로: 98.46% --.\n",
      "\n",
      "견자단 대박엽문 시리즈는 계속된다: 99.78% ++.\n",
      "\n",
      "유리코 완전 이쁘네ㄷㄷㄷㄷㄷㄷㄷㄷ: 95.01% ++.\n",
      "\n",
      "감동실화 영화였노오스카 실화기반 영화 좋아 하던데 그래서 상 줬네: 99.97% ++.\n",
      "\n",
      "스텔스 헬기의 존재를 세상에 처음으로 알린 영화: 99.84% ++.\n",
      "\n",
      "틀딱이라 하지마라어르신들덕에 나라되찾을수있을거다: 95.71% --.\n",
      "\n",
      "말 그대로 완벽해요 가장 좋아하는 영화로 뽑혔네요: 99.33% ++.\n",
      "\n",
      "이거 내가 웃대 올렸는데 제 아이디 애국자남선이에요: 56.84% ++.\n",
      "\n",
      "초반부를 볼때는 현재와 관련이 없어보였던 과거의 내용을 오래도록 이야기해서 이게 뭔가 싶었고 어떤식으로 엮어나가려고 하나 했는데 중후반으로 가면서 완전하게 아귀가 딱딱 맞춰지는 스토리와 약간의 반전있는 결말까지 책 처럼 구성이 치밀하다: 99.98% ++.\n",
      "\n",
      "비행기 한대값 존나 비싸지 않냐 카미카제 공격 한번에 돈존나 깨졌겠노: 98.36% --.\n",
      "\n",
      "가슴 뭉클하고인생에 도움이 되는 영화: 99.70% ++.\n",
      "\n",
      "보는 내내 배고프게 만들었던 영화 따뜻함은 덤으로: 99.99% ++.\n",
      "\n",
      "내가 모기 파리 바퀴벌레 빼고서 어지간한 곤충도 함부로 못죽인다여름에 집에 무당벌레 하나 들어왔는데 손으로 고이감싸서 밖에다 날려줬다그런데 내가 진짜 문재인 이새끼 나보고 죽이라하면 오원춘 빙의해서 살점하나하나 도려내고 잘라내생살 고깃덩이 잘근잘근 씹어먹을수 있을거같다 산낙지도 못먹는데: 100.00% --.\n",
      "\n",
      "다음편 언제올리노 게이야 빨리올려줘라: 99.29% --.\n",
      "\n",
      "익명 홍어피가 도 없는걸로 알고 있다 그냥 특별한 케이스라고 보면됨 마지 전남 보성에서 나고 자란 안정권 같은 놈이라 생각하면됨: 100.00% --.\n",
      "\n",
      "우리아이가 달라졌어요 버전: 88.16% ++.\n",
      "\n",
      "평창올림끡 파트타임 알바 하나 구하겠지: 73.77% --.\n",
      "\n",
      "사람은 배워야한다: 72.75% --.\n",
      "\n",
      "장난치는거 왜 하냐 정말 이해가 안감: 82.25% ++.\n",
      "\n",
      "압구정한양게이 ㅋㅋㅋ: 99.84% --.\n",
      "\n",
      "하루하루가 소중하다는걸 알려준 영화: 99.78% ++.\n",
      "\n",
      "북한에 문재인 쏘자반년도 못가서 북한 폭망할듯: 99.98% --.\n",
      "\n",
      "머리에 든 거 하나도 없네: 88.09% --.\n",
      "\n",
      "영화도 영화지만 영화의 재미를 배로 해주는 는 정말 명곡이다 엔니오모리꼬네를 만난 뵌것은 영광이었다: 99.99% ++.\n",
      "\n",
      "익명 윤석열도 같은 생각임 ㅋㅋ: 99.96% --.\n",
      "\n",
      "스무살 시절 하루하루 이 영화보며 꿈을 키웠   날 미치게한 뮤비: 98.48% ++.\n",
      "\n",
      "상영관이 부족한 게 참 아쉽다 보고 있으면 어느새 미소가 지어져있는 영화: 100.00% ++.\n",
      "\n"
     ]
    },
    {
     "ename": "KeyboardInterrupt",
     "evalue": "",
     "output_type": "error",
     "traceback": [
      "\u001b[1;31m---------------------------------------------------------------------------\u001b[0m",
      "\u001b[1;31mKeyboardInterrupt\u001b[0m                         Traceback (most recent call last)",
      "\u001b[1;32m<ipython-input-65-79af50c2ba4c>\u001b[0m in \u001b[0;36m<module>\u001b[1;34m\u001b[0m\n\u001b[0;32m      1\u001b[0m \u001b[1;32mfor\u001b[0m \u001b[0msentence\u001b[0m \u001b[1;32min\u001b[0m \u001b[0mtest_data\u001b[0m\u001b[1;33m[\u001b[0m\u001b[1;34m'comments'\u001b[0m\u001b[1;33m]\u001b[0m\u001b[1;33m[\u001b[0m\u001b[1;33m:\u001b[0m\u001b[1;36m100\u001b[0m\u001b[1;33m]\u001b[0m\u001b[1;33m:\u001b[0m\u001b[1;33m\u001b[0m\u001b[1;33m\u001b[0m\u001b[0m\n\u001b[1;32m----> 2\u001b[1;33m     \u001b[0msentiment_predict\u001b[0m\u001b[1;33m(\u001b[0m\u001b[0msentence\u001b[0m\u001b[1;33m)\u001b[0m\u001b[1;33m\u001b[0m\u001b[1;33m\u001b[0m\u001b[0m\n\u001b[0m",
      "\u001b[1;32m<ipython-input-64-5c8124f3a5ca>\u001b[0m in \u001b[0;36msentiment_predict\u001b[1;34m(new_sentence)\u001b[0m\n\u001b[0;32m      5\u001b[0m     \u001b[0mencoded\u001b[0m \u001b[1;33m=\u001b[0m \u001b[0mtokenizer\u001b[0m\u001b[1;33m.\u001b[0m\u001b[0mtexts_to_sequences\u001b[0m\u001b[1;33m(\u001b[0m\u001b[1;33m[\u001b[0m\u001b[0mnew_sentence\u001b[0m\u001b[1;33m]\u001b[0m\u001b[1;33m)\u001b[0m \u001b[1;31m# 정수 인코딩\u001b[0m\u001b[1;33m\u001b[0m\u001b[1;33m\u001b[0m\u001b[0m\n\u001b[0;32m      6\u001b[0m     \u001b[0mpad_new\u001b[0m \u001b[1;33m=\u001b[0m \u001b[0mpad_sequences\u001b[0m\u001b[1;33m(\u001b[0m\u001b[0mencoded\u001b[0m\u001b[1;33m,\u001b[0m \u001b[0mmaxlen\u001b[0m \u001b[1;33m=\u001b[0m \u001b[0mmax_len\u001b[0m\u001b[1;33m)\u001b[0m \u001b[1;31m# 패딩\u001b[0m\u001b[1;33m\u001b[0m\u001b[1;33m\u001b[0m\u001b[0m\n\u001b[1;32m----> 7\u001b[1;33m     \u001b[0mscore\u001b[0m \u001b[1;33m=\u001b[0m \u001b[0mfloat\u001b[0m\u001b[1;33m(\u001b[0m\u001b[0mloaded_model\u001b[0m\u001b[1;33m.\u001b[0m\u001b[0mpredict\u001b[0m\u001b[1;33m(\u001b[0m\u001b[0mpad_new\u001b[0m\u001b[1;33m)\u001b[0m\u001b[1;33m)\u001b[0m \u001b[1;31m# 예측\u001b[0m\u001b[1;33m\u001b[0m\u001b[1;33m\u001b[0m\u001b[0m\n\u001b[0m\u001b[0;32m      8\u001b[0m     \u001b[1;32mif\u001b[0m\u001b[1;33m(\u001b[0m\u001b[0mscore\u001b[0m \u001b[1;33m>\u001b[0m \u001b[1;36m0.5\u001b[0m\u001b[1;33m)\u001b[0m\u001b[1;33m:\u001b[0m\u001b[1;33m\u001b[0m\u001b[1;33m\u001b[0m\u001b[0m\n\u001b[0;32m      9\u001b[0m         \u001b[0mprint\u001b[0m\u001b[1;33m(\u001b[0m\u001b[1;34m\"{}: {:.2f}% --.\\n\"\u001b[0m\u001b[1;33m.\u001b[0m\u001b[0mformat\u001b[0m\u001b[1;33m(\u001b[0m\u001b[0msent\u001b[0m\u001b[1;33m,\u001b[0m \u001b[0mscore\u001b[0m \u001b[1;33m*\u001b[0m \u001b[1;36m100\u001b[0m\u001b[1;33m)\u001b[0m\u001b[1;33m)\u001b[0m\u001b[1;33m\u001b[0m\u001b[1;33m\u001b[0m\u001b[0m\n",
      "\u001b[1;32m~\\anaconda3\\lib\\site-packages\\tensorflow\\python\\keras\\engine\\training.py\u001b[0m in \u001b[0;36m_method_wrapper\u001b[1;34m(self, *args, **kwargs)\u001b[0m\n\u001b[0;32m    128\u001b[0m       raise ValueError('{} is not supported in multi-worker mode.'.format(\n\u001b[0;32m    129\u001b[0m           method.__name__))\n\u001b[1;32m--> 130\u001b[1;33m     \u001b[1;32mreturn\u001b[0m \u001b[0mmethod\u001b[0m\u001b[1;33m(\u001b[0m\u001b[0mself\u001b[0m\u001b[1;33m,\u001b[0m \u001b[1;33m*\u001b[0m\u001b[0margs\u001b[0m\u001b[1;33m,\u001b[0m \u001b[1;33m**\u001b[0m\u001b[0mkwargs\u001b[0m\u001b[1;33m)\u001b[0m\u001b[1;33m\u001b[0m\u001b[1;33m\u001b[0m\u001b[0m\n\u001b[0m\u001b[0;32m    131\u001b[0m \u001b[1;33m\u001b[0m\u001b[0m\n\u001b[0;32m    132\u001b[0m   return tf_decorator.make_decorator(\n",
      "\u001b[1;32m~\\anaconda3\\lib\\site-packages\\tensorflow\\python\\keras\\engine\\training.py\u001b[0m in \u001b[0;36mpredict\u001b[1;34m(self, x, batch_size, verbose, steps, callbacks, max_queue_size, workers, use_multiprocessing)\u001b[0m\n\u001b[0;32m   1593\u001b[0m       \u001b[0mself\u001b[0m\u001b[1;33m.\u001b[0m\u001b[0m_predict_counter\u001b[0m\u001b[1;33m.\u001b[0m\u001b[0massign\u001b[0m\u001b[1;33m(\u001b[0m\u001b[1;36m0\u001b[0m\u001b[1;33m)\u001b[0m\u001b[1;33m\u001b[0m\u001b[1;33m\u001b[0m\u001b[0m\n\u001b[0;32m   1594\u001b[0m       \u001b[0mcallbacks\u001b[0m\u001b[1;33m.\u001b[0m\u001b[0mon_predict_begin\u001b[0m\u001b[1;33m(\u001b[0m\u001b[1;33m)\u001b[0m\u001b[1;33m\u001b[0m\u001b[1;33m\u001b[0m\u001b[0m\n\u001b[1;32m-> 1595\u001b[1;33m       \u001b[1;32mfor\u001b[0m \u001b[0m_\u001b[0m\u001b[1;33m,\u001b[0m \u001b[0miterator\u001b[0m \u001b[1;32min\u001b[0m \u001b[0mdata_handler\u001b[0m\u001b[1;33m.\u001b[0m\u001b[0menumerate_epochs\u001b[0m\u001b[1;33m(\u001b[0m\u001b[1;33m)\u001b[0m\u001b[1;33m:\u001b[0m  \u001b[1;31m# Single epoch.\u001b[0m\u001b[1;33m\u001b[0m\u001b[1;33m\u001b[0m\u001b[0m\n\u001b[0m\u001b[0;32m   1596\u001b[0m         \u001b[1;32mwith\u001b[0m \u001b[0mdata_handler\u001b[0m\u001b[1;33m.\u001b[0m\u001b[0mcatch_stop_iteration\u001b[0m\u001b[1;33m(\u001b[0m\u001b[1;33m)\u001b[0m\u001b[1;33m:\u001b[0m\u001b[1;33m\u001b[0m\u001b[1;33m\u001b[0m\u001b[0m\n\u001b[0;32m   1597\u001b[0m           \u001b[1;32mfor\u001b[0m \u001b[0mstep\u001b[0m \u001b[1;32min\u001b[0m \u001b[0mdata_handler\u001b[0m\u001b[1;33m.\u001b[0m\u001b[0msteps\u001b[0m\u001b[1;33m(\u001b[0m\u001b[1;33m)\u001b[0m\u001b[1;33m:\u001b[0m\u001b[1;33m\u001b[0m\u001b[1;33m\u001b[0m\u001b[0m\n",
      "\u001b[1;32m~\\anaconda3\\lib\\site-packages\\tensorflow\\python\\keras\\engine\\data_adapter.py\u001b[0m in \u001b[0;36menumerate_epochs\u001b[1;34m(self)\u001b[0m\n\u001b[0;32m   1136\u001b[0m     \u001b[1;34m\"\"\"Yields `(epoch, tf.data.Iterator)`.\"\"\"\u001b[0m\u001b[1;33m\u001b[0m\u001b[1;33m\u001b[0m\u001b[0m\n\u001b[0;32m   1137\u001b[0m     \u001b[1;32mwith\u001b[0m \u001b[0mself\u001b[0m\u001b[1;33m.\u001b[0m\u001b[0m_truncate_execution_to_epoch\u001b[0m\u001b[1;33m(\u001b[0m\u001b[1;33m)\u001b[0m\u001b[1;33m:\u001b[0m\u001b[1;33m\u001b[0m\u001b[1;33m\u001b[0m\u001b[0m\n\u001b[1;32m-> 1138\u001b[1;33m       \u001b[0mdata_iterator\u001b[0m \u001b[1;33m=\u001b[0m \u001b[0miter\u001b[0m\u001b[1;33m(\u001b[0m\u001b[0mself\u001b[0m\u001b[1;33m.\u001b[0m\u001b[0m_dataset\u001b[0m\u001b[1;33m)\u001b[0m\u001b[1;33m\u001b[0m\u001b[1;33m\u001b[0m\u001b[0m\n\u001b[0m\u001b[0;32m   1139\u001b[0m       \u001b[1;32mfor\u001b[0m \u001b[0mepoch\u001b[0m \u001b[1;32min\u001b[0m \u001b[0mrange\u001b[0m\u001b[1;33m(\u001b[0m\u001b[0mself\u001b[0m\u001b[1;33m.\u001b[0m\u001b[0m_initial_epoch\u001b[0m\u001b[1;33m,\u001b[0m \u001b[0mself\u001b[0m\u001b[1;33m.\u001b[0m\u001b[0m_epochs\u001b[0m\u001b[1;33m)\u001b[0m\u001b[1;33m:\u001b[0m\u001b[1;33m\u001b[0m\u001b[1;33m\u001b[0m\u001b[0m\n\u001b[0;32m   1140\u001b[0m         \u001b[1;32mif\u001b[0m \u001b[0mself\u001b[0m\u001b[1;33m.\u001b[0m\u001b[0m_insufficient_data\u001b[0m\u001b[1;33m:\u001b[0m  \u001b[1;31m# Set by `catch_stop_iteration`.\u001b[0m\u001b[1;33m\u001b[0m\u001b[1;33m\u001b[0m\u001b[0m\n",
      "\u001b[1;32m~\\anaconda3\\lib\\site-packages\\tensorflow\\python\\data\\ops\\dataset_ops.py\u001b[0m in \u001b[0;36m__iter__\u001b[1;34m(self)\u001b[0m\n\u001b[0;32m    413\u001b[0m     \"\"\"\n\u001b[0;32m    414\u001b[0m     \u001b[1;32mif\u001b[0m \u001b[0mcontext\u001b[0m\u001b[1;33m.\u001b[0m\u001b[0mexecuting_eagerly\u001b[0m\u001b[1;33m(\u001b[0m\u001b[1;33m)\u001b[0m \u001b[1;32mor\u001b[0m \u001b[0mops\u001b[0m\u001b[1;33m.\u001b[0m\u001b[0minside_function\u001b[0m\u001b[1;33m(\u001b[0m\u001b[1;33m)\u001b[0m\u001b[1;33m:\u001b[0m\u001b[1;33m\u001b[0m\u001b[1;33m\u001b[0m\u001b[0m\n\u001b[1;32m--> 415\u001b[1;33m       \u001b[1;32mreturn\u001b[0m \u001b[0miterator_ops\u001b[0m\u001b[1;33m.\u001b[0m\u001b[0mOwnedIterator\u001b[0m\u001b[1;33m(\u001b[0m\u001b[0mself\u001b[0m\u001b[1;33m)\u001b[0m\u001b[1;33m\u001b[0m\u001b[1;33m\u001b[0m\u001b[0m\n\u001b[0m\u001b[0;32m    416\u001b[0m     \u001b[1;32melse\u001b[0m\u001b[1;33m:\u001b[0m\u001b[1;33m\u001b[0m\u001b[1;33m\u001b[0m\u001b[0m\n\u001b[0;32m    417\u001b[0m       raise RuntimeError(\"__iter__() is only supported inside of tf.function \"\n",
      "\u001b[1;32m~\\anaconda3\\lib\\site-packages\\tensorflow\\python\\data\\ops\\iterator_ops.py\u001b[0m in \u001b[0;36m__init__\u001b[1;34m(self, dataset, components, element_spec, job_token)\u001b[0m\n\u001b[0;32m    694\u001b[0m           context.context().device_spec.device_type != \"CPU\"):\n\u001b[0;32m    695\u001b[0m         \u001b[1;32mwith\u001b[0m \u001b[0mops\u001b[0m\u001b[1;33m.\u001b[0m\u001b[0mdevice\u001b[0m\u001b[1;33m(\u001b[0m\u001b[1;34m\"/cpu:0\"\u001b[0m\u001b[1;33m)\u001b[0m\u001b[1;33m:\u001b[0m\u001b[1;33m\u001b[0m\u001b[1;33m\u001b[0m\u001b[0m\n\u001b[1;32m--> 696\u001b[1;33m           \u001b[0mself\u001b[0m\u001b[1;33m.\u001b[0m\u001b[0m_create_iterator\u001b[0m\u001b[1;33m(\u001b[0m\u001b[0mdataset\u001b[0m\u001b[1;33m)\u001b[0m\u001b[1;33m\u001b[0m\u001b[1;33m\u001b[0m\u001b[0m\n\u001b[0m\u001b[0;32m    697\u001b[0m       \u001b[1;32melse\u001b[0m\u001b[1;33m:\u001b[0m\u001b[1;33m\u001b[0m\u001b[1;33m\u001b[0m\u001b[0m\n\u001b[0;32m    698\u001b[0m         \u001b[0mself\u001b[0m\u001b[1;33m.\u001b[0m\u001b[0m_create_iterator\u001b[0m\u001b[1;33m(\u001b[0m\u001b[0mdataset\u001b[0m\u001b[1;33m)\u001b[0m\u001b[1;33m\u001b[0m\u001b[1;33m\u001b[0m\u001b[0m\n",
      "\u001b[1;32m~\\anaconda3\\lib\\site-packages\\tensorflow\\python\\data\\ops\\iterator_ops.py\u001b[0m in \u001b[0;36m_create_iterator\u001b[1;34m(self, dataset)\u001b[0m\n\u001b[0;32m    720\u001b[0m               output_shapes=self._flat_output_shapes))\n\u001b[0;32m    721\u001b[0m       \u001b[1;32mif\u001b[0m \u001b[0mself\u001b[0m\u001b[1;33m.\u001b[0m\u001b[0m_job_token\u001b[0m \u001b[1;32mis\u001b[0m \u001b[1;32mNone\u001b[0m\u001b[1;33m:\u001b[0m\u001b[1;33m\u001b[0m\u001b[1;33m\u001b[0m\u001b[0m\n\u001b[1;32m--> 722\u001b[1;33m         \u001b[0mgen_dataset_ops\u001b[0m\u001b[1;33m.\u001b[0m\u001b[0mmake_iterator\u001b[0m\u001b[1;33m(\u001b[0m\u001b[0mds_variant\u001b[0m\u001b[1;33m,\u001b[0m \u001b[0mself\u001b[0m\u001b[1;33m.\u001b[0m\u001b[0m_iterator_resource\u001b[0m\u001b[1;33m)\u001b[0m\u001b[1;33m\u001b[0m\u001b[1;33m\u001b[0m\u001b[0m\n\u001b[0m\u001b[0;32m    723\u001b[0m       \u001b[1;32melse\u001b[0m\u001b[1;33m:\u001b[0m\u001b[1;33m\u001b[0m\u001b[1;33m\u001b[0m\u001b[0m\n\u001b[0;32m    724\u001b[0m         gen_experimental_dataset_ops.make_data_service_iterator(\n",
      "\u001b[1;32m~\\anaconda3\\lib\\site-packages\\tensorflow\\python\\ops\\gen_dataset_ops.py\u001b[0m in \u001b[0;36mmake_iterator\u001b[1;34m(dataset, iterator, name)\u001b[0m\n\u001b[0;32m   3005\u001b[0m       _result = pywrap_tfe.TFE_Py_FastPathExecute(\n\u001b[0;32m   3006\u001b[0m         \u001b[0m_ctx\u001b[0m\u001b[1;33m.\u001b[0m\u001b[0m_context_handle\u001b[0m\u001b[1;33m,\u001b[0m \u001b[0mtld\u001b[0m\u001b[1;33m.\u001b[0m\u001b[0mdevice_name\u001b[0m\u001b[1;33m,\u001b[0m \u001b[1;34m\"MakeIterator\"\u001b[0m\u001b[1;33m,\u001b[0m \u001b[0mname\u001b[0m\u001b[1;33m,\u001b[0m\u001b[1;33m\u001b[0m\u001b[1;33m\u001b[0m\u001b[0m\n\u001b[1;32m-> 3007\u001b[1;33m         tld.op_callbacks, dataset, iterator)\n\u001b[0m\u001b[0;32m   3008\u001b[0m       \u001b[1;32mreturn\u001b[0m \u001b[0m_result\u001b[0m\u001b[1;33m\u001b[0m\u001b[1;33m\u001b[0m\u001b[0m\n\u001b[0;32m   3009\u001b[0m     \u001b[1;32mexcept\u001b[0m \u001b[0m_core\u001b[0m\u001b[1;33m.\u001b[0m\u001b[0m_NotOkStatusException\u001b[0m \u001b[1;32mas\u001b[0m \u001b[0me\u001b[0m\u001b[1;33m:\u001b[0m\u001b[1;33m\u001b[0m\u001b[1;33m\u001b[0m\u001b[0m\n",
      "\u001b[1;31mKeyboardInterrupt\u001b[0m: "
     ]
    }
   ],
   "source": [
    "for sentence in test_data['comments'][:100]:\n",
    "    sentiment_predict(sentence)"
   ]
  },
  {
   "cell_type": "code",
   "execution_count": null,
   "metadata": {},
   "outputs": [],
   "source": []
  }
 ],
 "metadata": {
  "accelerator": "GPU",
  "colab": {
   "name": "LSTM_yoon.ipynb",
   "provenance": []
  },
  "kernelspec": {
   "display_name": "Python 3",
   "language": "python",
   "name": "python3"
  },
  "language_info": {
   "codemirror_mode": {
    "name": "ipython",
    "version": 3
   },
   "file_extension": ".py",
   "mimetype": "text/x-python",
   "name": "python",
   "nbconvert_exporter": "python",
   "pygments_lexer": "ipython3",
   "version": "3.7.7"
  }
 },
 "nbformat": 4,
 "nbformat_minor": 1
}
