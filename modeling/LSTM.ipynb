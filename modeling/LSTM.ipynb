{
 "cells": [
  {
   "cell_type": "markdown",
   "metadata": {},
   "source": [
    "# LSTM 모델 성능 평가"
   ]
  },
  {
   "cell_type": "code",
   "execution_count": 10,
   "metadata": {
    "scrolled": true
   },
   "outputs": [],
   "source": [
    "import pickle\n",
    "import pandas as pd\n",
    "from tensorflow.keras.models import Sequential\n",
    "from tensorflow.keras.models import load_model\n",
    "from tensorflow.keras.layers import Embedding, Dense, LSTM\n",
    "from tensorflow.keras.callbacks import EarlyStopping, ModelCheckpoint\n",
    "from sklearn.metrics import classification_report, confusion_matrix"
   ]
  },
  {
   "cell_type": "code",
   "execution_count": 11,
   "metadata": {},
   "outputs": [],
   "source": [
    "test_data = pd.read_csv(\"../data/test.csv\")\n",
    "y_test = np.array(test_data['label'])"
   ]
  },
  {
   "cell_type": "code",
   "execution_count": 12,
   "metadata": {},
   "outputs": [],
   "source": [
    "with open(\"../data/pickle/vocab_sizes.pkl\", \"rb\") as f:\n",
    "    vocab_sizes = pickle.load(f)"
   ]
  },
  {
   "cell_type": "markdown",
   "metadata": {},
   "source": [
    "## Khaiii 형태소 분석기"
   ]
  },
  {
   "cell_type": "code",
   "execution_count": 17,
   "metadata": {},
   "outputs": [],
   "source": [
    "with open(\"../data/pickle/khaiii_X_train.pkl\", \"rb\") as f:\n",
    "    X_train = pickle.load(f)\n",
    "\n",
    "with open(\"../data/pickle/khaiii_y_train.pkl\", \"rb\") as f:\n",
    "    y_train = pickle.load(f)\n",
    "    \n",
    "with open(\"../data/pickle/khaiii_X_test.pkl\", \"rb\") as f:\n",
    "    X_test = pickle.load(f)"
   ]
  },
  {
   "cell_type": "code",
   "execution_count": 14,
   "metadata": {},
   "outputs": [
    {
     "name": "stdout",
     "output_type": "stream",
     "text": [
      "Model: \"sequential_1\"\n",
      "_________________________________________________________________\n",
      "Layer (type)                 Output Shape              Param #   \n",
      "=================================================================\n",
      "embedding (Embedding)        (None, None, 100)         2887400   \n",
      "_________________________________________________________________\n",
      "lstm (LSTM)                  (None, 128)               117248    \n",
      "_________________________________________________________________\n",
      "dense (Dense)                (None, 1)                 129       \n",
      "=================================================================\n",
      "Total params: 3,004,777\n",
      "Trainable params: 3,004,777\n",
      "Non-trainable params: 0\n",
      "_________________________________________________________________\n",
      "Train on 119995 samples, validate on 29999 samples\n",
      "Epoch 1/15\n",
      "119872/119995 [============================>.] - ETA: 0s - loss: 0.2104 - acc: 0.9131\n",
      "Epoch 00001: val_acc improved from -inf to 0.92983, saving model to t_khaiii_LSTM_single.h5\n",
      "119995/119995 [==============================] - 27s 226us/sample - loss: 0.2104 - acc: 0.9131 - val_loss: 0.1755 - val_acc: 0.9298\n",
      "Epoch 2/15\n",
      "119936/119995 [============================>.] - ETA: 0s - loss: 0.1636 - acc: 0.9340\n",
      "Epoch 00002: val_acc improved from 0.92983 to 0.93250, saving model to t_khaiii_LSTM_single.h5\n",
      "119995/119995 [==============================] - 24s 202us/sample - loss: 0.1636 - acc: 0.9340 - val_loss: 0.1712 - val_acc: 0.9325\n",
      "Epoch 3/15\n",
      "119936/119995 [============================>.] - ETA: 0s - loss: 0.1507 - acc: 0.9397\n",
      "Epoch 00003: val_acc improved from 0.93250 to 0.93530, saving model to t_khaiii_LSTM_single.h5\n",
      "119995/119995 [==============================] - 24s 203us/sample - loss: 0.1507 - acc: 0.9397 - val_loss: 0.1617 - val_acc: 0.9353\n",
      "Epoch 4/15\n",
      "119680/119995 [============================>.] - ETA: 0s - loss: 0.1402 - acc: 0.9447\n",
      "Epoch 00004: val_acc did not improve from 0.93530\n",
      "119995/119995 [==============================] - 24s 201us/sample - loss: 0.1402 - acc: 0.9447 - val_loss: 0.1597 - val_acc: 0.9353\n",
      "Epoch 5/15\n",
      "119808/119995 [============================>.] - ETA: 0s - loss: 0.1305 - acc: 0.9492\n",
      "Epoch 00005: val_acc improved from 0.93530 to 0.93780, saving model to t_khaiii_LSTM_single.h5\n",
      "119995/119995 [==============================] - 24s 203us/sample - loss: 0.1305 - acc: 0.9492 - val_loss: 0.1565 - val_acc: 0.9378\n",
      "Epoch 6/15\n",
      "119680/119995 [============================>.] - ETA: 0s - loss: 0.1221 - acc: 0.9527\n",
      "Epoch 00006: val_acc improved from 0.93780 to 0.93856, saving model to t_khaiii_LSTM_single.h5\n",
      "119995/119995 [==============================] - 24s 200us/sample - loss: 0.1221 - acc: 0.9527 - val_loss: 0.1572 - val_acc: 0.9386\n",
      "Epoch 7/15\n",
      "119680/119995 [============================>.] - ETA: 0s - loss: 0.1155 - acc: 0.9553\n",
      "Epoch 00007: val_acc improved from 0.93856 to 0.93923, saving model to t_khaiii_LSTM_single.h5\n",
      "119995/119995 [==============================] - 24s 201us/sample - loss: 0.1155 - acc: 0.9553 - val_loss: 0.1526 - val_acc: 0.9392\n",
      "Epoch 8/15\n",
      "119872/119995 [============================>.] - ETA: 0s - loss: 0.1085 - acc: 0.9583\n",
      "Epoch 00008: val_acc did not improve from 0.93923\n",
      "119995/119995 [==============================] - 24s 202us/sample - loss: 0.1085 - acc: 0.9583 - val_loss: 0.1588 - val_acc: 0.9362\n",
      "Epoch 9/15\n",
      "119744/119995 [============================>.] - ETA: 0s - loss: 0.1020 - acc: 0.9605\n",
      "Epoch 00009: val_acc did not improve from 0.93923\n",
      "119995/119995 [==============================] - 24s 200us/sample - loss: 0.1020 - acc: 0.9605 - val_loss: 0.1589 - val_acc: 0.9372\n",
      "Epoch 10/15\n",
      "119680/119995 [============================>.] - ETA: 0s - loss: 0.0961 - acc: 0.9631\n",
      "Epoch 00010: val_acc did not improve from 0.93923\n",
      "119995/119995 [==============================] - 25s 204us/sample - loss: 0.0961 - acc: 0.9631 - val_loss: 0.1634 - val_acc: 0.9360\n",
      "Epoch 11/15\n",
      "119808/119995 [============================>.] - ETA: 0s - loss: 0.0896 - acc: 0.9655\n",
      "Epoch 00011: val_acc did not improve from 0.93923\n",
      "119995/119995 [==============================] - 24s 201us/sample - loss: 0.0897 - acc: 0.9655 - val_loss: 0.1716 - val_acc: 0.9335\n",
      "Epoch 00011: early stopping\n"
     ]
    }
   ],
   "source": [
    "model = Sequential()\n",
    "model.add(Embedding(vocab_sizes[0], 100))\n",
    "model.add(LSTM(128))\n",
    "model.add(Dense(1, activation='sigmoid'))\n",
    "\n",
    "es = EarlyStopping(monitor='val_loss', mode='min', verbose=1, patience=4)\n",
    "mc = ModelCheckpoint('saved_models/khaiii_LSTM.h5', monitor='val_acc', mode='max', verbose=1, save_best_only=True)\n",
    "\n",
    "model.compile(optimizer='rmsprop', loss='binary_crossentropy', metrics=['acc'])\n",
    "model.summary()\n",
    "history = model.fit(X_train, y_train, epochs=15, callbacks=[es, mc], batch_size=64, validation_split=0.2)"
   ]
  },
  {
   "cell_type": "code",
   "execution_count": 18,
   "metadata": {},
   "outputs": [
    {
     "name": "stdout",
     "output_type": "stream",
     "text": [
      "36121/36121 [==============================] - 7s 187us/sample - loss: 0.1488 - acc: 0.9399\n",
      "\n",
      "테스트 정확도: 0.9399\n"
     ]
    }
   ],
   "source": [
    "loaded_model = load_model('saved_models/khaiii_LSTM.h5')\n",
    "print(\"\\n테스트 정확도: %.4f\" % (loaded_model.evaluate(X_test, y_test)[1]))"
   ]
  },
  {
   "cell_type": "code",
   "execution_count": 19,
   "metadata": {},
   "outputs": [
    {
     "name": "stdout",
     "output_type": "stream",
     "text": [
      "Khaiii 형태소 분석기\n",
      "              precision    recall  f1-score   support\n",
      "\n",
      "      Normal     0.9427    0.9402    0.9414     18550\n",
      "       Toxic     0.9371    0.9396    0.9383     17571\n",
      "\n",
      "    accuracy                         0.9399     36121\n",
      "   macro avg     0.9399    0.9399    0.9399     36121\n",
      "weighted avg     0.9399    0.9399    0.9399     36121\n",
      "\n",
      "confusion_matrix\n",
      "[[17441  1109]\n",
      " [ 1061 16510]]\n",
      "{17441: '48.28%', 1109: '3.07%', 1061: '2.94%', 16510: '45.71%'}\n"
     ]
    }
   ],
   "source": [
    "Y_pred = loaded_model.predict(X_test)\n",
    "y_pred = Y_pred > 0.5\n",
    "\n",
    "print(\"Khaiii 형태소 분석기\")\n",
    "print(classification_report(y_test, y_pred, target_names=[\"Normal\", \"Toxic\"], digits=4))\n",
    "\n",
    "cf_matrix = confusion_matrix(y_test, y_pred)\n",
    "percentages = [\"{:.2f}%\".format(value * 100) for value in\n",
    "               cf_matrix.flatten()/np.sum(cf_matrix)]\n",
    "\n",
    "\n",
    "cf_dict = dict(zip(cf_matrix.flatten(), percentages))\n",
    "print(\"confusion_matrix\")\n",
    "print(cf_matrix)\n",
    "print(cf_dict)"
   ]
  },
  {
   "cell_type": "markdown",
   "metadata": {},
   "source": [
    "## Okt 형태소 분석기"
   ]
  },
  {
   "cell_type": "code",
   "execution_count": 13,
   "metadata": {},
   "outputs": [],
   "source": [
    "with open(\"../data/pickle/okt_train_X.pkl\", \"rb\") as f:\n",
    "    X_train = pickle.load(f)\n",
    "\n",
    "with open(\"../data/pickle/okt_train_y.pkl\", \"rb\") as f:\n",
    "    y_train = pickle.load(f)\n",
    "    \n",
    "with open(\"../data/pickle/okt_test_X.pkl\", \"rb\") as f:\n",
    "    X_test = pickle.load(f)"
   ]
  },
  {
   "cell_type": "code",
   "execution_count": 14,
   "metadata": {},
   "outputs": [
    {
     "name": "stdout",
     "output_type": "stream",
     "text": [
      "Model: \"sequential\"\n",
      "_________________________________________________________________\n",
      "Layer (type)                 Output Shape              Param #   \n",
      "=================================================================\n",
      "embedding (Embedding)        (None, None, 100)         2513000   \n",
      "_________________________________________________________________\n",
      "lstm (LSTM)                  (None, 128)               117248    \n",
      "_________________________________________________________________\n",
      "dense (Dense)                (None, 1)                 129       \n",
      "=================================================================\n",
      "Total params: 2,630,377\n",
      "Trainable params: 2,630,377\n",
      "Non-trainable params: 0\n",
      "_________________________________________________________________\n",
      "Train on 119988 samples, validate on 29997 samples\n",
      "Epoch 1/15\n",
      "119936/119988 [============================>.] - ETA: 0s - loss: 0.1912 - acc: 0.9256\n",
      "Epoch 00001: val_acc improved from -inf to 0.93913, saving model to tokt_LSTM_single.h5\n",
      "119988/119988 [==============================] - 25s 209us/sample - loss: 0.1912 - acc: 0.9256 - val_loss: 0.1544 - val_acc: 0.9391\n",
      "Epoch 2/15\n",
      "119808/119988 [============================>.] - ETA: 0s - loss: 0.1444 - acc: 0.9435\n",
      "Epoch 00002: val_acc improved from 0.93913 to 0.94173, saving model to tokt_LSTM_single.h5\n",
      "119988/119988 [==============================] - 23s 193us/sample - loss: 0.1445 - acc: 0.9435 - val_loss: 0.1472 - val_acc: 0.9417\n",
      "Epoch 3/15\n",
      "119680/119988 [============================>.] - ETA: 0s - loss: 0.1333 - acc: 0.9481\n",
      "Epoch 00003: val_acc improved from 0.94173 to 0.94369, saving model to tokt_LSTM_single.h5\n",
      "119988/119988 [==============================] - 23s 191us/sample - loss: 0.1333 - acc: 0.9481 - val_loss: 0.1433 - val_acc: 0.9437\n",
      "Epoch 4/15\n",
      "119744/119988 [============================>.] - ETA: 0s - loss: 0.1235 - acc: 0.9533\n",
      "Epoch 00004: val_acc improved from 0.94369 to 0.94549, saving model to tokt_LSTM_single.h5\n",
      "119988/119988 [==============================] - 23s 190us/sample - loss: 0.1236 - acc: 0.9533 - val_loss: 0.1398 - val_acc: 0.9455\n",
      "Epoch 5/15\n",
      "119680/119988 [============================>.] - ETA: 0s - loss: 0.1154 - acc: 0.9568\n",
      "Epoch 00005: val_acc improved from 0.94549 to 0.94569, saving model to tokt_LSTM_single.h5\n",
      "119988/119988 [==============================] - 23s 191us/sample - loss: 0.1153 - acc: 0.9568 - val_loss: 0.1402 - val_acc: 0.9457\n",
      "Epoch 6/15\n",
      "119744/119988 [============================>.] - ETA: 0s - loss: 0.1083 - acc: 0.9594\n",
      "Epoch 00006: val_acc improved from 0.94569 to 0.94599, saving model to tokt_LSTM_single.h5\n",
      "119988/119988 [==============================] - 23s 191us/sample - loss: 0.1085 - acc: 0.9594 - val_loss: 0.1346 - val_acc: 0.9460\n",
      "Epoch 7/15\n",
      "119936/119988 [============================>.] - ETA: 0s - loss: 0.1028 - acc: 0.9622\n",
      "Epoch 00007: val_acc improved from 0.94599 to 0.94733, saving model to tokt_LSTM_single.h5\n",
      "119988/119988 [==============================] - 23s 194us/sample - loss: 0.1028 - acc: 0.9622 - val_loss: 0.1351 - val_acc: 0.9473\n",
      "Epoch 8/15\n",
      "119680/119988 [============================>.] - ETA: 0s - loss: 0.0971 - acc: 0.9640\n",
      "Epoch 00008: val_acc did not improve from 0.94733\n",
      "119988/119988 [==============================] - 24s 199us/sample - loss: 0.0972 - acc: 0.9640 - val_loss: 0.1364 - val_acc: 0.9463\n",
      "Epoch 9/15\n",
      "119808/119988 [============================>.] - ETA: 0s - loss: 0.0918 - acc: 0.9662- ETA: 0s - loss: 0.0913 \n",
      "Epoch 00009: val_acc did not improve from 0.94733\n",
      "119988/119988 [==============================] - 23s 194us/sample - loss: 0.0918 - acc: 0.9662 - val_loss: 0.1387 - val_acc: 0.9456\n",
      "Epoch 10/15\n",
      "119808/119988 [============================>.] - ETA: 0s - loss: 0.0864 - acc: 0.9682\n",
      "Epoch 00010: val_acc did not improve from 0.94733\n",
      "119988/119988 [==============================] - 24s 201us/sample - loss: 0.0864 - acc: 0.9682 - val_loss: 0.1579 - val_acc: 0.9401\n",
      "Epoch 00010: early stopping\n"
     ]
    }
   ],
   "source": [
    "model = Sequential()\n",
    "model.add(Embedding(vocab_sizes[1], 100))\n",
    "model.add(LSTM(128))\n",
    "model.add(Dense(1, activation='sigmoid'))\n",
    "\n",
    "es = EarlyStopping(monitor='val_loss', mode='min', verbose=1, patience=4)\n",
    "mc = ModelCheckpoint('saved_models/okt_LSTM.h5', monitor='val_acc', mode='max', verbose=1, save_best_only=True)\n",
    "\n",
    "model.compile(optimizer='rmsprop', loss='binary_crossentropy', metrics=['acc'])\n",
    "model.summary()\n",
    "history = model.fit(X_train, y_train, epochs=15, callbacks=[es, mc], batch_size=64, validation_split=0.2)"
   ]
  },
  {
   "cell_type": "code",
   "execution_count": 15,
   "metadata": {},
   "outputs": [
    {
     "name": "stdout",
     "output_type": "stream",
     "text": [
      "36121/36121 [==============================] - 7s 192us/sample - loss: 0.1349 - acc: 0.9481\n",
      "\n",
      "테스트 정확도: 0.9481\n"
     ]
    }
   ],
   "source": [
    "loaded_model = load_model('saved_models/okt_LSTM.h5')\n",
    "print(\"\\n테스트 정확도: %.4f\" % (loaded_model.evaluate(X_test, y_test)[1]))"
   ]
  },
  {
   "cell_type": "code",
   "execution_count": 16,
   "metadata": {},
   "outputs": [
    {
     "name": "stdout",
     "output_type": "stream",
     "text": [
      "Okt 형태소 분석기\n",
      "              precision    recall  f1-score   support\n",
      "\n",
      "      Normal     0.9569    0.9415    0.9491     18550\n",
      "       Toxic     0.9392    0.9552    0.9472     17571\n",
      "\n",
      "    accuracy                         0.9481     36121\n",
      "   macro avg     0.9481    0.9483    0.9481     36121\n",
      "weighted avg     0.9483    0.9481    0.9482     36121\n",
      "\n",
      "confusion_matrix\n",
      "[[17464  1086]\n",
      " [  787 16784]]\n",
      "{17464: '48.35%', 1086: '3.01%', 787: '2.18%', 16784: '46.47%'}\n"
     ]
    }
   ],
   "source": [
    "Y_pred = loaded_model.predict(X_test)\n",
    "y_pred = Y_pred > 0.5\n",
    "\n",
    "print(\"Okt 형태소 분석기\")\n",
    "print(classification_report(y_test, y_pred, target_names=[\"Normal\", \"Toxic\"], digits=4))\n",
    "\n",
    "cf_matrix = confusion_matrix(y_test, y_pred)\n",
    "percentages = [\"{:.2f}%\".format(value * 100) for value in\n",
    "               cf_matrix.flatten()/np.sum(cf_matrix)]\n",
    "\n",
    "\n",
    "cf_dict = dict(zip(cf_matrix.flatten(), percentages))\n",
    "print(\"confusion_matrix\")\n",
    "print(cf_matrix)\n",
    "print(cf_dict)"
   ]
  },
  {
   "cell_type": "markdown",
   "metadata": {},
   "source": [
    "## Mecab 형태소 분석기"
   ]
  },
  {
   "cell_type": "code",
   "execution_count": 22,
   "metadata": {},
   "outputs": [],
   "source": [
    "with open(\"../data/pickle/mecab_train_X.pkl\", \"rb\") as f:\n",
    "    X_train = pickle.load(f)\n",
    "\n",
    "with open(\"../data/pickle/mecab_train_y.pkl\", \"rb\") as f:\n",
    "    y_train = pickle.load(f)\n",
    "    \n",
    "with open(\"../data/pickle/mecab_test_X.pkl\", \"rb\") as f:\n",
    "    X_test = pickle.load(f)"
   ]
  },
  {
   "cell_type": "code",
   "execution_count": 23,
   "metadata": {},
   "outputs": [
    {
     "name": "stdout",
     "output_type": "stream",
     "text": [
      "Model: \"sequential_2\"\n",
      "_________________________________________________________________\n",
      "Layer (type)                 Output Shape              Param #   \n",
      "=================================================================\n",
      "embedding_2 (Embedding)      (None, None, 100)         2805600   \n",
      "_________________________________________________________________\n",
      "lstm_2 (LSTM)                (None, 128)               117248    \n",
      "_________________________________________________________________\n",
      "dense_2 (Dense)              (None, 1)                 129       \n",
      "=================================================================\n",
      "Total params: 2,922,977\n",
      "Trainable params: 2,922,977\n",
      "Non-trainable params: 0\n",
      "_________________________________________________________________\n",
      "Train on 119986 samples, validate on 29997 samples\n",
      "Epoch 1/15\n",
      "119744/119986 [============================>.] - ETA: 0s - loss: 0.1721 - acc: 0.9316\n",
      "Epoch 00001: val_acc improved from -inf to 0.94563, saving model to tmecab_LSTM_single.h5\n",
      "119986/119986 [==============================] - 26s 215us/sample - loss: 0.1721 - acc: 0.9316 - val_loss: 0.1403 - val_acc: 0.9456\n",
      "Epoch 2/15\n",
      "119936/119986 [============================>.] - ETA: 0s - loss: 0.1320 - acc: 0.9491\n",
      "Epoch 00002: val_acc improved from 0.94563 to 0.94809, saving model to tmecab_LSTM_single.h5\n",
      "119986/119986 [==============================] - 24s 201us/sample - loss: 0.1320 - acc: 0.9491 - val_loss: 0.1371 - val_acc: 0.9481\n",
      "Epoch 3/15\n",
      "119808/119986 [============================>.] - ETA: 0s - loss: 0.1220 - acc: 0.9535\n",
      "Epoch 00003: val_acc improved from 0.94809 to 0.94839, saving model to tmecab_LSTM_single.h5\n",
      "119986/119986 [==============================] - 24s 199us/sample - loss: 0.1220 - acc: 0.9535 - val_loss: 0.1319 - val_acc: 0.9484\n",
      "Epoch 4/15\n",
      "119936/119986 [============================>.] - ETA: 0s - loss: 0.1136 - acc: 0.9572\n",
      "Epoch 00004: val_acc improved from 0.94839 to 0.95003, saving model to tmecab_LSTM_single.h5\n",
      "119986/119986 [==============================] - 24s 198us/sample - loss: 0.1136 - acc: 0.9572 - val_loss: 0.1302 - val_acc: 0.9500\n",
      "Epoch 5/15\n",
      "119744/119986 [============================>.] - ETA: 0s - loss: 0.1066 - acc: 0.9600\n",
      "Epoch 00005: val_acc improved from 0.95003 to 0.95120, saving model to tmecab_LSTM_single.h5\n",
      "119986/119986 [==============================] - 24s 200us/sample - loss: 0.1066 - acc: 0.9601 - val_loss: 0.1268 - val_acc: 0.9512\n",
      "Epoch 6/15\n",
      "119680/119986 [============================>.] - ETA: 0s - loss: 0.1000 - acc: 0.9626\n",
      "Epoch 00006: val_acc did not improve from 0.95120\n",
      "119986/119986 [==============================] - 24s 199us/sample - loss: 0.0998 - acc: 0.9626 - val_loss: 0.1276 - val_acc: 0.9507\n",
      "Epoch 7/15\n",
      "119808/119986 [============================>.] - ETA: 0s - loss: 0.0937 - acc: 0.9651\n",
      "Epoch 00007: val_acc did not improve from 0.95120\n",
      "119986/119986 [==============================] - 24s 198us/sample - loss: 0.0937 - acc: 0.9651 - val_loss: 0.1254 - val_acc: 0.9503\n",
      "Epoch 8/15\n",
      "119936/119986 [============================>.] - ETA: 0s - loss: 0.0872 - acc: 0.9675\n",
      "Epoch 00008: val_acc did not improve from 0.95120\n",
      "119986/119986 [==============================] - 24s 197us/sample - loss: 0.0872 - acc: 0.9675 - val_loss: 0.1303 - val_acc: 0.9492\n",
      "Epoch 9/15\n",
      "119872/119986 [============================>.] - ETA: 0s - loss: 0.0821 - acc: 0.9695\n",
      "Epoch 00009: val_acc did not improve from 0.95120\n",
      "119986/119986 [==============================] - 23s 195us/sample - loss: 0.0821 - acc: 0.9695 - val_loss: 0.1290 - val_acc: 0.9504\n",
      "Epoch 10/15\n",
      "119936/119986 [============================>.] - ETA: 0s - loss: 0.0760 - acc: 0.9720\n",
      "Epoch 00010: val_acc did not improve from 0.95120\n",
      "119986/119986 [==============================] - 24s 202us/sample - loss: 0.0760 - acc: 0.9720 - val_loss: 0.1378 - val_acc: 0.9478\n",
      "Epoch 11/15\n",
      "119744/119986 [============================>.] - ETA: 0s - loss: 0.0704 - acc: 0.9743- ETA: 0s - loss: 0.0705 -\n",
      "Epoch 00011: val_acc did not improve from 0.95120\n",
      "119986/119986 [==============================] - 24s 202us/sample - loss: 0.0705 - acc: 0.9743 - val_loss: 0.1403 - val_acc: 0.9470\n",
      "Epoch 00011: early stopping\n"
     ]
    }
   ],
   "source": [
    "model = Sequential()\n",
    "model.add(Embedding(vocab_sizes[2], 100))\n",
    "model.add(LSTM(128))\n",
    "model.add(Dense(1, activation='sigmoid'))\n",
    "\n",
    "es = EarlyStopping(monitor='val_loss', mode='min', verbose=1, patience=4)\n",
    "mc = ModelCheckpoint('saved_models/mecab_LSTM.h5', monitor='val_acc', mode='max', verbose=1, save_best_only=True)\n",
    "\n",
    "model.compile(optimizer='rmsprop', loss='binary_crossentropy', metrics=['acc'])\n",
    "model.summary()\n",
    "history = model.fit(X_train, y_train, epochs=15, callbacks=[es, mc], batch_size=64, validation_split=0.2)"
   ]
  },
  {
   "cell_type": "code",
   "execution_count": 24,
   "metadata": {},
   "outputs": [
    {
     "name": "stdout",
     "output_type": "stream",
     "text": [
      "36121/36121 [==============================] - 7s 189us/sample - loss: 0.1272 - acc: 0.9526\n",
      "\n",
      "테스트 정확도: 0.9526\n"
     ]
    }
   ],
   "source": [
    "loaded_model = load_model('saved_models/mecab_LSTM.h5')\n",
    "print(\"\\n테스트 정확도: %.4f\" % (loaded_model.evaluate(X_test, y_test)[1]))"
   ]
  },
  {
   "cell_type": "code",
   "execution_count": 25,
   "metadata": {},
   "outputs": [
    {
     "name": "stdout",
     "output_type": "stream",
     "text": [
      "Mecab 형태소 분석기\n",
      "              precision    recall  f1-score   support\n",
      "\n",
      "      Normal     0.9574    0.9500    0.9537     18550\n",
      "       Toxic     0.9477    0.9554    0.9515     17571\n",
      "\n",
      "    accuracy                         0.9526     36121\n",
      "   macro avg     0.9525    0.9527    0.9526     36121\n",
      "weighted avg     0.9527    0.9526    0.9526     36121\n",
      "\n",
      "confusion_matrix\n",
      "[[17623   927]\n",
      " [  784 16787]]\n",
      "{17623: '48.79%', 927: '2.57%', 784: '2.17%', 16787: '46.47%'}\n"
     ]
    }
   ],
   "source": [
    "Y_pred = loaded_model.predict(X_test)\n",
    "y_pred = Y_pred > 0.5\n",
    "\n",
    "print(\"Mecab 형태소 분석기\")\n",
    "print(classification_report(y_test, y_pred, target_names=[\"Normal\", \"Toxic\"], digits=4))\n",
    "\n",
    "cf_matrix = confusion_matrix(y_test, y_pred)\n",
    "percentages = [\"{:.2f}%\".format(value * 100) for value in\n",
    "               cf_matrix.flatten()/np.sum(cf_matrix)]\n",
    "\n",
    "\n",
    "cf_dict = dict(zip(cf_matrix.flatten(), percentages))\n",
    "print(\"confusion_matrix\")\n",
    "print(cf_matrix)\n",
    "print(cf_dict)"
   ]
  }
 ],
 "metadata": {
  "kernelspec": {
   "display_name": "Python 3",
   "language": "python",
   "name": "python3"
  },
  "language_info": {
   "codemirror_mode": {
    "name": "ipython",
    "version": 3
   },
   "file_extension": ".py",
   "mimetype": "text/x-python",
   "name": "python",
   "nbconvert_exporter": "python",
   "pygments_lexer": "ipython3",
   "version": "3.6.10"
  },
  "toc": {
   "base_numbering": 1,
   "nav_menu": {},
   "number_sections": true,
   "sideBar": true,
   "skip_h1_title": false,
   "title_cell": "Table of Contents",
   "title_sidebar": "Contents",
   "toc_cell": false,
   "toc_position": {},
   "toc_section_display": true,
   "toc_window_display": false
  },
  "varInspector": {
   "cols": {
    "lenName": 16,
    "lenType": 16,
    "lenVar": 40
   },
   "kernels_config": {
    "python": {
     "delete_cmd_postfix": "",
     "delete_cmd_prefix": "del ",
     "library": "var_list.py",
     "varRefreshCmd": "print(var_dic_list())"
    },
    "r": {
     "delete_cmd_postfix": ") ",
     "delete_cmd_prefix": "rm(",
     "library": "var_list.r",
     "varRefreshCmd": "cat(var_dic_list()) "
    }
   },
   "types_to_exclude": [
    "module",
    "function",
    "builtin_function_or_method",
    "instance",
    "_Feature"
   ],
   "window_display": false
  }
 },
 "nbformat": 4,
 "nbformat_minor": 4
}
