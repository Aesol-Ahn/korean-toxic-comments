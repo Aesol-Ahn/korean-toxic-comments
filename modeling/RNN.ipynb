{
 "cells": [
  {
   "cell_type": "markdown",
   "metadata": {},
   "source": [
    "# RNN 모델 성능 평가"
   ]
  },
  {
   "cell_type": "code",
   "execution_count": 1,
   "metadata": {
    "scrolled": true
   },
   "outputs": [],
   "source": [
    "import pickle\n",
    "import pandas as pd\n",
    "from tensorflow.keras.models import Sequential\n",
    "from tensorflow.keras.models import load_model\n",
    "from tensorflow.keras.layers import Embedding, Dense, LSTM, SimpleRNN\n",
    "from tensorflow.keras.callbacks import EarlyStopping, ModelCheckpoint\n",
    "from sklearn.metrics import classification_report, confusion_matrix"
   ]
  },
  {
   "cell_type": "code",
   "execution_count": 2,
   "metadata": {},
   "outputs": [],
   "source": [
    "test_data = pd.read_csv(\"../data/test.csv\")\n",
    "y_test = np.array(test_data['label'])"
   ]
  },
  {
   "cell_type": "code",
   "execution_count": 3,
   "metadata": {},
   "outputs": [],
   "source": [
    "with open(\"../data/pickle/vocab_sizes.pkl\", \"rb\") as f:\n",
    "    vocab_sizes = pickle.load(f)"
   ]
  },
  {
   "cell_type": "markdown",
   "metadata": {},
   "source": [
    "## Khaiii 형태소 분석기"
   ]
  },
  {
   "cell_type": "code",
   "execution_count": 5,
   "metadata": {},
   "outputs": [],
   "source": [
    "with open(\"../data/pickle/khaiii_X_train.pkl\", \"rb\") as f:\n",
    "    X_train = pickle.load(f)\n",
    "\n",
    "with open(\"../data/pickle/khaiii_y_train.pkl\", \"rb\") as f:\n",
    "    y_train = pickle.load(f)\n",
    "    \n",
    "with open(\"../data/pickle/khaiii_X_test.pkl\", \"rb\") as f:\n",
    "    X_test = pickle.load(f)"
   ]
  },
  {
   "cell_type": "code",
   "execution_count": 6,
   "metadata": {},
   "outputs": [
    {
     "name": "stdout",
     "output_type": "stream",
     "text": [
      "Model: \"sequential\"\n",
      "_________________________________________________________________\n",
      "Layer (type)                 Output Shape              Param #   \n",
      "=================================================================\n",
      "embedding (Embedding)        (None, None, 100)         2887400   \n",
      "_________________________________________________________________\n",
      "simple_rnn (SimpleRNN)       (None, 128)               29312     \n",
      "_________________________________________________________________\n",
      "dense (Dense)                (None, 1)                 129       \n",
      "=================================================================\n",
      "Total params: 2,916,841\n",
      "Trainable params: 2,916,841\n",
      "Non-trainable params: 0\n",
      "_________________________________________________________________\n",
      "Train on 119995 samples, validate on 29999 samples\n",
      "Epoch 1/15\n",
      "119872/119995 [============================>.] - ETA: 0s - loss: 0.2637 - acc: 0.8888\n",
      "Epoch 00001: val_acc improved from -inf to 0.92496, saving model to saved_models/khaiii_RNN.h5\n",
      "119995/119995 [==============================] - 48s 402us/sample - loss: 0.2635 - acc: 0.8888 - val_loss: 0.1982 - val_acc: 0.9250\n",
      "Epoch 2/15\n",
      "119872/119995 [============================>.] - ETA: 0s - loss: 0.1975 - acc: 0.9222\n",
      "Epoch 00002: val_acc improved from 0.92496 to 0.92776, saving model to saved_models/khaiii_RNN.h5\n",
      "119995/119995 [==============================] - 47s 388us/sample - loss: 0.1975 - acc: 0.9222 - val_loss: 0.1834 - val_acc: 0.9278\n",
      "Epoch 3/15\n",
      "119872/119995 [============================>.] - ETA: 0s - loss: 0.1743 - acc: 0.9321\n",
      "Epoch 00003: val_acc did not improve from 0.92776\n",
      "119995/119995 [==============================] - 47s 395us/sample - loss: 0.1743 - acc: 0.9320 - val_loss: 0.1906 - val_acc: 0.9266\n",
      "Epoch 4/15\n",
      "119936/119995 [============================>.] - ETA: 0s - loss: 0.1635 - acc: 0.9366\n",
      "Epoch 00004: val_acc improved from 0.92776 to 0.93140, saving model to saved_models/khaiii_RNN.h5\n",
      "119995/119995 [==============================] - 52s 432us/sample - loss: 0.1635 - acc: 0.9366 - val_loss: 0.1767 - val_acc: 0.9314\n",
      "Epoch 5/15\n",
      "119872/119995 [============================>.] - ETA: 0s - loss: 0.1543 - acc: 0.9400\n",
      "Epoch 00005: val_acc improved from 0.93140 to 0.93233, saving model to saved_models/khaiii_RNN.h5\n",
      "119995/119995 [==============================] - 49s 405us/sample - loss: 0.1543 - acc: 0.9400 - val_loss: 0.1793 - val_acc: 0.9323\n",
      "Epoch 6/15\n",
      "119872/119995 [============================>.] - ETA: 0s - loss: 0.1389 - acc: 0.9467\n",
      "Epoch 00006: val_acc did not improve from 0.93233\n",
      "119995/119995 [==============================] - 51s 426us/sample - loss: 0.1389 - acc: 0.9467 - val_loss: 0.1789 - val_acc: 0.9273\n",
      "Epoch 7/15\n",
      "119936/119995 [============================>.] - ETA: 0s - loss: 0.1489 - acc: 0.9426\n",
      "Epoch 00007: val_acc did not improve from 0.93233\n",
      "119995/119995 [==============================] - 50s 419us/sample - loss: 0.1489 - acc: 0.9425 - val_loss: 0.1806 - val_acc: 0.9283\n",
      "Epoch 8/15\n",
      "119872/119995 [============================>.] - ETA: 0s - loss: 0.1339 - acc: 0.9491\n",
      "Epoch 00008: val_acc did not improve from 0.93233\n",
      "119995/119995 [==============================] - 49s 411us/sample - loss: 0.1340 - acc: 0.9491 - val_loss: 0.1896 - val_acc: 0.9208\n",
      "Epoch 00008: early stopping\n"
     ]
    }
   ],
   "source": [
    "model = Sequential()\n",
    "model.add(Embedding(vocab_sizes[0], 100))\n",
    "model.add(SimpleRNN(128))\n",
    "model.add(Dense(1, activation='sigmoid'))\n",
    "\n",
    "es = EarlyStopping(monitor='val_loss', mode='min', verbose=1, patience=4)\n",
    "mc = ModelCheckpoint('saved_models/khaiii_RNN.h5', monitor='val_acc', mode='max', verbose=1, save_best_only=True)\n",
    "\n",
    "model.compile(optimizer='rmsprop', loss='binary_crossentropy', metrics=['acc'])\n",
    "model.summary()\n",
    "history = model.fit(X_train, y_train, epochs=15, callbacks=[es, mc], batch_size=64, validation_split=0.2)"
   ]
  },
  {
   "cell_type": "code",
   "execution_count": 7,
   "metadata": {},
   "outputs": [
    {
     "name": "stdout",
     "output_type": "stream",
     "text": [
      "36121/36121 [==============================] - 5s 136us/sample - loss: 0.1763 - acc: 0.9347\n",
      "\n",
      "테스트 정확도: 0.9347\n"
     ]
    }
   ],
   "source": [
    "loaded_model = load_model('saved_models/khaiii_RNN.h5')\n",
    "print(\"\\n테스트 정확도: %.4f\" % (loaded_model.evaluate(X_test, y_test)[1]))"
   ]
  },
  {
   "cell_type": "code",
   "execution_count": 8,
   "metadata": {},
   "outputs": [
    {
     "name": "stdout",
     "output_type": "stream",
     "text": [
      "Khaiii 형태소 분석기\n",
      "              precision    recall  f1-score   support\n",
      "\n",
      "      Normal     0.9455    0.9264    0.9358     18550\n",
      "       Toxic     0.9239    0.9436    0.9336     17571\n",
      "\n",
      "    accuracy                         0.9347     36121\n",
      "   macro avg     0.9347    0.9350    0.9347     36121\n",
      "weighted avg     0.9350    0.9347    0.9348     36121\n",
      "\n",
      "confusion_matrix\n",
      "[[17184  1366]\n",
      " [  991 16580]]\n",
      "{17184: '47.57%', 1366: '3.78%', 991: '2.74%', 16580: '45.90%'}\n"
     ]
    }
   ],
   "source": [
    "Y_pred = loaded_model.predict(X_test)\n",
    "y_pred = Y_pred > 0.5\n",
    "\n",
    "print(\"Khaiii 형태소 분석기\")\n",
    "print(classification_report(y_test, y_pred, target_names=[\"Normal\", \"Toxic\"], digits=4))\n",
    "\n",
    "cf_matrix = confusion_matrix(y_test, y_pred)\n",
    "percentages = [\"{:.2f}%\".format(value * 100) for value in\n",
    "               cf_matrix.flatten()/np.sum(cf_matrix)]\n",
    "\n",
    "\n",
    "cf_dict = dict(zip(cf_matrix.flatten(), percentages))\n",
    "print(\"confusion_matrix\")\n",
    "print(cf_matrix)\n",
    "print(cf_dict)"
   ]
  },
  {
   "cell_type": "markdown",
   "metadata": {},
   "source": [
    "## Okt 형태소 분석기"
   ]
  },
  {
   "cell_type": "code",
   "execution_count": 9,
   "metadata": {},
   "outputs": [],
   "source": [
    "with open(\"../data/pickle/okt_train_X.pkl\", \"rb\") as f:\n",
    "    X_train = pickle.load(f)\n",
    "\n",
    "with open(\"../data/pickle/okt_train_y.pkl\", \"rb\") as f:\n",
    "    y_train = pickle.load(f)\n",
    "    \n",
    "with open(\"../data/pickle/okt_test_X.pkl\", \"rb\") as f:\n",
    "    X_test = pickle.load(f)"
   ]
  },
  {
   "cell_type": "code",
   "execution_count": 10,
   "metadata": {},
   "outputs": [
    {
     "name": "stdout",
     "output_type": "stream",
     "text": [
      "Model: \"sequential_1\"\n",
      "_________________________________________________________________\n",
      "Layer (type)                 Output Shape              Param #   \n",
      "=================================================================\n",
      "embedding_1 (Embedding)      (None, None, 100)         2887400   \n",
      "_________________________________________________________________\n",
      "simple_rnn_1 (SimpleRNN)     (None, 128)               29312     \n",
      "_________________________________________________________________\n",
      "dense_1 (Dense)              (None, 1)                 129       \n",
      "=================================================================\n",
      "Total params: 2,916,841\n",
      "Trainable params: 2,916,841\n",
      "Non-trainable params: 0\n",
      "_________________________________________________________________\n",
      "Train on 119988 samples, validate on 29997 samples\n",
      "Epoch 1/15\n",
      "119936/119988 [============================>.] - ETA: 0s - loss: 0.2398 - acc: 0.9005\n",
      "Epoch 00001: val_acc improved from -inf to 0.93136, saving model to saved_models/okt_RNN.h5\n",
      "119988/119988 [==============================] - 48s 403us/sample - loss: 0.2398 - acc: 0.9005 - val_loss: 0.1826 - val_acc: 0.9314\n",
      "Epoch 2/15\n",
      "119872/119988 [============================>.] - ETA: 0s - loss: 0.1685 - acc: 0.9348\n",
      "Epoch 00002: val_acc did not improve from 0.93136\n",
      "119988/119988 [==============================] - 46s 380us/sample - loss: 0.1685 - acc: 0.9348 - val_loss: 0.1753 - val_acc: 0.9267\n",
      "Epoch 3/15\n",
      "119872/119988 [============================>.] - ETA: 0s - loss: 0.1534 - acc: 0.9404\n",
      "Epoch 00003: val_acc improved from 0.93136 to 0.93903, saving model to saved_models/okt_RNN.h5\n",
      "119988/119988 [==============================] - 46s 382us/sample - loss: 0.1534 - acc: 0.9404 - val_loss: 0.1583 - val_acc: 0.9390\n",
      "Epoch 4/15\n",
      "119872/119988 [============================>.] - ETA: 0s - loss: 0.1441 - acc: 0.9452\n",
      "Epoch 00004: val_acc improved from 0.93903 to 0.94093, saving model to saved_models/okt_RNN.h5\n",
      "119988/119988 [==============================] - 47s 389us/sample - loss: 0.1441 - acc: 0.9452 - val_loss: 0.1524 - val_acc: 0.9409\n",
      "Epoch 5/15\n",
      "119872/119988 [============================>.] - ETA: 0s - loss: 0.1394 - acc: 0.9471\n",
      "Epoch 00005: val_acc did not improve from 0.94093\n",
      "119988/119988 [==============================] - 51s 424us/sample - loss: 0.1395 - acc: 0.9470 - val_loss: 0.1583 - val_acc: 0.9378\n",
      "Epoch 6/15\n",
      "119936/119988 [============================>.] - ETA: 0s - loss: 0.1346 - acc: 0.9497\n",
      "Epoch 00006: val_acc improved from 0.94093 to 0.94199, saving model to saved_models/okt_RNN.h5\n",
      "119988/119988 [==============================] - 52s 432us/sample - loss: 0.1346 - acc: 0.9498 - val_loss: 0.1518 - val_acc: 0.9420\n",
      "Epoch 7/15\n",
      "119936/119988 [============================>.] - ETA: 0s - loss: 0.1257 - acc: 0.9537- ETA: 1s - loss\n",
      "Epoch 00007: val_acc did not improve from 0.94199\n",
      "119988/119988 [==============================] - 50s 414us/sample - loss: 0.1258 - acc: 0.9537 - val_loss: 0.1565 - val_acc: 0.9389\n",
      "Epoch 8/15\n",
      "119872/119988 [============================>.] - ETA: 0s - loss: 0.1215 - acc: 0.9554\n",
      "Epoch 00008: val_acc did not improve from 0.94199\n",
      "119988/119988 [==============================] - 49s 412us/sample - loss: 0.1215 - acc: 0.9554 - val_loss: 0.1530 - val_acc: 0.9413\n",
      "Epoch 9/15\n",
      "119872/119988 [============================>.] - ETA: 0s - loss: 0.1165 - acc: 0.9573\n",
      "Epoch 00009: val_acc improved from 0.94199 to 0.94236, saving model to saved_models/okt_RNN.h5\n",
      "119988/119988 [==============================] - 49s 410us/sample - loss: 0.1166 - acc: 0.9573 - val_loss: 0.1521 - val_acc: 0.9424\n",
      "Epoch 10/15\n",
      "119872/119988 [============================>.] - ETA: 0s - loss: 0.1145 - acc: 0.9584\n",
      "Epoch 00010: val_acc improved from 0.94236 to 0.94293, saving model to saved_models/okt_RNN.h5\n",
      "119988/119988 [==============================] - 50s 416us/sample - loss: 0.1145 - acc: 0.9584 - val_loss: 0.1538 - val_acc: 0.9429\n",
      "Epoch 00010: early stopping\n"
     ]
    }
   ],
   "source": [
    "model = Sequential()\n",
    "model.add(Embedding(vocab_sizes[0], 100))\n",
    "model.add(SimpleRNN(128))\n",
    "model.add(Dense(1, activation='sigmoid'))\n",
    "\n",
    "es = EarlyStopping(monitor='val_loss', mode='min', verbose=1, patience=4)\n",
    "mc = ModelCheckpoint('saved_models/okt_RNN.h5', monitor='val_acc', mode='max', verbose=1, save_best_only=True)\n",
    "\n",
    "model.compile(optimizer='rmsprop', loss='binary_crossentropy', metrics=['acc'])\n",
    "model.summary()\n",
    "history = model.fit(X_train, y_train, epochs=15, callbacks=[es, mc], batch_size=64, validation_split=0.2)"
   ]
  },
  {
   "cell_type": "code",
   "execution_count": 11,
   "metadata": {},
   "outputs": [
    {
     "name": "stdout",
     "output_type": "stream",
     "text": [
      "36121/36121 [==============================] - 5s 136us/sample - loss: 0.1551 - acc: 0.9416\n",
      "\n",
      "테스트 정확도: 0.9416\n"
     ]
    }
   ],
   "source": [
    "loaded_model = load_model('saved_models/okt_RNN.h5')\n",
    "print(\"\\n테스트 정확도: %.4f\" % (loaded_model.evaluate(X_test, y_test)[1]))"
   ]
  },
  {
   "cell_type": "code",
   "execution_count": 12,
   "metadata": {},
   "outputs": [
    {
     "name": "stdout",
     "output_type": "stream",
     "text": [
      "Okt 형태소 분석기\n",
      "              precision    recall  f1-score   support\n",
      "\n",
      "      Normal     0.9547    0.9304    0.9424     18550\n",
      "       Toxic     0.9284    0.9534    0.9408     17571\n",
      "\n",
      "    accuracy                         0.9416     36121\n",
      "   macro avg     0.9416    0.9419    0.9416     36121\n",
      "weighted avg     0.9419    0.9416    0.9416     36121\n",
      "\n",
      "confusion_matrix\n",
      "[[17258  1292]\n",
      " [  818 16753]]\n",
      "{17258: '47.78%', 1292: '3.58%', 818: '2.26%', 16753: '46.38%'}\n"
     ]
    }
   ],
   "source": [
    "Y_pred = loaded_model.predict(X_test)\n",
    "y_pred = Y_pred > 0.5\n",
    "\n",
    "print(\"Okt 형태소 분석기\")\n",
    "print(classification_report(y_test, y_pred, target_names=[\"Normal\", \"Toxic\"], digits=4))\n",
    "\n",
    "cf_matrix = confusion_matrix(y_test, y_pred)\n",
    "percentages = [\"{:.2f}%\".format(value * 100) for value in\n",
    "               cf_matrix.flatten()/np.sum(cf_matrix)]\n",
    "\n",
    "\n",
    "cf_dict = dict(zip(cf_matrix.flatten(), percentages))\n",
    "print(\"confusion_matrix\")\n",
    "print(cf_matrix)\n",
    "print(cf_dict)"
   ]
  },
  {
   "cell_type": "markdown",
   "metadata": {},
   "source": [
    "## Mecab 형태소 분석기"
   ]
  },
  {
   "cell_type": "code",
   "execution_count": 13,
   "metadata": {},
   "outputs": [],
   "source": [
    "with open(\"../data/pickle/mecab_train_X.pkl\", \"rb\") as f:\n",
    "    X_train = pickle.load(f)\n",
    "\n",
    "with open(\"../data/pickle/mecab_train_y.pkl\", \"rb\") as f:\n",
    "    y_train = pickle.load(f)\n",
    "    \n",
    "with open(\"../data/pickle/mecab_test_X.pkl\", \"rb\") as f:\n",
    "    X_test = pickle.load(f)"
   ]
  },
  {
   "cell_type": "code",
   "execution_count": 14,
   "metadata": {},
   "outputs": [
    {
     "name": "stdout",
     "output_type": "stream",
     "text": [
      "Model: \"sequential_2\"\n",
      "_________________________________________________________________\n",
      "Layer (type)                 Output Shape              Param #   \n",
      "=================================================================\n",
      "embedding_2 (Embedding)      (None, None, 100)         2805600   \n",
      "_________________________________________________________________\n",
      "lstm (LSTM)                  (None, 128)               117248    \n",
      "_________________________________________________________________\n",
      "dense_2 (Dense)              (None, 1)                 129       \n",
      "=================================================================\n",
      "Total params: 2,922,977\n",
      "Trainable params: 2,922,977\n",
      "Non-trainable params: 0\n",
      "_________________________________________________________________\n",
      "Train on 119986 samples, validate on 29997 samples\n",
      "Epoch 1/15\n",
      "119872/119986 [============================>.] - ETA: 0s - loss: 0.1719 - acc: 0.9320\n",
      "Epoch 00001: val_acc improved from -inf to 0.94479, saving model to saved_models/mecab_RNN.h5\n",
      "119986/119986 [==============================] - 26s 216us/sample - loss: 0.1719 - acc: 0.9320 - val_loss: 0.1413 - val_acc: 0.9448\n",
      "Epoch 2/15\n",
      "119744/119986 [============================>.] - ETA: 0s - loss: 0.1318 - acc: 0.9490\n",
      "Epoch 00002: val_acc improved from 0.94479 to 0.94696, saving model to saved_models/mecab_RNN.h5\n",
      "119986/119986 [==============================] - 24s 196us/sample - loss: 0.1318 - acc: 0.9491 - val_loss: 0.1394 - val_acc: 0.9470\n",
      "Epoch 3/15\n",
      "119680/119986 [============================>.] - ETA: 0s - loss: 0.1224 - acc: 0.9532\n",
      "Epoch 00003: val_acc improved from 0.94696 to 0.94943, saving model to saved_models/mecab_RNN.h5\n",
      "119986/119986 [==============================] - 23s 196us/sample - loss: 0.1225 - acc: 0.9532 - val_loss: 0.1304 - val_acc: 0.9494\n",
      "Epoch 4/15\n",
      "119808/119986 [============================>.] - ETA: 0s - loss: 0.1134 - acc: 0.9572\n",
      "Epoch 00004: val_acc improved from 0.94943 to 0.95030, saving model to saved_models/mecab_RNN.h5\n",
      "119986/119986 [==============================] - 23s 194us/sample - loss: 0.1134 - acc: 0.9572 - val_loss: 0.1283 - val_acc: 0.9503\n",
      "Epoch 5/15\n",
      "119936/119986 [============================>.] - ETA: 0s - loss: 0.1061 - acc: 0.9600\n",
      "Epoch 00005: val_acc improved from 0.95030 to 0.95110, saving model to saved_models/mecab_RNN.h5\n",
      "119986/119986 [==============================] - 23s 195us/sample - loss: 0.1061 - acc: 0.9600 - val_loss: 0.1287 - val_acc: 0.9511\n",
      "Epoch 6/15\n",
      "119808/119986 [============================>.] - ETA: 0s - loss: 0.0998 - acc: 0.9629\n",
      "Epoch 00006: val_acc improved from 0.95110 to 0.95220, saving model to saved_models/mecab_RNN.h5\n",
      "119986/119986 [==============================] - 23s 194us/sample - loss: 0.0999 - acc: 0.9629 - val_loss: 0.1245 - val_acc: 0.9522\n",
      "Epoch 7/15\n",
      "119808/119986 [============================>.] - ETA: 0s - loss: 0.0941 - acc: 0.9646\n",
      "Epoch 00007: val_acc did not improve from 0.95220\n",
      "119986/119986 [==============================] - 24s 197us/sample - loss: 0.0941 - acc: 0.9646 - val_loss: 0.1278 - val_acc: 0.9500\n",
      "Epoch 8/15\n",
      "119808/119986 [============================>.] - ETA: 0s - loss: 0.0889 - acc: 0.9667\n",
      "Epoch 00008: val_acc did not improve from 0.95220\n",
      "119986/119986 [==============================] - 23s 195us/sample - loss: 0.0889 - acc: 0.9667 - val_loss: 0.1266 - val_acc: 0.9506\n",
      "Epoch 9/15\n",
      "119872/119986 [============================>.] - ETA: 0s - loss: 0.0832 - acc: 0.9691\n",
      "Epoch 00009: val_acc did not improve from 0.95220\n",
      "119986/119986 [==============================] - 23s 194us/sample - loss: 0.0832 - acc: 0.9691 - val_loss: 0.1347 - val_acc: 0.9484\n",
      "Epoch 10/15\n",
      "119936/119986 [============================>.] - ETA: 0s - loss: 0.0773 - acc: 0.9713\n",
      "Epoch 00010: val_acc did not improve from 0.95220\n",
      "119986/119986 [==============================] - 23s 195us/sample - loss: 0.0773 - acc: 0.9713 - val_loss: 0.1372 - val_acc: 0.9475\n",
      "Epoch 00010: early stopping\n"
     ]
    }
   ],
   "source": [
    "model = Sequential()\n",
    "model.add(Embedding(vocab_sizes[2], 100))\n",
    "model.add(LSTM(128))\n",
    "model.add(Dense(1, activation='sigmoid'))\n",
    "\n",
    "es = EarlyStopping(monitor='val_loss', mode='min', verbose=1, patience=4)\n",
    "mc = ModelCheckpoint('saved_models/mecab_RNN.h5', monitor='val_acc', mode='max', verbose=1, save_best_only=True)\n",
    "\n",
    "model.compile(optimizer='rmsprop', loss='binary_crossentropy', metrics=['acc'])\n",
    "model.summary()\n",
    "history = model.fit(X_train, y_train, epochs=15, callbacks=[es, mc], batch_size=64, validation_split=0.2)"
   ]
  },
  {
   "cell_type": "code",
   "execution_count": 15,
   "metadata": {},
   "outputs": [
    {
     "name": "stdout",
     "output_type": "stream",
     "text": [
      "36121/36121 [==============================] - 7s 190us/sample - loss: 0.1230 - acc: 0.9521\n",
      "\n",
      "테스트 정확도: 0.9521\n"
     ]
    }
   ],
   "source": [
    "loaded_model = load_model('saved_models/mecab_RNN.h5')\n",
    "print(\"\\n테스트 정확도: %.4f\" % (loaded_model.evaluate(X_test, y_test)[1]))"
   ]
  },
  {
   "cell_type": "code",
   "execution_count": 16,
   "metadata": {},
   "outputs": [
    {
     "name": "stdout",
     "output_type": "stream",
     "text": [
      "Mecab 형태소 분석기\n",
      "              precision    recall  f1-score   support\n",
      "\n",
      "      Normal     0.9578    0.9486    0.9531     18550\n",
      "       Toxic     0.9463    0.9558    0.9510     17571\n",
      "\n",
      "    accuracy                         0.9521     36121\n",
      "   macro avg     0.9520    0.9522    0.9521     36121\n",
      "weighted avg     0.9522    0.9521    0.9521     36121\n",
      "\n",
      "confusion_matrix\n",
      "[[17596   954]\n",
      " [  776 16795]]\n",
      "{17596: '48.71%', 954: '2.64%', 776: '2.15%', 16795: '46.50%'}\n"
     ]
    }
   ],
   "source": [
    "Y_pred = loaded_model.predict(X_test)\n",
    "y_pred = Y_pred > 0.5\n",
    "\n",
    "print(\"Mecab 형태소 분석기\")\n",
    "print(classification_report(y_test, y_pred, target_names=[\"Normal\", \"Toxic\"], digits=4))\n",
    "\n",
    "cf_matrix = confusion_matrix(y_test, y_pred)\n",
    "percentages = [\"{:.2f}%\".format(value * 100) for value in\n",
    "               cf_matrix.flatten()/np.sum(cf_matrix)]\n",
    "\n",
    "\n",
    "cf_dict = dict(zip(cf_matrix.flatten(), percentages))\n",
    "print(\"confusion_matrix\")\n",
    "print(cf_matrix)\n",
    "print(cf_dict)"
   ]
  }
 ],
 "metadata": {
  "kernelspec": {
   "display_name": "Python 3",
   "language": "python",
   "name": "python3"
  },
  "language_info": {
   "codemirror_mode": {
    "name": "ipython",
    "version": 3
   },
   "file_extension": ".py",
   "mimetype": "text/x-python",
   "name": "python",
   "nbconvert_exporter": "python",
   "pygments_lexer": "ipython3",
   "version": "3.6.10"
  },
  "toc": {
   "base_numbering": 1,
   "nav_menu": {},
   "number_sections": true,
   "sideBar": true,
   "skip_h1_title": false,
   "title_cell": "Table of Contents",
   "title_sidebar": "Contents",
   "toc_cell": false,
   "toc_position": {},
   "toc_section_display": true,
   "toc_window_display": false
  },
  "varInspector": {
   "cols": {
    "lenName": 16,
    "lenType": 16,
    "lenVar": 40
   },
   "kernels_config": {
    "python": {
     "delete_cmd_postfix": "",
     "delete_cmd_prefix": "del ",
     "library": "var_list.py",
     "varRefreshCmd": "print(var_dic_list())"
    },
    "r": {
     "delete_cmd_postfix": ") ",
     "delete_cmd_prefix": "rm(",
     "library": "var_list.r",
     "varRefreshCmd": "cat(var_dic_list()) "
    }
   },
   "types_to_exclude": [
    "module",
    "function",
    "builtin_function_or_method",
    "instance",
    "_Feature"
   ],
   "window_display": false
  }
 },
 "nbformat": 4,
 "nbformat_minor": 4
}
