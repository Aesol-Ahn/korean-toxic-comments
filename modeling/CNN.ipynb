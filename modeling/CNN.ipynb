{
 "cells": [
  {
   "cell_type": "markdown",
   "metadata": {},
   "source": [
    "# CNN 모델 성능 평가"
   ]
  },
  {
   "cell_type": "code",
   "execution_count": 1,
   "metadata": {
    "scrolled": true
   },
   "outputs": [],
   "source": [
    "import pickle\n",
    "import pandas as pd\n",
    "from tensorflow.keras.models import Sequential\n",
    "from tensorflow.keras.models import load_model\n",
    "from tensorflow.keras.layers import Embedding, Dense, LSTM\n",
    "from tensorflow.keras.callbacks import EarlyStopping, ModelCheckpoint\n",
    "from sklearn.metrics import classification_report, confusion_matrix"
   ]
  },
  {
   "cell_type": "code",
   "execution_count": 2,
   "metadata": {},
   "outputs": [],
   "source": [
    "test_data = pd.read_csv(\"../data/test.csv\")\n",
    "y_test = np.array(test_data['label'])"
   ]
  },
  {
   "cell_type": "code",
   "execution_count": 3,
   "metadata": {},
   "outputs": [],
   "source": [
    "with open(\"../data/vocab_sizes.pkl\", \"rb\") as f:\n",
    "    vocab_sizes = pickle.load(f)"
   ]
  },
  {
   "cell_type": "markdown",
   "metadata": {},
   "source": [
    "## Khaiii 형태소 분석기"
   ]
  },
  {
   "cell_type": "code",
   "execution_count": 4,
   "metadata": {},
   "outputs": [],
   "source": [
    "with open(\"../data/pickle/khaiii_X_train.pkl\", \"rb\") as f:\n",
    "    X_train = pickle.load(f)\n",
    "\n",
    "with open(\"../data/pickle/khaiii_y_train.pkl\", \"rb\") as f:\n",
    "    y_train = pickle.load(f)\n",
    "    \n",
    "with open(\"../data/pickle/khaiii_X_test.pkl\", \"rb\") as f:\n",
    "    X_test = pickle.load(f)"
   ]
  },
  {
   "cell_type": "code",
   "execution_count": 5,
   "metadata": {},
   "outputs": [
    {
     "name": "stdout",
     "output_type": "stream",
     "text": [
      "Model: \"sequential\"\n",
      "_________________________________________________________________\n",
      "Layer (type)                 Output Shape              Param #   \n",
      "=================================================================\n",
      "embedding (Embedding)        (None, None, 100)         2887400   \n",
      "_________________________________________________________________\n",
      "lstm (LSTM)                  (None, 128)               117248    \n",
      "_________________________________________________________________\n",
      "dense (Dense)                (None, 1)                 129       \n",
      "=================================================================\n",
      "Total params: 3,004,777\n",
      "Trainable params: 3,004,777\n",
      "Non-trainable params: 0\n",
      "_________________________________________________________________\n",
      "Train on 119995 samples, validate on 29999 samples\n",
      "Epoch 1/15\n",
      "119808/119995 [============================>.] - ETA: 0s - loss: 0.2090 - acc: 0.9142\n",
      "Epoch 00001: val_acc improved from -inf to 0.92976, saving model to saved_models/khaiii_CNN.h5\n",
      "119995/119995 [==============================] - 26s 220us/sample - loss: 0.2090 - acc: 0.9142 - val_loss: 0.1749 - val_acc: 0.9298\n",
      "Epoch 2/15\n",
      "119872/119995 [============================>.] - ETA: 0s - loss: 0.1633 - acc: 0.9336\n",
      "Epoch 00002: val_acc improved from 0.92976 to 0.93113, saving model to saved_models/khaiii_CNN.h5\n",
      "119995/119995 [==============================] - 24s 200us/sample - loss: 0.1632 - acc: 0.9336 - val_loss: 0.1701 - val_acc: 0.9311\n",
      "Epoch 3/15\n",
      "119872/119995 [============================>.] - ETA: 0s - loss: 0.1513 - acc: 0.9401\n",
      "Epoch 00003: val_acc improved from 0.93113 to 0.93550, saving model to saved_models/khaiii_CNN.h5\n",
      "119995/119995 [==============================] - 26s 214us/sample - loss: 0.1512 - acc: 0.9401 - val_loss: 0.1631 - val_acc: 0.9355\n",
      "Epoch 4/15\n",
      "119680/119995 [============================>.] - ETA: 0s - loss: 0.1400 - acc: 0.9449\n",
      "Epoch 00004: val_acc improved from 0.93550 to 0.93630, saving model to saved_models/khaiii_CNN.h5\n",
      "119995/119995 [==============================] - 24s 203us/sample - loss: 0.1400 - acc: 0.9449 - val_loss: 0.1569 - val_acc: 0.9363\n",
      "Epoch 5/15\n",
      "119808/119995 [============================>.] - ETA: 0s - loss: 0.1311 - acc: 0.9490\n",
      "Epoch 00005: val_acc improved from 0.93630 to 0.93803, saving model to saved_models/khaiii_CNN.h5\n",
      "119995/119995 [==============================] - 25s 211us/sample - loss: 0.1311 - acc: 0.9490 - val_loss: 0.1554 - val_acc: 0.9380\n",
      "Epoch 6/15\n",
      "119936/119995 [============================>.] - ETA: 0s - loss: 0.1236 - acc: 0.9517\n",
      "Epoch 00006: val_acc improved from 0.93803 to 0.93836, saving model to saved_models/khaiii_CNN.h5\n",
      "119995/119995 [==============================] - 24s 202us/sample - loss: 0.1236 - acc: 0.9517 - val_loss: 0.1528 - val_acc: 0.9384\n",
      "Epoch 7/15\n",
      "119680/119995 [============================>.] - ETA: 0s - loss: 0.1167 - acc: 0.9541\n",
      "Epoch 00007: val_acc improved from 0.93836 to 0.93890, saving model to saved_models/khaiii_CNN.h5\n",
      "119995/119995 [==============================] - 24s 200us/sample - loss: 0.1167 - acc: 0.9541 - val_loss: 0.1535 - val_acc: 0.9389\n",
      "Epoch 8/15\n",
      "119872/119995 [============================>.] - ETA: 0s - loss: 0.1099 - acc: 0.9577\n",
      "Epoch 00008: val_acc improved from 0.93890 to 0.94000, saving model to saved_models/khaiii_CNN.h5\n",
      "119995/119995 [==============================] - 24s 201us/sample - loss: 0.1100 - acc: 0.9577 - val_loss: 0.1560 - val_acc: 0.9400\n",
      "Epoch 9/15\n",
      "119872/119995 [============================>.] - ETA: 0s - loss: 0.1040 - acc: 0.9592\n",
      "Epoch 00009: val_acc did not improve from 0.94000\n",
      "119995/119995 [==============================] - 24s 203us/sample - loss: 0.1041 - acc: 0.9592 - val_loss: 0.1597 - val_acc: 0.9356\n",
      "Epoch 10/15\n",
      "119744/119995 [============================>.] - ETA: 0s - loss: 0.0988 - acc: 0.9614\n",
      "Epoch 00010: val_acc did not improve from 0.94000\n",
      "119995/119995 [==============================] - 25s 205us/sample - loss: 0.0988 - acc: 0.9614 - val_loss: 0.1620 - val_acc: 0.9374\n",
      "Epoch 00010: early stopping\n"
     ]
    }
   ],
   "source": [
    "model = Sequential()\n",
    "model.add(Embedding(vocab_sizes[0], 100))\n",
    "model.add(LSTM(128))\n",
    "model.add(Dense(1, activation='sigmoid'))\n",
    "\n",
    "es = EarlyStopping(monitor='val_loss', mode='min', verbose=1, patience=4)\n",
    "mc = ModelCheckpoint('saved_models/khaiii_CNN.h5', monitor='val_acc', mode='max', verbose=1, save_best_only=True)\n",
    "\n",
    "model.compile(optimizer='rmsprop', loss='binary_crossentropy', metrics=['acc'])\n",
    "model.summary()\n",
    "history = model.fit(X_train, y_train, epochs=15, callbacks=[es, mc], batch_size=64, validation_split=0.2)"
   ]
  },
  {
   "cell_type": "code",
   "execution_count": 6,
   "metadata": {},
   "outputs": [
    {
     "name": "stdout",
     "output_type": "stream",
     "text": [
      "36121/36121 [==============================] - 7s 192us/sample - loss: 0.1527 - acc: 0.9398\n",
      "\n",
      "테스트 정확도: 0.9398\n"
     ]
    }
   ],
   "source": [
    "loaded_model = load_model('saved_models/khaiii_CNN.h5')\n",
    "print(\"\\n테스트 정확도: %.4f\" % (loaded_model.evaluate(X_test, y_test)[1]))"
   ]
  },
  {
   "cell_type": "code",
   "execution_count": 7,
   "metadata": {},
   "outputs": [
    {
     "name": "stdout",
     "output_type": "stream",
     "text": [
      "Khaiii 형태소 분석기\n",
      "              precision    recall  f1-score   support\n",
      "\n",
      "      Normal     0.9440    0.9384    0.9412     18550\n",
      "       Toxic     0.9354    0.9413    0.9383     17571\n",
      "\n",
      "    accuracy                         0.9398     36121\n",
      "   macro avg     0.9397    0.9399    0.9398     36121\n",
      "weighted avg     0.9398    0.9398    0.9398     36121\n",
      "\n",
      "confusion_matrix\n",
      "[[17408  1142]\n",
      " [ 1032 16539]]\n",
      "{17408: '48.19%', 1142: '3.16%', 1032: '2.86%', 16539: '45.79%'}\n"
     ]
    }
   ],
   "source": [
    "Y_pred = loaded_model.predict(X_test)\n",
    "y_pred = Y_pred > 0.5\n",
    "\n",
    "print(\"Khaiii 형태소 분석기\")\n",
    "print(classification_report(y_test, y_pred, target_names=[\"Normal\", \"Toxic\"], digits=4))\n",
    "\n",
    "cf_matrix = confusion_matrix(y_test, y_pred)\n",
    "percentages = [\"{:.2f}%\".format(value * 100) for value in\n",
    "               cf_matrix.flatten()/np.sum(cf_matrix)]\n",
    "\n",
    "\n",
    "cf_dict = dict(zip(cf_matrix.flatten(), percentages))\n",
    "print(\"confusion_matrix\")\n",
    "print(cf_matrix)\n",
    "print(cf_dict)"
   ]
  },
  {
   "cell_type": "markdown",
   "metadata": {},
   "source": [
    "## Okt 형태소 분석기"
   ]
  },
  {
   "cell_type": "code",
   "execution_count": 8,
   "metadata": {},
   "outputs": [],
   "source": [
    "with open(\"../data/pickle/okt_train_X.pkl\", \"rb\") as f:\n",
    "    X_train = pickle.load(f)\n",
    "\n",
    "with open(\"../data/pickle/okt_train_y.pkl\", \"rb\") as f:\n",
    "    y_train = pickle.load(f)\n",
    "    \n",
    "with open(\"../data/pickle/okt_test_X.pkl\", \"rb\") as f:\n",
    "    X_test = pickle.load(f)"
   ]
  },
  {
   "cell_type": "code",
   "execution_count": 9,
   "metadata": {},
   "outputs": [
    {
     "name": "stdout",
     "output_type": "stream",
     "text": [
      "Model: \"sequential_1\"\n",
      "_________________________________________________________________\n",
      "Layer (type)                 Output Shape              Param #   \n",
      "=================================================================\n",
      "embedding_1 (Embedding)      (None, None, 100)         2513000   \n",
      "_________________________________________________________________\n",
      "lstm_1 (LSTM)                (None, 128)               117248    \n",
      "_________________________________________________________________\n",
      "dense_1 (Dense)              (None, 1)                 129       \n",
      "=================================================================\n",
      "Total params: 2,630,377\n",
      "Trainable params: 2,630,377\n",
      "Non-trainable params: 0\n",
      "_________________________________________________________________\n",
      "Train on 119988 samples, validate on 29997 samples\n",
      "Epoch 1/15\n",
      "119936/119988 [============================>.] - ETA: 0s - loss: 0.1920 - acc: 0.9236\n",
      "Epoch 00001: val_acc improved from -inf to 0.93813, saving model to saved_models/okt_CNN.h5\n",
      "119988/119988 [==============================] - 24s 202us/sample - loss: 0.1920 - acc: 0.9236 - val_loss: 0.1606 - val_acc: 0.9381\n",
      "Epoch 2/15\n",
      "119936/119988 [============================>.] - ETA: 0s - loss: 0.1443 - acc: 0.9436\n",
      "Epoch 00002: val_acc improved from 0.93813 to 0.94123, saving model to saved_models/okt_CNN.h5\n",
      "119988/119988 [==============================] - 22s 185us/sample - loss: 0.1443 - acc: 0.9436 - val_loss: 0.1507 - val_acc: 0.9412\n",
      "Epoch 3/15\n",
      "119680/119988 [============================>.] - ETA: 0s - loss: 0.1339 - acc: 0.9477- ETA: 1s - l\n",
      "Epoch 00003: val_acc did not improve from 0.94123\n",
      "119988/119988 [==============================] - 23s 189us/sample - loss: 0.1339 - acc: 0.9478 - val_loss: 0.1530 - val_acc: 0.9410\n",
      "Epoch 4/15\n",
      "119744/119988 [============================>.] - ETA: 0s - loss: 0.1248 - acc: 0.9523\n",
      "Epoch 00004: val_acc improved from 0.94123 to 0.94356, saving model to saved_models/okt_CNN.h5\n",
      "119988/119988 [==============================] - 23s 190us/sample - loss: 0.1248 - acc: 0.9523 - val_loss: 0.1405 - val_acc: 0.9436\n",
      "Epoch 5/15\n",
      "119744/119988 [============================>.] - ETA: 0s - loss: 0.1160 - acc: 0.9562\n",
      "Epoch 00005: val_acc improved from 0.94356 to 0.94653, saving model to saved_models/okt_CNN.h5\n",
      "119988/119988 [==============================] - 23s 191us/sample - loss: 0.1160 - acc: 0.9562 - val_loss: 0.1365 - val_acc: 0.9465\n",
      "Epoch 6/15\n",
      "119744/119988 [============================>.] - ETA: 0s - loss: 0.1093 - acc: 0.9595\n",
      "Epoch 00006: val_acc did not improve from 0.94653\n",
      "119988/119988 [==============================] - 23s 190us/sample - loss: 0.1093 - acc: 0.9595 - val_loss: 0.1377 - val_acc: 0.9457\n",
      "Epoch 7/15\n",
      "119936/119988 [============================>.] - ETA: 0s - loss: 0.1035 - acc: 0.9618\n",
      "Epoch 00007: val_acc improved from 0.94653 to 0.94789, saving model to saved_models/okt_CNN.h5\n",
      "119988/119988 [==============================] - 23s 191us/sample - loss: 0.1035 - acc: 0.9618 - val_loss: 0.1346 - val_acc: 0.9479\n",
      "Epoch 8/15\n",
      "119744/119988 [============================>.] - ETA: 0s - loss: 0.0974 - acc: 0.9636\n",
      "Epoch 00008: val_acc did not improve from 0.94789\n",
      "119988/119988 [==============================] - 23s 194us/sample - loss: 0.0974 - acc: 0.9636 - val_loss: 0.1402 - val_acc: 0.9457\n",
      "Epoch 9/15\n",
      "119808/119988 [============================>.] - ETA: 0s - loss: 0.0920 - acc: 0.9666\n",
      "Epoch 00009: val_acc did not improve from 0.94789\n",
      "119988/119988 [==============================] - 23s 188us/sample - loss: 0.0921 - acc: 0.9665 - val_loss: 0.1411 - val_acc: 0.9428\n",
      "Epoch 10/15\n",
      "119936/119988 [============================>.] - ETA: 0s - loss: 0.0861 - acc: 0.9683\n",
      "Epoch 00010: val_acc did not improve from 0.94789\n",
      "119988/119988 [==============================] - 23s 190us/sample - loss: 0.0861 - acc: 0.9683 - val_loss: 0.1430 - val_acc: 0.9436\n",
      "Epoch 11/15\n",
      "119680/119988 [============================>.] - ETA: 0s - loss: 0.0804 - acc: 0.9708\n",
      "Epoch 00011: val_acc did not improve from 0.94789\n",
      "119988/119988 [==============================] - 23s 190us/sample - loss: 0.0804 - acc: 0.9708 - val_loss: 0.1472 - val_acc: 0.9434\n",
      "Epoch 00011: early stopping\n"
     ]
    }
   ],
   "source": [
    "model = Sequential()\n",
    "model.add(Embedding(vocab_sizes[1], 100))\n",
    "model.add(LSTM(128))\n",
    "model.add(Dense(1, activation='sigmoid'))\n",
    "\n",
    "es = EarlyStopping(monitor='val_loss', mode='min', verbose=1, patience=4)\n",
    "mc = ModelCheckpoint('saved_models/okt_CNN.h5', monitor='val_acc', mode='max', verbose=1, save_best_only=True)\n",
    "\n",
    "model.compile(optimizer='rmsprop', loss='binary_crossentropy', metrics=['acc'])\n",
    "model.summary()\n",
    "history = model.fit(X_train, y_train, epochs=15, callbacks=[es, mc], batch_size=64, validation_split=0.2)"
   ]
  },
  {
   "cell_type": "code",
   "execution_count": 10,
   "metadata": {},
   "outputs": [
    {
     "name": "stdout",
     "output_type": "stream",
     "text": [
      "36121/36121 [==============================] - 7s 184us/sample - loss: 0.1339 - acc: 0.9479\n",
      "\n",
      "테스트 정확도: 0.9479\n"
     ]
    }
   ],
   "source": [
    "loaded_model = load_model('saved_models/okt_CNN.h5')\n",
    "print(\"\\n테스트 정확도: %.4f\" % (loaded_model.evaluate(X_test, y_test)[1]))"
   ]
  },
  {
   "cell_type": "code",
   "execution_count": 11,
   "metadata": {},
   "outputs": [
    {
     "name": "stdout",
     "output_type": "stream",
     "text": [
      "Okt 형태소 분석기\n",
      "              precision    recall  f1-score   support\n",
      "\n",
      "      Normal     0.9527    0.9454    0.9491     18550\n",
      "       Toxic     0.9429    0.9505    0.9467     17571\n",
      "\n",
      "    accuracy                         0.9479     36121\n",
      "   macro avg     0.9478    0.9480    0.9479     36121\n",
      "weighted avg     0.9479    0.9479    0.9479     36121\n",
      "\n",
      "confusion_matrix\n",
      "[[17538  1012]\n",
      " [  870 16701]]\n",
      "{17538: '48.55%', 1012: '2.80%', 870: '2.41%', 16701: '46.24%'}\n"
     ]
    }
   ],
   "source": [
    "Y_pred = loaded_model.predict(X_test)\n",
    "y_pred = Y_pred > 0.5\n",
    "\n",
    "print(\"Okt 형태소 분석기\")\n",
    "print(classification_report(y_test, y_pred, target_names=[\"Normal\", \"Toxic\"], digits=4))\n",
    "\n",
    "cf_matrix = confusion_matrix(y_test, y_pred)\n",
    "percentages = [\"{:.2f}%\".format(value * 100) for value in\n",
    "               cf_matrix.flatten()/np.sum(cf_matrix)]\n",
    "\n",
    "cf_dict = dict(zip(cf_matrix.flatten(), percentages))\n",
    "print(\"confusion_matrix\")\n",
    "print(cf_matrix)\n",
    "print(cf_dict)"
   ]
  },
  {
   "cell_type": "markdown",
   "metadata": {},
   "source": [
    "## Mecab 형태소 분석기"
   ]
  },
  {
   "cell_type": "code",
   "execution_count": 12,
   "metadata": {},
   "outputs": [],
   "source": [
    "with open(\"../data/pickle/mecab_train_X.pkl\", \"rb\") as f:\n",
    "    X_train = pickle.load(f)\n",
    "\n",
    "with open(\"../data/pickle/mecab_train_y.pkl\", \"rb\") as f:\n",
    "    y_train = pickle.load(f)\n",
    "    \n",
    "with open(\"../data/pickle/mecab_test_X.pkl\", \"rb\") as f:\n",
    "    X_test = pickle.load(f)"
   ]
  },
  {
   "cell_type": "code",
   "execution_count": 13,
   "metadata": {},
   "outputs": [
    {
     "name": "stdout",
     "output_type": "stream",
     "text": [
      "Model: \"sequential_2\"\n",
      "_________________________________________________________________\n",
      "Layer (type)                 Output Shape              Param #   \n",
      "=================================================================\n",
      "embedding_2 (Embedding)      (None, None, 100)         2805600   \n",
      "_________________________________________________________________\n",
      "lstm_2 (LSTM)                (None, 128)               117248    \n",
      "_________________________________________________________________\n",
      "dense_2 (Dense)              (None, 1)                 129       \n",
      "=================================================================\n",
      "Total params: 2,922,977\n",
      "Trainable params: 2,922,977\n",
      "Non-trainable params: 0\n",
      "_________________________________________________________________\n",
      "Train on 119986 samples, validate on 29997 samples\n",
      "Epoch 1/15\n",
      "119808/119986 [============================>.] - ETA: 0s - loss: 0.1727 - acc: 0.9320\n",
      "Epoch 00001: val_acc improved from -inf to 0.94573, saving model to saved_models/mecab_CNN.h5\n",
      "119986/119986 [==============================] - 25s 212us/sample - loss: 0.1726 - acc: 0.9321 - val_loss: 0.1403 - val_acc: 0.9457\n",
      "Epoch 2/15\n",
      "119936/119986 [============================>.] - ETA: 0s - loss: 0.1312 - acc: 0.9498\n",
      "Epoch 00002: val_acc improved from 0.94573 to 0.94649, saving model to saved_models/mecab_CNN.h5\n",
      "119986/119986 [==============================] - 23s 194us/sample - loss: 0.1312 - acc: 0.9498 - val_loss: 0.1450 - val_acc: 0.9465\n",
      "Epoch 3/15\n",
      "119936/119986 [============================>.] - ETA: 0s - loss: 0.1215 - acc: 0.9533\n",
      "Epoch 00003: val_acc improved from 0.94649 to 0.94899, saving model to saved_models/mecab_CNN.h5\n",
      "119986/119986 [==============================] - 24s 199us/sample - loss: 0.1215 - acc: 0.9533 - val_loss: 0.1359 - val_acc: 0.9490\n",
      "Epoch 4/15\n",
      "119808/119986 [============================>.] - ETA: 0s - loss: 0.1130 - acc: 0.9572\n",
      "Epoch 00004: val_acc improved from 0.94899 to 0.95130, saving model to saved_models/mecab_CNN.h5\n",
      "119986/119986 [==============================] - 24s 199us/sample - loss: 0.1130 - acc: 0.9572 - val_loss: 0.1256 - val_acc: 0.9513\n",
      "Epoch 5/15\n",
      "119872/119986 [============================>.] - ETA: 0s - loss: 0.1049 - acc: 0.9606\n",
      "Epoch 00005: val_acc improved from 0.95130 to 0.95173, saving model to saved_models/mecab_CNN.h5\n",
      "119986/119986 [==============================] - 24s 197us/sample - loss: 0.1049 - acc: 0.9606 - val_loss: 0.1244 - val_acc: 0.9517\n",
      "Epoch 6/15\n",
      "119936/119986 [============================>.] - ETA: 0s - loss: 0.0986 - acc: 0.9631\n",
      "Epoch 00006: val_acc improved from 0.95173 to 0.95176, saving model to saved_models/mecab_CNN.h5\n",
      "119986/119986 [==============================] - 24s 199us/sample - loss: 0.0986 - acc: 0.9631 - val_loss: 0.1231 - val_acc: 0.9518\n",
      "Epoch 7/15\n",
      "119680/119986 [============================>.] - ETA: 0s - loss: 0.0927 - acc: 0.9655\n",
      "Epoch 00007: val_acc did not improve from 0.95176\n",
      "119986/119986 [==============================] - 24s 198us/sample - loss: 0.0927 - acc: 0.9655 - val_loss: 0.1306 - val_acc: 0.9506\n",
      "Epoch 8/15\n",
      "119936/119986 [============================>.] - ETA: 0s - loss: 0.0877 - acc: 0.9674\n",
      "Epoch 00008: val_acc did not improve from 0.95176\n",
      "119986/119986 [==============================] - 24s 196us/sample - loss: 0.0877 - acc: 0.9674 - val_loss: 0.1295 - val_acc: 0.9500\n",
      "Epoch 9/15\n",
      "119744/119986 [============================>.] - ETA: 0s - loss: 0.0821 - acc: 0.9699\n",
      "Epoch 00009: val_acc did not improve from 0.95176\n",
      "119986/119986 [==============================] - 23s 195us/sample - loss: 0.0822 - acc: 0.9699 - val_loss: 0.1328 - val_acc: 0.9484\n",
      "Epoch 10/15\n",
      "119808/119986 [============================>.] - ETA: 0s - loss: 0.0770 - acc: 0.9718\n",
      "Epoch 00010: val_acc did not improve from 0.95176\n",
      "119986/119986 [==============================] - 23s 195us/sample - loss: 0.0769 - acc: 0.9718 - val_loss: 0.1343 - val_acc: 0.9498\n",
      "Epoch 00010: early stopping\n"
     ]
    }
   ],
   "source": [
    "model = Sequential()\n",
    "model.add(Embedding(vocab_sizes[2], 100))\n",
    "model.add(LSTM(128))\n",
    "model.add(Dense(1, activation='sigmoid'))\n",
    "\n",
    "es = EarlyStopping(monitor='val_loss', mode='min', verbose=1, patience=4)\n",
    "mc = ModelCheckpoint('saved_models/mecab_CNN.h5', monitor='val_acc', mode='max', verbose=1, save_best_only=True)\n",
    "\n",
    "model.compile(optimizer='rmsprop', loss='binary_crossentropy', metrics=['acc'])\n",
    "model.summary()\n",
    "history = model.fit(X_train, y_train, epochs=15, callbacks=[es, mc], batch_size=64, validation_split=0.2)"
   ]
  },
  {
   "cell_type": "code",
   "execution_count": 14,
   "metadata": {},
   "outputs": [
    {
     "name": "stdout",
     "output_type": "stream",
     "text": [
      "36121/36121 [==============================] - 7s 187us/sample - loss: 0.1216 - acc: 0.9526\n",
      "\n",
      "테스트 정확도: 0.9526\n"
     ]
    }
   ],
   "source": [
    "loaded_model = load_model('saved_models/mecab_CNN.h5')\n",
    "print(\"\\n테스트 정확도: %.4f\" % (loaded_model.evaluate(X_test, y_test)[1]))"
   ]
  },
  {
   "cell_type": "code",
   "execution_count": 15,
   "metadata": {},
   "outputs": [
    {
     "name": "stdout",
     "output_type": "stream",
     "text": [
      "Mecab 형태소 분석기\n",
      "              precision    recall  f1-score   support\n",
      "\n",
      "      Normal     0.9601    0.9470    0.9535     18550\n",
      "       Toxic     0.9448    0.9585    0.9516     17571\n",
      "\n",
      "    accuracy                         0.9526     36121\n",
      "   macro avg     0.9525    0.9527    0.9526     36121\n",
      "weighted avg     0.9527    0.9526    0.9526     36121\n",
      "\n",
      "confusion_matrix\n",
      "[[17567   983]\n",
      " [  730 16841]]\n",
      "{17567: '48.63%', 983: '2.72%', 730: '2.02%', 16841: '46.62%'}\n"
     ]
    }
   ],
   "source": [
    "Y_pred = loaded_model.predict(X_test)\n",
    "y_pred = Y_pred > 0.5\n",
    "\n",
    "print(\"Mecab 형태소 분석기\")\n",
    "print(classification_report(y_test, y_pred, target_names=[\"Normal\", \"Toxic\"], digits=4))\n",
    "\n",
    "cf_matrix = confusion_matrix(y_test, y_pred)\n",
    "percentages = [\"{:.2f}%\".format(value * 100) for value in\n",
    "               cf_matrix.flatten()/np.sum(cf_matrix)]\n",
    "\n",
    "cf_dict = dict(zip(cf_matrix.flatten(), percentages))\n",
    "print(\"confusion_matrix\")\n",
    "print(cf_matrix)\n",
    "print(cf_dict)"
   ]
  }
 ],
 "metadata": {
  "kernelspec": {
   "display_name": "Python 3",
   "language": "python",
   "name": "python3"
  },
  "language_info": {
   "codemirror_mode": {
    "name": "ipython",
    "version": 3
   },
   "file_extension": ".py",
   "mimetype": "text/x-python",
   "name": "python",
   "nbconvert_exporter": "python",
   "pygments_lexer": "ipython3",
   "version": "3.6.10"
  },
  "toc": {
   "base_numbering": 1,
   "nav_menu": {},
   "number_sections": true,
   "sideBar": true,
   "skip_h1_title": false,
   "title_cell": "Table of Contents",
   "title_sidebar": "Contents",
   "toc_cell": false,
   "toc_position": {},
   "toc_section_display": true,
   "toc_window_display": false
  },
  "varInspector": {
   "cols": {
    "lenName": 16,
    "lenType": 16,
    "lenVar": 40
   },
   "kernels_config": {
    "python": {
     "delete_cmd_postfix": "",
     "delete_cmd_prefix": "del ",
     "library": "var_list.py",
     "varRefreshCmd": "print(var_dic_list())"
    },
    "r": {
     "delete_cmd_postfix": ") ",
     "delete_cmd_prefix": "rm(",
     "library": "var_list.r",
     "varRefreshCmd": "cat(var_dic_list()) "
    }
   },
   "types_to_exclude": [
    "module",
    "function",
    "builtin_function_or_method",
    "instance",
    "_Feature"
   ],
   "window_display": false
  }
 },
 "nbformat": 4,
 "nbformat_minor": 4
}
