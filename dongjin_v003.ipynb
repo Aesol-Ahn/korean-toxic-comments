{
 "cells": [
  {
   "cell_type": "code",
   "execution_count": 1,
   "metadata": {},
   "outputs": [],
   "source": [
    "import numpy as np\n",
    "import pandas as pd\n",
    "import seaborn as sns\n",
    "import matplotlib.pyplot as plt\n",
    "from konlpy.tag import Okt\n",
    "from konlpy.utils import partition\n",
    "import re"
   ]
  },
  {
   "cell_type": "markdown",
   "metadata": {},
   "source": [
    "# 데이터 가져오기"
   ]
  },
  {
   "cell_type": "code",
   "execution_count": 2,
   "metadata": {},
   "outputs": [],
   "source": [
    "train=pd.read_csv('data/train.hate.csv')"
   ]
  },
  {
   "cell_type": "code",
   "execution_count": 3,
   "metadata": {},
   "outputs": [],
   "source": [
    "dev=pd.read_csv('data/dev.hate.csv')"
   ]
  },
  {
   "cell_type": "code",
   "execution_count": 4,
   "metadata": {},
   "outputs": [],
   "source": [
    "test=pd.read_csv('data/test.hate.no_label.csv')"
   ]
  },
  {
   "cell_type": "code",
   "execution_count": 5,
   "metadata": {},
   "outputs": [
    {
     "name": "stdout",
     "output_type": "stream",
     "text": [
      "<class 'pandas.core.frame.DataFrame'>\n",
      "RangeIndex: 471 entries, 0 to 470\n",
      "Data columns (total 2 columns):\n",
      " #   Column    Non-Null Count  Dtype \n",
      "---  ------    --------------  ----- \n",
      " 0   comments  471 non-null    object\n",
      " 1   label     471 non-null    object\n",
      "dtypes: object(2)\n",
      "memory usage: 7.5+ KB\n"
     ]
    }
   ],
   "source": [
    "dev.info()"
   ]
  },
  {
   "cell_type": "code",
   "execution_count": 6,
   "metadata": {},
   "outputs": [
    {
     "name": "stdout",
     "output_type": "stream",
     "text": [
      "<class 'pandas.core.frame.DataFrame'>\n",
      "RangeIndex: 7896 entries, 0 to 7895\n",
      "Data columns (total 2 columns):\n",
      " #   Column    Non-Null Count  Dtype \n",
      "---  ------    --------------  ----- \n",
      " 0   comments  7896 non-null   object\n",
      " 1   label     7896 non-null   object\n",
      "dtypes: object(2)\n",
      "memory usage: 123.5+ KB\n"
     ]
    }
   ],
   "source": [
    "train.info()"
   ]
  },
  {
   "cell_type": "code",
   "execution_count": 7,
   "metadata": {
    "scrolled": true
   },
   "outputs": [
    {
     "name": "stdout",
     "output_type": "stream",
     "text": [
      "<class 'pandas.core.frame.DataFrame'>\n",
      "RangeIndex: 974 entries, 0 to 973\n",
      "Data columns (total 1 columns):\n",
      " #   Column    Non-Null Count  Dtype \n",
      "---  ------    --------------  ----- \n",
      " 0   comments  974 non-null    object\n",
      "dtypes: object(1)\n",
      "memory usage: 7.7+ KB\n"
     ]
    }
   ],
   "source": [
    "test.info()"
   ]
  },
  {
   "cell_type": "code",
   "execution_count": 8,
   "metadata": {},
   "outputs": [],
   "source": [
    "train=pd.concat([train,dev])  #7896:"
   ]
  },
  {
   "cell_type": "code",
   "execution_count": 9,
   "metadata": {},
   "outputs": [
    {
     "data": {
      "text/html": [
       "<div>\n",
       "<style scoped>\n",
       "    .dataframe tbody tr th:only-of-type {\n",
       "        vertical-align: middle;\n",
       "    }\n",
       "\n",
       "    .dataframe tbody tr th {\n",
       "        vertical-align: top;\n",
       "    }\n",
       "\n",
       "    .dataframe thead th {\n",
       "        text-align: right;\n",
       "    }\n",
       "</style>\n",
       "<table border=\"1\" class=\"dataframe\">\n",
       "  <thead>\n",
       "    <tr style=\"text-align: right;\">\n",
       "      <th></th>\n",
       "      <th>comments</th>\n",
       "      <th>label</th>\n",
       "    </tr>\n",
       "  </thead>\n",
       "  <tbody>\n",
       "    <tr>\n",
       "      <th>0</th>\n",
       "      <td>(현재 호텔주인 심정) 아18 난 마른하늘에 날벼락맞고 호텔망하게생겼는데 누군 계속...</td>\n",
       "      <td>hate</td>\n",
       "    </tr>\n",
       "    <tr>\n",
       "      <th>1</th>\n",
       "      <td>....한국적인 미인의 대표적인 분...너무나 곱고아름다운모습...그모습뒤의 슬픔을...</td>\n",
       "      <td>none</td>\n",
       "    </tr>\n",
       "    <tr>\n",
       "      <th>2</th>\n",
       "      <td>...못된 넘들...남의 고통을 즐겼던 넘들..이젠 마땅한 처벌을 받아야지..,그래...</td>\n",
       "      <td>hate</td>\n",
       "    </tr>\n",
       "    <tr>\n",
       "      <th>3</th>\n",
       "      <td>1,2화 어설펐는데 3,4화 지나서부터는 갈수록 너무 재밌던데</td>\n",
       "      <td>none</td>\n",
       "    </tr>\n",
       "    <tr>\n",
       "      <th>4</th>\n",
       "      <td>1. 사람 얼굴 손톱으로 긁은것은 인격살해이고2. 동영상이 몰카냐? 메걸리안들 생각...</td>\n",
       "      <td>hate</td>\n",
       "    </tr>\n",
       "    <tr>\n",
       "      <th>...</th>\n",
       "      <td>...</td>\n",
       "      <td>...</td>\n",
       "    </tr>\n",
       "    <tr>\n",
       "      <th>466</th>\n",
       "      <td>지현우 범죄 저지르지 않았나요?</td>\n",
       "      <td>offensive</td>\n",
       "    </tr>\n",
       "    <tr>\n",
       "      <th>467</th>\n",
       "      <td>여자인생 망칠 일 있나 ㅋㅋ</td>\n",
       "      <td>hate</td>\n",
       "    </tr>\n",
       "    <tr>\n",
       "      <th>468</th>\n",
       "      <td>근데 전라도에서 사고가 났는데 굳이 서울까지 와서 병원에 가느 이유는?</td>\n",
       "      <td>offensive</td>\n",
       "    </tr>\n",
       "    <tr>\n",
       "      <th>469</th>\n",
       "      <td>할매젖x, 뱃살x, 몸매 s라인, 유륜은 적당해야됨(너무크거나 너무 작아도 x), ...</td>\n",
       "      <td>hate</td>\n",
       "    </tr>\n",
       "    <tr>\n",
       "      <th>470</th>\n",
       "      <td>남자가 잘못한거라면... 반성도 없다면...나였다면 ... 여자처럼 아주 못되게 할...</td>\n",
       "      <td>none</td>\n",
       "    </tr>\n",
       "  </tbody>\n",
       "</table>\n",
       "<p>8367 rows × 2 columns</p>\n",
       "</div>"
      ],
      "text/plain": [
       "                                              comments      label\n",
       "0    (현재 호텔주인 심정) 아18 난 마른하늘에 날벼락맞고 호텔망하게생겼는데 누군 계속...       hate\n",
       "1    ....한국적인 미인의 대표적인 분...너무나 곱고아름다운모습...그모습뒤의 슬픔을...       none\n",
       "2    ...못된 넘들...남의 고통을 즐겼던 넘들..이젠 마땅한 처벌을 받아야지..,그래...       hate\n",
       "3                   1,2화 어설펐는데 3,4화 지나서부터는 갈수록 너무 재밌던데       none\n",
       "4    1. 사람 얼굴 손톱으로 긁은것은 인격살해이고2. 동영상이 몰카냐? 메걸리안들 생각...       hate\n",
       "..                                                 ...        ...\n",
       "466                                  지현우 범죄 저지르지 않았나요?  offensive\n",
       "467                                    여자인생 망칠 일 있나 ㅋㅋ       hate\n",
       "468            근데 전라도에서 사고가 났는데 굳이 서울까지 와서 병원에 가느 이유는?  offensive\n",
       "469  할매젖x, 뱃살x, 몸매 s라인, 유륜은 적당해야됨(너무크거나 너무 작아도 x), ...       hate\n",
       "470  남자가 잘못한거라면... 반성도 없다면...나였다면 ... 여자처럼 아주 못되게 할...       none\n",
       "\n",
       "[8367 rows x 2 columns]"
      ]
     },
     "execution_count": 9,
     "metadata": {},
     "output_type": "execute_result"
    }
   ],
   "source": [
    "train"
   ]
  },
  {
   "cell_type": "code",
   "execution_count": 10,
   "metadata": {
    "scrolled": true
   },
   "outputs": [
    {
     "data": {
      "text/plain": [
       "<matplotlib.axes._subplots.AxesSubplot at 0x1d767baa6a0>"
      ]
     },
     "execution_count": 10,
     "metadata": {},
     "output_type": "execute_result"
    },
    {
     "data": {
      "image/png": "[encoded data removed]",
      "text/plain": [
       "<Figure size 432x288 with 1 Axes>"
      ]
     },
     "metadata": {
      "needs_background": "light"
     },
     "output_type": "display_data"
    }
   ],
   "source": [
    "train['label'].value_counts()\n",
    "train['label'].value_counts().plot(kind='bar')"
   ]
  },
  {
   "cell_type": "code",
   "execution_count": 11,
   "metadata": {},
   "outputs": [],
   "source": [
    "train['label_band']=train['label'].map({'none':0,'offensive':1,'hate':2})"
   ]
  },
  {
   "cell_type": "code",
   "execution_count": 12,
   "metadata": {},
   "outputs": [
    {
     "data": {
      "text/html": [
       "<div>\n",
       "<style scoped>\n",
       "    .dataframe tbody tr th:only-of-type {\n",
       "        vertical-align: middle;\n",
       "    }\n",
       "\n",
       "    .dataframe tbody tr th {\n",
       "        vertical-align: top;\n",
       "    }\n",
       "\n",
       "    .dataframe thead th {\n",
       "        text-align: right;\n",
       "    }\n",
       "</style>\n",
       "<table border=\"1\" class=\"dataframe\">\n",
       "  <thead>\n",
       "    <tr style=\"text-align: right;\">\n",
       "      <th></th>\n",
       "      <th>comments</th>\n",
       "      <th>label</th>\n",
       "      <th>label_band</th>\n",
       "    </tr>\n",
       "  </thead>\n",
       "  <tbody>\n",
       "    <tr>\n",
       "      <th>0</th>\n",
       "      <td>(현재 호텔주인 심정) 아18 난 마른하늘에 날벼락맞고 호텔망하게생겼는데 누군 계속...</td>\n",
       "      <td>hate</td>\n",
       "      <td>2</td>\n",
       "    </tr>\n",
       "    <tr>\n",
       "      <th>1</th>\n",
       "      <td>....한국적인 미인의 대표적인 분...너무나 곱고아름다운모습...그모습뒤의 슬픔을...</td>\n",
       "      <td>none</td>\n",
       "      <td>0</td>\n",
       "    </tr>\n",
       "    <tr>\n",
       "      <th>2</th>\n",
       "      <td>...못된 넘들...남의 고통을 즐겼던 넘들..이젠 마땅한 처벌을 받아야지..,그래...</td>\n",
       "      <td>hate</td>\n",
       "      <td>2</td>\n",
       "    </tr>\n",
       "    <tr>\n",
       "      <th>3</th>\n",
       "      <td>1,2화 어설펐는데 3,4화 지나서부터는 갈수록 너무 재밌던데</td>\n",
       "      <td>none</td>\n",
       "      <td>0</td>\n",
       "    </tr>\n",
       "    <tr>\n",
       "      <th>4</th>\n",
       "      <td>1. 사람 얼굴 손톱으로 긁은것은 인격살해이고2. 동영상이 몰카냐? 메걸리안들 생각...</td>\n",
       "      <td>hate</td>\n",
       "      <td>2</td>\n",
       "    </tr>\n",
       "  </tbody>\n",
       "</table>\n",
       "</div>"
      ],
      "text/plain": [
       "                                            comments label  label_band\n",
       "0  (현재 호텔주인 심정) 아18 난 마른하늘에 날벼락맞고 호텔망하게생겼는데 누군 계속...  hate           2\n",
       "1  ....한국적인 미인의 대표적인 분...너무나 곱고아름다운모습...그모습뒤의 슬픔을...  none           0\n",
       "2  ...못된 넘들...남의 고통을 즐겼던 넘들..이젠 마땅한 처벌을 받아야지..,그래...  hate           2\n",
       "3                 1,2화 어설펐는데 3,4화 지나서부터는 갈수록 너무 재밌던데  none           0\n",
       "4  1. 사람 얼굴 손톱으로 긁은것은 인격살해이고2. 동영상이 몰카냐? 메걸리안들 생각...  hate           2"
      ]
     },
     "execution_count": 12,
     "metadata": {},
     "output_type": "execute_result"
    }
   ],
   "source": [
    "train.head()"
   ]
  },
  {
   "cell_type": "markdown",
   "metadata": {},
   "source": [
    "# 데이터 전처리"
   ]
  },
  {
   "cell_type": "code",
   "execution_count": 13,
   "metadata": {},
   "outputs": [],
   "source": [
    "wordDict={\"[\\W+]\":\" \",'[\\d+]':' ','[ㅡ+]':'','[ㅠ+]':'','[ㅜ+]':'','[ㄱ-ㅎ]':'','ᆢᆢ':''}"
   ]
  },
  {
   "cell_type": "code",
   "execution_count": 14,
   "metadata": {},
   "outputs": [],
   "source": [
    "for i,j in wordDict.items():\n",
    "    train['comments']=train.comments.str.replace(i,j)"
   ]
  },
  {
   "cell_type": "code",
   "execution_count": 15,
   "metadata": {},
   "outputs": [],
   "source": [
    "# def cw(x):\n",
    "#     simdict={'추카':'축하'}\n",
    "#     for index,word in simdict.items():\n",
    "#         return re.sub(index,word,x)"
   ]
  },
  {
   "cell_type": "code",
   "execution_count": 16,
   "metadata": {},
   "outputs": [],
   "source": [
    "# train['comments']=train.comments.apply(cw)"
   ]
  },
  {
   "cell_type": "markdown",
   "metadata": {},
   "source": [
    "### 문자=> 숫자 (단어 길이와 빈도수를 조절)"
   ]
  },
  {
   "cell_type": "code",
   "execution_count": 17,
   "metadata": {},
   "outputs": [],
   "source": [
    "n=2  #단어 길이\n",
    "m=3  # 빈도수"
   ]
  },
  {
   "cell_type": "code",
   "execution_count": 18,
   "metadata": {},
   "outputs": [
    {
     "name": "stderr",
     "output_type": "stream",
     "text": [
      "C:\\Users\\i\\anaconda3\\lib\\site-packages\\pandas\\core\\indexing.py:671: SettingWithCopyWarning: \n",
      "A value is trying to be set on a copy of a slice from a DataFrame\n",
      "\n",
      "See the caveats in the documentation: https://pandas.pydata.org/pandas-docs/stable/user_guide/indexing.html#returning-a-view-versus-a-copy\n",
      "  self._setitem_with_indexer(indexer, value)\n"
     ]
    }
   ],
   "source": [
    "okt=Okt()\n",
    "wordList=[]\n",
    "word_index={}\n",
    "wordCount={}\n",
    "train['corpus']=0\n",
    "for index ,sentencs in enumerate(train.comments):\n",
    "    words=okt.morphs(sentencs,stem=True)\n",
    "    train['corpus'].iloc[index]=words\n",
    "    for word in words:\n",
    "        if len(word) >= n:\n",
    "            if word not in wordList:\n",
    "                wordCount[word]=1\n",
    "                wordList.append(word)\n",
    "            else:\n",
    "                wordCount[word]=wordCount[word]+1\n",
    "wordList=[]                \n",
    "for words in train['corpus']:\n",
    "    for word in words:\n",
    "        if len(word) >=n:\n",
    "            if wordCount[word] >= m:\n",
    "                if word not in wordList:\n",
    "                    word_index[word]=len(wordList)\n",
    "                    wordList.append(word)"
   ]
  },
  {
   "cell_type": "code",
   "execution_count": 19,
   "metadata": {},
   "outputs": [
    {
     "data": {
      "text/html": [
       "<div>\n",
       "<style scoped>\n",
       "    .dataframe tbody tr th:only-of-type {\n",
       "        vertical-align: middle;\n",
       "    }\n",
       "\n",
       "    .dataframe tbody tr th {\n",
       "        vertical-align: top;\n",
       "    }\n",
       "\n",
       "    .dataframe thead th {\n",
       "        text-align: right;\n",
       "    }\n",
       "</style>\n",
       "<table border=\"1\" class=\"dataframe\">\n",
       "  <thead>\n",
       "    <tr style=\"text-align: right;\">\n",
       "      <th></th>\n",
       "      <th>comments</th>\n",
       "      <th>label</th>\n",
       "      <th>label_band</th>\n",
       "      <th>corpus</th>\n",
       "    </tr>\n",
       "  </thead>\n",
       "  <tbody>\n",
       "    <tr>\n",
       "      <th>0</th>\n",
       "      <td>현재 호텔주인 심정  아   난 마른하늘에 날벼락맞고 호텔망하게생겼는데 누군 계속...</td>\n",
       "      <td>hate</td>\n",
       "      <td>2</td>\n",
       "      <td>[현재, 호텔, 주인, 심정, 아, 난, 마른하늘, 에, 날벼락, 맞다, 호텔, 망...</td>\n",
       "    </tr>\n",
       "    <tr>\n",
       "      <th>1</th>\n",
       "      <td>한국적인 미인의 대표적인 분   너무나 곱고아름다운모습   그모습뒤의 슬픔을...</td>\n",
       "      <td>none</td>\n",
       "      <td>0</td>\n",
       "      <td>[한국, 적, 인, 미인, 의, 대표, 적, 인, 분, 너무나, 곱, 고, 아름답다...</td>\n",
       "    </tr>\n",
       "    <tr>\n",
       "      <th>2</th>\n",
       "      <td>못된 넘들   남의 고통을 즐겼던 넘들  이젠 마땅한 처벌을 받아야지   그래...</td>\n",
       "      <td>hate</td>\n",
       "      <td>2</td>\n",
       "      <td>[못, 되다, 넘다, 들다, 남, 의, 고통, 을, 즐기다, 넘다, 들다, 이, 젠...</td>\n",
       "    </tr>\n",
       "    <tr>\n",
       "      <th>3</th>\n",
       "      <td>화 어설펐는데    화 지나서부터는 갈수록 너무 재밌던데</td>\n",
       "      <td>none</td>\n",
       "      <td>0</td>\n",
       "      <td>[화, 어설프다, 화, 지나다, 갈수록, 너무, 재밌다]</td>\n",
       "    </tr>\n",
       "    <tr>\n",
       "      <th>4</th>\n",
       "      <td>사람 얼굴 손톱으로 긁은것은 인격살해이고   동영상이 몰카냐  메걸리안들 생각...</td>\n",
       "      <td>hate</td>\n",
       "      <td>2</td>\n",
       "      <td>[사람, 얼굴, 손톱, 으로, 긁다, 인격, 살해, 이고, 동영상, 이, 몰카, 냐...</td>\n",
       "    </tr>\n",
       "    <tr>\n",
       "      <th>...</th>\n",
       "      <td>...</td>\n",
       "      <td>...</td>\n",
       "      <td>...</td>\n",
       "      <td>...</td>\n",
       "    </tr>\n",
       "    <tr>\n",
       "      <th>466</th>\n",
       "      <td>지현우 범죄 저지르지 않았나요</td>\n",
       "      <td>offensive</td>\n",
       "      <td>1</td>\n",
       "      <td>[지현우, 범죄, 저지르다, 않다]</td>\n",
       "    </tr>\n",
       "    <tr>\n",
       "      <th>467</th>\n",
       "      <td>여자인생 망칠 일 있나</td>\n",
       "      <td>hate</td>\n",
       "      <td>2</td>\n",
       "      <td>[여자, 인생, 망치다, 일, 있다]</td>\n",
       "    </tr>\n",
       "    <tr>\n",
       "      <th>468</th>\n",
       "      <td>근데 전라도에서 사고가 났는데 굳이 서울까지 와서 병원에 가느 이유는</td>\n",
       "      <td>offensive</td>\n",
       "      <td>1</td>\n",
       "      <td>[근데, 전라도, 에서, 사고, 가, 나다, 굳이, 서울, 까지, 오다, 병원, 에...</td>\n",
       "    </tr>\n",
       "    <tr>\n",
       "      <th>469</th>\n",
       "      <td>할매젖x  뱃살x  몸매 s라인  유륜은 적당해야됨 너무크거나 너무 작아도 x   ...</td>\n",
       "      <td>hate</td>\n",
       "      <td>2</td>\n",
       "      <td>[하다, 젖, x, 뱃살, x, 몸매, s, 라인, 유륜, 은, 적당하다, 되다, ...</td>\n",
       "    </tr>\n",
       "    <tr>\n",
       "      <th>470</th>\n",
       "      <td>남자가 잘못한거라면    반성도 없다면   나였다면     여자처럼 아주 못되게 할...</td>\n",
       "      <td>none</td>\n",
       "      <td>0</td>\n",
       "      <td>[남자, 가, 잘, 못, 하다, 반성, 도, 없다, 나다, 여자, 처럼, 아주, 못...</td>\n",
       "    </tr>\n",
       "  </tbody>\n",
       "</table>\n",
       "<p>8367 rows × 4 columns</p>\n",
       "</div>"
      ],
      "text/plain": [
       "                                              comments      label  label_band  \\\n",
       "0     현재 호텔주인 심정  아   난 마른하늘에 날벼락맞고 호텔망하게생겼는데 누군 계속...       hate           2   \n",
       "1        한국적인 미인의 대표적인 분   너무나 곱고아름다운모습   그모습뒤의 슬픔을...       none           0   \n",
       "2       못된 넘들   남의 고통을 즐겼던 넘들  이젠 마땅한 처벌을 받아야지   그래...       hate           2   \n",
       "3                      화 어설펐는데    화 지나서부터는 갈수록 너무 재밌던데       none           0   \n",
       "4       사람 얼굴 손톱으로 긁은것은 인격살해이고   동영상이 몰카냐  메걸리안들 생각...       hate           2   \n",
       "..                                                 ...        ...         ...   \n",
       "466                                  지현우 범죄 저지르지 않았나요   offensive           1   \n",
       "467                                      여자인생 망칠 일 있나        hate           2   \n",
       "468            근데 전라도에서 사고가 났는데 굳이 서울까지 와서 병원에 가느 이유는   offensive           1   \n",
       "469  할매젖x  뱃살x  몸매 s라인  유륜은 적당해야됨 너무크거나 너무 작아도 x   ...       hate           2   \n",
       "470  남자가 잘못한거라면    반성도 없다면   나였다면     여자처럼 아주 못되게 할...       none           0   \n",
       "\n",
       "                                                corpus  \n",
       "0    [현재, 호텔, 주인, 심정, 아, 난, 마른하늘, 에, 날벼락, 맞다, 호텔, 망...  \n",
       "1    [한국, 적, 인, 미인, 의, 대표, 적, 인, 분, 너무나, 곱, 고, 아름답다...  \n",
       "2    [못, 되다, 넘다, 들다, 남, 의, 고통, 을, 즐기다, 넘다, 들다, 이, 젠...  \n",
       "3                      [화, 어설프다, 화, 지나다, 갈수록, 너무, 재밌다]  \n",
       "4    [사람, 얼굴, 손톱, 으로, 긁다, 인격, 살해, 이고, 동영상, 이, 몰카, 냐...  \n",
       "..                                                 ...  \n",
       "466                                [지현우, 범죄, 저지르다, 않다]  \n",
       "467                               [여자, 인생, 망치다, 일, 있다]  \n",
       "468  [근데, 전라도, 에서, 사고, 가, 나다, 굳이, 서울, 까지, 오다, 병원, 에...  \n",
       "469  [하다, 젖, x, 뱃살, x, 몸매, s, 라인, 유륜, 은, 적당하다, 되다, ...  \n",
       "470  [남자, 가, 잘, 못, 하다, 반성, 도, 없다, 나다, 여자, 처럼, 아주, 못...  \n",
       "\n",
       "[8367 rows x 4 columns]"
      ]
     },
     "execution_count": 19,
     "metadata": {},
     "output_type": "execute_result"
    }
   ],
   "source": [
    "train"
   ]
  },
  {
   "cell_type": "code",
   "execution_count": 20,
   "metadata": {},
   "outputs": [
    {
     "name": "stdout",
     "output_type": "stream",
     "text": [
      "['BTS', 'JTBC', 'JYP', 'KBS', 'OOO', 'SM', 'SNS', 'TV', 'YG', 'aoa', 'bj', 'bts', 'bye', 'cf', 'com', 'https', 'jk', 'jyp', 'kbs', 'kg', 'mbc', 'mc', 'ost', 'sm', 'sns', 'to', 'tv', 'tvN', 'vs', 'xx', 'yg', '가가', '가게', '가격', '가관', '가기', '가꾸다', '가끔', '가나', '가난하다', '가늘다', '가능', '가능성', '가능하다', '가다', '가도', '가득', '가득하다', '가든', '가라', '가로세로', '가루', '가르다', '가르치다', '가리다', '가만있다', '가만히', '가면', '가버리다', '가볍다', '가보', '가보다', '가사', '가세', '가수', '가슴', '가시다', '가식', '가야', '가요', '가요무대', '가운데', '가장', '가정', '가정사', '가져오다', '가족', '가즈', '가지', '가지가지', '가지다', '가짜', '가치관', '가하다', '가해자', '가희', '각자', '간다', '간만', '간이', '간지', '갈구다', '갈다', '갈라', '갈리다', '갈수', '갈수록', '갈아', '감다', '감당', '감독', '감동', '감사', '감사하다', '감성', '감싸다', '감옥', '감정', '감정이입', '감추다', '감탄', '감흥', '감히', '갑자기', '강간', '강남', '강성훈', '강아지', '강요', '강용석', '강은비', '강제', '강지환', '강타', '강하늘', '강하다', '강한나', '강호동', '갖다', '갖추다', '같다', '같이', '같잖다', '갚다', '개고기', '개국', '개그', '개그맨', '개그우먼', '개극혐', '개꿀잼', '개념', '개다', '개돼지', '개론', '개막', '개멋', '개무시', '개발', '개뿔', '개성', '개월', '개이득', '개인', '개티즌들', '개판', '거구', '거기', '거나', '거두다', '거들다', '거래', '거론', '거르', '거리', '거미', '거부', '거슬리다', '거야', '거울', '거의', '거임', '거지', '거짓', '거짓말', '거참', '거품', '걱정', '건가', '건강', '건강하다', '건데', '건드리다', '건물', '건방지다', '건지다', '건축학', '건축학개론', '걷다', '걸그룹', '걸다', '걸리다', '걸어오다', '걸치다', '검다', '검사', '검색', '검색어', '검찰', '겁나다', '겁니다', '것임', '게다가', '게뭐', '게스트', '게이', '게임', '겠다', '겨우', '겪다', '견디다', '견제', '견찰', '결과', '결국', '결론', '결말', '결방', '결별', '결정', '결혼', '결혼식', '결혼식장', '겸손하다', '경규', '경기', '경력', '경로', '경리', '경상도', '경솔하다', '경우', '경쟁', '경제', '경찰', '경험', '계속', '계시다', '계약', '계집', '계획', '고급', '고기', '고딩', '고로', '고르다', '고마', '고만', '고만하다', '고맙다', '고민', '고발', '고백', '고사', '고생', '고소', '고소영', '고소하다', '고스', '고양이', '고요', '고음', '고인', '고자', '고작', '고재', '고정', '고주원', '고집', '고치', '고치다', '고통', '고프다', '고함', '고해', '고현정', '골고루', '골목', '골빈', '골프', '곱다', '공감', '공개', '공격', '공부', '공산당', '공안', '공연', '공유', '공익', '공인', '공장', '공정하다', '공짜', '공항', '공황장애', '공효진', '과거', '과는', '과연', '과의', '과정', '과학', '관계', '관계자', '관련', '관리', '관상', '관심', '관종', '관종짓', '광고', '광대', '광수', '광신도', '광희', '괜찮다', '괜히', '괴롭다', '괴롭히다', '굉장하다', '교도소', '교육', '교체', '교통사고', '교회', '구걸', '구구단', '구나', '구라', '구르다', '구리다', '구만', '구먼', '구석', '구속', '구씨', '구역질', '구원파', '구하라', '구혜선', '국가', '국과수', '국내', '국민', '국보', '국뽕', '국악', '국적', '국제', '군대', '군복무', '군생활', '군인', '굳다', '굳이', '궁굼', '궁금', '궁금하다', '궁전', '궁합', '권력', '권리', '권상우', '권태기', '귀엽다', '귀지', '귀찮다', '귀하다', '규현', '그간', '그거', '그건', '그걸', '그것', '그게', '그나마', '그나저나', '그냥', '그녀', '그니까', '그닥', '그대', '그대로', '그동안', '그딴', '그때', '그땐', '그래도', '그래서', '그러니까', '그러다가', '그러면', '그런', '그런데', '그렇게', '그렇다', '그렇다고', '그렇지만', '그레이', '그룹', '그리고', '그리다', '그만', '그만두다', '그만큼', '그만하다', '그이', '그저', '그치다', '극성', '극찬', '극혐', '근거', '근대', '근데', '근무', '근성', '근육', '근혜', '글쎄', '금방', '금보', '금수', '금지', '급식', '급하다', '긋다', '기간', '기계', '기념', '기다', '기다리다', '기대', '기대다', '기대하다', '기도', '기독교', '기러기', '기럭지', '기레기', '기록', '기르다', '기만', '기본', '기부', '기분', '기쁨', '기사', '기사도', '기사화', '기생충', '기안', '기어', '기억', '기억나다', '기울다', '기웃', '기원', '기일', '기자', '기자회견', '기적', '기전', '기준', '기지', '기회', '기획사', '긴장', '긴장감', '길다', '길이', '김건모', '김고은', '김구라', '김남주', '김동명', '김명민', '김미화', '김민규', '김민희', '김범룡', '김사랑', '김새론', '김새롬', '김생민', '김성수', '김성주', '김세정', '김소연', '김수미', '김수민', '김수현', '김순옥', '김승현', '김연아', '김영희', '김우빈', '김원희', '김정은', '김정현', '김정훈', '김제동', '김종국', '김종민', '김주혁', '김지석', '김지원', '김치', '김태리', '김태호', '김태희', '김학래', '김해숙', '김현주', '김흥국', '김희선', '김희애', '김희철', '깊다', '깊이', '까발리다', '까지', '까지는', '까지도', '까진', '깎다', '깔끔하다', '깔다', '깜놀', '깜방', '깜짝', '깡패', '깨끗하다', '깨다', '깨어나다', '꺼내다', '꺼지다', '껍데기', '께서', '꼬리', '꼬박꼬박', '꼬시', '꼬이다', '꼭지', '꼰대', '꼰대들', '꼴다', '꼴리다', '꽂다', '꽃길', '꽃뱀', '꾸다', '꾸미다', '꾸준하다', '꿀잼', '끄다', '끊다', '끌다', '끌리다', '끝나다', '끝내', '끝내다', '끼다', '끼리', '끼리끼리', '끼우다', '끼치다', '나가다', '나경', '나나', '나누다', '나다', '나대다', '나들이', '나라', '나래', '나르다', '나름', '나머지', '나물', '나발', '나부랭이', '나빠지다', '나쁘다', '나쁜사람', '나서다', '나소', '나연', '나영석', '나오니', '나오다', '나와라', '나은', '나이', '나인', '나잇', '나중', '나코', '나타나다', '나하', '나혼', '나혼산', '나혼자산다', '낙인', '난리', '난리치다', '난민', '난쟁이', '날다', '날리다', '날씬', '날씬하다', '남궁민', '남규리', '남기다', '남녀', '남다', '남다르다', '남매', '남성', '남아', '남양유업', '남욕', '남자', '남자배우', '남자에게', '남자친구', '남주혁', '남충', '남친', '남탓', '남태현', '남편', '낫다', '낭비', '낮다', '낳다', '내기', '내내', '내년', '내놓다', '내다', '내딸', '내려놓다', '내리다', '내면', '내미다', '내보내다', '내부', '내용', '내일', '내주다', '내지', '낸시랭', '냄비', '냄새', '냉정하다', '너무', '너무나', '너무하다', '너희', '널리', '넓다', '넘기다', '넘다', '넘사벽', '넘어가다', '넘어서다', '넘치다', '넣다', '네이버', '네티즌', '년놈', '년도', '년생', '년안', '년전', '노노', '노답', '노라조', '노랗다', '노래', '노래방', '노력', '노릇', '노리개', '노리다', '노무현', '노산', '노이즈', '노인', '노잼', '노처녀', '노총각', '노출', '노친', '노홍철', '녹화', '논란', '논리', '놀다', '놀라다', '놀래다', '놀이', '농구', '높다', '높이다', '놓다', '누가', '누구', '누군가', '누군데', '누군지', '누굴', '누나', '누르다', '누리다', '눈물', '눈물나다', '눈빛', '눈치', '눕다', '뉴스', '느그', '느껴지다', '느끼다', '느끼하다', '느낌', '는걸', '늘다', '늘리다', '늘어지다', '늙다', '늙음', '능력', '늦다', '니까', '니깐', '니엘', '님들', '다가', '다가오다', '다고', '다나', '다녀오다', '다니다', '다니엘', '다루다', '다르다', '다른', '다른사람', '다리', '다만', '다솜', '다시', '다시다', '다야', '다양하다', '다운', '다음', '다음주', '다이어트', '다정하다', '다지', '다치다', '다큐', '다한', '다해', '다행', '닥치다', '단단하다', '단독', '단발', '단속', '단순', '단순하다', '단아', '단어', '단역', '단지', '단체', '닫다', '달다', '달달', '달라', '달라지다', '달려들다', '달리', '달리다', '달이', '닮다', '닮음', '담그다', '담다', '담배', '답답하다', '답지', '당기다', '당당하다', '당사자', '당시', '당신', '당연하다', '당장', '당췌', '당하다', '당한', '당황', '대가', '대가리', '대고', '대기', '대기업', '대놓고', '대다', '대다수', '대단하다', '대답', '대도', '대들다', '대로', '대리', '대마', '대면', '대박', '대박나다', '대본', '대부분', '대사', '대상', '대세', '대수', '대신', '대역', '대왕', '대요', '대우', '대은', '대의', '대중', '대지', '대체', '대출', '대충', '대통령', '대표', '대하', '대학', '대한', '대한민국', '대해', '대형', '대화', '댓글', '댓글달다', '댓글알바', '더구나', '더니', '더더', '더럽다', '더불다', '더빙', '더욱', '더하다', '덕분', '덕선', '던데', '던지다', '덜덜', '덥다', '덩어리', '덮다', '데려가다', '데려오다', '데리', '데뷔', '데이트', '도경', '도깨비', '도끼', '도대체', '도덕', '도둑', '도리', '도망가다', '도박', '도배', '도보', '도안', '도와주다', '도우미', '도움', '도의', '도저히', '도통', '도하', '독박', '독보', '독점', '독하다', '돈벌이', '돋다', '돋보이다', '돌다', '돌리다', '돌림', '돌보다', '돌아가다', '돌아다니다', '돌아보다', '돌아오다', '돌이', '동갑', '동거', '동남아', '동네', '동료', '동물', '동방신기', '동백꽃', '동생', '동성애', '동안', '동영상', '동윤', '동의', '동참', '돼다', '돼지', '되게', '되다', '되어다', '된거', '두다', '두렵다', '두루', '두르다', '둘이서', '둘째', '둥이', '뒤지다', '듀엣', '드나들다', '드디어', '드라마', '드러나다', '드러내다', '드럽다', '드레스', '드리다', '드립', '득달', '든지', '듣기', '듣다', '듣보다', '듣보잡', '들다', '들러리', '들리다', '들보', '들어가다', '들어서다', '들어오다', '들어주다', '들이다', '들키다', '듯이', '등골', '등등', '등신', '등장', '디게', '디지다', '따다', '따뜻하다', '따라가다', '따라다니다', '따라오다', '따로', '따르다', '따먹다', '따위', '따지다', '딱이다', '딱하다', '딸도', '딸리다', '때리다', '때메', '때문', '땜시', '떠나다', '떠들다', '떠오르다', '떨다', '떨어뜨리다', '떨어지다', '떳떳하다', '떼다', '또또', '또한', '똑같다', '똑같이', '똑똑하다', '똑바로', '똥폼', '뚱뚱하다', '뛰다', '뛰어나다', '뜨겁다', '뜨다', '뜬금없이', '뜯다', '띄다', '띄우다', '라고', '라는', '라니', '라도', '라디오', '라디오스타', '라며', '라면', '라미란', '라서', '라스', '라이', '라이머', '라이브', '라이프', '라인', '라지', '랍시고', '랑은', '래야', '랩퍼', '러브', '런가', '런닝맨', '레시피', '레이저', '레전드', '레즈', '려고', '로고', '로구나', '로남불', '로는', '로또', '로만', '로맨스', '로부터', '로서', '로스쿨', '로써', '로이킴', '로코', '론데', '롤모델', '루머', '루저', '류준열', '리가', '리그', '리기', '리더', '리도', '리메이크', '리얼', '리즈', '리즈시절', '리지', '마냥', '마녀', '마녀사냥', '마누라', '마다', '마닷', '마땅하다', '마르다', '마리', '마마', '마무리', '마블', '마스', '마스크', '마시다', '마약', '마음', '마이', '마이크로', '마인드', '마지막', '마찬가지', '마취', '마치', '마케팅', '마흔', '막내딸', '막다', '막말', '막상', '막장', '막장드라마', '막히다', '만나다', '만난', '만날', '만남', '만들다', '만들어지다', '만수무강', '만약', '만에', '만원', '만으로', '만은', '만의', '만이', '만족', '만지다', '만찬', '만치', '만큼', '만큼은', '만하', '만해', '만화', '많다', '많아지다', '많이', '말고', '말고는', '말다', '말로', '말씀', '말아먹다', '말투', '맘껏', '맘대로', '맘충', '맙시', '맛있다', '맛집', '망가지다', '망신', '망정', '망치', '망치다', '망하다', '맞다', '맞추다', '맡다', '매니저', '매달리다', '매력', '매번', '매우', '매일', '매장', '매주', '매회', '맥주', '맨날', '머리', '머리스타일', '머리카락', '먹고다', '먹고살다', '먹기', '먹다', '먹방', '먹이', '먹이다', '먹튀', '먹히다', '먼저', '먼지', '멀다', '멀리', '멀쩡하다', '멈추다', '멋있다', '멋지다', '멍청하다', '메다', '메인', '메인보컬', '멘탈', '멘트', '멜로', '멤버', '며느리', '며칠', '면상', '면서', '명도', '명복', '명수', '명예', '명예훼손', '명의', '명품', '몇번', '몇십', '모델', '모두', '모든', '모르다', '모름', '모성애', '모습', '모시다', '모씨', '모양', '모유', '모으다', '모이다', '모자', '모자라다', '모텔', '목사', '목소리', '목숨', '목적', '목표', '몰다', '몰려오다', '몰리다', '몰입', '몰입도', '몰카', '몸매', '몸무게', '무관심', '무당', '무대', '무도', '무릎', '무리하다', '무명', '무사하다', '무섭다', '무슨', '무시', '무식하다', '무심하다', '무엇', '무자식', '무조건', '무죄', '무지', '무책임하다', '무한도전', '무혐의', '묵다', '묶다', '문씨', '문재인', '문제', '문죄인', '문화', '문희준', '묻다', '묻히다', '물건', '물다', '물론', '물리다', '물어', '물어보다', '물이', '뭉치다', '뭐라다', '뭐임', '뭔가', '뭘또', '뮤비', '뮤지', '뮤지션', '뮤지컬', '미개하다', '미국', '미국인', '미나', '미남', '미녀', '미래', '미루다', '미리', '미모', '미성년', '미세먼지', '미소', '미수', '미스코리아', '미안하다', '미애', '미용', '미우다', '미워하다', '미인', '미치다', '미투', '미혼', '미화', '민가', '민간인', '민국', '민망하다', '민수', '민아', '민족', '민주당', '민폐', '믿다', '믿음', '밀다', '밀리다', '밉다', '밑바닥', '바가지', '바깥', '바꾸다', '바뀌다', '바다', '바닥', '바라다', '바라보다', '바람', '바람나다', '바랬는데', '바로', '바르게', '바르다', '바른', '바리', '바보', '바쁘다', '바이러스', '바지', '바하', '박근혜', '박나래', '박다', '박명수', '박민영', '박보검', '박보영', '박봄', '박서준', '박성광', '박수', '박수홍', '박신혜', '박유천', '박은혜', '박일', '박정희', '박진영', '박한별', '박해미', '박호', '밖에', '반갑다', '반대', '반드시', '반말', '반면', '반박', '반복', '반성', '반응', '반일', '반전', '반짝', '반하다', '받다', '받아들이다', '받치다', '발견', '발리', '발리다', '발목', '발부', '발뺌', '발성', '발악', '발암', '발언', '발연기', '발음', '발전', '발정', '발톱', '발표', '밝다', '밝혀지다', '밝히다', '밟다', '밥맛', '밥상', '방금', '방법', '방송', '방송국', '방송사', '방송인', '방송출연', '방영', '방탄', '방탄소년단', '방해', '방향', '배경', '배기', '배다', '배달', '배려', '배신', '배알', '배역', '배우', '배우다', '배우자', '백상', '백수', '백승', '백정', '백종원', '백지영', '백퍼', '뱉다', '버닝', '버닝썬', '버들', '버릇', '버리다', '버티다', '번째', '번호', '벌금', '벌다', '벌레', '벌리다', '벌써', '벌이다', '범인', '범죄', '범죄자', '법대', '법안', '법원', '법적', '법적대응', '벗다', '벗어나다', '베다', '베댓', '베베', '베트남', '베풀다', '벼슬', '변기', '변명', '변신', '변제', '변태', '변하다', '변호사', '별개', '별거', '별것', '별로', '별루', '병문안', '병원', '병자', '보검', '보고', '보고오다', '보기', '보나', '보나마나', '보내다', '보다', '보다는', '보단', '보답', '보도', '보라', '보복', '보살', '보상', '보석', '보수', '보시', '보신', '보아', '보여주다', '보이', '보이다', '보이드', '보이지', '보임', '보정', '보지', '보컬', '보태', '보통', '보호', '복권', '복귀', '복면', '복무', '복수', '복장', '본능', '본받다', '본방', '본성', '본인', '본적', '본질', '볼때', '봉사', '봉준호', '뵈다', '뵙다', '부끄럽다', '부담스럽다', '부대', '부들', '부들부들', '부디', '부러', '부러지다', '부럽다', '부로', '부류', '부르다', '부리다', '부모', '부모님', '부부', '부분', '부사', '부산', '부시', '부인', '부자', '부족', '부족하다', '부추기다', '부탁', '부탁드리다', '부터', '부활', '북한', '분들', '분량', '분명', '분명하다', '분별', '분야', '분위기', '분해', '불가', '불구', '불다', '불륜', '불리다', '불만', '불매', '불법', '불쌍', '불쌍타', '불쌍하다', '불안하다', '불우', '불임', '불청', '불타다', '불편', '불편하다', '불평', '불행', '불행하다', '불호', '붕어빵', '붙다', '붙이', '붙이다', '브라', '블랙', '블랙리스트', '블로그', '블핑', '비걸', '비공개', '비교', '비꼬다', '비난', '비누', '비다', '비디오', '비리', '비밀', '비방', '비보', '비비다', '비슷하다', '비싸다', '비위', '비율', '비주', '비쥬', '비즈니스', '비추다', '비키니', '비판', '비호감', '빅뱅', '빈자리', '빌다', '빌리다', '빌보드', '빚투비', '빛나다', '빠르다', '빠순이', '빠지다', '빡치다', '빨갱이', '빨다', '빨리', '빵빵', '빵터지다', '빼다', '빼먹다', '뺏다', '뻔하다', '뽑다', '뽑히다', '뿌리', '뿌리다', '뿐이다', '삐지다', '사거리', '사건', '사고', '사과', '사과문', '사귀다', '사극', '사기', '사기꾼', '사내', '사다', '사단', '사라지다', '사람', '사람과', '사람인', '사랑', '사랑받다', '사랑스럽다', '사르다', '사리', '사망', '사모님', '사범', '사부', '사생활', '사서', '사수', '사시', '사실', '사업', '사업가', '사용', '사이', '사이다', '사이비', '사인', '사장', '사재기', '사전', '사정', '사죄', '사주다', '사진', '사촌형', '사치', '사쿠라', '사투리', '사형', '사회', '삭제', '산다', '산이', '살기', '살다', '살다보면', '살리다', '살림', '살빠지다', '살빼다', '살아가다', '살아나다', '살아오다', '살이', '살인', '살인마', '살좀', '살짝', '살찌다', '살찐', '삼가다', '삼고', '삼다', '삼촌', '상가', '상관', '상관없다', '상당하다', '상대', '상상', '상속', '상습', '상식', '상영', '상위', '상이', '상임', '상종', '상주', '상처', '상태', '상폐', '상품', '상품화', '상하', '상황', '새끼', '새다', '새롭다', '새벽', '생각', '생각나다', '생기', '생기다', '생리', '생명', '생활', '샤이니', '서강준', '서기', '서다', '서도', '서로', '서민', '서서', '서양인', '서열', '서울', '서울대', '서인영', '서장훈', '서점', '서태지', '서현', '서현진', '섞다', '선남선녀', '선동', '선물', '선미', '선배', '선비', '선생', '선생님', '선수', '선씨', '선예', '선정', '선처', '선택', '선하다', '선후배', '설다', '설레다', '설리', '설마', '설명', '설사', '설정', '설치다', '설현', '섭외', '성격', '성공', '성공하다', '성관계', '성광', '성기', '성매매', '성범죄', '성범죄자', '성별', '성비', '성숙하다', '성실하다', '성욕', '성우', '성유리', '성은', '성인', '성장하다', '성적', '성질', '성추행', '성폭력', '성폭행', '성하다', '성형', '성훈', '성희롱', '세계', '세금', '세다', '세명', '세븐', '세상', '세우다', '세월', '세월호', '세탁', '섹스', '섹시', '섹시하다', '센스', '센터', '소감', '소개', '소녀', '소녀시대', '소름', '소름끼치다', '소리', '소문', '소비', '소설', '소속', '소속사', '소송', '소시', '소시오패스', '소식', '소연', '소유', '소유진', '소이현', '소재', '소지섭', '소향', '소화', '소환', '속도위반', '속상하다', '속이다', '손가락', '손담비', '손승연', '손예진', '손잡다', '손절', '손태영', '손흥민', '솔로', '솔지', '솔직하다', '송가', '송강호', '송민호', '송윤아', '송은이', '송이', '송종국', '송중기', '송지효', '송창의', '송혜교', '수가', '수고', '수단', '수도', '수록', '수만', '수면', '수백', '수사', '수상소감', '수상하다', '수술', '수신료', '수십', '수아', '수연', '수영복', '수입', '수작', '수준', '수지', '수치', '수치심', '수형', '숙이다', '순간', '순산', '순서', '순수하다', '순식간', '순위', '순진하다', '숟가락', '술집', '숨기다', '숨다', '쉐프', '쉬다', '쉴드', '쉴드치다', '쉽다', '슈가', '슈돌', '슈스케', '슈퍼맨', '스노우', '스러운', '스런', '스럽게', '스럽다', '스럽지', '스럽지도', '스브스', '스스로', '스엠', '스윗', '스카이', '스케줄', '스케치북', '스타', '스타일', '스탈', '스텝', '스토리', '스튜디오', '스트레스', '스파이', '스펙', '스포', '스포츠', '슬슬', '슬프다', '슬픔', '습관', '승기', '승리', '승무원', '승부', '승자', '승재', '시간', '시간대', '시국', '시궁창', '시급하다', '시기', '시기하다', '시끄럽다', '시대', '시댁', '시도', '시들다', '시름', '시발', '시부모', '시비', '시상식', '시선', '시아버지', '시어머니', '시언', '시원하다', '시작', '시장', '시절', '시점', '시즌', '시집', '시집가다', '시청', '시청률', '시청율', '시청자', '시키다', '식다', '식당', '식상하다', '식이', '신격화', '신경', '신경안', '신고', '신기하다', '신나다', '신다', '신다은', '신도', '신동', '신동미', '신동엽', '신동욱', '신랑', '신뢰', '신민아', '신봉선', '신부', '신분', '신비', '신상', '신선하다', '신성록', '신세경', '신소율', '신수지', '신인', '신입', '신자', '신정환', '신중하다', '신천지', '신체', '신혜선', '신혼', '실검', '실력', '실루엣', '실망', '실망하다', '실명', '실물', '실상', '실수', '실시간', '실실', '실어', '실장', '실제', '실종', '실체', '실패하다', '실화', '싫다', '싫어지다', '싫어하다', '심각하다', '심다', '심리', '심보', '심사', '심심하다', '심장마비', '심정', '심지어', '심판', '심하다', '심해', '십년', '싱어', '싶다', '싸가지', '싸구려', '싸다', '싸우다', '싸움', '싸이', '싸이코패스', '싸잡다', '쌈디', '쌍둥이', '쌍방', '쌍수', '쌓다', '써니', '써다', '써주다', '썩다', '쎄다', '쏘다', '쓰다', '쓰러지다', '쓰레기', '쓰시', '쓴다', '쓸다', '쓸모', '씁쓸하다', '씌우다', '씨부리다', '씨엔블루', '씩씩하다', '씹다', '씹선비', '아가', '아가리', '아가씨', '아기', '아깝다', '아끼다', '아나운서', '아내', '아니다', '아들', '아래', '아랫', '아름답다', '아마', '아무', '아무나', '아무렇다', '아무리', '아무튼', '아버님', '아버지', '아보', '아부지', '아빠', '아쉬움', '아쉽다', '아스', '아시', '아아', '아예', '아웃', '아유', '아이', '아이고', '아이돌', '아이유', '아이즈', '아이콘', '아저씨', '아주', '아주머니', '아줌마', '아지', '아직', '아직도', '아치', '아침', '아티스트', '아파트', '아프다', '아프리카', '아픔', '악마', '악역', '악의', '악질', '악플', '악플달다', '악플러', '안감', '안경', '안나', '안남', '안내', '안녕하다', '안다', '안달', '안되다', '안무', '안보', '안습', '안심', '안쓰럽다', '안재현', '안좋다', '안주', '안타깝다', '안티', '안함', '안해', '안현모', '안효섭', '앉다', '않다', '알다', '알려지다', '알리다', '알바', '알아보다', '알아주다', '알콩달콩', '암튼', '앞뒤', '애가', '애교', '애국', '애국자', '애기', '애꿎', '애나', '애도', '애매하다', '애먼', '애비', '애쓰다', '애액', '애인', '애정', '애초', '앨범', '앵두', '앵벌이', '야구', '야구선수', '야동', '야하다', '약간', '약국', '약속', '약하다', '얄밉다', '얌전하다', '양녀', '양다리', '양동근', '양반', '양배추', '양보', '양성', '양세종', '양세형', '양심', '양악수술', '양예원', '양준', '양쪽', '양치', '양현석', '얘기', '어거지', '어그', '어느', '어도', '어디', '어디가', '어디서', '어딜', '어딨다', '어떤', '어떻', '어떻다', '어려움', '어렵다', '어르다', '어른', '어리다', '어린시절', '어마', '어머니', '어묵', '어보', '어색하다', '어설프다', '어울리다', '어울림', '어이', '어이없다', '어제', '어지간하다', '어짜피', '어째', '어쨌든', '어쩌', '어쩌다', '어쩌라고', '어쩌라구', '어쩐', '어쩐지', '어쩔', '어쩜', '어찌', '어차피', '어케', '어후', '어휴', '억울', '억울하다', '억이', '억지', '억지로', '언급', '언능', '언니', '언론', '언론플레이', '언제', '언제나', '언젠가', '언플', '얹다', '얻다', '얼굴', '얼다', '얼른', '얼마', '얼마나', '엄마', '엄지', '엄청', '엄청나다', '엄현경', '업다', '업보', '업자', '없다', '없애다', '없어지다', '없이', '엉덩이', '엉뚱하다', '엉망', '에가', '에게', '에게는', '에게도', '에게서', '에겐', '에구', '에나', '에는', '에다', '에도', '에를', '에릭', '에만', '에서', '에서나', '에서는', '에서도', '에서만', '에선', '에스', '에스더', '에요', '에이', '에이미', '에이스', '에이프릴', '엑소', '엑스', '엔딩', '엠씨', '엠씨몽', '여기', '여기다', '여기저기', '여러', '여러분', '여럿', '여론', '여론몰이', '여름', '여배우', '여서', '여성', '여성인권', '여신', '여왕', '여우', '여운', '여자', '여자도', '여자애', '여자친구', '여적', '여전하다', '여주', '여지', '여진구', '여친', '여태', '여편네', '여하튼', '여행', '여행가', '여혐', '역겹다', '역대', '역사', '역쉬', '역시', '역할', '엮어', '연결', '연극', '연기', '연기대상', '연기력', '연기자', '연락', '연령', '연말', '연배', '연상', '연세대', '연속', '연습', '연습생', '연애', '연예', '연예계', '연예인', '연예인병', '연옌', '연인', '연좌제', '연출', '연하', '연하남', '열다', '열등감', '열리다', '열심', '열심히', '열애', '열애설', '열정', '열차', '열폭', '염병', '염정아', '염치', '영감', '영상', '영어', '영업', '영원하다', '영재', '영혼', '영화', '영화로', '옆집', '예고', '예능', '예능인', '예민하다', '예쁘다', '예상', '예서', '예수님', '예술', '예요', '예원', '예은', '예의', '예전', '예진', '옛날', '오글거리다', '오나라', '오는', '오늘', '오다', '오달수', '오래', '오래되다', '오래오래', '오랜', '오로지', '오르다', '오버', '오빠', '오씨', '오영주', '오정연', '오죽하다', '오줌', '오지', '오지랖', '오징어', '오창석', '오크', '오픈', '오해', '오히려', '옥주현', '온갖', '온몸', '온통', '올라가다', '올라오다', '올려주다', '올리다', '올해', '옮기다', '옳다', '옹호', '와도', '와우', '와이지', '와이프', '와중', '완벽하다', '완전', '완치', '왈가', '왕따', '왕성', '왜구', '왜캐', '왜케', '왠만하다', '왠지', '왤케', '외교', '외국', '외국인', '외다', '외도', '외롭다', '외면', '외모', '외식', '외치다', '왼쪽', '요구', '요리', '요새', '요요', '요즘', '욕먹다', '욕심', '욕함', '용기', '용다', '용서', '용어', '용인', '용하다', '우기다', '우동', '우려', '우롱', '우리', '우리나라', '우린', '우선', '우수', '우승', '우아하다', '우연히', '우와', '우울증', '우울하다', '우유', '우익', '우파', '욱일기', '운동', '운동선수', '운전', '울다', '웃기', '웃기다', '웃다', '웃음', '워낙', '원걸', '원더걸스', '원래', '원만하다', '원빈', '원숭이', '원인', '원작', '원하다', '원호', '월드', '웬디', '웬만하다', '웹툰', '위기', '위너', '위로', '위생', '위자료', '위치', '위해', '위험하다', '윌리엄', '유건', '유기', '유난', '유느님', '유독', '유동근', '유리', '유명', '유명인', '유명하다', '유모차', '유병재', '유부', '유부녀', '유산', '유승준', '유시민', '유시춘', '유아인', '유연석', '유이', '유일하다', '유재석', '유전자', '유지', '유진', '유진우', '유착', '유천', '유치하다', '유투브', '유튜브', '유포', '유하', '유학', '유행', '유행어', '유혹', '유흥업소', '유희열', '육갑', '육아', '육중', '윤미래', '윤박', '윤서인', '윤세아', '윤소희', '윤아', '윤은혜', '윤종신', '윤지성', '윤진이', '으로', '으로가', '으로는', '으로도', '으로만', '으로서', '으로써', '으론', '으이', '은근', '은애', '은우', '은인', '은지원', '은퇴', '은혁', '음식', '음식점', '음악', '음원', '음주', '음주운전', '읍니', '응원', '의견', '의대', '의도', '의리', '의무', '의문', '의미', '의사', '의상', '의식', '의심', '의원', '의지', '의학', '이건', '이겠다', '이경규', '이고', '이구', '이구나', '이구만', '이국주', '이군', '이그', '이기', '이기다', '이끌다', '이나', '이나라', '이나영', '이냐', '이네', '이니', '이니까', '이다', '이다해', '이대', '이던', '이도', '이든', '이딴', '이라', '이라고', '이라는', '이라니', '이라도', '이라서', '이란', '이랑', '이랑은', '이래', '이래서', '이러니', '이러쿵저러쿵', '이런', '이렇게', '이렇다', '이루다', '이르다', '이를', '이름', '이리', '이마', '이면', '이명박', '이모', '이목구비', '이미', '이미지', '이민기', '이민정', '이민호', '이번', '이별', '이병헌', '이보', '이분', '이빨', '이뿌다', '이쁘다', '이상', '이상민', '이상아', '이상우', '이상윤', '이상은', '이상하다', '이상화', '이서', '이서진', '이석훈', '이성', '이성경', '이성우', '이세', '이세영', '이소라', '이솜', '이수', '이수근', '이슈', '이승기', '이승윤', '이시언', '이시영', '이야', '이야기', '이어서', '이어지다', '이에요', '이엘리야', '이여', '이연희', '이열음', '이영애', '이영자', '이완', '이용', '이용진', '이웃', '이유', '이유리', '이익', '이자', '이자나', '이정재', '이제', '이제야', '이종석', '이종현', '이준', '이중', '이중성', '이지', '이지만', '이진', '이쯤', '이참', '이창섭', '이채', '이탈리아', '이태임', '이프', '이필모', '이하', '이하이', '이해', '이혁', '이현', '이형', '이호석', '이혼', '이홍기', '이효리', '이후', '이휘재', '인가', '인가요', '인간', '인거', '인걸', '인게', '인격', '인기', '인데', '인들', '인맥', '인물', '인사', '인상', '인생', '인성', '인스타', '인신공격', '인연', '인위', '인정', '인조', '인증', '인지', '인지도', '인척', '인터넷', '인터뷰', '인하다', '인형', '일단', '일도', '일로', '일리', '일만', '일반', '일반인', '일방', '일베', '일베충', '일본', '일본인', '일부', '일부러', '일상', '일어나다', '일어나서', '일으키다', '일이', '일인', '일일', '일자리', '일제', '일주일', '일지', '일진', '일찍', '일터', '일텐데', '일해', '읽다', '잃다', '임마', '임산부', '임신', '임영웅', '임지연', '임창정', '임현주', '입국', '입김', '입다', '입담', '입대', '입맛', '입술', '입장', '잇다', '있다', '잊다', '잊어버리다', '잊혀지다', '자가', '자격', '자격지심', '자고', '자극', '자기', '자꾸', '자녀', '자다', '자도', '자동차', '자라', '자라다', '자랑', '자랑스럽다', '자르다', '자리', '자리다', '자막', '자매', '자발', '자백', '자빠지다', '자살', '자상하다', '자세', '자세하다', '자숙', '자식', '자신', '자신감', '자연', '자연미인', '자연스럽다', '자연인', '자영', '자유', '자임', '자제', '자주', '자중', '자체', '작가', '작고', '작곡', '작년', '작다', '작업', '작위', '작작', '작정', '작품', '잔나비', '잖다', '잘나가다', '잘나다', '잘만', '잘못', '잘버', '잘살다', '잘생기다', '잘쓰다', '잘해야', '잠깐', '잠수', '잠자리', '잠잠하다', '잡고', '잡다', '잡아가다', '잡아먹다', '잡음', '잡히다', '장가', '장나라', '장난', '장님', '장담', '장도연', '장동건', '장땡', '장례식', '장르', '장면', '장모', '장미희', '장백지', '장사', '장성규', '장소', '장신영', '장애', '장애인', '장우혁', '장윤정', '장이', '장인', '장자연', '장태준', '재결합', '재기', '재능', '재다', '재력', '재미', '재미없다', '재미있다', '재밋', '재밌다', '재방', '재벌', '재범', '재산', '재상', '재수', '재수없다', '재앙', '재혼', '쟁이', '저건', '저걸', '저기', '저녁', '저러다', '저런', '저렇게', '저렇다', '저리', '저번', '저지르다', '저희', '적극', '적나라하다', '적다', '적당하다', '적도', '적어도', '적용', '적응', '적임', '적폐', '전개', '전국', '전남편', '전두환', '전라도', '전라디언', '전문가', '전미선', '전부', '전생', '전설', '전성기', '전세계', '전소민', '전액', '전역', '전이', '전자발찌', '전작', '전쟁', '전지현', '전체', '전혀', '전현무', '전형', '전화', '절대', '절대로', '절절', '절친', '절하', '젊다', '젊은이', '점수', '점점', '접근', '접다', '정겨운', '정경호', '정국', '정권', '정글', '정답', '정도', '정돈', '정리', '정말', '정미', '정법', '정보', '정복', '정부', '정상', '정상인', '정선', '정선희', '정소영', '정신', '정신병', '정신차리다', '정아', '정액', '정용화', '정우', '정우성', '정유미', '정의', '정이', '정작', '정준', '정준영', '정준호', '정치', '정해', '정확하다', '젖꼭지', '제니', '제대로', '제도', '제로', '제목', '제발', '제시', '제시카', '제일', '제작', '제적', '제주도', '제품', '제해', '젝키', '젠데', '조강지처', '조개', '조건', '조국', '조금', '조기', '조롱', '조만간', '조민기', '조보아', '조사', '조사해', '조선', '조선일보', '조세호', '조센징', '조신', '조심하다', '조아', '조언', '조여정', '조연', '조용필', '조용하다', '조인성', '조작', '조장', '조재현', '조절', '조정석', '조차', '조카', '조커', '조폭', '조합', '조혜련', '존경', '존나', '존못', '존예', '존잘', '존재', '존잼', '존중', '졸라', '졸리다', '좀더', '좀비', '좀해', '좁다', '종교', '종국', '종료', '종방', '종이', '종일', '종자', '종종', '종특', '좋다', '좋아지다', '좋아하다', '좌빨', '좌좀', '좌파', '좌표', '죄값', '죄다', '죄송하다', '죄인', '죗값', '주가', '주기', '주다', '주도', '주말', '주먹', '주민', '주방', '주변', '주사', '주시', '주신', '주연', '주위', '주의', '주의자', '주인', '주인공', '주작', '주장', '주제', '주진모', '죽다', '죽음', '죽이다', '죽지', '준비', '준영', '준희', '줄다', '줄알', '줄이다', '줄줄이', '줌마', '줍다', '중간', '중국', '중국인', '중기', '중년', '중독', '중반', '중심', '중요', '중요하다', '중이', '중인', '중후', '즐겁다', '즐기다', '증거', '증말', '증명', '지겹다', '지고', '지구', '지금', '지긋지긋하다', '지나', '지나가다', '지나다', '지난', '지내다', '지네', '지는', '지능', '지다', '지대', '지도', '지드래곤', '지랄', '지루하다', '지르다', '지리', '지리다', '지만', '지면', '지목', '지민', '지방', '지상파', '지성', '지아', '지역', '지연', '지옥', '지우다', '지원', '지은', '지인', '지장', '지적', '지지', '지창욱', '지치다', '지켜보다', '지코', '지키다', '지현우', '지혜', '직업', '직원', '직장', '직장인', '직접', '진국', '진도', '진리', '진보', '진부하다', '진실', '진심', '진영', '진우', '진자', '진작', '진정', '진정하다', '진지', '진지하다', '진진', '진짜', '진출', '진행', '질도', '질리다', '질린다', '질문', '질질', '질책', '질투', '집다', '집단', '집도', '집안', '집앞', '집중', '집착', '짓거리', '짓다', '징그럽다', '징글징글', '징역', '징징', '징징거리다', '징징대다', '짖다', '짜다', '짜리몽땅', '짜져', '짜증', '짜증나다', '짠하다', '짧다', '짬뽕', '짱개', '짱깨', '째다', '쩌리', '쩐다', '쩔다', '쪽바리', '쪽팔리다', '쭉쭉', '쯧쯧', '찌다', '찌들다', '찌라시', '찌르다', '찌질하다', '찍다', '찍히다', '찔리다', '찢다', '찢어지다', '차갑다', '차고', '차다', '차라리', '차려', '차리다', '차마', '차별', '차서', '차선', '차예련', '차원', '차이', '차이다', '차장', '차태현', '차트', '차화연', '착각', '착하다', '찬양', '참고', '참나', '참다', '참여', '참으로', '창피하다', '찾기', '찾다', '찾아가다', '찾아보다', '찾아오다', '채널', '채다', '채린', '채우다', '책임', '책임감', '책임지다', '챙기다', '챙녀', '처녀', '처럼', '처리', '처벌', '처음', '천국', '천만', '천만원', '천명훈', '천박하다', '천사', '천우', '천재', '천지', '철구', '첨부', '첫사랑', '첫째', '청년', '청와대', '청원', '청춘', '체널', '체질', '초기', '초대', '초딩', '초반', '초밥', '초콜릿', '촌스럽다', '총경', '촬영', '촬영장', '최고', '최고다', '최근', '최소', '최소한', '최수종', '최악', '최종범', '최종훈', '최지우', '최진실', '최진혁', '추가', '추다', '추락', '추모', '추억', '추자현', '추천', '추측', '추카', '추하다', '축구', '축복', '축하', '출산', '출시', '출신', '출연', '출연료', '출연자', '출중하다', '충격', '충분하다', '충실하다', '충재', '취급', '취지', '취집', '취향', '치고', '치과', '치네다', '치다', '치료', '치료받다', '치르다', '치매', '치면', '치우다', '친구', '친일파', '친정', '친정엄마', '친하다', '침대', '칭찬', '카리스마', '카메라', '카이스트', '카톡', '캐럿', '캐릭터', '캐스팅', '캐슬', '캡쳐', '커리어', '커서', '커지다', '커플', '커피', '컨셉', '컴백', '케미', '케이스', '케이윌', '켜다', '코로나', '코르셋', '코스프레', '코요테', '콘돔', '콘서트', '쾌차', '쿨하다', '쿵쾅', '퀄리티', '큐브', '크게', '크다', '크러쉬', '크림', '큰딸', '큰일', '클라라', '클라스', '클럽', '키로', '키스', '키우다', '키크', '킬로', '타고', '타고나다', '타다', '타령', '타살', '타이밍', '타이틀', '타인', '타입', '탁재훈', '탄생', '탄핵', '탈락', '탈모', '탈세', '탈출', '탈퇴', '탐욕', '탕웨이', '태국', '태도', '태생', '태어나다', '태연', '터뜨리다', '터지다', '털다', '테이블', '텐데', '토나오다', '토니', '토니안', '토착', '토크', '톡방', '톱스타', '통수', '통증', '통해', '퇴물', '퇴사', '투샷', '투애니원', '투어', '투입', '투자', '투표', '튀다', '튀어나오다', '트로트', '트롯', '트루', '트리', '트와이스', '트집', '특급', '특별하다', '특유', '특이하다', '특집', '특징', '특히', '틀다', '틀리다', '틀어놓다', '티나', '티비', '티아라', '파급', '파다', '파악', '파이팅', '파헤치다', '팍팍', '판결', '판단', '판박이', '판빙빙', '판사', '판정', '판치다', '판타지', '팔다', '팔리다', '팔이', '팔자', '패밀리', '패배', '패션', '팩트', '팬미팅', '팬티', '페미', '펴다', '편견', '편성', '편안하다', '편의점', '편이', '편집', '편하다', '평가', '평범하다', '평생', '평소', '평일', '폐암', '폐인', '폐지', '포기', '포스', '포장', '포함', '폭력', '폭로', '폭망', '폭발', '폭행', '표본', '표적', '표절', '표정', '표현', '푸다', '풀다', '풀리다', '품다', '풋풋하다', '풍년', '풍상', '프듀', '프랜차이즈', '프로', '프로그램', '프로도', '프로듀서', '프리', '피곤하다', '피다', '피디', '피부', '피우다', '피임', '피자', '피하', '피해', '피해자', '필립', '필수', '필요', '필요없다', '필요하다', '필터', '핑계', '핑크', '핑클', '하고', '하고도', '하기야', '하나', '하나같이', '하나경', '하나님', '하나로', '하나요', '하늘', '하늘나라', '하니', '하다', '하드', '하든', '하라', '하루', '하루아침', '하버드', '하승진', '하여간', '하여튼', '하와이', '하은', '하이', '하자', '하지만', '하지맙시', '하지원', '하차', '하트', '하필', '하하', '하현우', '학교', '학창시절', '학폭', '한가인', '한가지', '한고은', '한국', '한국인', '한남', '한다는', '한당', '한데', '한동안', '한두', '한때', '한류', '한마디', '한물가다', '한번', '한서희', '한순간', '한심하다', '한예슬', '한은정', '한의사', '한일', '한적', '한지', '한지민', '한지혜', '한쪽', '한참', '한창', '한채아', '한체대', '한테', '한편', '한혜진', '한효주', '할리', '할머니', '할배', '할아버지', '함께', '함부로', '함소원', '합류', '합법', '합의', '합의금', '항상', '해결', '해내다', '해달라다', '해당', '해대', '해도', '해먹', '해명', '해보다', '해봤다', '해소', '해안가', '해외', '해외여행', '해주', '해주다', '해체', '해투', '해피엔딩', '핸드폰', '햇던', '행동', '행보', '행복', '행복하다', '행사', '행실', '허니', '허다', '허락', '허리', '허세', '허언증', '허위', '허전하다', '헐다', '헐리웃', '헛소리', '헤어', '헤어지다', '헤헤', '헨리', '헷갈리다', '현명하다', '현무', '현빈', '현실', '현아', '현역', '현우', '현재', '현주', '현지', '혈기', '혐오', '협박', '협찬', '형님', '형사', '형제', '혜교', '혜나', '혜리', '혜빈', '혜선', '혜성', '혜원', '혜진', '호감', '호강', '호구', '호들갑', '호란', '호박', '호스트', '호응', '호텔', '혹시', '혼외자', '혼자', '혼전', '혼전임신', '홀랑', '홍보', '홍상수', '홍석천', '홍수현', '홍어', '홍윤', '홍진경', '홍진영', '홍콩', '화가', '화나다', '화려하다', '화면', '화목', '화물차', '화보', '화사', '화이팅', '화장', '화재', '화제', '확실하다', '확인', '확정', '환경', '환영', '환자', '환장하다', '환희', '활동', '활약', '홧팅', '황금', '황당하다', '황민', '황제', '황하나', '회복하다', '회사', '회생', '회수', '회장', '효광', '효리', '효린', '후반', '후배', '후보', '후손', '후진국', '후회', '훈남', '훈훈하다', '훌륭하다', '훨씬', '휘두르다', '휴가', '흐르다', '흑역사', '흑인', '흔들다', '흔하다', '흘리다', '흥미', '흥분하다', '희다', '희망', '희생', '희한하다', '히트', '힐링', '힘겹다', '힘내다', '힘드다', '힘들다', '힙합']\n"
     ]
    }
   ],
   "source": [
    "print(sorted(word_index.keys()))"
   ]
  },
  {
   "cell_type": "markdown",
   "metadata": {},
   "source": [
    "### Document Term Matrix"
   ]
  },
  {
   "cell_type": "code",
   "execution_count": 21,
   "metadata": {},
   "outputs": [],
   "source": [
    "trainarray=[]\n",
    "for corpus in train.corpus:\n",
    "    temp=[0]*len(word_index)\n",
    "    for word in corpus:\n",
    "        if word in word_index.keys():\n",
    "            temp[word_index[word]]=+1\n",
    "    trainarray.append(temp)"
   ]
  },
  {
   "cell_type": "code",
   "execution_count": 22,
   "metadata": {},
   "outputs": [],
   "source": [
    "dtm=pd.DataFrame(trainarray,columns=word_index.keys())"
   ]
  },
  {
   "cell_type": "code",
   "execution_count": 23,
   "metadata": {},
   "outputs": [
    {
     "data": {
      "text/plain": [
       "(8367, 3978)"
      ]
     },
     "execution_count": 23,
     "metadata": {},
     "output_type": "execute_result"
    }
   ],
   "source": [
    "dtm.shape"
   ]
  },
  {
   "cell_type": "markdown",
   "metadata": {},
   "source": [
    "### one hot encoding"
   ]
  },
  {
   "cell_type": "code",
   "execution_count": 24,
   "metadata": {},
   "outputs": [],
   "source": [
    "trainarray=[]\n",
    "for corpus in train.corpus:\n",
    "    temp=[0]*len(word_index)\n",
    "    for word in corpus:\n",
    "        if word in word_index.keys():\n",
    "            temp[word_index[word]]=1\n",
    "    trainarray.append(temp)"
   ]
  },
  {
   "cell_type": "code",
   "execution_count": 25,
   "metadata": {},
   "outputs": [],
   "source": [
    "ohe=pd.DataFrame(trainarray,columns=word_index.keys())"
   ]
  },
  {
   "cell_type": "code",
   "execution_count": 26,
   "metadata": {},
   "outputs": [
    {
     "data": {
      "text/plain": [
       "(8367, 3978)"
      ]
     },
     "execution_count": 26,
     "metadata": {},
     "output_type": "execute_result"
    }
   ],
   "source": [
    "ohe.shape"
   ]
  },
  {
   "cell_type": "code",
   "execution_count": 27,
   "metadata": {},
   "outputs": [],
   "source": [
    "xTrain=ohe.values\n",
    "yTrain=train['label_band'].values"
   ]
  },
  {
   "cell_type": "code",
   "execution_count": 28,
   "metadata": {},
   "outputs": [
    {
     "name": "stderr",
     "output_type": "stream",
     "text": [
      "C:\\Users\\i\\anaconda3\\lib\\site-packages\\pandas\\core\\indexing.py:671: SettingWithCopyWarning: \n",
      "A value is trying to be set on a copy of a slice from a DataFrame\n",
      "\n",
      "See the caveats in the documentation: https://pandas.pydata.org/pandas-docs/stable/user_guide/indexing.html#returning-a-view-versus-a-copy\n",
      "  self._setitem_with_indexer(indexer, value)\n"
     ]
    }
   ],
   "source": [
    "testarray=[]\n",
    "test['corpus']=0\n",
    "for index ,sentencs in enumerate(test.comments):\n",
    "    words=okt.morphs(sentencs,stem=True)\n",
    "    test['corpus'].iloc[index]=words\n",
    "    temp=[0]*len(word_index)\n",
    "    for word in words:\n",
    "        if word in word_index.keys():\n",
    "            temp[word_index[word]]=1\n",
    "    testarray.append(temp)  \n",
    "xTest=testarray"
   ]
  },
  {
   "cell_type": "markdown",
   "metadata": {},
   "source": [
    "### naive_bayes"
   ]
  },
  {
   "cell_type": "code",
   "execution_count": 29,
   "metadata": {},
   "outputs": [],
   "source": [
    "from sklearn.naive_bayes import CategoricalNB"
   ]
  },
  {
   "cell_type": "code",
   "execution_count": 30,
   "metadata": {},
   "outputs": [
    {
     "data": {
      "text/plain": [
       "CategoricalNB()"
      ]
     },
     "execution_count": 30,
     "metadata": {},
     "output_type": "execute_result"
    }
   ],
   "source": [
    "model=CategoricalNB()\n",
    "model.fit(xTrain, yTrain)"
   ]
  },
  {
   "cell_type": "code",
   "execution_count": 31,
   "metadata": {},
   "outputs": [],
   "source": [
    "pred=model.predict(xTest)"
   ]
  },
  {
   "cell_type": "code",
   "execution_count": 33,
   "metadata": {},
   "outputs": [
    {
     "data": {
      "text/plain": [
       "0.7295326879407195"
      ]
     },
     "execution_count": 33,
     "metadata": {},
     "output_type": "execute_result"
    }
   ],
   "source": [
    "model.score(xTrain , yTrain)"
   ]
  },
  {
   "cell_type": "code",
   "execution_count": 36,
   "metadata": {},
   "outputs": [],
   "source": [
    "test['label']=pred\n",
    "submit=test[['comments','label']]"
   ]
  },
  {
   "cell_type": "code",
   "execution_count": 37,
   "metadata": {},
   "outputs": [],
   "source": [
    "submit.to_csv('submit.csv',index=False)"
   ]
  },
  {
   "cell_type": "markdown",
   "metadata": {},
   "source": [
    "### 신경망"
   ]
  },
  {
   "cell_type": "code",
   "execution_count": 69,
   "metadata": {},
   "outputs": [],
   "source": [
    "from keras.models import Sequential \n",
    "from keras.layers import Dense\n",
    "from keras import optimizers"
   ]
  },
  {
   "cell_type": "code",
   "execution_count": 94,
   "metadata": {},
   "outputs": [],
   "source": [
    "model=Sequential()\n",
    "model.add(Dense(64,input_shape=(xTrain.shape[1],) ,activation='relu'))\n",
    "model.add(Dense(64,activation='relu'))\n",
    "model.add(Dense(64,activation='relu'))\n",
    "model.add(Dense(3,activation='softmax'))"
   ]
  },
  {
   "cell_type": "code",
   "execution_count": 95,
   "metadata": {},
   "outputs": [],
   "source": [
    "model.compile(optimizer='rmsprop',\n",
    "             loss='categorical_crossentropy',\n",
    "             metrics=['accuracy'])"
   ]
  },
  {
   "cell_type": "code",
   "execution_count": 96,
   "metadata": {},
   "outputs": [],
   "source": [
    "yTrain_ohe=pd.get_dummies(train['label']).values"
   ]
  },
  {
   "cell_type": "code",
   "execution_count": 97,
   "metadata": {},
   "outputs": [],
   "source": [
    "x_val = xTrain[:1000]\n",
    "partial_x_train = xTrain[1000:]\n",
    "\n",
    "y_val = yTrain_ohe[:1000]\n",
    "partial_y_train = yTrain_ohe[1000:]"
   ]
  },
  {
   "cell_type": "code",
   "execution_count": 98,
   "metadata": {},
   "outputs": [
    {
     "name": "stdout",
     "output_type": "stream",
     "text": [
      "Epoch 1/20\n",
      "15/15 [==============================] - 2s 108ms/step - loss: 1.0612 - accuracy: 0.4349 - val_loss: 1.0355 - val_accuracy: 0.4280\n",
      "Epoch 2/20\n",
      "15/15 [==============================] - 0s 18ms/step - loss: 0.9389 - accuracy: 0.5605 - val_loss: 0.9566 - val_accuracy: 0.5440\n",
      "Epoch 3/20\n",
      "15/15 [==============================] - 0s 19ms/step - loss: 0.8062 - accuracy: 0.6738 - val_loss: 0.9100 - val_accuracy: 0.5690\n",
      "Epoch 4/20\n",
      "15/15 [==============================] - 0s 18ms/step - loss: 0.6958 - accuracy: 0.7303 - val_loss: 0.8989 - val_accuracy: 0.5870\n",
      "Epoch 5/20\n",
      "15/15 [==============================] - 0s 18ms/step - loss: 0.6027 - accuracy: 0.7710 - val_loss: 0.9133 - val_accuracy: 0.5880\n",
      "Epoch 6/20\n",
      "15/15 [==============================] - 0s 18ms/step - loss: 0.5233 - accuracy: 0.8063 - val_loss: 0.9373 - val_accuracy: 0.5870\n",
      "Epoch 7/20\n",
      "15/15 [==============================] - 0s 18ms/step - loss: 0.4551 - accuracy: 0.8385 - val_loss: 0.9943 - val_accuracy: 0.5970\n",
      "Epoch 8/20\n",
      "15/15 [==============================] - 0s 18ms/step - loss: 0.3973 - accuracy: 0.8611 - val_loss: 1.0402 - val_accuracy: 0.5780\n",
      "Epoch 9/20\n",
      "15/15 [==============================] - 0s 19ms/step - loss: 0.3458 - accuracy: 0.8831 - val_loss: 1.1004 - val_accuracy: 0.5760\n",
      "Epoch 10/20\n",
      "15/15 [==============================] - 0s 19ms/step - loss: 0.3023 - accuracy: 0.9002 - val_loss: 1.1848 - val_accuracy: 0.5590\n",
      "Epoch 11/20\n",
      "15/15 [==============================] - 0s 19ms/step - loss: 0.2644 - accuracy: 0.9150 - val_loss: 1.2566 - val_accuracy: 0.5620\n",
      "Epoch 12/20\n",
      "15/15 [==============================] - 0s 18ms/step - loss: 0.2324 - accuracy: 0.9270 - val_loss: 1.3571 - val_accuracy: 0.5610\n",
      "Epoch 13/20\n",
      "15/15 [==============================] - 0s 18ms/step - loss: 0.2043 - accuracy: 0.9350 - val_loss: 1.4505 - val_accuracy: 0.5540\n",
      "Epoch 14/20\n",
      "15/15 [==============================] - 0s 18ms/step - loss: 0.1775 - accuracy: 0.9438 - val_loss: 1.5576 - val_accuracy: 0.5350\n",
      "Epoch 15/20\n",
      "15/15 [==============================] - 0s 18ms/step - loss: 0.1548 - accuracy: 0.9513 - val_loss: 1.6601 - val_accuracy: 0.5180\n",
      "Epoch 16/20\n",
      "15/15 [==============================] - 0s 18ms/step - loss: 0.1359 - accuracy: 0.9598 - val_loss: 1.7811 - val_accuracy: 0.5250\n",
      "Epoch 17/20\n",
      "15/15 [==============================] - 0s 18ms/step - loss: 0.1180 - accuracy: 0.9642 - val_loss: 1.9069 - val_accuracy: 0.5260\n",
      "Epoch 18/20\n",
      "15/15 [==============================] - 0s 18ms/step - loss: 0.1032 - accuracy: 0.9696 - val_loss: 2.0519 - val_accuracy: 0.5130\n",
      "Epoch 19/20\n",
      "15/15 [==============================] - 0s 19ms/step - loss: 0.0902 - accuracy: 0.9737 - val_loss: 2.1880 - val_accuracy: 0.5170\n",
      "Epoch 20/20\n",
      "15/15 [==============================] - 0s 16ms/step - loss: 0.0796 - accuracy: 0.9776 - val_loss: 2.3333 - val_accuracy: 0.5180\n"
     ]
    }
   ],
   "source": [
    "history = model.fit(partial_x_train,\n",
    "                    partial_y_train,\n",
    "                    epochs=20,\n",
    "                    batch_size=512,\n",
    "                    validation_data=(x_val, y_val))"
   ]
  },
  {
   "cell_type": "code",
   "execution_count": 99,
   "metadata": {},
   "outputs": [
    {
     "data": {
      "image/png": "[encoded data removed]",
      "text/plain": [
       "<Figure size 432x288 with 1 Axes>"
      ]
     },
     "metadata": {
      "needs_background": "light"
     },
     "output_type": "display_data"
    }
   ],
   "source": [
    "loss= history.history['loss']\n",
    "val_loss=history.history['val_loss']\n",
    "\n",
    "epochs = range(1, len(loss) + 1)\n",
    "\n",
    "plt.plot(epochs, loss, 'bo',label=\"Training loss\" )\n",
    "plt.plot(epochs, val_loss, 'b', label='Validation loss')\n",
    "plt.title('Training and validation loss')\n",
    "plt.xlabel('Epochs')\n",
    "plt.ylabel('Loss')\n",
    "plt.legend()\n",
    "\n",
    "plt.show()"
   ]
  },
  {
   "cell_type": "code",
   "execution_count": 111,
   "metadata": {},
   "outputs": [],
   "source": [
    "pred=model.predict(xTest)"
   ]
  },
  {
   "cell_type": "code",
   "execution_count": 113,
   "metadata": {},
   "outputs": [],
   "source": [
    "predict=[]\n",
    "for i in pred:\n",
    "    predict.append(i.argmax())"
   ]
  },
  {
   "cell_type": "code",
   "execution_count": 116,
   "metadata": {},
   "outputs": [],
   "source": [
    "test['label']=predict"
   ]
  },
  {
   "cell_type": "code",
   "execution_count": 117,
   "metadata": {},
   "outputs": [],
   "source": [
    "submit=test[['comments','label']]"
   ]
  },
  {
   "cell_type": "code",
   "execution_count": 118,
   "metadata": {},
   "outputs": [],
   "source": [
    "submit.to_csv('submit.csv',index=False)"
   ]
  },
  {
   "cell_type": "code",
   "execution_count": 119,
   "metadata": {},
   "outputs": [
    {
     "data": {
      "text/html": [
       "<div>\n",
       "<style scoped>\n",
       "    .dataframe tbody tr th:only-of-type {\n",
       "        vertical-align: middle;\n",
       "    }\n",
       "\n",
       "    .dataframe tbody tr th {\n",
       "        vertical-align: top;\n",
       "    }\n",
       "\n",
       "    .dataframe thead th {\n",
       "        text-align: right;\n",
       "    }\n",
       "</style>\n",
       "<table border=\"1\" class=\"dataframe\">\n",
       "  <thead>\n",
       "    <tr style=\"text-align: right;\">\n",
       "      <th></th>\n",
       "      <th>comments</th>\n",
       "      <th>corpus</th>\n",
       "      <th>label</th>\n",
       "    </tr>\n",
       "  </thead>\n",
       "  <tbody>\n",
       "    <tr>\n",
       "      <th>0</th>\n",
       "      <td>ㅋㅋㅋㅋ 그래도 조아해주는 팬들 많아서 좋겠다 ㅠㅠ 니들은 온유가 안만져줌 ㅠㅠ</td>\n",
       "      <td>[ㅋㅋㅋㅋ, 그래도, 조아하다, 팬, 들, 많다, 좋다, ㅠㅠ, 니, 들, 은, 온...</td>\n",
       "      <td>2</td>\n",
       "    </tr>\n",
       "    <tr>\n",
       "      <th>1</th>\n",
       "      <td>둘다 넘 좋다~행복하세요</td>\n",
       "      <td>[두다, 넘다, 좋다, ~, 행복하다]</td>\n",
       "      <td>1</td>\n",
       "    </tr>\n",
       "    <tr>\n",
       "      <th>2</th>\n",
       "      <td>근데 만원이하는 현금결제만 하라고 써놓은집 우리나라에 엄청 많은데</td>\n",
       "      <td>[근데, 만, 원, 이하, 는, 현금, 결제, 만, 하라, 고, 써다, 집, 우리나...</td>\n",
       "      <td>2</td>\n",
       "    </tr>\n",
       "    <tr>\n",
       "      <th>3</th>\n",
       "      <td>원곡생각하나도 안나고 러블리즈 신곡나온줄!!! 너무 예쁘게 잘봤어요</td>\n",
       "      <td>[원, 곡, 생각, 하나, 도, 안나, 고, 러블, 리즈, 신곡, 나오다, !!!,...</td>\n",
       "      <td>1</td>\n",
       "    </tr>\n",
       "    <tr>\n",
       "      <th>4</th>\n",
       "      <td>장현승 얘도 참 이젠 짠하다...</td>\n",
       "      <td>[장현승, 얘, 도, 차다, 이, 젠, 짠하다, ...]</td>\n",
       "      <td>1</td>\n",
       "    </tr>\n",
       "    <tr>\n",
       "      <th>...</th>\n",
       "      <td>...</td>\n",
       "      <td>...</td>\n",
       "      <td>...</td>\n",
       "    </tr>\n",
       "    <tr>\n",
       "      <th>969</th>\n",
       "      <td>대박 게스트... 꼭 봐야징~ 컨셉이 바뀌니깐 재미지넹</td>\n",
       "      <td>[대박, 게스트, ..., 꼭, 보다, 징, ~, 컨셉, 이, 바뀌다, 재미, 지, 넹]</td>\n",
       "      <td>1</td>\n",
       "    </tr>\n",
       "    <tr>\n",
       "      <th>970</th>\n",
       "      <td>성형으로 다 뜯어고쳐놓고 예쁜척. 성형 전 니 얼굴 다 알고있다. 순자처럼 된장냄새...</td>\n",
       "      <td>[성형, 으로, 다, 뜯다, 고치다, 예쁘다, 척, ., 성형, 전, 니, 얼굴, ...</td>\n",
       "      <td>2</td>\n",
       "    </tr>\n",
       "    <tr>\n",
       "      <th>971</th>\n",
       "      <td>분위기는 비슷하다만 전혀다른 전개던데 무슨ㅋㅋㄱ 우리나라사람들은 분위기만 비슷하면 ...</td>\n",
       "      <td>[분위기, 는, 비슷하다, 전혀, 다른, 전개, 던데, 무슨, ㅋㅋㄱ, 우리나라, ...</td>\n",
       "      <td>1</td>\n",
       "    </tr>\n",
       "    <tr>\n",
       "      <th>972</th>\n",
       "      <td>입에 손가릭이 10개 있으니 징그럽다</td>\n",
       "      <td>[입, 에, 손가릭, 이, 10, 개, 있다, 징그럽다]</td>\n",
       "      <td>0</td>\n",
       "    </tr>\n",
       "    <tr>\n",
       "      <th>973</th>\n",
       "      <td>난 조보아 이뻐서 보는데 백종원 관심무</td>\n",
       "      <td>[난, 조보아, 이쁘다, 보다, 백종원, 관심, 무]</td>\n",
       "      <td>1</td>\n",
       "    </tr>\n",
       "  </tbody>\n",
       "</table>\n",
       "<p>974 rows × 3 columns</p>\n",
       "</div>"
      ],
      "text/plain": [
       "                                              comments  \\\n",
       "0         ㅋㅋㅋㅋ 그래도 조아해주는 팬들 많아서 좋겠다 ㅠㅠ 니들은 온유가 안만져줌 ㅠㅠ   \n",
       "1                                        둘다 넘 좋다~행복하세요   \n",
       "2                 근데 만원이하는 현금결제만 하라고 써놓은집 우리나라에 엄청 많은데   \n",
       "3                원곡생각하나도 안나고 러블리즈 신곡나온줄!!! 너무 예쁘게 잘봤어요   \n",
       "4                                   장현승 얘도 참 이젠 짠하다...   \n",
       "..                                                 ...   \n",
       "969                     대박 게스트... 꼭 봐야징~ 컨셉이 바뀌니깐 재미지넹   \n",
       "970  성형으로 다 뜯어고쳐놓고 예쁜척. 성형 전 니 얼굴 다 알고있다. 순자처럼 된장냄새...   \n",
       "971  분위기는 비슷하다만 전혀다른 전개던데 무슨ㅋㅋㄱ 우리나라사람들은 분위기만 비슷하면 ...   \n",
       "972                               입에 손가릭이 10개 있으니 징그럽다   \n",
       "973                              난 조보아 이뻐서 보는데 백종원 관심무   \n",
       "\n",
       "                                                corpus  label  \n",
       "0    [ㅋㅋㅋㅋ, 그래도, 조아하다, 팬, 들, 많다, 좋다, ㅠㅠ, 니, 들, 은, 온...      2  \n",
       "1                                [두다, 넘다, 좋다, ~, 행복하다]      1  \n",
       "2    [근데, 만, 원, 이하, 는, 현금, 결제, 만, 하라, 고, 써다, 집, 우리나...      2  \n",
       "3    [원, 곡, 생각, 하나, 도, 안나, 고, 러블, 리즈, 신곡, 나오다, !!!,...      1  \n",
       "4                      [장현승, 얘, 도, 차다, 이, 젠, 짠하다, ...]      1  \n",
       "..                                                 ...    ...  \n",
       "969  [대박, 게스트, ..., 꼭, 보다, 징, ~, 컨셉, 이, 바뀌다, 재미, 지, 넹]      1  \n",
       "970  [성형, 으로, 다, 뜯다, 고치다, 예쁘다, 척, ., 성형, 전, 니, 얼굴, ...      2  \n",
       "971  [분위기, 는, 비슷하다, 전혀, 다른, 전개, 던데, 무슨, ㅋㅋㄱ, 우리나라, ...      1  \n",
       "972                    [입, 에, 손가릭, 이, 10, 개, 있다, 징그럽다]      0  \n",
       "973                      [난, 조보아, 이쁘다, 보다, 백종원, 관심, 무]      1  \n",
       "\n",
       "[974 rows x 3 columns]"
      ]
     },
     "execution_count": 119,
     "metadata": {},
     "output_type": "execute_result"
    }
   ],
   "source": [
    "test"
   ]
  },
  {
   "cell_type": "code",
   "execution_count": null,
   "metadata": {},
   "outputs": [],
   "source": []
  }
 ],
 "metadata": {
  "kernelspec": {
   "display_name": "Python 3",
   "language": "python",
   "name": "python3"
  },
  "language_info": {
   "codemirror_mode": {
    "name": "ipython",
    "version": 3
   },
   "file_extension": ".py",
   "mimetype": "text/x-python",
   "name": "python",
   "nbconvert_exporter": "python",
   "pygments_lexer": "ipython3",
   "version": "3.8.3"
  }
 },
 "nbformat": 4,
 "nbformat_minor": 4
}
