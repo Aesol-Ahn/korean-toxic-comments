{
 "cells": [
  {
   "cell_type": "code",
   "execution_count": 4,
   "metadata": {},
   "outputs": [],
   "source": [
    "import numpy as np\n",
    "import pandas as pd\n",
    "import seaborn as sns\n",
    "import matplotlib.pyplot as plt\n",
    "from konlpy.tag import Okt\n",
    "from konlpy.utils import partition\n",
    "import re\n",
    "import pickle\n",
    "from sklearn.metrics import confusion_matrix, classification_report\n",
    "from sklearn.naive_bayes import CategoricalNB\n",
    "from keras.models import Sequential \n",
    "from keras.layers import Dense\n",
    "from keras import optimizers\n",
    "from keras.layers import Embedding, Dense, LSTM\n",
    "from keras.models import Sequential\n",
    "from keras.models import load_model\n",
    "from keras.callbacks import EarlyStopping, ModelCheckpoint"
   ]
  },
  {
   "cell_type": "markdown",
   "metadata": {},
   "source": [
    "# 데이터 가져오기"
   ]
  },
  {
   "cell_type": "code",
   "execution_count": 5,
   "metadata": {},
   "outputs": [],
   "source": [
    "train=pd.read_csv('data/train.csv')\n",
    "test=pd.read_csv('data/test.csv')"
   ]
  },
  {
   "cell_type": "code",
   "execution_count": 20,
   "metadata": {},
   "outputs": [
    {
     "name": "stdout",
     "output_type": "stream",
     "text": [
      "<class 'pandas.core.frame.DataFrame'>\n",
      "RangeIndex: 36121 entries, 0 to 36120\n",
      "Data columns (total 2 columns):\n",
      " #   Column    Non-Null Count  Dtype \n",
      "---  ------    --------------  ----- \n",
      " 0   comments  36121 non-null  object\n",
      " 1   label     36121 non-null  int64 \n",
      "dtypes: int64(1), object(1)\n",
      "memory usage: 564.5+ KB\n"
     ]
    }
   ],
   "source": [
    "test.info()"
   ]
  },
  {
   "cell_type": "code",
   "execution_count": null,
   "metadata": {},
   "outputs": [],
   "source": [
    "with open(\"data/khaiii_train.pkl\",\"rb\") as fr:\n",
    "    khaiii_train=pickle.load(fr)\n",
    "with open(\"data/khaiii_test.pkl\",\"rb\") as fr:\n",
    "    khaiii_test=pickle.load(fr)\n",
    "\n",
    "train['khaiii']=khaiii_train\n",
    "test['khaiii']=khaiii_test"
   ]
  },
  {
   "cell_type": "code",
   "execution_count": null,
   "metadata": {},
   "outputs": [],
   "source": [
    "with open(\"data/mecab_train.pkl\",\"rb\") as fr:\n",
    "    mecab_train=pickle.load(fr)\n",
    "with open(\"data/mecab_test.pkl\",\"rb\") as fr:\n",
    "    mecab_test=pickle.load(fr)\n",
    "\n",
    "train['mecab']=mecab_train\n",
    "test['mecab']=mecab_test"
   ]
  },
  {
   "cell_type": "code",
   "execution_count": null,
   "metadata": {},
   "outputs": [],
   "source": [
    "with open(\"data/okt_train.pkl\",\"rb\") as fr:\n",
    "    okt_train=pickle.load(fr)\n",
    "with open(\"data/okt_test.pkl\",\"rb\") as fr:\n",
    "    okt_test=pickle.load(fr)\n",
    "\n",
    "train['okt']=okt_train\n",
    "test['okt']=okt_test"
   ]
  },
  {
   "cell_type": "code",
   "execution_count": null,
   "metadata": {},
   "outputs": [],
   "source": [
    "# train=train[:int(train.shape[0]/3)]\n",
    "# test=test[:int(test.shape[0]/3)]"
   ]
  },
  {
   "cell_type": "markdown",
   "metadata": {},
   "source": [
    "# stopwords"
   ]
  },
  {
   "cell_type": "code",
   "execution_count": null,
   "metadata": {},
   "outputs": [],
   "source": [
    "stopwords=['아','휴','아이구','아이쿠','아이고','어','나','우리','저희','따라','의해','을','를','에','의','가','으로','로','에게','뿐이다','의거하여','근거하여','입각하여','기준으로',\n",
    "'예하면','예를 들면','예를 들자면','저','소인','소생','저희','지말고','하지마','하지마라','다른','물론','또한','그리고','비길수 없다','해서는 안된다','뿐만 아니라','만이 아니다',\n",
    "'만은 아니다','막론하고','관계없이','그치지 않다','그러나','그런데','하지만','든간에','논하지 않다','따지지 않다','설사','비록','더라도','아니면','만' '못하다','하는 편이 낫다',\n",
    "'불문하고','향하여','향해서','향하다','쪽으로','틈타','이용하여','타다','오르다','제외하고','이 외에','이 밖에','하여야','비로소','한다면' '몰라도','외에도','이곳','여기','부터',\n",
    "'기점으로,따라서','할 생각이다','하려고하다','이리하여','그리하여','그렇게' '함으로써','하지만','일때','할때','앞에서','중에서','보는데서','으로써','로써','까지','해야한다',\n",
    "'일것이다','반드시','할줄알다','할수있다','할수있어','임에 틀림없다','한다면','등','등등','제','겨우','단지','다만','할뿐','딩동','댕그','대해서','대하여','대하면','훨씬','얼마나',\n",
    "'얼마만큼','얼마큼','남짓','여','얼마간','약간','다소','좀','조금','다수','몇','얼마','지만','하물며','또한','그러나','그렇지만','하지만','이외에도','대해 말하자면','뿐이다','다음에',\n",
    "'반대로','반대로 말하자면','이와 반대로','바꾸어서 말하면','바꾸어서 한다면','만약','그렇지않으면','까악','툭','딱','삐걱거리다','보드득','비걱거리다','꽈당','응당','해야한다',\n",
    "'에 가서','각','각각','여러분','각종','각자','제각기','하도록하다','와','과','그러므로','그래서','고로','한 까닭에','하기 때문에','거니와','이지만','대하여','관하여','관한','과연',\n",
    "'실로','아니나다를가','생각한대로','진짜로','한적이있다','하곤하였다','하','하하','허허','아하','거바','와','오','왜','어째서','무엇때문에','어찌','하겠는가','무슨','어디','어느곳',\n",
    "'더군다나','하물며','더욱이는','어느때','언제','야','이봐','어이','여보시오','흐흐','흥','휴','헉헉','헐떡헐떡','영차','여차','어기여차','끙끙','아야','앗','아야','콸콸','졸졸','좍좍','뚝뚝',\n",
    "'주룩주룩','솨','우르르','그래도','또','그리고','바꾸어말하면','바꾸어말하자면','혹은','혹시','답다','및','그에 따르는','때가 되어','즉','지든지','설령','가령','하더라도','할지라도',\n",
    "'일지라도','지든지','몇','거의,하마터면','인젠','이젠','된바에야','된이상','만큼','어찌됏든','그위에','게다가','점에서 보아','비추어 보아','고려하면','하게될것이다','일것이다',\n",
    "'비교적','좀','보다더','비하면','시키다','하게하다','할만하다','의해서','연이서','이어서','잇따라','뒤따라','뒤이어','결국','의지하여','기대여','통하여','자마자','더욱더','불구하고',\n",
    "'얼마든지','마음대로','주저하지 않고','곧','즉시','바로','당장','하자마자','밖에' '안된다','하면된다','그래','그렇지','요컨대','다시 말하자면','바꿔 말하면','즉','구체적으로',\n",
    "'말하자면','시작하여','시초에','이상','허','헉','허걱','바와같이','해도좋다','해도된다','게다가','더구나','하물며','와르르','팍','퍽','펄렁','동안','이래','하고있었다','이었다','에서',\n",
    "'로부터','까지','예하면','했어요','해요','함께','같이','더불어','마저','마저도','양자','모두','습니다','가까스로','하려고하다','즈음하여','다른','다른 방면으로','해봐요','습니까',\n",
    "'했어요','말할것도 없고','무릎쓰고','개의치않고','하는것만 못하다','하는것이 낫다','매','매번','들','모','어느것','어느','로써','갖고말하자면','어디','어느쪽','어느것','어느해',\n",
    "'어느 년도','라' '해도','언젠가','어떤것','어느것','저기','저쪽','저것','그때','그럼','그러면','요만한걸','그래','그때','저것만큼','그저','이르기까지','할 줄 안다','할 힘이' '있다',\n",
    "'너','너희','당신','어찌','설마','차라리','할지언정','할지라도','할망정','할지언정','구토하다','게우다','토하다','메쓰겁다','옆사람','퉤','쳇','의거하여','근거하여','의해','따라',\n",
    "'힘입어','그','다음','버금','두번째로','기타','첫번째로','나머지는','그중에서','견지에서','형식으로 쓰여','입장에서','위해서','단지','의해되다','하도록시키다','뿐만아니라',\n",
    "'반대로','전후','전자','앞의것','잠시','잠깐','하면서','그렇지만','다음에','그러한즉','그런즉','남들','아무거나','어찌하든지','같다','비슷하다','예컨대','이럴정도로','어떻게',\n",
    "'만약','만일','위에서' '서술한바와같이','인 듯하다','하지 않는다면','만약에','무엇','무슨','어느','어떤','아래윗','조차','한데','그럼에도 불구하고','여전히','심지어','까지도',\n",
    "'조차도','하지 않도록','않기 위하여','때','시각','무렵','시간','동안','어때','어떠한','하여금','네','예','우선','누구','누가' '알겠는가','아무도','줄은모른다','줄은 몰랏다','하는 김에',\n",
    "'겸사겸사','하는바','그런 까닭에','한 이유는','그러니','그러니까','때문에','그','너희','그들','너희들','타인','것','것들','너','위하여','공동으로','동시에','하기 위하여','어찌하여',\n",
    "'무엇때문에','붕붕','윙윙','나','우리','엉엉','휘익','윙윙','오호','아하','어쨋든','만 못하다','하기보다는','차라리,하는 편이 낫다','흐흐','놀라다','상대적으로 말하자면','마치',\n",
    "'아니라면','쉿','그렇지 않으면','그렇지' '않다면','안 그러면','아니었다면','하든지','아니면','이라면','좋아','알았어','하는것도','그만이다','어쩔수 없다','하나','일','일반적으로',\n",
    "'일단','한켠으로는','오자마자','이렇게되면','이와같다면','전부','한마디','한항목','근거로','하기에','아울러','하지 않도록','않기 위해서','이르기까지','이 되다','로 인하여',\n",
    "'까닭으로','이유만으로','이로 인하여','그래서','이 때문에','그러므로','그런 까닭에','알 수 있다','결론을 낼 수 있다','으로 인하여','있다','어떤것','관계가 있다','관련이 있다',\n",
    "'연관되다','어떤것들','에 대해','이리하여','그리하여','여부','하기보다는','하느니','하면 할수록','운운','이러이러하다','하구나','하도다','다시말하면','다음으로','에 있다',\n",
    "'에 달려 있다','우리','우리들','오히려','하기는한데','어떻게','어떻해','어찌됏어','어때','어째서','본대로','자','이','이쪽','여기','이것','이번','이렇게말하자면','이런','이러한',\n",
    "'이와 같은','요만큼','요만한 것','얼마 안 되는 것','이만큼','이 정도의','이렇게 많은 것','이와 같다','이때','이렇구나','것과 같이','끼익','삐걱,따위','와 같은 사람들',\n",
    "'부류의 사람들','왜냐하면','중의하나','오직','오로지','에 한하다','하기만 하면','도착하다','까지 미치다','도달하다','정도에 이르다','할 지경이다','결과에 이르다','관해서는',\n",
    "'여러분','하고 있다','한 후','혼자','자기','자기집','자신','우에' '종합한것과같이','총적으로' '보면','총적으로' '말하면','총적으로','대로 하다','으로서','참','그만이다','할 따름이다','쿵',\n",
    "'탕탕','쾅쾅','둥둥','봐','봐라','아이야','아니','와아','응','아이','참나','년','월','일','령','영','일','이','삼','사','오','육','륙','칠','팔','구','이천육','이천칠','이천팔','이천구','하나','둘','셋',\n",
    "'넷','다섯','여섯','일곱','여덟','아홉','령','영','하다','의','가','은','들','는','종','잘','걍','과','도','를','으로','자','에','와','한','이다','다','ㅋㅋ','']"
   ]
  },
  {
   "cell_type": "code",
   "execution_count": null,
   "metadata": {},
   "outputs": [],
   "source": [
    "def ch(data):\n",
    "    temp=[]\n",
    "    for i in data:\n",
    "        if i not in stopwords:\n",
    "            temp.append(re.sub('[ㄱ-ㅎ|ㅏ-ㅣ]+','',i))\n",
    "    return temp      "
   ]
  },
  {
   "cell_type": "code",
   "execution_count": null,
   "metadata": {},
   "outputs": [],
   "source": [
    "train['khaiii']=train['khaiii'].apply(ch)\n",
    "test['khaiii']=test['khaiii'].apply(ch)"
   ]
  },
  {
   "cell_type": "code",
   "execution_count": null,
   "metadata": {},
   "outputs": [],
   "source": [
    "train['mecab']=train['mecab'].apply(ch)\n",
    "test['mecab']=test['mecab'].apply(ch)"
   ]
  },
  {
   "cell_type": "code",
   "execution_count": null,
   "metadata": {},
   "outputs": [],
   "source": [
    "train['okt']=train['okt'].apply(ch)\n",
    "test['okt']=test['okt'].apply(ch)"
   ]
  },
  {
   "cell_type": "code",
   "execution_count": null,
   "metadata": {},
   "outputs": [],
   "source": [
    "wordList_khaiii=[]\n",
    "word_index_khaiii={}\n",
    "wordCount_khaiii={}\n",
    "\n",
    "for s in train['khaiii']: \n",
    "    for word in s:\n",
    "        if word not in wordList_khaiii:\n",
    "            wordCount_khaiii[word]=1\n",
    "            wordList_khaiii.append(word)\n",
    "        else:\n",
    "            wordCount_khaiii[word]=wordCount_khaiii[word]+1"
   ]
  },
  {
   "cell_type": "code",
   "execution_count": null,
   "metadata": {},
   "outputs": [],
   "source": [
    "wordList_mecab=[]\n",
    "word_index_mecab={}\n",
    "wordCount_mecab={} \n",
    "\n",
    "for s in train['mecab']: \n",
    "    for word in s:\n",
    "        if word not in wordList_mecab:\n",
    "            wordCount_mecab[word]=1\n",
    "            wordList_mecab.append(word)\n",
    "        else:\n",
    "            wordCount_mecab[word]=wordCount_mecab[word]+1  "
   ]
  },
  {
   "cell_type": "code",
   "execution_count": null,
   "metadata": {},
   "outputs": [],
   "source": [
    "wordList_okt=[]\n",
    "word_index_okt={}\n",
    "wordCount_okt={}\n",
    "\n",
    "for s in train['okt']: \n",
    "    for word in s:\n",
    "        if word not in wordList_okt:\n",
    "            wordCount_okt[word]=1\n",
    "            wordList_okt.append(word)\n",
    "        else:\n",
    "            wordCount_okt[word]=wordCount_okt[word]+1  "
   ]
  },
  {
   "cell_type": "code",
   "execution_count": null,
   "metadata": {},
   "outputs": [],
   "source": [
    "m=10"
   ]
  },
  {
   "cell_type": "code",
   "execution_count": null,
   "metadata": {},
   "outputs": [],
   "source": [
    "wordList_khaiii=[]\n",
    "word_index_khaiii={}\n",
    "\n",
    "for index ,word in enumerate(wordCount_khaiii.keys()):\n",
    "    if wordCount_khaiii[word] >= m:\n",
    "        if word not in stopwords:\n",
    "            word_index_khaiii[word]=len(wordList_khaiii)\n",
    "            wordList_khaiii.append(word)"
   ]
  },
  {
   "cell_type": "code",
   "execution_count": null,
   "metadata": {},
   "outputs": [],
   "source": [
    "wordList_mecab=[]\n",
    "word_index_mecab={}\n",
    "\n",
    "for index ,word in enumerate(wordCount_mecab.keys()):\n",
    "    if wordCount_mecab[word] >= m:\n",
    "        if word not in stopwords:\n",
    "            word_index_mecab[word]=len(wordList_mecab)\n",
    "            wordList_mecab.append(word)"
   ]
  },
  {
   "cell_type": "code",
   "execution_count": null,
   "metadata": {},
   "outputs": [],
   "source": [
    "wordList_okt=[]\n",
    "word_index_okt={}\n",
    "\n",
    "for index ,word in enumerate(wordCount_okt.keys()):\n",
    "    if wordCount_okt[word] >= m:\n",
    "        if word not in stopwords:\n",
    "            word_index_okt[word]=len(wordList_okt)\n",
    "            wordList_okt.append(word)"
   ]
  },
  {
   "cell_type": "markdown",
   "metadata": {},
   "source": [
    "# Document Term Matrix , One Hot Encoding"
   ]
  },
  {
   "cell_type": "code",
   "execution_count": null,
   "metadata": {
    "scrolled": true
   },
   "outputs": [],
   "source": [
    "train_khaiii_dtm_array=[]\n",
    "for corpus in train['khaiii']:\n",
    "    temp=[0]*len(wordList_khaiii)\n",
    "    for word in corpus:\n",
    "        if word in wordList_khaiii:\n",
    "            temp[word_index_khaiii[word]]=+1\n",
    "    train_khaiii_dtm_array.append(temp)"
   ]
  },
  {
   "cell_type": "code",
   "execution_count": null,
   "metadata": {},
   "outputs": [],
   "source": [
    "with open(\"data/train_khaiii_dtm_array.pkl\",\"wb\") as fw:\n",
    "    pickle.dump(train_khaiii_dtm_array,fw)"
   ]
  },
  {
   "cell_type": "code",
   "execution_count": null,
   "metadata": {},
   "outputs": [],
   "source": [
    "# train_khaiii_dtm=pd.DataFrame(train_khaiii_dtm_array,columns=word_index_khaiii.keys())\n",
    "# train_khaiii_dtm.to_csv('train_khaiii_dtm.csv',index=False)"
   ]
  },
  {
   "cell_type": "code",
   "execution_count": null,
   "metadata": {},
   "outputs": [],
   "source": [
    "test_khaiii_dtm_array=[]\n",
    "for corpus in test['khaiii']:\n",
    "    temp=[0]*len(wordList_khaiii)\n",
    "    for word in corpus:\n",
    "        if word in wordList_khaiii:\n",
    "            temp[word_index_khaiii[word]]=+1\n",
    "    test_khaiii_dtm_array.append(temp)"
   ]
  },
  {
   "cell_type": "code",
   "execution_count": null,
   "metadata": {},
   "outputs": [],
   "source": [
    "with open(\"data/test_khaiii_dtm_array.pkl\",\"wb\") as fw:\n",
    "    pickle.dump(test_khaiii_dtm_array,fw)"
   ]
  },
  {
   "cell_type": "code",
   "execution_count": null,
   "metadata": {},
   "outputs": [],
   "source": [
    "# test_khaiii_dtm=pd.DataFrame(test_khaiii_dtm_array,columns=word_index_khaiii.keys())\n",
    "# test_khaiii_dtm.to_csv('test_khaiii_dtm.csv',index=False)"
   ]
  },
  {
   "cell_type": "code",
   "execution_count": null,
   "metadata": {},
   "outputs": [],
   "source": [
    "train_mecab_dtm_array=[]\n",
    "for corpus in train['mecab']:\n",
    "    temp=[0]*len(wordList_mecab)\n",
    "    for word in corpus:\n",
    "        if word in wordList_mecab:\n",
    "            temp[word_index_mecab[word]]=+1\n",
    "    train_mecab_dtm_array.append(temp)"
   ]
  },
  {
   "cell_type": "code",
   "execution_count": null,
   "metadata": {},
   "outputs": [],
   "source": [
    "with open(\"data/train_mecab_dtm_array.pkl\",\"wb\") as fw:\n",
    "    pickle.dump(train_mecab_dtm_array,fw)"
   ]
  },
  {
   "cell_type": "code",
   "execution_count": null,
   "metadata": {},
   "outputs": [],
   "source": [
    "# train_mecab_dtm=pd.DataFrame(train_mecab_dtm_array,columns=word_index_mecab.keys())\n",
    "# train_mecab_dtm.to_csv('train_mecab_dtm.csv',index=False)"
   ]
  },
  {
   "cell_type": "code",
   "execution_count": null,
   "metadata": {},
   "outputs": [],
   "source": [
    "test_mecab_dtm_array=[]\n",
    "for corpus in test['mecab']:\n",
    "    temp=[0]*len(wordList_mecab)\n",
    "    for word in corpus:\n",
    "        if word in wordList_mecab:\n",
    "            temp[word_index_mecab[word]]=+1\n",
    "    test_mecab_dtm_array.append(temp)"
   ]
  },
  {
   "cell_type": "code",
   "execution_count": null,
   "metadata": {},
   "outputs": [],
   "source": [
    "with open(\"data/test_mecab_dtm_array.pkl\",\"wb\") as fw:\n",
    "    pickle.dump(test_mecab_dtm_array,fw)"
   ]
  },
  {
   "cell_type": "code",
   "execution_count": null,
   "metadata": {},
   "outputs": [],
   "source": [
    "# test_mecab_dtm=pd.DataFrame(test_mecab_dtm_array,columns=word_index_mecab.keys())\n",
    "# test_mecab_dtm.to_csv('test_mecab_dtm.csv',index=False)"
   ]
  },
  {
   "cell_type": "code",
   "execution_count": null,
   "metadata": {},
   "outputs": [],
   "source": [
    "train_okt_dtm_array=[]\n",
    "for corpus in train['okt']:\n",
    "    temp=[0]*len(wordList_okt)\n",
    "    for word in corpus:\n",
    "        if word in wordList_okt:\n",
    "            temp[word_index_okt[word]]=+1\n",
    "    train_okt_dtm_array.append(temp)"
   ]
  },
  {
   "cell_type": "code",
   "execution_count": null,
   "metadata": {},
   "outputs": [],
   "source": [
    "with open(\"data/train_okt_dtm_array.pkl\",\"wb\") as fw:\n",
    "    pickle.dump(train_okt_dtm_array,fw)"
   ]
  },
  {
   "cell_type": "code",
   "execution_count": null,
   "metadata": {},
   "outputs": [],
   "source": [
    "# train_okt_dtm=pd.DataFrame(train_okt_dtm_array,columns=word_index_okt.keys())\n",
    "# train_okt_dtm.to_csv('train_okt_dtm.csv',index=False)"
   ]
  },
  {
   "cell_type": "code",
   "execution_count": null,
   "metadata": {},
   "outputs": [],
   "source": [
    "test_okt_dtm_array=[]\n",
    "for corpus in test['okt']:\n",
    "    temp=[0]*len(wordList_okt)\n",
    "    for word in corpus:\n",
    "        if word in wordList_okt:\n",
    "            temp[word_index_okt[word]]=+1\n",
    "    test_okt_dtm_array.append(temp)"
   ]
  },
  {
   "cell_type": "code",
   "execution_count": null,
   "metadata": {},
   "outputs": [],
   "source": [
    "with open(\"data/test_okt_dtm_array.pkl\",\"wb\") as fw:\n",
    "    pickle.dump(test_okt_dtm_array,fw)"
   ]
  },
  {
   "cell_type": "code",
   "execution_count": null,
   "metadata": {},
   "outputs": [],
   "source": [
    "# test_okt_dtm=pd.DataFrame(test_okt_dtm_array,columns=word_index_okt.keys())\n",
    "# test_okt_dtm.to_csv('test_okt_dtm.csv',index=False)"
   ]
  },
  {
   "cell_type": "code",
   "execution_count": null,
   "metadata": {},
   "outputs": [],
   "source": []
  },
  {
   "cell_type": "code",
   "execution_count": null,
   "metadata": {},
   "outputs": [],
   "source": []
  },
  {
   "cell_type": "code",
   "execution_count": null,
   "metadata": {},
   "outputs": [],
   "source": []
  },
  {
   "cell_type": "code",
   "execution_count": null,
   "metadata": {},
   "outputs": [],
   "source": []
  },
  {
   "cell_type": "markdown",
   "metadata": {},
   "source": [
    "# yTrain, yTest"
   ]
  },
  {
   "cell_type": "code",
   "execution_count": 33,
   "metadata": {},
   "outputs": [],
   "source": [
    "yTrain=train['label'].values\n",
    "yTest=test['label'].values"
   ]
  },
  {
   "cell_type": "code",
   "execution_count": 7,
   "metadata": {},
   "outputs": [],
   "source": [
    "# yTrain=train['label'].values\n",
    "# yTest=test['label'].values"
   ]
  },
  {
   "cell_type": "markdown",
   "metadata": {},
   "source": [
    "# IF-IDF func"
   ]
  },
  {
   "cell_type": "code",
   "execution_count": 8,
   "metadata": {},
   "outputs": [],
   "source": [
    "def tfidf(dtm):\n",
    "    n=dtm.shape[0]\n",
    "    c=(dtm!=0).sum(axis=0)\n",
    "    m=np.log(n/(c+1))\n",
    "    return m*dtm"
   ]
  },
  {
   "cell_type": "markdown",
   "metadata": {},
   "source": [
    "# train_khaiii_dtm, test_khaiii_dtm"
   ]
  },
  {
   "cell_type": "code",
   "execution_count": 9,
   "metadata": {},
   "outputs": [],
   "source": [
    "# train_khaiii_dtm=pd.read_csv('train_khaiii_dtm.csv')\n",
    "# train_khaiii_ohe=train_khaiii_dtm.isnull()\n",
    "# test_khaiii_dtm=pd.read_csv('test_khaiii_dtm.csv')\n",
    "# test_khaiii_ohe=test_khaiii_dtm.isnull()"
   ]
  },
  {
   "cell_type": "code",
   "execution_count": 10,
   "metadata": {},
   "outputs": [],
   "source": [
    "with open(\"data/train_khaiii_dtm_array.pkl\",\"rb\") as fr:\n",
    "    train_khaiii_dtm_array=pickle.load(fr)\n",
    "with open(\"data/test_khaiii_dtm_array.pkl\",\"rb\") as fr:\n",
    "    test_khaiii_dtm_array=pickle.load(fr)"
   ]
  },
  {
   "cell_type": "code",
   "execution_count": 11,
   "metadata": {},
   "outputs": [],
   "source": [
    "train_khaiii_dtm=np.array(train_khaiii_dtm_array)\n",
    "train_khaiii_ohe=np.where(train_khaiii_dtm==0,0,1)\n",
    "test_khaiii_dtm=np.array(test_khaiii_dtm_array)\n",
    "test_khaiii_ohe=np.where(test_khaiii_dtm==0,0,1)"
   ]
  },
  {
   "cell_type": "code",
   "execution_count": 12,
   "metadata": {},
   "outputs": [],
   "source": [
    "xTrain_khaiii=train_khaiii_ohe\n",
    "xTest_khaiii=test_khaiii_ohe"
   ]
  },
  {
   "cell_type": "code",
   "execution_count": null,
   "metadata": {},
   "outputs": [],
   "source": [
    "# xTrain_khaiii=train_khaiii_ohe.values\n",
    "# xTest_khaiii=test_khaiii_ohe.values"
   ]
  },
  {
   "cell_type": "markdown",
   "metadata": {},
   "source": [
    "# IF-IDF khaiii"
   ]
  },
  {
   "cell_type": "code",
   "execution_count": 8,
   "metadata": {},
   "outputs": [],
   "source": [
    "train_khaiii_ifidf=tfidf(train_khaiii_dtm)\n",
    "test_khaiii_ifidf=tfidf(test_khaiii_dtm)"
   ]
  },
  {
   "cell_type": "markdown",
   "metadata": {},
   "source": [
    "# naive_bayes_khaiii"
   ]
  },
  {
   "cell_type": "code",
   "execution_count": null,
   "metadata": {},
   "outputs": [],
   "source": [
    "model_khaiii=CategoricalNB()\n",
    "model_khaiii.fit(xTrain_khaiii, yTrain)"
   ]
  },
  {
   "cell_type": "code",
   "execution_count": null,
   "metadata": {},
   "outputs": [],
   "source": [
    "pred_khaiii_NB=model_khaiii.predict(xTest_khaiii)"
   ]
  },
  {
   "cell_type": "code",
   "execution_count": null,
   "metadata": {},
   "outputs": [],
   "source": [
    "test['pred_khaiii_NB']=pred_khaiii_NB\n",
    "print((test['label']==test['pred_khaiii_NB']).sum()/test.shape[0])"
   ]
  },
  {
   "cell_type": "code",
   "execution_count": null,
   "metadata": {},
   "outputs": [],
   "source": [
    "print(confusion_matrix(pred_khaiii_NB, yTest))\n",
    "print(classification_report(pred_khaiii_NB, yTest))"
   ]
  },
  {
   "cell_type": "markdown",
   "metadata": {},
   "source": [
    "# NB-SVM_khaiii"
   ]
  },
  {
   "cell_type": "code",
   "execution_count": 9,
   "metadata": {},
   "outputs": [],
   "source": [
    "from sklearn.linear_model import LogisticRegression"
   ]
  },
  {
   "cell_type": "code",
   "execution_count": 10,
   "metadata": {},
   "outputs": [],
   "source": [
    "def pr_khaiii(y_i, y):\n",
    "    p = train_khaiii_dtm[y==y_i].sum(0)\n",
    "    return (p+1) / ((y==y_i).sum()+1)"
   ]
  },
  {
   "cell_type": "code",
   "execution_count": 11,
   "metadata": {},
   "outputs": [],
   "source": [
    "def get_mdl_khaiii(y):\n",
    "    r = np.log(pr_khaiii(1,y) / pr_khaiii(0,y))\n",
    "    m = LogisticRegression(C=0.1)\n",
    "    x_nb = train_khaiii_dtm*(r)\n",
    "    return m.fit(x_nb, y), r"
   ]
  },
  {
   "cell_type": "code",
   "execution_count": 14,
   "metadata": {},
   "outputs": [],
   "source": [
    "m,r = get_mdl_khaiii(yTrain)\n",
    "preds_khaiii=m.predict_proba(test_khaiii_dtm*(r))"
   ]
  },
  {
   "cell_type": "code",
   "execution_count": 15,
   "metadata": {},
   "outputs": [
    {
     "name": "stdout",
     "output_type": "stream",
     "text": [
      "0.9261925195869439\n"
     ]
    }
   ],
   "source": [
    "pred_khaiii_NB_SVM=[]\n",
    "for i in preds_khaiii:\n",
    "    pred_khaiii_NB_SVM.append(i.argmax())\n",
    "\n",
    "test['pred_khaiii_NB_SVM']=pred_khaiii_NB_SVM\n",
    "print((test['label']==test['pred_khaiii_NB_SVM']).sum()/test.shape[0])"
   ]
  },
  {
   "cell_type": "code",
   "execution_count": 18,
   "metadata": {
    "scrolled": false
   },
   "outputs": [
    {
     "name": "stdout",
     "output_type": "stream",
     "text": [
      "[[16782   898]\n",
      " [ 1768 16673]]\n",
      "              precision    recall  f1-score   support\n",
      "\n",
      "           0       0.90      0.95      0.93     17680\n",
      "           1       0.95      0.90      0.93     18441\n",
      "\n",
      "    accuracy                           0.93     36121\n",
      "   macro avg       0.93      0.93      0.93     36121\n",
      "weighted avg       0.93      0.93      0.93     36121\n",
      "\n"
     ]
    }
   ],
   "source": [
    "print(confusion_matrix(pred_khaiii_NB_SVM, yTest))\n",
    "print(classification_report(pred_khaiii_NB_SVM, yTest))"
   ]
  },
  {
   "cell_type": "markdown",
   "metadata": {},
   "source": [
    "# RNN_khaiii"
   ]
  },
  {
   "cell_type": "code",
   "execution_count": null,
   "metadata": {
    "scrolled": true
   },
   "outputs": [],
   "source": [
    "train['none']=train['label']==0\n",
    "train['hate']=train['label']==1\n",
    "yTrain=train[['none','hate']].values"
   ]
  },
  {
   "cell_type": "code",
   "execution_count": 44,
   "metadata": {},
   "outputs": [],
   "source": [
    "es = EarlyStopping(monitor='val_loss', mode='min', verbose=1, patience=4)\n",
    "mc = ModelCheckpoint('model_khaiii.h5', monitor='val_acc', mode='max', verbose=1, save_best_only=True)"
   ]
  },
  {
   "cell_type": "code",
   "execution_count": 45,
   "metadata": {},
   "outputs": [],
   "source": [
    "model_khaiii=Sequential()\n",
    "model_khaiii.add(Dense(2048,input_shape=(xTrain_khaiii.shape[1],) ,activation='relu'))\n",
    "model_khaiii.add(Dense(512,activation='relu'))\n",
    "model_khaiii.add(Dense(64,activation='relu'))\n",
    "model_khaiii.add(Dense(8,activation='relu'))\n",
    "model_khaiii.add(Dense(2,activation='sigmoid'))"
   ]
  },
  {
   "cell_type": "code",
   "execution_count": 46,
   "metadata": {},
   "outputs": [],
   "source": [
    "model_khaiii.compile(optimizer='sgd',\n",
    "             loss='binary_crossentropy',\n",
    "             metrics=['accuracy'])"
   ]
  },
  {
   "cell_type": "code",
   "execution_count": 47,
   "metadata": {},
   "outputs": [],
   "source": [
    "x_val_khaiii = xTrain_khaiii[:30000]\n",
    "partial_x_train_khaiii = xTrain_khaiii[30000:]\n",
    "y_val = yTrain[:30000]\n",
    "partial_y_train = yTrain[30000:]"
   ]
  },
  {
   "cell_type": "code",
   "execution_count": 48,
   "metadata": {},
   "outputs": [
    {
     "data": {
      "text/plain": [
       "(120000, 10532)"
      ]
     },
     "execution_count": 48,
     "metadata": {},
     "output_type": "execute_result"
    }
   ],
   "source": [
    "partial_x_train_khaiii.shape"
   ]
  },
  {
   "cell_type": "code",
   "execution_count": 49,
   "metadata": {},
   "outputs": [
    {
     "name": "stdout",
     "output_type": "stream",
     "text": [
      "Epoch 1/300\n",
      "234/235 [============================>.] - ETA: 0s - loss: 0.6919 - accuracy: 0.5216WARNING:tensorflow:Can save best model only with val_acc available, skipping.\n",
      "235/235 [==============================] - 19s 80ms/step - loss: 0.6919 - accuracy: 0.5216 - val_loss: 0.6891 - val_accuracy: 0.5649\n",
      "Epoch 2/300\n",
      "234/235 [============================>.] - ETA: 0s - loss: 0.6826 - accuracy: 0.6241WARNING:tensorflow:Can save best model only with val_acc available, skipping.\n",
      "235/235 [==============================] - 19s 80ms/step - loss: 0.6826 - accuracy: 0.6243 - val_loss: 0.6736 - val_accuracy: 0.7024\n",
      "Epoch 3/300\n",
      "234/235 [============================>.] - ETA: 0s - loss: 0.6621 - accuracy: 0.7704WARNING:tensorflow:Can save best model only with val_acc available, skipping.\n",
      "235/235 [==============================] - 19s 80ms/step - loss: 0.6621 - accuracy: 0.7703 - val_loss: 0.6463 - val_accuracy: 0.7954\n",
      "Epoch 4/300\n",
      "234/235 [============================>.] - ETA: 0s - loss: 0.6251 - accuracy: 0.7912WARNING:tensorflow:Can save best model only with val_acc available, skipping.\n",
      "235/235 [==============================] - 19s 80ms/step - loss: 0.6250 - accuracy: 0.7913 - val_loss: 0.5966 - val_accuracy: 0.7972\n",
      "Epoch 5/300\n",
      "234/235 [============================>.] - ETA: 0s - loss: 0.5594 - accuracy: 0.8018WARNING:tensorflow:Can save best model only with val_acc available, skipping.\n",
      "235/235 [==============================] - 19s 83ms/step - loss: 0.5594 - accuracy: 0.8018 - val_loss: 0.5129 - val_accuracy: 0.8164\n",
      "Epoch 6/300\n",
      "234/235 [============================>.] - ETA: 0s - loss: 0.4675 - accuracy: 0.8234WARNING:tensorflow:Can save best model only with val_acc available, skipping.\n",
      "235/235 [==============================] - 20s 84ms/step - loss: 0.4674 - accuracy: 0.8235 - val_loss: 0.4181 - val_accuracy: 0.8362\n",
      "Epoch 7/300\n",
      "234/235 [============================>.] - ETA: 0s - loss: 0.3847 - accuracy: 0.8454WARNING:tensorflow:Can save best model only with val_acc available, skipping.\n",
      "235/235 [==============================] - 20s 83ms/step - loss: 0.3846 - accuracy: 0.8455 - val_loss: 0.3493 - val_accuracy: 0.8578\n",
      "Epoch 8/300\n",
      "234/235 [============================>.] - ETA: 0s - loss: 0.3303 - accuracy: 0.8655WARNING:tensorflow:Can save best model only with val_acc available, skipping.\n",
      "235/235 [==============================] - 20s 83ms/step - loss: 0.3303 - accuracy: 0.8655 - val_loss: 0.3084 - val_accuracy: 0.8710\n",
      "Epoch 9/300\n",
      "234/235 [============================>.] - ETA: 0s - loss: 0.2966 - accuracy: 0.8780WARNING:tensorflow:Can save best model only with val_acc available, skipping.\n",
      "235/235 [==============================] - 20s 84ms/step - loss: 0.2966 - accuracy: 0.8780 - val_loss: 0.2820 - val_accuracy: 0.8832\n",
      "Epoch 10/300\n",
      "234/235 [============================>.] - ETA: 0s - loss: 0.2745 - accuracy: 0.8869WARNING:tensorflow:Can save best model only with val_acc available, skipping.\n",
      "235/235 [==============================] - 20s 84ms/step - loss: 0.2745 - accuracy: 0.8869 - val_loss: 0.2643 - val_accuracy: 0.8912\n",
      "Epoch 11/300\n",
      "234/235 [============================>.] - ETA: 0s - loss: 0.2587 - accuracy: 0.8932WARNING:tensorflow:Can save best model only with val_acc available, skipping.\n",
      "235/235 [==============================] - 20s 83ms/step - loss: 0.2588 - accuracy: 0.8931 - val_loss: 0.2519 - val_accuracy: 0.8964\n",
      "Epoch 12/300\n",
      "234/235 [============================>.] - ETA: 0s - loss: 0.2469 - accuracy: 0.8981WARNING:tensorflow:Can save best model only with val_acc available, skipping.\n",
      "235/235 [==============================] - 20s 83ms/step - loss: 0.2469 - accuracy: 0.8981 - val_loss: 0.2432 - val_accuracy: 0.8981\n",
      "Epoch 13/300\n",
      "234/235 [============================>.] - ETA: 0s - loss: 0.2374 - accuracy: 0.9021WARNING:tensorflow:Can save best model only with val_acc available, skipping.\n",
      "235/235 [==============================] - 20s 83ms/step - loss: 0.2375 - accuracy: 0.9021 - val_loss: 0.2353 - val_accuracy: 0.9013\n",
      "Epoch 14/300\n",
      "234/235 [============================>.] - ETA: 0s - loss: 0.2296 - accuracy: 0.9054WARNING:tensorflow:Can save best model only with val_acc available, skipping.\n",
      "235/235 [==============================] - 20s 83ms/step - loss: 0.2296 - accuracy: 0.9054 - val_loss: 0.2291 - val_accuracy: 0.9048\n",
      "Epoch 15/300\n",
      "234/235 [============================>.] - ETA: 0s - loss: 0.2228 - accuracy: 0.9085WARNING:tensorflow:Can save best model only with val_acc available, skipping.\n",
      "235/235 [==============================] - 20s 84ms/step - loss: 0.2228 - accuracy: 0.9085 - val_loss: 0.2240 - val_accuracy: 0.9067\n",
      "Epoch 16/300\n",
      "234/235 [============================>.] - ETA: 0s - loss: 0.2166 - accuracy: 0.9113WARNING:tensorflow:Can save best model only with val_acc available, skipping.\n",
      "235/235 [==============================] - 20s 84ms/step - loss: 0.2167 - accuracy: 0.9113 - val_loss: 0.2193 - val_accuracy: 0.9085\n",
      "Epoch 17/300\n",
      "234/235 [============================>.] - ETA: 0s - loss: 0.2113 - accuracy: 0.9134WARNING:tensorflow:Can save best model only with val_acc available, skipping.\n",
      "235/235 [==============================] - 20s 84ms/step - loss: 0.2112 - accuracy: 0.9134 - val_loss: 0.2216 - val_accuracy: 0.9095\n",
      "Epoch 18/300\n",
      "234/235 [============================>.] - ETA: 0s - loss: 0.2063 - accuracy: 0.9157WARNING:tensorflow:Can save best model only with val_acc available, skipping.\n",
      "235/235 [==============================] - 20s 85ms/step - loss: 0.2062 - accuracy: 0.9157 - val_loss: 0.2129 - val_accuracy: 0.9106\n",
      "Epoch 19/300\n",
      "234/235 [============================>.] - ETA: 0s - loss: 0.2016 - accuracy: 0.9180WARNING:tensorflow:Can save best model only with val_acc available, skipping.\n",
      "235/235 [==============================] - 20s 85ms/step - loss: 0.2015 - accuracy: 0.9180 - val_loss: 0.2088 - val_accuracy: 0.9136\n",
      "Epoch 20/300\n",
      "234/235 [============================>.] - ETA: 0s - loss: 0.1972 - accuracy: 0.9196WARNING:tensorflow:Can save best model only with val_acc available, skipping.\n",
      "235/235 [==============================] - 20s 85ms/step - loss: 0.1972 - accuracy: 0.9196 - val_loss: 0.2059 - val_accuracy: 0.9144\n",
      "Epoch 21/300\n",
      "234/235 [============================>.] - ETA: 0s - loss: 0.1931 - accuracy: 0.9215WARNING:tensorflow:Can save best model only with val_acc available, skipping.\n",
      "235/235 [==============================] - 20s 85ms/step - loss: 0.1932 - accuracy: 0.9215 - val_loss: 0.2030 - val_accuracy: 0.9159\n",
      "Epoch 22/300\n",
      "234/235 [============================>.] - ETA: 0s - loss: 0.1892 - accuracy: 0.9231WARNING:tensorflow:Can save best model only with val_acc available, skipping.\n",
      "235/235 [==============================] - 20s 85ms/step - loss: 0.1892 - accuracy: 0.9231 - val_loss: 0.2016 - val_accuracy: 0.9176\n",
      "Epoch 23/300\n",
      "234/235 [============================>.] - ETA: 0s - loss: 0.1855 - accuracy: 0.9248WARNING:tensorflow:Can save best model only with val_acc available, skipping.\n",
      "235/235 [==============================] - 20s 86ms/step - loss: 0.1856 - accuracy: 0.9248 - val_loss: 0.2000 - val_accuracy: 0.9164\n",
      "Epoch 24/300\n",
      "234/235 [============================>.] - ETA: 0s - loss: 0.1820 - accuracy: 0.9263WARNING:tensorflow:Can save best model only with val_acc available, skipping.\n",
      "235/235 [==============================] - 20s 84ms/step - loss: 0.1820 - accuracy: 0.9263 - val_loss: 0.1985 - val_accuracy: 0.9172\n",
      "Epoch 25/300\n",
      "234/235 [============================>.] - ETA: 0s - loss: 0.1785 - accuracy: 0.9283WARNING:tensorflow:Can save best model only with val_acc available, skipping.\n",
      "235/235 [==============================] - 20s 84ms/step - loss: 0.1786 - accuracy: 0.9283 - val_loss: 0.1953 - val_accuracy: 0.9194\n",
      "Epoch 26/300\n",
      "234/235 [============================>.] - ETA: 0s - loss: 0.1754 - accuracy: 0.9293WARNING:tensorflow:Can save best model only with val_acc available, skipping.\n",
      "235/235 [==============================] - 20s 84ms/step - loss: 0.1754 - accuracy: 0.9293 - val_loss: 0.1936 - val_accuracy: 0.9196\n",
      "Epoch 27/300\n",
      "234/235 [============================>.] - ETA: 0s - loss: 0.1721 - accuracy: 0.9307WARNING:tensorflow:Can save best model only with val_acc available, skipping.\n",
      "235/235 [==============================] - 20s 84ms/step - loss: 0.1723 - accuracy: 0.9307 - val_loss: 0.1921 - val_accuracy: 0.9203\n"
     ]
    },
    {
     "name": "stdout",
     "output_type": "stream",
     "text": [
      "Epoch 28/300\n",
      "234/235 [============================>.] - ETA: 0s - loss: 0.1692 - accuracy: 0.9321WARNING:tensorflow:Can save best model only with val_acc available, skipping.\n",
      "235/235 [==============================] - 20s 84ms/step - loss: 0.1692 - accuracy: 0.9322 - val_loss: 0.1910 - val_accuracy: 0.9208\n",
      "Epoch 29/300\n",
      "234/235 [============================>.] - ETA: 0s - loss: 0.1662 - accuracy: 0.9333WARNING:tensorflow:Can save best model only with val_acc available, skipping.\n",
      "235/235 [==============================] - 20s 84ms/step - loss: 0.1661 - accuracy: 0.9333 - val_loss: 0.1898 - val_accuracy: 0.9216\n",
      "Epoch 30/300\n",
      "234/235 [============================>.] - ETA: 0s - loss: 0.1633 - accuracy: 0.9352WARNING:tensorflow:Can save best model only with val_acc available, skipping.\n",
      "235/235 [==============================] - 20s 84ms/step - loss: 0.1633 - accuracy: 0.9353 - val_loss: 0.1917 - val_accuracy: 0.9202\n",
      "Epoch 31/300\n",
      "234/235 [============================>.] - ETA: 0s - loss: 0.1603 - accuracy: 0.9361WARNING:tensorflow:Can save best model only with val_acc available, skipping.\n",
      "235/235 [==============================] - 20s 84ms/step - loss: 0.1604 - accuracy: 0.9360 - val_loss: 0.1875 - val_accuracy: 0.9224\n",
      "Epoch 32/300\n",
      "234/235 [============================>.] - ETA: 0s - loss: 0.1575 - accuracy: 0.9377WARNING:tensorflow:Can save best model only with val_acc available, skipping.\n",
      "235/235 [==============================] - 20s 84ms/step - loss: 0.1576 - accuracy: 0.9376 - val_loss: 0.1872 - val_accuracy: 0.9219\n",
      "Epoch 33/300\n",
      "234/235 [============================>.] - ETA: 0s - loss: 0.1550 - accuracy: 0.9384WARNING:tensorflow:Can save best model only with val_acc available, skipping.\n",
      "235/235 [==============================] - 20s 84ms/step - loss: 0.1550 - accuracy: 0.9384 - val_loss: 0.1861 - val_accuracy: 0.9233\n",
      "Epoch 34/300\n",
      "234/235 [============================>.] - ETA: 0s - loss: 0.1521 - accuracy: 0.9399WARNING:tensorflow:Can save best model only with val_acc available, skipping.\n",
      "235/235 [==============================] - 20s 85ms/step - loss: 0.1521 - accuracy: 0.9398 - val_loss: 0.1894 - val_accuracy: 0.9234\n",
      "Epoch 35/300\n",
      "234/235 [============================>.] - ETA: 0s - loss: 0.1495 - accuracy: 0.9414WARNING:tensorflow:Can save best model only with val_acc available, skipping.\n",
      "235/235 [==============================] - 20s 85ms/step - loss: 0.1495 - accuracy: 0.9413 - val_loss: 0.1879 - val_accuracy: 0.9239\n",
      "Epoch 36/300\n",
      "234/235 [============================>.] - ETA: 0s - loss: 0.1466 - accuracy: 0.9430WARNING:tensorflow:Can save best model only with val_acc available, skipping.\n",
      "235/235 [==============================] - 20s 86ms/step - loss: 0.1466 - accuracy: 0.9430 - val_loss: 0.1883 - val_accuracy: 0.9239\n",
      "Epoch 37/300\n",
      "234/235 [============================>.] - ETA: 0s - loss: 0.1446 - accuracy: 0.9438WARNING:tensorflow:Can save best model only with val_acc available, skipping.\n",
      "235/235 [==============================] - 20s 86ms/step - loss: 0.1446 - accuracy: 0.9438 - val_loss: 0.1839 - val_accuracy: 0.9248\n",
      "Epoch 38/300\n",
      "234/235 [============================>.] - ETA: 0s - loss: 0.1418 - accuracy: 0.9449WARNING:tensorflow:Can save best model only with val_acc available, skipping.\n",
      "235/235 [==============================] - 20s 85ms/step - loss: 0.1418 - accuracy: 0.9449 - val_loss: 0.1909 - val_accuracy: 0.9229\n",
      "Epoch 39/300\n",
      "234/235 [============================>.] - ETA: 0s - loss: 0.1393 - accuracy: 0.9460WARNING:tensorflow:Can save best model only with val_acc available, skipping.\n",
      "235/235 [==============================] - 20s 85ms/step - loss: 0.1393 - accuracy: 0.9459 - val_loss: 0.1828 - val_accuracy: 0.9245\n",
      "Epoch 40/300\n",
      "234/235 [============================>.] - ETA: 0s - loss: 0.1371 - accuracy: 0.9472WARNING:tensorflow:Can save best model only with val_acc available, skipping.\n",
      "235/235 [==============================] - 20s 85ms/step - loss: 0.1372 - accuracy: 0.9472 - val_loss: 0.1873 - val_accuracy: 0.9217\n",
      "Epoch 41/300\n",
      "234/235 [============================>.] - ETA: 0s - loss: 0.1347 - accuracy: 0.9478WARNING:tensorflow:Can save best model only with val_acc available, skipping.\n",
      "235/235 [==============================] - 20s 85ms/step - loss: 0.1347 - accuracy: 0.9478 - val_loss: 0.1833 - val_accuracy: 0.9232\n",
      "Epoch 42/300\n",
      "234/235 [============================>.] - ETA: 0s - loss: 0.1321 - accuracy: 0.9492WARNING:tensorflow:Can save best model only with val_acc available, skipping.\n",
      "235/235 [==============================] - 20s 86ms/step - loss: 0.1320 - accuracy: 0.9493 - val_loss: 0.1867 - val_accuracy: 0.9251\n",
      "Epoch 43/300\n",
      "234/235 [============================>.] - ETA: 0s - loss: 0.1302 - accuracy: 0.9500WARNING:tensorflow:Can save best model only with val_acc available, skipping.\n",
      "235/235 [==============================] - 20s 86ms/step - loss: 0.1301 - accuracy: 0.9501 - val_loss: 0.1856 - val_accuracy: 0.9223\n",
      "Epoch 00043: early stopping\n"
     ]
    }
   ],
   "source": [
    "history_khaiii = model_khaiii.fit(partial_x_train_khaiii,\n",
    "                                  partial_y_train,\n",
    "                                  epochs=300,\n",
    "                                  callbacks=[es, mc],\n",
    "                                  batch_size=512,\n",
    "                                  validation_data=(x_val_khaiii, y_val))"
   ]
  },
  {
   "cell_type": "code",
   "execution_count": 51,
   "metadata": {},
   "outputs": [
    {
     "data": {
      "image/png": "[encoded data removed]",
      "text/plain": [
       "<Figure size 432x288 with 1 Axes>"
      ]
     },
     "metadata": {
      "needs_background": "light"
     },
     "output_type": "display_data"
    }
   ],
   "source": [
    "loss_khaiii= history_khaiii.history['loss']\n",
    "val_loss_khaiii=history_khaiii.history['val_loss']\n",
    "\n",
    "epochs = range(1, len(loss_khaiii) + 1)\n",
    "\n",
    "plt.plot(epochs, loss_khaiii, 'bo',label=\"Training loss_khaiii\" )\n",
    "plt.plot(epochs, val_loss_khaiii, 'b', label='Validation loss_khaiii')\n",
    "plt.title('khaiii Training and validation loss')\n",
    "plt.xlabel('Epochs')\n",
    "plt.ylabel('Loss')\n",
    "plt.legend()\n",
    "\n",
    "plt.show()"
   ]
  },
  {
   "cell_type": "code",
   "execution_count": 52,
   "metadata": {},
   "outputs": [
    {
     "data": {
      "image/png": "[encoded data removed]",
      "text/plain": [
       "<Figure size 432x288 with 1 Axes>"
      ]
     },
     "metadata": {
      "needs_background": "light"
     },
     "output_type": "display_data"
    }
   ],
   "source": [
    "plt.clf() #그래프 초기화 \n",
    "\n",
    "acc_khaiii = history_khaiii.history['accuracy']\n",
    "val_acc_khaiii = history_khaiii.history['val_accuracy']\n",
    "\n",
    "plt.plot(epochs, acc_khaiii, 'bo', label='Training acc_khaiii')\n",
    "plt.plot(epochs, val_acc_khaiii, 'b', label='Validation acc_khaiii')\n",
    "\n",
    "plt.title('khaiii Training and Validation Accuracy')\n",
    "plt.xlabel('Epochs')\n",
    "plt.ylabel('Accuracy')\n",
    "\n",
    "plt.legend()\n",
    "\n",
    "plt.show()"
   ]
  },
  {
   "cell_type": "code",
   "execution_count": 53,
   "metadata": {},
   "outputs": [],
   "source": [
    "model_khaiii.save('model_khaiii.h5')"
   ]
  },
  {
   "cell_type": "code",
   "execution_count": 54,
   "metadata": {},
   "outputs": [],
   "source": [
    "pred_khaiii_RNN=model_khaiii.predict(xTest_khaiii)"
   ]
  },
  {
   "cell_type": "code",
   "execution_count": 56,
   "metadata": {},
   "outputs": [],
   "source": [
    "# xTest_khaiii=test_khaiii_ohe.values"
   ]
  },
  {
   "cell_type": "code",
   "execution_count": 57,
   "metadata": {},
   "outputs": [],
   "source": [
    "pred_khaiii_RNN_list=[]\n",
    "for i in range(len(pred_khaiii_RNN)):\n",
    "    pred_khaiii_RNN_list.append(pred_khaiii_RNN[i].argmax())"
   ]
  },
  {
   "cell_type": "code",
   "execution_count": 58,
   "metadata": {},
   "outputs": [
    {
     "data": {
      "text/plain": [
       "0.9264970515766452"
      ]
     },
     "execution_count": 58,
     "metadata": {},
     "output_type": "execute_result"
    }
   ],
   "source": [
    "test['pred_khaiii_RNN']=pred_khaiii_RNN_list\n",
    "(test['label']==test['pred_khaiii_RNN']).sum()/test.shape[0]"
   ]
  },
  {
   "cell_type": "code",
   "execution_count": 59,
   "metadata": {},
   "outputs": [
    {
     "name": "stdout",
     "output_type": "stream",
     "text": [
      "[[17327  1432]\n",
      " [ 1223 16139]]\n",
      "              precision    recall  f1-score   support\n",
      "\n",
      "           0       0.93      0.92      0.93     18759\n",
      "           1       0.92      0.93      0.92     17362\n",
      "\n",
      "    accuracy                           0.93     36121\n",
      "   macro avg       0.93      0.93      0.93     36121\n",
      "weighted avg       0.93      0.93      0.93     36121\n",
      "\n"
     ]
    }
   ],
   "source": [
    "print(confusion_matrix(pred_khaiii_RNN_list, yTest))\n",
    "print(classification_report(pred_khaiii_RNN_list, yTest))"
   ]
  },
  {
   "cell_type": "markdown",
   "metadata": {},
   "source": [
    "# train_mecab_dtm, test_mecab_dtm"
   ]
  },
  {
   "cell_type": "code",
   "execution_count": 6,
   "metadata": {},
   "outputs": [],
   "source": [
    "# train_mecab_dtm=pd.read_csv('train_mecab_dtm.csv')\n",
    "# train_mecab_ohe=train_mecab_dtm.isnull()\n",
    "# test_mecab_dtm=pd.read_csv('test_mecab_dtm.csv')\n",
    "# test_mecab_ohe=test_mecab_dtm.isnull()"
   ]
  },
  {
   "cell_type": "code",
   "execution_count": 7,
   "metadata": {},
   "outputs": [],
   "source": [
    "with open(\"data/train_mecab_dtm_array.pkl\",\"rb\") as fr:\n",
    "    train_mecab_dtm_array=pickle.load(fr)\n",
    "with open(\"data/test_mecab_dtm_array.pkl\",\"rb\") as fr:\n",
    "    test_mecab_dtm_array=pickle.load(fr)"
   ]
  },
  {
   "cell_type": "code",
   "execution_count": 8,
   "metadata": {},
   "outputs": [],
   "source": [
    "train_mecab_dtm=np.array(train_mecab_dtm_array)\n",
    "train_mecab_ohe=np.where(train_mecab_dtm==0,0,1)\n",
    "test_mecab_dtm=np.array(test_mecab_dtm_array)\n",
    "test_mecab_ohe=np.where(test_mecab_dtm==0,0,1)"
   ]
  },
  {
   "cell_type": "code",
   "execution_count": 9,
   "metadata": {},
   "outputs": [],
   "source": [
    "xTrain_mecab=train_mecab_ohe\n",
    "xTest_mecab=test_mecab_ohe"
   ]
  },
  {
   "cell_type": "code",
   "execution_count": null,
   "metadata": {},
   "outputs": [],
   "source": [
    "# xTrain_mecab=train_mecab_ohe.values\n",
    "# xTest_mecab=test_mecab_ohe.values"
   ]
  },
  {
   "cell_type": "markdown",
   "metadata": {},
   "source": [
    "# IF-IDF mecab"
   ]
  },
  {
   "cell_type": "code",
   "execution_count": 8,
   "metadata": {},
   "outputs": [],
   "source": [
    "train_mecab_ifidf=tfidf(train_mecab_dtm)\n",
    "test_mecab_ifidf=tfidf(test_mecab_dtm)"
   ]
  },
  {
   "cell_type": "markdown",
   "metadata": {},
   "source": [
    "# naive_bayes_mecab"
   ]
  },
  {
   "cell_type": "code",
   "execution_count": null,
   "metadata": {},
   "outputs": [],
   "source": [
    "model_mecab=CategoricalNB()\n",
    "model_mecab.fit(xTrain_mecab, yTrain)"
   ]
  },
  {
   "cell_type": "code",
   "execution_count": null,
   "metadata": {},
   "outputs": [],
   "source": [
    "pred_mecab_NB=model_mecab.predict(xTest_mecab)"
   ]
  },
  {
   "cell_type": "code",
   "execution_count": null,
   "metadata": {},
   "outputs": [],
   "source": [
    "test['pred_mecab_NB']=pred_mecab_NB\n",
    "print((test['label']==test['pred_mecab_NB']).sum()/test.shape[0])"
   ]
  },
  {
   "cell_type": "code",
   "execution_count": null,
   "metadata": {},
   "outputs": [],
   "source": [
    "print(confusion_matrix(pred_mecab_NB, yTest))\n",
    "print(classification_report(pred_mecab_NB, yTest))"
   ]
  },
  {
   "cell_type": "markdown",
   "metadata": {},
   "source": [
    "# NB-SVM_mecab"
   ]
  },
  {
   "cell_type": "code",
   "execution_count": 9,
   "metadata": {},
   "outputs": [],
   "source": [
    "def pr_mecab(y_i, y):\n",
    "    p = train_mecab_dtm[y==y_i].sum(0)\n",
    "    return (p+1) / ((y==y_i).sum()+1)"
   ]
  },
  {
   "cell_type": "code",
   "execution_count": 11,
   "metadata": {},
   "outputs": [],
   "source": [
    "def get_mdl_mecab(y):\n",
    "    r = np.log(pr_mecab(1,y) / pr_mecab(0,y))\n",
    "    m = LogisticRegression(C=0.1)\n",
    "    x_nb = train_mecab_dtm*(r)\n",
    "    return m.fit(x_nb, y), r"
   ]
  },
  {
   "cell_type": "code",
   "execution_count": 12,
   "metadata": {},
   "outputs": [],
   "source": [
    "m,r = get_mdl_mecab(yTrain)\n",
    "preds_mecab=m.predict_proba(test_mecab_dtm*(r))"
   ]
  },
  {
   "cell_type": "code",
   "execution_count": 13,
   "metadata": {},
   "outputs": [
    {
     "name": "stdout",
     "output_type": "stream",
     "text": [
      "0.9388998089753883\n"
     ]
    }
   ],
   "source": [
    "pred_mecab_NB_SVM=[]\n",
    "for i in preds_mecab:\n",
    "    pred_mecab_NB_SVM.append(i.argmax())\n",
    "\n",
    "test['pred_mecab_NB_SVM']=pred_mecab_NB_SVM\n",
    "print((test['label']==test['pred_mecab_NB_SVM']).sum()/test.shape[0])"
   ]
  },
  {
   "cell_type": "code",
   "execution_count": 14,
   "metadata": {
    "scrolled": true
   },
   "outputs": [
    {
     "name": "stdout",
     "output_type": "stream",
     "text": [
      "[[17141   798]\n",
      " [ 1409 16773]]\n",
      "              precision    recall  f1-score   support\n",
      "\n",
      "           0       0.92      0.96      0.94     17939\n",
      "           1       0.95      0.92      0.94     18182\n",
      "\n",
      "    accuracy                           0.94     36121\n",
      "   macro avg       0.94      0.94      0.94     36121\n",
      "weighted avg       0.94      0.94      0.94     36121\n",
      "\n"
     ]
    }
   ],
   "source": [
    "print(confusion_matrix(pred_mecab_NB_SVM, yTest))\n",
    "print(classification_report(pred_mecab_NB_SVM, yTest))"
   ]
  },
  {
   "cell_type": "markdown",
   "metadata": {},
   "source": [
    "# RNN_mecab"
   ]
  },
  {
   "cell_type": "code",
   "execution_count": 18,
   "metadata": {},
   "outputs": [],
   "source": [
    "train['none']=train['label']==0\n",
    "train['hate']=train['label']==1\n",
    "yTrain=train[['none','hate']].values"
   ]
  },
  {
   "cell_type": "code",
   "execution_count": 19,
   "metadata": {},
   "outputs": [],
   "source": [
    "es = EarlyStopping(monitor='val_loss', mode='min', verbose=1, patience=4)\n",
    "mc = ModelCheckpoint('model_mecab.h5', monitor='val_acc', mode='max', verbose=1, save_best_only=True)"
   ]
  },
  {
   "cell_type": "code",
   "execution_count": 20,
   "metadata": {},
   "outputs": [],
   "source": [
    "model_mecab=Sequential()\n",
    "model_mecab.add(Dense(2048,input_shape=(xTrain_mecab.shape[1],) ,activation='relu'))\n",
    "model_mecab.add(Dense(512,activation='relu'))\n",
    "model_mecab.add(Dense(64,activation='relu'))\n",
    "model_mecab.add(Dense(8,activation='relu'))\n",
    "model_mecab.add(Dense(2,activation='sigmoid'))"
   ]
  },
  {
   "cell_type": "code",
   "execution_count": 21,
   "metadata": {},
   "outputs": [],
   "source": [
    "model_mecab.compile(optimizer='sgd',\n",
    "             loss='binary_crossentropy',\n",
    "             metrics=['accuracy'])"
   ]
  },
  {
   "cell_type": "code",
   "execution_count": 22,
   "metadata": {},
   "outputs": [],
   "source": [
    "x_val_mecab = xTrain_mecab[:30000]\n",
    "partial_x_train_mecab = xTrain_mecab[30000:]\n",
    "y_val = yTrain[:30000]\n",
    "partial_y_train = yTrain[30000:]"
   ]
  },
  {
   "cell_type": "code",
   "execution_count": 23,
   "metadata": {},
   "outputs": [
    {
     "name": "stdout",
     "output_type": "stream",
     "text": [
      "Epoch 1/300\n",
      "234/235 [============================>.] - ETA: 0s - loss: 0.6913 - accuracy: 0.6063WARNING:tensorflow:Can save best model only with val_acc available, skipping.\n",
      "235/235 [==============================] - 21s 90ms/step - loss: 0.6913 - accuracy: 0.6064 - val_loss: 0.6891 - val_accuracy: 0.6972\n",
      "Epoch 2/300\n",
      "234/235 [============================>.] - ETA: 0s - loss: 0.6858 - accuracy: 0.7398WARNING:tensorflow:Can save best model only with val_acc available, skipping.\n",
      "235/235 [==============================] - 21s 91ms/step - loss: 0.6858 - accuracy: 0.7399 - val_loss: 0.6817 - val_accuracy: 0.7677\n",
      "Epoch 3/300\n",
      "234/235 [============================>.] - ETA: 0s - loss: 0.6756 - accuracy: 0.7785WARNING:tensorflow:Can save best model only with val_acc available, skipping.\n",
      "235/235 [==============================] - 21s 90ms/step - loss: 0.6756 - accuracy: 0.7784 - val_loss: 0.6685 - val_accuracy: 0.7773\n",
      "Epoch 4/300\n",
      "235/235 [==============================] - ETA: 0s - loss: 0.6577 - accuracy: 0.7742WARNING:tensorflow:Can save best model only with val_acc available, skipping.\n",
      "235/235 [==============================] - 22s 92ms/step - loss: 0.6577 - accuracy: 0.7742 - val_loss: 0.6448 - val_accuracy: 0.7772\n",
      "Epoch 5/300\n",
      "235/235 [==============================] - ETA: 0s - loss: 0.6251 - accuracy: 0.7840WARNING:tensorflow:Can save best model only with val_acc available, skipping.\n",
      "235/235 [==============================] - 22s 92ms/step - loss: 0.6251 - accuracy: 0.7840 - val_loss: 0.6019 - val_accuracy: 0.7907\n",
      "Epoch 6/300\n",
      "235/235 [==============================] - ETA: 0s - loss: 0.5675 - accuracy: 0.8102WARNING:tensorflow:Can save best model only with val_acc available, skipping.\n",
      "235/235 [==============================] - 22s 92ms/step - loss: 0.5675 - accuracy: 0.8102 - val_loss: 0.5275 - val_accuracy: 0.8308\n",
      "Epoch 7/300\n",
      "235/235 [==============================] - ETA: 0s - loss: 0.4762 - accuracy: 0.8476WARNING:tensorflow:Can save best model only with val_acc available, skipping.\n",
      "235/235 [==============================] - 22s 95ms/step - loss: 0.4762 - accuracy: 0.8476 - val_loss: 0.4205 - val_accuracy: 0.8678\n",
      "Epoch 8/300\n",
      "235/235 [==============================] - ETA: 0s - loss: 0.3706 - accuracy: 0.8759WARNING:tensorflow:Can save best model only with val_acc available, skipping.\n",
      "235/235 [==============================] - 22s 96ms/step - loss: 0.3706 - accuracy: 0.8759 - val_loss: 0.3242 - val_accuracy: 0.8852\n",
      "Epoch 9/300\n",
      "235/235 [==============================] - ETA: 0s - loss: 0.2961 - accuracy: 0.8912WARNING:tensorflow:Can save best model only with val_acc available, skipping.\n",
      "235/235 [==============================] - 23s 96ms/step - loss: 0.2961 - accuracy: 0.8912 - val_loss: 0.2699 - val_accuracy: 0.8968\n",
      "Epoch 10/300\n",
      "235/235 [==============================] - ETA: 0s - loss: 0.2560 - accuracy: 0.9003WARNING:tensorflow:Can save best model only with val_acc available, skipping.\n",
      "235/235 [==============================] - 22s 96ms/step - loss: 0.2560 - accuracy: 0.9003 - val_loss: 0.2407 - val_accuracy: 0.9053\n",
      "Epoch 11/300\n",
      "235/235 [==============================] - ETA: 0s - loss: 0.2328 - accuracy: 0.9079WARNING:tensorflow:Can save best model only with val_acc available, skipping.\n",
      "235/235 [==============================] - 23s 96ms/step - loss: 0.2328 - accuracy: 0.9079 - val_loss: 0.2232 - val_accuracy: 0.9112\n",
      "Epoch 12/300\n",
      "234/235 [============================>.] - ETA: 0s - loss: 0.2177 - accuracy: 0.9129WARNING:tensorflow:Can save best model only with val_acc available, skipping.\n",
      "235/235 [==============================] - 23s 97ms/step - loss: 0.2177 - accuracy: 0.9129 - val_loss: 0.2117 - val_accuracy: 0.9142\n",
      "Epoch 13/300\n",
      "235/235 [==============================] - ETA: 0s - loss: 0.2067 - accuracy: 0.9172WARNING:tensorflow:Can save best model only with val_acc available, skipping.\n",
      "235/235 [==============================] - 23s 97ms/step - loss: 0.2067 - accuracy: 0.9172 - val_loss: 0.2030 - val_accuracy: 0.9183\n",
      "Epoch 14/300\n",
      "235/235 [==============================] - ETA: 0s - loss: 0.1981 - accuracy: 0.9204WARNING:tensorflow:Can save best model only with val_acc available, skipping.\n",
      "235/235 [==============================] - 23s 97ms/step - loss: 0.1981 - accuracy: 0.9204 - val_loss: 0.1964 - val_accuracy: 0.9203\n",
      "Epoch 15/300\n",
      "235/235 [==============================] - ETA: 0s - loss: 0.1908 - accuracy: 0.9237WARNING:tensorflow:Can save best model only with val_acc available, skipping.\n",
      "235/235 [==============================] - 23s 96ms/step - loss: 0.1908 - accuracy: 0.9237 - val_loss: 0.1913 - val_accuracy: 0.9224\n",
      "Epoch 16/300\n",
      "235/235 [==============================] - ETA: 0s - loss: 0.1845 - accuracy: 0.9266WARNING:tensorflow:Can save best model only with val_acc available, skipping.\n",
      "235/235 [==============================] - 23s 96ms/step - loss: 0.1845 - accuracy: 0.9266 - val_loss: 0.1874 - val_accuracy: 0.9246\n",
      "Epoch 17/300\n",
      "235/235 [==============================] - ETA: 0s - loss: 0.1789 - accuracy: 0.9287WARNING:tensorflow:Can save best model only with val_acc available, skipping.\n",
      "235/235 [==============================] - 23s 96ms/step - loss: 0.1789 - accuracy: 0.9287 - val_loss: 0.1837 - val_accuracy: 0.9260\n",
      "Epoch 18/300\n",
      "234/235 [============================>.] - ETA: 0s - loss: 0.1739 - accuracy: 0.9310WARNING:tensorflow:Can save best model only with val_acc available, skipping.\n",
      "235/235 [==============================] - 23s 97ms/step - loss: 0.1738 - accuracy: 0.9310 - val_loss: 0.1834 - val_accuracy: 0.9244\n",
      "Epoch 19/300\n",
      "235/235 [==============================] - ETA: 0s - loss: 0.1694 - accuracy: 0.9330WARNING:tensorflow:Can save best model only with val_acc available, skipping.\n",
      "235/235 [==============================] - 23s 96ms/step - loss: 0.1694 - accuracy: 0.9330 - val_loss: 0.1770 - val_accuracy: 0.9285\n",
      "Epoch 20/300\n",
      "235/235 [==============================] - ETA: 0s - loss: 0.1649 - accuracy: 0.9350WARNING:tensorflow:Can save best model only with val_acc available, skipping.\n",
      "235/235 [==============================] - 23s 96ms/step - loss: 0.1649 - accuracy: 0.9350 - val_loss: 0.1741 - val_accuracy: 0.9300\n",
      "Epoch 21/300\n",
      "235/235 [==============================] - ETA: 0s - loss: 0.1610 - accuracy: 0.9366WARNING:tensorflow:Can save best model only with val_acc available, skipping.\n",
      "235/235 [==============================] - 23s 97ms/step - loss: 0.1610 - accuracy: 0.9366 - val_loss: 0.1731 - val_accuracy: 0.9298\n",
      "Epoch 22/300\n",
      "235/235 [==============================] - ETA: 0s - loss: 0.1571 - accuracy: 0.9382WARNING:tensorflow:Can save best model only with val_acc available, skipping.\n",
      "235/235 [==============================] - 23s 97ms/step - loss: 0.1571 - accuracy: 0.9382 - val_loss: 0.1702 - val_accuracy: 0.9318\n",
      "Epoch 23/300\n",
      "235/235 [==============================] - ETA: 0s - loss: 0.1536 - accuracy: 0.9399 ETA: 0s - loss: 0.1536 - accuracy: 0.93WARNING:tensorflow:Can save best model only with val_acc available, skipping.\n",
      "235/235 [==============================] - 23s 96ms/step - loss: 0.1536 - accuracy: 0.9399 - val_loss: 0.1686 - val_accuracy: 0.9324\n",
      "Epoch 24/300\n",
      "235/235 [==============================] - ETA: 0s - loss: 0.1502 - accuracy: 0.9412WARNING:tensorflow:Can save best model only with val_acc available, skipping.\n",
      "235/235 [==============================] - 23s 96ms/step - loss: 0.1502 - accuracy: 0.9412 - val_loss: 0.1664 - val_accuracy: 0.9337\n",
      "Epoch 25/300\n",
      "235/235 [==============================] - ETA: 0s - loss: 0.1471 - accuracy: 0.9426WARNING:tensorflow:Can save best model only with val_acc available, skipping.\n",
      "235/235 [==============================] - 23s 97ms/step - loss: 0.1471 - accuracy: 0.9426 - val_loss: 0.1650 - val_accuracy: 0.9344\n",
      "Epoch 26/300\n",
      "235/235 [==============================] - ETA: 0s - loss: 0.1440 - accuracy: 0.9441WARNING:tensorflow:Can save best model only with val_acc available, skipping.\n",
      "235/235 [==============================] - 23s 97ms/step - loss: 0.1440 - accuracy: 0.9441 - val_loss: 0.1636 - val_accuracy: 0.9349\n",
      "Epoch 27/300\n",
      "235/235 [==============================] - ETA: 0s - loss: 0.1410 - accuracy: 0.9450WARNING:tensorflow:Can save best model only with val_acc available, skipping.\n"
     ]
    },
    {
     "name": "stdout",
     "output_type": "stream",
     "text": [
      "235/235 [==============================] - 23s 97ms/step - loss: 0.1410 - accuracy: 0.9450 - val_loss: 0.1623 - val_accuracy: 0.9353\n",
      "Epoch 28/300\n",
      "235/235 [==============================] - ETA: 0s - loss: 0.1380 - accuracy: 0.9470WARNING:tensorflow:Can save best model only with val_acc available, skipping.\n",
      "235/235 [==============================] - 23s 97ms/step - loss: 0.1380 - accuracy: 0.9470 - val_loss: 0.1629 - val_accuracy: 0.9356\n",
      "Epoch 29/300\n",
      "235/235 [==============================] - ETA: 0s - loss: 0.1354 - accuracy: 0.9476WARNING:tensorflow:Can save best model only with val_acc available, skipping.\n",
      "235/235 [==============================] - 23s 97ms/step - loss: 0.1354 - accuracy: 0.9476 - val_loss: 0.1603 - val_accuracy: 0.9363\n",
      "Epoch 30/300\n",
      "235/235 [==============================] - ETA: 0s - loss: 0.1327 - accuracy: 0.9491WARNING:tensorflow:Can save best model only with val_acc available, skipping.\n",
      "235/235 [==============================] - 23s 97ms/step - loss: 0.1327 - accuracy: 0.9491 - val_loss: 0.1597 - val_accuracy: 0.9362\n",
      "Epoch 31/300\n",
      "235/235 [==============================] - ETA: 0s - loss: 0.1300 - accuracy: 0.9505WARNING:tensorflow:Can save best model only with val_acc available, skipping.\n",
      "235/235 [==============================] - 23s 97ms/step - loss: 0.1300 - accuracy: 0.9505 - val_loss: 0.1587 - val_accuracy: 0.9367\n",
      "Epoch 32/300\n",
      "235/235 [==============================] - ETA: 0s - loss: 0.1274 - accuracy: 0.9515WARNING:tensorflow:Can save best model only with val_acc available, skipping.\n",
      "235/235 [==============================] - 23s 97ms/step - loss: 0.1274 - accuracy: 0.9515 - val_loss: 0.1587 - val_accuracy: 0.9360\n",
      "Epoch 33/300\n",
      "235/235 [==============================] - ETA: 0s - loss: 0.1251 - accuracy: 0.9528WARNING:tensorflow:Can save best model only with val_acc available, skipping.\n",
      "235/235 [==============================] - 23s 97ms/step - loss: 0.1251 - accuracy: 0.9528 - val_loss: 0.1589 - val_accuracy: 0.9369\n",
      "Epoch 34/300\n",
      "235/235 [==============================] - ETA: 0s - loss: 0.1227 - accuracy: 0.9539 ETA: 0s - loss: 0.1228 - accuracy: 0.WARNING:tensorflow:Can save best model only with val_acc available, skipping.\n",
      "235/235 [==============================] - 23s 97ms/step - loss: 0.1227 - accuracy: 0.9539 - val_loss: 0.1569 - val_accuracy: 0.9372\n",
      "Epoch 35/300\n",
      "235/235 [==============================] - ETA: 0s - loss: 0.1203 - accuracy: 0.9550WARNING:tensorflow:Can save best model only with val_acc available, skipping.\n",
      "235/235 [==============================] - 23s 97ms/step - loss: 0.1203 - accuracy: 0.9550 - val_loss: 0.1564 - val_accuracy: 0.9381\n",
      "Epoch 36/300\n",
      "235/235 [==============================] - ETA: 0s - loss: 0.1179 - accuracy: 0.9562WARNING:tensorflow:Can save best model only with val_acc available, skipping.\n",
      "235/235 [==============================] - 23s 97ms/step - loss: 0.1179 - accuracy: 0.9562 - val_loss: 0.1590 - val_accuracy: 0.9372\n",
      "Epoch 37/300\n",
      "235/235 [==============================] - ETA: 0s - loss: 0.1156 - accuracy: 0.9572WARNING:tensorflow:Can save best model only with val_acc available, skipping.\n",
      "235/235 [==============================] - 23s 97ms/step - loss: 0.1156 - accuracy: 0.9572 - val_loss: 0.1559 - val_accuracy: 0.9380\n",
      "Epoch 38/300\n",
      "235/235 [==============================] - ETA: 0s - loss: 0.1135 - accuracy: 0.9578WARNING:tensorflow:Can save best model only with val_acc available, skipping.\n",
      "235/235 [==============================] - 23s 97ms/step - loss: 0.1135 - accuracy: 0.9578 - val_loss: 0.1551 - val_accuracy: 0.9386\n",
      "Epoch 39/300\n",
      "235/235 [==============================] - ETA: 0s - loss: 0.1115 - accuracy: 0.9585WARNING:tensorflow:Can save best model only with val_acc available, skipping.\n",
      "235/235 [==============================] - 23s 97ms/step - loss: 0.1115 - accuracy: 0.9585 - val_loss: 0.1558 - val_accuracy: 0.9390\n",
      "Epoch 40/300\n",
      "235/235 [==============================] - ETA: 0s - loss: 0.1092 - accuracy: 0.9597WARNING:tensorflow:Can save best model only with val_acc available, skipping.\n",
      "235/235 [==============================] - 23s 97ms/step - loss: 0.1092 - accuracy: 0.9597 - val_loss: 0.1577 - val_accuracy: 0.9379\n",
      "Epoch 41/300\n",
      "235/235 [==============================] - ETA: 0s - loss: 0.1071 - accuracy: 0.9607WARNING:tensorflow:Can save best model only with val_acc available, skipping.\n",
      "235/235 [==============================] - 23s 97ms/step - loss: 0.1071 - accuracy: 0.9607 - val_loss: 0.1549 - val_accuracy: 0.9385\n",
      "Epoch 42/300\n",
      "235/235 [==============================] - ETA: 0s - loss: 0.1052 - accuracy: 0.9612WARNING:tensorflow:Can save best model only with val_acc available, skipping.\n",
      "235/235 [==============================] - 23s 97ms/step - loss: 0.1052 - accuracy: 0.9612 - val_loss: 0.1553 - val_accuracy: 0.9388\n",
      "Epoch 43/300\n",
      "235/235 [==============================] - ETA: 0s - loss: 0.1029 - accuracy: 0.9625 ETA: 0s - loss: 0.1029 - accuracy: 0.WARNING:tensorflow:Can save best model only with val_acc available, skipping.\n",
      "235/235 [==============================] - 23s 97ms/step - loss: 0.1029 - accuracy: 0.9625 - val_loss: 0.1574 - val_accuracy: 0.9384\n",
      "Epoch 44/300\n",
      "235/235 [==============================] - ETA: 0s - loss: 0.1010 - accuracy: 0.9632WARNING:tensorflow:Can save best model only with val_acc available, skipping.\n",
      "235/235 [==============================] - 23s 97ms/step - loss: 0.1010 - accuracy: 0.9632 - val_loss: 0.1550 - val_accuracy: 0.9388\n",
      "Epoch 45/300\n",
      "235/235 [==============================] - ETA: 0s - loss: 0.0991 - accuracy: 0.9641WARNING:tensorflow:Can save best model only with val_acc available, skipping.\n",
      "235/235 [==============================] - 23s 97ms/step - loss: 0.0991 - accuracy: 0.9641 - val_loss: 0.1551 - val_accuracy: 0.9397\n",
      "Epoch 00045: early stopping\n"
     ]
    }
   ],
   "source": [
    "history_mecab = model_mecab.fit(partial_x_train_mecab,\n",
    "                                partial_y_train,\n",
    "                                epochs=300,\n",
    "                                batch_size=512,\n",
    "                                callbacks=[es, mc],\n",
    "                                validation_data=(x_val_mecab, y_val))"
   ]
  },
  {
   "cell_type": "code",
   "execution_count": 24,
   "metadata": {},
   "outputs": [
    {
     "data": {
      "image/png": "[encoded data removed]",
      "text/plain": [
       "<Figure size 432x288 with 1 Axes>"
      ]
     },
     "metadata": {
      "needs_background": "light"
     },
     "output_type": "display_data"
    }
   ],
   "source": [
    "loss_mecab= history_mecab.history['loss']\n",
    "val_loss_mecab=history_mecab.history['val_loss']\n",
    "\n",
    "epochs = range(1, len(loss_mecab) + 1)\n",
    "\n",
    "plt.plot(epochs, loss_mecab, 'bo',label=\"Training loss_mecab\" )\n",
    "plt.plot(epochs, val_loss_mecab, 'b', label='Validation loss_mecab')\n",
    "plt.title('mecab Training and validation loss')\n",
    "plt.xlabel('Epochs')\n",
    "plt.ylabel('Loss')\n",
    "plt.legend()\n",
    "\n",
    "plt.show()"
   ]
  },
  {
   "cell_type": "code",
   "execution_count": 25,
   "metadata": {},
   "outputs": [
    {
     "data": {
      "image/png": "[encoded data removed]",
      "text/plain": [
       "<Figure size 432x288 with 1 Axes>"
      ]
     },
     "metadata": {
      "needs_background": "light"
     },
     "output_type": "display_data"
    }
   ],
   "source": [
    "acc_mecab = history_mecab.history['accuracy']\n",
    "val_acc_mecab = history_mecab.history['val_accuracy']\n",
    "\n",
    "plt.plot(epochs, acc_mecab, 'bo', label='Training acc_mecab')\n",
    "plt.plot(epochs, val_acc_mecab, 'b', label='Validation acc_mecab')\n",
    "\n",
    "plt.title('mecab Training and Validation Accuracy')\n",
    "plt.xlabel('Epochs')\n",
    "plt.ylabel('Accuracy')\n",
    "\n",
    "plt.legend()\n",
    "\n",
    "plt.show()"
   ]
  },
  {
   "cell_type": "code",
   "execution_count": 26,
   "metadata": {},
   "outputs": [],
   "source": [
    "model_mecab.save('model_mecab.h5')"
   ]
  },
  {
   "cell_type": "code",
   "execution_count": 27,
   "metadata": {},
   "outputs": [],
   "source": [
    "pred_mecab_RNN=model_mecab.predict(xTest_mecab)"
   ]
  },
  {
   "cell_type": "code",
   "execution_count": 29,
   "metadata": {},
   "outputs": [],
   "source": [
    "# xTest_mecab=test_mecab_ohe.values"
   ]
  },
  {
   "cell_type": "code",
   "execution_count": 30,
   "metadata": {},
   "outputs": [],
   "source": [
    "pred_mecab_RNN_list=[]\n",
    "for i in range(len(pred_mecab_RNN)):\n",
    "    pred_mecab_RNN_list.append(pred_mecab_RNN[i].argmax())"
   ]
  },
  {
   "cell_type": "code",
   "execution_count": 31,
   "metadata": {},
   "outputs": [
    {
     "data": {
      "text/plain": [
       "0.9395919271338002"
      ]
     },
     "execution_count": 31,
     "metadata": {},
     "output_type": "execute_result"
    }
   ],
   "source": [
    "test['pred_mecab_RNN']=pred_mecab_RNN_list\n",
    "(test['label']==test['pred_mecab_RNN']).sum()/test.shape[0]"
   ]
  },
  {
   "cell_type": "code",
   "execution_count": 34,
   "metadata": {},
   "outputs": [
    {
     "name": "stdout",
     "output_type": "stream",
     "text": [
      "[[17311   943]\n",
      " [ 1239 16628]]\n",
      "              precision    recall  f1-score   support\n",
      "\n",
      "           0       0.93      0.95      0.94     18254\n",
      "           1       0.95      0.93      0.94     17867\n",
      "\n",
      "    accuracy                           0.94     36121\n",
      "   macro avg       0.94      0.94      0.94     36121\n",
      "weighted avg       0.94      0.94      0.94     36121\n",
      "\n"
     ]
    }
   ],
   "source": [
    "print(confusion_matrix(pred_mecab_RNN_list, yTest))\n",
    "print(classification_report(pred_mecab_RNN_list, yTest))"
   ]
  },
  {
   "cell_type": "markdown",
   "metadata": {},
   "source": [
    "# train_okt_dtm, test_okt_dtm"
   ]
  },
  {
   "cell_type": "code",
   "execution_count": 10,
   "metadata": {},
   "outputs": [],
   "source": [
    "# train_okt_dtm=pd.read_csv('train_okt_dtm.csv')\n",
    "# train_okt_ohe=train_okt_dtm.isnull()\n",
    "# test_okt_dtm=pd.read_csv('test_okt_dtm.csv')\n",
    "# test_okt_ohe=test_okt_dtm.isnull()"
   ]
  },
  {
   "cell_type": "code",
   "execution_count": 35,
   "metadata": {},
   "outputs": [],
   "source": [
    "with open(\"data/train_okt_dtm_array.pkl\",\"rb\") as fr:\n",
    "    train_okt_dtm_array=pickle.load(fr)\n",
    "with open(\"data/test_okt_dtm_array.pkl\",\"rb\") as fr:\n",
    "    test_okt_dtm_array=pickle.load(fr)"
   ]
  },
  {
   "cell_type": "code",
   "execution_count": 36,
   "metadata": {},
   "outputs": [],
   "source": [
    "train_okt_dtm=np.array(train_okt_dtm_array)\n",
    "train_okt_ohe=np.where(train_okt_dtm==0,0,1)\n",
    "test_okt_dtm=np.array(test_okt_dtm_array)\n",
    "test_okt_ohe=np.where(test_okt_dtm==0,0,1)"
   ]
  },
  {
   "cell_type": "code",
   "execution_count": 37,
   "metadata": {},
   "outputs": [],
   "source": [
    "xTrain_okt=train_okt_ohe\n",
    "xTest_okt=test_okt_ohe"
   ]
  },
  {
   "cell_type": "code",
   "execution_count": null,
   "metadata": {},
   "outputs": [],
   "source": [
    "# xTrain_okt=train_okt_ohe.values\n",
    "# xTest_okt=test_okt_ohe.values"
   ]
  },
  {
   "cell_type": "markdown",
   "metadata": {},
   "source": [
    "# IF-IDF okt"
   ]
  },
  {
   "cell_type": "code",
   "execution_count": 8,
   "metadata": {},
   "outputs": [],
   "source": [
    "train_okt_ifidf=tfidf(train_okt_dtm)\n",
    "test_okt_ifidf=tfidf(test_okt_dtm)"
   ]
  },
  {
   "cell_type": "markdown",
   "metadata": {},
   "source": [
    "# naive_bayes_okt"
   ]
  },
  {
   "cell_type": "code",
   "execution_count": null,
   "metadata": {},
   "outputs": [],
   "source": [
    "model_okt=CategoricalNB()\n",
    "model_okt.fit(xTrain_okt, yTrain)"
   ]
  },
  {
   "cell_type": "code",
   "execution_count": null,
   "metadata": {},
   "outputs": [],
   "source": [
    "pred_okt_NB=model_okt.predict(xTest_okt)"
   ]
  },
  {
   "cell_type": "code",
   "execution_count": null,
   "metadata": {},
   "outputs": [],
   "source": [
    "test['pred_okt_NB']=pred_okt_NB\n",
    "print((test['label']==test['pred_okt_NB']).sum()/test.shape[0])"
   ]
  },
  {
   "cell_type": "code",
   "execution_count": null,
   "metadata": {
    "scrolled": true
   },
   "outputs": [],
   "source": [
    "print(confusion_matrix(pred_okt_NB, yTest))\n",
    "print(classification_report(pred_okt_NB, yTest))"
   ]
  },
  {
   "cell_type": "markdown",
   "metadata": {},
   "source": [
    "# NB-SVM_okt"
   ]
  },
  {
   "cell_type": "code",
   "execution_count": 10,
   "metadata": {},
   "outputs": [],
   "source": [
    "def pr_okt(y_i, y):\n",
    "    p = train_okt_dtm[y==y_i].sum(0)\n",
    "    return (p+1) / ((y==y_i).sum()+1)"
   ]
  },
  {
   "cell_type": "code",
   "execution_count": 11,
   "metadata": {},
   "outputs": [],
   "source": [
    "def get_mdl_okt(y):\n",
    "    r = np.log(pr_okt(1,y) / pr_okt(0,y))\n",
    "    m = LogisticRegression(C=0.1)\n",
    "    x_nb = train_okt_dtm*(r)\n",
    "    return m.fit(x_nb, y), r"
   ]
  },
  {
   "cell_type": "code",
   "execution_count": 12,
   "metadata": {},
   "outputs": [],
   "source": [
    "m,r = get_mdl_okt(yTrain)\n",
    "preds_okt=m.predict_proba(test_okt_dtm*(r))"
   ]
  },
  {
   "cell_type": "code",
   "execution_count": 13,
   "metadata": {},
   "outputs": [
    {
     "name": "stdout",
     "output_type": "stream",
     "text": [
      "0.932310844107306\n"
     ]
    }
   ],
   "source": [
    "pred_okt_NB_SVM=[]\n",
    "for i in preds_okt:\n",
    "    pred_okt_NB_SVM.append(i.argmax())\n",
    "\n",
    "test['pred_okt_NB_SVM']=pred_okt_NB_SVM\n",
    "print((test['label']==test['pred_okt_NB_SVM']).sum()/test.shape[0])"
   ]
  },
  {
   "cell_type": "code",
   "execution_count": 14,
   "metadata": {},
   "outputs": [
    {
     "name": "stdout",
     "output_type": "stream",
     "text": [
      "[[17011   906]\n",
      " [ 1539 16665]]\n",
      "              precision    recall  f1-score   support\n",
      "\n",
      "           0       0.92      0.95      0.93     17917\n",
      "           1       0.95      0.92      0.93     18204\n",
      "\n",
      "    accuracy                           0.93     36121\n",
      "   macro avg       0.93      0.93      0.93     36121\n",
      "weighted avg       0.93      0.93      0.93     36121\n",
      "\n"
     ]
    }
   ],
   "source": [
    "print(confusion_matrix(pred_okt_NB_SVM, yTest))\n",
    "print(classification_report(pred_okt_NB_SVM, yTest))"
   ]
  },
  {
   "cell_type": "markdown",
   "metadata": {},
   "source": [
    "# RNN_okt"
   ]
  },
  {
   "cell_type": "code",
   "execution_count": 38,
   "metadata": {},
   "outputs": [],
   "source": [
    "train['none']=train['label']==0\n",
    "train['hate']=train['label']==1\n",
    "yTrain=train[['none','hate']].values"
   ]
  },
  {
   "cell_type": "code",
   "execution_count": 39,
   "metadata": {},
   "outputs": [],
   "source": [
    "es = EarlyStopping(monitor='val_loss', mode='min', verbose=1, patience=4)\n",
    "mc = ModelCheckpoint('model_okt.h5', monitor='val_acc', mode='max', verbose=1, save_best_only=True)"
   ]
  },
  {
   "cell_type": "code",
   "execution_count": 40,
   "metadata": {},
   "outputs": [],
   "source": [
    "model_okt=Sequential()\n",
    "model_okt.add(Dense(2048,input_shape=(xTrain_okt.shape[1],) ,activation='relu'))\n",
    "model_okt.add(Dense(512,activation='relu'))\n",
    "model_okt.add(Dense(64,activation='relu'))\n",
    "model_okt.add(Dense(8,activation='relu'))\n",
    "model_okt.add(Dense(2,activation='sigmoid'))"
   ]
  },
  {
   "cell_type": "code",
   "execution_count": 41,
   "metadata": {},
   "outputs": [],
   "source": [
    "model_okt.compile(optimizer='sgd',\n",
    "             loss='binary_crossentropy',\n",
    "             metrics=['accuracy'])"
   ]
  },
  {
   "cell_type": "code",
   "execution_count": 42,
   "metadata": {},
   "outputs": [],
   "source": [
    "x_val_okt = xTrain_okt[:30000]\n",
    "partial_x_train_okt = xTrain_okt[30000:]\n",
    "y_val = yTrain[:30000]\n",
    "partial_y_train = yTrain[30000:]"
   ]
  },
  {
   "cell_type": "code",
   "execution_count": 44,
   "metadata": {},
   "outputs": [
    {
     "name": "stdout",
     "output_type": "stream",
     "text": [
      "Epoch 1/300\n",
      "235/235 [==============================] - ETA: 0s - loss: 0.6921 - accuracy: 0.5546WARNING:tensorflow:Can save best model only with val_acc available, skipping.\n",
      "235/235 [==============================] - 22s 93ms/step - loss: 0.6921 - accuracy: 0.5546 - val_loss: 0.6905 - val_accuracy: 0.6249\n",
      "Epoch 2/300\n",
      "235/235 [==============================] - ETA: 0s - loss: 0.6884 - accuracy: 0.6703WARNING:tensorflow:Can save best model only with val_acc available, skipping.\n",
      "235/235 [==============================] - 21s 90ms/step - loss: 0.6884 - accuracy: 0.6703 - val_loss: 0.6857 - val_accuracy: 0.7439\n",
      "Epoch 3/300\n",
      "235/235 [==============================] - ETA: 0s - loss: 0.6821 - accuracy: 0.7652WARNING:tensorflow:Can save best model only with val_acc available, skipping.\n",
      "235/235 [==============================] - 22s 92ms/step - loss: 0.6821 - accuracy: 0.7652 - val_loss: 0.6778 - val_accuracy: 0.7774\n",
      "Epoch 4/300\n",
      "235/235 [==============================] - ETA: 0s - loss: 0.6719 - accuracy: 0.7675WARNING:tensorflow:Can save best model only with val_acc available, skipping.\n",
      "235/235 [==============================] - 22s 95ms/step - loss: 0.6719 - accuracy: 0.7675 - val_loss: 0.6652 - val_accuracy: 0.7581\n",
      "Epoch 5/300\n",
      "235/235 [==============================] - ETA: 0s - loss: 0.6558 - accuracy: 0.7578WARNING:tensorflow:Can save best model only with val_acc available, skipping.\n",
      "235/235 [==============================] - 22s 96ms/step - loss: 0.6558 - accuracy: 0.7578 - val_loss: 0.6450 - val_accuracy: 0.7585\n",
      "Epoch 6/300\n",
      "235/235 [==============================] - ETA: 0s - loss: 0.6293 - accuracy: 0.7628WARNING:tensorflow:Can save best model only with val_acc available, skipping.\n",
      "235/235 [==============================] - 22s 96ms/step - loss: 0.6293 - accuracy: 0.7628 - val_loss: 0.6115 - val_accuracy: 0.7699\n",
      "Epoch 7/300\n",
      "235/235 [==============================] - ETA: 0s - loss: 0.5855 - accuracy: 0.7815WARNING:tensorflow:Can save best model only with val_acc available, skipping.\n",
      "235/235 [==============================] - 22s 95ms/step - loss: 0.5855 - accuracy: 0.7815 - val_loss: 0.5561 - val_accuracy: 0.7940\n",
      "Epoch 8/300\n",
      "235/235 [==============================] - ETA: 0s - loss: 0.5168 - accuracy: 0.8099WARNING:tensorflow:Can save best model only with val_acc available, skipping.\n",
      "235/235 [==============================] - 23s 97ms/step - loss: 0.5168 - accuracy: 0.8099 - val_loss: 0.4736 - val_accuracy: 0.8239\n",
      "Epoch 9/300\n",
      "235/235 [==============================] - ETA: 0s - loss: 0.4279 - accuracy: 0.8405WARNING:tensorflow:Can save best model only with val_acc available, skipping.\n",
      "235/235 [==============================] - 23s 98ms/step - loss: 0.4279 - accuracy: 0.8405 - val_loss: 0.3822 - val_accuracy: 0.8593\n",
      "Epoch 10/300\n",
      "235/235 [==============================] - ETA: 0s - loss: 0.3480 - accuracy: 0.8660WARNING:tensorflow:Can save best model only with val_acc available, skipping.\n",
      "235/235 [==============================] - 23s 97ms/step - loss: 0.3480 - accuracy: 0.8660 - val_loss: 0.3160 - val_accuracy: 0.8757\n",
      "Epoch 11/300\n",
      "235/235 [==============================] - ETA: 0s - loss: 0.2960 - accuracy: 0.8831WARNING:tensorflow:Can save best model only with val_acc available, skipping.\n",
      "235/235 [==============================] - 23s 97ms/step - loss: 0.2960 - accuracy: 0.8831 - val_loss: 0.2772 - val_accuracy: 0.8868\n",
      "Epoch 12/300\n",
      "235/235 [==============================] - ETA: 0s - loss: 0.2647 - accuracy: 0.8937WARNING:tensorflow:Can save best model only with val_acc available, skipping.\n",
      "235/235 [==============================] - 22s 95ms/step - loss: 0.2647 - accuracy: 0.8937 - val_loss: 0.2537 - val_accuracy: 0.8984\n",
      "Epoch 13/300\n",
      "235/235 [==============================] - ETA: 0s - loss: 0.2447 - accuracy: 0.9011WARNING:tensorflow:Can save best model only with val_acc available, skipping.\n",
      "235/235 [==============================] - 22s 95ms/step - loss: 0.2447 - accuracy: 0.9011 - val_loss: 0.2385 - val_accuracy: 0.9036\n",
      "Epoch 14/300\n",
      "235/235 [==============================] - ETA: 0s - loss: 0.2307 - accuracy: 0.9062WARNING:tensorflow:Can save best model only with val_acc available, skipping.\n",
      "235/235 [==============================] - 23s 96ms/step - loss: 0.2307 - accuracy: 0.9062 - val_loss: 0.2278 - val_accuracy: 0.9081\n",
      "Epoch 15/300\n",
      "235/235 [==============================] - ETA: 0s - loss: 0.2202 - accuracy: 0.9110WARNING:tensorflow:Can save best model only with val_acc available, skipping.\n",
      "235/235 [==============================] - 22s 95ms/step - loss: 0.2202 - accuracy: 0.9110 - val_loss: 0.2198 - val_accuracy: 0.9110\n",
      "Epoch 16/300\n",
      "235/235 [==============================] - ETA: 0s - loss: 0.2116 - accuracy: 0.9147WARNING:tensorflow:Can save best model only with val_acc available, skipping.\n",
      "235/235 [==============================] - 22s 95ms/step - loss: 0.2116 - accuracy: 0.9147 - val_loss: 0.2138 - val_accuracy: 0.9133\n",
      "Epoch 17/300\n",
      "235/235 [==============================] - ETA: 0s - loss: 0.2043 - accuracy: 0.9178WARNING:tensorflow:Can save best model only with val_acc available, skipping.\n",
      "235/235 [==============================] - 23s 96ms/step - loss: 0.2043 - accuracy: 0.9178 - val_loss: 0.2083 - val_accuracy: 0.9155\n",
      "Epoch 18/300\n",
      "235/235 [==============================] - ETA: 0s - loss: 0.1979 - accuracy: 0.9205WARNING:tensorflow:Can save best model only with val_acc available, skipping.\n",
      "235/235 [==============================] - 22s 95ms/step - loss: 0.1979 - accuracy: 0.9205 - val_loss: 0.2041 - val_accuracy: 0.9189\n",
      "Epoch 19/300\n",
      "235/235 [==============================] - ETA: 0s - loss: 0.1922 - accuracy: 0.9230WARNING:tensorflow:Can save best model only with val_acc available, skipping.\n",
      "235/235 [==============================] - 22s 95ms/step - loss: 0.1922 - accuracy: 0.9230 - val_loss: 0.1999 - val_accuracy: 0.9200\n",
      "Epoch 20/300\n",
      "235/235 [==============================] - ETA: 0s - loss: 0.1869 - accuracy: 0.9252WARNING:tensorflow:Can save best model only with val_acc available, skipping.\n",
      "235/235 [==============================] - 22s 96ms/step - loss: 0.1869 - accuracy: 0.9252 - val_loss: 0.1975 - val_accuracy: 0.9196\n",
      "Epoch 21/300\n",
      "235/235 [==============================] - ETA: 0s - loss: 0.1820 - accuracy: 0.9272WARNING:tensorflow:Can save best model only with val_acc available, skipping.\n",
      "235/235 [==============================] - 22s 95ms/step - loss: 0.1820 - accuracy: 0.9272 - val_loss: 0.1945 - val_accuracy: 0.9209\n",
      "Epoch 22/300\n",
      "235/235 [==============================] - ETA: 0s - loss: 0.1775 - accuracy: 0.9293WARNING:tensorflow:Can save best model only with val_acc available, skipping.\n",
      "235/235 [==============================] - 22s 96ms/step - loss: 0.1775 - accuracy: 0.9293 - val_loss: 0.1913 - val_accuracy: 0.9229\n",
      "Epoch 23/300\n",
      "235/235 [==============================] - ETA: 0s - loss: 0.1732 - accuracy: 0.9312WARNING:tensorflow:Can save best model only with val_acc available, skipping.\n",
      "235/235 [==============================] - 22s 95ms/step - loss: 0.1732 - accuracy: 0.9312 - val_loss: 0.1894 - val_accuracy: 0.9240\n",
      "Epoch 24/300\n",
      "235/235 [==============================] - ETA: 0s - loss: 0.1692 - accuracy: 0.9331WARNING:tensorflow:Can save best model only with val_acc available, skipping.\n",
      "235/235 [==============================] - 22s 95ms/step - loss: 0.1692 - accuracy: 0.9331 - val_loss: 0.1864 - val_accuracy: 0.9253\n",
      "Epoch 25/300\n",
      "235/235 [==============================] - ETA: 0s - loss: 0.1655 - accuracy: 0.9349WARNING:tensorflow:Can save best model only with val_acc available, skipping.\n",
      "235/235 [==============================] - 22s 96ms/step - loss: 0.1655 - accuracy: 0.9349 - val_loss: 0.1863 - val_accuracy: 0.9247\n",
      "Epoch 26/300\n",
      "235/235 [==============================] - ETA: 0s - loss: 0.1620 - accuracy: 0.9364WARNING:tensorflow:Can save best model only with val_acc available, skipping.\n",
      "235/235 [==============================] - 22s 95ms/step - loss: 0.1620 - accuracy: 0.9364 - val_loss: 0.1829 - val_accuracy: 0.9265\n",
      "Epoch 27/300\n",
      "235/235 [==============================] - ETA: 0s - loss: 0.1586 - accuracy: 0.9380WARNING:tensorflow:Can save best model only with val_acc available, skipping.\n",
      "235/235 [==============================] - 22s 95ms/step - loss: 0.1586 - accuracy: 0.9380 - val_loss: 0.1811 - val_accuracy: 0.9272\n"
     ]
    },
    {
     "name": "stdout",
     "output_type": "stream",
     "text": [
      "Epoch 28/300\n",
      "235/235 [==============================] - ETA: 0s - loss: 0.1554 - accuracy: 0.9394WARNING:tensorflow:Can save best model only with val_acc available, skipping.\n",
      "235/235 [==============================] - 22s 95ms/step - loss: 0.1554 - accuracy: 0.9394 - val_loss: 0.1802 - val_accuracy: 0.9277\n",
      "Epoch 29/300\n",
      "235/235 [==============================] - ETA: 0s - loss: 0.1523 - accuracy: 0.9407WARNING:tensorflow:Can save best model only with val_acc available, skipping.\n",
      "235/235 [==============================] - 23s 96ms/step - loss: 0.1523 - accuracy: 0.9407 - val_loss: 0.1787 - val_accuracy: 0.9282\n",
      "Epoch 30/300\n",
      "235/235 [==============================] - ETA: 0s - loss: 0.1493 - accuracy: 0.9424WARNING:tensorflow:Can save best model only with val_acc available, skipping.\n",
      "235/235 [==============================] - 23s 96ms/step - loss: 0.1493 - accuracy: 0.9424 - val_loss: 0.1794 - val_accuracy: 0.9269\n",
      "Epoch 31/300\n",
      "235/235 [==============================] - ETA: 0s - loss: 0.1465 - accuracy: 0.9434WARNING:tensorflow:Can save best model only with val_acc available, skipping.\n",
      "235/235 [==============================] - 23s 96ms/step - loss: 0.1465 - accuracy: 0.9434 - val_loss: 0.1780 - val_accuracy: 0.9276\n",
      "Epoch 32/300\n",
      "235/235 [==============================] - ETA: 0s - loss: 0.1438 - accuracy: 0.9446WARNING:tensorflow:Can save best model only with val_acc available, skipping.\n",
      "235/235 [==============================] - 23s 96ms/step - loss: 0.1438 - accuracy: 0.9446 - val_loss: 0.1768 - val_accuracy: 0.9291\n",
      "Epoch 33/300\n",
      "235/235 [==============================] - ETA: 0s - loss: 0.1411 - accuracy: 0.9458WARNING:tensorflow:Can save best model only with val_acc available, skipping.\n",
      "235/235 [==============================] - 23s 96ms/step - loss: 0.1411 - accuracy: 0.9458 - val_loss: 0.1749 - val_accuracy: 0.9296\n",
      "Epoch 34/300\n",
      "235/235 [==============================] - ETA: 0s - loss: 0.1384 - accuracy: 0.9472 ETA: 6s - loss: 0.1 - ETA: 5s - loss: 0.1383 - accuracy: 0. - ETA: 5s - loss: - ETA: 0s - loss: 0.1385 - accuWARNING:tensorflow:Can save best model only with val_acc available, skipping.\n",
      "235/235 [==============================] - 23s 96ms/step - loss: 0.1384 - accuracy: 0.9472 - val_loss: 0.1764 - val_accuracy: 0.9289\n",
      "Epoch 35/300\n",
      "235/235 [==============================] - ETA: 0s - loss: 0.1360 - accuracy: 0.9481 ETA: 0s - loss: 0.1361 - accuracy: WARNING:tensorflow:Can save best model only with val_acc available, skipping.\n",
      "235/235 [==============================] - 23s 96ms/step - loss: 0.1360 - accuracy: 0.9481 - val_loss: 0.1766 - val_accuracy: 0.9291\n",
      "Epoch 36/300\n",
      "235/235 [==============================] - ETA: 0s - loss: 0.1334 - accuracy: 0.9492WARNING:tensorflow:Can save best model only with val_acc available, skipping.\n",
      "235/235 [==============================] - 23s 96ms/step - loss: 0.1334 - accuracy: 0.9492 - val_loss: 0.1747 - val_accuracy: 0.9303\n",
      "Epoch 37/300\n",
      "235/235 [==============================] - ETA: 0s - loss: 0.1310 - accuracy: 0.9503WARNING:tensorflow:Can save best model only with val_acc available, skipping.\n",
      "235/235 [==============================] - 23s 96ms/step - loss: 0.1310 - accuracy: 0.9503 - val_loss: 0.1785 - val_accuracy: 0.9291\n",
      "Epoch 38/300\n",
      "235/235 [==============================] - ETA: 0s - loss: 0.1289 - accuracy: 0.9513 ETA: 0s - loss: 0.1287 - accuracyWARNING:tensorflow:Can save best model only with val_acc available, skipping.\n",
      "235/235 [==============================] - 23s 96ms/step - loss: 0.1289 - accuracy: 0.9513 - val_loss: 0.1739 - val_accuracy: 0.9307\n",
      "Epoch 39/300\n",
      "235/235 [==============================] - ETA: 0s - loss: 0.1264 - accuracy: 0.9526WARNING:tensorflow:Can save best model only with val_acc available, skipping.\n",
      "235/235 [==============================] - 23s 97ms/step - loss: 0.1264 - accuracy: 0.9526 - val_loss: 0.1724 - val_accuracy: 0.9307\n",
      "Epoch 40/300\n",
      "235/235 [==============================] - ETA: 0s - loss: 0.1242 - accuracy: 0.9536 ETA: 0s - loss: 0.1240 - accuWARNING:tensorflow:Can save best model only with val_acc available, skipping.\n",
      "235/235 [==============================] - 23s 96ms/step - loss: 0.1242 - accuracy: 0.9536 - val_loss: 0.1730 - val_accuracy: 0.9306\n",
      "Epoch 41/300\n",
      "235/235 [==============================] - ETA: 0s - loss: 0.1220 - accuracy: 0.9542 ETA: 0s - loss: 0.1221 - accuracy: 0.95WARNING:tensorflow:Can save best model only with val_acc available, skipping.\n",
      "235/235 [==============================] - 23s 96ms/step - loss: 0.1220 - accuracy: 0.9542 - val_loss: 0.1751 - val_accuracy: 0.9293\n",
      "Epoch 42/300\n",
      "235/235 [==============================] - ETA: 0s - loss: 0.1199 - accuracy: 0.9550WARNING:tensorflow:Can save best model only with val_acc available, skipping.\n",
      "235/235 [==============================] - 23s 96ms/step - loss: 0.1199 - accuracy: 0.9550 - val_loss: 0.1719 - val_accuracy: 0.9315\n",
      "Epoch 43/300\n",
      "235/235 [==============================] - ETA: 0s - loss: 0.1176 - accuracy: 0.9562WARNING:tensorflow:Can save best model only with val_acc available, skipping.\n",
      "235/235 [==============================] - 23s 96ms/step - loss: 0.1176 - accuracy: 0.9562 - val_loss: 0.1729 - val_accuracy: 0.9313\n",
      "Epoch 44/300\n",
      "235/235 [==============================] - ETA: 0s - loss: 0.1155 - accuracy: 0.9571WARNING:tensorflow:Can save best model only with val_acc available, skipping.\n",
      "235/235 [==============================] - 23s 96ms/step - loss: 0.1155 - accuracy: 0.9571 - val_loss: 0.1728 - val_accuracy: 0.9312\n",
      "Epoch 45/300\n",
      "235/235 [==============================] - ETA: 0s - loss: 0.1135 - accuracy: 0.9581WARNING:tensorflow:Can save best model only with val_acc available, skipping.\n",
      "235/235 [==============================] - 23s 96ms/step - loss: 0.1135 - accuracy: 0.9581 - val_loss: 0.1731 - val_accuracy: 0.9313\n",
      "Epoch 46/300\n",
      "235/235 [==============================] - ETA: 0s - loss: 0.1113 - accuracy: 0.9586WARNING:tensorflow:Can save best model only with val_acc available, skipping.\n",
      "235/235 [==============================] - 23s 96ms/step - loss: 0.1113 - accuracy: 0.9586 - val_loss: 0.1733 - val_accuracy: 0.9317\n",
      "Epoch 00046: early stopping\n"
     ]
    }
   ],
   "source": [
    "history_okt = model_okt.fit(partial_x_train_okt,\n",
    "                            partial_y_train,\n",
    "                            epochs=300,\n",
    "                            batch_size=512,\n",
    "                            callbacks=[es, mc],\n",
    "                            validation_data=(x_val_okt, y_val))"
   ]
  },
  {
   "cell_type": "code",
   "execution_count": 45,
   "metadata": {},
   "outputs": [
    {
     "data": {
      "image/png": "[encoded data removed]",
      "text/plain": [
       "<Figure size 432x288 with 1 Axes>"
      ]
     },
     "metadata": {
      "needs_background": "light"
     },
     "output_type": "display_data"
    }
   ],
   "source": [
    "loss_okt= history_okt.history['loss']\n",
    "val_loss_okt=history_okt.history['val_loss']\n",
    "\n",
    "epochs = range(1, len(loss_okt) + 1)\n",
    "\n",
    "plt.plot(epochs, loss_okt, 'bo',label=\"Training loss_okt\" )\n",
    "plt.plot(epochs, val_loss_okt, 'b', label='Validation loss_okt')\n",
    "plt.title('okt Training and validation loss')\n",
    "plt.xlabel('Epochs')\n",
    "plt.ylabel('Loss')\n",
    "plt.legend()\n",
    "\n",
    "plt.show()"
   ]
  },
  {
   "cell_type": "code",
   "execution_count": 46,
   "metadata": {},
   "outputs": [
    {
     "data": {
      "image/png": "[encoded data removed]",
      "text/plain": [
       "<Figure size 432x288 with 1 Axes>"
      ]
     },
     "metadata": {
      "needs_background": "light"
     },
     "output_type": "display_data"
    }
   ],
   "source": [
    "acc_okt = history_okt.history['accuracy']\n",
    "val_acc_okt = history_okt.history['val_accuracy']\n",
    "\n",
    "plt.plot(epochs, acc_okt, 'bo', label='Training acc_okt')\n",
    "plt.plot(epochs, val_acc_okt, 'b', label='Validation acc_okt')\n",
    "\n",
    "plt.title('okt Training and Validation Accuracy')\n",
    "plt.xlabel('Epochs')\n",
    "plt.ylabel('Accuracy')\n",
    "\n",
    "plt.legend()\n",
    "\n",
    "plt.show()"
   ]
  },
  {
   "cell_type": "code",
   "execution_count": 47,
   "metadata": {},
   "outputs": [],
   "source": [
    "model_okt.save('model_okt.h5')"
   ]
  },
  {
   "cell_type": "code",
   "execution_count": 48,
   "metadata": {},
   "outputs": [],
   "source": [
    "pred_okt_RNN=model_okt.predict(xTest_okt)"
   ]
  },
  {
   "cell_type": "code",
   "execution_count": 49,
   "metadata": {},
   "outputs": [],
   "source": [
    "# xTest_okt=test_okt_ohe.values"
   ]
  },
  {
   "cell_type": "code",
   "execution_count": 50,
   "metadata": {},
   "outputs": [],
   "source": [
    "pred_okt_RNN_list=[]\n",
    "for i in range(len(pred_okt_RNN)):\n",
    "    pred_okt_RNN_list.append(pred_okt_RNN[i].argmax())"
   ]
  },
  {
   "cell_type": "code",
   "execution_count": 51,
   "metadata": {},
   "outputs": [
    {
     "data": {
      "text/plain": [
       "0.9335012873397747"
      ]
     },
     "execution_count": 51,
     "metadata": {},
     "output_type": "execute_result"
    }
   ],
   "source": [
    "test['red_okt_RNN']=pred_okt_RNN_list\n",
    "(test['label']==test['red_okt_RNN']).sum()/test.shape[0]"
   ]
  },
  {
   "cell_type": "code",
   "execution_count": 52,
   "metadata": {},
   "outputs": [
    {
     "name": "stdout",
     "output_type": "stream",
     "text": [
      "[[17143   995]\n",
      " [ 1407 16576]]\n",
      "              precision    recall  f1-score   support\n",
      "\n",
      "           0       0.92      0.95      0.93     18138\n",
      "           1       0.94      0.92      0.93     17983\n",
      "\n",
      "    accuracy                           0.93     36121\n",
      "   macro avg       0.93      0.93      0.93     36121\n",
      "weighted avg       0.93      0.93      0.93     36121\n",
      "\n"
     ]
    }
   ],
   "source": [
    "print(confusion_matrix(pred_okt_RNN_list, yTest))\n",
    "print(classification_report(pred_okt_RNN_list, yTest))"
   ]
  },
  {
   "cell_type": "code",
   "execution_count": null,
   "metadata": {},
   "outputs": [],
   "source": []
  }
 ],
 "metadata": {
  "kernelspec": {
   "display_name": "Python 3",
   "language": "python",
   "name": "python3"
  },
  "language_info": {
   "codemirror_mode": {
    "name": "ipython",
    "version": 3
   },
   "file_extension": ".py",
   "mimetype": "text/x-python",
   "name": "python",
   "nbconvert_exporter": "python",
   "pygments_lexer": "ipython3",
   "version": "3.8.3"
  }
 },
 "nbformat": 4,
 "nbformat_minor": 4
}
