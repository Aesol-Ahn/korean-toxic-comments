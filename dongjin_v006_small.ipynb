{
 "cells": [
  {
   "cell_type": "code",
   "execution_count": 1,
   "metadata": {},
   "outputs": [],
   "source": [
    "import numpy as np\n",
    "import pandas as pd\n",
    "import seaborn as sns\n",
    "import matplotlib.pyplot as plt\n",
    "from konlpy.tag import Okt\n",
    "from konlpy.utils import partition\n",
    "import re"
   ]
  },
  {
   "cell_type": "markdown",
   "metadata": {},
   "source": [
    "# 데이터 가져오기"
   ]
  },
  {
   "cell_type": "code",
   "execution_count": 2,
   "metadata": {},
   "outputs": [],
   "source": [
    "train=pd.read_csv('data/train.csv')\n",
    "test=pd.read_csv('data/test.csv')"
   ]
  },
  {
   "cell_type": "code",
   "execution_count": 3,
   "metadata": {},
   "outputs": [
    {
     "name": "stdout",
     "output_type": "stream",
     "text": [
      "<class 'pandas.core.frame.DataFrame'>\n",
      "RangeIndex: 147871 entries, 0 to 147870\n",
      "Data columns (total 2 columns):\n",
      " #   Column    Non-Null Count   Dtype \n",
      "---  ------    --------------   ----- \n",
      " 0   comments  147871 non-null  object\n",
      " 1   label     147871 non-null  int64 \n",
      "dtypes: int64(1), object(1)\n",
      "memory usage: 2.3+ MB\n",
      "<class 'pandas.core.frame.DataFrame'>\n",
      "RangeIndex: 39649 entries, 0 to 39648\n",
      "Data columns (total 2 columns):\n",
      " #   Column    Non-Null Count  Dtype \n",
      "---  ------    --------------  ----- \n",
      " 0   comments  39649 non-null  object\n",
      " 1   label     39649 non-null  int64 \n",
      "dtypes: int64(1), object(1)\n",
      "memory usage: 619.6+ KB\n"
     ]
    }
   ],
   "source": [
    "train.info()\n",
    "test.info()"
   ]
  },
  {
   "cell_type": "code",
   "execution_count": 4,
   "metadata": {},
   "outputs": [],
   "source": [
    "train=train[:20000]\n",
    "test=test[:4000]"
   ]
  },
  {
   "cell_type": "code",
   "execution_count": 5,
   "metadata": {},
   "outputs": [
    {
     "data": {
      "text/plain": [
       "<matplotlib.axes._subplots.AxesSubplot at 0x1fc8a042a30>"
      ]
     },
     "execution_count": 5,
     "metadata": {},
     "output_type": "execute_result"
    },
    {
     "data": {
      "image/png": "[encoded data removed]",
      "text/plain": [
       "<Figure size 432x288 with 1 Axes>"
      ]
     },
     "metadata": {
      "needs_background": "light"
     },
     "output_type": "display_data"
    }
   ],
   "source": [
    "train['label'].value_counts().plot(kind='bar')"
   ]
  },
  {
   "cell_type": "code",
   "execution_count": 6,
   "metadata": {},
   "outputs": [],
   "source": [
    "wordDict={\"[^ㄱ-ㅎ가-힣 ]\":\" \",'[\\d+]':' ','[ㅡ+]':'','[ㅠ+]':'','[ㅜ+]':'','[ㄱ-ㅎ]':'','[ㅏ-ㅣ]':'','ᆢᆢ':''}"
   ]
  },
  {
   "cell_type": "code",
   "execution_count": 7,
   "metadata": {},
   "outputs": [],
   "source": [
    "for i,j in wordDict.items():\n",
    "    train['comments']=train.comments.str.replace(i,j)\n",
    "    test['comments']=test.comments.str.replace(i,j)"
   ]
  },
  {
   "cell_type": "code",
   "execution_count": 8,
   "metadata": {},
   "outputs": [],
   "source": [
    "def cw(x):\n",
    "    simdict={'추카':'축하'\n",
    "            }\n",
    "    for index,word in simdict.items():\n",
    "        return re.sub(index,word,x)"
   ]
  },
  {
   "cell_type": "code",
   "execution_count": 9,
   "metadata": {},
   "outputs": [],
   "source": [
    "train['comments']=train.comments.apply(cw)\n",
    "test['comments']=test.comments.apply(cw)"
   ]
  },
  {
   "cell_type": "code",
   "execution_count": null,
   "metadata": {},
   "outputs": [],
   "source": []
  },
  {
   "cell_type": "markdown",
   "metadata": {},
   "source": [
    "# stopwords"
   ]
  },
  {
   "cell_type": "code",
   "execution_count": 10,
   "metadata": {},
   "outputs": [],
   "source": [
    "stopwords=['아','휴','아이구','아이쿠','아이고','어','나','우리','저희','따라','의해','을','를','에','의','가','으로','로','에게','뿐이다','의거하여','근거하여','입각하여','기준으로',\n",
    "'예하면','예를 들면','예를 들자면','저','소인','소생','저희','지말고','하지마','하지마라','다른','물론','또한','그리고','비길수 없다','해서는 안된다','뿐만 아니라','만이 아니다',\n",
    "'만은 아니다','막론하고','관계없이','그치지 않다','그러나','그런데','하지만','든간에','논하지 않다','따지지 않다','설사','비록','더라도','아니면','만' '못하다','하는 편이 낫다',\n",
    "'불문하고','향하여','향해서','향하다','쪽으로','틈타','이용하여','타다','오르다','제외하고','이 외에','이 밖에','하여야','비로소','한다면' '몰라도','외에도','이곳','여기','부터',\n",
    "'기점으로,따라서','할 생각이다','하려고하다','이리하여','그리하여','그렇게' '함으로써','하지만','일때','할때','앞에서','중에서','보는데서','으로써','로써','까지','해야한다',\n",
    "'일것이다','반드시','할줄알다','할수있다','할수있어','임에 틀림없다','한다면','등','등등','제','겨우','단지','다만','할뿐','딩동','댕그','대해서','대하여','대하면','훨씬','얼마나',\n",
    "'얼마만큼','얼마큼','남짓','여','얼마간','약간','다소','좀','조금','다수','몇','얼마','지만','하물며','또한','그러나','그렇지만','하지만','이외에도','대해 말하자면','뿐이다','다음에',\n",
    "'반대로','반대로 말하자면','이와 반대로','바꾸어서 말하면','바꾸어서 한다면','만약','그렇지않으면','까악','툭','딱','삐걱거리다','보드득','비걱거리다','꽈당','응당','해야한다',\n",
    "'에 가서','각','각각','여러분','각종','각자','제각기','하도록하다','와','과','그러므로','그래서','고로','한 까닭에','하기 때문에','거니와','이지만','대하여','관하여','관한','과연',\n",
    "'실로','아니나다를가','생각한대로','진짜로','한적이있다','하곤하였다','하','하하','허허','아하','거바','와','오','왜','어째서','무엇때문에','어찌','하겠는가','무슨','어디','어느곳',\n",
    "'더군다나','하물며','더욱이는','어느때','언제','야','이봐','어이','여보시오','흐흐','흥','휴','헉헉','헐떡헐떡','영차','여차','어기여차','끙끙','아야','앗','아야','콸콸','졸졸','좍좍','뚝뚝',\n",
    "'주룩주룩','솨','우르르','그래도','또','그리고','바꾸어말하면','바꾸어말하자면','혹은','혹시','답다','및','그에 따르는','때가 되어','즉','지든지','설령','가령','하더라도','할지라도',\n",
    "'일지라도','지든지','몇','거의,하마터면','인젠','이젠','된바에야','된이상','만큼','어찌됏든','그위에','게다가','점에서 보아','비추어 보아','고려하면','하게될것이다','일것이다',\n",
    "'비교적','좀','보다더','비하면','시키다','하게하다','할만하다','의해서','연이서','이어서','잇따라','뒤따라','뒤이어','결국','의지하여','기대여','통하여','자마자','더욱더','불구하고',\n",
    "'얼마든지','마음대로','주저하지 않고','곧','즉시','바로','당장','하자마자','밖에' '안된다','하면된다','그래','그렇지','요컨대','다시 말하자면','바꿔 말하면','즉','구체적으로',\n",
    "'말하자면','시작하여','시초에','이상','허','헉','허걱','바와같이','해도좋다','해도된다','게다가','더구나','하물며','와르르','팍','퍽','펄렁','동안','이래','하고있었다','이었다','에서',\n",
    "'로부터','까지','예하면','했어요','해요','함께','같이','더불어','마저','마저도','양자','모두','습니다','가까스로','하려고하다','즈음하여','다른','다른 방면으로','해봐요','습니까',\n",
    "'했어요','말할것도 없고','무릎쓰고','개의치않고','하는것만 못하다','하는것이 낫다','매','매번','들','모','어느것','어느','로써','갖고말하자면','어디','어느쪽','어느것','어느해',\n",
    "'어느 년도','라' '해도','언젠가','어떤것','어느것','저기','저쪽','저것','그때','그럼','그러면','요만한걸','그래','그때','저것만큼','그저','이르기까지','할 줄 안다','할 힘이' '있다',\n",
    "'너','너희','당신','어찌','설마','차라리','할지언정','할지라도','할망정','할지언정','구토하다','게우다','토하다','메쓰겁다','옆사람','퉤','쳇','의거하여','근거하여','의해','따라',\n",
    "'힘입어','그','다음','버금','두번째로','기타','첫번째로','나머지는','그중에서','견지에서','형식으로 쓰여','입장에서','위해서','단지','의해되다','하도록시키다','뿐만아니라',\n",
    "'반대로','전후','전자','앞의것','잠시','잠깐','하면서','그렇지만','다음에','그러한즉','그런즉','남들','아무거나','어찌하든지','같다','비슷하다','예컨대','이럴정도로','어떻게',\n",
    "'만약','만일','위에서' '서술한바와같이','인 듯하다','하지 않는다면','만약에','무엇','무슨','어느','어떤','아래윗','조차','한데','그럼에도 불구하고','여전히','심지어','까지도',\n",
    "'조차도','하지 않도록','않기 위하여','때','시각','무렵','시간','동안','어때','어떠한','하여금','네','예','우선','누구','누가' '알겠는가','아무도','줄은모른다','줄은 몰랏다','하는 김에',\n",
    "'겸사겸사','하는바','그런 까닭에','한 이유는','그러니','그러니까','때문에','그','너희','그들','너희들','타인','것','것들','너','위하여','공동으로','동시에','하기 위하여','어찌하여',\n",
    "'무엇때문에','붕붕','윙윙','나','우리','엉엉','휘익','윙윙','오호','아하','어쨋든','만 못하다','하기보다는','차라리,하는 편이 낫다','흐흐','놀라다','상대적으로 말하자면','마치',\n",
    "'아니라면','쉿','그렇지 않으면','그렇지' '않다면','안 그러면','아니었다면','하든지','아니면','이라면','좋아','알았어','하는것도','그만이다','어쩔수 없다','하나','일','일반적으로',\n",
    "'일단','한켠으로는','오자마자','이렇게되면','이와같다면','전부','한마디','한항목','근거로','하기에','아울러','하지 않도록','않기 위해서','이르기까지','이 되다','로 인하여',\n",
    "'까닭으로','이유만으로','이로 인하여','그래서','이 때문에','그러므로','그런 까닭에','알 수 있다','결론을 낼 수 있다','으로 인하여','있다','어떤것','관계가 있다','관련이 있다',\n",
    "'연관되다','어떤것들','에 대해','이리하여','그리하여','여부','하기보다는','하느니','하면 할수록','운운','이러이러하다','하구나','하도다','다시말하면','다음으로','에 있다',\n",
    "'에 달려 있다','우리','우리들','오히려','하기는한데','어떻게','어떻해','어찌됏어','어때','어째서','본대로','자','이','이쪽','여기','이것','이번','이렇게말하자면','이런','이러한',\n",
    "'이와 같은','요만큼','요만한 것','얼마 안 되는 것','이만큼','이 정도의','이렇게 많은 것','이와 같다','이때','이렇구나','것과 같이','끼익','삐걱,따위','와 같은 사람들',\n",
    "'부류의 사람들','왜냐하면','중의하나','오직','오로지','에 한하다','하기만 하면','도착하다','까지 미치다','도달하다','정도에 이르다','할 지경이다','결과에 이르다','관해서는',\n",
    "'여러분','하고 있다','한 후','혼자','자기','자기집','자신','우에' '종합한것과같이','총적으로' '보면','총적으로' '말하면','총적으로','대로 하다','으로서','참','그만이다','할 따름이다','쿵',\n",
    "'탕탕','쾅쾅','둥둥','봐','봐라','아이야','아니','와아','응','아이','참나','년','월','일','령','영','일','이','삼','사','오','육','륙','칠','팔','구','이천육','이천칠','이천팔','이천구','하나','둘','셋',\n",
    "'넷','다섯','여섯','일곱','여덟','아홉','령','영']"
   ]
  },
  {
   "cell_type": "code",
   "execution_count": 11,
   "metadata": {},
   "outputs": [],
   "source": [
    "# konlpyList=['okt','']"
   ]
  },
  {
   "cell_type": "code",
   "execution_count": 12,
   "metadata": {},
   "outputs": [],
   "source": [
    "n=1 #단어 길이"
   ]
  },
  {
   "cell_type": "code",
   "execution_count": 13,
   "metadata": {
    "scrolled": false
   },
   "outputs": [
    {
     "name": "stderr",
     "output_type": "stream",
     "text": [
      "C:\\ProgramData\\Anaconda3\\lib\\site-packages\\pandas\\core\\indexing.py:671: SettingWithCopyWarning: \n",
      "A value is trying to be set on a copy of a slice from a DataFrame\n",
      "\n",
      "See the caveats in the documentation: https://pandas.pydata.org/pandas-docs/stable/user_guide/indexing.html#returning-a-view-versus-a-copy\n",
      "  self._setitem_with_indexer(indexer, value)\n"
     ]
    }
   ],
   "source": [
    "okt=Okt()\n",
    "wordList=[]\n",
    "word_index={}\n",
    "wordCount={}\n",
    "train['okt']='0'\n",
    "for index ,sentencs in enumerate(train['comments']):\n",
    "    words=okt.morphs(sentencs,norm=True,stem=True)   \n",
    "    temp=[]\n",
    "    for word in words:\n",
    "        if word not in stopwords:\n",
    "            if len(word) >= n:\n",
    "                temp.append(word)\n",
    "                if word not in wordList:\n",
    "                    wordCount[word]=1\n",
    "                    wordList.append(word)\n",
    "                else:\n",
    "                    wordCount[word]=wordCount[word]+1\n",
    "    train['okt'].iloc[index]=temp"
   ]
  },
  {
   "cell_type": "code",
   "execution_count": 14,
   "metadata": {},
   "outputs": [],
   "source": [
    "wordCount_df=pd.DataFrame([[i,j] for i,j in wordCount.items()],columns=['word', 'index'])\n",
    "wordCount_df.to_csv('wordCount_df.csv')"
   ]
  },
  {
   "cell_type": "code",
   "execution_count": 15,
   "metadata": {},
   "outputs": [],
   "source": [
    "m=1 #빈도수"
   ]
  },
  {
   "cell_type": "code",
   "execution_count": 16,
   "metadata": {},
   "outputs": [],
   "source": [
    "wordList=[]\n",
    "word_index={}\n",
    "for index ,word in enumerate(wordCount.keys()):\n",
    "    if wordCount[word]>= m : \n",
    "        word_index[word]=len(wordList)\n",
    "        wordList.append(word)"
   ]
  },
  {
   "cell_type": "code",
   "execution_count": 17,
   "metadata": {},
   "outputs": [],
   "source": [
    "test['okt']='0'\n",
    "for index ,sentencs in enumerate(test['comments']):\n",
    "    words=okt.morphs(sentencs,norm=True,stem=True)\n",
    "    temp=[]\n",
    "    for word in words:\n",
    "        if word in wordList:\n",
    "            temp.append(word)\n",
    "    test['okt'].iloc[index]=temp"
   ]
  },
  {
   "cell_type": "markdown",
   "metadata": {},
   "source": [
    "# Document Term Matrix , One Hot Encoding"
   ]
  },
  {
   "cell_type": "code",
   "execution_count": 18,
   "metadata": {
    "scrolled": true
   },
   "outputs": [],
   "source": [
    "train_dtm_array=[]\n",
    "train_ohe_array=[]\n",
    "for corpus in train['okt']:\n",
    "    temp1=[0]*len(word_index)\n",
    "    temp2=[0]*len(word_index)\n",
    "    for word in corpus:\n",
    "        if word in word_index.keys():\n",
    "            temp1[word_index[word]]=+1\n",
    "            temp2[word_index[word]]=1\n",
    "    train_dtm_array.append(temp1)\n",
    "    train_ohe_array.append(temp2)"
   ]
  },
  {
   "cell_type": "code",
   "execution_count": 36,
   "metadata": {},
   "outputs": [],
   "source": [
    "train_dtm=pd.DataFrame(train_dtm_array,columns=word_index.keys())\n",
    "# train_dtm.to_csv('train_dtm.csv')\n",
    "train_ohe=pd.DataFrame(train_ohe_array,columns=word_index.keys())\n",
    "# train_ohe.to_csv('train_ohe.csv')"
   ]
  },
  {
   "cell_type": "code",
   "execution_count": 21,
   "metadata": {},
   "outputs": [],
   "source": [
    "test_dtm_array=[]\n",
    "test_ohe_array=[]\n",
    "for corpus in test['okt']:\n",
    "    temp1=[0]*len(word_index)\n",
    "    temp2=[0]*len(word_index)\n",
    "    for word in corpus:\n",
    "        if word in word_index.keys():\n",
    "            temp1[word_index[word]]=+1\n",
    "            temp2[word_index[word]]=1\n",
    "    test_dtm_array.append(temp1)\n",
    "    test_ohe_array.append(temp2)"
   ]
  },
  {
   "cell_type": "code",
   "execution_count": 37,
   "metadata": {},
   "outputs": [],
   "source": [
    "test_dtm=pd.DataFrame(test_dtm_array,columns=word_index.keys())\n",
    "# test_dtm.to_csv('test_dtm.csv')\n",
    "test_ohe=pd.DataFrame(test_ohe_array,columns=word_index.keys())\n",
    "# test_ohe.to_csv('test_ohe.csv')"
   ]
  },
  {
   "cell_type": "markdown",
   "metadata": {},
   "source": [
    "# xTrain yTrain xTest"
   ]
  },
  {
   "cell_type": "code",
   "execution_count": 38,
   "metadata": {},
   "outputs": [],
   "source": [
    "xTrain=np.array(train_ohe_array)\n",
    "yTrain=train['label'].values\n",
    "xTest=np.array(test_ohe_array)\n",
    "yTest=test['label'].values"
   ]
  },
  {
   "cell_type": "code",
   "execution_count": 39,
   "metadata": {},
   "outputs": [
    {
     "data": {
      "text/plain": [
       "array([0, 0, 1, ..., 0, 0, 1], dtype=int64)"
      ]
     },
     "execution_count": 39,
     "metadata": {},
     "output_type": "execute_result"
    }
   ],
   "source": [
    "yTrain"
   ]
  },
  {
   "cell_type": "markdown",
   "metadata": {},
   "source": [
    "# naive_bayes"
   ]
  },
  {
   "cell_type": "code",
   "execution_count": 40,
   "metadata": {},
   "outputs": [],
   "source": [
    "from sklearn.naive_bayes import CategoricalNB"
   ]
  },
  {
   "cell_type": "code",
   "execution_count": 41,
   "metadata": {},
   "outputs": [
    {
     "data": {
      "text/plain": [
       "CategoricalNB()"
      ]
     },
     "execution_count": 41,
     "metadata": {},
     "output_type": "execute_result"
    }
   ],
   "source": [
    "model=CategoricalNB()\n",
    "model.fit(xTrain, yTrain)"
   ]
  },
  {
   "cell_type": "code",
   "execution_count": 42,
   "metadata": {},
   "outputs": [],
   "source": [
    "pred_NB=model.predict(xTest)"
   ]
  },
  {
   "cell_type": "code",
   "execution_count": 43,
   "metadata": {},
   "outputs": [
    {
     "data": {
      "text/plain": [
       "0.9187"
      ]
     },
     "execution_count": 43,
     "metadata": {},
     "output_type": "execute_result"
    }
   ],
   "source": [
    "model.score(xTrain , yTrain)"
   ]
  },
  {
   "cell_type": "code",
   "execution_count": 44,
   "metadata": {},
   "outputs": [
    {
     "data": {
      "text/plain": [
       "0.893"
      ]
     },
     "execution_count": 44,
     "metadata": {},
     "output_type": "execute_result"
    }
   ],
   "source": [
    "test['pred_NB']=pred_NB\n",
    "(test['label']==test['pred_NB']).sum()/test.shape[0]"
   ]
  },
  {
   "cell_type": "markdown",
   "metadata": {},
   "source": [
    "# if-idf"
   ]
  },
  {
   "cell_type": "code",
   "execution_count": 45,
   "metadata": {},
   "outputs": [],
   "source": [
    "from sklearn.linear_model import LogisticRegression"
   ]
  },
  {
   "cell_type": "code",
   "execution_count": 46,
   "metadata": {},
   "outputs": [],
   "source": [
    "def tfidf(dtm):\n",
    "    n=dtm.shape[0]\n",
    "    c=(dtm!=0).sum(axis=0)\n",
    "    m=np.log(n/(c+1))\n",
    "    return m*dtm"
   ]
  },
  {
   "cell_type": "code",
   "execution_count": 47,
   "metadata": {},
   "outputs": [],
   "source": [
    "train_ifidf=tfidf(xTrain)\n",
    "test_ifidf=tfidf(xTest)"
   ]
  },
  {
   "cell_type": "markdown",
   "metadata": {},
   "source": [
    "# NB-SVM"
   ]
  },
  {
   "cell_type": "code",
   "execution_count": 48,
   "metadata": {},
   "outputs": [],
   "source": [
    "def pr(y_i, y):\n",
    "    p = train_dtm[y==y_i].sum(0)\n",
    "    return (p+1) / ((y==y_i).sum()+1)"
   ]
  },
  {
   "cell_type": "code",
   "execution_count": 49,
   "metadata": {},
   "outputs": [],
   "source": [
    "def get_mdl(y):\n",
    "    y = y.values\n",
    "    r = np.log(pr(1,y) / pr(0,y))\n",
    "    m = LogisticRegression()\n",
    "    x_nb = train_dtm.multiply(r)\n",
    "    return m.fit(x_nb, y), r"
   ]
  },
  {
   "cell_type": "code",
   "execution_count": 50,
   "metadata": {},
   "outputs": [],
   "source": [
    "m,r = get_mdl(train['label'])\n",
    "preds=m.predict_proba(test_dtm.multiply(r))"
   ]
  },
  {
   "cell_type": "code",
   "execution_count": 51,
   "metadata": {},
   "outputs": [
    {
     "data": {
      "text/plain": [
       "0.919"
      ]
     },
     "execution_count": 51,
     "metadata": {},
     "output_type": "execute_result"
    }
   ],
   "source": [
    "pred_NB_SVM=[]\n",
    "for i in preds:\n",
    "    pred_NB_SVM.append(i.argmax())\n",
    "\n",
    "test['pred_NB_SVM']=pred_NB_SVM\n",
    "(test['label']==test['pred_NB_SVM']).sum()/test.shape[0]"
   ]
  },
  {
   "cell_type": "markdown",
   "metadata": {},
   "source": [
    "# RNN"
   ]
  },
  {
   "cell_type": "code",
   "execution_count": 52,
   "metadata": {},
   "outputs": [],
   "source": [
    "from keras.models import Sequential \n",
    "from keras.layers import Dense\n",
    "from keras import optimizers\n",
    "from keras.models import load_model"
   ]
  },
  {
   "cell_type": "code",
   "execution_count": 53,
   "metadata": {},
   "outputs": [],
   "source": [
    "model=Sequential()\n",
    "model.add(Dense(2048,input_shape=(xTrain.shape[1],) ,activation='relu'))\n",
    "model.add(Dense(512,activation='relu'))\n",
    "model.add(Dense(64,activation='relu'))\n",
    "model.add(Dense(8,activation='relu'))\n",
    "model.add(Dense(2,activation='sigmoid'))"
   ]
  },
  {
   "cell_type": "code",
   "execution_count": 54,
   "metadata": {},
   "outputs": [],
   "source": [
    "model.compile(optimizer='sgd',\n",
    "             loss='binary_crossentropy',\n",
    "             metrics=['accuracy'])"
   ]
  },
  {
   "cell_type": "code",
   "execution_count": 55,
   "metadata": {},
   "outputs": [
    {
     "data": {
      "text/plain": [
       "array([[ True, False],\n",
       "       [ True, False],\n",
       "       [False,  True],\n",
       "       ...,\n",
       "       [ True, False],\n",
       "       [ True, False],\n",
       "       [False,  True]])"
      ]
     },
     "execution_count": 55,
     "metadata": {},
     "output_type": "execute_result"
    }
   ],
   "source": [
    "train['none']=train['label']==0\n",
    "train['hate']=train['label']==1\n",
    "yTrain=train[['none','hate']].values\n",
    "yTrain"
   ]
  },
  {
   "cell_type": "code",
   "execution_count": 56,
   "metadata": {},
   "outputs": [],
   "source": [
    "x_val = xTrain[:2000]\n",
    "partial_x_train = xTrain[2000:]\n",
    "\n",
    "y_val = yTrain[:2000]\n",
    "partial_y_train = yTrain[2000:]"
   ]
  },
  {
   "cell_type": "code",
   "execution_count": 57,
   "metadata": {},
   "outputs": [
    {
     "name": "stdout",
     "output_type": "stream",
     "text": [
      "Epoch 1/300\n",
      "36/36 [==============================] - 5s 142ms/step - loss: 0.6926 - accuracy: 0.5289 - val_loss: 0.6925 - val_accuracy: 0.5270\n",
      "Epoch 2/300\n",
      "36/36 [==============================] - 5s 137ms/step - loss: 0.6921 - accuracy: 0.5290 - val_loss: 0.6919 - val_accuracy: 0.5270\n",
      "Epoch 3/300\n",
      "36/36 [==============================] - 5s 137ms/step - loss: 0.6912 - accuracy: 0.5290 - val_loss: 0.6910 - val_accuracy: 0.5270\n",
      "Epoch 4/300\n",
      "36/36 [==============================] - 5s 140ms/step - loss: 0.6902 - accuracy: 0.5290 - val_loss: 0.6900 - val_accuracy: 0.5270\n",
      "Epoch 5/300\n",
      "36/36 [==============================] - 5s 138ms/step - loss: 0.6892 - accuracy: 0.5290 - val_loss: 0.6892 - val_accuracy: 0.5270\n",
      "Epoch 6/300\n",
      "36/36 [==============================] - 5s 137ms/step - loss: 0.6883 - accuracy: 0.5290 - val_loss: 0.6883 - val_accuracy: 0.5270\n",
      "Epoch 7/300\n",
      "36/36 [==============================] - 5s 138ms/step - loss: 0.6873 - accuracy: 0.5290 - val_loss: 0.6873 - val_accuracy: 0.5270\n",
      "Epoch 8/300\n",
      "36/36 [==============================] - 5s 142ms/step - loss: 0.6862 - accuracy: 0.5290 - val_loss: 0.6863 - val_accuracy: 0.5270\n",
      "Epoch 9/300\n",
      "36/36 [==============================] - 5s 148ms/step - loss: 0.6850 - accuracy: 0.5290 - val_loss: 0.6851 - val_accuracy: 0.5270\n",
      "Epoch 10/300\n",
      "36/36 [==============================] - 5s 147ms/step - loss: 0.6836 - accuracy: 0.5290 - val_loss: 0.6838 - val_accuracy: 0.5270\n",
      "Epoch 11/300\n",
      "36/36 [==============================] - 5s 149ms/step - loss: 0.6821 - accuracy: 0.5290 - val_loss: 0.6823 - val_accuracy: 0.5270\n",
      "Epoch 12/300\n",
      "36/36 [==============================] - 5s 147ms/step - loss: 0.6803 - accuracy: 0.5290 - val_loss: 0.6806 - val_accuracy: 0.5270\n",
      "Epoch 13/300\n",
      "36/36 [==============================] - 5s 143ms/step - loss: 0.6784 - accuracy: 0.5291 - val_loss: 0.6786 - val_accuracy: 0.5270\n",
      "Epoch 14/300\n",
      "36/36 [==============================] - 5s 144ms/step - loss: 0.6762 - accuracy: 0.5291 - val_loss: 0.6765 - val_accuracy: 0.5270\n",
      "Epoch 15/300\n",
      "36/36 [==============================] - 5s 143ms/step - loss: 0.6738 - accuracy: 0.5292 - val_loss: 0.6740 - val_accuracy: 0.5270\n",
      "Epoch 16/300\n",
      "36/36 [==============================] - 5s 146ms/step - loss: 0.6710 - accuracy: 0.5298 - val_loss: 0.6713 - val_accuracy: 0.5275\n",
      "Epoch 17/300\n",
      "36/36 [==============================] - 5s 144ms/step - loss: 0.6679 - accuracy: 0.5318 - val_loss: 0.6682 - val_accuracy: 0.5305\n",
      "Epoch 18/300\n",
      "36/36 [==============================] - 5s 143ms/step - loss: 0.6645 - accuracy: 0.5386 - val_loss: 0.6648 - val_accuracy: 0.5415\n",
      "Epoch 19/300\n",
      "36/36 [==============================] - 5s 146ms/step - loss: 0.6607 - accuracy: 0.5524 - val_loss: 0.6610 - val_accuracy: 0.5575\n",
      "Epoch 20/300\n",
      "36/36 [==============================] - 5s 143ms/step - loss: 0.6564 - accuracy: 0.5665 - val_loss: 0.6569 - val_accuracy: 0.5960\n",
      "Epoch 21/300\n",
      "36/36 [==============================] - 5s 143ms/step - loss: 0.6518 - accuracy: 0.6043 - val_loss: 0.6522 - val_accuracy: 0.6160\n",
      "Epoch 22/300\n",
      "36/36 [==============================] - 5s 143ms/step - loss: 0.6465 - accuracy: 0.6248 - val_loss: 0.6471 - val_accuracy: 0.6420\n",
      "Epoch 23/300\n",
      "36/36 [==============================] - 5s 143ms/step - loss: 0.6407 - accuracy: 0.6571 - val_loss: 0.6414 - val_accuracy: 0.6730\n",
      "Epoch 24/300\n",
      "36/36 [==============================] - 5s 143ms/step - loss: 0.6344 - accuracy: 0.6818 - val_loss: 0.6350 - val_accuracy: 0.6940\n",
      "Epoch 25/300\n",
      "36/36 [==============================] - 5s 143ms/step - loss: 0.6274 - accuracy: 0.7041 - val_loss: 0.6281 - val_accuracy: 0.7230\n",
      "Epoch 26/300\n",
      "36/36 [==============================] - 5s 146ms/step - loss: 0.6197 - accuracy: 0.7335 - val_loss: 0.6206 - val_accuracy: 0.7400\n",
      "Epoch 27/300\n",
      "36/36 [==============================] - 5s 144ms/step - loss: 0.6114 - accuracy: 0.7518 - val_loss: 0.6124 - val_accuracy: 0.7585\n",
      "Epoch 28/300\n",
      "36/36 [==============================] - 5s 145ms/step - loss: 0.6023 - accuracy: 0.7779 - val_loss: 0.6035 - val_accuracy: 0.7765\n",
      "Epoch 29/300\n",
      "36/36 [==============================] - 5s 143ms/step - loss: 0.5925 - accuracy: 0.7960 - val_loss: 0.5940 - val_accuracy: 0.8010\n",
      "Epoch 30/300\n",
      "36/36 [==============================] - 5s 145ms/step - loss: 0.5821 - accuracy: 0.8170 - val_loss: 0.5838 - val_accuracy: 0.8170\n",
      "Epoch 31/300\n",
      "36/36 [==============================] - 5s 143ms/step - loss: 0.5708 - accuracy: 0.8286 - val_loss: 0.5729 - val_accuracy: 0.8210\n",
      "Epoch 32/300\n",
      "36/36 [==============================] - 5s 143ms/step - loss: 0.5590 - accuracy: 0.8347 - val_loss: 0.5615 - val_accuracy: 0.8220\n",
      "Epoch 33/300\n",
      "36/36 [==============================] - 5s 145ms/step - loss: 0.5467 - accuracy: 0.8379 - val_loss: 0.5497 - val_accuracy: 0.8315\n",
      "Epoch 34/300\n",
      "36/36 [==============================] - 5s 145ms/step - loss: 0.5340 - accuracy: 0.8414 - val_loss: 0.5377 - val_accuracy: 0.8245\n",
      "Epoch 35/300\n",
      "36/36 [==============================] - 5s 146ms/step - loss: 0.5210 - accuracy: 0.8415 - val_loss: 0.5252 - val_accuracy: 0.8265\n",
      "Epoch 36/300\n",
      "36/36 [==============================] - 5s 147ms/step - loss: 0.5077 - accuracy: 0.8426 - val_loss: 0.5126 - val_accuracy: 0.8285\n",
      "Epoch 37/300\n",
      "36/36 [==============================] - 5s 147ms/step - loss: 0.4944 - accuracy: 0.8431 - val_loss: 0.5000 - val_accuracy: 0.8315\n",
      "Epoch 38/300\n",
      "36/36 [==============================] - 5s 149ms/step - loss: 0.4811 - accuracy: 0.8446 - val_loss: 0.4874 - val_accuracy: 0.8255\n",
      "Epoch 39/300\n",
      "36/36 [==============================] - 5s 148ms/step - loss: 0.4679 - accuracy: 0.8449 - val_loss: 0.4749 - val_accuracy: 0.8290\n",
      "Epoch 40/300\n",
      "36/36 [==============================] - 5s 148ms/step - loss: 0.4547 - accuracy: 0.8455 - val_loss: 0.4626 - val_accuracy: 0.8295\n",
      "Epoch 41/300\n",
      "36/36 [==============================] - 5s 146ms/step - loss: 0.4418 - accuracy: 0.8464 - val_loss: 0.4505 - val_accuracy: 0.8360\n",
      "Epoch 42/300\n",
      "36/36 [==============================] - 5s 145ms/step - loss: 0.4291 - accuracy: 0.8495 - val_loss: 0.4386 - val_accuracy: 0.8390\n",
      "Epoch 43/300\n",
      "36/36 [==============================] - 5s 146ms/step - loss: 0.4166 - accuracy: 0.8545 - val_loss: 0.4268 - val_accuracy: 0.8340\n",
      "Epoch 44/300\n",
      "36/36 [==============================] - 5s 143ms/step - loss: 0.4044 - accuracy: 0.8547 - val_loss: 0.4154 - val_accuracy: 0.8390\n",
      "Epoch 45/300\n",
      "36/36 [==============================] - 5s 145ms/step - loss: 0.3926 - accuracy: 0.8576 - val_loss: 0.4044 - val_accuracy: 0.8420\n",
      "Epoch 46/300\n",
      "36/36 [==============================] - 5s 145ms/step - loss: 0.3811 - accuracy: 0.8613 - val_loss: 0.3936 - val_accuracy: 0.8455\n",
      "Epoch 47/300\n",
      "36/36 [==============================] - 5s 143ms/step - loss: 0.3700 - accuracy: 0.8649 - val_loss: 0.3834 - val_accuracy: 0.8480\n",
      "Epoch 48/300\n",
      "36/36 [==============================] - 5s 143ms/step - loss: 0.3592 - accuracy: 0.8697 - val_loss: 0.3744 - val_accuracy: 0.8430\n",
      "Epoch 49/300\n",
      "36/36 [==============================] - 5s 144ms/step - loss: 0.3491 - accuracy: 0.8708 - val_loss: 0.3644 - val_accuracy: 0.8515\n",
      "Epoch 50/300\n",
      "36/36 [==============================] - 5s 144ms/step - loss: 0.3391 - accuracy: 0.8760 - val_loss: 0.3556 - val_accuracy: 0.8545\n",
      "Epoch 51/300\n",
      "36/36 [==============================] - 5s 146ms/step - loss: 0.3297 - accuracy: 0.8783 - val_loss: 0.3477 - val_accuracy: 0.8570\n",
      "Epoch 52/300\n",
      "36/36 [==============================] - 5s 145ms/step - loss: 0.3209 - accuracy: 0.8805 - val_loss: 0.3397 - val_accuracy: 0.8625\n",
      "Epoch 53/300\n",
      "36/36 [==============================] - 5s 145ms/step - loss: 0.3125 - accuracy: 0.8843 - val_loss: 0.3325 - val_accuracy: 0.8625\n",
      "Epoch 54/300\n",
      "36/36 [==============================] - 5s 144ms/step - loss: 0.3045 - accuracy: 0.8863 - val_loss: 0.3257 - val_accuracy: 0.8665\n",
      "Epoch 55/300\n",
      "36/36 [==============================] - 5s 145ms/step - loss: 0.2970 - accuracy: 0.8887 - val_loss: 0.3195 - val_accuracy: 0.8685\n",
      "Epoch 56/300\n",
      "36/36 [==============================] - 5s 147ms/step - loss: 0.2898 - accuracy: 0.8911 - val_loss: 0.3149 - val_accuracy: 0.8680\n",
      "Epoch 57/300\n",
      "36/36 [==============================] - 5s 145ms/step - loss: 0.2832 - accuracy: 0.8922 - val_loss: 0.3082 - val_accuracy: 0.8715\n"
     ]
    },
    {
     "name": "stdout",
     "output_type": "stream",
     "text": [
      "Epoch 58/300\n",
      "36/36 [==============================] - 5s 145ms/step - loss: 0.2767 - accuracy: 0.8954 - val_loss: 0.3038 - val_accuracy: 0.8730\n",
      "Epoch 59/300\n",
      "36/36 [==============================] - 5s 144ms/step - loss: 0.2707 - accuracy: 0.8960 - val_loss: 0.2982 - val_accuracy: 0.8755\n",
      "Epoch 60/300\n",
      "36/36 [==============================] - 5s 143ms/step - loss: 0.2650 - accuracy: 0.8989 - val_loss: 0.2938 - val_accuracy: 0.8780\n",
      "Epoch 61/300\n",
      "36/36 [==============================] - 5s 145ms/step - loss: 0.2594 - accuracy: 0.9024 - val_loss: 0.2904 - val_accuracy: 0.8770\n",
      "Epoch 62/300\n",
      "36/36 [==============================] - 5s 143ms/step - loss: 0.2544 - accuracy: 0.9021 - val_loss: 0.2859 - val_accuracy: 0.8815\n",
      "Epoch 63/300\n",
      "36/36 [==============================] - 5s 144ms/step - loss: 0.2494 - accuracy: 0.9049 - val_loss: 0.2834 - val_accuracy: 0.8855\n",
      "Epoch 64/300\n",
      "36/36 [==============================] - 5s 147ms/step - loss: 0.2449 - accuracy: 0.9077 - val_loss: 0.2796 - val_accuracy: 0.8820\n",
      "Epoch 65/300\n",
      "36/36 [==============================] - 5s 144ms/step - loss: 0.2403 - accuracy: 0.9072 - val_loss: 0.2774 - val_accuracy: 0.8795\n",
      "Epoch 66/300\n",
      "36/36 [==============================] - 5s 144ms/step - loss: 0.2360 - accuracy: 0.9090 - val_loss: 0.2732 - val_accuracy: 0.8850\n",
      "Epoch 67/300\n",
      "36/36 [==============================] - 5s 144ms/step - loss: 0.2319 - accuracy: 0.9106 - val_loss: 0.2702 - val_accuracy: 0.8880\n",
      "Epoch 68/300\n",
      "36/36 [==============================] - 5s 143ms/step - loss: 0.2279 - accuracy: 0.9129 - val_loss: 0.2684 - val_accuracy: 0.8865\n",
      "Epoch 69/300\n",
      "36/36 [==============================] - 5s 142ms/step - loss: 0.2240 - accuracy: 0.9134 - val_loss: 0.2671 - val_accuracy: 0.8840\n",
      "Epoch 70/300\n",
      "36/36 [==============================] - 5s 142ms/step - loss: 0.2204 - accuracy: 0.9143 - val_loss: 0.2639 - val_accuracy: 0.8895\n",
      "Epoch 71/300\n",
      "36/36 [==============================] - 5s 143ms/step - loss: 0.2168 - accuracy: 0.9170 - val_loss: 0.2623 - val_accuracy: 0.8905\n",
      "Epoch 72/300\n",
      "36/36 [==============================] - 5s 142ms/step - loss: 0.2134 - accuracy: 0.9175 - val_loss: 0.2588 - val_accuracy: 0.8940\n",
      "Epoch 73/300\n",
      "36/36 [==============================] - 5s 142ms/step - loss: 0.2100 - accuracy: 0.9189 - val_loss: 0.2572 - val_accuracy: 0.8925\n",
      "Epoch 74/300\n",
      "36/36 [==============================] - 5s 142ms/step - loss: 0.2067 - accuracy: 0.9202 - val_loss: 0.2547 - val_accuracy: 0.8955\n",
      "Epoch 75/300\n",
      "36/36 [==============================] - 5s 143ms/step - loss: 0.2038 - accuracy: 0.9216 - val_loss: 0.2535 - val_accuracy: 0.8965\n",
      "Epoch 76/300\n",
      "36/36 [==============================] - 5s 142ms/step - loss: 0.2005 - accuracy: 0.9227 - val_loss: 0.2558 - val_accuracy: 0.8885\n",
      "Epoch 77/300\n",
      "36/36 [==============================] - 5s 142ms/step - loss: 0.1979 - accuracy: 0.9232 - val_loss: 0.2501 - val_accuracy: 0.8985\n",
      "Epoch 78/300\n",
      "36/36 [==============================] - 5s 142ms/step - loss: 0.1946 - accuracy: 0.9253 - val_loss: 0.2490 - val_accuracy: 0.9000\n",
      "Epoch 79/300\n",
      "36/36 [==============================] - 5s 142ms/step - loss: 0.1918 - accuracy: 0.9268 - val_loss: 0.2522 - val_accuracy: 0.8940\n",
      "Epoch 80/300\n",
      "36/36 [==============================] - 5s 142ms/step - loss: 0.1891 - accuracy: 0.9278 - val_loss: 0.2469 - val_accuracy: 0.9005\n",
      "Epoch 81/300\n",
      "36/36 [==============================] - 5s 142ms/step - loss: 0.1863 - accuracy: 0.9282 - val_loss: 0.2445 - val_accuracy: 0.8975\n",
      "Epoch 82/300\n",
      "36/36 [==============================] - 5s 142ms/step - loss: 0.1834 - accuracy: 0.9299 - val_loss: 0.2519 - val_accuracy: 0.8930\n",
      "Epoch 83/300\n",
      "36/36 [==============================] - 5s 143ms/step - loss: 0.1811 - accuracy: 0.9299 - val_loss: 0.2418 - val_accuracy: 0.9000\n",
      "Epoch 84/300\n",
      "36/36 [==============================] - 5s 142ms/step - loss: 0.1783 - accuracy: 0.9322 - val_loss: 0.2419 - val_accuracy: 0.9000\n",
      "Epoch 85/300\n",
      "36/36 [==============================] - 5s 142ms/step - loss: 0.1758 - accuracy: 0.9331 - val_loss: 0.2394 - val_accuracy: 0.9010\n",
      "Epoch 86/300\n",
      "36/36 [==============================] - 5s 142ms/step - loss: 0.1733 - accuracy: 0.9338 - val_loss: 0.2403 - val_accuracy: 0.9020\n",
      "Epoch 87/300\n",
      "36/36 [==============================] - 5s 142ms/step - loss: 0.1707 - accuracy: 0.9348 - val_loss: 0.2374 - val_accuracy: 0.9010\n",
      "Epoch 88/300\n",
      "36/36 [==============================] - 5s 143ms/step - loss: 0.1683 - accuracy: 0.9364 - val_loss: 0.2367 - val_accuracy: 0.9035\n",
      "Epoch 89/300\n",
      "36/36 [==============================] - 5s 142ms/step - loss: 0.1660 - accuracy: 0.9376 - val_loss: 0.2354 - val_accuracy: 0.9030\n",
      "Epoch 90/300\n",
      "36/36 [==============================] - 5s 142ms/step - loss: 0.1637 - accuracy: 0.9391 - val_loss: 0.2346 - val_accuracy: 0.9040\n",
      "Epoch 91/300\n",
      "36/36 [==============================] - 5s 142ms/step - loss: 0.1613 - accuracy: 0.9403 - val_loss: 0.2408 - val_accuracy: 0.9020\n",
      "Epoch 92/300\n",
      "36/36 [==============================] - 5s 142ms/step - loss: 0.1592 - accuracy: 0.9409 - val_loss: 0.2342 - val_accuracy: 0.9040\n",
      "Epoch 93/300\n",
      "36/36 [==============================] - 5s 142ms/step - loss: 0.1570 - accuracy: 0.9418 - val_loss: 0.2320 - val_accuracy: 0.9060\n",
      "Epoch 94/300\n",
      "36/36 [==============================] - 5s 143ms/step - loss: 0.1546 - accuracy: 0.9431 - val_loss: 0.2314 - val_accuracy: 0.9055\n",
      "Epoch 95/300\n",
      "36/36 [==============================] - 5s 142ms/step - loss: 0.1523 - accuracy: 0.9447 - val_loss: 0.2311 - val_accuracy: 0.9065\n",
      "Epoch 96/300\n",
      "36/36 [==============================] - 5s 142ms/step - loss: 0.1502 - accuracy: 0.9459 - val_loss: 0.2305 - val_accuracy: 0.9075\n",
      "Epoch 97/300\n",
      "36/36 [==============================] - 5s 142ms/step - loss: 0.1480 - accuracy: 0.9462 - val_loss: 0.2405 - val_accuracy: 0.9015\n",
      "Epoch 98/300\n",
      "36/36 [==============================] - 5s 143ms/step - loss: 0.1463 - accuracy: 0.9467 - val_loss: 0.2304 - val_accuracy: 0.9075\n",
      "Epoch 99/300\n",
      "36/36 [==============================] - 5s 142ms/step - loss: 0.1441 - accuracy: 0.9481 - val_loss: 0.2307 - val_accuracy: 0.9045\n",
      "Epoch 100/300\n",
      "36/36 [==============================] - 5s 142ms/step - loss: 0.1419 - accuracy: 0.9487 - val_loss: 0.2327 - val_accuracy: 0.9060\n",
      "Epoch 101/300\n",
      "36/36 [==============================] - 5s 142ms/step - loss: 0.1400 - accuracy: 0.9499 - val_loss: 0.2294 - val_accuracy: 0.9065\n",
      "Epoch 102/300\n",
      "36/36 [==============================] - 5s 142ms/step - loss: 0.1379 - accuracy: 0.9513 - val_loss: 0.2275 - val_accuracy: 0.9080\n",
      "Epoch 103/300\n",
      "36/36 [==============================] - 5s 142ms/step - loss: 0.1359 - accuracy: 0.9522 - val_loss: 0.2281 - val_accuracy: 0.9065\n",
      "Epoch 104/300\n",
      "36/36 [==============================] - 5s 142ms/step - loss: 0.1338 - accuracy: 0.9526 - val_loss: 0.2287 - val_accuracy: 0.9065\n",
      "Epoch 105/300\n",
      "36/36 [==============================] - 5s 143ms/step - loss: 0.1321 - accuracy: 0.9532 - val_loss: 0.2273 - val_accuracy: 0.9080\n",
      "Epoch 106/300\n",
      "36/36 [==============================] - 5s 142ms/step - loss: 0.1302 - accuracy: 0.9546 - val_loss: 0.2265 - val_accuracy: 0.9080\n",
      "Epoch 107/300\n",
      "36/36 [==============================] - 5s 142ms/step - loss: 0.1283 - accuracy: 0.9556 - val_loss: 0.2272 - val_accuracy: 0.9080\n",
      "Epoch 108/300\n",
      "36/36 [==============================] - 5s 142ms/step - loss: 0.1264 - accuracy: 0.9561 - val_loss: 0.2273 - val_accuracy: 0.9070\n",
      "Epoch 109/300\n",
      "36/36 [==============================] - 5s 142ms/step - loss: 0.1246 - accuracy: 0.9572 - val_loss: 0.2257 - val_accuracy: 0.9090\n",
      "Epoch 110/300\n",
      "36/36 [==============================] - 5s 142ms/step - loss: 0.1229 - accuracy: 0.9578 - val_loss: 0.2276 - val_accuracy: 0.9080\n",
      "Epoch 111/300\n",
      "36/36 [==============================] - 5s 142ms/step - loss: 0.1210 - accuracy: 0.9590 - val_loss: 0.2262 - val_accuracy: 0.9070\n",
      "Epoch 112/300\n",
      "36/36 [==============================] - 5s 142ms/step - loss: 0.1194 - accuracy: 0.9594 - val_loss: 0.2256 - val_accuracy: 0.9080\n",
      "Epoch 113/300\n",
      "36/36 [==============================] - 5s 142ms/step - loss: 0.1175 - accuracy: 0.9608 - val_loss: 0.2265 - val_accuracy: 0.9100\n",
      "Epoch 114/300\n",
      "36/36 [==============================] - 5s 142ms/step - loss: 0.1158 - accuracy: 0.9613 - val_loss: 0.2256 - val_accuracy: 0.9080\n"
     ]
    },
    {
     "name": "stdout",
     "output_type": "stream",
     "text": [
      "Epoch 115/300\n",
      "36/36 [==============================] - 5s 142ms/step - loss: 0.1142 - accuracy: 0.9620 - val_loss: 0.2284 - val_accuracy: 0.9075\n",
      "Epoch 116/300\n",
      "36/36 [==============================] - 5s 142ms/step - loss: 0.1126 - accuracy: 0.9626 - val_loss: 0.2250 - val_accuracy: 0.9095\n",
      "Epoch 117/300\n",
      "36/36 [==============================] - 5s 142ms/step - loss: 0.1109 - accuracy: 0.9640 - val_loss: 0.2271 - val_accuracy: 0.9085\n",
      "Epoch 118/300\n",
      "36/36 [==============================] - 5s 142ms/step - loss: 0.1092 - accuracy: 0.9648 - val_loss: 0.2264 - val_accuracy: 0.9080\n",
      "Epoch 119/300\n",
      "36/36 [==============================] - 5s 142ms/step - loss: 0.1076 - accuracy: 0.9649 - val_loss: 0.2253 - val_accuracy: 0.9105\n",
      "Epoch 120/300\n",
      "36/36 [==============================] - 5s 142ms/step - loss: 0.1059 - accuracy: 0.9661 - val_loss: 0.2257 - val_accuracy: 0.9070\n",
      "Epoch 121/300\n",
      "36/36 [==============================] - 5s 142ms/step - loss: 0.1046 - accuracy: 0.9667 - val_loss: 0.2339 - val_accuracy: 0.9050\n",
      "Epoch 122/300\n",
      "36/36 [==============================] - 5s 142ms/step - loss: 0.1031 - accuracy: 0.9674 - val_loss: 0.2272 - val_accuracy: 0.9095\n",
      "Epoch 123/300\n",
      "36/36 [==============================] - 5s 142ms/step - loss: 0.1013 - accuracy: 0.9681 - val_loss: 0.2299 - val_accuracy: 0.9070\n",
      "Epoch 124/300\n",
      "36/36 [==============================] - 5s 142ms/step - loss: 0.0998 - accuracy: 0.9680 - val_loss: 0.2452 - val_accuracy: 0.9030\n",
      "Epoch 125/300\n",
      "36/36 [==============================] - 5s 142ms/step - loss: 0.0990 - accuracy: 0.9687 - val_loss: 0.2267 - val_accuracy: 0.9100\n",
      "Epoch 126/300\n",
      "36/36 [==============================] - 5s 142ms/step - loss: 0.0970 - accuracy: 0.9695 - val_loss: 0.2306 - val_accuracy: 0.9075\n",
      "Epoch 127/300\n",
      "36/36 [==============================] - 5s 142ms/step - loss: 0.0955 - accuracy: 0.9701 - val_loss: 0.2271 - val_accuracy: 0.9090\n",
      "Epoch 128/300\n",
      "36/36 [==============================] - 5s 142ms/step - loss: 0.0941 - accuracy: 0.9709 - val_loss: 0.2278 - val_accuracy: 0.9115\n",
      "Epoch 129/300\n",
      "36/36 [==============================] - 5s 142ms/step - loss: 0.0925 - accuracy: 0.9723 - val_loss: 0.2289 - val_accuracy: 0.9100\n",
      "Epoch 130/300\n",
      "36/36 [==============================] - 5s 142ms/step - loss: 0.0913 - accuracy: 0.9719 - val_loss: 0.2285 - val_accuracy: 0.9115\n",
      "Epoch 131/300\n",
      "36/36 [==============================] - 5s 143ms/step - loss: 0.0900 - accuracy: 0.9726 - val_loss: 0.2307 - val_accuracy: 0.9055\n",
      "Epoch 132/300\n",
      "36/36 [==============================] - 5s 143ms/step - loss: 0.0886 - accuracy: 0.9727 - val_loss: 0.2292 - val_accuracy: 0.9105\n",
      "Epoch 133/300\n",
      "36/36 [==============================] - 5s 143ms/step - loss: 0.0871 - accuracy: 0.9744 - val_loss: 0.2309 - val_accuracy: 0.9085\n",
      "Epoch 134/300\n",
      "36/36 [==============================] - 5s 143ms/step - loss: 0.0858 - accuracy: 0.9739 - val_loss: 0.2297 - val_accuracy: 0.9085\n",
      "Epoch 135/300\n",
      "36/36 [==============================] - 5s 143ms/step - loss: 0.0847 - accuracy: 0.9748 - val_loss: 0.2309 - val_accuracy: 0.9095\n",
      "Epoch 136/300\n",
      "36/36 [==============================] - 5s 143ms/step - loss: 0.0833 - accuracy: 0.9751 - val_loss: 0.2312 - val_accuracy: 0.9100\n",
      "Epoch 137/300\n",
      "36/36 [==============================] - 5s 143ms/step - loss: 0.0823 - accuracy: 0.9754 - val_loss: 0.2341 - val_accuracy: 0.9040\n",
      "Epoch 138/300\n",
      "36/36 [==============================] - 5s 143ms/step - loss: 0.0810 - accuracy: 0.9760 - val_loss: 0.2331 - val_accuracy: 0.9040\n",
      "Epoch 139/300\n",
      "36/36 [==============================] - 5s 143ms/step - loss: 0.0798 - accuracy: 0.9766 - val_loss: 0.2385 - val_accuracy: 0.9100\n",
      "Epoch 140/300\n",
      "36/36 [==============================] - 5s 143ms/step - loss: 0.0785 - accuracy: 0.9773 - val_loss: 0.2329 - val_accuracy: 0.9090\n",
      "Epoch 141/300\n",
      "36/36 [==============================] - 5s 143ms/step - loss: 0.0773 - accuracy: 0.9780 - val_loss: 0.2331 - val_accuracy: 0.9100\n",
      "Epoch 142/300\n",
      "36/36 [==============================] - 5s 143ms/step - loss: 0.0761 - accuracy: 0.9781 - val_loss: 0.2337 - val_accuracy: 0.9090\n",
      "Epoch 143/300\n",
      "36/36 [==============================] - 5s 143ms/step - loss: 0.0752 - accuracy: 0.9784 - val_loss: 0.2344 - val_accuracy: 0.9075\n",
      "Epoch 144/300\n",
      "36/36 [==============================] - 5s 143ms/step - loss: 0.0740 - accuracy: 0.9791 - val_loss: 0.2351 - val_accuracy: 0.9075\n",
      "Epoch 145/300\n",
      "36/36 [==============================] - 5s 143ms/step - loss: 0.0727 - accuracy: 0.9793 - val_loss: 0.2389 - val_accuracy: 0.9095\n",
      "Epoch 146/300\n",
      "36/36 [==============================] - 5s 143ms/step - loss: 0.0720 - accuracy: 0.9796 - val_loss: 0.2362 - val_accuracy: 0.9075\n",
      "Epoch 147/300\n",
      "36/36 [==============================] - 5s 143ms/step - loss: 0.0708 - accuracy: 0.9798 - val_loss: 0.2367 - val_accuracy: 0.9075\n",
      "Epoch 148/300\n",
      "36/36 [==============================] - 5s 144ms/step - loss: 0.0696 - accuracy: 0.9808 - val_loss: 0.2379 - val_accuracy: 0.9090\n",
      "Epoch 149/300\n",
      "36/36 [==============================] - 5s 146ms/step - loss: 0.0686 - accuracy: 0.9810 - val_loss: 0.2378 - val_accuracy: 0.9070\n",
      "Epoch 150/300\n",
      "36/36 [==============================] - 5s 149ms/step - loss: 0.0676 - accuracy: 0.9817 - val_loss: 0.2396 - val_accuracy: 0.9070\n",
      "Epoch 151/300\n",
      "36/36 [==============================] - 5s 148ms/step - loss: 0.0667 - accuracy: 0.9814 - val_loss: 0.2421 - val_accuracy: 0.9095\n",
      "Epoch 152/300\n",
      "36/36 [==============================] - 5s 148ms/step - loss: 0.0659 - accuracy: 0.9817 - val_loss: 0.2402 - val_accuracy: 0.9055\n",
      "Epoch 153/300\n",
      "36/36 [==============================] - 5s 150ms/step - loss: 0.0649 - accuracy: 0.9821 - val_loss: 0.2409 - val_accuracy: 0.9065\n",
      "Epoch 154/300\n",
      "36/36 [==============================] - 5s 149ms/step - loss: 0.0642 - accuracy: 0.9823 - val_loss: 0.2412 - val_accuracy: 0.9070\n",
      "Epoch 155/300\n",
      "36/36 [==============================] - 5s 149ms/step - loss: 0.0629 - accuracy: 0.9834 - val_loss: 0.2423 - val_accuracy: 0.9075\n",
      "Epoch 156/300\n",
      "36/36 [==============================] - 5s 148ms/step - loss: 0.0620 - accuracy: 0.9832 - val_loss: 0.2426 - val_accuracy: 0.9070\n",
      "Epoch 157/300\n",
      "36/36 [==============================] - 5s 148ms/step - loss: 0.0611 - accuracy: 0.9829 - val_loss: 0.2447 - val_accuracy: 0.9085\n",
      "Epoch 158/300\n",
      "36/36 [==============================] - 5s 148ms/step - loss: 0.0604 - accuracy: 0.9838 - val_loss: 0.2441 - val_accuracy: 0.9065\n",
      "Epoch 159/300\n",
      "36/36 [==============================] - 5s 149ms/step - loss: 0.0598 - accuracy: 0.9834 - val_loss: 0.2453 - val_accuracy: 0.9070\n",
      "Epoch 160/300\n",
      "36/36 [==============================] - 5s 147ms/step - loss: 0.0587 - accuracy: 0.9839 - val_loss: 0.2458 - val_accuracy: 0.9065\n",
      "Epoch 161/300\n",
      "36/36 [==============================] - 5s 148ms/step - loss: 0.0578 - accuracy: 0.9839 - val_loss: 0.2475 - val_accuracy: 0.9085\n",
      "Epoch 162/300\n",
      "36/36 [==============================] - 5s 147ms/step - loss: 0.0571 - accuracy: 0.9849 - val_loss: 0.2504 - val_accuracy: 0.9040\n",
      "Epoch 163/300\n",
      "36/36 [==============================] - 5s 148ms/step - loss: 0.0565 - accuracy: 0.9849 - val_loss: 0.2507 - val_accuracy: 0.9080\n",
      "Epoch 164/300\n",
      "36/36 [==============================] - 5s 147ms/step - loss: 0.0556 - accuracy: 0.9847 - val_loss: 0.2556 - val_accuracy: 0.9100\n",
      "Epoch 165/300\n",
      "36/36 [==============================] - 5s 149ms/step - loss: 0.0548 - accuracy: 0.9853 - val_loss: 0.2506 - val_accuracy: 0.9080\n",
      "Epoch 166/300\n",
      "36/36 [==============================] - 5s 147ms/step - loss: 0.0539 - accuracy: 0.9852 - val_loss: 0.2504 - val_accuracy: 0.9045\n",
      "Epoch 167/300\n",
      "36/36 [==============================] - 5s 147ms/step - loss: 0.0533 - accuracy: 0.9853 - val_loss: 0.2504 - val_accuracy: 0.9035\n",
      "Epoch 168/300\n",
      "36/36 [==============================] - 5s 147ms/step - loss: 0.0527 - accuracy: 0.9854 - val_loss: 0.2574 - val_accuracy: 0.9090\n",
      "Epoch 169/300\n",
      "36/36 [==============================] - 5s 148ms/step - loss: 0.0522 - accuracy: 0.9859 - val_loss: 0.2580 - val_accuracy: 0.9095\n",
      "Epoch 170/300\n",
      "36/36 [==============================] - 5s 147ms/step - loss: 0.0513 - accuracy: 0.9858 - val_loss: 0.2536 - val_accuracy: 0.9070\n",
      "Epoch 171/300\n"
     ]
    },
    {
     "name": "stdout",
     "output_type": "stream",
     "text": [
      "36/36 [==============================] - 5s 149ms/step - loss: 0.0506 - accuracy: 0.9863 - val_loss: 0.2573 - val_accuracy: 0.9095\n",
      "Epoch 172/300\n",
      "36/36 [==============================] - 5s 147ms/step - loss: 0.0501 - accuracy: 0.9862 - val_loss: 0.2554 - val_accuracy: 0.9075\n",
      "Epoch 173/300\n",
      "36/36 [==============================] - 5s 146ms/step - loss: 0.0494 - accuracy: 0.9864 - val_loss: 0.2579 - val_accuracy: 0.9025\n",
      "Epoch 174/300\n",
      "36/36 [==============================] - 5s 147ms/step - loss: 0.0488 - accuracy: 0.9864 - val_loss: 0.2618 - val_accuracy: 0.9090\n",
      "Epoch 175/300\n",
      "36/36 [==============================] - 5s 147ms/step - loss: 0.0482 - accuracy: 0.9867 - val_loss: 0.2573 - val_accuracy: 0.9050\n",
      "Epoch 176/300\n",
      "36/36 [==============================] - 5s 147ms/step - loss: 0.0477 - accuracy: 0.9866 - val_loss: 0.2587 - val_accuracy: 0.9025\n",
      "Epoch 177/300\n",
      "36/36 [==============================] - 5s 148ms/step - loss: 0.0469 - accuracy: 0.9869 - val_loss: 0.2592 - val_accuracy: 0.9015\n",
      "Epoch 178/300\n",
      "36/36 [==============================] - 5s 148ms/step - loss: 0.0463 - accuracy: 0.9874 - val_loss: 0.2604 - val_accuracy: 0.9090\n",
      "Epoch 179/300\n",
      "36/36 [==============================] - 5s 149ms/step - loss: 0.0456 - accuracy: 0.9872 - val_loss: 0.2597 - val_accuracy: 0.9050\n",
      "Epoch 180/300\n",
      "36/36 [==============================] - 5s 149ms/step - loss: 0.0450 - accuracy: 0.9876 - val_loss: 0.2609 - val_accuracy: 0.9045\n",
      "Epoch 181/300\n",
      "36/36 [==============================] - 5s 148ms/step - loss: 0.0447 - accuracy: 0.9877 - val_loss: 0.2611 - val_accuracy: 0.9055\n",
      "Epoch 182/300\n",
      "36/36 [==============================] - 5s 148ms/step - loss: 0.0441 - accuracy: 0.9876 - val_loss: 0.2626 - val_accuracy: 0.9080\n",
      "Epoch 183/300\n",
      "36/36 [==============================] - 5s 148ms/step - loss: 0.0434 - accuracy: 0.9874 - val_loss: 0.2694 - val_accuracy: 0.9085\n",
      "Epoch 184/300\n",
      "36/36 [==============================] - 5s 149ms/step - loss: 0.0430 - accuracy: 0.9882 - val_loss: 0.2667 - val_accuracy: 0.8990\n",
      "Epoch 185/300\n",
      "36/36 [==============================] - 5s 148ms/step - loss: 0.0426 - accuracy: 0.9876 - val_loss: 0.2646 - val_accuracy: 0.9045\n",
      "Epoch 186/300\n",
      "36/36 [==============================] - 5s 148ms/step - loss: 0.0419 - accuracy: 0.9881 - val_loss: 0.2699 - val_accuracy: 0.9090\n",
      "Epoch 187/300\n",
      "36/36 [==============================] - 5s 149ms/step - loss: 0.0412 - accuracy: 0.9882 - val_loss: 0.2687 - val_accuracy: 0.9105\n",
      "Epoch 188/300\n",
      "36/36 [==============================] - 5s 150ms/step - loss: 0.0407 - accuracy: 0.9885 - val_loss: 0.2679 - val_accuracy: 0.9085\n",
      "Epoch 189/300\n",
      "36/36 [==============================] - 5s 148ms/step - loss: 0.0403 - accuracy: 0.9883 - val_loss: 0.2680 - val_accuracy: 0.9085\n",
      "Epoch 190/300\n",
      "36/36 [==============================] - 5s 149ms/step - loss: 0.0399 - accuracy: 0.9883 - val_loss: 0.2689 - val_accuracy: 0.9045\n",
      "Epoch 191/300\n",
      "36/36 [==============================] - 5s 148ms/step - loss: 0.0393 - accuracy: 0.9891 - val_loss: 0.2716 - val_accuracy: 0.9095\n",
      "Epoch 192/300\n",
      "36/36 [==============================] - 5s 147ms/step - loss: 0.0390 - accuracy: 0.9883 - val_loss: 0.2701 - val_accuracy: 0.9085\n",
      "Epoch 193/300\n",
      "36/36 [==============================] - 5s 147ms/step - loss: 0.0385 - accuracy: 0.9884 - val_loss: 0.2716 - val_accuracy: 0.9080\n",
      "Epoch 194/300\n",
      "36/36 [==============================] - 5s 148ms/step - loss: 0.0378 - accuracy: 0.9887 - val_loss: 0.2743 - val_accuracy: 0.9090\n",
      "Epoch 195/300\n",
      "36/36 [==============================] - 5s 147ms/step - loss: 0.0374 - accuracy: 0.9890 - val_loss: 0.2739 - val_accuracy: 0.9085\n",
      "Epoch 196/300\n",
      "36/36 [==============================] - 5s 148ms/step - loss: 0.0372 - accuracy: 0.9884 - val_loss: 0.2720 - val_accuracy: 0.9065\n",
      "Epoch 197/300\n",
      "36/36 [==============================] - 5s 147ms/step - loss: 0.0367 - accuracy: 0.9890 - val_loss: 0.2764 - val_accuracy: 0.9085\n",
      "Epoch 198/300\n",
      "36/36 [==============================] - 5s 148ms/step - loss: 0.0362 - accuracy: 0.9894 - val_loss: 0.2819 - val_accuracy: 0.9065\n",
      "Epoch 199/300\n",
      "36/36 [==============================] - 5s 147ms/step - loss: 0.0364 - accuracy: 0.9888 - val_loss: 0.2752 - val_accuracy: 0.9040\n",
      "Epoch 200/300\n",
      "36/36 [==============================] - 5s 148ms/step - loss: 0.0357 - accuracy: 0.9889 - val_loss: 0.2796 - val_accuracy: 0.9085\n",
      "Epoch 201/300\n",
      "36/36 [==============================] - 5s 148ms/step - loss: 0.0353 - accuracy: 0.9890 - val_loss: 0.2798 - val_accuracy: 0.9005\n",
      "Epoch 202/300\n",
      "36/36 [==============================] - 5s 147ms/step - loss: 0.0351 - accuracy: 0.9893 - val_loss: 0.2776 - val_accuracy: 0.9055\n",
      "Epoch 203/300\n",
      "36/36 [==============================] - 5s 147ms/step - loss: 0.0346 - accuracy: 0.9891 - val_loss: 0.2779 - val_accuracy: 0.9060\n",
      "Epoch 204/300\n",
      "36/36 [==============================] - 5s 147ms/step - loss: 0.0339 - accuracy: 0.9898 - val_loss: 0.2945 - val_accuracy: 0.9065\n",
      "Epoch 205/300\n",
      "36/36 [==============================] - 5s 147ms/step - loss: 0.0339 - accuracy: 0.9897 - val_loss: 0.2801 - val_accuracy: 0.9070\n",
      "Epoch 206/300\n",
      "36/36 [==============================] - 5s 146ms/step - loss: 0.0334 - accuracy: 0.9896 - val_loss: 0.2821 - val_accuracy: 0.9015\n",
      "Epoch 207/300\n",
      "36/36 [==============================] - 5s 146ms/step - loss: 0.0333 - accuracy: 0.9896 - val_loss: 0.2814 - val_accuracy: 0.9070\n",
      "Epoch 208/300\n",
      "36/36 [==============================] - 5s 146ms/step - loss: 0.0327 - accuracy: 0.9896 - val_loss: 0.2815 - val_accuracy: 0.9075\n",
      "Epoch 209/300\n",
      "36/36 [==============================] - 5s 147ms/step - loss: 0.0326 - accuracy: 0.9894 - val_loss: 0.2828 - val_accuracy: 0.9075\n",
      "Epoch 210/300\n",
      "36/36 [==============================] - 5s 146ms/step - loss: 0.0322 - accuracy: 0.9895 - val_loss: 0.3038 - val_accuracy: 0.9065\n",
      "Epoch 211/300\n",
      "36/36 [==============================] - 5s 147ms/step - loss: 0.0320 - accuracy: 0.9898 - val_loss: 0.2877 - val_accuracy: 0.9085\n",
      "Epoch 212/300\n",
      "36/36 [==============================] - 5s 148ms/step - loss: 0.0316 - accuracy: 0.9897 - val_loss: 0.2980 - val_accuracy: 0.9065\n",
      "Epoch 213/300\n",
      "36/36 [==============================] - 5s 146ms/step - loss: 0.0314 - accuracy: 0.9897 - val_loss: 0.2960 - val_accuracy: 0.9060\n",
      "Epoch 214/300\n",
      "36/36 [==============================] - 5s 147ms/step - loss: 0.0311 - accuracy: 0.9898 - val_loss: 0.2869 - val_accuracy: 0.9065\n",
      "Epoch 215/300\n",
      "36/36 [==============================] - 5s 146ms/step - loss: 0.0309 - accuracy: 0.9901 - val_loss: 0.2900 - val_accuracy: 0.9080\n",
      "Epoch 216/300\n",
      "36/36 [==============================] - 5s 148ms/step - loss: 0.0306 - accuracy: 0.9902 - val_loss: 0.2933 - val_accuracy: 0.9055\n",
      "Epoch 217/300\n",
      "36/36 [==============================] - 5s 148ms/step - loss: 0.0302 - accuracy: 0.9897 - val_loss: 0.2890 - val_accuracy: 0.9075\n",
      "Epoch 218/300\n",
      "36/36 [==============================] - 5s 147ms/step - loss: 0.0300 - accuracy: 0.9898 - val_loss: 0.2900 - val_accuracy: 0.9055\n",
      "Epoch 219/300\n",
      "36/36 [==============================] - 5s 147ms/step - loss: 0.0297 - accuracy: 0.9904 - val_loss: 0.3147 - val_accuracy: 0.9040\n",
      "Epoch 220/300\n",
      "36/36 [==============================] - 5s 148ms/step - loss: 0.0294 - accuracy: 0.9901 - val_loss: 0.2915 - val_accuracy: 0.9050\n",
      "Epoch 221/300\n",
      "36/36 [==============================] - 5s 147ms/step - loss: 0.0293 - accuracy: 0.9907 - val_loss: 0.2979 - val_accuracy: 0.9055\n",
      "Epoch 222/300\n",
      "36/36 [==============================] - 5s 147ms/step - loss: 0.0290 - accuracy: 0.9900 - val_loss: 0.2932 - val_accuracy: 0.9055\n",
      "Epoch 223/300\n",
      "36/36 [==============================] - 5s 147ms/step - loss: 0.0286 - accuracy: 0.9906 - val_loss: 0.2974 - val_accuracy: 0.9005\n",
      "Epoch 224/300\n",
      "36/36 [==============================] - 5s 146ms/step - loss: 0.0287 - accuracy: 0.9898 - val_loss: 0.3006 - val_accuracy: 0.8950\n",
      "Epoch 225/300\n",
      "36/36 [==============================] - 5s 146ms/step - loss: 0.0285 - accuracy: 0.9899 - val_loss: 0.2991 - val_accuracy: 0.9055\n",
      "Epoch 226/300\n",
      "36/36 [==============================] - 5s 146ms/step - loss: 0.0280 - accuracy: 0.9909 - val_loss: 0.3104 - val_accuracy: 0.9055\n",
      "Epoch 227/300\n"
     ]
    },
    {
     "name": "stdout",
     "output_type": "stream",
     "text": [
      "36/36 [==============================] - 5s 146ms/step - loss: 0.0279 - accuracy: 0.9903 - val_loss: 0.2984 - val_accuracy: 0.9025\n",
      "Epoch 228/300\n",
      "36/36 [==============================] - 5s 147ms/step - loss: 0.0277 - accuracy: 0.9901 - val_loss: 0.3012 - val_accuracy: 0.9060\n",
      "Epoch 229/300\n",
      "36/36 [==============================] - 5s 147ms/step - loss: 0.0273 - accuracy: 0.9906 - val_loss: 0.2983 - val_accuracy: 0.9090\n",
      "Epoch 230/300\n",
      "36/36 [==============================] - 5s 146ms/step - loss: 0.0273 - accuracy: 0.9899 - val_loss: 0.3002 - val_accuracy: 0.9075\n",
      "Epoch 231/300\n",
      "36/36 [==============================] - 5s 147ms/step - loss: 0.0268 - accuracy: 0.9908 - val_loss: 0.2988 - val_accuracy: 0.9070\n",
      "Epoch 232/300\n",
      "36/36 [==============================] - 5s 147ms/step - loss: 0.0267 - accuracy: 0.9903 - val_loss: 0.3004 - val_accuracy: 0.9055\n",
      "Epoch 233/300\n",
      "36/36 [==============================] - 5s 147ms/step - loss: 0.0267 - accuracy: 0.9904 - val_loss: 0.3032 - val_accuracy: 0.9070\n",
      "Epoch 234/300\n",
      "36/36 [==============================] - 5s 147ms/step - loss: 0.0265 - accuracy: 0.9908 - val_loss: 0.3027 - val_accuracy: 0.9065\n",
      "Epoch 235/300\n",
      "36/36 [==============================] - 5s 147ms/step - loss: 0.0263 - accuracy: 0.9905 - val_loss: 0.3025 - val_accuracy: 0.9055\n",
      "Epoch 236/300\n",
      "36/36 [==============================] - 5s 147ms/step - loss: 0.0261 - accuracy: 0.9901 - val_loss: 0.3053 - val_accuracy: 0.9060\n",
      "Epoch 237/300\n",
      "36/36 [==============================] - 5s 147ms/step - loss: 0.0259 - accuracy: 0.9903 - val_loss: 0.3046 - val_accuracy: 0.9070\n",
      "Epoch 238/300\n",
      "36/36 [==============================] - 5s 148ms/step - loss: 0.0258 - accuracy: 0.9905 - val_loss: 0.3045 - val_accuracy: 0.9070\n",
      "Epoch 239/300\n",
      "36/36 [==============================] - 5s 147ms/step - loss: 0.0255 - accuracy: 0.9904 - val_loss: 0.3113 - val_accuracy: 0.9035\n",
      "Epoch 240/300\n",
      "36/36 [==============================] - 5s 147ms/step - loss: 0.0254 - accuracy: 0.9906 - val_loss: 0.3055 - val_accuracy: 0.9065\n",
      "Epoch 241/300\n",
      "36/36 [==============================] - 5s 147ms/step - loss: 0.0255 - accuracy: 0.9900 - val_loss: 0.3072 - val_accuracy: 0.9040\n",
      "Epoch 242/300\n",
      "36/36 [==============================] - 5s 147ms/step - loss: 0.0251 - accuracy: 0.9909 - val_loss: 0.3166 - val_accuracy: 0.9060\n",
      "Epoch 243/300\n",
      "36/36 [==============================] - 5s 147ms/step - loss: 0.0251 - accuracy: 0.9907 - val_loss: 0.3161 - val_accuracy: 0.9040\n",
      "Epoch 244/300\n",
      "36/36 [==============================] - 5s 148ms/step - loss: 0.0247 - accuracy: 0.9909 - val_loss: 0.3111 - val_accuracy: 0.9060\n",
      "Epoch 245/300\n",
      "36/36 [==============================] - 5s 147ms/step - loss: 0.0247 - accuracy: 0.9908 - val_loss: 0.3174 - val_accuracy: 0.9045\n",
      "Epoch 246/300\n",
      "36/36 [==============================] - 5s 148ms/step - loss: 0.0245 - accuracy: 0.9915 - val_loss: 0.3105 - val_accuracy: 0.9055\n",
      "Epoch 247/300\n",
      "36/36 [==============================] - 5s 148ms/step - loss: 0.0244 - accuracy: 0.9911 - val_loss: 0.3112 - val_accuracy: 0.9055\n",
      "Epoch 248/300\n",
      "36/36 [==============================] - 5s 147ms/step - loss: 0.0243 - accuracy: 0.9910 - val_loss: 0.3126 - val_accuracy: 0.9030\n",
      "Epoch 249/300\n",
      "36/36 [==============================] - 5s 147ms/step - loss: 0.0241 - accuracy: 0.9908 - val_loss: 0.3144 - val_accuracy: 0.9065\n",
      "Epoch 250/300\n",
      "36/36 [==============================] - 5s 147ms/step - loss: 0.0238 - accuracy: 0.9909 - val_loss: 0.3144 - val_accuracy: 0.9050\n",
      "Epoch 251/300\n",
      "36/36 [==============================] - 5s 147ms/step - loss: 0.0239 - accuracy: 0.9918 - val_loss: 0.3177 - val_accuracy: 0.9055\n",
      "Epoch 252/300\n",
      "36/36 [==============================] - 5s 148ms/step - loss: 0.0237 - accuracy: 0.9907 - val_loss: 0.3243 - val_accuracy: 0.9040\n",
      "Epoch 253/300\n",
      "36/36 [==============================] - 5s 148ms/step - loss: 0.0235 - accuracy: 0.9911 - val_loss: 0.3175 - val_accuracy: 0.9065\n",
      "Epoch 254/300\n",
      "36/36 [==============================] - 5s 148ms/step - loss: 0.0234 - accuracy: 0.9908 - val_loss: 0.3168 - val_accuracy: 0.9055\n",
      "Epoch 255/300\n",
      "36/36 [==============================] - 5s 147ms/step - loss: 0.0231 - accuracy: 0.9914 - val_loss: 0.3165 - val_accuracy: 0.9050\n",
      "Epoch 256/300\n",
      "36/36 [==============================] - 5s 147ms/step - loss: 0.0231 - accuracy: 0.9911 - val_loss: 0.3161 - val_accuracy: 0.9055\n",
      "Epoch 257/300\n",
      "36/36 [==============================] - 5s 147ms/step - loss: 0.0228 - accuracy: 0.9917 - val_loss: 0.3180 - val_accuracy: 0.9050\n",
      "Epoch 258/300\n",
      "36/36 [==============================] - 5s 147ms/step - loss: 0.0230 - accuracy: 0.9912 - val_loss: 0.3185 - val_accuracy: 0.9045\n",
      "Epoch 259/300\n",
      "36/36 [==============================] - 5s 147ms/step - loss: 0.0227 - accuracy: 0.9911 - val_loss: 0.3245 - val_accuracy: 0.9045\n",
      "Epoch 260/300\n",
      "36/36 [==============================] - 5s 148ms/step - loss: 0.0226 - accuracy: 0.9912 - val_loss: 0.3294 - val_accuracy: 0.9050\n",
      "Epoch 261/300\n",
      "36/36 [==============================] - 5s 147ms/step - loss: 0.0225 - accuracy: 0.9916 - val_loss: 0.3260 - val_accuracy: 0.9050\n",
      "Epoch 262/300\n",
      "36/36 [==============================] - 5s 147ms/step - loss: 0.0222 - accuracy: 0.9916 - val_loss: 0.3226 - val_accuracy: 0.9030\n",
      "Epoch 263/300\n",
      "36/36 [==============================] - 5s 147ms/step - loss: 0.0222 - accuracy: 0.9921 - val_loss: 0.3212 - val_accuracy: 0.9065\n",
      "Epoch 264/300\n",
      "36/36 [==============================] - 5s 147ms/step - loss: 0.0221 - accuracy: 0.9908 - val_loss: 0.3224 - val_accuracy: 0.9060\n",
      "Epoch 265/300\n",
      "36/36 [==============================] - 5s 146ms/step - loss: 0.0219 - accuracy: 0.9918 - val_loss: 0.3219 - val_accuracy: 0.9040\n",
      "Epoch 266/300\n",
      "36/36 [==============================] - 5s 146ms/step - loss: 0.0218 - accuracy: 0.9909 - val_loss: 0.3251 - val_accuracy: 0.9065\n",
      "Epoch 267/300\n",
      "36/36 [==============================] - 5s 147ms/step - loss: 0.0217 - accuracy: 0.9914 - val_loss: 0.3236 - val_accuracy: 0.9055\n",
      "Epoch 268/300\n",
      "36/36 [==============================] - 5s 146ms/step - loss: 0.0216 - accuracy: 0.9914 - val_loss: 0.3254 - val_accuracy: 0.9055\n",
      "Epoch 269/300\n",
      "36/36 [==============================] - 5s 146ms/step - loss: 0.0215 - accuracy: 0.9913 - val_loss: 0.3244 - val_accuracy: 0.9040\n",
      "Epoch 270/300\n",
      "36/36 [==============================] - 5s 147ms/step - loss: 0.0215 - accuracy: 0.9914 - val_loss: 0.3253 - val_accuracy: 0.9060\n",
      "Epoch 271/300\n",
      "36/36 [==============================] - 5s 146ms/step - loss: 0.0215 - accuracy: 0.9912 - val_loss: 0.3253 - val_accuracy: 0.9045\n",
      "Epoch 272/300\n",
      "36/36 [==============================] - 5s 146ms/step - loss: 0.0214 - accuracy: 0.9919 - val_loss: 0.3257 - val_accuracy: 0.9050\n",
      "Epoch 273/300\n",
      "36/36 [==============================] - 5s 146ms/step - loss: 0.0215 - accuracy: 0.9909 - val_loss: 0.3267 - val_accuracy: 0.9055\n",
      "Epoch 274/300\n",
      "36/36 [==============================] - 5s 147ms/step - loss: 0.0211 - accuracy: 0.9917 - val_loss: 0.3314 - val_accuracy: 0.9045\n",
      "Epoch 275/300\n",
      "36/36 [==============================] - 5s 147ms/step - loss: 0.0211 - accuracy: 0.9912 - val_loss: 0.3279 - val_accuracy: 0.9075\n",
      "Epoch 276/300\n",
      "36/36 [==============================] - 5s 148ms/step - loss: 0.0210 - accuracy: 0.9919 - val_loss: 0.3378 - val_accuracy: 0.9065\n",
      "Epoch 277/300\n",
      "36/36 [==============================] - 5s 148ms/step - loss: 0.0209 - accuracy: 0.9913 - val_loss: 0.3294 - val_accuracy: 0.9065\n",
      "Epoch 278/300\n",
      "36/36 [==============================] - 5s 148ms/step - loss: 0.0208 - accuracy: 0.9923 - val_loss: 0.3381 - val_accuracy: 0.9065\n",
      "Epoch 279/300\n",
      "36/36 [==============================] - 5s 148ms/step - loss: 0.0207 - accuracy: 0.9918 - val_loss: 0.3479 - val_accuracy: 0.9035\n",
      "Epoch 280/300\n",
      "36/36 [==============================] - 5s 147ms/step - loss: 0.0208 - accuracy: 0.9921 - val_loss: 0.3371 - val_accuracy: 0.9040\n",
      "Epoch 281/300\n",
      "36/36 [==============================] - 5s 148ms/step - loss: 0.0207 - accuracy: 0.9918 - val_loss: 0.3565 - val_accuracy: 0.9025\n",
      "Epoch 282/300\n",
      "36/36 [==============================] - 5s 147ms/step - loss: 0.0204 - accuracy: 0.9921 - val_loss: 0.3472 - val_accuracy: 0.9045\n",
      "Epoch 283/300\n"
     ]
    },
    {
     "name": "stdout",
     "output_type": "stream",
     "text": [
      "36/36 [==============================] - 5s 148ms/step - loss: 0.0206 - accuracy: 0.9914 - val_loss: 0.3333 - val_accuracy: 0.9035\n",
      "Epoch 284/300\n",
      "36/36 [==============================] - 5s 147ms/step - loss: 0.0202 - accuracy: 0.9914 - val_loss: 0.3517 - val_accuracy: 0.9045\n",
      "Epoch 285/300\n",
      "36/36 [==============================] - 5s 148ms/step - loss: 0.0204 - accuracy: 0.9914 - val_loss: 0.3446 - val_accuracy: 0.9050\n",
      "Epoch 286/300\n",
      "36/36 [==============================] - 5s 148ms/step - loss: 0.0202 - accuracy: 0.9918 - val_loss: 0.3362 - val_accuracy: 0.9060\n",
      "Epoch 287/300\n",
      "36/36 [==============================] - 5s 148ms/step - loss: 0.0200 - accuracy: 0.9924 - val_loss: 0.3348 - val_accuracy: 0.9050\n",
      "Epoch 288/300\n",
      "36/36 [==============================] - 5s 148ms/step - loss: 0.0200 - accuracy: 0.9915 - val_loss: 0.3362 - val_accuracy: 0.9045\n",
      "Epoch 289/300\n",
      "36/36 [==============================] - 5s 148ms/step - loss: 0.0198 - accuracy: 0.9932 - val_loss: 0.3360 - val_accuracy: 0.9065\n",
      "Epoch 290/300\n",
      "36/36 [==============================] - 5s 148ms/step - loss: 0.0199 - accuracy: 0.9917 - val_loss: 0.3374 - val_accuracy: 0.9035\n",
      "Epoch 291/300\n",
      "36/36 [==============================] - 5s 147ms/step - loss: 0.0195 - accuracy: 0.9927 - val_loss: 0.3421 - val_accuracy: 0.9060\n",
      "Epoch 292/300\n",
      "36/36 [==============================] - 5s 149ms/step - loss: 0.0196 - accuracy: 0.9919 - val_loss: 0.3479 - val_accuracy: 0.9060\n",
      "Epoch 293/300\n",
      "36/36 [==============================] - 5s 147ms/step - loss: 0.0197 - accuracy: 0.9919 - val_loss: 0.3446 - val_accuracy: 0.9050\n",
      "Epoch 294/300\n",
      "36/36 [==============================] - 5s 147ms/step - loss: 0.0196 - accuracy: 0.9918 - val_loss: 0.3387 - val_accuracy: 0.9055\n",
      "Epoch 295/300\n",
      "36/36 [==============================] - 5s 147ms/step - loss: 0.0194 - accuracy: 0.9921 - val_loss: 0.3470 - val_accuracy: 0.9060\n",
      "Epoch 296/300\n",
      "36/36 [==============================] - 5s 149ms/step - loss: 0.0194 - accuracy: 0.9918 - val_loss: 0.3395 - val_accuracy: 0.9035\n",
      "Epoch 297/300\n",
      "36/36 [==============================] - 5s 147ms/step - loss: 0.0193 - accuracy: 0.9919 - val_loss: 0.3441 - val_accuracy: 0.9060\n",
      "Epoch 298/300\n",
      "36/36 [==============================] - 5s 148ms/step - loss: 0.0193 - accuracy: 0.9913 - val_loss: 0.3411 - val_accuracy: 0.9060\n",
      "Epoch 299/300\n",
      "36/36 [==============================] - 5s 148ms/step - loss: 0.0192 - accuracy: 0.9917 - val_loss: 0.3429 - val_accuracy: 0.9050\n",
      "Epoch 300/300\n",
      "36/36 [==============================] - 5s 148ms/step - loss: 0.0192 - accuracy: 0.9918 - val_loss: 0.3427 - val_accuracy: 0.9025\n"
     ]
    }
   ],
   "source": [
    "history = model.fit(partial_x_train,\n",
    "                    partial_y_train,\n",
    "                    epochs=300,\n",
    "                    batch_size=512,\n",
    "                    validation_data=(x_val, y_val))"
   ]
  },
  {
   "cell_type": "code",
   "execution_count": 58,
   "metadata": {},
   "outputs": [
    {
     "data": {
      "image/png": "[encoded data removed]",
      "text/plain": [
       "<Figure size 432x288 with 1 Axes>"
      ]
     },
     "metadata": {
      "needs_background": "light"
     },
     "output_type": "display_data"
    }
   ],
   "source": [
    "loss= history.history['loss']\n",
    "val_loss=history.history['val_loss']\n",
    "\n",
    "epochs = range(1, len(loss) + 1)\n",
    "\n",
    "plt.plot(epochs, loss, 'bo',label=\"Training loss\" )\n",
    "plt.plot(epochs, val_loss, 'b', label='Validation loss')\n",
    "plt.title('Training and validation loss')\n",
    "plt.xlabel('Epochs')\n",
    "plt.ylabel('Loss')\n",
    "plt.legend()\n",
    "\n",
    "plt.show()"
   ]
  },
  {
   "cell_type": "code",
   "execution_count": 59,
   "metadata": {},
   "outputs": [
    {
     "data": {
      "image/png": "[encoded data removed]",
      "text/plain": [
       "<Figure size 432x288 with 1 Axes>"
      ]
     },
     "metadata": {
      "needs_background": "light"
     },
     "output_type": "display_data"
    }
   ],
   "source": [
    "plt.clf() #그래프 초기화 \n",
    "\n",
    "acc = history.history['accuracy']\n",
    "val_acc = history.history['val_accuracy']\n",
    "\n",
    "plt.plot(epochs, acc, 'bo', label='Training acc')\n",
    "plt.plot(epochs, val_acc, 'b', label='Validation acc')\n",
    "\n",
    "plt.title('Training and Validation Accuracy')\n",
    "plt.xlabel('Epochs')\n",
    "plt.ylabel('Accuracy')\n",
    "\n",
    "plt.legend()\n",
    "\n",
    "plt.show()"
   ]
  },
  {
   "cell_type": "code",
   "execution_count": 78,
   "metadata": {},
   "outputs": [],
   "source": [
    "model.save('RNN_model_small.h5')"
   ]
  },
  {
   "cell_type": "code",
   "execution_count": 79,
   "metadata": {},
   "outputs": [],
   "source": [
    "pred_RNN=model.predict(xTest)"
   ]
  },
  {
   "cell_type": "code",
   "execution_count": 80,
   "metadata": {},
   "outputs": [],
   "source": [
    "pred_RNN_list=[]\n",
    "for i in range(len(pred_RNN)):\n",
    "    pred_RNN_list.append(pred_RNN[i].argmax())"
   ]
  },
  {
   "cell_type": "code",
   "execution_count": 81,
   "metadata": {},
   "outputs": [
    {
     "data": {
      "text/plain": [
       "0.90625"
      ]
     },
     "execution_count": 81,
     "metadata": {},
     "output_type": "execute_result"
    }
   ],
   "source": [
    "test['pred_RNN']=pred_RNN_list\n",
    "(test['label']==test['pred_RNN']).sum()/test.shape[0]"
   ]
  },
  {
   "cell_type": "code",
   "execution_count": null,
   "metadata": {},
   "outputs": [],
   "source": []
  },
  {
   "cell_type": "code",
   "execution_count": null,
   "metadata": {},
   "outputs": [],
   "source": []
  }
 ],
 "metadata": {
  "kernelspec": {
   "display_name": "Python 3",
   "language": "python",
   "name": "python3"
  },
  "language_info": {
   "codemirror_mode": {
    "name": "ipython",
    "version": 3
   },
   "file_extension": ".py",
   "mimetype": "text/x-python",
   "name": "python",
   "nbconvert_exporter": "python",
   "pygments_lexer": "ipython3",
   "version": "3.8.3"
  }
 },
 "nbformat": 4,
 "nbformat_minor": 4
}
