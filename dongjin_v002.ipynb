{
 "cells": [
  {
   "cell_type": "code",
   "execution_count": 1,
   "metadata": {},
   "outputs": [],
   "source": [
    "import numpy as np\n",
    "import pandas as pd\n",
    "import seaborn as sns\n",
    "import matplotlib.pyplot as plt\n",
    "from konlpy.tag import Okt\n",
    "from konlpy.utils import partition\n",
    "import re"
   ]
  },
  {
   "cell_type": "markdown",
   "metadata": {},
   "source": [
    "# 데이터 가져오기"
   ]
  },
  {
   "cell_type": "code",
   "execution_count": 2,
   "metadata": {},
   "outputs": [],
   "source": [
    "train=pd.read_csv('data/train.hate.csv')"
   ]
  },
  {
   "cell_type": "code",
   "execution_count": 3,
   "metadata": {},
   "outputs": [],
   "source": [
    "test=pd.read_csv('data/test.hate.no_label.csv')"
   ]
  },
  {
   "cell_type": "code",
   "execution_count": 4,
   "metadata": {},
   "outputs": [
    {
     "name": "stdout",
     "output_type": "stream",
     "text": [
      "<class 'pandas.core.frame.DataFrame'>\n",
      "RangeIndex: 7896 entries, 0 to 7895\n",
      "Data columns (total 2 columns):\n",
      " #   Column    Non-Null Count  Dtype \n",
      "---  ------    --------------  ----- \n",
      " 0   comments  7896 non-null   object\n",
      " 1   label     7896 non-null   object\n",
      "dtypes: object(2)\n",
      "memory usage: 123.5+ KB\n"
     ]
    }
   ],
   "source": [
    "train.info()"
   ]
  },
  {
   "cell_type": "code",
   "execution_count": 5,
   "metadata": {
    "scrolled": true
   },
   "outputs": [
    {
     "name": "stdout",
     "output_type": "stream",
     "text": [
      "<class 'pandas.core.frame.DataFrame'>\n",
      "RangeIndex: 974 entries, 0 to 973\n",
      "Data columns (total 1 columns):\n",
      " #   Column    Non-Null Count  Dtype \n",
      "---  ------    --------------  ----- \n",
      " 0   comments  974 non-null    object\n",
      "dtypes: object(1)\n",
      "memory usage: 7.7+ KB\n"
     ]
    }
   ],
   "source": [
    "test.info()"
   ]
  },
  {
   "cell_type": "code",
   "execution_count": 6,
   "metadata": {},
   "outputs": [],
   "source": [
    "total=pd.concat([train,test])  #7896:"
   ]
  },
  {
   "cell_type": "code",
   "execution_count": 7,
   "metadata": {
    "scrolled": true
   },
   "outputs": [
    {
     "data": {
      "text/plain": [
       "<matplotlib.axes._subplots.AxesSubplot at 0x23ab1b31610>"
      ]
     },
     "execution_count": 7,
     "metadata": {},
     "output_type": "execute_result"
    },
    {
     "data": {
      "image/png": "[encoded data removed]",
      "text/plain": [
       "<Figure size 432x288 with 1 Axes>"
      ]
     },
     "metadata": {
      "needs_background": "light"
     },
     "output_type": "display_data"
    }
   ],
   "source": [
    "total['label'].value_counts()\n",
    "total['label'].value_counts().plot(kind='bar')"
   ]
  },
  {
   "cell_type": "code",
   "execution_count": 8,
   "metadata": {},
   "outputs": [],
   "source": [
    "total['label_band']=total['label'].map({'none':0,'offensive':1,'hate':2})"
   ]
  },
  {
   "cell_type": "code",
   "execution_count": 9,
   "metadata": {},
   "outputs": [
    {
     "data": {
      "text/html": [
       "<div>\n",
       "<style scoped>\n",
       "    .dataframe tbody tr th:only-of-type {\n",
       "        vertical-align: middle;\n",
       "    }\n",
       "\n",
       "    .dataframe tbody tr th {\n",
       "        vertical-align: top;\n",
       "    }\n",
       "\n",
       "    .dataframe thead th {\n",
       "        text-align: right;\n",
       "    }\n",
       "</style>\n",
       "<table border=\"1\" class=\"dataframe\">\n",
       "  <thead>\n",
       "    <tr style=\"text-align: right;\">\n",
       "      <th></th>\n",
       "      <th>comments</th>\n",
       "      <th>label</th>\n",
       "    </tr>\n",
       "  </thead>\n",
       "  <tbody>\n",
       "    <tr>\n",
       "      <th>0</th>\n",
       "      <td>(현재 호텔주인 심정) 아18 난 마른하늘에 날벼락맞고 호텔망하게생겼는데 누군 계속...</td>\n",
       "      <td>hate</td>\n",
       "    </tr>\n",
       "    <tr>\n",
       "      <th>1</th>\n",
       "      <td>....한국적인 미인의 대표적인 분...너무나 곱고아름다운모습...그모습뒤의 슬픔을...</td>\n",
       "      <td>none</td>\n",
       "    </tr>\n",
       "    <tr>\n",
       "      <th>2</th>\n",
       "      <td>...못된 넘들...남의 고통을 즐겼던 넘들..이젠 마땅한 처벌을 받아야지..,그래...</td>\n",
       "      <td>hate</td>\n",
       "    </tr>\n",
       "    <tr>\n",
       "      <th>3</th>\n",
       "      <td>1,2화 어설펐는데 3,4화 지나서부터는 갈수록 너무 재밌던데</td>\n",
       "      <td>none</td>\n",
       "    </tr>\n",
       "    <tr>\n",
       "      <th>4</th>\n",
       "      <td>1. 사람 얼굴 손톱으로 긁은것은 인격살해이고2. 동영상이 몰카냐? 메걸리안들 생각...</td>\n",
       "      <td>hate</td>\n",
       "    </tr>\n",
       "  </tbody>\n",
       "</table>\n",
       "</div>"
      ],
      "text/plain": [
       "                                            comments label\n",
       "0  (현재 호텔주인 심정) 아18 난 마른하늘에 날벼락맞고 호텔망하게생겼는데 누군 계속...  hate\n",
       "1  ....한국적인 미인의 대표적인 분...너무나 곱고아름다운모습...그모습뒤의 슬픔을...  none\n",
       "2  ...못된 넘들...남의 고통을 즐겼던 넘들..이젠 마땅한 처벌을 받아야지..,그래...  hate\n",
       "3                 1,2화 어설펐는데 3,4화 지나서부터는 갈수록 너무 재밌던데  none\n",
       "4  1. 사람 얼굴 손톱으로 긁은것은 인격살해이고2. 동영상이 몰카냐? 메걸리안들 생각...  hate"
      ]
     },
     "execution_count": 9,
     "metadata": {},
     "output_type": "execute_result"
    }
   ],
   "source": [
    "train.head()"
   ]
  },
  {
   "cell_type": "markdown",
   "metadata": {},
   "source": [
    "# 데이터 전처리"
   ]
  },
  {
   "cell_type": "code",
   "execution_count": 10,
   "metadata": {},
   "outputs": [],
   "source": [
    "wordDict={\"[\\W+]\":\" \",'[\\d+]':' ','[ㅡ+]':' ','[ㅠ+]':' ','[ㅜ+]':' ','[ㄱ-ㅎ]':' '}"
   ]
  },
  {
   "cell_type": "code",
   "execution_count": 11,
   "metadata": {},
   "outputs": [],
   "source": [
    "for i,j in wordDict.items():\n",
    "    total['comments']=total.comments.str.replace(i,j)"
   ]
  },
  {
   "cell_type": "code",
   "execution_count": 12,
   "metadata": {},
   "outputs": [],
   "source": [
    "def cw(x):\n",
    "    simdict={'힘내소|힘내라|힘내세요|힘내시고|힘내요|힘내세용|힘내서':'힘내다',\n",
    "            '힘드네요|힘든|힘든데|힘들|힘내요|힘들게|힘들겠다|힘들다|힘들다고|힘들면|힘들어|힘들지|힘들다면':'힘들다',\n",
    "            '멋있고|멋있는|멋있다|멋있어요':'멋있다',\n",
    "            '멋져|멋져요|멋지고|멋지다|멋진|멋집니다':'멋지다',\n",
    "            '같고|같기도|같긴|같긴한데|같냐|같네|같네요|같다|같다는|같더라|같던데|같습니다|같아|같아서같아요|같았음|같어|같으니|같으면|같은|같은거|같은건|같은대|같은데|같은데요|같음|같이|같지|같지도|같긴|같긴한데|같냐|같네|같네요|같다|같다는|같더라|같던데|같습니다|같아|같아서|같아요|같았음|같어|같으니|같으면|같은|같은거|같은건|같은대|같은데|같은데요|같음|같이|같지|같지도':'같다',\n",
    "            '궁굼|궁금|궁금한데|궁금해|궁금했는데':'궁금하다',\n",
    "            '추카':'축하'}\n",
    "    for index,word in simdict.items():\n",
    "        return re.sub(index,word,x)\n",
    "    "
   ]
  },
  {
   "cell_type": "code",
   "execution_count": 13,
   "metadata": {},
   "outputs": [],
   "source": [
    "total['comments']=total.comments.apply(cw)"
   ]
  },
  {
   "cell_type": "markdown",
   "metadata": {},
   "source": [
    "### 문자=> 숫자 (단어 길이와 빈도수를 조절)"
   ]
  },
  {
   "cell_type": "code",
   "execution_count": 14,
   "metadata": {},
   "outputs": [],
   "source": [
    "n=2  #단어 길이\n",
    "m=3  # 빈도수"
   ]
  },
  {
   "cell_type": "code",
   "execution_count": 15,
   "metadata": {},
   "outputs": [
    {
     "name": "stderr",
     "output_type": "stream",
     "text": [
      "C:\\ProgramData\\Anaconda3\\lib\\site-packages\\pandas\\core\\indexing.py:671: SettingWithCopyWarning: \n",
      "A value is trying to be set on a copy of a slice from a DataFrame\n",
      "\n",
      "See the caveats in the documentation: https://pandas.pydata.org/pandas-docs/stable/user_guide/indexing.html#returning-a-view-versus-a-copy\n",
      "  self._setitem_with_indexer(indexer, value)\n"
     ]
    }
   ],
   "source": [
    "okt=Okt()\n",
    "wordList=[]\n",
    "word_index={}\n",
    "wordCount={}\n",
    "total['corpus']=0\n",
    "for index ,sentencs in enumerate(total.comments):\n",
    "    words=okt.morphs(sentencs)\n",
    "    total['corpus'].iloc[index]=words\n",
    "    for word in words:\n",
    "        if len(word) >=n:\n",
    "            if word not in wordList:\n",
    "                wordCount[word]=1\n",
    "                wordList.append(word)\n",
    "            else:\n",
    "                wordCount[word]=wordCount[word]+1\n",
    "wordList=[]                \n",
    "for words in total['corpus']:\n",
    "    for word in words:\n",
    "        if len(word) >=n:\n",
    "            if wordCount[word] >= m:\n",
    "                if word not in wordList:\n",
    "                    word_index[word]=len(wordList)\n",
    "                    wordList.append(word)"
   ]
  },
  {
   "cell_type": "code",
   "execution_count": 16,
   "metadata": {},
   "outputs": [
    {
     "data": {
      "text/html": [
       "<div>\n",
       "<style scoped>\n",
       "    .dataframe tbody tr th:only-of-type {\n",
       "        vertical-align: middle;\n",
       "    }\n",
       "\n",
       "    .dataframe tbody tr th {\n",
       "        vertical-align: top;\n",
       "    }\n",
       "\n",
       "    .dataframe thead th {\n",
       "        text-align: right;\n",
       "    }\n",
       "</style>\n",
       "<table border=\"1\" class=\"dataframe\">\n",
       "  <thead>\n",
       "    <tr style=\"text-align: right;\">\n",
       "      <th></th>\n",
       "      <th>comments</th>\n",
       "      <th>label</th>\n",
       "      <th>label_band</th>\n",
       "      <th>corpus</th>\n",
       "    </tr>\n",
       "  </thead>\n",
       "  <tbody>\n",
       "    <tr>\n",
       "      <th>0</th>\n",
       "      <td>현재 호텔주인 심정  아   난 마른하늘에 날벼락맞고 호텔망하게생겼는데 누군 계속...</td>\n",
       "      <td>hate</td>\n",
       "      <td>2.0</td>\n",
       "      <td>[현재, 호텔, 주인, 심정, 아, 난, 마른하늘, 에, 날벼락, 맞고, 호텔, 망...</td>\n",
       "    </tr>\n",
       "    <tr>\n",
       "      <th>1</th>\n",
       "      <td>한국적인 미인의 대표적인 분   너무나 곱고아름다운모습   그모습뒤의 슬픔을...</td>\n",
       "      <td>none</td>\n",
       "      <td>0.0</td>\n",
       "      <td>[한국, 적, 인, 미인, 의, 대표, 적, 인, 분, 너무나, 곱, 고, 아름다운...</td>\n",
       "    </tr>\n",
       "    <tr>\n",
       "      <th>2</th>\n",
       "      <td>못된 넘들   남의 고통을 즐겼던 넘들  이젠 마땅한 처벌을 받아야지   그래...</td>\n",
       "      <td>hate</td>\n",
       "      <td>2.0</td>\n",
       "      <td>[못, 된, 넘, 들, 남, 의, 고통, 을, 즐겼던, 넘, 들, 이, 젠, 마땅한...</td>\n",
       "    </tr>\n",
       "    <tr>\n",
       "      <th>3</th>\n",
       "      <td>화 어설펐는데    화 지나서부터는 갈수록 너무 재밌던데</td>\n",
       "      <td>none</td>\n",
       "      <td>0.0</td>\n",
       "      <td>[화, 어설펐는데, 화, 지나서부터는, 갈수록, 너무, 재밌던데]</td>\n",
       "    </tr>\n",
       "    <tr>\n",
       "      <th>4</th>\n",
       "      <td>사람 얼굴 손톱으로 긁은것은 인격살해이고   동영상이 몰카냐  메걸리안들 생각...</td>\n",
       "      <td>hate</td>\n",
       "      <td>2.0</td>\n",
       "      <td>[사람, 얼굴, 손톱, 으로, 긁은것은, 인격, 살해, 이고, 동영상, 이, 몰카,...</td>\n",
       "    </tr>\n",
       "    <tr>\n",
       "      <th>...</th>\n",
       "      <td>...</td>\n",
       "      <td>...</td>\n",
       "      <td>...</td>\n",
       "      <td>...</td>\n",
       "    </tr>\n",
       "    <tr>\n",
       "      <th>969</th>\n",
       "      <td>대박 게스트    꼭 봐야징  컨셉이 바뀌니깐 재미지넹</td>\n",
       "      <td>NaN</td>\n",
       "      <td>NaN</td>\n",
       "      <td>[대박, 게스트, 꼭, 봐야, 징, 컨셉, 이, 바뀌니깐, 재미, 지, 넹]</td>\n",
       "    </tr>\n",
       "    <tr>\n",
       "      <th>970</th>\n",
       "      <td>성형으로 다 뜯어고쳐놓고 예쁜척  성형 전 니 얼굴 다 알고있다  순자처럼 된장냄새...</td>\n",
       "      <td>NaN</td>\n",
       "      <td>NaN</td>\n",
       "      <td>[성형, 으로, 다, 뜯어, 고쳐놓고, 예쁜, 척, 성형, 전, 니, 얼굴, 다, ...</td>\n",
       "    </tr>\n",
       "    <tr>\n",
       "      <th>971</th>\n",
       "      <td>분위기는 비슷하다만 전혀다른 전개던데 무슨    우리나라사람들은 분위기만 비슷하면 ...</td>\n",
       "      <td>NaN</td>\n",
       "      <td>NaN</td>\n",
       "      <td>[분위기, 는, 비슷하다만, 전혀, 다른, 전개, 던데, 무슨, 우리나라, 사람, ...</td>\n",
       "    </tr>\n",
       "    <tr>\n",
       "      <th>972</th>\n",
       "      <td>입에 손가릭이   개 있으니 징그럽다</td>\n",
       "      <td>NaN</td>\n",
       "      <td>NaN</td>\n",
       "      <td>[입, 에, 손가릭, 이, 개, 있으니, 징그럽다]</td>\n",
       "    </tr>\n",
       "    <tr>\n",
       "      <th>973</th>\n",
       "      <td>난 조보아 이뻐서 보는데 백종원 관심무</td>\n",
       "      <td>NaN</td>\n",
       "      <td>NaN</td>\n",
       "      <td>[난, 조보아, 이뻐서, 보는데, 백종원, 관심, 무]</td>\n",
       "    </tr>\n",
       "  </tbody>\n",
       "</table>\n",
       "<p>8870 rows × 4 columns</p>\n",
       "</div>"
      ],
      "text/plain": [
       "                                              comments label  label_band  \\\n",
       "0     현재 호텔주인 심정  아   난 마른하늘에 날벼락맞고 호텔망하게생겼는데 누군 계속...  hate         2.0   \n",
       "1        한국적인 미인의 대표적인 분   너무나 곱고아름다운모습   그모습뒤의 슬픔을...  none         0.0   \n",
       "2       못된 넘들   남의 고통을 즐겼던 넘들  이젠 마땅한 처벌을 받아야지   그래...  hate         2.0   \n",
       "3                      화 어설펐는데    화 지나서부터는 갈수록 너무 재밌던데  none         0.0   \n",
       "4       사람 얼굴 손톱으로 긁은것은 인격살해이고   동영상이 몰카냐  메걸리안들 생각...  hate         2.0   \n",
       "..                                                 ...   ...         ...   \n",
       "969                     대박 게스트    꼭 봐야징  컨셉이 바뀌니깐 재미지넹   NaN         NaN   \n",
       "970  성형으로 다 뜯어고쳐놓고 예쁜척  성형 전 니 얼굴 다 알고있다  순자처럼 된장냄새...   NaN         NaN   \n",
       "971  분위기는 비슷하다만 전혀다른 전개던데 무슨    우리나라사람들은 분위기만 비슷하면 ...   NaN         NaN   \n",
       "972                               입에 손가릭이   개 있으니 징그럽다   NaN         NaN   \n",
       "973                              난 조보아 이뻐서 보는데 백종원 관심무   NaN         NaN   \n",
       "\n",
       "                                                corpus  \n",
       "0    [현재, 호텔, 주인, 심정, 아, 난, 마른하늘, 에, 날벼락, 맞고, 호텔, 망...  \n",
       "1    [한국, 적, 인, 미인, 의, 대표, 적, 인, 분, 너무나, 곱, 고, 아름다운...  \n",
       "2    [못, 된, 넘, 들, 남, 의, 고통, 을, 즐겼던, 넘, 들, 이, 젠, 마땅한...  \n",
       "3                 [화, 어설펐는데, 화, 지나서부터는, 갈수록, 너무, 재밌던데]  \n",
       "4    [사람, 얼굴, 손톱, 으로, 긁은것은, 인격, 살해, 이고, 동영상, 이, 몰카,...  \n",
       "..                                                 ...  \n",
       "969         [대박, 게스트, 꼭, 봐야, 징, 컨셉, 이, 바뀌니깐, 재미, 지, 넹]  \n",
       "970  [성형, 으로, 다, 뜯어, 고쳐놓고, 예쁜, 척, 성형, 전, 니, 얼굴, 다, ...  \n",
       "971  [분위기, 는, 비슷하다만, 전혀, 다른, 전개, 던데, 무슨, 우리나라, 사람, ...  \n",
       "972                       [입, 에, 손가릭, 이, 개, 있으니, 징그럽다]  \n",
       "973                     [난, 조보아, 이뻐서, 보는데, 백종원, 관심, 무]  \n",
       "\n",
       "[8870 rows x 4 columns]"
      ]
     },
     "execution_count": 16,
     "metadata": {},
     "output_type": "execute_result"
    }
   ],
   "source": [
    "total"
   ]
  },
  {
   "cell_type": "code",
   "execution_count": 17,
   "metadata": {},
   "outputs": [
    {
     "name": "stdout",
     "output_type": "stream",
     "text": [
      "['BTS', 'JTBC', 'KBS', 'OOO', 'SM', 'SNS', 'TV', 'YG', 'aoa', 'bj', 'bts', 'bye', 'cf', 'com', 'god', 'https', 'jk', 'jyp', 'kbs', 'kg', 'mbc', 'mc', 'pd', 'sbs', 'sm', 'sns', 'to', 'tv', 'vs', 'xx', 'yg', 'ᆢᆢ', '가가', '가게', '가격', '가고', '가관', '가기', '가끔', '가나', '가난한', '가냐', '가네', '가는', '가는거', '가는건', '가는게', '가는데', '가능성', '가능한', '가니', '가도', '가득', '가득한', '가든', '가라', '가로세로', '가루', '가르치는', '가리는', '가만', '가만히', '가면', '가벼운', '가볍게', '가보', '가보네', '가볼', '가봐', '가봐도', '가봐라', '가봤을', '가사', '가서', '가세', '가수', '가스', '가슴', '가시길', '가식', '가야', '가왜', '가요', '가요무대', '가운데', '가자', '가장', '가정', '가정사', '가져라', '가족', '가즈', '가지', '가지가지', '가진', '가짜', '가치', '가치관', '가해자', '각자', '간건', '간다', '간만', '간이', '간지', '갈듯', '갈라', '갈수', '갈수록', '갈아', '갈지', '감당', '감독', '감동', '감방', '감사합니다', '감성', '감옥', '감은', '감정', '감정이입', '감탄', '감흥', '감히', '갑니다', '갑다', '갑자기', '갑질', '갔네', '갔는데', '갔다', '갔다가', '갔다고', '갔어', '갔으면', '갔을', '강간', '강남', '강동구', '강동원', '강성훈', '강소라', '강아지', '강요', '강용석', '강은비', '강제', '강조', '강지환', '강타', '강하게', '강하늘', '강한나', '강호동', '갖고', '갖다', '같고', '같기도', '같긴', '같긴한데', '같냐', '같네', '같네요', '같다', '같다는', '같더라', '같던데', '같습니다', '같아', '같아도', '같아서', '같아요', '같았음', '같어', '같으니', '같으면', '같은', '같은거', '같은건', '같은대', '같은데', '같은데요', '같음', '같이', '같지', '같지도', '개국', '개그', '개그맨', '개그우먼', '개극혐', '개꿀잼', '개념', '개는', '개돼지', '개론', '개리', '개막', '개멋', '개무시', '개발', '개봉', '개뿔', '개성', '개월', '개이득', '개인', '개티즌들', '개판', '거구', '거기', '거나', '거든', '거듭', '거래', '거론', '거르', '거른다', '거리', '거미', '거부', '거야', '거울', '거의', '거임', '거지', '거짓', '거짓말', '거참', '거품', '걱정', '건가', '건강', '건강하게', '건강하세요', '건강하시고', '건강한', '건데', '건물', '건지', '건축학', '건축학개론', '걷길', '걷자', '걸고', '걸그룹', '걸까', '걸러', '걸려', '걸리는거', '걸린', '걸면', '걸어', '검사', '검색', '검색어', '검은', '검찰', '겁나', '겁나게', '겁니다', '것임', '게다가', '게뭐', '게스트', '게이', '게임', '겠냐', '겠네', '겠다', '겠어', '겠죠', '겠지', '겨우', '격투', '견제', '견찰', '결과', '결국', '결론', '결말', '결별', '결정', '결혼', '결혼식', '결혼식장', '경규', '경기', '경력', '경로', '경우', '경쟁', '경제', '경찰', '경험', '계속', '계약', '계집', '계획', '고급', '고기', '고딩', '고로', '고마', '고마워', '고만', '고민', '고발', '고백', '고사', '고생', '고소', '고소영', '고스', '고양이', '고요', '고음', '고인', '고자', '고작', '고재', '고정', '고주원', '고지용', '고집', '고쳤네', '고추', '고치', '고통', '고함', '고해', '고현정', '골고루', '골목', '골빈', '골프', '곱단', '공간', '공감', '공개', '공격', '공부', '공산당', '공연', '공유', '공익', '공인', '공장', '공짜', '공통점', '공항', '공황장애', '공효진', '과거', '과는', '과연', '과의', '과정', '과학', '관계', '관계자', '관련', '관리', '관상', '관심', '관종', '관종짓', '관찰', '광고', '광대', '광수', '광신도', '광희', '괜찮게', '괜찮고', '괜찮다', '괜찮아', '괜찮은', '괜히', '괴롭히고', '굉장히', '교도소', '교수', '교육', '교체', '교회', '구걸', '구구단', '구나', '구라', '구린', '구만', '구먼', '구멍', '구석', '구설수', '구속', '구씨', '구역질', '구원파', '구찌', '구하라', '구해', '구혜선', '국가', '국과수', '국내', '국민', '국민성', '국보', '국뽕', '국악', '국적', '국제', '국회의원', '군대', '군복무', '군생활', '군인', '굳이', '궁굼', '궁금', '궁금하네', '궁금하다', '궁금한데', '궁금함', '궁금해', '궁금해서', '궁금했는데', '궁전', '궁합', '권력', '권리', '권상우', '권태기', '귀신', '귀여운', '귀여워', '귀엽고', '귀엽다', '귀지', '규현', '그간', '그거', '그건', '그걸', '그것', '그게', '그나마', '그나저나', '그냥', '그녀', '그니까', '그닥', '그대로', '그동안', '그딴', '그때', '그땐', '그래', '그래도', '그래서', '그래요', '그랬을까', '그랬음', '그러', '그러게', '그러고', '그러나', '그러냐', '그러네', '그러는거', '그러는거지', '그러는데', '그러니', '그러니까', '그러다', '그러다가', '그러더니', '그러면', '그러면서', '그러지', '그런', '그런거', '그런건', '그런게', '그런데', '그런지', '그럴', '그럴수', '그럴수도', '그럴줄', '그럼', '그렇', '그렇게', '그렇고', '그렇다', '그렇다고', '그렇지', '그렇지만', '그레이', '그룹', '그리', '그리고', '그리구', '그림', '그림자', '그립다', '그만', '그만큼', '그만하고', '그만해라', '그이', '그저', '그치만', '극복', '극성', '극혐', '근거', '근대', '근데', '근무', '근육', '근혜', '글래머', '글쎄', '금메달', '금방', '금보', '금수', '금액', '금지', '급식', '긋냐', '기간', '기계', '기는', '기다려', '기다렸어요', '기다리는', '기대', '기대되', '기대하고', '기대했는데', '기도', '기독교', '기러기', '기럭지', '기레기', '기록', '기를', '기만', '기본', '기부', '기분', '기쁨', '기사', '기사도', '기사화', '기생충', '기안', '기어', '기억', '기웃', '기원', '기일', '기자', '기자회견', '기적', '기전', '기준', '기지', '기형', '기회', '기획사', '긴장', '긴장감', '길거리', '길어', '길이', '김건모', '김고은', '김광규', '김구라', '김남길', '김남주', '김동명', '김명민', '김미화', '김민규', '김민희', '김범룡', '김병만', '김사랑', '김새론', '김생민', '김성수', '김성은', '김성주', '김세정', '김소연', '김수미', '김수현', '김숙', '김순옥', '김승현', '김씨', '김어준', '김연아', '김영희', '김요', '김원희', '김정은', '김정현', '김정훈', '김제동', '김종국', '김종민', '김주혁', '김지석', '김지원', '김치', '김태리', '김태호', '김태희', '김학래', '김해숙', '김현주', '김흥국', '김희선', '김희애', '김희철', '깁스', '깊이', '까고', '까는', '까라', '까면', '까요', '까이네', '까지', '까지가', '까지는', '까지도', '까진', '깎아', '깔끔하게', '깜놀', '깜방', '깜짝', '깡패', '꺼져', '꺼져라', '껍데기', '께서', '껴서', '꼬리', '꼬마', '꼬박꼬박', '꼬시', '꼬인', '꼭지', '꼰대', '꼰대들', '꼴깝', '꽃길', '꽃뱀', '꾸가', '꾸미고', '꿀잼', '끄고', '끊고', '끌어', '끝나고', '끝나면', '끝난', '끝내', '끼리', '끼리끼리', '끼워', '나가', '나가는', '나가라', '나가면', '나가서', '나갔네', '나게', '나경', '나고', '나나', '나네', '나는게', '나는데', '나도', '나들이', '나라', '나래', '나름', '나머지', '나면', '나물', '나발', '나부랭이', '나쁘냐', '나쁜', '나쁜사람', '나서', '나서서', '나서야', '나소', '나연', '나영석', '나오게', '나오겠지', '나오고', '나오길', '나오냐', '나오네', '나오는', '나오는거', '나오는거지', '나오는건', '나오는것도', '나오는데', '나오는지', '나오니', '나오니까', '나오니깐', '나오면', '나오세요', '나오지', '나오지마', '나오지마라', '나온', '나온거', '나온게', '나온다', '나온듯', '나온줄', '나올', '나올까', '나올듯', '나옴', '나와', '나와라', '나와서', '나와야', '나와요', '나와주세요', '나왔는데', '나왔던', '나왔으면', '나왔음', '나은', '나은데', '나이', '나인', '나잇', '나중', '나코', '나하', '나혼', '나혼산', '나혼자산다', '낙인', '난다', '난리', '난민', '난쟁이', '날듯', '남겨', '남궁민', '남규리', '남녀', '남매', '남성', '남아', '남양유업', '남욕', '남은', '남이사', '남자', '남자라면', '남자배우', '남자에게', '남자친구', '남잔', '남주', '남주는', '남주혁', '남충', '남친', '남탓', '남태현', '남편', '낫다', '났네', '났다', '낭비', '낳고', '낳는', '낳아', '낳아서', '낳으면', '낳은', '내고', '내기', '내내', '내냐', '내년', '내는', '내딸', '내려놓고', '내려라', '내리고', '내리는거', '내면', '내부', '내비', '내용', '내일', '내지', '낸시랭', '냄비', '냄새', '냉정하게', '너무', '너무나', '너무했다', '너희', '널리', '넘게', '넘나', '넘사벽', '넘아', '넘어가면', '넘으면', '넘은', '넘이', '넣고', '네이버', '네티즌', '년놈', '년대', '년도', '년생', '년안', '년전', '노노', '노답', '노라조', '노래', '노래방', '노력', '노릇', '노리개', '노무현', '노산', '노이즈', '노인', '노잼', '노처녀', '노총각', '노출', '노홍철', '논다', '논란', '논리', '놀고', '놀다가', '놀랍다', '놀러', '놀이', '농구', '높은', '놔라', '뇌물', '누가', '누구', '누군가', '누군데', '누군지', '누굴', '누나', '누드', '누르면', '누명', '눈물', '눈빛', '눈치', '뉴스', '느그', '느껴', '느껴진다', '느껴짐', '느끼는', '느끼하게', '느낌', '는걸', '는데', '늙고', '늙어', '늙어서', '늙은', '늙은이', '늙음', '능력', '늦은', '늦지', '니까', '니깐', '니엘', '님들', '다가', '다고', '다나', '다냐', '다녀', '다녀라', '다는', '다는것', '다니', '다니는', '다니는거', '다니던', '다니면서', '다니엘', '다닐', '다르게', '다르네', '다른', '다른건', '다른사람', '다를', '다름', '다리', '다만', '다솜', '다시', '다신', '다야', '다운', '다음', '다음주', '다이어트', '다지', '다쳐도', '다큐', '다한', '다해', '다행', '단독', '단발', '단속', '단순히', '단아', '단어', '단역', '단지', '달달', '달라', '달러', '달리', '달이', '닮아', '닮아서', '닮았네', '닮았네요', '닮았다', '닮았다고', '닮았음', '닮은', '닮음', '담배', '답답하다', '답답한', '답지', '당당하게', '당당히', '당사자', '당시', '당신', '당연하지', '당연한거', '당연한거지', '당연히', '당장', '당췌', '당하고', '당하는', '당하면', '당하지', '당한', '당한거', '당할', '당해라', '당해서', '대가', '대가리', '대고', '대기', '대기업', '대놓고', '대는거', '대다수', '대단', '대단하네', '대단하다', '대단하세요', '대단한', '대단해', '대도', '대들', '대디', '대로', '대리', '대마', '대머리', '대면', '대박', '대박나고', '대본', '대부분', '대사', '대상', '대성', '대세', '대수', '대신', '대역', '대왕', '대요', '대우', '대의', '대중', '대지', '대체', '대체로', '대출', '대충', '대타', '대통령', '대표', '대하', '대학', '대학원', '대한', '대한민국', '대해', '대현', '대화', '댄다', '댓글', '댓글다는', '댓글알바', '더구나', '더니', '더더', '더러운', '더러워', '더럽게', '더럽고', '더럽다', '더불어', '더빙', '더욱', '더운데', '덕분', '덕선', '던데', '덜덜', '덩어리', '덮으려고', '데려와서', '데리', '데뷔', '데이트', '도경', '도깨비', '도끼', '도대체', '도덕', '도둑', '도란', '도리', '도박', '도배', '도보', '도안', '도움', '도의', '도저히', '도중', '도하', '독박', '독보', '독점', '돈맛', '돈벌이', '돋는', '돌려', '돌리게', '돌림', '돌아', '돌이', '동갑', '동거', '동남아', '동네', '동료', '동물', '동방신기', '동백꽃', '동상', '동생', '동안', '동영상', '동윤', '동의', '동참', '돼서', '돼요', '돼지', '됐고', '됐냐', '됐네', '됐는데', '됐다', '됐다고', '됐어', '됐으면', '됐을', '됐지', '되게', '되겠네', '되겠다', '되고', '되길', '되나', '되나요', '되냐', '되네', '되네요', '되는', '되는거', '되는게', '되는데', '되는줄', '되니', '되니까', '되던데', '되도', '되도록', '되려', '되면', '되서', '되야', '되어', '되요', '되죠', '되지', '된거', '된것', '된게', '된다', '된다고', '된듯', '될거', '될것', '될것을', '될까', '될듯', '될수', '될지', '될텐데', '됩니다', '두고', '두루', '두면', '두지', '둘다', '둘이서', '둘째', '둥이', '둬라', '듀엣', '드는', '드디어', '드라마', '드러운', '드럽게', '드레스', '드려', '드려요', '드립', '드립니다', '득달', '든다', '든지', '듣고', '듣기', '듣는', '듣보', '듣보가', '듣보인데', '듣보잡', '들고', '들도', '들러리', '들만', '들보', '들아', '들어', '들어가', '들어가면', '들어간', '들어간다', '들어갈', '들어서', '들어와서', '들으면', '들은', '들이', '들인듯', '들임', '들입니다', '듯이', '등골', '등등', '등신', '등장', '디게', '디자인', '따뜻한', '따라', '따로', '따위', '따져', '따지면', '딱히', '딸도', '때기', '때려', '때리고', '때린', '때메', '때문', '땜시', '떠나', '떠나서', '떠난', '떨어', '떨어져', '떨어지네', '떨어지는', '떨어진', '떨어진다', '떨어짐', '또또', '또한', '똑같', '똑같고', '똑같네', '똑같다', '똑같아', '똑같은', '똑같이', '똑똑하고', '똑똑한', '똑바로', '똥폼', '뚱녀', '뚱뚱한', '뜨는', '뜬금없이', '뜯고', '뜯는', '뜯어', '띄워주는지', '라고', '라는', '라니', '라니까', '라도', '라디오', '라며', '라면', '라미란', '라서', '라스', '라이', '라이머', '라이브', '라이프', '라인', '라지', '랍시고', '랑께', '랑은', '래야', '랩퍼', '러브', '러블', '런가', '런닝맨', '레시피', '레이저', '레전드', '레즈', '려고', '로구나', '로남불', '로는', '로또', '로마', '로만', '로맨스', '로봇', '로부터', '로서', '로스쿨', '로써', '로이킴', '로코', '론데', '롤모델', '롱런', '루머', '루저', '류준열', '리가', '리그', '리기', '리더', '리도', '리얼', '리즈', '리즈시절', '마냥', '마네', '마녀', '마녀사냥', '마누라', '마니', '마다', '마닷', '마당', '마라', '마른', '마리', '마무리', '마블', '마세요', '마셔요', '마스', '마스크', '마시고', '마시길', '마약', '마약범', '마음', '마이', '마이크로', '마인드', '마지막', '마찬가지', '마취', '마치', '마케팅', '막내', '막내딸', '막말', '막상', '막장', '막장드라마', '만나', '만나게', '만나고', '만나는', '만나는건', '만나러', '만나면', '만나서', '만나세요', '만나야', '만나요', '만난', '만날', '만남', '만났으면', '만드', '만드냐', '만드는', '만든', '만들고', '만들어', '만들어서', '만들어야', '만수무강', '만약', '만에', '만원', '만으로', '만의', '만이', '만족', '만찬', '만치', '만큼', '만큼은', '만하', '만해', '만화', '많고', '많네', '많네요', '많다', '많던데', '많아', '많아도', '많아서', '많아요', '많으니', '많으니까', '많으면', '많은', '많은건', '많은데', '많은지', '많을', '많을까', '많을듯', '많을텐데', '많음', '많이', '많지', '많지만', '말고', '말고는', '말길', '말던', '말로', '말씀', '말아라', '말아요', '말투', '맘껏', '맘대로', '맘충', '맙시', '맛집', '망신', '망정', '망치', '망하게', '망하면', '망한', '망할', '망해라', '망했다', '맞게', '맞고', '맞나', '맞네', '맞는', '맞는다', '맞는데', '맞는듯', '맞는말', '맞는지', '맞다', '맞아', '맞은', '맞을', '맞음', '맞죠', '맞지', '맞지만', '맞추기', '맞춰', '매니저', '매력', '매번', '매우', '매일', '매장', '매주', '매회', '맥주', '맨날', '머냐', '머리', '머리스타일', '머리카락', '먹게', '먹고', '먹기', '먹나', '먹냐', '먹네', '먹는', '먹는거', '먹는다', '먹다', '먹다가', '먹방', '먹어', '먹어도', '먹어라', '먹어서', '먹어요', '먹여', '먹으니', '먹으러', '먹으면', '먹으면서', '먹은', '먹을', '먹이', '먹지', '먹튀', '먼가', '먼데', '먼저', '먼지', '멀리', '멋있고', '멋있는', '멋있다', '멋있어', '멋있어요', '멋져', '멋져요', '멋지고', '멋지다', '멋진', '멋집니다', '메이드', '메인', '메인보컬', '멘탈', '멘트', '멜로', '멤버', '며느리', '며칠', '면상', '면서', '면접', '명도', '명복', '명수', '명예', '명예훼손', '명의', '명절', '명품', '몇개', '몇번', '몇십', '모델', '모두', '모든', '모르겠', '모르겠고', '모르겠네', '모르겠네요', '모르겠는데', '모르겠다', '모르겠음', '모르겠지만', '모르고', '모르나', '모르는', '모르는것', '모르는데', '모르면서', '모르지만', '모를까', '모름', '모성애', '모습', '모씨', '모양', '모유', '모임', '모자', '모텔', '목사', '목소리', '목숨', '목적', '목표', '몰고', '몰라', '몰라도', '몰라서', '몰랐다', '몰려와서', '몰아', '몰입', '몰입도', '몰카', '몸매', '몸무게', '무관', '무관심', '무당', '무대', '무도', '무릎', '무명', '무사히', '무서운', '무서워', '무서워서', '무섭다', '무슨', '무시', '무식한', '무엇', '무인도', '무자식', '무조건', '무죄', '무지', '무한도전', '무혐의', '문씨', '문재인', '문제', '문죄인', '문화', '문희준', '물건', '물론', '물어', '물이', '뭐라', '뭐라고', '뭐라도', '뭐랄까', '뭐임', '뭐함', '뭔가', '뭘또', '뮤비', '뮤지', '뮤지션', '뮤지컬', '미개한', '미국', '미국인', '미나', '미남', '미녀', '미는', '미도', '미래', '미리', '미모', '미성년', '미세먼지', '미수', '미스코리아', '미애', '미용', '미우', '미움', '미인', '미친', '미투', '미혼', '미화', '민가', '민간인', '민국', '민수', '민아', '민족', '민주', '민주당', '민폐', '믿고', '믿고거', '믿는', '믿는다', '믿습니다', '믿어', '믿어요', '믿음', '밀려', '밀어', '바가지', '바깥', '바꿔', '바꿔라', '바꿔서', '바뀌고', '바뀐', '바다', '바닥', '바란다', '바랄게요', '바람', '바람둥이', '바랍니다', '바랬는데', '바로', '바르게', '바르고', '바른', '바리', '바보', '바이러스', '바지', '바하', '박근혜', '박나래', '박명수', '박민영', '박보검', '박보영', '박봄', '박살', '박서준', '박성광', '박수', '박수홍', '박신혜', '박아', '박완규', '박유천', '박은혜', '박일', '박정희', '박진영', '박한별', '박해미', '박호', '밖에', '반대', '반드시', '반말', '반면', '반박', '반복', '반성', '반응', '반전', '받고', '받는', '받는게', '받는다', '받아', '받아도', '받아라', '받아서', '받아야', '받아야지', '받으려고', '받으면', '받으면서', '받으세요', '받은', '받을', '받을듯', '받지', '발견', '발리', '발부', '발뺌', '발성', '발악', '발암', '발언', '발연기', '발음', '발전', '발정', '발톱', '발표', '밝고', '밝은', '밝혀', '밝혀지면', '밝히는', '밥맛', '밥상', '방금', '방법', '방송', '방송국', '방송사', '방송인', '방송출연', '방식', '방영', '방탄', '방탄소년단', '방해', '방향', '배경', '배기', '배는', '배달', '배드', '배려', '배신', '배알', '배역', '배우', '배우는', '배우자', '배운', '배워', '배워라', '배웠나', '백상', '백수', '백승', '백정', '백종원', '백지영', '백퍼', '밴드', '버닝', '버닝썬', '버들', '버려', '버려라', '버릇', '버리고', '버리네', '버린', '버림', '번은', '번째', '번호', '벌고', '벌금', '벌기', '벌레', '벌써', '벌어', '벌어서', '범인', '범죄', '범죄자', '법대', '법안', '법원', '법적', '법적대응', '법칙', '벗고', '베기', '베댓', '베베', '베트남', '벼슬', '변기', '변명', '변신', '변제', '변태', '변하지', '변한다', '변함', '변호사', '별개', '별거', '별것', '별로', '별루', '병맛', '병문안', '병원', '병자', '병헌', '보검', '보게', '보겠다', '보고', '보고싶다', '보고싶은', '보고싶은데', '보군', '보기', '보긴', '보길', '보나', '보나마나', '보내', '보내고', '보내라', '보냐', '보네', '보네요', '보는', '보는거', '보는게', '보는내내', '보는데', '보니', '보다', '보다가', '보다는', '보다니', '보단', '보답', '보던', '보도', '보드', '보라', '보란', '보러', '보려고', '보며', '보면', '보면되', '보면서', '보복', '보살', '보상', '보석', '보세요', '보소', '보수', '보시', '보신', '보아', '보여', '보여요', '보여주세요', '보여줘라', '보이', '보이냐', '보이네요', '보이는', '보이는거지', '보이는데', '보이던데', '보이드', '보이지', '보인다', '보임', '보자', '보정', '보지', '보컬', '보태', '보통', '보호', '복권', '복귀', '복면', '복수', '복장', '본능', '본다', '본다고', '본방', '본성', '본업', '본인', '본적', '본질', '볼거', '볼까', '볼듯', '볼때', '볼려고', '볼수', '볼수록', '볼일', '봅니다', '봅시다', '봉사', '봉태규', '봐도', '봐라', '봐서', '봐야', '봐야지', '봐요', '봐주고', '봐주자', '봤네', '봤네요', '봤는데', '봤다', '봤던', '봤어요', '봤으면', '봤을', '봤음', '봤자', '봤지만', '뵈기', '부끄러운줄', '부는', '부대', '부들', '부들부들', '부디', '부러', '부러우면', '부러운', '부러워', '부러워서', '부러워요', '부럽', '부럽네', '부럽네요', '부럽다', '부럽다고', '부로', '부류', '부르는', '부모', '부모님', '부부', '부분', '부사', '부산', '부시', '부엉이', '부인', '부자', '부정', '부족', '부추기는', '부탁', '부탁드려요', '부탁드립니다', '부터', '부활', '북한', '분도', '분들', '분량', '분명', '분명히', '분별', '분야', '분위기', '분해', '불가', '불구', '불러', '불러서', '불렀냐', '불륜', '불만', '불매', '불법', '불쌍', '불쌍타', '불쌍하다', '불쌍한', '불쌍해', '불임', '불청', '불타는', '불편', '불편하다', '불편한가', '불편해', '불행', '불호', '붕어빵', '붙이', '브라', '블랙', '블랙리스트', '블로그', '블핑', '비걸', '비공개', '비교', '비극', '비꼬는', '비난', '비누', '비는', '비디오', '비록', '비리', '비밀', '비방', '비슷한', '비싼', '비위', '비율', '비주', '비쥬', '비즈니스', '비추', '비키니', '비판', '비하', '비해', '비호감', '빅뱅', '빈자리', '빌보드', '빕니다', '빚쟁이', '빚투', '빚투비', '빠는', '빠른', '빠순이', '빠져라', '빠지게', '빠지고', '빠진', '빨간', '빨갱이', '빨리', '빵빵', '빼고', '빼곤', '빼도', '빼면', '빼야', '뻔하지', '뻔한', '뻔해', '뻔히', '뿌리', '뿜뿜', '사거리', '사건', '사고', '사과', '사과문', '사귀는거', '사귀면', '사귄다고', '사귐', '사극', '사기', '사기꾼', '사나', '사내', '사냐', '사네', '사는', '사는게', '사는데', '사단', '사람', '사람과', '사람인', '사랑', '사랑스럽고', '사리', '사망', '사모님', '사범', '사부', '사생아', '사생활', '사서', '사세요', '사수', '사시', '사시길', '사실', '사업', '사업가', '사용', '사원', '사위', '사이', '사이다', '사이비', '사인', '사장', '사전', '사정', '사죄', '사진', '사촌형', '사쿠라', '사투리', '사형', '사회', '삭제', '산다', '산이', '살기', '살다', '살다가', '살다보면', '살려', '살려고', '살림', '살맛', '살면서', '살빼면', '살아도', '살아라', '살아야', '살아요', '살어', '살이', '살인', '살인마', '살인자', '살자', '살좀', '살짝', '살찐', '삼가', '삼가고인의', '삼고', '삼성', '삼촌', '상가', '상관', '상권', '상당히', '상대', '상상', '상속', '상습', '상식', '상영', '상위', '상이', '상인', '상임', '상종', '상주', '상처', '상태', '상폐', '상품화', '상하', '상황', '새기', '새끼', '새로운', '새벽', '새삼', '생각', '생각나네', '생각나네요', '생각나서', '생각난다', '생각남', '생겨', '생겨도', '생겨서', '생겼고', '생겼네', '생겼는데', '생겼다', '생기', '생긴', '생긴거', '생긴건', '생긴게', '생긴대로', '생김', '생리', '생명', '생활', '샤이니', '서강준', '서기', '서는', '서도', '서로', '서른', '서민', '서서', '서야', '서양인', '서열', '서울', '서울대', '서인영', '서장훈', '서점', '서태지', '서현', '서현진', '선남선녀', '선동', '선물', '선미', '선배', '선비', '선생', '선생님', '선수', '선씨', '선예', '선정', '선처', '선택', '설렘', '설리', '설마', '설명', '설사', '설아', '설정', '설탕', '설현', '섭외', '성가', '성격', '성공', '성공한', '성과', '성관계', '성기', '성매매', '성범죄', '성범죄자', '성별', '성비', '성욕', '성우', '성유리', '성은', '성인', '성적', '성질', '성추행', '성폭력', '성폭행', '성형', '성훈', '성희롱', '세계', '세금', '세기', '세대', '세명', '세상', '세월', '세월호', '세탁', '섹스', '섹시', '센스', '센터', '소감', '소개', '소녀', '소녀시대', '소름', '소리', '소문', '소설', '소속', '소속사', '소송', '소시', '소식', '소연', '소유진', '소율', '소이현', '소재', '소지섭', '소향', '소환', '속도위반', '속보', '속이', '손가락', '손님', '손담비', '손승연', '손예진', '손절', '손흥민', '솔로', '솔지', '솔직하게', '솔직히', '송가', '송강호', '송민호', '송윤아', '송은이', '송종국', '송중기', '송지효', '송창의', '송혜교', '수가', '수고', '수단', '수도', '수록', '수만', '수면', '수백', '수사', '수상소감', '수술', '수신료', '수십', '수아', '수연', '수영복', '수입', '수작', '수준', '수지', '수치', '수치심', '수형', '순간', '순산', '순서', '순식간', '순위', '순이', '순진한', '숟가락', '술집', '쉐프', '쉬는', '쉬세요', '쉴드', '쉽게', '쉽지', '슈가', '슈돌', '슈퍼맨', '스노우', '스님', '스러', '스러운', '스런', '스럽게', '스럽다', '스럽지', '스럽지도', '스브스', '스스로', '스승', '스엠', '스윗', '스카이', '스캔들', '스케치북', '스타', '스타일', '스탈', '스텝', '스토리', '스튜디오', '스트레스', '스파이', '스파이크', '스펙', '스포', '스포츠', '슬슬', '슬픈', '슬픔', '습관', '승기', '승리', '승무원', '승부', '승자', '승재', '시간', '시간대', '시국', '시궁창', '시기', '시끄러', '시대', '시댁', '시도', '시름', '시발', '시부모', '시비', '시상식', '시선', '시술', '시아버지', '시어머니', '시언', '시작', '시장', '시절', '시점', '시즌', '시집', '시청', '시청률', '시청율', '시청자', '시켜', '시켜라', '시켜서', '시켜야', '시키고', '시키는', '시키자', '시킨', '시킨다', '시효', '식구', '식당', '식상하다', '식상하지', '식이', '신경', '신경안', '신고', '신나서', '신다은', '신도', '신동', '신동미', '신동엽', '신동욱', '신랑', '신뢰', '신민아', '신봉선', '신부', '신분', '신비', '신상', '신성록', '신소율', '신수지', '신은', '신인', '신입', '신자', '신정환', '신지', '신천지', '신청', '신체', '신혜선', '신혼', '실검', '실력', '실루엣', '실망', '실명', '실물', '실상', '실수', '실시간', '실실', '실어', '실장', '실제', '실종', '실체', '실화', '싫고', '싫다', '싫다고', '싫어', '싫어도', '싫어서', '싫어요', '싫어하는', '싫어할까', '싫어합니다', '싫으면', '싫은', '싫은데', '싫을듯', '싫음', '심각하게', '심리', '심보', '심사', '심장마비', '심정', '심지어', '심판', '심하게', '심하다', '심해', '십년', '싱어', '싶나', '싶냐', '싶네요', '싶다', '싶던데', '싶어', '싶어서', '싶어요', '싶었는데', '싶으면', '싶은', '싶은데', '싶음', '싸가지', '싸구려', '싸면서', '싸움', '싸이', '싸이코', '싸이코패스', '쌈디', '쌍둥이', '쌍방', '쌍수', '쌍욕', '쌍판', '쌓고', '쌤통', '써니', '써라', '써서', '써주세요', '썩은', '썼네', '쓰고', '쓰냐', '쓰네', '쓰는', '쓰레기', '쓰면', '쓰세요', '쓰시', '쓰지', '쓰지마', '쓰지마라', '쓰지말고', '쓴다', '쓸게', '쓸모', '씨엔블루', '씩씩하게', '씹선비', '씹어', '아가', '아가리', '아가씨', '아기', '아까', '아까운', '아까워', '아깝', '아깝고', '아깝네요', '아깝다', '아나운서', '아내', '아냐', '아녀', '아는', '아는데', '아니', '아니가', '아니겠지', '아니고', '아니구', '아니까', '아니냐', '아니네', '아니니', '아니다', '아니든', '아니라', '아니라고', '아니라는', '아니라며', '아니라면', '아니란', '아니면', '아니면서', '아니야', '아니었나', '아니었으면', '아니었음', '아니에요', '아니였나', '아니잖아', '아니죠', '아니지', '아니지만', '아닌', '아닌가', '아닌가요', '아닌거', '아닌것', '아닌게', '아닌데', '아닌듯', '아닌지', '아닐까', '아닐듯', '아님', '아닙니다', '아들', '아래', '아름다', '아름다운', '아리', '아마', '아무', '아무나', '아무런', '아무리', '아무튼', '아버님', '아버지', '아베', '아보', '아부지', '아빠', '아쉬움', '아쉬워서', '아쉬워요', '아쉽', '아쉽네요', '아쉽다', '아쉽지만', '아스', '아시', '아아', '아역', '아예', '아웃', '아유', '아이', '아이고', '아이돌', '아이유', '아이즈', '아이콘', '아저씨', '아주', '아줌마', '아지', '아직', '아직도', '아치', '아침', '아티스트', '아파서', '아프네요', '아프리카', '아픈', '아플까', '아픔', '악마', '악역', '악의', '악질', '악플', '악플다냐', '악플다는', '악플러', '안감', '안검', '안경', '안나', '안남', '안내', '안녕하세요', '안다', '안달', '안도', '안되', '안되고', '안되냐', '안되네', '안되는', '안되는거', '안되면', '안되서', '안되요', '안되죠', '안되지', '안된', '안된다', '안된다고', '안될것', '안됨', '안무', '안보', '안습', '안심', '안쓰럽다', '안재현', '안좋다', '안좋아', '안좋으면', '안좋은', '안주', '안타깝네', '안타깝네요', '안타깝다', '안타깝지만', '안티', '안하면', '안함', '안해', '안현모', '안효섭', '앉아서', '앉았네', '않게', '않겠습니다', '않겠지', '않고', '않나', '않나요', '않냐', '않네', '않네요', '않는', '않는다', '않는데', '않다', '않더라', '않습니다', '않아', '않아서', '않아요', '않았나', '않았는데', '않았으면', '않았음', '않은', '않은데', '않을까', '않음', '알겠는데', '알겠다', '알겠지', '알겠지만', '알고있는데', '알려', '알면서', '알바', '알수가', '알아라', '알아서', '알아야', '알아야지', '알아요', '알았', '알았네', '알았는데', '알았다', '알았더니', '알았으면', '알았음', '알콩달콩', '암튼', '앞가림', '앞뒤', '애가', '애교', '애국', '애국자', '애기', '애나', '애도', '애먼', '애비', '애쓴다', '애액', '애인', '애정', '애초', '앨범', '앵두', '앵벌이', '야구', '야동', '야하지', '야한다', '야한다고', '야할', '야함', '약간', '약국', '약속', '약해', '양녀', '양다리', '양동근', '양반', '양배추', '양보', '양성', '양세종', '양세형', '양심', '양악수술', '양예원', '양육비', '양준', '양쪽', '양현석', '얘기', '어거지', '어그', '어깨', '어나', '어느', '어도', '어디', '어디가', '어디서', '어딜', '어딨냐', '어때', '어때서', '어떠냐', '어떤', '어떻', '어떻게', '어려', '어려서', '어려운', '어려움', '어렸을', '어른', '어리고', '어린', '어린게', '어린데', '어린시절', '어릴', '어마', '어머니', '어묵', '어보', '어서', '어울려', '어울려요', '어울리는', '어울리는데', '어울린다', '어울릴거', '어울림', '어이', '어이쿠', '어제', '어지간히', '어짜피', '어째', '어쨌든', '어쩌', '어쩌다', '어쩌다가', '어쩌라고', '어쩌라구', '어쩐', '어쩐지', '어쩔', '어쩜', '어찌', '어차피', '어케', '어휴', '억울', '억울하게', '억울한', '억이', '억지', '억지로', '언급', '언능', '언니', '언론', '언론플레이', '언제', '언제나', '언젠가', '언플', '얻어', '얼굴', '얼도', '얼른', '얼마', '얼마나', '얼핏', '엄마', '엄지', '엄청', '엄청난', '엄현경', '업다', '업보', '업소', '업자', '없게', '없겠지', '없고', '없구나', '없긴', '없나', '없나보다', '없나요', '없냐', '없네', '없네요', '없는', '없는거', '없는거야', '없는거지', '없는게', '없는데', '없는듯', '없는지', '없니', '없다', '없다고', '없다는', '없더라', '없던', '없던데', '없습니다', '없어', '없어도', '없어서', '없어요', '없어져서', '없어지고', '없었는데', '없었다', '없으니', '없으니까', '없으면', '없을거', '없을듯', '없음', '없이', '없인', '없자나', '없잖아', '없지', '없지만', '엉덩이', '엉망', '에가', '에게', '에게는', '에게도', '에게서', '에겐', '에구', '에나', '에는', '에다', '에다가', '에도', '에디킴', '에를', '에릭', '에만', '에서', '에서나', '에서는', '에서도', '에서만', '에선', '에스', '에스더', '에요', '에이', '에이미', '에이스', '에이프릴', '엑소', '엑스', '엔딩', '엠씨', '엠씨몽', '여기', '여기서도', '여기저기', '여러', '여러분', '여럿', '여론', '여론몰이', '여름', '여배우', '여서', '여성', '여성인권', '여시', '여신', '여왕', '여우', '여운', '여자', '여자도', '여자애', '여자친구', '여적', '여전히', '여주', '여지', '여진구', '여친', '여태', '여편네', '여하튼', '여행', '여행가', '여혐', '역겨워', '역겹다', '역대', '역사', '역시', '역할', '엮어', '연결', '연구소', '연극', '연기', '연기대상', '연기력', '연기자', '연락', '연령', '연말', '연배', '연봉', '연상', '연세대', '연습', '연습생', '연애', '연예', '연예계', '연예인', '연예인병', '연옌', '연인', '연장', '연좌제', '연출', '연하', '연하남', '열등감', '열린', '열심', '열심히', '열애', '열애설', '열정', '열폭', '염병', '염정아', '염치', '였고', '였나', '였는데', '였다', '였습니다', '였어', '였어요', '였으면', '였음', '였지', '영감', '영상', '영어', '영업', '영원한', '영원히', '영재', '영혼', '영화', '영화로', '옆집', '예고', '예고편', '예능', '예능인', '예뻐', '예뻐라', '예뻐서', '예뻐요', '예쁘', '예쁘게', '예쁘고', '예쁘기만', '예쁘네', '예쁘네요', '예쁘니까', '예쁘다', '예쁘다고', '예쁜', '예쁜데', '예쁨', '예상', '예서', '예수님', '예술', '예언', '예요', '예원', '예은', '예의', '예전', '예진', '옛날', '오고', '오나라', '오냐오냐', '오는', '오늘', '오달수', '오디션', '오래', '오래오래', '오랜', '오로지', '오면', '오버', '오빠', '오영주', '오정연', '오죽하면', '오줌', '오지', '오지랖', '오징어', '오창석', '오크', '오픈', '오해', '오히려', '옥주현', '온갖', '온거', '온몸', '온유', '온통', '올라', '올라가', '올라간', '올라간다', '올려', '올려라', '올리고', '올리는', '올리는지', '올리면', '올리지마', '올린', '올해', '옹호', '와도', '와서', '와우', '와이지', '와이프', '와중', '완벽하게', '완벽한', '완전', '완치', '왔네', '왔는데', '왔다', '왔습니다', '왕따', '왜구', '왜캐', '왜케', '왠만하면', '왠지', '왤케', '외교', '외국', '외국인', '외도', '외면', '외모', '외식', '외쳐', '왼쪽', '요가', '요구', '요리', '요새', '요요', '요즘', '욕먹고', '욕먹네', '욕먹어야', '욕먹을', '욕심', '욕함', '용기', '용서', '용어', '용인', '우동', '우려', '우롱', '우리', '우리나라', '우린', '우선', '우수', '우승', '우연히', '우와', '우울증', '우유', '우익', '우파', '운동', '운동선수', '운명', '운전', '울어', '웃겠다', '웃겨', '웃겼음', '웃고', '웃기', '웃기는', '웃기지도', '웃긴', '웃긴다', '웃김', '웃는', '웃음', '워낙', '원걸', '원더걸스', '원래', '원빈', '원숭이', '원인', '원작', '원조', '원호', '월드', '웨딩', '웬디', '웹툰', '위기', '위너', '위로', '위생', '위자료', '위치', '위해', '윌리엄', '유가족', '유건', '유기', '유난', '유느님', '유독', '유동근', '유리', '유명', '유명인', '유명하지', '유명한', '유모차', '유병재', '유부', '유부녀', '유분수', '유산', '유승준', '유시민', '유시춘', '유아인', '유연석', '유이', '유인나', '유일하게', '유일한', '유재석', '유전자', '유지', '유진', '유착', '유천', '유치해서', '유치해요', '유투브', '유튜브', '유포', '유하', '유학', '유행', '유행어', '유혹', '유흥업소', '유희열', '육갑', '육아', '육중', '윤미래', '윤박', '윤서인', '윤세아', '윤소희', '윤아', '윤은혜', '윤정', '윤종신', '윤지성', '윤지오', '윤진이', '으로', '으로가', '으로는', '으로도', '으로만', '으로서', '으로써', '으론', '으이', '은근', '은애', '은우', '은인', '은지원', '은퇴', '은혁', '음식', '음식점', '음악', '음원', '음주', '음주운전', '읍니', '응원', '의견', '의대', '의도', '의리', '의무', '의문', '의미', '의사', '의상', '의식', '의심', '의원', '의지', '의학', '의혹', '이건', '이겠지만', '이경규', '이고', '이구', '이구나', '이구만', '이국주', '이군', '이그', '이기', '이긴', '이길', '이나', '이나라', '이나영', '이냐', '이네', '이는', '이니', '이니까', '이다', '이다해', '이대', '이던', '이도', '이동국', '이든', '이따위', '이딴', '이라', '이라고', '이라는', '이라니', '이라도', '이라서', '이라지만', '이란', '이랑', '이랑은', '이래', '이래서', '이러고', '이러는', '이러니', '이러다', '이러쿵저러쿵', '이런', '이런거', '이런건', '이런게', '이럴', '이럼', '이렇게', '이를', '이름', '이리', '이마', '이면', '이명박', '이모', '이목구비', '이몽', '이미', '이미지', '이민정', '이민호', '이번', '이별', '이병헌', '이보', '이분', '이빨', '이뻐', '이뻐서', '이뻐요', '이뻤는데', '이쁘', '이쁘게', '이쁘고', '이쁘구만', '이쁘기만', '이쁘긴', '이쁘네', '이쁘네요', '이쁘니까', '이쁘다', '이쁘더라', '이쁘던데', '이쁘면', '이쁘신', '이쁜', '이쁜거', '이쁜게', '이쁜데', '이쁠거', '이쁨', '이사', '이상', '이상민', '이상아', '이상우', '이상윤', '이상은', '이상하게', '이상하고', '이상한', '이상한거', '이상해', '이상화', '이서', '이서진', '이석훈', '이성', '이성경', '이성우', '이세', '이세영', '이소라', '이솜', '이수', '이수근', '이슈', '이승기', '이승윤', '이시언', '이신', '이심', '이야', '이야기', '이어', '이어서', '이었는데', '이었다', '이에요', '이엘리야', '이여', '이연희', '이열음', '이영애', '이영자', '이완', '이용', '이용진', '이유', '이유리', '이익', '이자', '이자나', '이정재', '이제', '이제야', '이종석', '이종현', '이준', '이중', '이중성', '이지', '이지만', '이진', '이쯤', '이참', '이창섭', '이채', '이탈리아', '이태임', '이필모', '이하', '이해', '이혁', '이현', '이형', '이호석', '이혼', '이홍기', '이효리', '이후', '이휘재', '인가', '인가요', '인간', '인거', '인걸', '인게', '인격', '인기', '인데', '인들', '인맥', '인물', '인사', '인상', '인생', '인성', '인스타', '인연', '인위', '인정', '인조', '인증', '인지', '인지도', '인척', '인터넷', '인터뷰', '인한', '인해', '인형', '일까', '일단', '일도', '일듯', '일로', '일리', '일만', '일반', '일반인', '일방', '일베', '일베충', '일본', '일본인', '일부', '일부러', '일상', '일어나', '일으키고', '일이', '일인', '일일', '일자리', '일정', '일주일', '일지', '일진', '일찍', '일체', '일터', '일텐데', '일해', '읽고', '읽어', '읽어도', '임마', '임산부', '임신', '임영웅', '임지연', '임창정', '임현주', '입고', '입국', '입김', '입니다', '입니당', '입다', '입담', '입대', '입맛', '입술', '입양', '입으면', '입은', '입장', '입학', '잇고', '잇는', '잇는데', '잇는지', '있게', '있겠지', '있고', '있구나', '있기를', '있나', '있나요', '있냐', '있네', '있네요', '있는', '있는거', '있는거야', '있는거지', '있는건', '있는게', '있는데', '있는듯', '있는지', '있니', '있다', '있다고', '있다는', '있다는걸', '있다면', '있더만', '있던', '있던데', '있도록', '있습니다', '있어', '있어도', '있어라', '있어서', '있어요', '있었겠지', '있었고', '있었나', '있었는데', '있었던', '있었을', '있었음', '있으니', '있으니까', '있으면', '있을', '있을거', '있을까', '있을듯', '있을텐데', '있음', '있잖아', '있죠', '있지', '있지만', '잊고', '잊지', '자가', '자격', '자격지심', '자고', '자극', '자기', '자꾸', '자녀', '자도', '자동차', '자라', '자랄', '자랑', '자리', '자리매', '자막', '자매', '자발', '자백', '자빠졌네', '자살', '자세', '자숙', '자식', '자신', '자신감', '자연', '자연스런', '자연스레', '자연인', '자영', '자유', '자유롭게', '자임', '자제', '자존심', '자주', '자중', '자체', '작가', '작고', '작곡', '작년', '작업', '작위', '작은', '작작', '작정', '작품', '잔나비', '잖아', '잘가요', '잘나가는', '잘난', '잘만', '잘못', '잘버', '잘사는', '잘사세요', '잘살고', '잘생겨서', '잘생겼고', '잘생겼네', '잘생겼네요', '잘생겼는데', '잘생겼다', '잘생기고', '잘생긴', '잘생김', '잘하', '잘하고', '잘한', '잘해야', '잠깐', '잠수', '잠시', '잠자리', '잡고', '잡는', '잡아', '잡아라', '잡아먹어서', '잡았다고', '장가', '장나라', '장난', '장님', '장담', '장도연', '장동건', '장례식', '장르', '장면', '장모', '장모님', '장미희', '장백지', '장사', '장소', '장신영', '장애', '장우혁', '장윤정', '장이', '장인', '장자연', '장재인', '장태준', '재결합', '재기', '재는', '재능', '재력', '재미', '재미없고', '재미없는', '재미없다', '재미없다고', '재미없어', '재미없어요', '재미없음', '재미있게', '재미있고', '재미있는', '재미있음', '재밋', '재밌게', '재밌고', '재밌기만', '재밌는', '재밌는데', '재밌다', '재밌다고', '재밌던데', '재밌어', '재밌어요', '재밌었다', '재밌음', '재방', '재벌', '재범', '재산', '재상', '재석', '재수', '재수없게', '재앙', '재인', '재혼', '쟁이', '저건', '저걸', '저기', '저녁', '저래', '저러고', '저러니', '저러지', '저런', '저런거', '저런데', '저럼', '저렇게', '저리', '저번', '저지른', '저희', '적극', '적당히', '적도', '적어도', '적용', '적은', '적응', '적폐', '전개', '전국', '전남편', '전두환', '전라도', '전라디언', '전문가', '전부', '전생', '전설', '전성기', '전세계', '전소민', '전액', '전역', '전용', '전이', '전자발찌', '전작', '전쟁', '전지현', '전체', '전혀', '전현무', '전형', '전화', '절대', '절대로', '절절', '절친', '절하', '젊고', '젊은', '젊을', '점수', '점점', '접고', '접근', '접대', '정겨운', '정경호', '정국', '정권', '정글', '정답', '정도', '정돈', '정리', '정말', '정모', '정미', '정법', '정보', '정복', '정부', '정상', '정상인', '정선', '정선희', '정성', '정소영', '정신', '정신병', '정아', '정액', '정용화', '정우', '정우성', '정유미', '정의', '정이', '정작', '정준', '정준영', '정준호', '정치', '정해', '젖꼭지', '제니', '제대로', '제도', '제목', '제발', '제보', '제시', '제시카', '제일', '제자', '제작', '제적', '제주도', '제품', '제해', '젝키', '젠데', '조강지처', '조개', '조건', '조국', '조그만', '조금', '조기', '조롱', '조만간', '조문', '조민기', '조보아', '조사', '조사해', '조상', '조선', '조선시대', '조선일보', '조선족', '조세호', '조센징', '조신', '조심하세요', '조심해라', '조아', '조언', '조여정', '조연', '조용필', '조용하네', '조용히', '조이', '조인성', '조작', '조장', '조재현', '조절', '조정석', '조차', '조카', '조커', '조폭', '조합', '조혜련', '조화', '족속', '존경', '존나', '존못', '존예', '존잘', '존재', '존중', '졸라', '좀더', '좀비', '좀해', '좁은', '종교', '종국', '종료', '종방', '종영', '종원', '종이', '종일', '종자', '종종', '종특', '좋게', '좋겟다', '좋겠네', '좋겠네요', '좋겠다', '좋겠습니다', '좋겠어', '좋겠어요', '좋겠음', '좋고', '좋냐', '좋네', '좋네요', '좋다', '좋다고', '좋다는', '좋던데', '좋습니다', '좋아', '좋아서', '좋아요', '좋아하고', '좋아하나', '좋아하네', '좋아하는', '좋아하는데', '좋아하지', '좋아할', '좋아함', '좋았고', '좋았는데', '좋았을텐데', '좋았음', '좋으니까', '좋으면', '좋은', '좋은가', '좋은데', '좋을', '좋을까', '좋을듯', '좋을텐데', '좋음', '좋지', '좋지만', '좌빨', '좌좀', '좌파', '좌표', '죄값', '죄다', '죄인', '죗값', '주가', '주고', '주기', '주는', '주도', '주말', '주먹', '주면', '주민', '주방', '주변', '주사', '주세요', '주시', '주식', '주신', '주연', '주워', '주위', '주의', '주의자', '주인', '주인공', '주작', '주장', '주적', '주접', '주제', '주진모', '죽기전에', '죽어', '죽어도', '죽었는데', '죽었다', '죽었다고', '죽여', '죽은', '죽은건', '죽음', '죽인', '죽일', '죽지', '준다', '준다고', '준비', '준영', '준희', '줄알', '줄줄이', '줌마', '중간', '중국', '중국인', '중기', '중년', '중단', '중독', '중반', '중심', '중요', '중요하지', '중요한게', '중요해', '중이', '중인', '줬음', '즐겨', '즐기고', '증거', '증말', '증명', '증세', '지가', '지겨워', '지겹다', '지고', '지구', '지금', '지긋지긋하다', '지나', '지나가는', '지나간', '지난', '지났는데', '지내는', '지네', '지는', '지능', '지대', '지도', '지드래곤', '지랄', '지루하고', '지리', '지만', '지면', '지목', '지민', '지방', '지배', '지상파', '지성', '지아', '지역', '지연', '지오', '지옥', '지원', '지은', '지인', '지적', '지지', '지창욱', '지켜보고', '지코', '직업', '직원', '직장', '직장인', '직접', '진것도', '진국', '진도', '진리', '진보', '진실', '진심', '진영', '진우', '진자', '진작', '진정', '진정한', '진지', '진진', '진짜', '진출', '진행', '질도', '질라', '질린다', '질질', '질책', '질투', '집니다', '집단', '집도', '집사부', '집안', '집앞', '집은', '집중', '집착', '짓거리', '짓은', '징그러', '징그럽다', '징글징글', '징역', '징징', '짜고', '짜는', '짜리', '짜리몽땅', '짜져', '짜증', '짜증나', '짜증나게', '짜증난다', '짜증남', '짝퉁', '짧은', '짬뽕', '짱개', '짱깨', '쩌리', '쩐다', '쩔어', '쪽바리', '쭉쭉', '쯧쯧', '찌든', '찌라시', '찌질', '찌질하다', '찌질한', '찍고', '찍냐', '찍는', '찍는게', '찍어', '찍어라', '찍어서', '찍으러', '찍은', '찍히', '찢어', '차가', '차고', '차라리', '차려', '차마', '차별', '차서', '차선', '차예련', '차원', '차이', '차장', '차태현', '차트', '차화연', '착각', '착하게', '착하고', '착한', '찬양', '참고', '참나', '참석', '참여', '참으로', '참치', '창피하다', '찾기', '채널', '채린', '책임', '책임감', '챙겨', '챙기세요', '챙녀', '처럼', '처리', '처벌', '처음', '천국', '천만', '천만원', '천명훈', '천박해', '천벌', '천사', '천우', '천재', '천지', '철구', '첨부', '첫사랑', '첫째', '청년', '청산', '청와대', '청원', '청춘', '체널', '체인점', '체질', '체크', '쳐도', '쳐라', '쳐서', '쳤으면', '초기', '초대', '초딩', '초반', '초밥', '초콜릿', '총경', '촬영', '촬영장', '최고', '최고다', '최근', '최대', '최소', '최소한', '최수종', '최씨', '최악', '최종범', '최종훈', '최지우', '최진실', '최진혁', '추가', '추락', '추모', '추억', '추자현', '추천', '추측', '추카', '추하다', '추해', '축구', '축복', '축하', '출산', '출시', '출신', '출연', '출연료', '출연자', '충격', '충고', '충분히', '충재', '취급', '취지', '취집', '취향', '치고', '치네', '치는', '치료', '치르고', '치매', '치면', '치워라', '친것도', '친구', '친정', '친정엄마', '친한', '침대', '칭찬', '카드', '카리스마', '카메라', '카톡', '캐럿', '캐릭', '캐릭터', '캐스팅', '캐슬', '캡쳐', '커리어', '커서', '커플', '커피', '컨셉', '컴백', '컸네', '케미', '케이스', '케이윌', '코로나', '코르셋', '코리아', '코미디', '코스프레', '코요테', '콘돔', '콘서트', '쾌차', '쿨한', '쿵쾅', '퀄리티', '큐브', '크게', '크고', '크다', '크러쉬', '크림', '크면', '크지', '큰거', '큰일', '클라라', '클라스', '클럽', '키로', '키스', '키우는', '키워', '키크', '킬로', '타고', '타기', '타는', '타령', '타살', '타이밍', '타이틀', '타인', '타입', '탁재훈', '탄핵', '탈락', '탈모', '탈세', '탈출', '탈퇴', '탐욕', '탕웨이', '태국', '태도', '태생', '태어나', '태연', '태환', '터져서', '터지', '털고', '털털', '테이블', '텐데', '토니', '토니안', '토착', '톡방', '통수', '통역사', '통장', '통증', '통해', '퇴물', '퇴사', '투샷', '투애니원', '투어', '투입', '투자', '투표', '튀어나온', '트로트', '트롯', '트루', '트리', '트와이스', '트집', '특급', '특별히', '특유', '특집', '특징', '특혜', '특히', '틀린게', '티나', '티비', '티아라', '파급', '파악', '파이팅', '팍팍', '판결', '판단', '판박이', '판사', '판타지', '팔아서', '팔이', '팔자', '패밀리', '패배', '패션', '패턴', '팩트', '팬미팅', '팬티', '페미', '페지', '편견', '편성', '편의점', '편이', '편집', '편하게', '편히', '평가', '평범하게', '평범한', '평생', '평소', '평일', '폐인', '폐지', '포기', '포방터', '포스', '포장', '포함', '폭력', '폭로', '폭망', '폭발', '폭행', '표본', '표적', '표절', '표정', '표준', '표현', '푼수', '풍년', '풍상', '프듀', '프랜차이즈', '프로', '프로그램', '프로도', '프로듀서', '프리', '피고', '피디', '피부', '피임', '피자', '피하', '피해', '피해자', '필립', '필수', '필요', '필요없어요', '필터', '핑계', '핑크', '핑클', '하게', '하겠냐', '하겠네', '하겠다', '하겠습니다', '하겠어', '하겠지', '하겠지만', '하고', '하고도', '하고만', '하고있네', '하고있다', '하구', '하구나', '하구만', '하기', '하기도', '하기에는', '하기전에', '하긴', '하길', '하나', '하나같이', '하나경', '하나님', '하나로', '하나요', '하냐', '하네', '하네요', '하노', '하느라', '하는', '하는거', '하는거고', '하는거냐', '하는거야', '하는거지', '하는건', '하는건데', '하는것', '하는것도', '하는게', '하는구나', '하는데', '하는데도', '하는듯', '하는줄', '하는지', '하늘', '하늘나라', '하니', '하니까', '하다', '하다가', '하다고', '하다니', '하더니', '하더라', '하더라도', '하더만', '하던', '하던가', '하던데', '하도', '하도록', '하드', '하든', '하든말든', '하라', '하락', '하러', '하려', '하려고', '하려는', '하루', '하루아침', '하며', '하면', '하면서', '하버드', '하세요', '하셔', '하셔서', '하셔요', '하셨어요', '하수', '하승진', '하시고', '하시길', '하시는', '하시는듯', '하시던데', '하시지', '하신', '하실듯', '하십니까', '하여', '하여간', '하여튼', '하와이', '하은', '하이', '하자', '하죠', '하지', '하지마', '하지마라', '하지만', '하지말고', '하지말아라', '하지말자', '하지맙시', '하지원', '하진', '하차', '하트', '하필', '하하', '하현우', '학교', '학창시절', '학폭', '한가인', '한가지', '한거', '한거고', '한건', '한건데', '한것도', '한게', '한고은', '한국', '한국인', '한남', '한다', '한다고', '한다는', '한다는데', '한다던데', '한다면', '한당', '한데', '한동안', '한두', '한때', '한류', '한마디', '한물간', '한번', '한서희', '한순간', '한심하다', '한심한', '한예슬', '한은정', '한의사', '한일', '한적', '한지', '한지민', '한지혜', '한쪽', '한참', '한창', '한채아', '한체대', '한테', '한텐', '한혜진', '한효주', '할거', '할거면', '할것', '할게', '할게요', '할까', '할꺼', '할꺼면', '할께', '할듯', '할려고', '할리', '할매', '할머니', '할배', '할수', '할수도', '할아버지', '할줄', '할지', '할텐데', '함께', '함부로', '함소원', '합니다', '합류', '합법', '합시다', '합의', '합의금', '항상', '해결', '해놓고', '해달라고', '해당', '해대', '해도', '해라', '해먹', '해명', '해보', '해보고', '해보니', '해보세요', '해보이고', '해보자', '해본', '해봐', '해봐라', '해봤자', '해서', '해서라도', '해소', '해야', '해야되', '해야지', '해외', '해외여행', '해요', '해주', '해주고', '해주는', '해주면', '해주세요', '해준', '해줄', '해줄게', '해줌', '해줍시다', '해줘', '해줘도', '해줘라', '해줘서', '해줘야', '해줘요', '해체', '해투', '해피엔딩', '핸드폰', '햇던', '했겠냐', '했겠지', '했고', '했구만', '했나', '했나요', '했냐', '했네', '했네요', '했는데', '했는지', '했다', '했다가', '했다고', '했다는', '했다는데', '했다면', '했더니', '했던', '했습니다', '했어', '했어도', '했어야', '했어요', '했었는데', '했으니', '했으면', '했을', '했을까', '했음', '했잖아', '했지', '했지만', '행동', '행보', '행복', '행복하게', '행복하세요', '행복하시길', '행복한', '행사', '행실', '허니', '허락', '허리', '허세', '허언증', '허위', '헛소리', '헤어', '헤어지고', '헤어지면', '헨리', '현명한', '현무', '현빈', '현숙', '현실', '현아', '현우', '현장', '현재', '현주', '현지', '혐오', '협박', '협찬', '형님', '형사', '형제', '혜교', '혜나', '혜리', '혜빈', '혜선', '혜성', '혜원', '혜진', '혜택', '호감', '호강', '호구', '호들갑', '호란', '호박', '호스트', '호응', '호텔', '호흡', '혹시', '혼외자', '혼자', '혼전', '혼전임신', '홀랑', '홍보', '홍상수', '홍수현', '홍어', '홍윤', '홍진경', '홍진영', '홍콩', '화가', '화나', '화면', '화목', '화보', '화사', '화이팅', '화장', '화재', '화제', '화해', '확률', '확실히', '확인', '확정', '환경', '환영', '환자', '환희', '활동', '활약', '홧팅', '황금', '황민', '황제', '황하나', '회보', '회사', '회생', '회수', '회장', '효광', '효리', '효린', '후반', '후배', '후보', '후손', '후진국', '후회', '훈남', '훈훈한', '훌륭한', '훨씬', '휘성', '휴가', '휴지', '흑역사', '흑인', '흔한', '흥국', '흥미', '희망', '히트', '힐링', '힘내', '힘내다', '힘드네요', '힘든', '힘든데', '힘들', '힘들게', '힘들겠다', '힘들다', '힘들다고', '힘들면', '힘들어', '힘들지', '힙합']\n"
     ]
    }
   ],
   "source": [
    "print(sorted(word_index.keys()))"
   ]
  },
  {
   "cell_type": "markdown",
   "metadata": {},
   "source": [
    "### Document Term Matrix"
   ]
  },
  {
   "cell_type": "code",
   "execution_count": 18,
   "metadata": {},
   "outputs": [],
   "source": [
    "totalarray=[]\n",
    "for corpus in total.corpus:\n",
    "    temp=[0]*len(word_index)\n",
    "    for word in corpus:\n",
    "        if word in word_index.keys():\n",
    "            temp[word_index[word]]=+1\n",
    "    totalarray.append(temp)"
   ]
  },
  {
   "cell_type": "code",
   "execution_count": 19,
   "metadata": {},
   "outputs": [],
   "source": [
    "dtm=pd.DataFrame(totalarray,columns=word_index.keys())"
   ]
  },
  {
   "cell_type": "code",
   "execution_count": 20,
   "metadata": {},
   "outputs": [
    {
     "data": {
      "text/plain": [
       "(8870, 5132)"
      ]
     },
     "execution_count": 20,
     "metadata": {},
     "output_type": "execute_result"
    }
   ],
   "source": [
    "dtm.shape"
   ]
  },
  {
   "cell_type": "markdown",
   "metadata": {},
   "source": [
    "### one hot encoding"
   ]
  },
  {
   "cell_type": "code",
   "execution_count": 21,
   "metadata": {},
   "outputs": [],
   "source": [
    "totalarray=[]\n",
    "for corpus in total.corpus:\n",
    "    temp=[0]*len(word_index)\n",
    "    for word in corpus:\n",
    "        if word in word_index.keys():\n",
    "            temp[word_index[word]]=1\n",
    "    totalarray.append(temp)"
   ]
  },
  {
   "cell_type": "code",
   "execution_count": 22,
   "metadata": {},
   "outputs": [],
   "source": [
    "ohe=pd.DataFrame(totalarray,columns=word_index.keys())"
   ]
  },
  {
   "cell_type": "code",
   "execution_count": 23,
   "metadata": {},
   "outputs": [
    {
     "data": {
      "text/plain": [
       "(8870, 5132)"
      ]
     },
     "execution_count": 23,
     "metadata": {},
     "output_type": "execute_result"
    }
   ],
   "source": [
    "ohe.shape"
   ]
  },
  {
   "cell_type": "code",
   "execution_count": 24,
   "metadata": {},
   "outputs": [
    {
     "data": {
      "text/plain": [
       "array([[True, True, True, ..., 0, 0, 0],\n",
       "       [0, 0, 0, ..., 0, 0, 0],\n",
       "       [0, 0, 0, ..., 0, 0, 0],\n",
       "       ...,\n",
       "       [0, 0, 0, ..., 0, 0, 0],\n",
       "       [0, 0, 0, ..., 0, 0, 0],\n",
       "       [0, 0, 0, ..., 0, 0, 0]], dtype=object)"
      ]
     },
     "execution_count": 24,
     "metadata": {},
     "output_type": "execute_result"
    }
   ],
   "source": [
    "ohe.iloc[:7896].values"
   ]
  },
  {
   "cell_type": "code",
   "execution_count": 25,
   "metadata": {},
   "outputs": [],
   "source": [
    "xTrain=ohe.iloc[:7896].to_numpy()\n",
    "xTest=ohe.iloc[7896:].to_numpy()\n",
    "yTrain=total['label_band'].iloc[:7896].to_numpy()"
   ]
  },
  {
   "cell_type": "code",
   "execution_count": 26,
   "metadata": {},
   "outputs": [
    {
     "name": "stdout",
     "output_type": "stream",
     "text": [
      "<class 'numpy.ndarray'>\n",
      "<class 'numpy.ndarray'>\n",
      "<class 'numpy.ndarray'>\n",
      "(7896, 5132)\n",
      "(974, 5132)\n",
      "(7896,)\n"
     ]
    }
   ],
   "source": [
    "print(type(xTrain))\n",
    "print(type(xTest))\n",
    "print(type(yTrain))\n",
    "print(xTrain.shape)\n",
    "print(xTest.shape)\n",
    "print(yTrain.shape)"
   ]
  },
  {
   "cell_type": "code",
   "execution_count": 27,
   "metadata": {},
   "outputs": [],
   "source": [
    "from sklearn.naive_bayes import CategoricalNB"
   ]
  },
  {
   "cell_type": "code",
   "execution_count": 28,
   "metadata": {},
   "outputs": [
    {
     "data": {
      "text/plain": [
       "CategoricalNB()"
      ]
     },
     "execution_count": 28,
     "metadata": {},
     "output_type": "execute_result"
    }
   ],
   "source": [
    "model=CategoricalNB()\n",
    "model.fit(xTrain, yTrain)"
   ]
  },
  {
   "cell_type": "code",
   "execution_count": 29,
   "metadata": {
    "scrolled": true
   },
   "outputs": [
    {
     "ename": "IndexError",
     "evalue": "index 1 is out of bounds for axis 1 with size 1",
     "output_type": "error",
     "traceback": [
      "\u001b[1;31m---------------------------------------------------------------------------\u001b[0m",
      "\u001b[1;31mIndexError\u001b[0m                                Traceback (most recent call last)",
      "\u001b[1;32m<ipython-input-29-f2cada44839e>\u001b[0m in \u001b[0;36m<module>\u001b[1;34m\u001b[0m\n\u001b[1;32m----> 1\u001b[1;33m \u001b[0mpred\u001b[0m\u001b[1;33m=\u001b[0m\u001b[0mmodel\u001b[0m\u001b[1;33m.\u001b[0m\u001b[0mpredict\u001b[0m\u001b[1;33m(\u001b[0m\u001b[0mxTest\u001b[0m\u001b[1;33m)\u001b[0m\u001b[1;33m\u001b[0m\u001b[1;33m\u001b[0m\u001b[0m\n\u001b[0m",
      "\u001b[1;32mC:\\ProgramData\\Anaconda3\\lib\\site-packages\\sklearn\\naive_bayes.py\u001b[0m in \u001b[0;36mpredict\u001b[1;34m(self, X)\u001b[0m\n\u001b[0;32m     76\u001b[0m         \u001b[0mcheck_is_fitted\u001b[0m\u001b[1;33m(\u001b[0m\u001b[0mself\u001b[0m\u001b[1;33m)\u001b[0m\u001b[1;33m\u001b[0m\u001b[1;33m\u001b[0m\u001b[0m\n\u001b[0;32m     77\u001b[0m         \u001b[0mX\u001b[0m \u001b[1;33m=\u001b[0m \u001b[0mself\u001b[0m\u001b[1;33m.\u001b[0m\u001b[0m_check_X\u001b[0m\u001b[1;33m(\u001b[0m\u001b[0mX\u001b[0m\u001b[1;33m)\u001b[0m\u001b[1;33m\u001b[0m\u001b[1;33m\u001b[0m\u001b[0m\n\u001b[1;32m---> 78\u001b[1;33m         \u001b[0mjll\u001b[0m \u001b[1;33m=\u001b[0m \u001b[0mself\u001b[0m\u001b[1;33m.\u001b[0m\u001b[0m_joint_log_likelihood\u001b[0m\u001b[1;33m(\u001b[0m\u001b[0mX\u001b[0m\u001b[1;33m)\u001b[0m\u001b[1;33m\u001b[0m\u001b[1;33m\u001b[0m\u001b[0m\n\u001b[0m\u001b[0;32m     79\u001b[0m         \u001b[1;32mreturn\u001b[0m \u001b[0mself\u001b[0m\u001b[1;33m.\u001b[0m\u001b[0mclasses_\u001b[0m\u001b[1;33m[\u001b[0m\u001b[0mnp\u001b[0m\u001b[1;33m.\u001b[0m\u001b[0margmax\u001b[0m\u001b[1;33m(\u001b[0m\u001b[0mjll\u001b[0m\u001b[1;33m,\u001b[0m \u001b[0maxis\u001b[0m\u001b[1;33m=\u001b[0m\u001b[1;36m1\u001b[0m\u001b[1;33m)\u001b[0m\u001b[1;33m]\u001b[0m\u001b[1;33m\u001b[0m\u001b[1;33m\u001b[0m\u001b[0m\n\u001b[0;32m     80\u001b[0m \u001b[1;33m\u001b[0m\u001b[0m\n",
      "\u001b[1;32mC:\\ProgramData\\Anaconda3\\lib\\site-packages\\sklearn\\naive_bayes.py\u001b[0m in \u001b[0;36m_joint_log_likelihood\u001b[1;34m(self, X)\u001b[0m\n\u001b[0;32m   1223\u001b[0m         \u001b[1;32mfor\u001b[0m \u001b[0mi\u001b[0m \u001b[1;32min\u001b[0m \u001b[0mrange\u001b[0m\u001b[1;33m(\u001b[0m\u001b[0mself\u001b[0m\u001b[1;33m.\u001b[0m\u001b[0mn_features_\u001b[0m\u001b[1;33m)\u001b[0m\u001b[1;33m:\u001b[0m\u001b[1;33m\u001b[0m\u001b[1;33m\u001b[0m\u001b[0m\n\u001b[0;32m   1224\u001b[0m             \u001b[0mindices\u001b[0m \u001b[1;33m=\u001b[0m \u001b[0mX\u001b[0m\u001b[1;33m[\u001b[0m\u001b[1;33m:\u001b[0m\u001b[1;33m,\u001b[0m \u001b[0mi\u001b[0m\u001b[1;33m]\u001b[0m\u001b[1;33m\u001b[0m\u001b[1;33m\u001b[0m\u001b[0m\n\u001b[1;32m-> 1225\u001b[1;33m             \u001b[0mjll\u001b[0m \u001b[1;33m+=\u001b[0m \u001b[0mself\u001b[0m\u001b[1;33m.\u001b[0m\u001b[0mfeature_log_prob_\u001b[0m\u001b[1;33m[\u001b[0m\u001b[0mi\u001b[0m\u001b[1;33m]\u001b[0m\u001b[1;33m[\u001b[0m\u001b[1;33m:\u001b[0m\u001b[1;33m,\u001b[0m \u001b[0mindices\u001b[0m\u001b[1;33m]\u001b[0m\u001b[1;33m.\u001b[0m\u001b[0mT\u001b[0m\u001b[1;33m\u001b[0m\u001b[1;33m\u001b[0m\u001b[0m\n\u001b[0m\u001b[0;32m   1226\u001b[0m         \u001b[0mtotal_ll\u001b[0m \u001b[1;33m=\u001b[0m \u001b[0mjll\u001b[0m \u001b[1;33m+\u001b[0m \u001b[0mself\u001b[0m\u001b[1;33m.\u001b[0m\u001b[0mclass_log_prior_\u001b[0m\u001b[1;33m\u001b[0m\u001b[1;33m\u001b[0m\u001b[0m\n\u001b[0;32m   1227\u001b[0m         \u001b[1;32mreturn\u001b[0m \u001b[0mtotal_ll\u001b[0m\u001b[1;33m\u001b[0m\u001b[1;33m\u001b[0m\u001b[0m\n",
      "\u001b[1;31mIndexError\u001b[0m: index 1 is out of bounds for axis 1 with size 1"
     ]
    }
   ],
   "source": [
    "pred=model.predict(xTest)"
   ]
  },
  {
   "cell_type": "code",
   "execution_count": null,
   "metadata": {},
   "outputs": [],
   "source": [
    "pred"
   ]
  },
  {
   "cell_type": "code",
   "execution_count": null,
   "metadata": {},
   "outputs": [],
   "source": [
    "xTest[0].shape"
   ]
  },
  {
   "cell_type": "code",
   "execution_count": null,
   "metadata": {},
   "outputs": [],
   "source": [
    "xTrain[0].shape"
   ]
  },
  {
   "cell_type": "code",
   "execution_count": null,
   "metadata": {},
   "outputs": [],
   "source": []
  },
  {
   "cell_type": "code",
   "execution_count": null,
   "metadata": {},
   "outputs": [],
   "source": []
  },
  {
   "cell_type": "code",
   "execution_count": null,
   "metadata": {},
   "outputs": [],
   "source": []
  }
 ],
 "metadata": {
  "kernelspec": {
   "display_name": "Python 3",
   "language": "python",
   "name": "python3"
  },
  "language_info": {
   "codemirror_mode": {
    "name": "ipython",
    "version": 3
   },
   "file_extension": ".py",
   "mimetype": "text/x-python",
   "name": "python",
   "nbconvert_exporter": "python",
   "pygments_lexer": "ipython3",
   "version": "3.8.3"
  }
 },
 "nbformat": 4,
 "nbformat_minor": 4
}
