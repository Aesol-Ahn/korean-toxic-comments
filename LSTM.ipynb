{
 "cells": [
  {
   "cell_type": "code",
   "execution_count": 115,
   "metadata": {
    "scrolled": true
   },
   "outputs": [],
   "source": [
    "import pandas as pd\n",
    "import numpy as np\n",
    "%matplotlib inline\n",
    "import matplotlib.pyplot as plt\n",
    "import re\n",
    "import urllib.request\n",
    "from konlpy.tag import Okt\n",
    "from tensorflow.keras.preprocessing.text import Tokenizer\n",
    "from tensorflow.keras.preprocessing.sequence import pad_sequences"
   ]
  },
  {
   "cell_type": "markdown",
   "metadata": {},
   "source": [
    "## 데이터 로드"
   ]
  },
  {
   "cell_type": "code",
   "execution_count": 124,
   "metadata": {},
   "outputs": [],
   "source": [
    "train_data = pd.read_csv(\"data/hate_speech_large.csv\", names=['comments', 'label'], header=0)\n",
    "test_data = pd.read_csv(\"data/dev.hate.csv\")"
   ]
  },
  {
   "cell_type": "code",
   "execution_count": 125,
   "metadata": {},
   "outputs": [
    {
     "name": "stdout",
     "output_type": "stream",
     "text": [
      "훈련용 리뷰 개수 : 190000\n"
     ]
    }
   ],
   "source": [
    "print('훈련용 리뷰 개수 :',len(train_data)) # 훈련용 리뷰 개수 출력"
   ]
  },
  {
   "cell_type": "code",
   "execution_count": 126,
   "metadata": {},
   "outputs": [
    {
     "data": {
      "text/html": [
       "<div>\n",
       "<style scoped>\n",
       "    .dataframe tbody tr th:only-of-type {\n",
       "        vertical-align: middle;\n",
       "    }\n",
       "\n",
       "    .dataframe tbody tr th {\n",
       "        vertical-align: top;\n",
       "    }\n",
       "\n",
       "    .dataframe thead th {\n",
       "        text-align: right;\n",
       "    }\n",
       "</style>\n",
       "<table border=\"1\" class=\"dataframe\">\n",
       "  <thead>\n",
       "    <tr style=\"text-align: right;\">\n",
       "      <th></th>\n",
       "      <th>comments</th>\n",
       "      <th>label</th>\n",
       "    </tr>\n",
       "  </thead>\n",
       "  <tbody>\n",
       "    <tr>\n",
       "      <th>0</th>\n",
       "      <td>정말 재밌다 연기도 좋고 디카프리오 짱</td>\n",
       "      <td>1</td>\n",
       "    </tr>\n",
       "    <tr>\n",
       "      <th>1</th>\n",
       "      <td>심쿵심쿵 미치네요이수혁땜에 잠 못자겠어요ㅠ자꾸 아른거림ㅠ</td>\n",
       "      <td>1</td>\n",
       "    </tr>\n",
       "    <tr>\n",
       "      <th>2</th>\n",
       "      <td>하지만 이니후빨러들은 이런거 관심 하나도 없음</td>\n",
       "      <td>0</td>\n",
       "    </tr>\n",
       "    <tr>\n",
       "      <th>3</th>\n",
       "      <td>@착한아이임당 A4 용지 덮고?</td>\n",
       "      <td>0</td>\n",
       "    </tr>\n",
       "    <tr>\n",
       "      <th>4</th>\n",
       "      <td>진짜 평점 믿으면 안된 다는 걸 현실로 보여주는 영화입니다. 네티즌,전문가 하나같이...</td>\n",
       "      <td>1</td>\n",
       "    </tr>\n",
       "  </tbody>\n",
       "</table>\n",
       "</div>"
      ],
      "text/plain": [
       "                                            comments  label\n",
       "0                              정말 재밌다 연기도 좋고 디카프리오 짱      1\n",
       "1                    심쿵심쿵 미치네요이수혁땜에 잠 못자겠어요ㅠ자꾸 아른거림ㅠ      1\n",
       "2                          하지만 이니후빨러들은 이런거 관심 하나도 없음      0\n",
       "3                                  @착한아이임당 A4 용지 덮고?      0\n",
       "4  진짜 평점 믿으면 안된 다는 걸 현실로 보여주는 영화입니다. 네티즌,전문가 하나같이...      1"
      ]
     },
     "execution_count": 126,
     "metadata": {},
     "output_type": "execute_result"
    }
   ],
   "source": [
    "train_data.head() # 상위 5개 출력"
   ]
  },
  {
   "cell_type": "code",
   "execution_count": 127,
   "metadata": {},
   "outputs": [
    {
     "name": "stdout",
     "output_type": "stream",
     "text": [
      "테스트용 리뷰 개수 : 471\n"
     ]
    }
   ],
   "source": [
    "print('테스트용 리뷰 개수 :',len(test_data)) # 테스트용 리뷰 개수 출력"
   ]
  },
  {
   "cell_type": "code",
   "execution_count": 128,
   "metadata": {},
   "outputs": [
    {
     "data": {
      "text/html": [
       "<div>\n",
       "<style scoped>\n",
       "    .dataframe tbody tr th:only-of-type {\n",
       "        vertical-align: middle;\n",
       "    }\n",
       "\n",
       "    .dataframe tbody tr th {\n",
       "        vertical-align: top;\n",
       "    }\n",
       "\n",
       "    .dataframe thead th {\n",
       "        text-align: right;\n",
       "    }\n",
       "</style>\n",
       "<table border=\"1\" class=\"dataframe\">\n",
       "  <thead>\n",
       "    <tr style=\"text-align: right;\">\n",
       "      <th></th>\n",
       "      <th>comments</th>\n",
       "      <th>label</th>\n",
       "    </tr>\n",
       "  </thead>\n",
       "  <tbody>\n",
       "    <tr>\n",
       "      <th>0</th>\n",
       "      <td>송중기 시대극은 믿고본다. 첫회 신선하고 좋았다.</td>\n",
       "      <td>none</td>\n",
       "    </tr>\n",
       "    <tr>\n",
       "      <th>1</th>\n",
       "      <td>지현우 나쁜놈</td>\n",
       "      <td>offensive</td>\n",
       "    </tr>\n",
       "    <tr>\n",
       "      <th>2</th>\n",
       "      <td>알바쓰고많이만들면되지 돈욕심없으면골목식당왜나온겨 기댕기게나하고 산에가서팔어라</td>\n",
       "      <td>hate</td>\n",
       "    </tr>\n",
       "    <tr>\n",
       "      <th>3</th>\n",
       "      <td>설마 ㅈ 현정 작가 아니지??</td>\n",
       "      <td>hate</td>\n",
       "    </tr>\n",
       "    <tr>\n",
       "      <th>4</th>\n",
       "      <td>이미자씨 송혜교씨 돈이 그리 많으면 탈세말고 그돈으로 평소에 불우이웃에게 기부도 좀...</td>\n",
       "      <td>offensive</td>\n",
       "    </tr>\n",
       "  </tbody>\n",
       "</table>\n",
       "</div>"
      ],
      "text/plain": [
       "                                            comments      label\n",
       "0                        송중기 시대극은 믿고본다. 첫회 신선하고 좋았다.       none\n",
       "1                                            지현우 나쁜놈  offensive\n",
       "2         알바쓰고많이만들면되지 돈욕심없으면골목식당왜나온겨 기댕기게나하고 산에가서팔어라       hate\n",
       "3                                   설마 ㅈ 현정 작가 아니지??       hate\n",
       "4  이미자씨 송혜교씨 돈이 그리 많으면 탈세말고 그돈으로 평소에 불우이웃에게 기부도 좀...  offensive"
      ]
     },
     "execution_count": 128,
     "metadata": {},
     "output_type": "execute_result"
    }
   ],
   "source": [
    "test_data.head() # 상위 5개 출력"
   ]
  },
  {
   "cell_type": "code",
   "execution_count": 177,
   "metadata": {},
   "outputs": [
    {
     "data": {
      "text/html": [
       "<div>\n",
       "<style scoped>\n",
       "    .dataframe tbody tr th:only-of-type {\n",
       "        vertical-align: middle;\n",
       "    }\n",
       "\n",
       "    .dataframe tbody tr th {\n",
       "        vertical-align: top;\n",
       "    }\n",
       "\n",
       "    .dataframe thead th {\n",
       "        text-align: right;\n",
       "    }\n",
       "</style>\n",
       "<table border=\"1\" class=\"dataframe\">\n",
       "  <thead>\n",
       "    <tr style=\"text-align: right;\">\n",
       "      <th></th>\n",
       "      <th>comments</th>\n",
       "      <th>label</th>\n",
       "    </tr>\n",
       "  </thead>\n",
       "  <tbody>\n",
       "    <tr>\n",
       "      <th>0</th>\n",
       "      <td>정말 재밌다 연기도 좋고 디카프리오 짱</td>\n",
       "      <td>0</td>\n",
       "    </tr>\n",
       "    <tr>\n",
       "      <th>1</th>\n",
       "      <td>심쿵심쿵 미치네요이수혁땜에 잠 못자겠어요ㅠ자꾸 아른거림ㅠ</td>\n",
       "      <td>0</td>\n",
       "    </tr>\n",
       "    <tr>\n",
       "      <th>2</th>\n",
       "      <td>하지만 이니후빨러들은 이런거 관심 하나도 없음</td>\n",
       "      <td>1</td>\n",
       "    </tr>\n",
       "    <tr>\n",
       "      <th>3</th>\n",
       "      <td>@착한아이임당 A4 용지 덮고?</td>\n",
       "      <td>1</td>\n",
       "    </tr>\n",
       "    <tr>\n",
       "      <th>4</th>\n",
       "      <td>진짜 평점 믿으면 안된 다는 걸 현실로 보여주는 영화입니다. 네티즌,전문가 하나같이...</td>\n",
       "      <td>0</td>\n",
       "    </tr>\n",
       "    <tr>\n",
       "      <th>5</th>\n",
       "      <td>조원진이 비례대표나 경북에서 공천 못받고도 입다물면 친중질히던거 이해할게</td>\n",
       "      <td>1</td>\n",
       "    </tr>\n",
       "    <tr>\n",
       "      <th>6</th>\n",
       "      <td>후!!!!!!!!!!! 쩔었다...</td>\n",
       "      <td>0</td>\n",
       "    </tr>\n",
       "    <tr>\n",
       "      <th>7</th>\n",
       "      <td>오랜만에 휴가내서 조카들 데리고 보고나왔어요 !! 조카들이 너무 좋아해서 평점 10...</td>\n",
       "      <td>0</td>\n",
       "    </tr>\n",
       "    <tr>\n",
       "      <th>8</th>\n",
       "      <td>제목만 보고도 더러운 머리스탈 떠올랐다 이름보다 아 그더런새끼겠지? 이랬다니까</td>\n",
       "      <td>1</td>\n",
       "    </tr>\n",
       "    <tr>\n",
       "      <th>9</th>\n",
       "      <td>중국 공산당 보는것 같다</td>\n",
       "      <td>1</td>\n",
       "    </tr>\n",
       "    <tr>\n",
       "      <th>10</th>\n",
       "      <td>별점별점별점별점별점</td>\n",
       "      <td>0</td>\n",
       "    </tr>\n",
       "    <tr>\n",
       "      <th>11</th>\n",
       "      <td>조.센.징들의 한계지. 민족성 자체가 동남아나 아프리카 토인이랑 다르게없음 ㅋㅋㅋ</td>\n",
       "      <td>1</td>\n",
       "    </tr>\n",
       "    <tr>\n",
       "      <th>12</th>\n",
       "      <td>오 좋은데요 사랑이 넘치네요</td>\n",
       "      <td>0</td>\n",
       "    </tr>\n",
       "    <tr>\n",
       "      <th>13</th>\n",
       "      <td>ㅋㅋㅋㅋㅋㅋㅋㅋㅋ 아니 북한이 그렇게 좋으면 보따리 싸가서 살지 진짜 ㅋㅋㅋㅋㅋ</td>\n",
       "      <td>1</td>\n",
       "    </tr>\n",
       "    <tr>\n",
       "      <th>14</th>\n",
       "      <td>야기라유야의 매력을 알게된영화</td>\n",
       "      <td>0</td>\n",
       "    </tr>\n",
       "    <tr>\n",
       "      <th>15</th>\n",
       "      <td>노루엣이 5개나 ㅋㅋㅋㅋㅋㅋㅋㅋ</td>\n",
       "      <td>1</td>\n",
       "    </tr>\n",
       "    <tr>\n",
       "      <th>16</th>\n",
       "      <td>저새끼는 아무 것도 한게 없는데 목소리만 깔아서\\n지지율 높은 미스테리한 인간임</td>\n",
       "      <td>1</td>\n",
       "    </tr>\n",
       "    <tr>\n",
       "      <th>17</th>\n",
       "      <td>액션을 정말 이렇게 맛깔나게 표현할수가..!!! 신선하고 멋지다</td>\n",
       "      <td>0</td>\n",
       "    </tr>\n",
       "    <tr>\n",
       "      <th>18</th>\n",
       "      <td>근데이전에박선영도 단식좀했는데진짜 쩔게마름ㄷㄷ\\n\\n진짜좌파역겹다진짜존나게</td>\n",
       "      <td>1</td>\n",
       "    </tr>\n",
       "    <tr>\n",
       "      <th>19</th>\n",
       "      <td>엄마의 아픔이 고스란히 전해지는것 같아 슬펐어요..~</td>\n",
       "      <td>0</td>\n",
       "    </tr>\n",
       "  </tbody>\n",
       "</table>\n",
       "</div>"
      ],
      "text/plain": [
       "                                             comments  label\n",
       "0                               정말 재밌다 연기도 좋고 디카프리오 짱      0\n",
       "1                     심쿵심쿵 미치네요이수혁땜에 잠 못자겠어요ㅠ자꾸 아른거림ㅠ      0\n",
       "2                           하지만 이니후빨러들은 이런거 관심 하나도 없음      1\n",
       "3                                   @착한아이임당 A4 용지 덮고?      1\n",
       "4   진짜 평점 믿으면 안된 다는 걸 현실로 보여주는 영화입니다. 네티즌,전문가 하나같이...      0\n",
       "5            조원진이 비례대표나 경북에서 공천 못받고도 입다물면 친중질히던거 이해할게      1\n",
       "6                                 후!!!!!!!!!!! 쩔었다...      0\n",
       "7   오랜만에 휴가내서 조카들 데리고 보고나왔어요 !! 조카들이 너무 좋아해서 평점 10...      0\n",
       "8         제목만 보고도 더러운 머리스탈 떠올랐다 이름보다 아 그더런새끼겠지? 이랬다니까      1\n",
       "9                                       중국 공산당 보는것 같다      1\n",
       "10                                         별점별점별점별점별점      0\n",
       "11      조.센.징들의 한계지. 민족성 자체가 동남아나 아프리카 토인이랑 다르게없음 ㅋㅋㅋ      1\n",
       "12                                    오 좋은데요 사랑이 넘치네요      0\n",
       "13       ㅋㅋㅋㅋㅋㅋㅋㅋㅋ 아니 북한이 그렇게 좋으면 보따리 싸가서 살지 진짜 ㅋㅋㅋㅋㅋ      1\n",
       "14                                   야기라유야의 매력을 알게된영화      0\n",
       "15                                  노루엣이 5개나 ㅋㅋㅋㅋㅋㅋㅋㅋ      1\n",
       "16       저새끼는 아무 것도 한게 없는데 목소리만 깔아서\\n지지율 높은 미스테리한 인간임      1\n",
       "17                액션을 정말 이렇게 맛깔나게 표현할수가..!!! 신선하고 멋지다      0\n",
       "18          근데이전에박선영도 단식좀했는데진짜 쩔게마름ㄷㄷ\\n\\n진짜좌파역겹다진짜존나게      1\n",
       "19                      엄마의 아픔이 고스란히 전해지는것 같아 슬펐어요..~      0"
      ]
     },
     "execution_count": 177,
     "metadata": {},
     "output_type": "execute_result"
    }
   ],
   "source": [
    "train_data.head(20)"
   ]
  },
  {
   "cell_type": "markdown",
   "metadata": {},
   "source": [
    "## 데이터 정제"
   ]
  },
  {
   "cell_type": "code",
   "execution_count": 129,
   "metadata": {},
   "outputs": [],
   "source": [
    "train_data['label'] = np.where(train_data['label'] == 0, 1, 0)\n",
    "test_data['label'] = np.where(test_data['label'] == 'none', 0, 1)\n",
    "# train_data['label'] = train_data['label'].astype('float')\n",
    "# test_data['label'] = test_data['label'].astype('float')"
   ]
  },
  {
   "cell_type": "markdown",
   "metadata": {},
   "source": [
    "### 댓글의 중복 여부 확인"
   ]
  },
  {
   "cell_type": "code",
   "execution_count": 132,
   "metadata": {},
   "outputs": [
    {
     "data": {
      "text/plain": [
       "(187142, 2)"
      ]
     },
     "execution_count": 132,
     "metadata": {},
     "output_type": "execute_result"
    }
   ],
   "source": [
    "train_data['comments'].nunique(), train_data['label'].nunique()"
   ]
  },
  {
   "cell_type": "code",
   "execution_count": 133,
   "metadata": {},
   "outputs": [
    {
     "data": {
      "text/plain": [
       "(187143, 2)"
      ]
     },
     "execution_count": 133,
     "metadata": {},
     "output_type": "execute_result"
    }
   ],
   "source": [
    "train_data.drop_duplicates(subset=['comments'], inplace=True) # 중복 코멘트 제거\n",
    "train_data.shape"
   ]
  },
  {
   "cell_type": "code",
   "execution_count": 134,
   "metadata": {},
   "outputs": [
    {
     "name": "stdout",
     "output_type": "stream",
     "text": [
      "총 샘플의 수 : 187143\n"
     ]
    }
   ],
   "source": [
    "print('총 샘플의 수 :',len(train_data))"
   ]
  },
  {
   "cell_type": "markdown",
   "metadata": {},
   "source": [
    "#### 레이블 값의 분포"
   ]
  },
  {
   "cell_type": "code",
   "execution_count": 135,
   "metadata": {},
   "outputs": [
    {
     "data": {
      "text/plain": [
       "<AxesSubplot:>"
      ]
     },
     "execution_count": 135,
     "metadata": {},
     "output_type": "execute_result"
    },
    {
     "data": {
      "image/png": "[encoded data removed]",
      "text/plain": [
       "<Figure size 432x288 with 1 Axes>"
      ]
     },
     "metadata": {
      "needs_background": "light"
     },
     "output_type": "display_data"
    }
   ],
   "source": [
    "train_data['label'].value_counts().plot(kind = 'bar')"
   ]
  },
  {
   "cell_type": "code",
   "execution_count": 136,
   "metadata": {},
   "outputs": [
    {
     "name": "stdout",
     "output_type": "stream",
     "text": [
      "   label  count\n",
      "0      0  97223\n",
      "1      1  89920\n"
     ]
    }
   ],
   "source": [
    "print(train_data.groupby('label').size().reset_index(name = 'count'))"
   ]
  },
  {
   "cell_type": "markdown",
   "metadata": {},
   "source": [
    "### Null 값 제거"
   ]
  },
  {
   "cell_type": "code",
   "execution_count": 137,
   "metadata": {},
   "outputs": [
    {
     "name": "stdout",
     "output_type": "stream",
     "text": [
      "True\n"
     ]
    }
   ],
   "source": [
    "print(train_data.isnull().values.any())"
   ]
  },
  {
   "cell_type": "code",
   "execution_count": 138,
   "metadata": {},
   "outputs": [
    {
     "name": "stdout",
     "output_type": "stream",
     "text": [
      "comments    1\n",
      "label       0\n",
      "dtype: int64\n"
     ]
    }
   ],
   "source": [
    "print(train_data.isnull().sum())"
   ]
  },
  {
   "cell_type": "code",
   "execution_count": 139,
   "metadata": {},
   "outputs": [
    {
     "data": {
      "text/html": [
       "<div>\n",
       "<style scoped>\n",
       "    .dataframe tbody tr th:only-of-type {\n",
       "        vertical-align: middle;\n",
       "    }\n",
       "\n",
       "    .dataframe tbody tr th {\n",
       "        vertical-align: top;\n",
       "    }\n",
       "\n",
       "    .dataframe thead th {\n",
       "        text-align: right;\n",
       "    }\n",
       "</style>\n",
       "<table border=\"1\" class=\"dataframe\">\n",
       "  <thead>\n",
       "    <tr style=\"text-align: right;\">\n",
       "      <th></th>\n",
       "      <th>comments</th>\n",
       "      <th>label</th>\n",
       "    </tr>\n",
       "  </thead>\n",
       "  <tbody>\n",
       "    <tr>\n",
       "      <th>7807</th>\n",
       "      <td>NaN</td>\n",
       "      <td>0</td>\n",
       "    </tr>\n",
       "  </tbody>\n",
       "</table>\n",
       "</div>"
      ],
      "text/plain": [
       "     comments  label\n",
       "7807      NaN      0"
      ]
     },
     "execution_count": 139,
     "metadata": {},
     "output_type": "execute_result"
    }
   ],
   "source": [
    "train_data.loc[train_data.comments.isnull()]"
   ]
  },
  {
   "cell_type": "code",
   "execution_count": 140,
   "metadata": {},
   "outputs": [
    {
     "name": "stdout",
     "output_type": "stream",
     "text": [
      "False\n"
     ]
    }
   ],
   "source": [
    "train_data = train_data.dropna(how = 'any') # Null 값이 존재하는 행 제거\n",
    "print(train_data.isnull().values.any()) # Null 값이 존재하는지 확인"
   ]
  },
  {
   "cell_type": "code",
   "execution_count": 141,
   "metadata": {},
   "outputs": [
    {
     "name": "stdout",
     "output_type": "stream",
     "text": [
      "187142\n"
     ]
    }
   ],
   "source": [
    "print(len(train_data))"
   ]
  },
  {
   "cell_type": "markdown",
   "metadata": {},
   "source": [
    "### 한글, 공백 제외 전처리"
   ]
  },
  {
   "cell_type": "code",
   "execution_count": 104,
   "metadata": {},
   "outputs": [
    {
     "data": {
      "text/html": [
       "<div>\n",
       "<style scoped>\n",
       "    .dataframe tbody tr th:only-of-type {\n",
       "        vertical-align: middle;\n",
       "    }\n",
       "\n",
       "    .dataframe tbody tr th {\n",
       "        vertical-align: top;\n",
       "    }\n",
       "\n",
       "    .dataframe thead th {\n",
       "        text-align: right;\n",
       "    }\n",
       "</style>\n",
       "<table border=\"1\" class=\"dataframe\">\n",
       "  <thead>\n",
       "    <tr style=\"text-align: right;\">\n",
       "      <th></th>\n",
       "      <th>comments</th>\n",
       "      <th>label</th>\n",
       "    </tr>\n",
       "  </thead>\n",
       "  <tbody>\n",
       "    <tr>\n",
       "      <th>0</th>\n",
       "      <td>정말 재밌다 연기도 좋고 디카프리오 짱</td>\n",
       "      <td>0.0</td>\n",
       "    </tr>\n",
       "    <tr>\n",
       "      <th>1</th>\n",
       "      <td>심쿵심쿵 미치네요이수혁땜에 잠 못자겠어요ㅠ자꾸 아른거림ㅠ</td>\n",
       "      <td>0.0</td>\n",
       "    </tr>\n",
       "    <tr>\n",
       "      <th>2</th>\n",
       "      <td>하지만 이니후빨러들은 이런거 관심 하나도 없음</td>\n",
       "      <td>1.0</td>\n",
       "    </tr>\n",
       "    <tr>\n",
       "      <th>3</th>\n",
       "      <td>착한아이임당  용지 덮고</td>\n",
       "      <td>1.0</td>\n",
       "    </tr>\n",
       "    <tr>\n",
       "      <th>4</th>\n",
       "      <td>진짜 평점 믿으면 안된 다는 걸 현실로 보여주는 영화입니다 네티즌전문가 하나같이 영...</td>\n",
       "      <td>0.0</td>\n",
       "    </tr>\n",
       "  </tbody>\n",
       "</table>\n",
       "</div>"
      ],
      "text/plain": [
       "                                            comments  label\n",
       "0                              정말 재밌다 연기도 좋고 디카프리오 짱    0.0\n",
       "1                    심쿵심쿵 미치네요이수혁땜에 잠 못자겠어요ㅠ자꾸 아른거림ㅠ    0.0\n",
       "2                          하지만 이니후빨러들은 이런거 관심 하나도 없음    1.0\n",
       "3                                      착한아이임당  용지 덮고    1.0\n",
       "4  진짜 평점 믿으면 안된 다는 걸 현실로 보여주는 영화입니다 네티즌전문가 하나같이 영...    0.0"
      ]
     },
     "execution_count": 104,
     "metadata": {},
     "output_type": "execute_result"
    }
   ],
   "source": [
    "train_data['comments'] = train_data['comments'].str.replace(\"[^ㄱ-ㅎㅏ-ㅣ가-힣 ]\",\"\")\n",
    "train_data.head()"
   ]
  },
  {
   "cell_type": "code",
   "execution_count": 105,
   "metadata": {},
   "outputs": [
    {
     "name": "stdout",
     "output_type": "stream",
     "text": [
      "comments    473\n",
      "label         0\n",
      "dtype: int64\n"
     ]
    }
   ],
   "source": [
    "train_data['comments'].replace('', np.nan, inplace=True)\n",
    "print(train_data.isnull().sum())"
   ]
  },
  {
   "cell_type": "code",
   "execution_count": 106,
   "metadata": {},
   "outputs": [
    {
     "name": "stdout",
     "output_type": "stream",
     "text": [
      "comments    0\n",
      "label       0\n",
      "dtype: int64\n"
     ]
    }
   ],
   "source": [
    "train_data = train_data.dropna(how = 'any')\n",
    "print(train_data.isnull().sum())"
   ]
  },
  {
   "cell_type": "code",
   "execution_count": 107,
   "metadata": {},
   "outputs": [
    {
     "name": "stdout",
     "output_type": "stream",
     "text": [
      "186669\n"
     ]
    }
   ],
   "source": [
    "print(len(train_data))"
   ]
  },
  {
   "cell_type": "code",
   "execution_count": 142,
   "metadata": {},
   "outputs": [
    {
     "name": "stdout",
     "output_type": "stream",
     "text": [
      "전처리 후 테스트용 샘플의 개수 : 471\n"
     ]
    }
   ],
   "source": [
    "test_data.drop_duplicates(subset = ['comments'], inplace=True) # 중복 코멘트 제거\n",
    "test_data['comments'] = test_data['comments'].str.replace(\"[^ㄱ-ㅎㅏ-ㅣ가-힣 ]\",\"\") # 정규 표현식 수행\n",
    "test_data['comments'].replace('', np.nan, inplace=True) # 공백은 Null 값으로 변경\n",
    "test_data = test_data.dropna(how='any') # Null 값 제거\n",
    "print('전처리 후 테스트용 샘플의 개수 :',len(test_data))"
   ]
  },
  {
   "cell_type": "markdown",
   "metadata": {},
   "source": [
    "## 토큰화"
   ]
  },
  {
   "cell_type": "code",
   "execution_count": 143,
   "metadata": {},
   "outputs": [],
   "source": [
    "stopwords = ['의','가','이','은','들','는','좀','잘','걍','과','도','를','으로','자','에','와','한','하다']"
   ]
  },
  {
   "cell_type": "code",
   "execution_count": 147,
   "metadata": {},
   "outputs": [],
   "source": [
    "okt = Okt()\n",
    "X_train = []\n",
    "for sentence in train_data['comments']:\n",
    "    temp_X = []\n",
    "    temp_X = okt.morphs(sentence, stem=True) # 토큰화\n",
    "    temp_X = [word for word in temp_X if not word in stopwords] # 불용어 제거\n",
    "    X_train.append(temp_X)"
   ]
  },
  {
   "cell_type": "code",
   "execution_count": 148,
   "metadata": {},
   "outputs": [
    {
     "name": "stdout",
     "output_type": "stream",
     "text": [
      "['정말', '재밌다', '연기', '좋다', '디카프리오', '짱']\n"
     ]
    }
   ],
   "source": [
    "print(X_train[0])"
   ]
  },
  {
   "cell_type": "code",
   "execution_count": 149,
   "metadata": {},
   "outputs": [],
   "source": [
    "X_test = []\n",
    "for sentence in test_data['comments']:\n",
    "    temp_X = []\n",
    "    temp_X = okt.morphs(sentence, stem=True) # 토큰화\n",
    "    temp_X = [word for word in temp_X if not word in stopwords] # 불용어 제거\n",
    "    X_test.append(temp_X)"
   ]
  },
  {
   "cell_type": "code",
   "execution_count": 150,
   "metadata": {},
   "outputs": [
    {
     "name": "stdout",
     "output_type": "stream",
     "text": [
      "['송중기', '시대극', '믿다', '보다', '첫', '회', '신선하다', '좋다']\n"
     ]
    }
   ],
   "source": [
    "print(X_test[0])"
   ]
  },
  {
   "cell_type": "markdown",
   "metadata": {},
   "source": [
    "## 정수 인코딩"
   ]
  },
  {
   "cell_type": "code",
   "execution_count": 151,
   "metadata": {},
   "outputs": [],
   "source": [
    "tokenizer = Tokenizer()\n",
    "tokenizer.fit_on_texts(X_train)"
   ]
  },
  {
   "cell_type": "code",
   "execution_count": 152,
   "metadata": {},
   "outputs": [
    {
     "name": "stdout",
     "output_type": "stream",
     "text": [
      "74345\n"
     ]
    }
   ],
   "source": [
    "print(len(tokenizer.word_index))"
   ]
  },
  {
   "cell_type": "code",
   "execution_count": 156,
   "metadata": {},
   "outputs": [
    {
     "name": "stdout",
     "output_type": "stream",
     "text": [
      "단어 집합(vocabulary)의 크기 : 74345\n",
      "등장 빈도가 2번 이하인 희귀 단어의 수: 43622\n",
      "단어 집합에서 희귀 단어의 비율: 58.675095836976254\n",
      "전체 등장 빈도에서 희귀 단어 등장 빈도 비율: 2.0410421506164034\n"
     ]
    }
   ],
   "source": [
    "threshold = 3\n",
    "total_cnt = len(tokenizer.word_index) # 단어의 수\n",
    "rare_cnt = 0 # 등장 빈도수가 threshold보다 작은 단어의 개수를 카운트\n",
    "total_freq = 0 # 훈련 데이터의 전체 단어 빈도수 총 합\n",
    "rare_freq = 0 # 등장 빈도수가 threshold보다 작은 단어의 등장 빈도수의 총 합\n",
    "\n",
    "# 단어와 빈도수의 쌍(pair)을 key와 value로 받는다.\n",
    "for key, value in tokenizer.word_counts.items():\n",
    "    total_freq = total_freq + value\n",
    "\n",
    "    # 단어의 등장 빈도수가 threshold보다 작으면\n",
    "    if(value < threshold):\n",
    "        rare_cnt = rare_cnt + 1\n",
    "        rare_freq = rare_freq + value\n",
    "\n",
    "print('단어 집합(vocabulary)의 크기 :',total_cnt)\n",
    "print('등장 빈도가 %s번 이하인 희귀 단어의 수: %s'%(threshold - 1, rare_cnt))\n",
    "print(\"단어 집합에서 희귀 단어의 비율:\", (rare_cnt / total_cnt)*100)\n",
    "print(\"전체 등장 빈도에서 희귀 단어 등장 빈도 비율:\", (rare_freq / total_freq)*100)"
   ]
  },
  {
   "cell_type": "code",
   "execution_count": 157,
   "metadata": {},
   "outputs": [
    {
     "name": "stdout",
     "output_type": "stream",
     "text": [
      "단어 집합의 크기 : 30725\n"
     ]
    }
   ],
   "source": [
    "vocab_size = total_cnt - rare_cnt + 2\n",
    "print('단어 집합의 크기 :',vocab_size)"
   ]
  },
  {
   "cell_type": "code",
   "execution_count": 158,
   "metadata": {},
   "outputs": [],
   "source": [
    "tokenizer = Tokenizer(vocab_size, oov_token = 'OOV') \n",
    "tokenizer.fit_on_texts(X_train)\n",
    "X_train = tokenizer.texts_to_sequences(X_train)\n",
    "X_test = tokenizer.texts_to_sequences(X_test)"
   ]
  },
  {
   "cell_type": "code",
   "execution_count": 159,
   "metadata": {},
   "outputs": [
    {
     "name": "stdout",
     "output_type": "stream",
     "text": [
      "[[29, 25, 63, 16, 3486, 150], [25642, 247, 14393, 1357, 2197, 3171, 242, 1103, 10156, 242], [362, 14, 339, 485, 59, 77, 761, 110, 18]]\n"
     ]
    }
   ],
   "source": [
    "print(X_train[:3])"
   ]
  },
  {
   "cell_type": "code",
   "execution_count": 160,
   "metadata": {},
   "outputs": [],
   "source": [
    "y_train = np.array(train_data['label'])\n",
    "y_test = np.array(test_data['label'])"
   ]
  },
  {
   "cell_type": "markdown",
   "metadata": {},
   "source": [
    "## 빈 샘플 제거"
   ]
  },
  {
   "cell_type": "code",
   "execution_count": 163,
   "metadata": {},
   "outputs": [
    {
     "data": {
      "text/plain": [
       "9"
      ]
     },
     "execution_count": 163,
     "metadata": {},
     "output_type": "execute_result"
    }
   ],
   "source": [
    "drop_train = [index for index, sentence in enumerate(X_train) if len(sentence) < 1]\n",
    "len(drop_train)"
   ]
  },
  {
   "cell_type": "code",
   "execution_count": 164,
   "metadata": {},
   "outputs": [
    {
     "name": "stdout",
     "output_type": "stream",
     "text": [
      "187133\n",
      "187133\n"
     ]
    }
   ],
   "source": [
    "# 빈 샘플들을 제거\n",
    "X_train = np.delete(X_train, drop_train, axis=0)\n",
    "y_train = np.delete(y_train, drop_train, axis=0)\n",
    "print(len(X_train))\n",
    "print(len(y_train))"
   ]
  },
  {
   "cell_type": "markdown",
   "metadata": {},
   "source": [
    "## 패딩"
   ]
  },
  {
   "cell_type": "code",
   "execution_count": 165,
   "metadata": {},
   "outputs": [
    {
     "name": "stdout",
     "output_type": "stream",
     "text": [
      "리뷰의 최대 길이 : 468\n",
      "리뷰의 평균 길이 : 13.8600620948737\n"
     ]
    },
    {
     "data": {
      "image/png": "[encoded data removed]",
      "text/plain": [
       "<Figure size 432x288 with 1 Axes>"
      ]
     },
     "metadata": {
      "needs_background": "light"
     },
     "output_type": "display_data"
    }
   ],
   "source": [
    "print('리뷰의 최대 길이 :',max(len(l) for l in X_train))\n",
    "print('리뷰의 평균 길이 :',sum(map(len, X_train))/len(X_train))\n",
    "plt.hist([len(s) for s in X_train], bins=50)\n",
    "plt.xlabel('length of samples')\n",
    "plt.ylabel('number of samples')\n",
    "plt.show()"
   ]
  },
  {
   "cell_type": "code",
   "execution_count": 167,
   "metadata": {},
   "outputs": [],
   "source": [
    "def below_threshold_len(max_len, nested_list):\n",
    "    cnt = 0\n",
    "    for s in nested_list:\n",
    "        if(len(s) <= max_len):\n",
    "            cnt = cnt + 1\n",
    "    print('전체 샘플 중 길이가 %s 이하인 샘플의 비율: %s'%(max_len, (cnt / len(nested_list))*100))"
   ]
  },
  {
   "cell_type": "code",
   "execution_count": 168,
   "metadata": {},
   "outputs": [
    {
     "name": "stdout",
     "output_type": "stream",
     "text": [
      "전체 샘플 중 길이가 45 이하인 샘플의 비율: 96.68684839125115\n"
     ]
    }
   ],
   "source": [
    "max_len = 45\n",
    "below_threshold_len(max_len, X_train)"
   ]
  },
  {
   "cell_type": "code",
   "execution_count": 169,
   "metadata": {},
   "outputs": [],
   "source": [
    "X_train = pad_sequences(X_train, maxlen = max_len)\n",
    "X_test = pad_sequences(X_test, maxlen = max_len)"
   ]
  },
  {
   "cell_type": "markdown",
   "metadata": {},
   "source": [
    "## LSTM으로 악성 댓글 분류"
   ]
  },
  {
   "cell_type": "code",
   "execution_count": 170,
   "metadata": {},
   "outputs": [],
   "source": [
    "from tensorflow.keras.layers import Embedding, Dense, LSTM\n",
    "from tensorflow.keras.models import Sequential\n",
    "from tensorflow.keras.models import load_model\n",
    "from tensorflow.keras.callbacks import EarlyStopping, ModelCheckpoint"
   ]
  },
  {
   "cell_type": "code",
   "execution_count": 171,
   "metadata": {},
   "outputs": [],
   "source": [
    "model = Sequential()\n",
    "model.add(Embedding(vocab_size, 100))\n",
    "model.add(LSTM(128))\n",
    "model.add(Dense(1, activation='sigmoid'))"
   ]
  },
  {
   "cell_type": "code",
   "execution_count": 172,
   "metadata": {},
   "outputs": [],
   "source": [
    "es = EarlyStopping(monitor='val_loss', mode='min', verbose=1, patience=4)\n",
    "mc = ModelCheckpoint('best_model.h5', monitor='val_acc', mode='max', verbose=1, save_best_only=True)"
   ]
  },
  {
   "cell_type": "code",
   "execution_count": 173,
   "metadata": {},
   "outputs": [
    {
     "name": "stdout",
     "output_type": "stream",
     "text": [
      "Epoch 1/15\n",
      "2495/2496 [============================>.] - ETA: 0s - loss: 0.1500 - acc: 0.9388\n",
      "Epoch 00001: val_acc improved from -inf to 0.95180, saving model to best_model.h5\n",
      "2496/2496 [==============================] - 150s 60ms/step - loss: 0.1500 - acc: 0.9388 - val_loss: 0.1202 - val_acc: 0.9518\n",
      "Epoch 2/15\n",
      "2495/2496 [============================>.] - ETA: 0s - loss: 0.1158 - acc: 0.9537\n",
      "Epoch 00002: val_acc improved from 0.95180 to 0.95493, saving model to best_model.h5\n",
      "2496/2496 [==============================] - 160s 64ms/step - loss: 0.1158 - acc: 0.9537 - val_loss: 0.1146 - val_acc: 0.9549\n",
      "Epoch 3/15\n",
      "2495/2496 [============================>.] - ETA: 0s - loss: 0.1040 - acc: 0.9591\n",
      "Epoch 00003: val_acc improved from 0.95493 to 0.95789, saving model to best_model.h5\n",
      "2496/2496 [==============================] - 155s 62ms/step - loss: 0.1040 - acc: 0.9591 - val_loss: 0.1063 - val_acc: 0.9579\n",
      "Epoch 4/15\n",
      "2495/2496 [============================>.] - ETA: 0s - loss: 0.0954 - acc: 0.9631\n",
      "Epoch 00004: val_acc did not improve from 0.95789\n",
      "2496/2496 [==============================] - 157s 63ms/step - loss: 0.0954 - acc: 0.9631 - val_loss: 0.1083 - val_acc: 0.9577\n",
      "Epoch 5/15\n",
      "2496/2496 [==============================] - ETA: 0s - loss: 0.0899 - acc: 0.9658\n",
      "Epoch 00005: val_acc did not improve from 0.95789\n",
      "2496/2496 [==============================] - 153s 61ms/step - loss: 0.0899 - acc: 0.9658 - val_loss: 0.1114 - val_acc: 0.9575\n",
      "Epoch 6/15\n",
      "2495/2496 [============================>.] - ETA: 0s - loss: 0.0857 - acc: 0.9676\n",
      "Epoch 00006: val_acc improved from 0.95789 to 0.95909, saving model to best_model.h5\n",
      "2496/2496 [==============================] - 136s 55ms/step - loss: 0.0857 - acc: 0.9676 - val_loss: 0.1082 - val_acc: 0.9591\n",
      "Epoch 7/15\n",
      "2495/2496 [============================>.] - ETA: 0s - loss: 0.0820 - acc: 0.9693\n",
      "Epoch 00007: val_acc did not improve from 0.95909\n",
      "2496/2496 [==============================] - 154s 62ms/step - loss: 0.0820 - acc: 0.9693 - val_loss: 0.1066 - val_acc: 0.9575\n",
      "Epoch 00007: early stopping\n"
     ]
    }
   ],
   "source": [
    "model.compile(optimizer='rmsprop', loss='binary_crossentropy', metrics=['acc'])\n",
    "history = model.fit(X_train, y_train, epochs=15, callbacks=[es, mc], batch_size=60, validation_split=0.2)"
   ]
  },
  {
   "cell_type": "code",
   "execution_count": 174,
   "metadata": {},
   "outputs": [
    {
     "name": "stdout",
     "output_type": "stream",
     "text": [
      "15/15 [==============================] - 0s 8ms/step - loss: 0.8829 - acc: 0.7113\n",
      "\n",
      " 테스트 정확도: 0.7113\n"
     ]
    }
   ],
   "source": [
    "loaded_model = load_model('best_model.h5')\n",
    "print(\"\\n 테스트 정확도: %.4f\" % (loaded_model.evaluate(X_test, y_test)[1]))"
   ]
  },
  {
   "cell_type": "code",
   "execution_count": 188,
   "metadata": {},
   "outputs": [],
   "source": [
    "def sentiment_predict(new_sentence):\n",
    "    sent = new_sentence\n",
    "    new_sentence = okt.morphs(new_sentence, stem=True) # 토큰화\n",
    "    new_sentence = [word for word in new_sentence if not word in stopwords] # 불용어 제거\n",
    "    encoded = tokenizer.texts_to_sequences([new_sentence]) # 정수 인코딩\n",
    "    pad_new = pad_sequences(encoded, maxlen = max_len) # 패딩\n",
    "    score = float(loaded_model.predict(pad_new)) # 예측\n",
    "    if(score > 0.5):\n",
    "        print(\"{}: {:.2f}% --.\\n\".format(sent, score * 100))\n",
    "    else:\n",
    "        print(\"{}: {:.2f}% ++.\\n\".format(sent, (1 - score) * 100))"
   ]
  },
  {
   "cell_type": "code",
   "execution_count": 189,
   "metadata": {},
   "outputs": [
    {
     "name": "stdout",
     "output_type": "stream",
     "text": [
      "송중기 시대극은 믿고본다 첫회 신선하고 좋았다: 99.95% ++.\n",
      "\n",
      "지현우 나쁜놈: 65.12% ++.\n",
      "\n",
      "알바쓰고많이만들면되지 돈욕심없으면골목식당왜나온겨 기댕기게나하고 산에가서팔어라: 97.08% --.\n",
      "\n",
      "설마 ㅈ 현정 작가 아니지: 98.44% --.\n",
      "\n",
      "이미자씨 송혜교씨 돈이 그리 많으면 탈세말고 그돈으로 평소에 불우이웃에게 기부도 좀 하고사시죠: 71.16% --.\n",
      "\n",
      "일베충들 ㅂㄷ거리는것봐라 ㅉㅉ: 97.93% --.\n",
      "\n",
      "아이즈원 힘내세요일본 진출도 했으니 일본서 좋은 모습 보여줘도 팬들은 응원 합니다: 99.49% ++.\n",
      "\n",
      "강부자 선생님 전미선 비보에 오열을 하셨다니 눈물이 나네요 힘내세요: 90.65% ++.\n",
      "\n",
      "알았어 그만: 93.15% --.\n",
      "\n",
      "이영자씨는 진정성 있는거라면 녹화불참으로 끝내지말고 자진하차해라 시청자는 고려도 안하고 일방적 불참은 아닌듯 엠비씨도 시청율 좋아서 고민하는거 같은데 결방할게 아니고 폐지해라: 60.44% --.\n",
      "\n",
      "이경규가 이런거보면 세련되긴함 저 나이에 차은우 누가 알꼬 아무리 잘생겼다해도 배워야할점 많으신분: 86.69% --.\n",
      "\n",
      "아발 어쩌라고 뭔기사가계속나오냐: 98.43% --.\n",
      "\n",
      "진짜 멋지네요: 67.80% ++.\n",
      "\n",
      "명수 응근슬쩍 뒷치기각잡네: 98.20% --.\n",
      "\n",
      "철구한테 별풍쏜놈 수준도 똑같지 뭐 ㅋㅋ: 99.40% --.\n",
      "\n",
      "둘이 화장실가서 싸우길: 50.11% ++.\n",
      "\n",
      "송이매니저 거지냐 치과치료비용까지 남한테 타서 하게 솔직히 치아관리를 얼마나 안했으면 앞니가 시커멓게 될따까지 냅두냐 치과공포증은 핑계지 볼때마다 얼마나 거슬리는데 쟤네 부모님은 뭐하나 앞니하나 치료도 못해주고: 99.87% --.\n",
      "\n",
      "언제까지 반일 감정에 불탈래 막상 역사도 그렇게 모르는 개돼지들이 꼭 흥분하더라: 99.58% --.\n",
      "\n",
      "기자왜이래 이건 아니야 니 일기장에 써라 제목부터 오바야: 93.27% --.\n",
      "\n",
      "이거 아직도 하: 84.20% --.\n",
      "\n",
      "조우종이가 장성규보단 낫지장성규 얼마못간다: 97.52% --.\n",
      "\n",
      "주말드라마에 장사하는엄마가 폐암걸리는 드라마를볼줄이야: 98.38% ++.\n",
      "\n",
      "난 남자쪽에서 여자를 버렸다는줄 알았는데 자세히 보니까 여자쪽 집에서 남자를 버린것 같은데 버려놓고 이제와서: 98.95% --.\n",
      "\n",
      "언플 오지네 진짜  언플하기전에 연기력과겸손함부터 쳐배워라 : 88.85% --.\n",
      "\n",
      "한화이글스 해산하자 빱: 93.80% --.\n",
      "\n",
      "유이 자연스러워진 연기: 99.28% ++.\n",
      "\n",
      "알겠으니까 이제는 좀 조용히좀 살아 진짜 관종이네ㅋㅋㅋㅋㅋㅋㅋㅋㅋㅋㅋㅋ: 95.70% --.\n",
      "\n",
      "죽창 운운하면서 반일선동하는 뒤로 자기들은 일제 쓸거 다 쓰는 한국 정치인들이나 간악한 쪽 운운 하면서 즈그들은 렉서스 끌고 일제 전자기기 쓰는 북한놈들이나 ㅋㅋㅋㅋ 순진하게 부화뇌동하는 국민들만 바보되는거지 ㅋㅋㅋㅋ: 99.89% --.\n",
      "\n",
      "서현진 이민기 둘다 연기가 식상함: 99.71% ++.\n",
      "\n",
      "임신했나보네 몸안좋아서 임신안되는줄 알았는데 우울하다 왜 딴따라들은 임신잘되고 나만안되는데: 91.52% --.\n",
      "\n",
      "왜 유재석에게는 얼굴에 케익폭탄인가 그 벌칙 안하는거지: 96.60% --.\n",
      "\n",
      "유승준은 천재적인 재능이라도 있지 이넘은 뭐없잖어 대중들이 왜 봐줘야해: 64.26% ++.\n",
      "\n",
      "왜 현우한테 ㅠㅜ: 84.46% ++.\n",
      "\n",
      "ㅋ 여기 댓글은 조선 직원들이 동원됐나여: 99.52% --.\n",
      "\n",
      "그래도   회분은 보여주는게: 60.37% ++.\n",
      "\n",
      "누가 그랬다 한국 사람들에게 마음의 문을 열고 진심을 다해 대하면 그 한국 사람은 사기칠 생각부터 한다고: 74.79% ++.\n",
      "\n",
      "남자는 애걸복걸한 여자를 좋아하지않는데 박나래도 알텐데 그냥 쇼맨쉽인가: 96.90% --.\n",
      "\n",
      "이승기 예능 이끌 능력도없는데 팬을위한프론가보네: 60.45% ++.\n",
      "\n",
      "캡쳐할 인간들 수두룩이네ㅋㅋ: 97.12% --.\n",
      "\n",
      "둘다 비교하면서 들어봤는데 곡의 장르 분위기만 비슷하다고 느낄수있는데 표절은 아니다그냥 가수 목소리만 비슷하네 창법이 비슷해서 혼돈 할수도 있을듯: 99.89% ++.\n",
      "\n",
      "지인들끼리 밥내기 골프정도는 안하나 기레기 어떻게든 엮으려고 하네: 99.54% --.\n",
      "\n",
      "꺼져주세요 ㅈㄴ보기싫네: 97.20% --.\n",
      "\n",
      "문재앙놈 땜에 애꿎은 젊은이들만 희생을 당하네: 99.80% --.\n",
      "\n",
      "스포츠예능에 약쟁이라니: 82.70% --.\n",
      "\n",
      "간이 덜컥 빠지는 소리 컥 세종아 너만은 아니길: 97.77% --.\n",
      "\n",
      "듣보잡 이지만 축하: 92.85% --.\n",
      "\n",
      "하여간 죳티즌들 지들만 양반인척 역겹ㅋㅋㅋㅋ: 99.76% --.\n",
      "\n",
      "여자 두명이면 서로 까고 세명이면 둘이 하나깜: 91.67% --.\n",
      "\n",
      "손예진이랑 소지섭이랑 곧 결혼한다 이글은 곧 성지글이 된다: 97.67% --.\n",
      "\n",
      "한혜진 진짜 성격은 모르겠고 방송이미지는 여자들이 좋아할 성격임 남자들이 볼땐 그냥 친구란 생각밖에 안들고 물론 좋은 성격인거 같긴함 방송 이미지대로라면: 65.14% --.\n",
      "\n",
      "꼰대베플만있나하고 연령대봤더니 대들이 대부분: 99.54% --.\n",
      "\n",
      "효녀라 좋았는데혜나 미워하는 인간들은 뭐지: 92.18% ++.\n",
      "\n",
      "머리가 삼발이라 짜잖아서 보기싫다: 90.07% --.\n",
      "\n",
      "일반인은 귀찮아서 비추도 안 찍는다 견제 질투빠 수작질에 질린다: 88.42% --.\n",
      "\n",
      "디패 추가공식입장내길바란다 저렇게 무성의하게 조작됐고 아는바없다만 올리지말고내부든 외부든 누가조작했는지 밝혀내겠다 혼선드려 죄송하다 두사람에게 사과한다 등 내야하는거 아닌가: 99.72% --.\n",
      "\n",
      "아니라자나 아 놔 진짜 난 팬도 아닌데다 짜증나네 이것 말고 웟대가리들이나 파라고: 67.86% ++.\n",
      "\n",
      "조금 헷갈리긴 하지만 자세히 들어보면 다 맞출 수 있던데ㅎㅎ: 99.84% ++.\n",
      "\n",
      "미친 이게 왜 문통 잘못이냐 덮긴 뭘덮어: 99.92% --.\n",
      "\n",
      "언니 토닥토닥응원해욧: 51.12% --.\n",
      "\n",
      "고현정 연기 미모 카리스마 소름  드라마 잘 안보는데 오늘 첨 봤지만 시간가는줄 모르고 몰입했네요: 99.98% ++.\n",
      "\n",
      "정해인도 닮은듯: 98.20% --.\n",
      "\n",
      "여기 고소할 악풀러들 많네: 82.56% --.\n",
      "\n",
      "김태리 정말 연기잘해 진짜: 99.48% ++.\n",
      "\n",
      "현지 반응 별로던데 노래도 이상하고 춤도 난해하다고 국내에서도 지코한테 위 다 뺏긴거보면 국내반응도 별로인듯: 95.37% --.\n",
      "\n",
      "임현주한테 열폭부리는 것들 많넼ㅋㅋ 하긴 지들은 임현주가 가진 매력의 반의반도없으니 남자못꼬시지: 91.74% --.\n",
      "\n",
      "삼가 고인의 명복을 빕니다: 99.13% ++.\n",
      "\n",
      "오 여판사네: 98.37% --.\n",
      "\n",
      "요즘은 용기있는 남자가 없는 듯 이러다 손예진 연애도 못하겠네: 86.30% ++.\n",
      "\n",
      "힘내셔요남들이 뭐라하든 열심히 살면 됩니다앞으로 좋은일만 가득하세요: 75.46% --.\n",
      "\n",
      "그냥 김치석 따로 만들어라 지적 장애인 대우 해주께 ㅋㅋㅋㅋ: 99.90% --.\n",
      "\n",
      "짠돌이보단 낫다: 92.23% --.\n",
      "\n",
      "짠내투어 멤버로 랩퍼 도끼를 추천합니다 근검절약의 아이콘 이시더라고요: 95.46% --.\n",
      "\n",
      "너무 예쁘다 행복하세요: 98.44% ++.\n",
      "\n",
      "ㅈㄹ 하고 자빠졋네판빙빙 얼굴바 뭐 하냐탈세 자랑스러운 일이냐: 99.77% --.\n",
      "\n",
      "본판이 예쁘시니 뭐ㅜ: 89.81% ++.\n",
      "\n",
      "최지우 오랜만에 보니 좋네요 임신해도 너무 예뻐요: 99.58% ++.\n",
      "\n",
      "나라는 죽어가는데ㅜ진심 최악: 97.17% --.\n",
      "\n",
      "애미나이 세면 유산 및 기형아나 장애아 출산가능성 엄청높을듯: 80.96% --.\n",
      "\n",
      "지금모든책임을 악플러들한테돌리는데 제의책임은 기획사 즉에 있다는걸 잊지말아라: 57.38% --.\n",
      "\n",
      "진짜 악플 머냐 그것도 어린아이 한테악플쓰고 죄책감 안드는가 가정교육이란걸 못받아서 그런가아니면 그 부모의 그 자식: 56.46% --.\n",
      "\n",
      "김신영 넘 예뻐요건간도 찾고 날씬 굿굿화이팅: 88.42% ++.\n",
      "\n",
      "두번째사진 코가 콧구멍만보이네ㅋㅋㅋㄱㅋㅋㄱㅋㅋㅋㅋㅋㅋㅋㅋㅋ: 96.13% --.\n",
      "\n",
      "존나징그럽다딴에는 예술이라구하겠지만 ㅋㅋㅋ 누드인즉슨 빨개벗고나와야지 페인팅옷입고 뭔 개솔이고: 94.02% --.\n",
      "\n",
      "화났으면 풀어줘야지 센스가 없네 현아가: 51.98% ++.\n",
      "\n",
      "사실로 그렇게억울하게 당하구 살아왔다면 경찰에 고소하구 법의심판을 받게해야지 네티즌들이 왈가불가 할일이아니다: 88.41% --.\n",
      "\n",
      "층간소음 장난 아닐텐데 위아랫집 스트레스 엄청 받았을듯: 80.85% ++.\n",
      "\n",
      "아 갑자기 내용 왜 이럼: 77.05% ++.\n",
      "\n",
      "어쩐지 키가 커서 살만 좀 빠지면 너무 이뻐질거라 생각했는데 살이 빠진거였군요점점 예뻐지더라고요: 59.22% ++.\n",
      "\n",
      "악플러들 너무 싫다 도와주기 싫으면 외면하면 되지 왜 글을 쓰는 수고를 할까 이런 행태 외면하지 못하겠다 정말: 86.81% ++.\n",
      "\n",
      "재슥이는 나오는프로마다 애국가 시청률이랑 경쟁함 ㅋㅋㅋ: 93.57% --.\n",
      "\n",
      "두분 다 엄청 좋아합니다 이효리도 이시대의 소박하고도멋진샐럽이지요 ㅋ세분의 우정과 행복을 성원합니다: 95.72% ++.\n",
      "\n",
      "한은정 코카콜라 씨에프가 대박이였는댕 지금도 너무 이쁘다: 74.59% ++.\n",
      "\n",
      "얘는 이 왠지 잘 생긴듯하다가도 왠지 컨츄리하단 느낌이 분명 있음 그나마 가꿔서 이 정도지를 기본 바탕이 잘 생겼단 이미지랑 거리가 먼게 암튼 아직 어린 나이니 일이 잘 풀리길: 95.61% --.\n",
      "\n",
      "구혜선씨 따돌리고 챙기지도 않는 엔터는 계약 해지는 왜 아직도 안해주고 있나요 더럽게 발목 그만 붙들고 놔주시지: 94.23% --.\n",
      "\n",
      "아니 남자가 태연을 왜 까냐 그것도 십대도 아닌 대 남자가 ㅋㅋㅋ 태연만 보면 질질거릴텐데 여자들이나 질투나서 까지 아 ㅋㅋ 한남앞에두고 뒤에서 화나요나 누르고: 94.22% --.\n",
      "\n",
      "살인마 와이프: 66.13% --.\n",
      "\n",
      "ㅉㅉ 슬슬본색을드러내나 장난아닌거음구혜선씨넘불쌍해 누구좋으라고이혼해줌ㅡㅡ: 85.60% ++.\n",
      "\n",
      "빠순이년들이 또 죄없는 애한명 보냈네: 99.49% --.\n",
      "\n",
      "은퇴아직안했냐 노인주니어: 87.51% --.\n",
      "\n",
      "얜 뭔 듣보잡이냐: 99.84% --.\n",
      "\n",
      "너는 뭐가 잘났다고 군대 안가냐 김우빈처럼 암이라도 걸리던지: 97.03% --.\n",
      "\n",
      "시청자들이 갑인데 갑한테 그따구로 고지도 안하고 쳐맞고싶냐: 97.20% --.\n",
      "\n",
      "백종원 진지하게 연예대상 후보아님: 99.14% --.\n",
      "\n",
      "부 잠깐 보다가 손에서 칼 잡는거 보고 바로 돌렸다 현빈 도대체 왜 이리 작품보는 눈이 없냐 시크릿가든 이후로 마음에 드는 작품이 하나도 없다 하기야 시가도 장혁 대타였는데 그거 못했으면 현빈은 지금 급이었을듯: 99.94% ++.\n",
      "\n",
      "양다리든 몇다리든 연예로 범죄자 취급하네 많이 사귈수있지 이게 범죄인양 떠들지 마라 각자알아서 해결하시지 네이버메인에 왜 올라온겨: 99.53% --.\n",
      "\n",
      "류준열이 저뮤탈리스크같이 생긴애는 왜친한척ㅎ: 98.63% --.\n",
      "\n",
      "ㅋㅋ월 받는 월급쟁이들 천만원 밥값발언에 단체로 풀발했네 돈 많은만큼 소비액 높아지는걸 스스럼없이 표현한건데 그지들 다 모였어ㅎㅎㅋㅋㅋㅋㅋ: 99.46% --.\n",
      "\n",
      "부인 재산분할 해주고 합의이혼 하세요결국 돈을 제대로 안주니까 이혼 안해주는거죠: 99.80% --.\n",
      "\n",
      "최수종 유이 연기 왜케 어색하지ㅠ: 99.96% ++.\n",
      "\n",
      "가운데는 빼라 이민호는 중국 팬들 난리나겠네: 96.78% --.\n",
      "\n",
      "악마의 재능 신정환이 들어가면 좋겠다: 74.80% --.\n",
      "\n",
      "교익이형의 진가 인정합니다 갓교익의 안목이다 이게: 85.57% --.\n",
      "\n",
      "에휴 퇴출운동서 낸 대표 새끼 일 커지니까 삭제하고 바로 숨었다면서  대표  ㅉㅉ: 99.94% --.\n",
      "\n",
      "몰라서그랬는데 봐주자 사회성이떨어지잖아: 94.90% --.\n",
      "\n",
      "최민수 성질 더러운거 맞음 세월지났다고 요즘 포장된 것만 보고 착각하는데 옛날부터 유명했음 위커힐 죽돌이에 드라마 촬영때도 말 안듣기로 소문이 자자했고: 97.39% ++.\n",
      "\n",
      "하필ㅡ구원파 교회: 96.57% --.\n",
      "\n",
      "당시 신재호 나이 살이었는데 살짜리가 사기혐의에 적극적으로 개입한거 아니면 법적으로 마닷이 책임질 일은 없다  ㅎ: 93.31% --.\n",
      "\n",
      "방송에서 보여지는 좋은 부분만으로 좋은인간일 거라 착각했던 내가 멍충한거다: 51.72% ++.\n",
      "\n",
      "어후 대 폐경기 아줌마들이 또 악플다네: 93.27% --.\n",
      "\n",
      "아직도 죽은 엄마 팔아먹어 관심 받으려고 하는 관종이네: 98.62% --.\n",
      "\n",
      "음 열애설나고 비는 그렇게 막을내렸지: 72.10% --.\n",
      "\n",
      "솔직히 초반 몇회 빼고 유치하고 노잼이었음: 82.05% ++.\n",
      "\n",
      "내가못생겨지니깐 이하이도이뻐보이네: 99.25% --.\n",
      "\n",
      "딸이 해결해줘야하는거아닌가엄마잖어: 96.59% --.\n",
      "\n",
      "이런 역사적인 영화를 보자난 어제 마녀봤다: 99.92% ++.\n",
      "\n",
      "어찌됐던 김수민 이쁘다 허어: 77.91% --.\n",
      "\n",
      "케이블 면 대박은 아니지만 성공 아니냐 안나오는 지상파 드라마 많은데하긴 이젠 드라마 하면 이니깐 오히려 지상파보다 당연히 더 나와야 된다고 생각한다는 건지도ㅎㅎ: 99.98% ++.\n",
      "\n",
      "김태희 발끝이라도 쫓으려면 미백부터 시급하게 해야할듯김유정처럼 동남아 냄새 나여: 89.43% --.\n",
      "\n",
      "못 생긴 여자가 벗는대 생긴건 꼭 노래방 도우미 같이 생기가 지가 노래방 도우미로 착각 하는가 : 99.65% --.\n",
      "\n",
      "영심이가 용식이 첫사랑 누가인가ㅋㅋ: 71.68% --.\n",
      "\n",
      "우리 탑오빠가 뭔잘못이예요 ㅜㅜㅜ: 68.66% --.\n",
      "\n",
      "노래방가면 항상 불렀던 노래대단한 너였어요한번씩 이분은 뭘하며 지내나 생각도났고 슈가맨에 이재영 보고싶다고 했는데 불청에나왔네요 어쨌든 다시보게되니 반갑네요: 62.37% --.\n",
      "\n",
      "나이에 걸맞게 쳐 놀아라 이제 마흔이 넘었는데 언제까지나 귀여운 척 할래 ㅉ: 50.29% --.\n",
      "\n",
      "네 이분 디졋답니다: 93.05% --.\n",
      "\n",
      "상아야 너 이혼 몇번했냐: 97.08% --.\n",
      "\n",
      "예전에 삼청동에서 실물봤는데 진짜 이쁘던데피부 완전 좋고 날씬 깜놀했음: 77.39% ++.\n",
      "\n",
      "엑소는 명일때가 가장 빛나는데: 98.85% ++.\n",
      "\n",
      "황민현 최고다: 85.06% ++.\n",
      "\n",
      "제발 못생긴 연예인은 티비 못나오게 하자: 99.37% --.\n",
      "\n",
      "사람이 자기의 거짓과 치부를 드러내고 사는 사람이 얼마나 있을까 문대통령이라한들 주위에서 말을해두지 않으면 어찌 알겠어 사람들아 박근혜는 예전부터 다 드러난 사실들이다: 99.61% --.\n",
      "\n",
      "최자가 사람 잡음: 94.92% --.\n",
      "\n",
      "할배랑 결혼한 이유가 이거지: 99.69% --.\n",
      "\n",
      "저만 느낀거 아니죠연기 완전 늘었어요 보면서 감정이입되서 같이 울었고 예고에 딸 안아보는거에 또 눈물이 ㅠ: 99.98% ++.\n",
      "\n",
      " 돌아와요 아저씨  보는거 같음 감사 ㅠ: 99.36% ++.\n",
      "\n",
      "도쿄 유흥가 걷다보니까 일본 야동 가게 포스터에 똥 문지르면서 그거 하는 것도 있고 하면서 참고 하다가 똥싸는 것도 있고 그거 받아먹고 그런 동영상도 있더라 보고 싶은 놈들 많은가 본데 한번 찾아서 보던가 ㅋㅋㅋㅋㅋ: 99.08% --.\n",
      "\n",
      "아주머니 일하시는 모습 보면서 눈물이 났습니다우리 엄마 같기도하고 저도 주방에서 일하지만 힘내세요 앞으로 더 좋은 결과가 있길 바랍니다: 96.53% ++.\n",
      "\n",
      "엥 나는 장도연이 말이 너무 심했다고 느꼈는데 손담비가 착해보였음: 88.62% --.\n",
      "\n",
      "아내가이민정이라 이번 여주들 다 오징어로보일듯 ㅠㅠㅠ: 92.46% ++.\n",
      "\n",
      "살아줘서 다행이고 감사합니다 전세계적으루이슈화되지 못했다면 어떻게 됐을지 모르지: 94.91% --.\n",
      "\n",
      "그냥 얼굴보고 반해서 빠순이짓 해놓구선 왤케 포장해 ㅋㅋㅋ: 64.89% --.\n",
      "\n",
      "살빼면 연예계 데뷔한다고 방송 계속 나올듯 누구처럼: 96.96% --.\n",
      "\n",
      "안재현 망 할 놈 얼마나 개망나니 같이 행동했으면 구혜선이 한를 품를까 구혜선 인기보고 접근한놈 네 밥먹는 숟가락는 네돈으로 샀니 거지 근성  거기도 주제에 바람끼 애 더 러운 자 식  에 나오지 마라 비뚤어진 인성가진놈는 꺼 져 라: 99.69% --.\n",
      "\n",
      "형 화이팅: 62.36% --.\n",
      "\n",
      "이하정 코수술진짜티나: 91.47% --.\n",
      "\n",
      "둘이 얼굴체인지한건줄: 94.18% --.\n",
      "\n",
      "존나느끼하게생겼네 가서짜장이나처먹지 왜 남나라 기사까지내냐: 99.87% --.\n",
      "\n",
      "난 니가 누군지모른다: 97.90% --.\n",
      "\n",
      "울것두 많다: 57.54% ++.\n",
      "\n",
      "큐브가 막대한투자후그에대한 책임도 없이 연애 펜다곤 다른애들은 뭐임ㅜㅜㅠ: 91.31% ++.\n",
      "\n",
      "유재석 요즘 재미없음 맨날 오씨 오씨 만 힐줄 알고 확실히 예전 만큼 엘리트가 많이 떨어짐: 96.60% ++.\n",
      "\n",
      "별로 잘못했다고 생각안함: 65.67% --.\n",
      "\n",
      "송혜교보다 더 예쁘고 우아하다 오연수도 닮았고만 더 빼면 최고 자연미인: 99.86% ++.\n",
      "\n",
      "이분도 은혁처럼 소리소문없이 사라지는거 아녀: 95.00% --.\n",
      "\n",
      "근데 이영자 먹는걸로만 조지려해서 점점 식상: 94.03% --.\n",
      "\n",
      "시청자들이 막판에 이영자를 선택했나 보네요: 95.19% ++.\n",
      "\n",
      "응원합니다 다시 노래하는 모습보고시포요: 99.83% ++.\n",
      "\n",
      "오달수는 진짜 총각때 혈기 왕성할때 그런 실수 누구나 할수있다 반성하고 다시 열심히 조연배우 하세요: 98.31% ++.\n",
      "\n",
      "글쎄 두고봐야지 사람은 모르는거다: 67.39% ++.\n",
      "\n",
      "머리 살짝 당긴게 머리채 잡은걸로 그러다 잡고 끌고 간걸루 변했네 조금 있으면 머리채 잡고 바닥에 질질 끌고 간걸루 되겠다 물론 스텝이 잘못한건 맞는데왜이리 이상하게 변하냐: 77.03% --.\n",
      "\n",
      "라원이 보고싶었는데ㅜㅜㅜㅜ 문희준도 예쁜 모습보여주시길: 99.20% ++.\n",
      "\n",
      "그러니깐 여자를 잘만나야되징글징글한것들 만나면 인생 끝가지 돌아가게 되는듯 근데 왜 다들 김새롬 편을들어 미친것들이: 62.40% --.\n",
      "\n",
      "아시블 개시블: 98.60% --.\n",
      "\n",
      "진짜 이쁘긴 이뻐요: 68.82% --.\n",
      "\n",
      "장윤정 딸래미 친정 엄마 랑 똑같이 생겼잖아: 98.62% --.\n",
      "\n",
      "년쯔음 여자들이 딱 중고교때부터 불평불만이 많았음: 97.91% --.\n",
      "\n",
      "페미는 정신병이다 정신병 회사에서 여대 거르는게 왜그런줄 아직도 모르나: 99.62% --.\n",
      "\n",
      "기자 누구냐ㅡㅡ 안과 소개해준다: 95.61% --.\n",
      "\n",
      "ㅠㅠ 응원해요 이제 잘 될일만 남았어요: 83.55% --.\n",
      "\n",
      "자다가 누가 죽는 꿈꿔서 방금 일어나서 불키고 휴대폰 봤는데 실검 위가 누가 죽는 소식이라니 믿기지가 않습니다 저 스스로도 소름돋아서 눈물이 나고 있습니다: 75.60% --.\n",
      "\n",
      "조작돌은 이제 백수생활로 고우: 89.87% --.\n",
      "\n",
      "역사적 사실이 들어가고 주연 캐릭터들의 탄생배경과 성장과정이 들어가다보니 좀 루즈한감도 있고 다소 연출도산만한 감이 있었음 내일 예고보니 내일부터 꿀잼각: 99.97% ++.\n",
      "\n",
      "더 손타기전에 잘간듯 더 타봐야 뭐 즐기기밖에 더하겟너: 89.48% --.\n",
      "\n",
      "하필이면 얼굴 중에서 제일 민감한 입술 부상이라니 매우 안타깝지만 치료 잘 받고 조속히 방송에 복귀하길 기원하는 마음이다: 96.59% --.\n",
      "\n",
      "엄 마친구인데 신경써줘야할부분임친구와의 의리도있는데자식키우는 엄마입장이기도하고: 91.17% ++.\n",
      "\n",
      "이던데 오나라랑 부부를: 61.57% --.\n",
      "\n",
      "독전에서 김주혁은 정말 연기 잘하던데축하드립니다 ㅠㅠ: 99.24% ++.\n",
      "\n",
      "돼지같은 것들은다 이유가 있다: 97.55% --.\n",
      "\n",
      "연예인들 돈을 수십억 넘게 벌면서 왤케 힘든척싸냐: 99.91% --.\n",
      "\n",
      " 좀찌면 였던 나 아이낳고  겨우 키로 뺏는데 다시 찜 하: 95.00% --.\n",
      "\n",
      "본인이 노력해서 예뻐지는데 무슨상관 욕하지 말고 격려해 줍시다: 91.57% --.\n",
      "\n",
      "아빠 나죽이지마ㅜㅜ: 72.61% --.\n",
      "\n",
      "길면 년 이혼 간다ㅋ: 98.37% --.\n",
      "\n",
      "뭐가 진실인지 모르는 세상속에그냥저 웃음이 진실이라면미치고 팔짝뛸일사람하나 엮어내는일이 얼마나 쉬운지: 87.27% --.\n",
      "\n",
      "이것도 기자라고: 97.57% --.\n",
      "\n",
      "역겨운 련 방송나오는자체가 국민들 멘붕이다주제 파악좀하지: 91.98% --.\n",
      "\n",
      "아니아니 바다는왜그타임에나타나서 난리부르스야 의 입김이있었어 분명히 ㅠ 강타도그렇고린이 등맞어중간에나왔음 표지: 75.83% ++.\n",
      "\n",
      "상품성 제로 진자 대형기획사빨아녓슴 애진장에 끝낫지: 99.15% --.\n",
      "\n",
      "박경림은 빼라목소리 자체가 짜증이다: 88.78% --.\n",
      "\n",
      "몇년간 에서 한게뭐냐 다들 열심히 곡 뽑고 박재범은 해외활동까지 소화하는데 공동 대표란 사람이 여태 놀다 이제와서 곡작업 하면서 징징거리고 그럴거면 나가라: 99.34% --.\n",
      "\n",
      "놀고 자빠졌네ㅎㅎ주디 콱 때려뿔라: 98.99% --.\n",
      "\n",
      "확실히 조급하긴 한가보네오히려 큐브 소속일때도 이정도로 나오진 않았던 현아 기사가 급속도로 터져나오는걸로 봐선조급하거나  조만간 복귀수순이겠네요: 99.18% --.\n",
      "\n",
      "제정신아니네 고딩과과계한것도웃기지만 성인이피임도안하나 애는 남자한테줘버리고결혼은하지말았어야지: 94.25% --.\n",
      "\n",
      "지니 혜야 훨씬 더 잘했는데 아쉽다: 54.67% --.\n",
      "\n",
      "임신한 몸으로 저런모습이 정상인가이런사진 뭐땜에 올리지 : 99.46% --.\n",
      "\n",
      "귀뚫고 난리네 누나도 연예인병 나고: 96.74% --.\n",
      "\n",
      "구혜선씨다른사람 신경쓰지마시고악플도보지마세요힘내시기를 응원합니다: 68.66% ++.\n",
      "\n",
      "너무 섣부른 판단인듯: 70.23% --.\n",
      "\n",
      "문재앙되더니 별의별 놈들이 다 쳐나오네: 99.97% --.\n",
      "\n",
      "박진영의 인성과 성실함은 인정함: 99.19% --.\n",
      "\n",
      "ㅋㅋㅋ근데 목소리는 또 남자다운게 신기하네요 장동윤: 69.68% --.\n",
      "\n",
      "그냥 ㄲㅈ자: 71.14% --.\n",
      "\n",
      "차화연씨가 언급한것도 아니고 조세호가 질문해서 거기에 대답한건데 내용도 잘 모르는 찌질이들이 또 난리 났구만 대한민국 못난이댓글러들큰일이다: 99.44% --.\n",
      "\n",
      "근데 울산은경상도 아닌가요 저는 서울사람인데 경상도가 티비에 나와도 되는 동네인지 의문이네요 경상도 사투리 자체가 아이들 정서상에 좋지 않거든요 앞으로 주의해주셨으면 좋겠습니다: 87.38% --.\n",
      "\n",
      " 티아라 니년들이 저지른 행실이 나쁘니까 벌받는거지 : 95.34% --.\n",
      "\n",
      "정연아 힘내라 오빠가 있잖아 니 잘못 아니다: 97.49% --.\n",
      "\n",
      "트위터가보면 한녀들 인신공격 일상이던데 아닌척은 ㅋㅋ: 99.69% --.\n",
      "\n",
      "이혼 안 해주는 부인도 고집이 만만치 않으시네요: 96.13% --.\n",
      "\n",
      "식스센스를 가성으로 불러서 브아걸한테 누를 끼친 그 분: 86.44% --.\n",
      "\n",
      "불편하다싶었는데 통계보니 프로 여성ㅋㅋㅋㅋㅋ 카이스트 문짝하나도 못들어갈 년들이ㅋㅋㅋ: 99.67% --.\n",
      "\n",
      "이게 드라마냐 이딴 알맹이없는 단순 자극으로 시청률 올리는게 뭐가 대단해 작품이 대단하다는 생각 도안한다 개막장으로 시청률 실컷 올려봐라 ㅉㅉ: 99.96% ++.\n",
      "\n",
      "신기함 이정도면 애낳는거 재밌어서 낳는듯 하나낳기도힘든데 대단하심: 99.90% ++.\n",
      "\n",
      "끝까지 읽으세요 한편 이종석은 중학교 재학시절 큰 교통사고로 십자인대가 파열돼 보충역급 판정을 받은 것으로 알려졌다 이에 따라 이종석은 대체 복무 시점이 결정되면 사회복무요원으로 년간 병역의 의무를 다하게 된다: 79.19% --.\n",
      "\n",
      "대중후반대같네 캐동안: 68.81% ++.\n",
      "\n",
      "세븐 인성ㅆㅎㅌㅊ인거 같은데 왜 알면서도 사귀는걸까 대물인가흠: 92.02% --.\n",
      "\n",
      "중기야 왜 히필 늙다리한테 물려서 ㅠㅠ: 98.50% --.\n",
      "\n",
      "년 일을 아직도 울궈 먹는 병티즌 클라스 ㅇㅇ 오히려 월드스타가 년까지 그거밖에 흠잡힐 게 없다는 게 대단하네 ㅎㅎ 년이면 그룹 하나가 데뷔했다 해체할 기간인데 ㅎㅎ: 98.65% --.\n",
      "\n",
      "남자 착하게생겼다 저런남편때문 김영애오늘모습이유지된거 같은데: 97.60% --.\n",
      "\n",
      "엄청 기대된다: 97.92% ++.\n",
      "\n",
      "원호가 지금까지 팬들에게 보여준 모습을 믿어요: 99.42% ++.\n",
      "\n",
      "삼가 고인의 명복을 빕니다만 우리가 휘성의 부친상을 솔직히 알아야됨 ㅇㅇㅇ: 99.92% ++.\n",
      "\n",
      "나이가 아쉽다: 50.17% --.\n",
      "\n",
      "아니 진짜 열등감에 찌든 여자들 역겹다: 97.85% --.\n",
      "\n",
      "재미도 없던게: 95.68% ++.\n",
      "\n",
      "이혁이 얼굴과 실력으로 집중조명 받았지만 조빈형도 나름 잘생기고 실력파임 노라죠도 응원하고 이혁씨도 락커로 성공하세요 서로 잘되서 콜라보도 하고 그런모습 보고싶네요: 74.33% --.\n",
      "\n",
      "가정과 딸이 있는 사람은 건드리지 말자: 89.50% --.\n",
      "\n",
      "지효가 도대체 뭘 잘못했는지 어제 그 웅앵웅 보고 누가 상처받음 악플러 말고는 없을 걸 채팅 전체보면 그 이야기 나온 이유 알 수 있음 지효한테 악플 그만 쓰길 욕없다고 그게 악플 아닌게 아니니깐: 97.37% ++.\n",
      "\n",
      "손태영은 몸매 갑: 76.65% --.\n",
      "\n",
      "뉴스 만드는 애들이 다 똑똑한 애들인데  ㅋ: 99.68% --.\n",
      "\n",
      "솔직히 너무 이뻐졌는데: 94.23% ++.\n",
      "\n",
      "어찌 마무리가 될런지 갈수록 산으로 가고 있는 드라마 현빈땜에 재미있는데 스토리 잘 이해안됨 특히 게임 잘 모르는 사람들은 ㅎ: 99.99% ++.\n",
      "\n",
      "아이구 지민씨 너무 예쁘다: 96.13% ++.\n",
      "\n",
      "단단히 걸린 느낌이다 ㅋㅋㅋㅋ 꽃뱀: 96.65% --.\n",
      "\n",
      "채수빈 이애도 아이돌이나 듣보라 모르겠네: 55.45% --.\n",
      "\n",
      "관심 없다 느그들이 결혼을 하던지 ㅋㅋ 국민 비호감 이상화 강남이드릴로 뚫어서 나오니까 애네들도 나오고 으이그 지겹다 ㅋㅋㅋ: 98.62% --.\n",
      "\n",
      "응 그러니까 현빈이랑 손예진 결혼했으면 : 97.85% --.\n",
      "\n",
      "가정폭력 피해자한테 그만합시다 살은 엄마가 되기에 어렸네요세상물정도 몰랐을테고요전남편 하는짓이 완전 ㅇㅇㅊ힘내세요 이혼잘했어요마음껏 날아봐요: 54.25% --.\n",
      "\n",
      "예전의 순수한손나은이 좋음ㅠ 지금 공주병생긴듯: 92.79% ++.\n",
      "\n",
      "더 많이 행복하시길: 54.39% ++.\n",
      "\n",
      "라디오스타 대본 리딩도안하고 올정도니까 돈에환장해서 너무 상업적으로만 일을하는게 보였었음 그래서 어느순간부터 비호감이었음라디오스타 짤릴꺼같다고 생각했음: 73.47% --.\n",
      "\n",
      "별 또리이 일은안하고 거기는왜가 ㅋ ㅋ 참한심하다: 95.00% --.\n",
      "\n",
      "죄송한말씀이지만 촌스럽네요: 51.54% --.\n",
      "\n",
      "기사만읽었는데도 마음이 짠해진다: 88.20% --.\n",
      "\n",
      "우리나라가 이래서 안되는거 서로 힘든거 서로 견디면서 앞으로 잘해보겠다는데 축하 까지는 아니어도 욕까지는 할 필요 없지않나 조선시대 와 현재를 왔다갔다 하는 나라의 마인드: 96.72% --.\n",
      "\n",
      "김지원 고대 분장도 소화하는 미모 진짜 존예다: 79.66% ++.\n",
      "\n",
      "동거해본여자는 주먹도가능 ㅎㄷㄷ: 99.50% --.\n",
      "\n",
      "언니는 이혼하고 동생은 잘 사네 이쁘게 ㅎㅎ: 63.86% ++.\n",
      "\n",
      "이국주씨 좋아요 항상 건강하시고 행복하세요 착힌신것 같아요 헤헤: 65.75% --.\n",
      "\n",
      "또 눈물나ㅠ: 61.77% ++.\n",
      "\n",
      " 연기대상으로 이유리줘라 내용은 허접했어도 연기로는 아무도 못깐다 올해 드리마 시청률위인데 말다했다: 99.95% ++.\n",
      "\n",
      "임나영은 진짜 아깝다 오빠한테 시집와라 다 있으니까 몸만 오면 된다: 98.20% --.\n",
      "\n",
      "저정도면 박유천 너무 억울한거다 수사과정도 너무 이상하고: 74.03% --.\n",
      "\n",
      "보석이 빛나고 있다 ㅎㅎ: 98.04% ++.\n",
      "\n",
      "그래도 더 빼야죠: 92.55% --.\n",
      "\n",
      "운전도 제대로 못하는거를 매니저로 붙여주는거 보면 성광이는 회사에서 바닥 취급 당하는거지: 99.83% --.\n",
      "\n",
      "트퀴들아 니들 트와이스 호감 보면 몇마리 나오는건 알지 일본것들 불매중이라 개소리 하는건 알겠다 구입 하고 얼마후 군대간 사람 보고 어쩌라는건지 모르긋다 : 94.76% --.\n",
      "\n",
      "두 분 권태기없이 이뿌게 사랑하머 아껴주는 모습 보기 좋아요사연언니 천상 여자여자: 99.90% ++.\n",
      "\n",
      "나처럼 블록버스터나 액션 영화 좋아하는사람들에겐 어려운 영화영화보면서 이해안되고 해석까지봐도 모르겠던데: 99.98% ++.\n",
      "\n",
      "스트레스에 약한 사람들 연예인 좀 안 했으면 좋겠다 베르테르 효과때문에: 70.86% --.\n",
      "\n",
      "둘다 별탈없어서 나쁘게 보는건 아닌데 근데 아는형님에서도 느꼈지만 재미는 드럽게 없긴 없다: 96.23% ++.\n",
      "\n",
      "이름이 시발 왕대륙이 모냐: 99.98% --.\n",
      "\n",
      "끝날때 되서야 볼만했다 스토리 자체가 돌담 이야기 보다 오로지 돌담 문닫게 하려는 유치함이 더컷다뼈다구 선생 애비 조필연과 서우진 애비와 무슨 관계가 있을 듯 싶다 같이 사업을 하다 배신했거나 사체를 썻거나: 97.33% ++.\n",
      "\n",
      "성추행 당한건 니사정이고 왜 이제야 밝힘 그걸피해자들 그게 제일 이해안가넼ㅋㅋㅋㅋ여태 뭐하다가: 98.73% --.\n",
      "\n",
      "안시성 영화 당신만 오점 현빈이나 이태곤이 해야했는데 연기 너무 못함 발성도 그냥 생활목소리 그대로고 왜 이사람 캐스팅했는지 에고 영화는 참 잘만들었던데: 99.97% ++.\n",
      "\n",
      "아니 부모가 잘못한거지 마닷은 인정하구 사과드렷잖아 애미에미들 인터폴로 잡아서 깜방에 처넣으면 되잖아: 99.89% --.\n",
      "\n",
      "꺄씨아이엑스 훈훈합니다: 96.69% ++.\n",
      "\n",
      "ㅠㅠ최진실씨나 이은주씨 돌아가셨을때도 너무 우울했는ㄷㅔ그때와 같은 맘이네요너무 슬픕니다: 99.97% ++.\n",
      "\n",
      "경리잘하게 생겼구만: 93.91% --.\n",
      "\n",
      "전 방청하고왔어요여태 비밀유지하느라힘들었지만ㅋㅋ실제로보니 진짜 캐감동: 97.73% ++.\n",
      "\n",
      "큰딸시어머니입은 흰블라우스 어디건지요: 77.91% --.\n",
      "\n",
      "지금 이나라에서는 자살도 사치 마음의병도사치: 98.40% --.\n",
      "\n",
      "여자분들 남에 인생에 신경끄시고 사회정치에좀 신경씁시다: 92.97% --.\n",
      "\n",
      "닮은듯 선남선녀네: 85.72% --.\n",
      "\n",
      "애초에 박성광이 예능나갈려고 신입매니저 무리하게 데리고 나가서 생긴거 아냐방송나와서 이런 얘기 조차가 송이한테는 스트레스다 그만 좀 뽑아먹어라: 99.73% --.\n",
      "\n",
      "벌써 냐 ㅋㅋ 멘탈쓰랑 뻔뻔쓰가 대단쓰: 99.27% --.\n",
      "\n",
      "대 아주머니들 화가 많이 나셨네요: 75.16% --.\n",
      "\n",
      "연예인병 걸린 사람은 필요없다고 전해주세요: 92.88% --.\n",
      "\n",
      "네이버 검색조작 댓글알바 여론조작조사안하니 문재인 들어오고 여기저기 비리가 더 심각하고 쓰레기들이 판치면서 방송 말아먹고 나라 말아먹는즁문재인촛불시위해서 퇴출시켜라: 99.99% --.\n",
      "\n",
      "멋쪄욤 남편아빠로써욤: 75.34% ++.\n",
      "\n",
      "왜 화사먹방이 화제가 되는지 도통 이해가 안됨: 76.72% --.\n",
      "\n",
      "존나게 개쩌리들만 나와대네: 99.16% --.\n",
      "\n",
      "우빈님빨리 복수끝내고 황실 다 무너뜨리고 총알빼고 써니랑 행복하자: 99.76% ++.\n",
      "\n",
      "성추행범이 처벌 받을게 무서워서 자기 마음대로 뒤 져놓고 그런 인간의 생일을 축하해 이미 뒤진 인간을 축하할 자격도 없다 누가보면 의인인줄: 99.79% --.\n",
      "\n",
      "고인팔이 언제까지함: 95.96% --.\n",
      "\n",
      "시장횟집 아구찜먹어봤는데 왜극찬했는지 이해안감 백종원효과일뿐: 71.85% --.\n",
      "\n",
      "이쁘네이뻐 추카추카 누구보다 잘살거같음: 95.43% --.\n",
      "\n",
      "이영자편과 달리 너무 집중도가 떨어짐 남에게 관심받을때 표정이 조금 호감이 안가지만 뭐 개인취향이니까: 99.79% ++.\n",
      "\n",
      "아니 근데 희주도 이해안가는게 동생 없어진거 유진우랑 관계있다고 생각하면서 유진우 오니까 외모 신경쓰는거 이해안갔음: 53.05% ++.\n",
      "\n",
      "홍진영 싫어하는 남자도 있을까: 89.64% --.\n",
      "\n",
      "스티브 유기사 당장 내리시오보기 싫다: 97.74% --.\n",
      "\n",
      "수신료로 연예인들 여행보내 주는거 그만 보고 싶음: 98.87% --.\n",
      "\n",
      "승리가 뭘 잘못했는지 도저히 모르겠음: 95.53% --.\n",
      "\n",
      "아우 극혐: 81.97% --.\n",
      "\n",
      "이다해 얼굴 갈수록 이상해이다해 그렇게 성형수술 중독이니: 78.42% ++.\n",
      "\n",
      "다 알겠어 알겠는대 마닷이 대체 뭘 잘못했냐고 마닷이 그런게 아니잖아 어렸을때이고 왜 부모가 잘못한걸로 아들이 피해를 봐야해 왜 똑같이 생각해야해: 93.51% --.\n",
      "\n",
      "애프터스쿨 멤버 의리모 뭉쳤다면서 가희랑 유이는 화보에 없네 인성 안좋은 애들 쏙 빠진듯: 96.36% ++.\n",
      "\n",
      "오우 잘생겼다 사진 안올라 왔는데 잘났구만 슈돌이에 다시나와요 작은딸커나가는 모습좀보여주세요: 58.93% ++.\n",
      "\n",
      "잘 어울림: 50.77% ++.\n",
      "\n",
      "종민이가 한참 부족해보이는데 ㅋㅋ: 86.56% --.\n",
      "\n",
      "달리 뭔가 튼별한게없네 노래를 잘하나 연기 글타고 말제주가있나 그정도 끼면 요즘엔 거리에 차고넘치지 노력을 하지 이상한컨셉잡아 이슈메이커되지말고 컨셉인건지 그건 모르겠지만: 89.77% ++.\n",
      "\n",
      "박해진 장근서 형님 군대 안가는법 잘 배웠습니다 하지만 저는 끌려가겠죠 도와주세요 개처럼 끌려가고 싶지 않아요: 95.74% --.\n",
      "\n",
      "여자는 의사 종목마저 쉽고 편한거만 하네: 97.59% --.\n",
      "\n",
      "하존잼 ㅠㅠ 글고 서강준 연기잘하는듯 ㅠㅠ: 99.45% ++.\n",
      "\n",
      "진짜 겁나 거씨기한 드라마: 87.23% ++.\n",
      "\n",
      "언니 악플만 보지말고 선플도 봐주세요 늘 응원해요 보살대장님: 82.68% --.\n",
      "\n",
      "페미 양성평등 외치면서 드라마 시시껄렁 기사 복기하는 여기자와 여성 댓글비율  화력보소 ㅋㅋㅋ 사회 경제 정치 문화에 관심 좀 갖고 남자여자 유리천장 좀 씨부려라 ㅋㅋㅋㅋ 드라마 좀 그만보고 ㅋ: 99.45% --.\n",
      "\n",
      "일본영화 리메이크작인데 나 내용도 완전 똑같나요: 99.90% ++.\n",
      "\n",
      "너는 누굴 닮은거니 실존 인물이면 머리 뜯긴걸로 안끝나: 98.88% --.\n",
      "\n",
      "충재님을 투입시키세요그럼좀 신선할것 같아요쭉 이어가시길 버랍니다즐겨보는 프로입니다: 61.69% ++.\n",
      "\n",
      "헐너무좋다제니 너무 매력적이야ㅠㅠ: 99.95% ++.\n",
      "\n",
      "참지 안긔 이거 여시 말투 아님 ㅋㅋ페미들: 99.68% --.\n",
      "\n",
      "이렇게 앞뒤 안보고 사람 몰아서 죽여버리는 건 대한민국 종특 특히 방구석 백수들: 98.77% --.\n",
      "\n",
      "대 줌마들이 최진실 죽여놓고 이제와서 뭐 미안해 들: 89.33% --.\n",
      "\n",
      "일본애 안나왔으면 좋겠다: 57.99% --.\n",
      "\n",
      "양준일은 심취해서 봤는데 이번은 다른 채널로 돌렸다양준일 방송 또 언제 나오나요 슈가맨이 책임지고 나오라 하세요: 95.86% --.\n",
      "\n",
      "여프듀 최고 아웃풋은 김세정이였는데 그룹으로 짜식 전소미도 에서 연습생이라고 스케줄안잡아줌 짜식 사실상 청하 체고조넘: 98.71% --.\n",
      "\n",
      "돈이면 다 되네 이야: 98.54% --.\n",
      "\n",
      "너무 실망함마지막이 너무 실망이야: 99.81% ++.\n",
      "\n",
      "헬조선 김치들의 마녀사냥 토할거같다: 99.06% --.\n",
      "\n",
      "우와 대 맘충들 노처녀들 질투보소 ㅋㅋㅋㅋㅋㅋ: 75.59% --.\n",
      "\n",
      "그 징그럽단게 니가 쓴 그 의미로 보이냐 ㅉㅉ: 84.59% --.\n",
      "\n",
      "한의사라벌이가 그닥: 92.71% --.\n",
      "\n",
      "그깟 돈까스집 망하든가 말든가 나하고 뭔상관이야 잘되면 백가만 좋겠지뭐 옆에 호텔있다믄서: 99.50% --.\n",
      "\n",
      "여러 대형가수들이 수상거부해서 아쉬운감은 있지만 결국 대상이네여 받으면 장땡이지 불법투표로 받았다는 비난은 좀 받겠지만 곧 잠잠해지겠죠  오빠들 축하축하: 98.80% --.\n",
      "\n",
      "헌법에 있는 권리다 항소를 했다고 뭐라고 하는 뭐냐 왜 이렇게 법과 절차를 개무시하는 사람들이 많나 자유일본당 때문인가: 99.64% --.\n",
      "\n",
      "당신의 멋진목소리멋진드럼솜씨다정한미소가 기억나네요고통 없는곳에서 편안히 잠들기를 기원합니다삼가 고인의 명복을 빕니다: 99.97% ++.\n",
      "\n",
      "징그럽게 컸다니헐 남의집 귀한 딸에게 그런 무식한 발언을 개념상실: 94.08% --.\n",
      "\n",
      "홍어들은 백제 때부터 친일파가 많았지: 99.96% --.\n",
      "\n",
      "현영 한때 반짝 잘나갔었지 원래 머리에 든거 없이 뜨면 오래가긴 힘든 법이니 뭐 그정도면 꽤 잘해먹은듯: 98.62% --.\n",
      "\n",
      "문복아 형은 문복이 편이다 ㅠ: 99.45% --.\n",
      "\n",
      "할짓없으면 댓글쓰질말아야지: 98.21% --.\n",
      "\n",
      "지들은 이대은 만날수 있을줄 아나 거울봐 한녀콘들아: 57.46% --.\n",
      "\n",
      "랩퍼들은 다 양아치: 97.56% --.\n",
      "\n",
      "대 아줌마들 비공 누르는거봐 처녀 뚫려서 모유나오는 젖소녀새기들 현실이면 나랑 대화도 못할 노친네련들 ㅋㅋ: 98.82% --.\n",
      "\n",
      "태양 휴가나와서 아내랑 사진 같이 찍었는줄 낚었냐 기레기진짜ㄷㄷ 살 밖에 안됐구나 더 나이있는줄 알았소: 99.70% --.\n",
      "\n",
      "재수없이 걸린건데 당연히 풀어줘야지: 96.69% --.\n",
      "\n",
      "내가 전소민처럼 머리 자르면 진짜 여즉도로 가야것지: 97.08% --.\n",
      "\n",
      "둘다 누군지 모르겠어: 96.74% --.\n",
      "\n",
      "누구야 이 개듣보들은: 98.01% --.\n",
      "\n",
      "너도 연예계 생활은 끝났구나 이젠 뭐해 먹고 살래 우리 회사로 온나 세상이 호락호락 하지 않다라는걸 가르켜주마 맨 밑바닥 생활부터 차근차근 가르켜줄테니: 95.43% --.\n",
      "\n",
      "채여니 이쁘다 얼굴도 마음도: 71.29% --.\n",
      "\n",
      "어떤 사연인지는 모르겠으나 박유천이 별로인 사람인건 확실히 느껴지네: 97.54% ++.\n",
      "\n",
      "미쳤다고 톱스타가 저런 시골촌구석에 가서 저런 촌년이랑 사랑에 빠지나 우리나라 드라마는 막장 아니면 맨날 신데렐라 스토리네 절레절레: 95.52% ++.\n",
      "\n",
      "머리숱도 없던데갑자기 용됐네ㄷㄷㄷ: 98.37% --.\n",
      "\n",
      "그래서 이분은 앞담화 하는거가ㅋㅋ: 98.96% --.\n",
      "\n",
      "중국이 저런건 정말 잘하는거야 헬조선 연예인은 탈세 하고도 뻔뻔하게 광고찍고 활동 잘만 하지 에라이: 99.74% --.\n",
      "\n",
      "다시는 못볼 조합이라고 생각했는데 동방신기인은 가능할까: 97.65% ++.\n",
      "\n",
      "죽을만큼 힘들일 훌훌 털어버리고영면하소서: 98.14% --.\n",
      "\n",
      "장도연편은 솔직히 별로 재미없었음 손담비편이 재밌더라: 99.92% ++.\n",
      "\n",
      "아니 뭐 본인이 엄청 유명하고 영향력있는 가수인줄 아나보네해외 ㅋㅋㅋㅋ 년이나 미루다가 이제서야 가는 이유는: 91.36% --.\n",
      "\n",
      "세월호가 뭔데 이리 호들갑이냐 뉴스에 나오는건 괜찮고 예능에 나오는건 이리호들갑떨정도로 안되는거냐 원빈이 라디오스타나오면 아주 호들갑떨거같음: 99.55% --.\n",
      "\n",
      "꺄악 여신 한채영  세찌한테 가는구나어떤 매력인가: 85.23% ++.\n",
      "\n",
      "마약은 적어도 남에게 피해안줄수도있지만 넌 남에게피해주고 상처줬자나: 67.64% --.\n",
      "\n",
      "아 왜 쿵쾅이들이 결혼뉴스에 유독 ㅂㄷㅂㄷ 거리는지알겠다 ㅋㅋ 지들은 뚱뚱하고 못생겨서 결혼절대못하니까 ㅋㅋㅋ: 99.86% --.\n",
      "\n",
      "다큐가 내용이 너무 뒤죽박죽 뭘 얘기하려는건지 편집 엉망: 99.91% ++.\n",
      "\n",
      "캐릭터는 좋은데 연기가 좀 아쉽던데: 99.93% ++.\n",
      "\n",
      "앞으로 인생에 그거보다 더한일이 많을텐데 남자답게 잊고 그시간에 자기일하세요: 54.80% --.\n",
      "\n",
      "악플들이왜이리많아 아직어린친구한테참나: 54.53% ++.\n",
      "\n",
      "평소에 좀 잘하고 살지: 97.91% --.\n",
      "\n",
      "갑자기 뭔 일본인이야 개싫어: 99.74% --.\n",
      "\n",
      "오빠 힘내요화이팅 오빠 팬들은 오빠 믿어요: 97.92% ++.\n",
      "\n",
      "한혜연좀 안나왔으면 좋겠다: 60.34% ++.\n",
      "\n",
      "한혜진 사람이 빛이 나보임 멋짐 예쁘다는 말로 한정지을수 없음: 99.01% ++.\n",
      "\n",
      "그동안 마마무가 실력이 없었나 벗으니까 실시간 위찍고 흥분해서 난리피는 남자들 봐라 이게 성상품화지 뭐야: 95.67% --.\n",
      "\n",
      "급하게 살빼면 생기가 없어보인다 나이들어 살빼는거 아니다: 97.11% --.\n",
      "\n",
      "판빙빙 이미 공안사람들한테 돌리빵당한듯 협박영상까지 있다는것 같은데 오늘 판청청이 팬미팅때 계속 누나애기만하면 눈물 나왔다고 함 이제 두번 다시 만나수가 없다: 89.31% --.\n",
      "\n",
      "가족이라는 이유로 손가락질을 받는거에 대해 안타깝다: 94.77% ++.\n",
      "\n",
      "그걸 찍어 올린놈은 뭐냐 연예인은 사생활도 뭣도 없는거공식석상 아닌곳에선 찍어대지좀 마ㅡㅡ: 99.81% --.\n",
      "\n",
      "기사만봐두 눈물날거같다너무 안타까워ㅜ: 54.97% --.\n",
      "\n",
      "재수 없게 꽃뱀한테 당한 이서원만 불쌍하네: 96.63% --.\n",
      "\n",
      "아직 인국이가 큰 그릇은 아니지 좀 많이 아쉬운 드라마야 인국이가 아니엿으면 더 좋을텐데: 61.90% --.\n",
      "\n",
      "그러니까 맘 곱게먹어 관종: 97.85% --.\n",
      "\n",
      "어장관리 하는 저질 프로그램: 98.73% --.\n",
      "\n",
      "근데 충재랑 기안 같은 수원 미대 출신 아니였나: 99.20% --.\n",
      "\n",
      "이거 무슨 내용임 재밋으면 화부터 볼려는뎅: 98.74% ++.\n",
      "\n",
      "남자친구 쪽은 사고 후에 바로 인터뷰에 응했고 구하라 쪽은 인터뷰불응하고 며칠동안 잠수 뭔지 알겠지: 99.62% --.\n",
      "\n",
      "결혼했었구나 ㅋㅋ 빌푸사미빌레 보고싶다 득남한 기념으로 핀란드친구 한국와요 : 73.32% ++.\n",
      "\n",
      "오영주가 계속 떠보고 그러니까 있던 마음도 떠날만 하지: 75.38% --.\n",
      "\n",
      "쥐새끼 커플이네: 97.98% --.\n",
      "\n",
      "오정연 배 꽤나 아프겠다 ㅋㅋㅋ: 78.88% ++.\n",
      "\n",
      "칼들고진짜 살인 할듯 소시오패스인가엿을 날려 인성이 쓰레기급 ㄷㄷ 근데 애를 좋아하는 팬이 있다고 놀랍다 저런애한테 ㅋㅋㅋ 그리고 운전하다 사망 한다 ㅗ: 94.95% --.\n",
      "\n",
      "완전 쓰레기네: 71.47% --.\n",
      "\n",
      "너무 한국인들 극단적임 단순히 얘는 욱일기라서 좋아요 누른게 아니라 감독사진이라 좋아요 누른건데 당황스럽겠지 ㅡㅡ 감독한테가서 욱일기 설명 하든가한국인들 으 지겹다 지겨워 너무 예민하고 민감하고: 63.15% --.\n",
      "\n",
      "김종민이주연 들어가면 솔직하고엉뚱한토크진행할듯ㅎㅎ: 86.53% --.\n",
      "\n",
      "뻔하지 재민이겠지 ㅋ: 56.65% ++.\n",
      "\n",
      "이하늬빼고 다배우가 아니네기린은좀뺏으면한다: 78.76% --.\n",
      "\n",
      "에 키로면 딱 적당하네 요즘 대한민국 여자들 다이어트 말로만 하지 하나같이 존나뚱뚱함ㅋㅋㅋ: 99.88% --.\n",
      "\n",
      "진짜 이래서 대통령을 잘 뽑아야돼 예로부터 선조들의 지혜가 틀린게 하나 없다더니 흉년이들고 가뭄이 심하면 왕도 짤린다던데 허허 말세로구나: 99.82% --.\n",
      "\n",
      "너무 무분별한 글들로 속상하네요: 81.34% --.\n",
      "\n",
      "멤버출연이 문제가 아니라 이미 높아진 기대치를 충족시키기는 어려워서 시즌는 안하는게 좋을듯요 조들호나 추리여왕 너무 대실망이었음: 99.84% ++.\n",
      "\n",
      "현역면제 빅픽처: 96.96% --.\n",
      "\n",
      "이거 미투에 대한 반발로 한 말이구만 여자가 남자에게 성희롱해도 되냐는 이시영은 아줌마고 승리는 결혼안한 총각인데 이렇게 뭐든지 삐딱하게 보면 그렇게 보이는것임: 97.58% --.\n",
      "\n",
      "핫 즐 누가 핫하다는건지: 89.63% ++.\n",
      "\n",
      "미연 효섭 연기 갑 가족들 캐스팅을 잘했다 이상우가족들까지황금빛에 이어 가족드라마로서는 최고다 끝나는게 아쉽다 해피엔딩이길: 99.97% ++.\n",
      "\n",
      "전현무 넘싫음여친이 야구선수만 주구장창 만나왔으니본인체력 딸려서 개고기먹는 전현무극혐미식회나와서 개고기극찬노견 또또대하던 태도랑 이중적: 98.31% --.\n",
      "\n",
      "현역 갓나 상근들은 제발 군복무란 말을 안햇으면 하는데주특기도 없는 애들이 무슨 군인이여군복무 말고 대체복무란 표현을 써주십사: 96.32% --.\n",
      "\n",
      "졸라뻔뻔하다는말밖에안나온다 ㅋㅋ: 90.89% --.\n",
      "\n",
      "그냥 다시 연인으로 만났으면 좋겠다 응원 많이 했었는데결별소식에 안타까웠는데 그래도 친한 관계로 잘 지낸다니 다행이다: 99.49% ++.\n",
      "\n",
      "채은씨 너무이뻐요선남선녀예쁜만남하서요언론에서 관심을 안가져야 두분이 더 오래가실듯: 54.63% --.\n",
      "\n",
      "류필립 애는 생긴꼬라지가 꼭 기생오래비같애 미나가 불쌍하다 능력있는 여자라 저러 애가 붙나 그렇게 살지마라 추해보인다: 99.81% --.\n",
      "\n",
      "무조건 황민 잘못이고 씻을 수 없는 일일 테지만화물차는 왜 거기 있냐 화물차 때문일 수도 있다화물차도 조사해라: 99.23% --.\n",
      "\n",
      "안되는일 없습니다 노력하면응원합니다: 82.00% --.\n",
      "\n",
      "박가원님 정말 이쁘고 착해보임 당나귀방송보고 정말 이쁘고 착하다생각했는데 어제 방송에서도 정말 이뻤음: 75.41% ++.\n",
      "\n",
      "티아라 명칭은 전소속사 소유가 맞다: 77.33% --.\n",
      "\n",
      "아가 뒷머리 너무 귀엽다 ㅋㅋ아가는 안겨서 잘때 젤루 이뽕: 99.60% ++.\n",
      "\n",
      "이게 스타야연예인은 아무리 잘해도 악플이 있어 슬기롭게 넘기는구나: 56.06% ++.\n",
      "\n",
      "반일짓 하다가 폭망한 전례가 되길 삼가명복을 빈다 트와이스: 93.12% --.\n",
      "\n",
      "슈스케 나와서 췍 하던 때가 엊그제 같은데 명복을 빕니다: 87.32% ++.\n",
      "\n",
      "기든 아니든 빠지라니 그 무슨 무서운 소리냐 아니면 사과받고 당연히 계속 일해야지 자기인생 아니라고 말 함부로 하시는 분이네: 99.48% --.\n",
      "\n",
      "바로 손절하네 ㅋㅋㅋㅋㅋㅋ 몹시 이기적인 여자군: 93.63% --.\n",
      "\n",
      "와우내 인친언니 역쉬나진짜 이분 보면 자기관리나 일적인 면에서나 뭐든 열심히 해서 너무너무 멋짐 바쁜와중에 소통도 잘하시니 대단하신분 인정: 95.33% --.\n",
      "\n",
      "안다르입은 신세경이 너무 이뻐서 옷 엄청 팔린건 사실: 66.80% --.\n",
      "\n",
      "이드라마안봐도 뻔한스토리 역시 폐암 말기였어: 99.79% ++.\n",
      "\n",
      "진짜 이런 무책임한 기사 너무한다: 96.36% --.\n",
      "\n",
      "백종원 지가 최곤줄아는게 비기시러서 안봄: 98.11% --.\n",
      "\n",
      "사재기라는 결정적 증거가 뭐임 노래방에서 많이 불린다음 음원순위가 높아야되는데 그반대라서 사재기라는거: 98.17% --.\n",
      "\n",
      "송가인  외출연시키냐: 93.87% --.\n",
      "\n",
      "멜론에 폭소열차인가 뭐시긴가 원없이 성드립 쳐 놓은 것도 모잘라서 앨범까지 내고 진짜 많이 저급하세요: 99.09% --.\n",
      "\n",
      "혜나야ㅜㅜㅜㅜㅜ우리혜나 잘 살아야하는데ㅜㅜㅜㅜ고통받다가 죽네: 57.14% ++.\n",
      "\n",
      "지현우는 주연급은아닌것같은데왜매번주연이지 이해안됨 나오는것마다재미없던데: 99.92% ++.\n",
      "\n",
      "여자하나땜시 참 혼자안죽려고 너도 이제 끝잇다: 61.81% --.\n",
      "\n",
      "위 비결 야구 코시땜에 살림남 김승현네 주 연속 결방인데 뭔 개솔들인지: 94.06% ++.\n",
      "\n",
      "난 이 사람이 잘했고 못했고를 떠나서 왜 백종원이란 사람과 비교를 하며 한 명은 신격화 하고 한 명은 깔아뭉게려고 하는지 이해가 안 감 이 사람이 잘못한 것이 있으면 그 자체로 비판하면 되는 것을: 51.64% --.\n",
      "\n",
      "저 성폭력 당했어요 이게유행이냐 왜 들하고나서 지랄들이야 안할라면 얼마든지 안할수잇거든 이 쪽팔리지도안냐 여자가벼슬이냐: 99.98% --.\n",
      "\n",
      "미우새서 보여준 사치의 극이 뭔지 보여주더니이를 믿고 따른 박수홍은 호구가 되어버림: 93.04% --.\n",
      "\n",
      "봉준호 설국열차찍을 생각을 하니 성적흥분에 미칠것같았다는 인간이네 ㅋㅋ 터널은 질이고 기차가 남근이랬지 ㅋㅋ: 89.35% ++.\n",
      "\n",
      "내 딸한테는 보수적인 된다는 홍석천씨우리도 평범한 부모이기에 우리 자녀한테는 동성애나 퀴어축제같은 것들을 못 하게 하고 싶답니다 이해하시죠: 95.44% --.\n",
      "\n",
      "너무 급해보여서 걱정된다 이상화는 많이 어리지 않나 이혼이 흠은 아닌 세상이 되었지만 조금 더 생각해보지 싶다 결정했으면 잘 살길 바란다: 93.73% ++.\n",
      "\n",
      "서울도 아니고 대저택이라는건  강남 아파트 한채보다 저렴할텐데 ㅋ: 99.72% --.\n",
      "\n",
      "와진짜 대박 ㅡㅡ 형한테도 사기치고: 52.06% --.\n",
      "\n",
      "간적도 없다는데 검사를 받으라는건 뭐여 띨띨이들 ㅋㅋ: 98.71% --.\n",
      "\n",
      "소유는 뭐 ㅎ 원래 얼굴보단 목소리랑 몸매로떴으니까 ㅎ: 53.59% ++.\n",
      "\n",
      "사람은 고쳐쓰는 것 아니다: 95.79% --.\n",
      "\n",
      "본인의 선택아닌가왜 눈물짜냐: 55.05% ++.\n",
      "\n",
      "헐리웃에선 못나가니깐 한국오네 ㅎ: 65.27% --.\n",
      "\n",
      "참 불운했던거지요 그대 탓도 다른 사람 탓도 아니네요 그냥 상황이 그리 만들었네요 다만 잘못된 선택을 한 이들이 안따깝습니다 정선희씨는 힘내서 잘 살아주세요: 59.36% --.\n",
      "\n",
      "월버그 영화들 다 개꿀잼인데ㅋㅋ김치년들 뿔났네: 57.23% ++.\n",
      "\n",
      "우한폐렴 초기에 중국에 아양떤답시고 정부 차원에서 마스크 퍼주고 중국놈들은 한국꺼 사간다고 사재기하고 남는 마스크가 있겠냐ㅋㅋㅋㅋ: 99.91% --.\n",
      "\n",
      "살빼기전 뭔가 잭블랙같다: 94.58% --.\n",
      "\n",
      "아니 시 버 ㄹ 남자가 능력되면 여자도 후리고 하는거지 여자도 좋다고 즐겼으니까 신고 안한거아님: 94.20% --.\n",
      "\n",
      "샘이랑 조쉬 아쉽네: 98.62% ++.\n",
      "\n",
      "아이유 여진구 최고: 99.26% ++.\n",
      "\n",
      "정우성씨 앞으로 난민들을 위해 더많은 노력과 도움이 되는 멋진배우로 노력해주세요 홧팅하세요: 99.04% ++.\n",
      "\n",
      "안타깝긴 하다만 학교폭력 가해자를 굳이 감싸는 사람들 심리도 참 궁금하다: 59.92% ++.\n",
      "\n",
      "아내가 제일 싫어하는 싸보이는 여자네진짜 싼티난다: 99.70% --.\n",
      "\n",
      "이쁘게 컸네: 81.81% --.\n",
      "\n",
      "지환씨 힘내세요: 51.48% --.\n",
      "\n",
      "웃고간다 하루 억이면 년 억인데 전성기 년간 번 돈이 억 정도 되겠네 그럼 우리나라 부자순위에 이름이 있어야 할 터인데: 99.69% --.\n",
      "\n",
      "김태희는 연기가 발전이없네 뭔가를 기대한 사람이 무색하네: 99.92% ++.\n",
      "\n",
      "종미나 커플은 쫑난거야 미나가 종민이를 역이용했나 순진한 쫑민이가 또 당한거야: 97.55% --.\n",
      "\n",
      "내한 고생하셨습니다 잘 들어 가세요: 66.27% --.\n",
      "\n",
      "ㅋㅋㅋㅋㅋㅋㅋㅋㅋㅋㅋㅋㅋㅋㅋㅋㅋㅋㅋㅋㅋ 파혼했는데 좋은 선후배여윾시 개그맨 것들은 죄다 양아치야 헤헤: 99.51% --.\n",
      "\n",
      "송윤아 이뿌다 옷도 다 이쁘고 고급지고 우아하다: 68.54% --.\n",
      "\n",
      "니기미 나는 흔한공황장애 장애가 없어서 벌금이빠이: 93.18% --.\n",
      "\n",
      "강용석도 찌질하네 과거들추기는 추하다: 57.72% --.\n",
      "\n",
      "지겹이 이프로 그만하자 작가야: 57.85% --.\n",
      "\n",
      "그래도 좋은 노래 많았는데ㅠ: 97.56% ++.\n",
      "\n",
      "지현우 범죄 저지르지 않았나요: 57.82% --.\n",
      "\n",
      "여자인생 망칠 일 있나 ㅋㅋ: 87.83% --.\n",
      "\n",
      "근데 전라도에서 사고가 났는데 굳이 서울까지 와서 병원에 가느 이유는: 99.92% --.\n",
      "\n",
      "할매젖 뱃살 몸매 라인 유륜은 적당해야됨너무크거나 너무 작아도  엉덩이가 빵빵해야됨: 85.97% --.\n",
      "\n",
      "남자가 잘못한거라면 반성도 없다면나였다면  여자처럼 아주 못되게 할것같다왜 나를 배신한거니까: 60.04% ++.\n",
      "\n"
     ]
    }
   ],
   "source": [
    "for sentence in test_data['comments']:\n",
    "    sentiment_predict(sentence)"
   ]
  },
  {
   "cell_type": "code",
   "execution_count": null,
   "metadata": {},
   "outputs": [],
   "source": []
  }
 ],
 "metadata": {
  "kernelspec": {
   "display_name": "Python 3",
   "language": "python",
   "name": "python3"
  },
  "language_info": {
   "codemirror_mode": {
    "name": "ipython",
    "version": 3
   },
   "file_extension": ".py",
   "mimetype": "text/x-python",
   "name": "python",
   "nbconvert_exporter": "python",
   "pygments_lexer": "ipython3",
   "version": "3.8.5"
  }
 },
 "nbformat": 4,
 "nbformat_minor": 4
}
