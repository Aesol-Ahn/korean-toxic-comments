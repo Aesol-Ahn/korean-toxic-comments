{
 "cells": [
  {
   "cell_type": "code",
   "execution_count": 1,
   "metadata": {},
   "outputs": [],
   "source": [
    "import numpy as np\n",
    "import pandas as pd\n",
    "import seaborn as sns\n",
    "import matplotlib.pyplot as plt\n",
    "from konlpy.tag import Okt\n",
    "from konlpy.utils import partition\n",
    "import re"
   ]
  },
  {
   "cell_type": "markdown",
   "metadata": {},
   "source": [
    "# 데이터 가져오기"
   ]
  },
  {
   "cell_type": "code",
   "execution_count": 2,
   "metadata": {},
   "outputs": [],
   "source": [
    "train=pd.read_csv('data/train.hate.csv')"
   ]
  },
  {
   "cell_type": "code",
   "execution_count": 3,
   "metadata": {},
   "outputs": [],
   "source": [
    "dev=pd.read_csv('data/dev.hate.csv')"
   ]
  },
  {
   "cell_type": "code",
   "execution_count": 4,
   "metadata": {},
   "outputs": [],
   "source": [
    "test=pd.read_csv('data/test.hate.no_label.csv')\n",
    "test_row=pd.read_csv('data/test.hate.no_label.csv')"
   ]
  },
  {
   "cell_type": "code",
   "execution_count": 5,
   "metadata": {},
   "outputs": [
    {
     "name": "stdout",
     "output_type": "stream",
     "text": [
      "<class 'pandas.core.frame.DataFrame'>\n",
      "RangeIndex: 471 entries, 0 to 470\n",
      "Data columns (total 2 columns):\n",
      " #   Column    Non-Null Count  Dtype \n",
      "---  ------    --------------  ----- \n",
      " 0   comments  471 non-null    object\n",
      " 1   label     471 non-null    object\n",
      "dtypes: object(2)\n",
      "memory usage: 7.5+ KB\n"
     ]
    }
   ],
   "source": [
    "dev.info()"
   ]
  },
  {
   "cell_type": "code",
   "execution_count": 6,
   "metadata": {},
   "outputs": [
    {
     "name": "stdout",
     "output_type": "stream",
     "text": [
      "<class 'pandas.core.frame.DataFrame'>\n",
      "RangeIndex: 7896 entries, 0 to 7895\n",
      "Data columns (total 2 columns):\n",
      " #   Column    Non-Null Count  Dtype \n",
      "---  ------    --------------  ----- \n",
      " 0   comments  7896 non-null   object\n",
      " 1   label     7896 non-null   object\n",
      "dtypes: object(2)\n",
      "memory usage: 123.5+ KB\n"
     ]
    }
   ],
   "source": [
    "train.info()"
   ]
  },
  {
   "cell_type": "code",
   "execution_count": 7,
   "metadata": {
    "scrolled": true
   },
   "outputs": [
    {
     "name": "stdout",
     "output_type": "stream",
     "text": [
      "<class 'pandas.core.frame.DataFrame'>\n",
      "RangeIndex: 974 entries, 0 to 973\n",
      "Data columns (total 1 columns):\n",
      " #   Column    Non-Null Count  Dtype \n",
      "---  ------    --------------  ----- \n",
      " 0   comments  974 non-null    object\n",
      "dtypes: object(1)\n",
      "memory usage: 7.7+ KB\n"
     ]
    }
   ],
   "source": [
    "test.info()"
   ]
  },
  {
   "cell_type": "code",
   "execution_count": 8,
   "metadata": {},
   "outputs": [],
   "source": [
    "train=pd.concat([train,dev])  #7896:"
   ]
  },
  {
   "cell_type": "code",
   "execution_count": 9,
   "metadata": {},
   "outputs": [
    {
     "data": {
      "text/html": [
       "<div>\n",
       "<style scoped>\n",
       "    .dataframe tbody tr th:only-of-type {\n",
       "        vertical-align: middle;\n",
       "    }\n",
       "\n",
       "    .dataframe tbody tr th {\n",
       "        vertical-align: top;\n",
       "    }\n",
       "\n",
       "    .dataframe thead th {\n",
       "        text-align: right;\n",
       "    }\n",
       "</style>\n",
       "<table border=\"1\" class=\"dataframe\">\n",
       "  <thead>\n",
       "    <tr style=\"text-align: right;\">\n",
       "      <th></th>\n",
       "      <th>comments</th>\n",
       "      <th>label</th>\n",
       "    </tr>\n",
       "  </thead>\n",
       "  <tbody>\n",
       "    <tr>\n",
       "      <th>0</th>\n",
       "      <td>(현재 호텔주인 심정) 아18 난 마른하늘에 날벼락맞고 호텔망하게생겼는데 누군 계속...</td>\n",
       "      <td>hate</td>\n",
       "    </tr>\n",
       "    <tr>\n",
       "      <th>1</th>\n",
       "      <td>....한국적인 미인의 대표적인 분...너무나 곱고아름다운모습...그모습뒤의 슬픔을...</td>\n",
       "      <td>none</td>\n",
       "    </tr>\n",
       "    <tr>\n",
       "      <th>2</th>\n",
       "      <td>...못된 넘들...남의 고통을 즐겼던 넘들..이젠 마땅한 처벌을 받아야지..,그래...</td>\n",
       "      <td>hate</td>\n",
       "    </tr>\n",
       "    <tr>\n",
       "      <th>3</th>\n",
       "      <td>1,2화 어설펐는데 3,4화 지나서부터는 갈수록 너무 재밌던데</td>\n",
       "      <td>none</td>\n",
       "    </tr>\n",
       "    <tr>\n",
       "      <th>4</th>\n",
       "      <td>1. 사람 얼굴 손톱으로 긁은것은 인격살해이고2. 동영상이 몰카냐? 메걸리안들 생각...</td>\n",
       "      <td>hate</td>\n",
       "    </tr>\n",
       "    <tr>\n",
       "      <th>...</th>\n",
       "      <td>...</td>\n",
       "      <td>...</td>\n",
       "    </tr>\n",
       "    <tr>\n",
       "      <th>466</th>\n",
       "      <td>지현우 범죄 저지르지 않았나요?</td>\n",
       "      <td>offensive</td>\n",
       "    </tr>\n",
       "    <tr>\n",
       "      <th>467</th>\n",
       "      <td>여자인생 망칠 일 있나 ㅋㅋ</td>\n",
       "      <td>hate</td>\n",
       "    </tr>\n",
       "    <tr>\n",
       "      <th>468</th>\n",
       "      <td>근데 전라도에서 사고가 났는데 굳이 서울까지 와서 병원에 가느 이유는?</td>\n",
       "      <td>offensive</td>\n",
       "    </tr>\n",
       "    <tr>\n",
       "      <th>469</th>\n",
       "      <td>할매젖x, 뱃살x, 몸매 s라인, 유륜은 적당해야됨(너무크거나 너무 작아도 x), ...</td>\n",
       "      <td>hate</td>\n",
       "    </tr>\n",
       "    <tr>\n",
       "      <th>470</th>\n",
       "      <td>남자가 잘못한거라면... 반성도 없다면...나였다면 ... 여자처럼 아주 못되게 할...</td>\n",
       "      <td>none</td>\n",
       "    </tr>\n",
       "  </tbody>\n",
       "</table>\n",
       "<p>8367 rows × 2 columns</p>\n",
       "</div>"
      ],
      "text/plain": [
       "                                              comments      label\n",
       "0    (현재 호텔주인 심정) 아18 난 마른하늘에 날벼락맞고 호텔망하게생겼는데 누군 계속...       hate\n",
       "1    ....한국적인 미인의 대표적인 분...너무나 곱고아름다운모습...그모습뒤의 슬픔을...       none\n",
       "2    ...못된 넘들...남의 고통을 즐겼던 넘들..이젠 마땅한 처벌을 받아야지..,그래...       hate\n",
       "3                   1,2화 어설펐는데 3,4화 지나서부터는 갈수록 너무 재밌던데       none\n",
       "4    1. 사람 얼굴 손톱으로 긁은것은 인격살해이고2. 동영상이 몰카냐? 메걸리안들 생각...       hate\n",
       "..                                                 ...        ...\n",
       "466                                  지현우 범죄 저지르지 않았나요?  offensive\n",
       "467                                    여자인생 망칠 일 있나 ㅋㅋ       hate\n",
       "468            근데 전라도에서 사고가 났는데 굳이 서울까지 와서 병원에 가느 이유는?  offensive\n",
       "469  할매젖x, 뱃살x, 몸매 s라인, 유륜은 적당해야됨(너무크거나 너무 작아도 x), ...       hate\n",
       "470  남자가 잘못한거라면... 반성도 없다면...나였다면 ... 여자처럼 아주 못되게 할...       none\n",
       "\n",
       "[8367 rows x 2 columns]"
      ]
     },
     "execution_count": 9,
     "metadata": {},
     "output_type": "execute_result"
    }
   ],
   "source": [
    "train"
   ]
  },
  {
   "cell_type": "code",
   "execution_count": 10,
   "metadata": {
    "scrolled": true
   },
   "outputs": [
    {
     "data": {
      "text/plain": [
       "<matplotlib.axes._subplots.AxesSubplot at 0x2aa2e57c820>"
      ]
     },
     "execution_count": 10,
     "metadata": {},
     "output_type": "execute_result"
    },
    {
     "data": {
      "image/png": "[encoded data removed]",
      "text/plain": [
       "<Figure size 432x288 with 1 Axes>"
      ]
     },
     "metadata": {
      "needs_background": "light"
     },
     "output_type": "display_data"
    }
   ],
   "source": [
    "train['label'].value_counts()\n",
    "train['label'].value_counts().plot(kind='bar')"
   ]
  },
  {
   "cell_type": "code",
   "execution_count": 11,
   "metadata": {},
   "outputs": [],
   "source": [
    "train['label']=train['label'].map({'none':0,'offensive':1,'hate':2})"
   ]
  },
  {
   "cell_type": "code",
   "execution_count": 12,
   "metadata": {},
   "outputs": [
    {
     "data": {
      "text/html": [
       "<div>\n",
       "<style scoped>\n",
       "    .dataframe tbody tr th:only-of-type {\n",
       "        vertical-align: middle;\n",
       "    }\n",
       "\n",
       "    .dataframe tbody tr th {\n",
       "        vertical-align: top;\n",
       "    }\n",
       "\n",
       "    .dataframe thead th {\n",
       "        text-align: right;\n",
       "    }\n",
       "</style>\n",
       "<table border=\"1\" class=\"dataframe\">\n",
       "  <thead>\n",
       "    <tr style=\"text-align: right;\">\n",
       "      <th></th>\n",
       "      <th>comments</th>\n",
       "      <th>label</th>\n",
       "    </tr>\n",
       "  </thead>\n",
       "  <tbody>\n",
       "    <tr>\n",
       "      <th>0</th>\n",
       "      <td>(현재 호텔주인 심정) 아18 난 마른하늘에 날벼락맞고 호텔망하게생겼는데 누군 계속...</td>\n",
       "      <td>2</td>\n",
       "    </tr>\n",
       "    <tr>\n",
       "      <th>1</th>\n",
       "      <td>....한국적인 미인의 대표적인 분...너무나 곱고아름다운모습...그모습뒤의 슬픔을...</td>\n",
       "      <td>0</td>\n",
       "    </tr>\n",
       "    <tr>\n",
       "      <th>2</th>\n",
       "      <td>...못된 넘들...남의 고통을 즐겼던 넘들..이젠 마땅한 처벌을 받아야지..,그래...</td>\n",
       "      <td>2</td>\n",
       "    </tr>\n",
       "    <tr>\n",
       "      <th>3</th>\n",
       "      <td>1,2화 어설펐는데 3,4화 지나서부터는 갈수록 너무 재밌던데</td>\n",
       "      <td>0</td>\n",
       "    </tr>\n",
       "    <tr>\n",
       "      <th>4</th>\n",
       "      <td>1. 사람 얼굴 손톱으로 긁은것은 인격살해이고2. 동영상이 몰카냐? 메걸리안들 생각...</td>\n",
       "      <td>2</td>\n",
       "    </tr>\n",
       "  </tbody>\n",
       "</table>\n",
       "</div>"
      ],
      "text/plain": [
       "                                            comments  label\n",
       "0  (현재 호텔주인 심정) 아18 난 마른하늘에 날벼락맞고 호텔망하게생겼는데 누군 계속...      2\n",
       "1  ....한국적인 미인의 대표적인 분...너무나 곱고아름다운모습...그모습뒤의 슬픔을...      0\n",
       "2  ...못된 넘들...남의 고통을 즐겼던 넘들..이젠 마땅한 처벌을 받아야지..,그래...      2\n",
       "3                 1,2화 어설펐는데 3,4화 지나서부터는 갈수록 너무 재밌던데      0\n",
       "4  1. 사람 얼굴 손톱으로 긁은것은 인격살해이고2. 동영상이 몰카냐? 메걸리안들 생각...      2"
      ]
     },
     "execution_count": 12,
     "metadata": {},
     "output_type": "execute_result"
    }
   ],
   "source": [
    "train.head()"
   ]
  },
  {
   "cell_type": "markdown",
   "metadata": {},
   "source": [
    "# 데이터 전처리"
   ]
  },
  {
   "cell_type": "code",
   "execution_count": 13,
   "metadata": {},
   "outputs": [],
   "source": [
    "stopword=['아','휴','아이구','아이쿠','아이고','어','나','우리','저희','따라','의해','을','를','에','의','가','으로','로','에게','뿐이다','의거하여','근거하여','입각하여','기준으로',\n",
    "'예하면','예를 들면','예를 들자면','저','소인','소생','저희','지말고','하지마','하지마라','다른','물론','또한','그리고','비길수 없다','해서는 안된다','뿐만 아니라','만이 아니다',\n",
    "'만은 아니다','막론하고','관계없이','그치지 않다','그러나','그런데','하지만','든간에','논하지 않다','따지지 않다','설사','비록','더라도','아니면','만' '못하다','하는 편이 낫다',\n",
    "'불문하고','향하여','향해서','향하다','쪽으로','틈타','이용하여','타다','오르다','제외하고','이 외에','이 밖에','하여야','비로소','한다면' '몰라도','외에도','이곳','여기','부터',\n",
    "'기점으로,따라서','할 생각이다','하려고하다','이리하여','그리하여','그렇게' '함으로써','하지만','일때','할때','앞에서','중에서','보는데서','으로써','로써','까지','해야한다',\n",
    "'일것이다','반드시','할줄알다','할수있다','할수있어','임에 틀림없다','한다면','등','등등','제','겨우','단지','다만','할뿐','딩동','댕그','대해서','대하여','대하면','훨씬','얼마나',\n",
    "'얼마만큼','얼마큼','남짓','여','얼마간','약간','다소','좀','조금','다수','몇','얼마','지만','하물며','또한','그러나','그렇지만','하지만','이외에도','대해 말하자면','뿐이다','다음에',\n",
    "'반대로','반대로 말하자면','이와 반대로','바꾸어서 말하면','바꾸어서 한다면','만약','그렇지않으면','까악','툭','딱','삐걱거리다','보드득','비걱거리다','꽈당','응당','해야한다',\n",
    "'에 가서','각','각각','여러분','각종','각자','제각기','하도록하다','와','과','그러므로','그래서','고로','한 까닭에','하기 때문에','거니와','이지만','대하여','관하여','관한','과연',\n",
    "'실로','아니나다를가','생각한대로','진짜로','한적이있다','하곤하였다','하','하하','허허','아하','거바','와','오','왜','어째서','무엇때문에','어찌','하겠는가','무슨','어디','어느곳',\n",
    "'더군다나','하물며','더욱이는','어느때','언제','야','이봐','어이','여보시오','흐흐','흥','휴','헉헉','헐떡헐떡','영차','여차','어기여차','끙끙','아야','앗','아야','콸콸','졸졸','좍좍','뚝뚝',\n",
    "'주룩주룩','솨','우르르','그래도','또','그리고','바꾸어말하면','바꾸어말하자면','혹은','혹시','답다','및','그에 따르는','때가 되어','즉','지든지','설령','가령','하더라도','할지라도',\n",
    "'일지라도','지든지','몇','거의,하마터면','인젠','이젠','된바에야','된이상','만큼','어찌됏든','그위에','게다가','점에서 보아','비추어 보아','고려하면','하게될것이다','일것이다',\n",
    "'비교적','좀','보다더','비하면','시키다','하게하다','할만하다','의해서','연이서','이어서','잇따라','뒤따라','뒤이어','결국','의지하여','기대여','통하여','자마자','더욱더','불구하고',\n",
    "'얼마든지','마음대로','주저하지 않고','곧','즉시','바로','당장','하자마자','밖에' '안된다','하면된다','그래','그렇지','요컨대','다시 말하자면','바꿔 말하면','즉','구체적으로',\n",
    "'말하자면','시작하여','시초에','이상','허','헉','허걱','바와같이','해도좋다','해도된다','게다가','더구나','하물며','와르르','팍','퍽','펄렁','동안','이래','하고있었다','이었다','에서',\n",
    "'로부터','까지','예하면','했어요','해요','함께','같이','더불어','마저','마저도','양자','모두','습니다','가까스로','하려고하다','즈음하여','다른','다른 방면으로','해봐요','습니까',\n",
    "'했어요','말할것도 없고','무릎쓰고','개의치않고','하는것만 못하다','하는것이 낫다','매','매번','들','모','어느것','어느','로써','갖고말하자면','어디','어느쪽','어느것','어느해',\n",
    "'어느 년도','라' '해도','언젠가','어떤것','어느것','저기','저쪽','저것','그때','그럼','그러면','요만한걸','그래','그때','저것만큼','그저','이르기까지','할 줄 안다','할 힘이' '있다',\n",
    "'너','너희','당신','어찌','설마','차라리','할지언정','할지라도','할망정','할지언정','구토하다','게우다','토하다','메쓰겁다','옆사람','퉤','쳇','의거하여','근거하여','의해','따라',\n",
    "'힘입어','그','다음','버금','두번째로','기타','첫번째로','나머지는','그중에서','견지에서','형식으로 쓰여','입장에서','위해서','단지','의해되다','하도록시키다','뿐만아니라',\n",
    "'반대로','전후','전자','앞의것','잠시','잠깐','하면서','그렇지만','다음에','그러한즉','그런즉','남들','아무거나','어찌하든지','같다','비슷하다','예컨대','이럴정도로','어떻게',\n",
    "'만약','만일','위에서' '서술한바와같이','인 듯하다','하지 않는다면','만약에','무엇','무슨','어느','어떤','아래윗','조차','한데','그럼에도 불구하고','여전히','심지어','까지도',\n",
    "'조차도','하지 않도록','않기 위하여','때','시각','무렵','시간','동안','어때','어떠한','하여금','네','예','우선','누구','누가' '알겠는가','아무도','줄은모른다','줄은 몰랏다','하는 김에',\n",
    "'겸사겸사','하는바','그런 까닭에','한 이유는','그러니','그러니까','때문에','그','너희','그들','너희들','타인','것','것들','너','위하여','공동으로','동시에','하기 위하여','어찌하여',\n",
    "'무엇때문에','붕붕','윙윙','나','우리','엉엉','휘익','윙윙','오호','아하','어쨋든','만 못하다','하기보다는','차라리,하는 편이 낫다','흐흐','놀라다','상대적으로 말하자면','마치',\n",
    "'아니라면','쉿','그렇지 않으면','그렇지' '않다면','안 그러면','아니었다면','하든지','아니면','이라면','좋아','알았어','하는것도','그만이다','어쩔수 없다','하나','일','일반적으로',\n",
    "'일단','한켠으로는','오자마자','이렇게되면','이와같다면','전부','한마디','한항목','근거로','하기에','아울러','하지 않도록','않기 위해서','이르기까지','이 되다','로 인하여',\n",
    "'까닭으로','이유만으로','이로 인하여','그래서','이 때문에','그러므로','그런 까닭에','알 수 있다','결론을 낼 수 있다','으로 인하여','있다','어떤것','관계가 있다','관련이 있다',\n",
    "'연관되다','어떤것들','에 대해','이리하여','그리하여','여부','하기보다는','하느니','하면 할수록','운운','이러이러하다','하구나','하도다','다시말하면','다음으로','에 있다',\n",
    "'에 달려 있다','우리','우리들','오히려','하기는한데','어떻게','어떻해','어찌됏어','어때','어째서','본대로','자','이','이쪽','여기','이것','이번','이렇게말하자면','이런','이러한',\n",
    "'이와 같은','요만큼','요만한 것','얼마 안 되는 것','이만큼','이 정도의','이렇게 많은 것','이와 같다','이때','이렇구나','것과 같이','끼익','삐걱,따위','와 같은 사람들',\n",
    "'부류의 사람들','왜냐하면','중의하나','오직','오로지','에 한하다','하기만 하면','도착하다','까지 미치다','도달하다','정도에 이르다','할 지경이다','결과에 이르다','관해서는',\n",
    "'여러분','하고 있다','한 후','혼자','자기','자기집','자신','우에' '종합한것과같이','총적으로' '보면','총적으로' '말하면','총적으로','대로 하다','으로서','참','그만이다','할 따름이다','쿵',\n",
    "'탕탕','쾅쾅','둥둥','봐','봐라','아이야','아니','와아','응','아이','참나','년','월','일','령','영','일','이','삼','사','오','육','륙','칠','팔','구','이천육','이천칠','이천팔','이천구','하나','둘','셋',\n",
    "'넷','다섯','여섯','일곱','여덟','아홉','령','영','게뭐','그거','그건','그걸','그것','그게','런가','려고','로는','리가','리기','마다','뭐라다', '뭐임', '뭔가','아직','아직도','으로가', '으로는', '으로도', '으로만', '으론','이건','이고', '이구나', '이구만','이군','이냐', '이네', '이니', '이니까', '이다','이던','이든','이딴', '이라', '이라고', '이라는', '이라니', '이라도', '이라서', '이래서', '이러니', '이렇게', '이렇다','하고도','하나요','하니', '하다', '하든', '하라','하여간', '하여튼', '하자']"
   ]
  },
  {
   "cell_type": "code",
   "execution_count": 14,
   "metadata": {},
   "outputs": [],
   "source": [
    "addstopword=['']"
   ]
  },
  {
   "cell_type": "code",
   "execution_count": 15,
   "metadata": {},
   "outputs": [],
   "source": [
    "wordDict={\"[\\W+]\":\" \",'[\\d+]':' ','[ㅡ+]':'','[ㅠ+]':'','[ㅜ+]':'','[ㄱ-ㅎ]':'','[ㅏ-ㅣ]':'','ᆢᆢ':''}"
   ]
  },
  {
   "cell_type": "code",
   "execution_count": 16,
   "metadata": {},
   "outputs": [],
   "source": [
    "for i,j in wordDict.items():\n",
    "    train['comments']=train.comments.str.replace(i,j)\n",
    "    test['comments']=test.comments.str.replace(i,j)"
   ]
  },
  {
   "cell_type": "code",
   "execution_count": 17,
   "metadata": {},
   "outputs": [],
   "source": [
    "def cw(x):\n",
    "    simdict={'추카':'축하'\n",
    "            }\n",
    "    for index,word in simdict.items():\n",
    "        return re.sub(index,word,x)"
   ]
  },
  {
   "cell_type": "code",
   "execution_count": 18,
   "metadata": {},
   "outputs": [],
   "source": [
    "train['comments']=train.comments.apply(cw)\n",
    "test['comments']=test.comments.apply(cw)"
   ]
  },
  {
   "cell_type": "code",
   "execution_count": 19,
   "metadata": {},
   "outputs": [
    {
     "data": {
      "text/html": [
       "<div>\n",
       "<style scoped>\n",
       "    .dataframe tbody tr th:only-of-type {\n",
       "        vertical-align: middle;\n",
       "    }\n",
       "\n",
       "    .dataframe tbody tr th {\n",
       "        vertical-align: top;\n",
       "    }\n",
       "\n",
       "    .dataframe thead th {\n",
       "        text-align: right;\n",
       "    }\n",
       "</style>\n",
       "<table border=\"1\" class=\"dataframe\">\n",
       "  <thead>\n",
       "    <tr style=\"text-align: right;\">\n",
       "      <th></th>\n",
       "      <th>comments</th>\n",
       "      <th>label</th>\n",
       "    </tr>\n",
       "  </thead>\n",
       "  <tbody>\n",
       "    <tr>\n",
       "      <th>0</th>\n",
       "      <td>현재 호텔주인 심정  아   난 마른하늘에 날벼락맞고 호텔망하게생겼는데 누군 계속...</td>\n",
       "      <td>2</td>\n",
       "    </tr>\n",
       "    <tr>\n",
       "      <th>1</th>\n",
       "      <td>한국적인 미인의 대표적인 분   너무나 곱고아름다운모습   그모습뒤의 슬픔을...</td>\n",
       "      <td>0</td>\n",
       "    </tr>\n",
       "    <tr>\n",
       "      <th>2</th>\n",
       "      <td>못된 넘들   남의 고통을 즐겼던 넘들  이젠 마땅한 처벌을 받아야지   그래...</td>\n",
       "      <td>2</td>\n",
       "    </tr>\n",
       "    <tr>\n",
       "      <th>3</th>\n",
       "      <td>화 어설펐는데    화 지나서부터는 갈수록 너무 재밌던데</td>\n",
       "      <td>0</td>\n",
       "    </tr>\n",
       "    <tr>\n",
       "      <th>4</th>\n",
       "      <td>사람 얼굴 손톱으로 긁은것은 인격살해이고   동영상이 몰카냐  메걸리안들 생각...</td>\n",
       "      <td>2</td>\n",
       "    </tr>\n",
       "  </tbody>\n",
       "</table>\n",
       "</div>"
      ],
      "text/plain": [
       "                                            comments  label\n",
       "0   현재 호텔주인 심정  아   난 마른하늘에 날벼락맞고 호텔망하게생겼는데 누군 계속...      2\n",
       "1      한국적인 미인의 대표적인 분   너무나 곱고아름다운모습   그모습뒤의 슬픔을...      0\n",
       "2     못된 넘들   남의 고통을 즐겼던 넘들  이젠 마땅한 처벌을 받아야지   그래...      2\n",
       "3                    화 어설펐는데    화 지나서부터는 갈수록 너무 재밌던데      0\n",
       "4     사람 얼굴 손톱으로 긁은것은 인격살해이고   동영상이 몰카냐  메걸리안들 생각...      2"
      ]
     },
     "execution_count": 19,
     "metadata": {},
     "output_type": "execute_result"
    }
   ],
   "source": [
    "train.head()"
   ]
  },
  {
   "cell_type": "markdown",
   "metadata": {},
   "source": [
    "### 문자=> 숫자 (단어 길이와 빈도수를 조절)"
   ]
  },
  {
   "cell_type": "code",
   "execution_count": 20,
   "metadata": {},
   "outputs": [],
   "source": [
    "n=2  #단어 길이\n",
    "m=5  # 빈도수"
   ]
  },
  {
   "cell_type": "code",
   "execution_count": 21,
   "metadata": {},
   "outputs": [
    {
     "name": "stderr",
     "output_type": "stream",
     "text": [
      "C:\\Users\\i\\anaconda3\\lib\\site-packages\\pandas\\core\\indexing.py:671: SettingWithCopyWarning: \n",
      "A value is trying to be set on a copy of a slice from a DataFrame\n",
      "\n",
      "See the caveats in the documentation: https://pandas.pydata.org/pandas-docs/stable/user_guide/indexing.html#returning-a-view-versus-a-copy\n",
      "  self._setitem_with_indexer(indexer, value)\n"
     ]
    }
   ],
   "source": [
    "okt=Okt()\n",
    "wordList=[]\n",
    "word_index={}\n",
    "wordCount={}\n",
    "train['corpus']=0\n",
    "for index ,sentencs in enumerate(train.comments):\n",
    "    words=okt.morphs(sentencs,stem=True)\n",
    "    train['corpus'].iloc[index]=words\n",
    "    for word in words:\n",
    "        if word not in stopword:\n",
    "            if len(word) >= n:\n",
    "                if word not in wordList:\n",
    "                    wordCount[word]=1\n",
    "                    wordList.append(word)\n",
    "                else:\n",
    "                    wordCount[word]=wordCount[word]+1\n",
    "wordList=[]                \n",
    "for words in train['corpus']:\n",
    "    for word in words:\n",
    "        if word not in stopword:\n",
    "            if len(word) >=n:\n",
    "                if wordCount[word] >= m:\n",
    "                    if word not in wordList:\n",
    "                        word_index[word]=len(wordList)\n",
    "                        wordList.append(word)"
   ]
  },
  {
   "cell_type": "code",
   "execution_count": 22,
   "metadata": {},
   "outputs": [],
   "source": [
    "testarray=[]\n",
    "test['corpus']=0\n",
    "for index ,sentencs in enumerate(test.comments):\n",
    "    words=okt.morphs(sentencs,stem=True)\n",
    "    test['corpus'].iloc[index]=words\n",
    "    temp=[0]*len(word_index)\n",
    "    for word in words:\n",
    "        if word in word_index.keys():\n",
    "            temp[word_index[word]]=1\n",
    "    testarray.append(temp)"
   ]
  },
  {
   "cell_type": "code",
   "execution_count": 23,
   "metadata": {
    "scrolled": false
   },
   "outputs": [
    {
     "name": "stdout",
     "output_type": "stream",
     "text": [
      "['KBS', 'OOO', 'SM', 'SNS', 'TV', 'YG', 'jyp', 'kbs', 'kg', 'mc', 'sm', 'sns', 'yg', '가게', '가관', '가기', '가끔', '가나', '가능성', '가능하다', '가다', '가득하다', '가라', '가르다', '가르치다', '가리다', '가만히', '가면', '가볍다', '가보', '가보다', '가세', '가수', '가슴', '가식', '가야', '가요', '가장', '가정', '가족', '가즈', '가지', '가지가지', '가지다', '가짜', '가해자', '간다', '갈다', '갈수록', '갈아', '감다', '감독', '감동', '감사하다', '감성', '감옥', '감정', '감정이입', '감탄', '감히', '갑자기', '강간', '강남', '강성훈', '강요', '강용석', '강은비', '강지환', '강타', '강하다', '강한나', '강호동', '갖다', '갖추다', '같잖다', '갚다', '개그', '개그맨', '개그우먼', '개념', '개다', '개돼지', '개뿔', '개월', '개인', '개판', '거기', '거나', '거들다', '거래', '거리', '거부', '거슬리다', '거울', '거의', '거임', '거지', '거짓', '거짓말', '거참', '거품', '걱정', '건가', '건강', '건강하다', '건데', '건드리다', '건물', '건지다', '걷다', '걸그룹', '걸다', '걸리다', '검다', '검사', '검색', '검색어', '검찰', '겁나다', '겁니다', '게스트', '게이', '게임', '겠다', '겪다', '결과', '결론', '결말', '결정', '결혼', '결혼식', '겸손하다', '경기', '경우', '경제', '경찰', '계속', '계시다', '계약', '계집', '고딩', '고르다', '고마', '고만', '고맙다', '고발', '고백', '고사', '고생', '고소', '고소영', '고소하다', '고요', '고인', '고정', '고주원', '고집', '고치다', '고통', '고해', '고현정', '골목', '골프', '곱다', '공감', '공개', '공격', '공부', '공익', '공인', '공항', '공황장애', '공효진', '과거', '과는', '과의', '과정', '관계', '관계자', '관련', '관리', '관상', '관심', '관종', '광고', '광대', '괜찮다', '괜히', '괴롭히다', '교육', '교회', '구걸', '구나', '구라', '구만', '구석', '구속', '구원파', '구하라', '구혜선', '국가', '국내', '국민', '국뽕', '국적', '군대', '군복무', '군인', '굳다', '굳이', '궁금', '궁금하다', '권리', '귀엽다', '그나마', '그나저나', '그냥', '그녀', '그니까', '그닥', '그대로', '그동안', '그딴', '그런', '그렇게', '그렇다', '그렇다고', '그룹', '그리다', '그만', '그만큼', '그만하다', '극혐', '근거', '근데', '금방', '금수', '금지', '급식', '급하다', '긋다', '기간', '기계', '기다', '기다리다', '기대', '기대다', '기대하다', '기도', '기독교', '기레기', '기르다', '기본', '기부', '기분', '기사', '기사화', '기안', '기어', '기억', '기원', '기자', '기적', '기전', '기준', '기획사', '길다', '김건모', '김구라', '김남주', '김민희', '김생민', '김성주', '김세정', '김소연', '김수미', '김수현', '김승현', '김영희', '김원희', '김정훈', '김제동', '김종국', '김종민', '김주혁', '김지원', '김치', '김태리', '김태희', '김해숙', '김현주', '김흥국', '김희선', '김희철', '깊다', '깊이', '까발리다', '까지는', '까진', '깎다', '깔끔하다', '깔다', '깜놀', '깜짝', '깨끗하다', '깨다', '꺼내다', '꺼지다', '꼬리', '꼬이다', '꼭지', '꽂다', '꽃길', '꽃뱀', '꾸다', '꾸미다', '꿀잼', '끄다', '끊다', '끌다', '끌리다', '끝나다', '끝내', '끝내다', '끼다', '끼리', '끼리끼리', '끼치다', '나가다', '나나', '나누다', '나다', '나대다', '나라', '나래', '나르다', '나름', '나머지', '나물', '나쁘다', '나서다', '나소', '나영석', '나오다', '나와라', '나은', '나이', '나잇', '나중', '나타나다', '나혼자산다', '난리', '난리치다', '난민', '날다', '날리다', '남궁민', '남기다', '남녀', '남다', '남다르다', '남성', '남아', '남자', '남자친구', '남충', '남친', '남탓', '남태현', '남편', '낫다', '낮다', '낳다', '내기', '내내', '내놓다', '내다', '내리다', '내면', '내보내다', '내부', '내용', '내일', '내주다', '냄비', '냄새', '너무', '너무나', '너무하다', '넓다', '넘기다', '넘다', '넘어가다', '넘치다', '넣다', '네이버', '네티즌', '년놈', '년도', '년전', '노답', '노랗다', '노래', '노래방', '노력', '노무현', '노인', '노잼', '노처녀', '노출', '논란', '논리', '놀다', '놀이', '농구', '높다', '놓다', '누가', '누군가', '누군데', '누군지', '누굴', '누나', '누르다', '눈물', '눈물나다', '눈빛', '눈치', '눕다', '뉴스', '느그', '느껴지다', '느끼다', '느끼하다', '느낌', '는걸', '늘다', '늘어지다', '늙다', '능력', '늦다', '니까', '니깐', '님들', '다가', '다가오다', '다나', '다녀오다', '다니다', '다니엘', '다르다', '다른사람', '다리', '다솜', '다시', '다시다', '다야', '다이어트', '다치다', '다해', '다행', '단독', '단아', '단어', '닫다', '달다', '달달', '달라', '달라지다', '달려들다', '닮다', '닮음', '담다', '담배', '답답하다', '당당하다', '당시', '당연하다', '당하다', '당한', '대가', '대가리', '대놓고', '대다', '대단하다', '대도', '대로', '대리', '대마', '대박', '대박나다', '대본', '대부분', '대사', '대상', '대세', '대신', '대의', '대중', '대체', '대충', '대통령', '대표', '대하', '대한', '대한민국', '대해', '댓글', '댓글달다', '댓글알바', '더니', '더럽다', '더욱', '더하다', '덕분', '던데', '던지다', '덥다', '덩어리', '덮다', '데려가다', '데려오다', '데리', '데뷔', '도깨비', '도끼', '도대체', '도망가다', '도박', '도배', '도안', '도와주다', '도움', '독보', '돋다', '돌다', '돌리다', '돌림', '돌보다', '돌아가다', '돌아다니다', '돌아보다', '돌아오다', '동갑', '동네', '동료', '동방신기', '동생', '동영상', '동의', '돼다', '돼지', '되게', '되다', '되어다', '된거', '두다', '둘째', '둥이', '뒤지다', '드디어', '드라마', '드러나다', '드럽다', '드리다', '드립', '든지', '듣기', '듣다', '듣보다', '듣보잡', '들다', '들리다', '들보', '들어가다', '들어서다', '들어오다', '들어주다', '들이다', '듯이', '등장', '따다', '따뜻하다', '따라가다', '따라오다', '따로', '따르다', '따위', '따지다', '딱이다', '딱하다', '딸도', '딸리다', '때리다', '때문', '떠나다', '떠들다', '떠오르다', '떨다', '떨어지다', '떼다', '똑같다', '똑같이', '똑똑하다', '똑바로', '뚱뚱하다', '뛰다', '뜨다', '뜯다', '띄우다', '라고', '라는', '라니', '라도', '라며', '라면', '라미란', '라서', '라이', '라이브', '라이프', '라인', '라지', '랑은', '래야', '랩퍼', '러브', '런닝맨', '로또', '로만', '로맨스', '로서', '로이킴', '로코', '리더', '마냥', '마녀사냥', '마누라', '마닷', '마땅하다', '마르다', '마무리', '마블', '마스크', '마시다', '마약', '마음', '마이크로', '마인드', '마지막', '마찬가지', '마취', '막다', '막상', '막장', '만나다', '만남', '만들다', '만에', '만원', '만으로', '만의', '만족', '만지다', '만하', '만해', '많다', '많아지다', '많이', '말고', '말고는', '말다', '말로', '말아먹다', '말투', '맘껏', '맘대로', '맘충', '맙시', '맛있다', '망가지다', '망신', '망정', '망치다', '망하다', '맞다', '맞추다', '맡다', '매니저', '매력', '매우', '매일', '매장', '맨날', '머리', '먹고살다', '먹기', '먹다', '먹방', '먹이다', '먼저', '먼지', '멀다', '멈추다', '멋있다', '멋지다', '멍청하다', '메인', '멘탈', '멤버', '며느리', '면상', '면서', '명도', '명복', '명예훼손', '명품', '몇번', '몇십', '모델', '모든', '모르다', '모름', '모습', '모양', '모으다', '모이다', '모자라다', '목소리', '몰다', '몰려오다', '몰입', '몰입도', '몰카', '몸매', '무당', '무대', '무도', '무섭다', '무시', '무식하다', '무조건', '무죄', '무책임하다', '문재인', '문제', '문죄인', '문화', '문희준', '묻다', '묻히다', '물건', '물다', '물리다', '물어', '물어보다', '물이', '뭉치다', '뮤지컬', '미국', '미나', '미녀', '미리', '미모', '미안하다', '미우다', '미워하다', '미인', '미치다', '미투', '미혼', '미화', '민국', '민망하다', '민폐', '믿다', '믿음', '밀다', '밀리다', '밉다', '바꾸다', '바뀌다', '바다', '바닥', '바라다', '바람', '바르다', '바보', '바쁘다', '바지', '바하', '박근혜', '박나래', '박다', '박명수', '박민영', '박보검', '박서준', '박성광', '박수', '박수홍', '박유천', '박진영', '박한별', '박해미', '밖에', '반갑다', '반대', '반말', '반박', '반성', '반응', '반전', '받다', '받아들이다', '발언', '발연기', '발음', '발전', '발표', '밝다', '밝혀지다', '밝히다', '밟다', '방금', '방법', '방송', '방송국', '방송사', '방송출연', '방탄', '방탄소년단', '배경', '배다', '배려', '배신', '배역', '배우', '배우다', '배우자', '백종원', '백지영', '백퍼', '버닝썬', '버리다', '버티다', '벌금', '벌다', '벌레', '벌리다', '벌써', '범인', '범죄', '범죄자', '법원', '법적', '벗다', '벗어나다', '벼슬', '변기', '변하다', '변호사', '별거', '별로', '별루', '병문안', '병원', '보고', '보기', '보내다', '보다', '보다는', '보단', '보도', '보살', '보상', '보수', '보아', '보여주다', '보이', '보이다', '보임', '보정', '보지', '보컬', '보통', '보호', '복귀', '본방', '본성', '본인', '본적', '본질', '볼때', '뵈다', '부끄럽다', '부담스럽다', '부대', '부들', '부들부들', '부디', '부럽다', '부르다', '부리다', '부모', '부모님', '부부', '부분', '부산', '부인', '부자', '부탁', '부탁드리다', '북한', '분들', '분량', '분명', '분명하다', '분위기', '불가', '불구', '불다', '불륜', '불리다', '불만', '불매', '불법', '불쌍', '불쌍하다', '불임', '불청', '불타다', '불편', '불편하다', '붙다', '붙이', '붙이다', '브라', '블랙', '비공개', '비교', '비꼬다', '비난', '비누', '비다', '비리', '비비다', '비싸다', '비위', '비율', '비주', '비추다', '비키니', '비판', '비호감', '빅뱅', '빌다', '빌리다', '빛나다', '빠르다', '빠순이', '빠지다', '빡치다', '빨갱이', '빨다', '빨리', '빵빵', '빼다', '빼먹다', '뺏다', '뻔하다', '뽑다', '뿌리', '뿌리다', '사거리', '사건', '사고', '사과', '사귀다', '사극', '사기', '사기꾼', '사내', '사다', '사라지다', '사람', '사람과', '사랑', '사랑스럽다', '사부', '사생활', '사실', '사업', '사용', '사이', '사장', '사정', '사진', '사쿠라', '사투리', '사형', '사회', '삭제', '산다', '산이', '살기', '살다', '살리다', '살림', '살빠지다', '살빼다', '살아가다', '살이', '살인', '살짝', '살찌다', '삼가다', '삼다', '상관', '상관없다', '상대', '상상', '상영', '상이', '상처', '상태', '상품화', '상황', '새끼', '새다', '새롭다', '생각', '생각나다', '생기', '생기다', '생명', '생활', '서다', '서도', '서로', '서울', '서울대', '서장훈', '서현진', '선동', '선물', '선미', '선배', '선생', '선생님', '선수', '선예', '선처', '선택', '설다', '설레다', '설리', '설정', '설치다', '설현', '섭외', '성격', '성공', '성공하다', '성관계', '성매매', '성범죄자', '성별', '성비', '성실하다', '성우', '성인', '성장하다', '성적', '성질', '성추행', '성폭행', '성형', '성희롱', '세계', '세금', '세다', '세명', '세상', '세월', '세월호', '세탁', '섹스', '섹시하다', '센스', '센터', '소녀', '소녀시대', '소름', '소리', '소문', '소설', '소속사', '소시', '소식', '소연', '소유진', '소재', '소지섭', '속상하다', '속이다', '손가락', '손담비', '손승연', '손예진', '손절', '솔로', '솔지', '솔직하다', '송가', '송윤아', '송종국', '송중기', '송지효', '송혜교', '수가', '수고', '수도', '수사', '수술', '수영복', '수준', '수지', '수치심', '숙이다', '순간', '순수하다', '순식간', '순위', '순진하다', '숟가락', '술집', '숨기다', '숨다', '쉬다', '쉴드', '슈가', '슈돌', '스러운', '스럽게', '스럽다', '스브스', '스스로', '스카이', '스타', '스타일', '스탈', '스토리', '스트레스', '스포츠', '슬슬', '슬프다', '승기', '승리', '시기', '시끄럽다', '시대', '시댁', '시발', '시상식', '시선', '시어머니', '시작', '시장', '시절', '시점', '시즌', '시집', '시집가다', '시청', '시청률', '시청율', '시청자', '식당', '식상하다', '식이', '신경', '신고', '신기하다', '신나다', '신다', '신동', '신동엽', '신랑', '신부', '신분', '신비', '신선하다', '신인', '신정환', '실검', '실력', '실망', '실망하다', '실명', '실물', '실수', '실시간', '실제', '실종', '실화', '싫다', '싫어지다', '싫어하다', '심각하다', '심다', '심리', '심심하다', '심정', '심판', '심하다', '심해', '십년', '싶다', '싸가지', '싸다', '싸우다', '싸움', '싸이', '쌈디', '쌓다', '써다', '써주다', '썩다', '쎄다', '쓰다', '쓰레기', '쓴다', '쓸다', '씹다', '아가', '아기', '아깝다', '아끼다', '아나운서', '아내', '아니다', '아들', '아래', '아름답다', '아마', '아무', '아무나', '아무렇다', '아무리', '아무튼', '아버지', '아보', '아부지', '아빠', '아쉽다', '아시', '아아', '아예', '아이돌', '아이유', '아이즈', '아이콘', '아저씨', '아주', '아줌마', '아지', '아치', '아침', '아티스트', '아프다', '악마', '악플', '악플달다', '악플러', '안감', '안나', '안다', '안달', '안되다', '안보', '안쓰럽다', '안재현', '안좋다', '안타깝다', '안티', '안함', '안해', '안현모', '앉다', '않다', '알다', '알려지다', '알리다', '알바', '알아보다', '알콩달콩', '암튼', '애가', '애교', '애기', '애나', '애도', '애매하다', '애비', '애쓰다', '애인', '애초', '앨범', '야동', '야하다', '약속', '약하다', '양동근', '양반', '양세종', '양세형', '양심', '양준', '얘기', '어그', '어디가', '어디서', '어딜', '어딨다', '어떻', '어떻다', '어렵다', '어른', '어리다', '어마', '어머니', '어색하다', '어울리다', '어이없다', '어제', '어지간하다', '어째', '어쨌든', '어쩌', '어쩌라고', '어쩐지', '어쩔', '어쩜', '어차피', '어휴', '억울하다', '억이', '억지', '억지로', '언급', '언능', '언니', '언론', '언제나', '언플', '얻다', '얼굴', '얼다', '얼른', '엄마', '엄청', '업다', '없다', '없애다', '없어지다', '없이', '엉망', '에가', '에게는', '에겐', '에구', '에나', '에는', '에다', '에도', '에만', '에서는', '에서도', '에선', '에요', '에이', '엑소', '엑스', '엔딩', '엠씨', '여기다', '여기저기', '여러', '여럿', '여론', '여배우', '여서', '여성', '여신', '여우', '여자', '여자도', '여자애', '여전하다', '여주', '여친', '여태', '여행', '역겹다', '역대', '역사', '역시', '역할', '연결', '연기', '연기대상', '연기력', '연기자', '연락', '연령', '연습', '연습생', '연애', '연예', '연예계', '연예인', '연예인병', '연인', '연좌제', '연출', '연하', '연하남', '열다', '열등감', '열심히', '열애', '열애설', '열폭', '영상', '영원하다', '영재', '영화', '예고', '예능', '예능인', '예민하다', '예쁘다', '예상', '예서', '예수님', '예술', '예요', '예원', '예은', '예의', '예전', '예진', '옛날', '오글거리다', '오나라', '오는', '오늘', '오다', '오달수', '오래', '오래오래', '오랜', '오버', '오빠', '오정연', '오죽하다', '오지', '오지랖', '오창석', '오해', '옥주현', '온갖', '올라가다', '올라오다', '올리다', '올해', '옹호', '와도', '와이지', '와이프', '와중', '완벽하다', '완전', '왕따', '왜케', '왠만하다', '왠지', '왤케', '외국', '외국인', '외모', '외치다', '요구', '요리', '요새', '요요', '요즘', '욕먹다', '욕심', '용서', '우려', '우리나라', '우린', '우와', '우울증', '우울하다', '우파', '운동', '운전', '울다', '웃기', '웃기다', '웃다', '웃음', '워낙', '원걸', '원래', '원작', '원하다', '원호', '월드', '위너', '위해', '위험하다', '유난', '유독', '유리', '유명인', '유명하다', '유부', '유산', '유승준', '유이', '유일하다', '유재석', '유전자', '유지', '유진', '유천', '유치하다', '유튜브', '유포', '유행', '유희열', '육아', '육중', '윤세아', '윤아', '윤지성', '은애', '은우', '은퇴', '음식', '음악', '음원', '음주', '음주운전', '응원', '의도', '의리', '의무', '의문', '의미', '의사', '의상', '의식', '의심', '의지', '이경규', '이국주', '이기', '이기다', '이나', '이나영', '이다해', '이도', '이란', '이랑', '이랑은', '이루다', '이르다', '이를', '이름', '이리', '이면', '이명박', '이모', '이미', '이미지', '이민정', '이민호', '이병헌', '이분', '이뿌다', '이쁘다', '이상민', '이상우', '이상윤', '이상하다', '이상화', '이서', '이서진', '이석훈', '이소라', '이수근', '이슈', '이승기', '이승윤', '이시언', '이야', '이야기', '이어지다', '이에요', '이엘리야', '이여', '이열음', '이영애', '이영자', '이용', '이유', '이유리', '이자', '이자나', '이제', '이종석', '이중성', '이지', '이참', '이채', '이필모', '이해', '이혁', '이형', '이호석', '이혼', '이효리', '이후', '이휘재', '인가', '인가요', '인간', '인거', '인게', '인격', '인기', '인데', '인들', '인맥', '인물', '인사', '인상', '인생', '인성', '인스타', '인정', '인증', '인지', '인지도', '인척', '인터넷', '인터뷰', '인하다', '일도', '일만', '일반', '일반인', '일방', '일베', '일본', '일본인', '일부', '일부러', '일상', '일어나다', '일으키다', '일이', '일인', '일진', '일텐데', '읽다', '잃다', '임산부', '임신', '임지연', '임현주', '입다', '입담', '입대', '입맛', '입술', '입장', '잇다', '잊다', '잊혀지다', '자격', '자극', '자꾸', '자녀', '자다', '자라다', '자랑', '자랑스럽다', '자르다', '자리', '자빠지다', '자살', '자세', '자숙', '자식', '자연', '자연스럽다', '자유', '자제', '자주', '자체', '작가', '작고', '작년', '작다', '작업', '작작', '작품', '잔나비', '잖다', '잘나가다', '잘나다', '잘만', '잘못', '잘살다', '잘생기다', '잠수', '잠자리', '잠잠하다', '잡고', '잡다', '잡아먹다', '잡히다', '장가', '장나라', '장난', '장도연', '장동건', '장례식', '장면', '장미희', '장사', '장애', '장윤정', '장이', '장인', '장자연', '재결합', '재기', '재능', '재다', '재력', '재미', '재미없다', '재미있다', '재밌다', '재방', '재벌', '재산', '재수', '재수없다', '재앙', '재혼', '쟁이', '저걸', '저러다', '저런', '저렇게', '저렇다', '저리', '저번', '저지르다', '적다', '적당하다', '적어도', '적폐', '전개', '전국', '전남편', '전라도', '전설', '전성기', '전소민', '전쟁', '전체', '전혀', '전현무', '전형', '전화', '절대', '절대로', '절친', '절하', '젊다', '점점', '접다', '정겨운', '정권', '정답', '정도', '정말', '정미', '정보', '정부', '정상', '정신', '정신병', '정신차리다', '정용화', '정우', '정우성', '정유미', '정의', '정작', '정준', '정준영', '정치', '정해', '정확하다', '제니', '제대로', '제목', '제발', '제일', '제주도', '젝키', '조개', '조국', '조만간', '조민기', '조보아', '조사', '조선', '조심하다', '조연', '조용하다', '조인성', '조작', '조재현', '조카', '조폭', '조합', '존경', '존나', '존예', '존잘', '존재', '졸라', '좀더', '좀해', '종국', '종이', '종특', '좋다', '좋아지다', '좋아하다', '좌빨', '좌좀', '좌파', '죄다', '죄송하다', '죄인', '주가', '주다', '주말', '주먹', '주변', '주연', '주위', '주의', '주인공', '주작', '주장', '주제', '죽다', '죽음', '죽이다', '준비', '준영', '준희', '줄다', '줄알', '줌마', '줍다', '중간', '중국', '중국인', '중기', '중독', '중요하다', '즐기다', '증거', '지겹다', '지고', '지금', '지나', '지나가다', '지나다', '지난', '지내다', '지네', '지는', '지다', '지도', '지랄', '지루하다', '지르다', '지리', '지민', '지상파', '지성', '지연', '지옥', '지우다', '지원', '지은', '지인', '지적', '지켜보다', '지코', '지키다', '직업', '직원', '직장', '직접', '진리', '진보', '진실', '진심', '진우', '진정', '진짜', '진출', '진행', '질린다', '질질', '질투', '집다', '집단', '집안', '집중', '집착', '짓거리', '짓다', '징그럽다', '징글징글', '징역', '짜다', '짜증', '짜증나다', '짠하다', '짧다', '짱개', '째다', '쩌리', '쩐다', '쩔다', '쪽바리', '쪽팔리다', '쯧쯧', '찌다', '찌질하다', '찍다', '찍히다', '찢다', '차갑다', '차다', '차려', '차리다', '차별', '차예련', '차원', '차이', '차태현', '착각', '착하다', '참고', '참다', '창피하다', '찾다', '찾아가다', '찾아보다', '찾아오다', '채널', '채다', '채우다', '책임', '책임지다', '챙기다', '처럼', '처리', '처벌', '처음', '천국', '천만', '천박하다', '천사', '천재', '첨부', '첫째', '청원', '청춘', '초대', '초딩', '초반', '촌스럽다', '촬영', '최고', '최고다', '최근', '최소', '최소한', '최수종', '최악', '최종범', '최지우', '추다', '추모', '추억', '추자현', '추천', '추하다', '축구', '축복', '축하', '출산', '출시', '출신', '출연', '출연자', '충격', '충분하다', '충재', '취급', '취향', '치고', '치다', '치료', '치매', '치우다', '친구', '친하다', '칭찬', '카리스마', '카메라', '카톡', '캐릭터', '캐스팅', '캐슬', '캡쳐', '커리어', '커서', '커플', '컨셉', '컴백', '케미', '케이스', '켜다', '코로나', '코스프레', '콘서트', '쿨하다', '쿵쾅', '큐브', '크게', '크다', '크러쉬', '큰일', '클라라', '클라스', '클럽', '키로', '키스', '키우다', '키크', '타고', '타고나다', '타이틀', '탁재훈', '탄핵', '탈세', '태국', '태어나다', '태연', '터지다', '털다', '테이블', '토나오다', '톡방', '퇴물', '퇴사', '투어', '투표', '트리', '트와이스', '특징', '특히', '틀다', '틀리다', '티나', '티비', '티아라', '파다', '파이팅', '판결', '판단', '판사', '팔리다', '팔이', '팔자', '팩트', '팬티', '페미', '펴다', '편안하다', '편이', '편집', '편하다', '평가', '평범하다', '평생', '평소', '폐지', '포기', '포스', '포장', '포함', '폭력', '폭로', '폭행', '표절', '표정', '표현', '풀다', '품다', '프듀', '프로', '프로그램', '피다', '피디', '피부', '피우다', '피임', '피자', '피해', '피해자', '필립', '필요', '필요없다', '필요하다', '핑계', '핑크', '하고', '하나경', '하나님', '하늘', '하늘나라', '하루', '하지원', '하차', '하트', '하필', '하현우', '학교', '학창시절', '학폭', '한고은', '한국', '한국인', '한남', '한다는', '한당', '한두', '한때', '한물가다', '한번', '한서희', '한심하다', '한예슬', '한의사', '한지민', '한지혜', '한쪽', '한참', '한창', '한채아', '한테', '한혜진', '한효주', '할머니', '할배', '함부로', '함소원', '합의', '항상', '해결', '해달라다', '해도', '해먹', '해명', '해보다', '해봤다', '해외', '해주', '해주다', '해체', '햇던', '행동', '행보', '행복', '행복하다', '허다', '허리', '헐다', '헛소리', '헤어지다', '헨리', '현명하다', '현무', '현빈', '현실', '현아', '현우', '현재', '현주', '협박', '형님', '혜교', '혜나', '혜빈', '혜진', '호감', '호구', '호들갑', '호텔', '혼전임신', '홍보', '홍상수', '홍어', '홍윤', '홍진영', '화가', '화나다', '화려하다', '화면', '화보', '화사', '화이팅', '화장', '화제', '확실하다', '확인', '환영', '환자', '환장하다', '활동', '홧팅', '황금', '황민', '회사', '회장', '효리', '효린', '후배', '훈남', '훈훈하다', '훌륭하다', '휴가', '흐르다', '흘리다', '흥분하다', '희다', '희망', '희한하다', '히트', '힘내다', '힘드다', '힘들다', '힙합']\n"
     ]
    }
   ],
   "source": [
    "print(sorted(word_index.keys()))"
   ]
  },
  {
   "cell_type": "markdown",
   "metadata": {},
   "source": [
    "### Document Term Matrix"
   ]
  },
  {
   "cell_type": "code",
   "execution_count": 24,
   "metadata": {},
   "outputs": [],
   "source": [
    "trainarray=[]\n",
    "for corpus in train.corpus:\n",
    "    temp=[0]*len(word_index)\n",
    "    for word in corpus:\n",
    "        if word in word_index.keys():\n",
    "            temp[word_index[word]]=+1\n",
    "    trainarray.append(temp)"
   ]
  },
  {
   "cell_type": "code",
   "execution_count": 25,
   "metadata": {},
   "outputs": [],
   "source": [
    "dtm=pd.DataFrame(trainarray,columns=word_index.keys())"
   ]
  },
  {
   "cell_type": "code",
   "execution_count": 26,
   "metadata": {},
   "outputs": [
    {
     "data": {
      "text/plain": [
       "(8367, 2284)"
      ]
     },
     "execution_count": 26,
     "metadata": {},
     "output_type": "execute_result"
    }
   ],
   "source": [
    "dtm.shape"
   ]
  },
  {
   "cell_type": "markdown",
   "metadata": {},
   "source": [
    "### one hot encoding"
   ]
  },
  {
   "cell_type": "code",
   "execution_count": 27,
   "metadata": {},
   "outputs": [],
   "source": [
    "trainarray=[]\n",
    "for corpus in train.corpus:\n",
    "    temp=[0]*len(word_index)\n",
    "    for word in corpus:\n",
    "        if word in word_index.keys():\n",
    "            temp[word_index[word]]=1\n",
    "    trainarray.append(temp)"
   ]
  },
  {
   "cell_type": "code",
   "execution_count": 28,
   "metadata": {},
   "outputs": [],
   "source": [
    "ohe=pd.DataFrame(trainarray,columns=word_index.keys())"
   ]
  },
  {
   "cell_type": "code",
   "execution_count": 29,
   "metadata": {},
   "outputs": [
    {
     "data": {
      "text/plain": [
       "(8367, 2284)"
      ]
     },
     "execution_count": 29,
     "metadata": {},
     "output_type": "execute_result"
    }
   ],
   "source": [
    "ohe.shape"
   ]
  },
  {
   "cell_type": "markdown",
   "metadata": {},
   "source": [
    "### xTrain yTrain xTest 생성"
   ]
  },
  {
   "cell_type": "code",
   "execution_count": 30,
   "metadata": {},
   "outputs": [],
   "source": [
    "xTrain=ohe.values\n",
    "yTrain=train['label'].values\n",
    "xTest=testarray"
   ]
  },
  {
   "cell_type": "markdown",
   "metadata": {},
   "source": [
    "### naive_bayes"
   ]
  },
  {
   "cell_type": "code",
   "execution_count": 31,
   "metadata": {},
   "outputs": [],
   "source": [
    "from sklearn.naive_bayes import CategoricalNB"
   ]
  },
  {
   "cell_type": "code",
   "execution_count": 32,
   "metadata": {},
   "outputs": [
    {
     "data": {
      "text/plain": [
       "CategoricalNB()"
      ]
     },
     "execution_count": 32,
     "metadata": {},
     "output_type": "execute_result"
    }
   ],
   "source": [
    "model=CategoricalNB()\n",
    "model.fit(xTrain, yTrain)"
   ]
  },
  {
   "cell_type": "code",
   "execution_count": 33,
   "metadata": {},
   "outputs": [],
   "source": [
    "pred=model.predict(xTest)"
   ]
  },
  {
   "cell_type": "code",
   "execution_count": 34,
   "metadata": {},
   "outputs": [
    {
     "data": {
      "text/plain": [
       "0.6960678857416039"
      ]
     },
     "execution_count": 34,
     "metadata": {},
     "output_type": "execute_result"
    }
   ],
   "source": [
    "model.score(xTrain , yTrain)"
   ]
  },
  {
   "cell_type": "code",
   "execution_count": 35,
   "metadata": {},
   "outputs": [],
   "source": [
    "test_row['label']=pred\n",
    "submit_NB=test_row[['comments','label']]"
   ]
  },
  {
   "cell_type": "code",
   "execution_count": 36,
   "metadata": {},
   "outputs": [],
   "source": [
    "submit_NB.to_csv('submit_NB.csv',index=False)"
   ]
  },
  {
   "cell_type": "markdown",
   "metadata": {},
   "source": [
    "### 신경망"
   ]
  },
  {
   "cell_type": "code",
   "execution_count": 65,
   "metadata": {},
   "outputs": [],
   "source": [
    "from keras.models import Sequential \n",
    "from keras.layers import Dense\n",
    "from keras import optimizers"
   ]
  },
  {
   "cell_type": "code",
   "execution_count": 66,
   "metadata": {},
   "outputs": [],
   "source": [
    "model=Sequential()\n",
    "model.add(Dense(729,input_shape=(xTrain.shape[1],) ,activation='relu'))\n",
    "model.add(Dense(729,activation='relu'))\n",
    "model.add(Dense(243,activation='relu'))\n",
    "model.add(Dense(81,activation='relu'))\n",
    "model.add(Dense(3,activation='softmax'))"
   ]
  },
  {
   "cell_type": "code",
   "execution_count": 67,
   "metadata": {},
   "outputs": [],
   "source": [
    "model.compile(optimizer='rmsprop',\n",
    "             loss='categorical_crossentropy',\n",
    "             metrics=['accuracy'])"
   ]
  },
  {
   "cell_type": "code",
   "execution_count": 68,
   "metadata": {},
   "outputs": [
    {
     "data": {
      "text/plain": [
       "array([[False, False,  True],\n",
       "       [ True, False, False],\n",
       "       [False, False,  True],\n",
       "       ...,\n",
       "       [False,  True, False],\n",
       "       [False, False,  True],\n",
       "       [ True, False, False]])"
      ]
     },
     "execution_count": 68,
     "metadata": {},
     "output_type": "execute_result"
    }
   ],
   "source": [
    "train['none']=train['label']==0\n",
    "train['offensive']=train['label']==1\n",
    "train['hate']=train['label']==2\n",
    "yTrain=train[['none','offensive','hate']].values\n",
    "yTrain"
   ]
  },
  {
   "cell_type": "code",
   "execution_count": 69,
   "metadata": {},
   "outputs": [],
   "source": [
    "x_val = xTrain[:1000]\n",
    "partial_x_train = xTrain[1000:]\n",
    "\n",
    "y_val = yTrain[:1000]\n",
    "partial_y_train = yTrain[1000:]"
   ]
  },
  {
   "cell_type": "code",
   "execution_count": 70,
   "metadata": {},
   "outputs": [
    {
     "name": "stdout",
     "output_type": "stream",
     "text": [
      "Epoch 1/30\n",
      "8/8 [==============================] - 1s 141ms/step - loss: 1.0701 - accuracy: 0.4184 - val_loss: 1.0617 - val_accuracy: 0.4310\n",
      "Epoch 2/30\n",
      "8/8 [==============================] - 1s 88ms/step - loss: 0.9282 - accuracy: 0.5420 - val_loss: 0.9949 - val_accuracy: 0.5220\n",
      "Epoch 3/30\n",
      "8/8 [==============================] - 1s 92ms/step - loss: 0.7345 - accuracy: 0.6814 - val_loss: 0.9310 - val_accuracy: 0.5730\n",
      "Epoch 4/30\n",
      "8/8 [==============================] - 1s 94ms/step - loss: 0.5854 - accuracy: 0.7504 - val_loss: 1.0669 - val_accuracy: 0.5590\n",
      "Epoch 5/30\n",
      "8/8 [==============================] - 1s 91ms/step - loss: 0.4658 - accuracy: 0.8151 - val_loss: 1.1014 - val_accuracy: 0.5640\n",
      "Epoch 6/30\n",
      "8/8 [==============================] - 1s 90ms/step - loss: 0.3501 - accuracy: 0.8674 - val_loss: 1.3347 - val_accuracy: 0.5610\n",
      "Epoch 7/30\n",
      "8/8 [==============================] - 1s 88ms/step - loss: 0.2573 - accuracy: 0.9066 - val_loss: 1.5291 - val_accuracy: 0.5580\n",
      "Epoch 8/30\n",
      "8/8 [==============================] - 1s 88ms/step - loss: 0.1818 - accuracy: 0.9374 - val_loss: 1.6118 - val_accuracy: 0.5500\n",
      "Epoch 9/30\n",
      "8/8 [==============================] - 1s 87ms/step - loss: 0.1171 - accuracy: 0.9604 - val_loss: 1.9110 - val_accuracy: 0.5220\n",
      "Epoch 10/30\n",
      "8/8 [==============================] - 1s 88ms/step - loss: 0.2885 - accuracy: 0.8945 - val_loss: 1.6600 - val_accuracy: 0.5490\n",
      "Epoch 11/30\n",
      "8/8 [==============================] - 1s 89ms/step - loss: 0.0875 - accuracy: 0.9700 - val_loss: 1.9743 - val_accuracy: 0.5320\n",
      "Epoch 12/30\n",
      "8/8 [==============================] - 1s 88ms/step - loss: 0.0708 - accuracy: 0.9735 - val_loss: 2.2268 - val_accuracy: 0.5300\n",
      "Epoch 13/30\n",
      "8/8 [==============================] - 1s 87ms/step - loss: 0.0731 - accuracy: 0.9723 - val_loss: 3.0143 - val_accuracy: 0.5140\n",
      "Epoch 14/30\n",
      "8/8 [==============================] - 1s 88ms/step - loss: 0.1302 - accuracy: 0.9511 - val_loss: 2.4456 - val_accuracy: 0.5360\n",
      "Epoch 15/30\n",
      "8/8 [==============================] - 1s 89ms/step - loss: 0.0561 - accuracy: 0.9762 - val_loss: 2.5621 - val_accuracy: 0.5320\n",
      "Epoch 16/30\n",
      "8/8 [==============================] - 1s 90ms/step - loss: 0.0532 - accuracy: 0.9769 - val_loss: 2.8056 - val_accuracy: 0.5450\n",
      "Epoch 17/30\n",
      "8/8 [==============================] - 1s 89ms/step - loss: 0.0516 - accuracy: 0.9765 - val_loss: 3.2993 - val_accuracy: 0.5260\n",
      "Epoch 18/30\n",
      "8/8 [==============================] - 1s 90ms/step - loss: 0.2294 - accuracy: 0.9293 - val_loss: 2.4528 - val_accuracy: 0.5310\n",
      "Epoch 19/30\n",
      "8/8 [==============================] - 1s 94ms/step - loss: 0.0499 - accuracy: 0.9790 - val_loss: 2.6683 - val_accuracy: 0.5290\n",
      "Epoch 20/30\n",
      "8/8 [==============================] - 1s 91ms/step - loss: 0.0470 - accuracy: 0.9791 - val_loss: 3.0109 - val_accuracy: 0.5310\n",
      "Epoch 21/30\n",
      "8/8 [==============================] - 1s 92ms/step - loss: 0.0513 - accuracy: 0.9781 - val_loss: 3.0485 - val_accuracy: 0.5090\n",
      "Epoch 22/30\n",
      "8/8 [==============================] - 1s 91ms/step - loss: 0.0471 - accuracy: 0.9781 - val_loss: 3.0162 - val_accuracy: 0.5190\n",
      "Epoch 23/30\n",
      "8/8 [==============================] - 1s 93ms/step - loss: 0.0480 - accuracy: 0.9776 - val_loss: 3.2106 - val_accuracy: 0.5300\n",
      "Epoch 24/30\n",
      "8/8 [==============================] - 1s 93ms/step - loss: 0.0521 - accuracy: 0.9765 - val_loss: 3.0758 - val_accuracy: 0.5210\n",
      "Epoch 25/30\n",
      "8/8 [==============================] - 1s 94ms/step - loss: 0.0490 - accuracy: 0.9773 - val_loss: 3.0818 - val_accuracy: 0.4980\n",
      "Epoch 26/30\n",
      "8/8 [==============================] - 1s 91ms/step - loss: 0.0458 - accuracy: 0.9790 - val_loss: 3.4347 - val_accuracy: 0.5260\n",
      "Epoch 27/30\n",
      "8/8 [==============================] - 1s 90ms/step - loss: 0.1926 - accuracy: 0.9410 - val_loss: 2.8176 - val_accuracy: 0.5280\n",
      "Epoch 28/30\n",
      "8/8 [==============================] - 1s 90ms/step - loss: 0.0474 - accuracy: 0.9783 - val_loss: 2.8316 - val_accuracy: 0.5330\n",
      "Epoch 29/30\n",
      "8/8 [==============================] - 1s 90ms/step - loss: 0.0434 - accuracy: 0.9787 - val_loss: 2.9661 - val_accuracy: 0.5380\n",
      "Epoch 30/30\n",
      "8/8 [==============================] - 1s 90ms/step - loss: 0.0433 - accuracy: 0.9777 - val_loss: 3.0984 - val_accuracy: 0.5210\n"
     ]
    }
   ],
   "source": [
    "history = model.fit(partial_x_train,\n",
    "                    partial_y_train,\n",
    "                    epochs=30,\n",
    "                    batch_size=1024,\n",
    "                    validation_data=(x_val, y_val))"
   ]
  },
  {
   "cell_type": "code",
   "execution_count": 71,
   "metadata": {},
   "outputs": [
    {
     "data": {
      "image/png": "[encoded data removed]",
      "text/plain": [
       "<Figure size 432x288 with 1 Axes>"
      ]
     },
     "metadata": {
      "needs_background": "light"
     },
     "output_type": "display_data"
    }
   ],
   "source": [
    "loss= history.history['loss']\n",
    "val_loss=history.history['val_loss']\n",
    "\n",
    "epochs = range(1, len(loss) + 1)\n",
    "\n",
    "plt.plot(epochs, loss, 'bo',label=\"Training loss\" )\n",
    "plt.plot(epochs, val_loss, 'b', label='Validation loss')\n",
    "plt.title('Training and validation loss')\n",
    "plt.xlabel('Epochs')\n",
    "plt.ylabel('Loss')\n",
    "plt.legend()\n",
    "\n",
    "plt.show()"
   ]
  },
  {
   "cell_type": "code",
   "execution_count": 72,
   "metadata": {},
   "outputs": [
    {
     "data": {
      "image/png": "[encoded data removed]",
      "text/plain": [
       "<Figure size 432x288 with 1 Axes>"
      ]
     },
     "metadata": {
      "needs_background": "light"
     },
     "output_type": "display_data"
    }
   ],
   "source": [
    "plt.clf() #그래프 초기화 \n",
    "\n",
    "acc = history.history['accuracy']\n",
    "val_acc = history.history['val_accuracy']\n",
    "\n",
    "plt.plot(epochs, acc, 'bo', label='Training acc')\n",
    "plt.plot(epochs, val_acc, 'b', label='Validation acc')\n",
    "\n",
    "plt.title('Training and Validation Accuracy')\n",
    "plt.xlabel('Epochs')\n",
    "plt.ylabel('Accuracy')\n",
    "\n",
    "plt.legend()\n",
    "\n",
    "plt.show()"
   ]
  },
  {
   "cell_type": "code",
   "execution_count": 73,
   "metadata": {},
   "outputs": [],
   "source": [
    "pred=model.predict(xTest)"
   ]
  },
  {
   "cell_type": "code",
   "execution_count": 74,
   "metadata": {},
   "outputs": [],
   "source": [
    "predict=[]\n",
    "for i in pred:\n",
    "    predict.append(i.argmax())"
   ]
  },
  {
   "cell_type": "code",
   "execution_count": 75,
   "metadata": {},
   "outputs": [],
   "source": [
    "test_row['label']=predict"
   ]
  },
  {
   "cell_type": "code",
   "execution_count": 76,
   "metadata": {},
   "outputs": [],
   "source": [
    "submit_MC=test_row[['comments','label']]"
   ]
  },
  {
   "cell_type": "code",
   "execution_count": 77,
   "metadata": {},
   "outputs": [],
   "source": [
    "submit_MC.to_csv('submit_MC.csv',index=False)"
   ]
  },
  {
   "cell_type": "code",
   "execution_count": 78,
   "metadata": {},
   "outputs": [
    {
     "data": {
      "text/plain": [
       "0    464\n",
       "1    382\n",
       "2    128\n",
       "Name: label, dtype: int64"
      ]
     },
     "execution_count": 78,
     "metadata": {},
     "output_type": "execute_result"
    }
   ],
   "source": [
    "submit_MC['label'].value_counts()"
   ]
  },
  {
   "cell_type": "code",
   "execution_count": 79,
   "metadata": {},
   "outputs": [
    {
     "data": {
      "text/html": [
       "<div>\n",
       "<style scoped>\n",
       "    .dataframe tbody tr th:only-of-type {\n",
       "        vertical-align: middle;\n",
       "    }\n",
       "\n",
       "    .dataframe tbody tr th {\n",
       "        vertical-align: top;\n",
       "    }\n",
       "\n",
       "    .dataframe thead th {\n",
       "        text-align: right;\n",
       "    }\n",
       "</style>\n",
       "<table border=\"1\" class=\"dataframe\">\n",
       "  <thead>\n",
       "    <tr style=\"text-align: right;\">\n",
       "      <th></th>\n",
       "      <th>comments</th>\n",
       "      <th>label</th>\n",
       "    </tr>\n",
       "  </thead>\n",
       "  <tbody>\n",
       "    <tr>\n",
       "      <th>0</th>\n",
       "      <td>ㅋㅋㅋㅋ 그래도 조아해주는 팬들 많아서 좋겠다 ㅠㅠ 니들은 온유가 안만져줌 ㅠㅠ</td>\n",
       "      <td>1</td>\n",
       "    </tr>\n",
       "    <tr>\n",
       "      <th>1</th>\n",
       "      <td>둘다 넘 좋다~행복하세요</td>\n",
       "      <td>0</td>\n",
       "    </tr>\n",
       "    <tr>\n",
       "      <th>2</th>\n",
       "      <td>근데 만원이하는 현금결제만 하라고 써놓은집 우리나라에 엄청 많은데</td>\n",
       "      <td>1</td>\n",
       "    </tr>\n",
       "    <tr>\n",
       "      <th>3</th>\n",
       "      <td>원곡생각하나도 안나고 러블리즈 신곡나온줄!!! 너무 예쁘게 잘봤어요</td>\n",
       "      <td>0</td>\n",
       "    </tr>\n",
       "    <tr>\n",
       "      <th>4</th>\n",
       "      <td>장현승 얘도 참 이젠 짠하다...</td>\n",
       "      <td>0</td>\n",
       "    </tr>\n",
       "    <tr>\n",
       "      <th>...</th>\n",
       "      <td>...</td>\n",
       "      <td>...</td>\n",
       "    </tr>\n",
       "    <tr>\n",
       "      <th>969</th>\n",
       "      <td>대박 게스트... 꼭 봐야징~ 컨셉이 바뀌니깐 재미지넹</td>\n",
       "      <td>0</td>\n",
       "    </tr>\n",
       "    <tr>\n",
       "      <th>970</th>\n",
       "      <td>성형으로 다 뜯어고쳐놓고 예쁜척. 성형 전 니 얼굴 다 알고있다. 순자처럼 된장냄새...</td>\n",
       "      <td>1</td>\n",
       "    </tr>\n",
       "    <tr>\n",
       "      <th>971</th>\n",
       "      <td>분위기는 비슷하다만 전혀다른 전개던데 무슨ㅋㅋㄱ 우리나라사람들은 분위기만 비슷하면 ...</td>\n",
       "      <td>0</td>\n",
       "    </tr>\n",
       "    <tr>\n",
       "      <th>972</th>\n",
       "      <td>입에 손가릭이 10개 있으니 징그럽다</td>\n",
       "      <td>2</td>\n",
       "    </tr>\n",
       "    <tr>\n",
       "      <th>973</th>\n",
       "      <td>난 조보아 이뻐서 보는데 백종원 관심무</td>\n",
       "      <td>0</td>\n",
       "    </tr>\n",
       "  </tbody>\n",
       "</table>\n",
       "<p>974 rows × 2 columns</p>\n",
       "</div>"
      ],
      "text/plain": [
       "                                              comments  label\n",
       "0         ㅋㅋㅋㅋ 그래도 조아해주는 팬들 많아서 좋겠다 ㅠㅠ 니들은 온유가 안만져줌 ㅠㅠ      1\n",
       "1                                        둘다 넘 좋다~행복하세요      0\n",
       "2                 근데 만원이하는 현금결제만 하라고 써놓은집 우리나라에 엄청 많은데      1\n",
       "3                원곡생각하나도 안나고 러블리즈 신곡나온줄!!! 너무 예쁘게 잘봤어요      0\n",
       "4                                   장현승 얘도 참 이젠 짠하다...      0\n",
       "..                                                 ...    ...\n",
       "969                     대박 게스트... 꼭 봐야징~ 컨셉이 바뀌니깐 재미지넹      0\n",
       "970  성형으로 다 뜯어고쳐놓고 예쁜척. 성형 전 니 얼굴 다 알고있다. 순자처럼 된장냄새...      1\n",
       "971  분위기는 비슷하다만 전혀다른 전개던데 무슨ㅋㅋㄱ 우리나라사람들은 분위기만 비슷하면 ...      0\n",
       "972                               입에 손가릭이 10개 있으니 징그럽다      2\n",
       "973                              난 조보아 이뻐서 보는데 백종원 관심무      0\n",
       "\n",
       "[974 rows x 2 columns]"
      ]
     },
     "execution_count": 79,
     "metadata": {},
     "output_type": "execute_result"
    }
   ],
   "source": [
    "submit_MC"
   ]
  },
  {
   "cell_type": "code",
   "execution_count": 80,
   "metadata": {},
   "outputs": [
    {
     "data": {
      "text/html": [
       "<div>\n",
       "<style scoped>\n",
       "    .dataframe tbody tr th:only-of-type {\n",
       "        vertical-align: middle;\n",
       "    }\n",
       "\n",
       "    .dataframe tbody tr th {\n",
       "        vertical-align: top;\n",
       "    }\n",
       "\n",
       "    .dataframe thead th {\n",
       "        text-align: right;\n",
       "    }\n",
       "</style>\n",
       "<table border=\"1\" class=\"dataframe\">\n",
       "  <thead>\n",
       "    <tr style=\"text-align: right;\">\n",
       "      <th></th>\n",
       "      <th>comments</th>\n",
       "      <th>label</th>\n",
       "    </tr>\n",
       "  </thead>\n",
       "  <tbody>\n",
       "    <tr>\n",
       "      <th>0</th>\n",
       "      <td>ㅋㅋㅋㅋ 그래도 조아해주는 팬들 많아서 좋겠다 ㅠㅠ 니들은 온유가 안만져줌 ㅠㅠ</td>\n",
       "      <td>0</td>\n",
       "    </tr>\n",
       "    <tr>\n",
       "      <th>1</th>\n",
       "      <td>둘다 넘 좋다~행복하세요</td>\n",
       "      <td>0</td>\n",
       "    </tr>\n",
       "    <tr>\n",
       "      <th>2</th>\n",
       "      <td>근데 만원이하는 현금결제만 하라고 써놓은집 우리나라에 엄청 많은데</td>\n",
       "      <td>1</td>\n",
       "    </tr>\n",
       "    <tr>\n",
       "      <th>3</th>\n",
       "      <td>원곡생각하나도 안나고 러블리즈 신곡나온줄!!! 너무 예쁘게 잘봤어요</td>\n",
       "      <td>0</td>\n",
       "    </tr>\n",
       "    <tr>\n",
       "      <th>4</th>\n",
       "      <td>장현승 얘도 참 이젠 짠하다...</td>\n",
       "      <td>0</td>\n",
       "    </tr>\n",
       "    <tr>\n",
       "      <th>...</th>\n",
       "      <td>...</td>\n",
       "      <td>...</td>\n",
       "    </tr>\n",
       "    <tr>\n",
       "      <th>969</th>\n",
       "      <td>대박 게스트... 꼭 봐야징~ 컨셉이 바뀌니깐 재미지넹</td>\n",
       "      <td>0</td>\n",
       "    </tr>\n",
       "    <tr>\n",
       "      <th>970</th>\n",
       "      <td>성형으로 다 뜯어고쳐놓고 예쁜척. 성형 전 니 얼굴 다 알고있다. 순자처럼 된장냄새...</td>\n",
       "      <td>1</td>\n",
       "    </tr>\n",
       "    <tr>\n",
       "      <th>971</th>\n",
       "      <td>분위기는 비슷하다만 전혀다른 전개던데 무슨ㅋㅋㄱ 우리나라사람들은 분위기만 비슷하면 ...</td>\n",
       "      <td>0</td>\n",
       "    </tr>\n",
       "    <tr>\n",
       "      <th>972</th>\n",
       "      <td>입에 손가릭이 10개 있으니 징그럽다</td>\n",
       "      <td>1</td>\n",
       "    </tr>\n",
       "    <tr>\n",
       "      <th>973</th>\n",
       "      <td>난 조보아 이뻐서 보는데 백종원 관심무</td>\n",
       "      <td>0</td>\n",
       "    </tr>\n",
       "  </tbody>\n",
       "</table>\n",
       "<p>974 rows × 2 columns</p>\n",
       "</div>"
      ],
      "text/plain": [
       "                                              comments  label\n",
       "0         ㅋㅋㅋㅋ 그래도 조아해주는 팬들 많아서 좋겠다 ㅠㅠ 니들은 온유가 안만져줌 ㅠㅠ      0\n",
       "1                                        둘다 넘 좋다~행복하세요      0\n",
       "2                 근데 만원이하는 현금결제만 하라고 써놓은집 우리나라에 엄청 많은데      1\n",
       "3                원곡생각하나도 안나고 러블리즈 신곡나온줄!!! 너무 예쁘게 잘봤어요      0\n",
       "4                                   장현승 얘도 참 이젠 짠하다...      0\n",
       "..                                                 ...    ...\n",
       "969                     대박 게스트... 꼭 봐야징~ 컨셉이 바뀌니깐 재미지넹      0\n",
       "970  성형으로 다 뜯어고쳐놓고 예쁜척. 성형 전 니 얼굴 다 알고있다. 순자처럼 된장냄새...      1\n",
       "971  분위기는 비슷하다만 전혀다른 전개던데 무슨ㅋㅋㄱ 우리나라사람들은 분위기만 비슷하면 ...      0\n",
       "972                               입에 손가릭이 10개 있으니 징그럽다      1\n",
       "973                              난 조보아 이뻐서 보는데 백종원 관심무      0\n",
       "\n",
       "[974 rows x 2 columns]"
      ]
     },
     "execution_count": 80,
     "metadata": {},
     "output_type": "execute_result"
    }
   ],
   "source": [
    "submit_NB"
   ]
  },
  {
   "cell_type": "code",
   "execution_count": null,
   "metadata": {},
   "outputs": [],
   "source": []
  },
  {
   "cell_type": "code",
   "execution_count": null,
   "metadata": {},
   "outputs": [],
   "source": []
  }
 ],
 "metadata": {
  "kernelspec": {
   "display_name": "Python 3",
   "language": "python",
   "name": "python3"
  },
  "language_info": {
   "codemirror_mode": {
    "name": "ipython",
    "version": 3
   },
   "file_extension": ".py",
   "mimetype": "text/x-python",
   "name": "python",
   "nbconvert_exporter": "python",
   "pygments_lexer": "ipython3",
   "version": "3.8.3"
  }
 },
 "nbformat": 4,
 "nbformat_minor": 4
}
