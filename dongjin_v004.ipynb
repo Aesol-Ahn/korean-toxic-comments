{
 "cells": [
  {
   "cell_type": "code",
   "execution_count": 1,
   "metadata": {},
   "outputs": [],
   "source": [
    "import numpy as np\n",
    "import pandas as pd\n",
    "import seaborn as sns\n",
    "import matplotlib.pyplot as plt\n",
    "from konlpy.tag import Okt\n",
    "from konlpy.utils import partition\n",
    "import re"
   ]
  },
  {
   "cell_type": "markdown",
   "metadata": {},
   "source": [
    "# 데이터 가져오기"
   ]
  },
  {
   "cell_type": "code",
   "execution_count": 2,
   "metadata": {},
   "outputs": [],
   "source": [
    "train=pd.read_csv('data/train.hate.csv')"
   ]
  },
  {
   "cell_type": "code",
   "execution_count": 3,
   "metadata": {},
   "outputs": [],
   "source": [
    "dev=pd.read_csv('data/dev.hate.csv')"
   ]
  },
  {
   "cell_type": "code",
   "execution_count": 4,
   "metadata": {},
   "outputs": [],
   "source": [
    "test=pd.read_csv('data/test.hate.no_label.csv')\n",
    "test_row=pd.read_csv('data/test.hate.no_label.csv')"
   ]
  },
  {
   "cell_type": "code",
   "execution_count": 5,
   "metadata": {},
   "outputs": [
    {
     "name": "stdout",
     "output_type": "stream",
     "text": [
      "<class 'pandas.core.frame.DataFrame'>\n",
      "RangeIndex: 471 entries, 0 to 470\n",
      "Data columns (total 2 columns):\n",
      " #   Column    Non-Null Count  Dtype \n",
      "---  ------    --------------  ----- \n",
      " 0   comments  471 non-null    object\n",
      " 1   label     471 non-null    object\n",
      "dtypes: object(2)\n",
      "memory usage: 7.5+ KB\n"
     ]
    }
   ],
   "source": [
    "dev.info()"
   ]
  },
  {
   "cell_type": "code",
   "execution_count": 6,
   "metadata": {},
   "outputs": [
    {
     "name": "stdout",
     "output_type": "stream",
     "text": [
      "<class 'pandas.core.frame.DataFrame'>\n",
      "RangeIndex: 7896 entries, 0 to 7895\n",
      "Data columns (total 2 columns):\n",
      " #   Column    Non-Null Count  Dtype \n",
      "---  ------    --------------  ----- \n",
      " 0   comments  7896 non-null   object\n",
      " 1   label     7896 non-null   object\n",
      "dtypes: object(2)\n",
      "memory usage: 123.5+ KB\n"
     ]
    }
   ],
   "source": [
    "train.info()"
   ]
  },
  {
   "cell_type": "code",
   "execution_count": 7,
   "metadata": {
    "scrolled": true
   },
   "outputs": [
    {
     "name": "stdout",
     "output_type": "stream",
     "text": [
      "<class 'pandas.core.frame.DataFrame'>\n",
      "RangeIndex: 974 entries, 0 to 973\n",
      "Data columns (total 1 columns):\n",
      " #   Column    Non-Null Count  Dtype \n",
      "---  ------    --------------  ----- \n",
      " 0   comments  974 non-null    object\n",
      "dtypes: object(1)\n",
      "memory usage: 7.7+ KB\n"
     ]
    }
   ],
   "source": [
    "test.info()"
   ]
  },
  {
   "cell_type": "code",
   "execution_count": 8,
   "metadata": {},
   "outputs": [],
   "source": [
    "train=pd.concat([train,dev])  #7896:"
   ]
  },
  {
   "cell_type": "code",
   "execution_count": 9,
   "metadata": {},
   "outputs": [
    {
     "data": {
      "text/html": [
       "<div>\n",
       "<style scoped>\n",
       "    .dataframe tbody tr th:only-of-type {\n",
       "        vertical-align: middle;\n",
       "    }\n",
       "\n",
       "    .dataframe tbody tr th {\n",
       "        vertical-align: top;\n",
       "    }\n",
       "\n",
       "    .dataframe thead th {\n",
       "        text-align: right;\n",
       "    }\n",
       "</style>\n",
       "<table border=\"1\" class=\"dataframe\">\n",
       "  <thead>\n",
       "    <tr style=\"text-align: right;\">\n",
       "      <th></th>\n",
       "      <th>comments</th>\n",
       "      <th>label</th>\n",
       "    </tr>\n",
       "  </thead>\n",
       "  <tbody>\n",
       "    <tr>\n",
       "      <th>0</th>\n",
       "      <td>(현재 호텔주인 심정) 아18 난 마른하늘에 날벼락맞고 호텔망하게생겼는데 누군 계속...</td>\n",
       "      <td>hate</td>\n",
       "    </tr>\n",
       "    <tr>\n",
       "      <th>1</th>\n",
       "      <td>....한국적인 미인의 대표적인 분...너무나 곱고아름다운모습...그모습뒤의 슬픔을...</td>\n",
       "      <td>none</td>\n",
       "    </tr>\n",
       "    <tr>\n",
       "      <th>2</th>\n",
       "      <td>...못된 넘들...남의 고통을 즐겼던 넘들..이젠 마땅한 처벌을 받아야지..,그래...</td>\n",
       "      <td>hate</td>\n",
       "    </tr>\n",
       "    <tr>\n",
       "      <th>3</th>\n",
       "      <td>1,2화 어설펐는데 3,4화 지나서부터는 갈수록 너무 재밌던데</td>\n",
       "      <td>none</td>\n",
       "    </tr>\n",
       "    <tr>\n",
       "      <th>4</th>\n",
       "      <td>1. 사람 얼굴 손톱으로 긁은것은 인격살해이고2. 동영상이 몰카냐? 메걸리안들 생각...</td>\n",
       "      <td>hate</td>\n",
       "    </tr>\n",
       "    <tr>\n",
       "      <th>...</th>\n",
       "      <td>...</td>\n",
       "      <td>...</td>\n",
       "    </tr>\n",
       "    <tr>\n",
       "      <th>466</th>\n",
       "      <td>지현우 범죄 저지르지 않았나요?</td>\n",
       "      <td>offensive</td>\n",
       "    </tr>\n",
       "    <tr>\n",
       "      <th>467</th>\n",
       "      <td>여자인생 망칠 일 있나 ㅋㅋ</td>\n",
       "      <td>hate</td>\n",
       "    </tr>\n",
       "    <tr>\n",
       "      <th>468</th>\n",
       "      <td>근데 전라도에서 사고가 났는데 굳이 서울까지 와서 병원에 가느 이유는?</td>\n",
       "      <td>offensive</td>\n",
       "    </tr>\n",
       "    <tr>\n",
       "      <th>469</th>\n",
       "      <td>할매젖x, 뱃살x, 몸매 s라인, 유륜은 적당해야됨(너무크거나 너무 작아도 x), ...</td>\n",
       "      <td>hate</td>\n",
       "    </tr>\n",
       "    <tr>\n",
       "      <th>470</th>\n",
       "      <td>남자가 잘못한거라면... 반성도 없다면...나였다면 ... 여자처럼 아주 못되게 할...</td>\n",
       "      <td>none</td>\n",
       "    </tr>\n",
       "  </tbody>\n",
       "</table>\n",
       "<p>8367 rows × 2 columns</p>\n",
       "</div>"
      ],
      "text/plain": [
       "                                              comments      label\n",
       "0    (현재 호텔주인 심정) 아18 난 마른하늘에 날벼락맞고 호텔망하게생겼는데 누군 계속...       hate\n",
       "1    ....한국적인 미인의 대표적인 분...너무나 곱고아름다운모습...그모습뒤의 슬픔을...       none\n",
       "2    ...못된 넘들...남의 고통을 즐겼던 넘들..이젠 마땅한 처벌을 받아야지..,그래...       hate\n",
       "3                   1,2화 어설펐는데 3,4화 지나서부터는 갈수록 너무 재밌던데       none\n",
       "4    1. 사람 얼굴 손톱으로 긁은것은 인격살해이고2. 동영상이 몰카냐? 메걸리안들 생각...       hate\n",
       "..                                                 ...        ...\n",
       "466                                  지현우 범죄 저지르지 않았나요?  offensive\n",
       "467                                    여자인생 망칠 일 있나 ㅋㅋ       hate\n",
       "468            근데 전라도에서 사고가 났는데 굳이 서울까지 와서 병원에 가느 이유는?  offensive\n",
       "469  할매젖x, 뱃살x, 몸매 s라인, 유륜은 적당해야됨(너무크거나 너무 작아도 x), ...       hate\n",
       "470  남자가 잘못한거라면... 반성도 없다면...나였다면 ... 여자처럼 아주 못되게 할...       none\n",
       "\n",
       "[8367 rows x 2 columns]"
      ]
     },
     "execution_count": 9,
     "metadata": {},
     "output_type": "execute_result"
    }
   ],
   "source": [
    "train"
   ]
  },
  {
   "cell_type": "code",
   "execution_count": 10,
   "metadata": {
    "scrolled": true
   },
   "outputs": [
    {
     "data": {
      "text/plain": [
       "<matplotlib.axes._subplots.AxesSubplot at 0x25786411310>"
      ]
     },
     "execution_count": 10,
     "metadata": {},
     "output_type": "execute_result"
    },
    {
     "data": {
      "image/png": "[encoded data removed]",
      "text/plain": [
       "<Figure size 432x288 with 1 Axes>"
      ]
     },
     "metadata": {
      "needs_background": "light"
     },
     "output_type": "display_data"
    }
   ],
   "source": [
    "train['label'].value_counts()\n",
    "train['label'].value_counts().plot(kind='bar')"
   ]
  },
  {
   "cell_type": "code",
   "execution_count": 11,
   "metadata": {},
   "outputs": [],
   "source": [
    "train['label']=train['label'].map({'none':0,'offensive':1,'hate':2})"
   ]
  },
  {
   "cell_type": "code",
   "execution_count": 12,
   "metadata": {},
   "outputs": [
    {
     "data": {
      "text/html": [
       "<div>\n",
       "<style scoped>\n",
       "    .dataframe tbody tr th:only-of-type {\n",
       "        vertical-align: middle;\n",
       "    }\n",
       "\n",
       "    .dataframe tbody tr th {\n",
       "        vertical-align: top;\n",
       "    }\n",
       "\n",
       "    .dataframe thead th {\n",
       "        text-align: right;\n",
       "    }\n",
       "</style>\n",
       "<table border=\"1\" class=\"dataframe\">\n",
       "  <thead>\n",
       "    <tr style=\"text-align: right;\">\n",
       "      <th></th>\n",
       "      <th>comments</th>\n",
       "      <th>label</th>\n",
       "    </tr>\n",
       "  </thead>\n",
       "  <tbody>\n",
       "    <tr>\n",
       "      <th>0</th>\n",
       "      <td>(현재 호텔주인 심정) 아18 난 마른하늘에 날벼락맞고 호텔망하게생겼는데 누군 계속...</td>\n",
       "      <td>2</td>\n",
       "    </tr>\n",
       "    <tr>\n",
       "      <th>1</th>\n",
       "      <td>....한국적인 미인의 대표적인 분...너무나 곱고아름다운모습...그모습뒤의 슬픔을...</td>\n",
       "      <td>0</td>\n",
       "    </tr>\n",
       "    <tr>\n",
       "      <th>2</th>\n",
       "      <td>...못된 넘들...남의 고통을 즐겼던 넘들..이젠 마땅한 처벌을 받아야지..,그래...</td>\n",
       "      <td>2</td>\n",
       "    </tr>\n",
       "    <tr>\n",
       "      <th>3</th>\n",
       "      <td>1,2화 어설펐는데 3,4화 지나서부터는 갈수록 너무 재밌던데</td>\n",
       "      <td>0</td>\n",
       "    </tr>\n",
       "    <tr>\n",
       "      <th>4</th>\n",
       "      <td>1. 사람 얼굴 손톱으로 긁은것은 인격살해이고2. 동영상이 몰카냐? 메걸리안들 생각...</td>\n",
       "      <td>2</td>\n",
       "    </tr>\n",
       "  </tbody>\n",
       "</table>\n",
       "</div>"
      ],
      "text/plain": [
       "                                            comments  label\n",
       "0  (현재 호텔주인 심정) 아18 난 마른하늘에 날벼락맞고 호텔망하게생겼는데 누군 계속...      2\n",
       "1  ....한국적인 미인의 대표적인 분...너무나 곱고아름다운모습...그모습뒤의 슬픔을...      0\n",
       "2  ...못된 넘들...남의 고통을 즐겼던 넘들..이젠 마땅한 처벌을 받아야지..,그래...      2\n",
       "3                 1,2화 어설펐는데 3,4화 지나서부터는 갈수록 너무 재밌던데      0\n",
       "4  1. 사람 얼굴 손톱으로 긁은것은 인격살해이고2. 동영상이 몰카냐? 메걸리안들 생각...      2"
      ]
     },
     "execution_count": 12,
     "metadata": {},
     "output_type": "execute_result"
    }
   ],
   "source": [
    "train.head()"
   ]
  },
  {
   "cell_type": "markdown",
   "metadata": {},
   "source": [
    "# 데이터 전처리"
   ]
  },
  {
   "cell_type": "code",
   "execution_count": null,
   "metadata": {},
   "outputs": [],
   "source": [
    "stopword=['아','휴','아이구','아이쿠','아이고','어','나','우리','저희','따라','의해','을','를','에','의','가','으로','로','에게','뿐이다','의거하여','근거하여','입각하여','기준으로',\n",
    "'예하면','예를 들면','예를 들자면','저','소인','소생','저희','지말고','하지마','하지마라','다른','물론','또한','그리고','비길수 없다','해서는 안된다','뿐만 아니라','만이 아니다',\n",
    "'만은 아니다','막론하고','관계없이','그치지 않다','그러나','그런데','하지만','든간에','논하지 않다','따지지 않다','설사','비록','더라도','아니면','만' '못하다','하는 편이 낫다',\n",
    "'불문하고','향하여','향해서','향하다','쪽으로','틈타','이용하여','타다','오르다','제외하고','이 외에','이 밖에','하여야','비로소','한다면' '몰라도','외에도','이곳','여기','부터',\n",
    "'기점으로,따라서','할 생각이다','하려고하다','이리하여','그리하여','그렇게' '함으로써','하지만','일때','할때','앞에서','중에서','보는데서','으로써','로써','까지','해야한다',\n",
    "'일것이다','반드시','할줄알다','할수있다','할수있어','임에 틀림없다','한다면','등','등등','제','겨우','단지','다만','할뿐','딩동','댕그','대해서','대하여','대하면','훨씬','얼마나',\n",
    "'얼마만큼','얼마큼','남짓','여','얼마간','약간','다소','좀','조금','다수','몇','얼마','지만','하물며','또한','그러나','그렇지만','하지만','이외에도','대해 말하자면','뿐이다','다음에',\n",
    "'반대로','반대로 말하자면','이와 반대로','바꾸어서 말하면','바꾸어서 한다면','만약','그렇지않으면','까악','툭','딱','삐걱거리다','보드득','비걱거리다','꽈당','응당','해야한다',\n",
    "'에 가서','각','각각','여러분','각종','각자','제각기','하도록하다','와','과','그러므로','그래서','고로','한 까닭에','하기 때문에','거니와','이지만','대하여','관하여','관한','과연',\n",
    "'실로','아니나다를가','생각한대로','진짜로','한적이있다','하곤하였다','하','하하','허허','아하','거바','와','오','왜','어째서','무엇때문에','어찌','하겠는가','무슨','어디','어느곳',\n",
    "'더군다나','하물며','더욱이는','어느때','언제','야','이봐','어이','여보시오','흐흐','흥','휴','헉헉','헐떡헐떡','영차','여차','어기여차','끙끙','아야','앗','아야','콸콸','졸졸','좍좍','뚝뚝',\n",
    "'주룩주룩','솨','우르르','그래도','또','그리고','바꾸어말하면','바꾸어말하자면','혹은','혹시','답다','및','그에 따르는','때가 되어','즉','지든지','설령','가령','하더라도','할지라도',\n",
    "'일지라도','지든지','몇','거의,하마터면','인젠','이젠','된바에야','된이상','만큼','어찌됏든','그위에','게다가','점에서 보아','비추어 보아','고려하면','하게될것이다','일것이다',\n",
    "'비교적','좀','보다더','비하면','시키다','하게하다','할만하다','의해서','연이서','이어서','잇따라','뒤따라','뒤이어','결국','의지하여','기대여','통하여','자마자','더욱더','불구하고',\n",
    "'얼마든지','마음대로','주저하지 않고','곧','즉시','바로','당장','하자마자','밖에' '안된다','하면된다','그래','그렇지','요컨대','다시 말하자면','바꿔 말하면','즉','구체적으로',\n",
    "'말하자면','시작하여','시초에','이상','허','헉','허걱','바와같이','해도좋다','해도된다','게다가','더구나','하물며','와르르','팍','퍽','펄렁','동안','이래','하고있었다','이었다','에서',\n",
    "'로부터','까지','예하면','했어요','해요','함께','같이','더불어','마저','마저도','양자','모두','습니다','가까스로','하려고하다','즈음하여','다른','다른 방면으로','해봐요','습니까',\n",
    "'했어요','말할것도 없고','무릎쓰고','개의치않고','하는것만 못하다','하는것이 낫다','매','매번','들','모','어느것','어느','로써','갖고말하자면','어디','어느쪽','어느것','어느해',\n",
    "'어느 년도','라' '해도','언젠가','어떤것','어느것','저기','저쪽','저것','그때','그럼','그러면','요만한걸','그래','그때','저것만큼','그저','이르기까지','할 줄 안다','할 힘이' '있다',\n",
    "'너','너희','당신','어찌','설마','차라리','할지언정','할지라도','할망정','할지언정','구토하다','게우다','토하다','메쓰겁다','옆사람','퉤','쳇','의거하여','근거하여','의해','따라',\n",
    "'힘입어','그','다음','버금','두번째로','기타','첫번째로','나머지는','그중에서','견지에서','형식으로 쓰여','입장에서','위해서','단지','의해되다','하도록시키다','뿐만아니라',\n",
    "'반대로','전후','전자','앞의것','잠시','잠깐','하면서','그렇지만','다음에','그러한즉','그런즉','남들','아무거나','어찌하든지','같다','비슷하다','예컨대','이럴정도로','어떻게',\n",
    "'만약','만일','위에서' '서술한바와같이','인 듯하다','하지 않는다면','만약에','무엇','무슨','어느','어떤','아래윗','조차','한데','그럼에도 불구하고','여전히','심지어','까지도',\n",
    "'조차도','하지 않도록','않기 위하여','때','시각','무렵','시간','동안','어때','어떠한','하여금','네','예','우선','누구','누가' '알겠는가','아무도','줄은모른다','줄은 몰랏다','하는 김에',\n",
    "'겸사겸사','하는바','그런 까닭에','한 이유는','그러니','그러니까','때문에','그','너희','그들','너희들','타인','것','것들','너','위하여','공동으로','동시에','하기 위하여','어찌하여',\n",
    "'무엇때문에','붕붕','윙윙','나','우리','엉엉','휘익','윙윙','오호','아하','어쨋든','만 못하다','하기보다는','차라리,하는 편이 낫다','흐흐','놀라다','상대적으로 말하자면','마치',\n",
    "'아니라면','쉿','그렇지 않으면','그렇지' '않다면','안 그러면','아니었다면','하든지','아니면','이라면','좋아','알았어','하는것도','그만이다','어쩔수 없다','하나','일','일반적으로',\n",
    "'일단','한켠으로는','오자마자','이렇게되면','이와같다면','전부','한마디','한항목','근거로','하기에','아울러','하지 않도록','않기 위해서','이르기까지','이 되다','로 인하여',\n",
    "'까닭으로','이유만으로','이로 인하여','그래서','이 때문에','그러므로','그런 까닭에','알 수 있다','결론을 낼 수 있다','으로 인하여','있다','어떤것','관계가 있다','관련이 있다',\n",
    "'연관되다','어떤것들','에 대해','이리하여','그리하여','여부','하기보다는','하느니','하면 할수록','운운','이러이러하다','하구나','하도다','다시말하면','다음으로','에 있다',\n",
    "'에 달려 있다','우리','우리들','오히려','하기는한데','어떻게','어떻해','어찌됏어','어때','어째서','본대로','자','이','이쪽','여기','이것','이번','이렇게말하자면','이런','이러한',\n",
    "'이와 같은','요만큼','요만한 것','얼마 안 되는 것','이만큼','이 정도의','이렇게 많은 것','이와 같다','이때','이렇구나','것과 같이','끼익','삐걱,따위','와 같은 사람들',\n",
    "'부류의 사람들','왜냐하면','중의하나','오직','오로지','에 한하다','하기만 하면','도착하다','까지 미치다','도달하다','정도에 이르다','할 지경이다','결과에 이르다','관해서는',\n",
    "'여러분','하고 있다','한 후','혼자','자기','자기집','자신','우에' '종합한것과같이','총적으로' '보면','총적으로' '말하면','총적으로','대로 하다','으로서','참','그만이다','할 따름이다','쿵',\n",
    "'탕탕','쾅쾅','둥둥','봐','봐라','아이야','아니','와아','응','아이','참나','년','월','일','령','영','일','이','삼','사','오','육','륙','칠','팔','구','이천육','이천칠','이천팔','이천구','하나','둘','셋',\n",
    "'넷','다섯','여섯','일곱','여덟','아홉','령','영']"
   ]
  },
  {
   "cell_type": "code",
   "execution_count": 13,
   "metadata": {},
   "outputs": [],
   "source": [
    "wordDict={\"[^ㄱ-ㅎ가-힣 ]\":\" \",'[\\d+]':' ','[ㅡ+]':'','[ㅠ+]':'','[ㅜ+]':'','[ㄱ-ㅎ]':'','[ㅏ-ㅣ]':'','ᆢᆢ':''}"
   ]
  },
  {
   "cell_type": "code",
   "execution_count": 14,
   "metadata": {},
   "outputs": [],
   "source": [
    "for i,j in wordDict.items():\n",
    "    train['comments']=train.comments.str.replace(i,j)\n",
    "    test['comments']=test.comments.str.replace(i,j)"
   ]
  },
  {
   "cell_type": "code",
   "execution_count": 15,
   "metadata": {},
   "outputs": [],
   "source": [
    "def cw(x):\n",
    "    simdict={'추카':'축하'\n",
    "            }\n",
    "    for index,word in simdict.items():\n",
    "        return re.sub(index,word,x)"
   ]
  },
  {
   "cell_type": "code",
   "execution_count": 16,
   "metadata": {},
   "outputs": [],
   "source": [
    "train['comments']=train.comments.apply(cw)\n",
    "test['comments']=test.comments.apply(cw)"
   ]
  },
  {
   "cell_type": "code",
   "execution_count": 17,
   "metadata": {},
   "outputs": [
    {
     "data": {
      "text/html": [
       "<div>\n",
       "<style scoped>\n",
       "    .dataframe tbody tr th:only-of-type {\n",
       "        vertical-align: middle;\n",
       "    }\n",
       "\n",
       "    .dataframe tbody tr th {\n",
       "        vertical-align: top;\n",
       "    }\n",
       "\n",
       "    .dataframe thead th {\n",
       "        text-align: right;\n",
       "    }\n",
       "</style>\n",
       "<table border=\"1\" class=\"dataframe\">\n",
       "  <thead>\n",
       "    <tr style=\"text-align: right;\">\n",
       "      <th></th>\n",
       "      <th>comments</th>\n",
       "      <th>label</th>\n",
       "    </tr>\n",
       "  </thead>\n",
       "  <tbody>\n",
       "    <tr>\n",
       "      <th>0</th>\n",
       "      <td>현재 호텔주인 심정  아   난 마른하늘에 날벼락맞고 호텔망하게생겼는데 누군 계속...</td>\n",
       "      <td>2</td>\n",
       "    </tr>\n",
       "    <tr>\n",
       "      <th>1</th>\n",
       "      <td>한국적인 미인의 대표적인 분   너무나 곱고아름다운모습   그모습뒤의 슬픔을...</td>\n",
       "      <td>0</td>\n",
       "    </tr>\n",
       "    <tr>\n",
       "      <th>2</th>\n",
       "      <td>못된 넘들   남의 고통을 즐겼던 넘들  이젠 마땅한 처벌을 받아야지   그래...</td>\n",
       "      <td>2</td>\n",
       "    </tr>\n",
       "    <tr>\n",
       "      <th>3</th>\n",
       "      <td>화 어설펐는데    화 지나서부터는 갈수록 너무 재밌던데</td>\n",
       "      <td>0</td>\n",
       "    </tr>\n",
       "    <tr>\n",
       "      <th>4</th>\n",
       "      <td>사람 얼굴 손톱으로 긁은것은 인격살해이고   동영상이 몰카냐  메걸리안들 생각...</td>\n",
       "      <td>2</td>\n",
       "    </tr>\n",
       "  </tbody>\n",
       "</table>\n",
       "</div>"
      ],
      "text/plain": [
       "                                            comments  label\n",
       "0   현재 호텔주인 심정  아   난 마른하늘에 날벼락맞고 호텔망하게생겼는데 누군 계속...      2\n",
       "1      한국적인 미인의 대표적인 분   너무나 곱고아름다운모습   그모습뒤의 슬픔을...      0\n",
       "2     못된 넘들   남의 고통을 즐겼던 넘들  이젠 마땅한 처벌을 받아야지   그래...      2\n",
       "3                    화 어설펐는데    화 지나서부터는 갈수록 너무 재밌던데      0\n",
       "4     사람 얼굴 손톱으로 긁은것은 인격살해이고   동영상이 몰카냐  메걸리안들 생각...      2"
      ]
     },
     "execution_count": 17,
     "metadata": {},
     "output_type": "execute_result"
    }
   ],
   "source": [
    "train.head()"
   ]
  },
  {
   "cell_type": "markdown",
   "metadata": {},
   "source": [
    "### 문자=> 숫자 (단어 길이와 빈도수를 조절)"
   ]
  },
  {
   "cell_type": "code",
   "execution_count": 18,
   "metadata": {},
   "outputs": [],
   "source": [
    "n=1  #단어 길이\n",
    "m=1  # 빈도수"
   ]
  },
  {
   "cell_type": "code",
   "execution_count": 19,
   "metadata": {},
   "outputs": [
    {
     "name": "stderr",
     "output_type": "stream",
     "text": [
      "C:\\ProgramData\\Anaconda3\\lib\\site-packages\\pandas\\core\\indexing.py:671: SettingWithCopyWarning: \n",
      "A value is trying to be set on a copy of a slice from a DataFrame\n",
      "\n",
      "See the caveats in the documentation: https://pandas.pydata.org/pandas-docs/stable/user_guide/indexing.html#returning-a-view-versus-a-copy\n",
      "  self._setitem_with_indexer(indexer, value)\n"
     ]
    }
   ],
   "source": [
    "okt=Okt()\n",
    "wordList=[]\n",
    "word_index={}\n",
    "wordCount={}\n",
    "train['corpus']=0\n",
    "for index ,sentencs in enumerate(train.comments):\n",
    "    words=okt.morphs(sentencs,norm=True,stem=True)\n",
    "    train['corpus'].iloc[index]=words\n",
    "    for word in words:\n",
    "        if word not in stopword:\n",
    "            if len(word) >= n:\n",
    "                if word not in wordList:\n",
    "                    wordCount[word]=1\n",
    "                    wordList.append(word)\n",
    "                else:\n",
    "                    wordCount[word]=wordCount[word]+1\n",
    "wordList=[]                \n",
    "for words in train['corpus']:\n",
    "    for word in words:\n",
    "        if word not in stopword:\n",
    "            if len(word) >=n:\n",
    "                if wordCount[word] >= m:\n",
    "                    if word not in wordList:\n",
    "                        word_index[word]=len(wordList)\n",
    "                        wordList.append(word)"
   ]
  },
  {
   "cell_type": "code",
   "execution_count": 20,
   "metadata": {},
   "outputs": [],
   "source": [
    "testarray=[]\n",
    "test['corpus']=0\n",
    "for index ,sentencs in enumerate(test.comments):\n",
    "    words=okt.morphs(sentencs,norm=True,stem=True)\n",
    "    test['corpus'].iloc[index]=words\n",
    "    temp=[0]*len(word_index)\n",
    "    for word in words:\n",
    "        if word in word_index.keys():\n",
    "            temp[word_index[word]]=1\n",
    "    testarray.append(temp)"
   ]
  },
  {
   "cell_type": "code",
   "execution_count": 21,
   "metadata": {
    "scrolled": false
   },
   "outputs": [
    {
     "name": "stdout",
     "output_type": "stream",
     "text": [
      "['가가', '가게', '가격', '가관', '가구', '가기', '가까워지다', '가까이', '가깝다', '가꾸다', '가끔', '가나', '가난하다', '가는삘', '가늘다', '가능', '가능성', '가능하다', '가다', '가도', '가드', '가득', '가득하다', '가든', '가라', '가락', '가려지다', '가로', '가로세로', '가루', '가르다', '가르치다', '가리다', '가리키다', '가마니', '가만', '가만있다', '가만히', '가망', '가맹', '가면', '가목', '가문', '가뭄', '가발', '가방', '가버리다', '가볍다', '가보', '가보다', '가부장제', '가비', '가뿐하다', '가사', '가사노동', '가성', '가세', '가소', '가수', '가스', '가스나', '가스레인지', '가슴', '가슴골', '가시', '가시다', '가식', '가신', '가십', '가야', '가엽다', '가엾다', '가오', '가왜', '가요', '가요대전', '가요무대', '가요제', '가운데', '가운데손가락', '가웃', '가을', '가이드', '가인', '가입', '가장', '가전제품', '가점', '가정', '가정교육', '가정사', '가정폭력', '가져가다', '가져오다', '가족', '가족사진', '가중', '가즈', '가즈앙', '가증', '가지', '가지가지', '가지다', '가짜', '가창', '가창력', '가출', '가치', '가치관', '가택', '가하다', '가해', '가해자', '가혹하다', '가희', '가히', '각목', '각본', '각설이', '각시', '각오', '각지', '간', '간걸루', '간다', '간단하다', '간당간당', '간도', '간만', '간부', '간분', '간사', '간수', '간신', '간악', '간이', '간장', '간장게장', '간절하다', '간접', '간지', '간지나다', '간지럽다', '간질간질', '간첩', '간첩선', '간통', '간통죄', '간편식', '간호', '간호사', '간혹', '간후', '갇', '갇은디', '갇히다', '갈구다', '갈기', '갈다', '갈등', '갈라', '갈라고', '갈라지다', '갈리', '갈리다', '갈비', '갈수', '갈수록', '갈아', '갈아엎다', '갈이', '갈증', '감', '감격', '감금', '감기', '감다', '감당', '감독', '감동', '감량', '감바때', '감방', '감빵', '감사', '감사패', '감사하다', '감성', '감싸다', '감옥', '감우성', '감자', '감정', '감정이입', '감지덕지', '감추다', '감치', '감탄', '감투', '감형', '감흥', '감히', '갑', '갑론', '갑바', '갑부', '갑상선', '갑상선암', '갑자기', '갑작스럽다', '갑작스레', '갑지', '갑질', '갑툭튀', '값', '값못', '갓', '갓김치', '강', '강가', '강간', '강간범', '강건', '강경준', '강경헌', '강기영', '강남', '강냠상', '강다니앨', '강단', '강대', '강동', '강동구', '강동원', '강두', '강문영', '강변', '강부자', '강사', '강성훈', '강소라', '강수지', '강씨', '강아지', '강요', '강용석', '강원도', '강원래', '강은비', '강의', '강인', '강정호', '강제', '강조', '강쥐', '강지영', '강지환', '강철', '강추', '강타', '강하늘', '강하니', '강하다', '강한나', '강행', '강혁', '강현석', '강형우', '강호동', '강효진', '갖다', '갖추다', '갘은데', '같든뎈', '같잖다', '갚다', '개', '개강', '개개인', '개고기', '개국', '개그', '개그맨', '개그우먼', '개극혐', '개꼬시', '개꼴', '개꿀', '개꿀임', '개꿀잼', '개년', '개념', '개다', '개독', '개돼지', '개두', '개때', '개떼', '개론', '개리', '개막', '개멋', '개명', '개무시', '개발', '개복', '개봉', '개비', '개빡', '개빻', '개빻아', '개빻았', '개빻았길', '개빻은거', '개뻥', '개뿔', '개성', '개솔', '개솔찍찍', '개쇼', '개시', '개싸움', '개업', '개역', '개연', '개웃', '개월', '개월갓', '개이득', '개이버', '개인', '개인정보', '개입', '개정', '개존잼임', '개종', '개지', '개집', '개쩌', '개쩌넼', '개쪽', '개차반', '개취', '개콘', '개탄', '개토', '개티즌들', '개판', '개패', '개폭망', '개폭망임', '개폼', '개피', '개한민국', '개혁', '객', '객관', '객관성', '갠', '갠차다', '갤러리', '갱', '갸', '갸름하다', '갸우뚱', '걍', '걔', '걔네', '걘', '거', '거가', '거거', '거고', '거구', '거기', '거꾸로', '거나', '거닐다', '거덜', '거도', '거두다', '거들다', '거듭', '거래', '거렸는데', '거렸어용', '거론', '거룩하다', '거르', '거르는', '거르면됨', '거르세', '거르셈', '거르자', '거른다', '거릅니', '거리', '거릴거', '거릿', '거만하다', '거물', '거미', '거미줄', '거부', '거부권', '거북하다', '거세', '거슬렀으면', '거슬리다', '거야', '거여', '거울', '거의', '거임', '거저', '거절', '거제시', '거주', '거지', '거지같다', '거진', '거짓', '거짓말', '거짓말쟁이', '거참', '거치다', '거탑', '거품', '걱정', '걱정스럽다', '건', '건가', '건강', '건강미', '건강하다', '건나블리', '건너가다', '건더기', '건데', '건드리다', '건들', '건딜다', '건모', '건물', '건방지다', '건장하다', '건전하다', '건줄', '건지다', '건축학', '건축학개론', '건후', '걷다', '걸', '걸그룹', '걸다', '걸렀다', '걸렀더', '걸레', '걸리다', '걸보뎅', '걸복', '걸어가다', '걸어오다', '걸이', '걸치다', '검', '검다', '검머', '검머외', '검사', '검색', '검색어', '검인', '검증', '검진', '검찰', '겁', '겁나다', '겁니다', '것일', '것임', '겄', '겉', '겉도', '겉멋', '게', '게다', '게리', '게뭐', '게스트', '게슴츠레', '게시', '게시판', '게왜', '게으르다', '게이', '게이트', '게임', '게임기', '겟', '겟잇뷰티', '겠다', '겧', '겨', '겨뭐', '겨울', '격', '격려', '격변', '격전', '격주', '격차', '격파', '겪다', '견', '견디다', '견적', '견제', '견찰', '결', '결격', '결과', '결단', '결론', '결말', '결방', '결백', '결별', '결식', '결심', '결정', '결탁', '결혼', '결혼반지', '결혼식', '결혼식장', '겸비', '겸손', '겸손하다', '겹', '경', '경계', '경고', '경규', '경기', '경동고', '경력', '경로', '경로당', '경리', '경비', '경사', '경상도', '경솔하다', '경수', '경영', '경우', '경운기', '경원', '경이', '경쟁', '경제', '경제권', '경준', '경찰', '경찰서', '경찰청', '경찰청장', '경치', '경포대', '경향', '경허', '경험', '경호', '곁', '계', '계급', '계기', '계단', '계란후라이', '계산', '계속', '계속계속', '계시', '계시다', '계약', '계약금', '계좌', '계집', '계집애', '계층', '계획', '곘', '고', '고가', '고갈', '고개', '고고', '고구마', '고급', '고급스럽다', '고기', '고난', '고닌', '고달프다', '고대', '고도', '고두심', '고등학교', '고딩', '고라', '고락', '고래', '고려', '고려대', '고루', '고르다', '고마', '고만', '고만고만하다', '고만하다', '고맙다', '고모', '고목', '고문', '고물', '고민', '고발', '고백', '고별', '고부', '고블린', '고사', '고사하고', '고상하다', '고생', '고서', '고성', '고소', '고소영', '고소장', '고소하다', '고속도로', '고수', '고스', '고스톱', '고승', '고씨', '고아', '고아라', '고아원', '고안', '고액', '고약하다', '고얀', '고양이', '고연', '고영', '고영욱', '고요', '고위', '고은님', '고음', '고인', '고자', '고자질', '고작', '고장', '고재', '고정', '고정관념', '고주원', '고지', '고지도', '고지용', '고집', '고추', '고층', '고치', '고치다', '고통', '고통스럽다', '고프다', '고하', '고함', '고해', '고향', '고향이', '고현정', '고후', '곡', '곤', '곤란하다', '곤욕', '곧잘', '골', '골고루', '골골', '골다', '골든', '골로', '골목', '골반', '골병', '골빈', '골수팬', '골잡', '골절', '골키퍼', '골프', '골프대회', '곱', '곱다', '곱상하다', '곱창', '곳', '곳임', '공', '공간', '공감', '공개', '공격', '공경', '공공', '공공재', '공과', '공대생', '공동', '공로', '공룡', '공모', '공복', '공부', '공블리', '공산', '공산당', '공산주의', '공소', '공수', '공식', '공안', '공연', '공연장', '공유', '공이', '공익', '공인', '공자', '공장', '공적', '공정위', '공정하다', '공존', '공주', '공중', '공중파', '공짜', '공통', '공통분모', '공통점', '공평하다', '공포증', '공항', '공화국', '공화당', '공황장애', '공효진', '곺', '과거', '과격하다', '과고', '과관', '과극', '과는', '과대', '과도', '과동', '과메기', '과분', '과세', '과소', '과실치사', '과의', '과일', '과잉', '과정', '과학', '과함', '곽미향', '곽부성', '곽선영', '곽시양', '관', '관객', '관계', '관계자', '관광', '관광지', '관대하다', '관도', '관둘때', '관련', '관리', '관상', '관상학', '관성', '관심', '관심사', '관왕', '관종', '관종끼', '관종임', '관종짓', '관찰', '광고', '광곤줄', '광규', '광대', '광대뼈', '광분', '광산김씨', '광수', '광신도', '광우병', '광장', '광주', '광탈', '광팬', '광화문', '광희', '괜', '괜시리', '괜실히', '괜찬', '괜찮다', '괜히', '괞', '괴', '괴록히는것', '괴롭다', '괴롭히다', '괴롭힘', '괴물', '괴세', '괴짜', '괸심', '괸찬', '굉장하다', '교', '교가', '교감', '교과서', '교도소', '교때', '교만', '교만하다', '교묘하다', '교수', '교육', '교익', '교주', '교체', '교통사고', '교포', '교환', '교활', '교활하다', '교황', '교회', '구강성교', '구걸', '구경', '구경만', '구구단', '구글', '구나', '구내식당', '구독', '구라', '구라쟁이', '구르다', '구리구리', '구리다', '구만', '구매', '구먼', '구멍', '구미호', '구박', '구별', '구보', '구분', '구사', '구상서', '구서', '구석', '구설수', '구성', '구속', '구수하다', '구슬', '구심', '구씨', '구안', '구역질', '구우우욷', '구원', '구원파', '구이', '구입', '구장', '구절', '구정', '구제', '구지', '구질구질', '구질구질하다', '구찌', '구차', '구차하다', '구천', '구체', '구타', '구하라', '구한', '구해', '구현', '구혜선', '국', '국가', '국가대표', '국가부도', '국가수', '국경', '국과수', '국교', '국내', '국립공원', '국물', '국민', '국민대', '국민성', '국민훈장', '국방', '국보', '국뽕', '국산', '국악', '국악인', '국적', '국정', '국정감사', '국제', '국제사회', '국회', '국회의원', '군', '군대', '군더더기', '군법', '군복', '군복무', '군부', '군사', '군생활', '군인', '군자', '굳다', '굳이', '굴', '굴뚝', '굴러가다', '굴려', '굴리', '굵다', '굶다', '굼', '굼미', '굽다', '굿', '굿굿', '굿굿굿', '궁', '궁굼', '궁금', '궁금궁금', '궁금하다', '궁금햄', '궁나', '궁뎅', '궁딩', '궁리', '궁색하다', '궁예', '궁전', '궁합', '궂', '권', '권력', '권력관계', '권력자', '권리', '권상우', '권상훈', '권유', '권태기', '권투', '권하다', '궤변', '귀', '귀감', '귀머거리', '귀신', '귀염', '귀엽다', '귀족', '귀지', '귀찮다', '귀척', '귀하다', '귀환', '규', '규정', '규현', '균형', '그간', '그거', '그건', '그걸', '그것', '그게', '그깟', '그나마', '그나저나', '그날', '그냥', '그네', '그녀', '그늘', '그니', '그니까', '그다음', '그다지', '그닥', '그대', '그대로', '그덯케', '그동안', '그따위', '그딴', '그땐', '그라나다', '그란', '그랫구', '그랬는데', '그러다가', '그러쿠', '그러하다', '그런', '그럴듯하다', '그럿', '그렇게', '그렇다', '그렇다고', '그렇드', '그레이', '그루트', '그룹', '그릇', '그리다', '그림', '그림자', '그립다', '그만', '그만두다', '그만큼', '그만하다', '그사세', '그이', '그중', '그치다', '그케', '극', '극단', '극복', '극성', '극적', '극찬', '극치', '극혐', '극혐임', '극혐학때', '근', '근거', '근다', '근대', '근데', '근래', '근력', '근무', '근본', '근성', '근원', '근육', '근인', '근절', '근처', '근혜', '근황', '글', '글구', '글래머', '글쎄', '글씨', '글씨체', '글자', '글좀', '글쿠', '긁다', '금', '금메달', '금발', '금방', '금보', '금수', '금술', '금액', '금연', '금융', '금융업', '금은', '금전', '금주', '금지', '금지법', '급', '급격하다', '급기야', '급락', '급삭았', '급상승', '급속도', '급수', '급식', '급하다', '긋다', '긍', '긍금하', '긍데', '긍정', '긔', '기', '기간', '기개', '기계', '기고', '기구', '기권', '기기', '기녀', '기념', '기다', '기다리다', '기단', '기대', '기대다', '기대하다', '기도', '기독교', '기러기', '기러기아빠', '기럭지', '기레', '기레기', '기록', '기르다', '기름', '기린', '기막히다', '기만', '기모찌', '기무라', '기미', '기별', '기보', '기본', '기부', '기분', '기쁘다', '기쁨', '기사', '기사도', '기사화', '기생', '기생충', '기석', '기선', '기성복', '기성세대', '기세', '기센', '기소', '기술', '기술자', '기습', '기신', '기안', '기어', '기억', '기억나다', '기업', '기엽다', '기오', '기욤', '기울다', '기웃', '기원', '기은세', '기일', '기입', '기자', '기자회견', '기장', '기저귀', '기적', '기전', '기존', '기준', '기지', '기차', '기초', '기침', '기태영', '기피', '기한', '기형', '기회', '기획', '기획사', '긴장', '긴장감', '길', '길가', '길거리', '길다', '길들이다', '길이', '길쭉하다', '김', '김갑수', '김건모', '김경민', '김경진', '김고은', '김광규', '김광석', '김구라', '김국진', '김기리', '김나영', '김남길', '김남주', '김대', '김대중', '김도균', '김도훈', '김동명', '김동준', '김동현', '김래원', '김명민', '김미화', '김민경', '김민규', '김민서', '김민정', '김민준', '김민희', '김밥', '김범룡', '김범수', '김병만', '김병옥', '김병철', '김보라', '김보미', '김사랑', '김상', '김상중', '김새론', '김새롬', '김생민', '김서형', '김선', '김성구', '김성수', '김성은', '김성재', '김성주', '김세정', '김소연', '김송', '김수미', '김수민', '김수찬', '김수현', '김숙', '김순옥', '김승현', '김신영', '김씨', '김아중', '김애경', '김연아', '김영광', '김영삼', '김영애', '김영철', '김영희', '김예원', '김옥빈', '김완선', '김요', '김용국', '김용진', '김용호', '김우빈', '김원희', '김유석', '김유정', '김윤경', '김윤석', '김윤아', '김은숙', '김인권', '김재욱', '김재중', '김정수', '김정은', '김정현', '김정훈', '김제동', '김종국', '김종민', '김주', '김주원', '김주혁', '김준수', '김준현', '김준호', '김지미', '김지민', '김지석', '김지영', '김지원', '김지철', '김지훈', '김진아', '김진호', '김차', '김창렬', '김창환', '김충재', '김치', '김칫년들', '김칫뇬들', '김태', '김태리', '김태링', '김태송', '김태우', '김태원', '김태호', '김태희', '김포', '김하나', '김하늘', '김학래', '김학의', '김해숙', '김현수', '김현주', '김현중', '김혜나', '김혜림', '김혜수', '김혜숙', '김혜윤', '김혜자', '김혜준', '김흥국', '김희선', '김희애', '김희원', '김희철', '깁스', '깃습니', '깊다', '깊이', '까꿍', '까다롭다', '까덴다', '까맣다', '까먹다', '까메오', '까발리다', '까불까불', '까불다', '까지가', '까지나', '까지는', '까지라도', '까지만', '까지야', '까지와', '까진', '까짓', '까칠하다', '까페', '깍', '깍두기', '깎다', '깐죽이다', '깔껀', '깔끔하다', '깔다', '깜', '깜냥', '깜놀', '깜둥이', '깜방', '깜보', '깜시', '깜짝', '깝', '깝깝', '깝습니', '깝치더', '깡', '깡마르다', '깡패', '깨', '깨갱', '깨끗하다', '깨다', '깨뜨리다', '깨물다', '깨어나다', '깨지다', '깽', '꺄', '꺄악', '꺼', '꺼내다', '꺼리다', '꺼지다', '껀', '껀껀', '껀덕', '껀수하', '껄', '껄끄러운', '껄렁', '껌', '껌값', '껍데기', '껏', '껓뱀이라는둥', '께', '께서', '꼇겟', '꼬', '꼬락서니', '꼬랑내', '꼬름', '꼬리', '꼬마', '꼬맹쓰들', '꼬박', '꼬박꼬박', '꼬셔', '꼬셔놓', '꼬셧을', '꼬시', '꼬시면', '꼬실려', '꼬옥', '꼬이다', '꼬임', '꼭', '꼭두각시', '꼭좀', '꼭지', '꼰', '꼰대', '꼰대들', '꼰대섺꺄', '꼰대임', '꼰데', '꼰머들', '꼴', '꼴값', '꼴깝', '꼴꼴', '꼴다', '꼴뚜기', '꼴랑', '꼴리다', '꼴볼견', '꼴사납다', '꼴쮜', '꼴초', '꼴통', '꼴폐', '꼼꼼하다', '꼼짝', '꼽', '꼽은놈', '꽁', '꽂다', '꽂히다', '꽃', '꽃값', '꽃길', '꽃미남', '꽃뱀', '꽃할배', '꽆', '꽈', '꽉', '꽝', '꽝런', '꽤', '꽥', '꾸기다', '꾸다', '꾸미다', '꾸밈', '꾸역꾸역', '꾸준하다', '꾸짖다', '꾹', '꾼', '꾼돈', '꿀', '꿀꺽', '꿀꿀', '꿀렁꿀렁하', '꿀밤', '꿀잼', '꿀잼각', '꿀잼임', '꿀쟁', '꿇다', '꿈', '꿈꾸다', '꿍', '꿍짝', '꿰매다', '꿰차', '꿰찬다', '뀌기', '끄나풀', '끄다', '끄적', '끊기다', '끊다', '끋', '끌', '끌다', '끌렷는데', '끌리다', '끌어내리다', '끌어당기다', '끓다', '끓이다', '끔찍하다', '끙', '끝', '끝나다', '끝낫', '끝내', '끝내다', '끝물', '끝장', '끝판', '끼', '끼니', '끼다', '끼들', '끼리', '끼리끼리', '끼부리다', '끼어들다', '끼우다', '끼치다', '낄낄', '낄낄대다', '낌', '낌새', '나가다', '나가떨어지다', '나가야', '나경', '나경원', '나나', '나날이', '나년', '나노', '나누다', '나뉘다', '나니', '나다', '나다니다', '나대다', '나들이', '나라', '나랏님', '나랏돈', '나래', '나레이션', '나로', '나르니', '나르다', '나르샤', '나름', '나마', '나머지', '나머진', '나무', '나문희', '나물', '나미', '나바', '나발', '나보이', '나본', '나봄', '나부', '나부랭이', '나빠지다', '나빳다', '나쁘다', '나쁜남자', '나쁜사람', '나사', '나서다', '나소', '나신', '나아', '나아가다', '나아지다', '나안', '나야', '나약하다', '나연', '나영석', '나오니', '나오다', '나와라', '나왓', '나왓거', '나왓다', '나왓으', '나왕', '나요나', '나윤서', '나은', '나이', '나이트클럽', '나인', '나잇', '나중', '나즈', '나코', '나타나다', '나탈리', '나토', '나하', '나혼', '나혼산', '나혼자산다', '나훈아', '낙', '낙동강', '낙시', '낙인', '낙인찍다', '낙태', '낙하', '낚', '낚시', '낚시질', '낚시터', '낚었', '난', '난감하다', '난국', '난동', '난또', '난리', '난리치다', '난무', '난민', '난밥', '난왜안', '난이', '난임으루', '난입', '난장', '난쟁이', '난적', '난중', '난쨍', '난파선', '난폭하다', '난하다', '난해하다', '날', '날개', '날다', '날때', '날뛰다', '날라리', '날로', '날리다', '날벼락', '날수', '날씬', '날씬하다', '날아가다', '날이갈수록', '날조', '날짜', '낡다', '남', '남견는데', '남경', '남궁민', '남규리', '남근', '남기다', '남남', '남녀', '남다', '남다르다', '남도', '남돌', '남동생', '남매', '남모르다', '남발', '남보라', '남부럽다', '남사', '남상미', '남새', '남서', '남성', '남송', '남심', '남아', '남앞', '남양', '남양유업', '남여', '남영동', '남욕', '남일', '남임', '남자', '남자라면', '남자배우', '남자에게', '남자친구', '남장', '남재현', '남주혁', '남지', '남천', '남천동', '남충', '남친', '남탓', '남태현', '남태훈두', '남편', '남피', '남한', '남혐', '납득', '납치', '낫', '낫다', '낭', '낭비', '낭비하다', '낮', '낮다', '낮짝', '낮추다', '낯빛', '낱낱이', '낳다', '낳을', '내', '내기', '내내', '내년', '내놓다', '내다', '내달', '내딸', '내레이션', '내려놓다', '내려오다', '내리다', '내리막', '내막', '내면', '내미다', '내뱉다', '내버리다', '내보내다', '내부', '내비', '내사', '내색', '내세', '내심', '내야', '내용', '내일', '내조', '내주', '내주다', '내지', '내한', '낸시', '낸시랭', '낼', '냄비', '냄새', '냉', '냉랭하다', '냉장고', '냉정하다', '냐', '냔', '냥', '너거', '너넨', '너는내운명', '너덜너덜', '너마저', '너머', '너무', '너무나', '너무나도', '너무하다', '너므', '너비', '너와나', '너저분하다', '너훈아', '넉넉하다', '넌', '널', '널널', '널다', '널렸', '널렸다', '널리', '넓다', '넓이', '넘겨주다', '넘기다', '넘다', '넘사벽', '넘어가다', '넘어서다', '넘어오다', '넘어지다', '넘웃겻어', '넘치다', '넘침', '넙죽', '넝꿀째', '넣다', '네나', '네다섯', '네이버', '네일', '네티즌', '넨', '넬', '넷다', '넷상', '넷플릭스', '넹', '넼', '녀', '녀글', '녀석', '녀자', '녀콘', '년깜방', '년놈', '년대', '년도', '년둘임', '년뒤', '년만됫음', '년살', '년생', '년안', '년일', '년전', '년쯔음', '년차', '녓슴', '녕', '녜', '노', '노견', '노고', '노노', '노답', '노동', '노동자', '노라조', '노랗다', '노래', '노래방', '노랜', '노려보다', '노력', '노름', '노릇', '노리', '노리개', '노리다', '노망', '노무', '노무현', '노미네이트', '노비', '노빠문레기들', '노사연', '노산', '노상', '노선', '노소', '노스', '노안', '노엘', '노예', '노오', '노이즈', '노이즈마케팅', '노인', '노잼', '노조', '노지훈', '노처녀', '노총각', '노출', '노출증', '노출하다', '노친', '노태우', '노트', '노트북', '노홍철', '노화', '노회찬', '녹양동', '녹이다', '녹화', '논', '논란', '논리', '논술', '논스톱', '놀', '놀다', '놀란', '놀람', '놀랍다', '놀래다', '놀리다', '놀이', '놀이터', '놈', '농구', '농낙', '농농', '농단', '농담', '농락', '농염', '농후', '높다', '높아지다', '높이', '높이다', '놓다', '놓이다', '놓치다', '놔두다', '뇌', '뇌가앖는', '뇌구조', '뇌동', '뇌물', '뇌사상태', '뇌절온', '뇌출혈', '뇨', '뇨자', '뇨쟈들', '뇬', '뇬둘', '뇬드', '뇬들', '누', '누가', '누구세요', '누구신지', '누군가', '누군데', '누군지', '누굴', '누나', '누님', '누드', '누렇', '누르다', '누리', '누리다', '누명', '눈', '눈가', '눈감다', '눈길', '눈꼴', '눈꼽', '눈동자', '눈뜨다', '눈물', '눈물나다', '눈부시다', '눈빛', '눈알', '눈앞', '눈요기', '눈좀', '눈치', '눈코입', '눈화장', '눔', '눕다', '눕힌', '뉘세', '뉘집', '뉴', '뉴스', '뉴스룸', '뉴욕', '뉴욕대', '뉴이스트', '뉴질랜드', '느', '느그', '느긋하다', '느껴지다', '느끼다', '느끼하다', '느낌', '느님', '느무', '늑대', '는', '는걸', '는고', '늘', '늘겅', '늘다', '늘리다', '늘씬하다', '늘어놓다', '늘어졋겟', '늘어지다', '늙다', '늙다리', '늙은이', '늙음', '늙탱', '늠', '늠데', '능', '능겨', '능력', '능사', '능성', '늦다', '늬', '늬들', '니', '니까', '니깐', '니넨', '니놈', '니미', '니야', '니엘', '니키', '닌', '님', '님들', '님자', '다', '다가', '다가가다', '다가는', '다가오다', '다거르', '다고', '다그', '다그치다', '다기', '다나', '다녀가다', '다녀오다', '다녤', '다니곘', '다니다', '다니엘', '다니엘헤니', '다닐껀데', '다다닥', '다다르다', '다대', '다데', '다됫', '다둥맘', '다루다', '다르다', '다른사람', '다름없다', '다리', '다리다', '다림질', '다마', '다말', '다망', '다모', '다물다', '다뭉게져', '다미', '다발', '다방', '다복하다', '다섯시', '다섯째', '다솜', '다시', '다시다', '다시봣다', '다야', '다양하다', '다예', '다운', '다음생', '다음주', '다이소', '다이아', '다이어트', '다인', '다임', '다자', '다잡다', '다재다능하다', '다정', '다정하다', '다지', '다지다', '다차', '다치다', '다큐', '다투다', '다한', '다해', '다행', '다행하다', '닥', '닥치', '닥치다', '닥터', '단', '단계', '단국대', '단기간', '단다', '단단하다', '단도', '단독', '단디', '단막극', '단면', '단물', '단박', '단발', '단발머리', '단벌', '단서', '단속', '단순', '단순하다', '단아', '단어', '단역', '단연', '단위', '단장', '단절', '단절됫다', '단체', '단타', '닫다', '달', '달고기', '달고나', '달기', '달다', '달달', '달뒤', '달라', '달라붙다', '달라지다', '달래다', '달러', '달려가다', '달려들다', '달려오다', '달리', '달리다', '달린다', '달맛', '달빛', '달이', '달이다', '달인', '닭', '닭뼈', '닭살', '닮다', '닮은꼴', '닮음', '담', '담그다', '담기다', '담다', '담배', '담백하다', '담화', '답', '답글', '답답', '답답하다', '답닼', '답변', '답시고', '답지', '닷', '당', '당가', '당구', '당국', '당근', '당기다', '당나귀', '당나라', '당당하다', '당분간', '당사자', '당산', '당시', '당연하다', '당일', '당첨', '당췌', '당하', '당하다', '당한', '당해', '당황', '대', '대가', '대가리', '대고', '대구', '대국', '대국민', '대국민사과', '대기', '대기업', '대납', '대놓고', '대니', '대다', '대다수', '대단하다', '대답', '대도', '대동', '대두', '대들다', '대디', '대로', '대로의', '대루', '대륙', '대리', '대마', '대마초', '대만', '대매', '대머리', '대면', '대명사', '대목', '대못', '대물', '대물리다', '대박', '대박나다', '대변인', '대보다', '대보면', '대본', '대부분', '대북', '대사', '대사도', '대상', '대서', '대선', '대성', '대성공', '대세', '대세배우', '대수', '대수롭다', '대신', '대아', '대안', '대역', '대왕', '대요', '대우', '대은', '대응', '대의', '대인관계', '대일', '대자', '대작', '대장', '대장님', '대장부', '대장암', '대전', '대중', '대중가요', '대지', '대질', '대차다', '대책', '대처', '대천', '대체', '대체로', '대체복무', '대초', '대출', '대충', '대충대충', '대치', '대타', '대통', '대통령', '대판', '대패', '대표', '대표팀', '대하', '대학', '대학가요제', '대학교', '대학생', '대학원', '대한', '대한민국', '대한민국만세', '대해', '대형', '대화', '댁', '댁땜', '댄서', '댄스', '댇', '댐', '댓', '댓글', '댓글달다', '댓글알바', '댕', '댕기', '댕댕', '댜', '더', '더낫', '더니', '더더', '더러', '더러워지다', '더럽다', '더방', '더보', '더불다', '더빙', '더빨', '더욱', '더이뻣음', '더치페이', '더컷', '더콰이엇', '더크', '더티', '더하다', '덕', '덕분', '덕선', '덕이', '덕지덕지', '덕후', '던', '던데', '던지다', '덜', '덜덜', '덜컥', '덤벼', '덤비다', '덥다', '덥석', '덧', '덧글', '덩', '덩깨', '덩달아', '덩어리', '덮다', '데', '데니', '데려가다', '데려오다', '데리', '데리다', '데뷔', '데뷔전', '데뷰', '데스', '데이', '데이터', '데이트', '덴', '델꼬', '델루', '뎃', '뎃글', '뎅', '뎨', '도', '도경', '도경완', '도구로', '도균', '도깨비', '도끼', '도나', '도대체', '도덕', '도데', '도도', '도도하다', '도둑', '도둑질', '도란', '도로', '도리', '도리어', '도망', '도망가다', '도망치다', '도매', '도모', '도무지', '도박', '도배', '도보', '도상', '도속', '도시', '도아', '도안', '도와주다', '도용', '도우', '도우미', '도움', '도의', '도인', '도입', '도자기', '도장', '도저히', '도전', '도전골든벨', '도중', '도참', '도쿄', '도태', '도통', '도하', '도합', '도해', '도환', '도희', '독', '독감', '독과점', '독끼', '독도', '독도문제', '독립', '독립운동', '독립운동가', '독박', '독보', '독설', '독식', '독일', '독자', '독재', '독전', '독점', '독특하다', '독하다', '돈', '돈까스', '돈꽃', '돈나', '돈돈', '돈떼', '돈맛', '돈멕', '돈버는거', '돈번', '돈벌', '돈벌이', '돈자', '돈좀', '돈줄', '돈질', '돈키호테', '돋다', '돋보이다', '돌', '돌다', '돌담', '돌대가리', '돌려막기', '돌려주다', '돌리다', '돌림', '돌변', '돌보다', '돌싱', '돌씽', '돌아가다', '돌아다니다', '돌아보다', '돌아서다', '돌아오다', '돌아이', '돌연사', '돌이', '돌이키다', '돌진', '돌파', '돕기', '돕다', '동', '동갑', '동거', '동경', '동국대', '동굴', '동남아', '동네', '동덕여대', '동떨어지다', '동료', '동맹', '동명', '동물', '동물의왕국', '동민', '동반', '동방신기', '동백', '동백꽃', '동상', '동생', '동서남북', '동성', '동성애', '동성애자', '동시', '동아', '동아여고', '동양인', '동영상', '동우', '동원', '동원령', '동윤', '동의', '동이', '동일시', '동일하다', '동정', '동주', '동질감', '동참', '동학', '동학혁명', '동해', '동향', '동현', '동호회', '돠', '돼다', '돼지', '됑', '되게', '되다', '되돌리다', '되돌아가다', '되셧으', '되어다', '된거', '될런', '됫', '됫짜', '두', '두껍다', '두뇬', '두다', '두둑하다', '두둔', '두려움', '두렵다', '두루', '두르다', '두문불출', '두번째', '둔갑', '둔하다', '둘때메', '둘러대다', '둘리', '둘이서', '둘입', '둘째', '둥', '둥글다', '둥맘', '둥이', '뒤', '뒤끝', '뒤뚱뒤뚱', '뒤웅박', '뒤죽박죽', '뒤지다', '뒤집어지다', '뒤집힐텐데', '뒤통수', '뒤표', '뒷', '뒷모습', '뒷목잡다', '뒷바라지', '뒷받침', '뒷방', '뒷전', '뒺문', '듀스', '듀얼', '듀엣', '드', '드글', '드나들다', '드네', '드니', '드뎌', '드디어', '드라마', '드라이기', '드러나다', '드러내다', '드럼', '드럽다', '드레스', '드렷', '드루', '드리다', '드리우다', '드릴', '드림하이', '드립', '드문드문', '드물다', '드컷', '드하', '득', '득남', '득달', '득실', '든', '든든하다', '든지', '듣기', '듣다', '듣보다', '듣보잡', '들것', '들고나다', '들다', '들들', '들뜨다', '들락날락', '들러리', '들리다', '들먹이다', '들보', '들어가다', '들어서다', '들어오다', '들어주다', '들엇누', '들이다', '들이마시다', '들이밀다', '들이키다', '들차다', '들추다', '들추어내다', '들키다', '들통', '듬', '듬뿍', '듯', '듯눈', '듯이', '듯해', '등골', '등꼴', '등록', '등산', '등산로', '등신', '등장', '등팀', '디', '디게', '디스곡', '디스패치', '디시', '디아크', '디어클라우드', '디엔에이', '디자인', '디제이', '디졋답니', '디지다', '디패', '딘', '딘딘해', '딘씨', '딛다', '딩', '딩크', '딩크족', '따갑다', '따다', '따돌리다', '따뜻하다', '따라가다', '따라다니다', '따라서', '따라오다', '따라잡다', '따로', '따르다', '따리', '따먹다', '따위', '따윈', '따지다', '딱새', '딱이다', '딱지', '딱하다', '딴', '딴다', '딴사람', '딸', '딸내미', '딸도', '딸리다', '딸바보', '딸벌', '딸아', '땀', '땅', '때기', '때너', '때때로', '때리다', '때매', '때메', '때문', '때뮤', '때우다', '땐', '땐거', '땐데', '땜', '땜시', '땡', '땡기다', '땡깡좀', '땡잡다', '떄리다', '떠나다', '떠다니다', '떠들다', '떠떳하', '떠밀다', '떠받다', '떠벌리다', '떠보다', '떠오르다', '떠올리다', '떡', '떡밥', '떡으', '떡잎', '떤다', '떨다', '떨리다', '떨어뜨리다', '떨어지다', '떨치다', '떳길', '떳따방', '떳떳하다', '떼', '떼거지', '떼다', '떼법', '떼이다', '또깡', '또는', '또다른', '또또', '또래', '또리', '또머', '또박또박', '또세끼', '또손', '똑', '똑같다', '똑같드', '똑같이', '똑똑하다', '똑바로', '똘', '똘끼', '똘마', '똘망똘망한', '똥', '똥궈', '똥꼬', '똥꾸', '똥내', '똥덩어리', '똥망', '똥줄', '똥짜루', '똥차', '똥칠', '똥파리', '똥폼', '뚜껑', '뚜렷하다', '뚝', '뚠뚠', '뚫다', '뚫리다', '뚱', '뚱녀', '뚱뚱하다', '뚱보', '뚱보일뿐', '뚱하다', '뛰는뎀', '뛰다', '뛰어나다', '뛰어나오다', '뛰어넘다', '뛰어다니다', '뛰어들다', '뜨겁다', '뜨끔하다', '뜨다', '뜬금', '뜬금없이', '뜯다', '뜰', '뜸', '뜻', '뜻대로', '뜻밖', '뜻임', '띁어', '띄다', '띄어쓰기', '띄우다', '띙구렇', '띠', '띠껍', '띠용', '띨', '띨띨', '띨띨이들', '띵가띵', '띵작', '라', '라가', '라고', '라곤', '라기보다는', '라기보단', '라나', '라네', '라는', '라니', '라니까', '라다', '라도', '라디오', '라디오스타', '라라', '라며', '라면', '라면서', '라미란', '라서', '라스', '라운드', '라이', '라이네', '라이머', '라이벌', '라이브', '라이언', '라이터', '라이프', '라인', '라인업', '라일', '라임', '라지', '락커', '란', '란건', '란닝맨', '란얘', '랄', '랄부', '람', '람보', '랍', '랍시고', '랏', '랑', '랑께', '랑스', '랑은', '래', '래미', '래야', '래전드', '래퍼', '랜드', '램프', '랩', '랩몬', '랩퍼', '랫', '랬', '랭', '랭킹', '랰', '랴', '량', '러', '러는거', '러들', '러버', '러브', '러블', '러블리즈', '러시', '러시아', '러운', '러하', '럭셔리', '런', '런가', '런닝', '런닝맨', '럴', '럴들', '럴수럴수', '럼', '럽', '럿', '레', '레기짓', '레깅스', '레널즈', '레드카펫', '레디', '레벨', '레스토랑', '레시피', '레알', '레이디', '레이싱걸', '레이어', '레이저', '레전드', '레즈', '레즈비언', '레파토리였', '렉', '렉서스', '려', '려고', '려니', '려원', '력', '련', '렸', '로고', '로구나', '로남불', '로는', '로다', '로다주', '로더', '로또', '로리', '로마', '로만', '로망', '로망스', '로맨스', '로버', '로별', '로봇', '로비', '로사', '로서', '로스쿨', '로안', '로운', '로이', '로이킴', '로지', '로치', '로코', '로해', '록', '론', '론데', '론뎅', '롤', '롤린롤린', '롤모델', '롭고', '롱런', '료', '루', '루게릭병', '루머', '루안', '루저', '루즈', '루트', '룩', '룬', '룰', '룰루랄라', '룸', '룸메이트', '류', '류준', '류준열', '률', '률좀', '르', '르노', '르르', '르세', '르토', '른', '른다', '릅앞', '리', '리가', '리그', '리기', '리나', '리다', '리더', '리더십', '리도', '리드', '리드보컬', '리딩', '리메이크', '리모컨', '리벤지', '리본', '리빈', '리살', '리스', '리스트', '리안', '리액션', '리얼', '리오', '리좀', '리즈', '리즈시절', '리지', '리턴', '리포터', '린', '린다', '린데', '린정', '린지', '릴', '릴텐', '림', '립', '립스틱', '링', '링크', '마', '마감', '마구마구', '마나', '마냥', '마넌', '마네', '마네킹', '마녀', '마녀사냥', '마누라', '마눌', '마닌', '마다', '마닷', '마당', '마더', '마델들', '마동석', '마디', '마땅', '마땅하다', '마련', '마르', '마르다', '마른하늘', '마리', '마리텔', '마마', '마무리', '마법', '마법사', '마보이', '마블', '마비', '마사지', '마셈', '마쇼', '마스', '마스크', '마시다', '마안', '마약', '마약범', '마여', '마을', '마음', '마음껏', '마음먹다', '마음씨', '마이', '마이걸', '마이너스', '마이웨이', '마이크', '마이크로', '마이클잭슨', '마인드', '마일', '마임', '마자', '마주', '마주치다', '마지막', '마지막여행', '마차', '마찬가지', '마취', '마츠모토준', '마치다', '마카', '마카롱', '마케팅', '마틴', '마흔', '막', '막귀', '막내', '막내딸', '막다', '막대', '막말', '막말쩌', '막무가내', '막상', '막장', '막장드라마', '막판', '막히다', '만', '만가', '만고', '만나다', '만난', '만날', '만남', '만년', '만도', '만두', '만드', '만들기', '만들다', '만들어지다', '만듬', '만만하다', '만만해', '만물', '만배', '만삭', '만석', '만성', '만수무강', '만신창이', '만양', '만에', '만원', '만월', '만으로', '만은', '만을', '만의', '만이', '만이만', '만일삼', '만장', '만족', '만족감', '만족스럽다', '만족하다', '만주', '만지다', '만지작', '만찬', '만치', '만큼도', '만큼은', '만큼이나', '만하', '만해', '만화', '만화가', '만화책', '많넴', '많넵', '많넼', '많다', '많아지다', '많이', '맏', '말', '말고', '말고는', '말고도', '말그라잉', '말기', '말년', '말다', '말다툼', '말라야', '말러', '말로', '말르다', '말리다', '말버릇', '말빨', '말상', '말세', '말썽', '말씀', '말아먹다', '말임', '말장난', '말제', '말좀', '말종', '말투', '말함', '맑다', '맑은', '맘', '맘껏', '맘대로', '맘보', '맘속', '맘충', '맘충년', '맘충퇘', '맙시', '맛', '맛깔나다', '맛녀', '맛보다', '맛없다', '맛있다', '맛집', '맛턍', '망', '망가지다', '망각', '망나니', '망블', '망삘', '망상', '망신', '망원동', '망작', '망작스멜', '망정', '망조', '망치', '망치다', '망하다', '망햇', '맞고소', '맞다', '맞벌이', '맞선', '맞추다', '맞춤법', '맡다', '매국', '매너', '매니아', '매니저', '매다', '매달리다', '매도', '매력', '매만지다', '매미', '매사', '매수', '매스컴', '매우', '매일', '매장', '매점', '매주', '매진', '매체', '매핑', '매형', '매회', '맥', '맥그리거', '맥락', '맥략', '맥주', '맥힌', '맨', '맨날', '맨발', '맨홀', '맴', '맴돌다', '맴버', '맴버좀', '맴버중', '맵다', '맷퇘지들', '맹구', '맹목', '맹바기', '맹세', '맺다', '먄', '먜', '머', '머글', '머리', '머리스타일', '머리카락', '머리크기', '머리털', '머릴하', '머릿속', '머물다', '머신', '머임', '먹고다', '먹고살다', '먹기', '먹다', '먹듯', '먹방', '먹어주다', '먹엇을듯', '먹여주다', '먹이', '먹이다', '먹잇감', '먹튀', '먹혓', '먹히다', '먼저', '먼지', '먼훗날', '멀다', '멀리', '멀어지다', '멀쩡하다', '멀티태스킹', '멈추다', '멋', '멋대로', '멋있다', '멋지다', '멋쪄욤', '멍', '멍멍', '멍청이', '멍청하다', '멍충', '멍텅', '메', '메갈스틴', '메갈워마드', '메걸', '메뉴', '메다', '메달', '메뚜기', '메보', '메세지', '메시', '메시야', '메이드', '메이커', '메이크업', '메이플시럽', '메인', '메인보컬', '메퇘', '메퉤', '멘붕', '멘탈', '멘트', '멜로', '멜론', '멤버', '며', '며느리', '며칠', '면', '면담', '면모', '면빨', '면상', '면서', '면알', '면전', '면접', '면제', '면죄부', '면티', '면허', '면허증', '멸망', '멸망하다', '멸시', '멸치', '명', '명곡', '명과', '명단', '명도', '명때매', '명랑', '명랑만화', '명랑하다', '명문', '명박', '명백하다', '명복', '명분', '명성', '명수', '명예', '명예훼선', '명예훼손', '명의', '명인', '명일', '명임', '명절', '명정', '명줄', '명중', '명치', '명칭', '명탐정', '명품', '명품시계', '명함', '명확하다', '몇개', '몇몇', '몇번', '몇십', '모가지', '모금', '모기', '모녀', '모닝', '모델', '모도', '모독', '모든', '모라', '모래', '모레', '모로', '모르다', '모름', '모발', '모범', '모성', '모성애', '모순', '모습', '모시', '모시다', '모씨', '모야', '모양', '모양새', '모욕', '모유', '모유수유', '모으다', '모음', '모이다', '모임', '모자', '모자라', '모자라다', '모자이크', '모종', '모질라서', '모짜렐라', '모텔', '모토', '모티브', '모하', '모함', '모형', '목', '목걸이', '목격담', '목사', '목소리', '목숨', '목어', '목요일', '목적', '목탁', '목표', '몫', '몬', '몬스타', '몬스터', '몬엑', '몬일', '몰겄음', '몰골', '몰다', '몰두하다', '몰랏쪄', '몰래', '몰려들다', '몰려오다', '몰리다', '몰몬교', '몰상식하다', '몰이', '몰입', '몰입도', '몰카', '몸', '몸가짐', '몸값', '몸땡', '몸매', '몸무게', '몸조리', '몸조심', '몸좀', '몸종', '몹시', '못', '못난이', '못내', '못버는돈', '못보겄다', '못생', '못생겻다', '못생겻어', '못자다', '못하겟', '못함', '몽', '몽골', '몽둥이', '몽이', '몽형', '몽환', '묘', '묘욕', '묘지', '무', '무가', '무감각', '무거워', '무겁다', '무고', '무고죄', '무관', '무관심', '무기', '무기징역', '무너', '무너지다', '무늬', '무단이탈', '무당', '무대', '무덤', '무데기', '무도', '무려', '무례', '무례하다', '무뢰한', '무릎', '무리다', '무리수', '무리하다', '무면허', '무명', '무명도', '무무', '무방', '무법', '무법천지', '무분별', '무사', '무사하다', '무새', '무색', '무서움', '무섭다', '무성', '무성의', '무시', '무식하다', '무심하다', '무안', '무언가', '무었', '무연', '무오', '무의식', '무인', '무인도', '무자식', '무작정', '무조', '무조건', '무죄', '무지', '무지개', '무진장', '무책임하다', '무치', '무크', '무티', '무표정', '무플', '무한', '무한도전', '무현', '무혐의', '무효', '묵고', '묵다', '묵묵하다', '묵은지', '묵인', '묵직하다', '묶다', '묶이다', '문', '문가영', '문과장', '문구', '문란하다', '문상', '문세윤', '문소리', '문슬람', '문신', '문씨', '문어', '문의', '문자', '문재인', '문제', '문제점', '문죄인', '문지르다', '문짝', '문채원', '문학', '문화', '문희주', '문희준', '묻다', '묻히다', '물', '물건', '물결', '물고기', '물곰', '물귀신', '물다', '물들다', '물량', '물러나다', '물르다', '물리다', '물리학자', '물보', '물불', '물어', '물어보다', '물음표', '물의', '물이', '물정', '물좀', '물질', '뭇', '뭉', '뭉개지', '뭉치다', '뭐', '뭐거전', '뭐건', '뭐눈', '뭐땜', '뭐라다', '뭐리', '뭐시기', '뭐유', '뭐임', '뭐좀', '뭐징', '뭐하캬', '뭐함', '뭐햤', '뭔', '뭔가', '뭘', '뭘더', '뭘또', '뭘바', '뭘알', '뭡', '뭣', '뭣때문', '뮈', '뮐', '뮤', '뮤뱅', '뮤비', '뮤지', '뮤지션', '뮤지컬', '뮤직', '뮤직뱅크', '뮤탈리스크', '뮫으', '므', '므흣할뿐', '믄', '믓저', '미', '미개', '미개하다', '미국', '미국병', '미국인', '미꾸라지', '미끈하다', '미나', '미남', '미녀', '미뇨리니', '미니미', '미달', '미대', '미도', '미드', '미디어', '미란', '미래', '미련', '미로', '미루다', '미리', '미만', '미모', '미묘', '미묘하다', '미백', '미사', '미생', '미성년', '미세먼지', '미션', '미소', '미소녀', '미수', '미숙', '미숙아', '미스', '미스캐스팅', '미스코리아', '미스터', '미스테리', '미식', '미실', '미씨', '미안', '미안하다', '미애', '미연', '미용', '미용실', '미우다', '미움', '미워하다', '미이라', '미인', '미진', '미처', '미첬음', '미칀', '미치다', '미카엘', '미코', '미키', '미터', '미투', '미혼', '미혼모', '미화', '믹스', '믹키', '믹키유천', '민', '민가', '민간', '민간인', '민감하다', '민경', '민경훈', '민국', '민망', '민망하다', '민박', '민석', '민수', '민순', '민심', '민아', '민우', '민원', '민족', '민족성', '민족주의', '민주', '민주당', '민지', '민폐', '민혁', '민현', '민호', '민효린', '믿다', '믿어지다', '믿음', '밀', '밀고', '밀다', '밀려오다', '밀리', '밀리다', '밀실', '밀정', '밉다', '밉싱', '밋밋하다', '밍숭맹숭한데', '밍아웃', '밑', '밑바닥', '밑밥', '밑천', '바', '바가지', '바글바글', '바깥', '바꼇', '바꾸다', '바뀌다', '바끼', '바느질', '바다', '바닥', '바닷', '바돌', '바둑', '바둥거리', '바들바들', '바디', '바라다', '바라보다', '바람', '바람나다', '바람둥이', '바람직하다', '바랬는데', '바로잡다', '바르게', '바르다', '바른', '바리', '바보', '바비', '바쁘다', '바스트', '바알', '바위', '바이', '바이러스', '바이브', '바주', '바지', '바질', '바짓가랑이', '바짝', '바치다', '바퀴', '바탕', '바하', '박', '박가원', '박경', '박경림', '박규리', '박근혜', '박기영', '박나래', '박남정', '박다', '박도', '박력', '박명', '박명수', '박물관', '박미경', '박미선', '박민영', '박민정', '박박', '박보검', '박보영', '박봄', '박봄이', '박사', '박살', '박상아', '박서준', '박선영', '박성광', '박성준', '박성훈', '박세영', '박수', '박수영', '박수진', '박수홍', '박시연', '박시후', '박신양', '박신혜', '박씨', '박아', '박얘쁜', '박예은', '박완규', '박용하', '박유천', '박은혜', '박일', '박잎선', '박자', '박재민', '박재범', '박재정', '박정민', '박정수', '박정현', '박정희', '박주호', '박준형', '박지민', '박지선', '박지성', '박지윤', '박지훈', '박진영', '박탈', '박태환', '박하', '박하나', '박하선', '박한별', '박해미', '박해진', '박형식', '박형준', '박혜미', '박호', '박효섭', '박효신', '박히다', '밖', '밖에', '밖에는', '밖에도', '반', '반감', '반갑다', '반값', '반납', '반년', '반대', '반도', '반듯하다', '반띵', '반려동물', '반려자', '반말', '반면', '반미', '반민정', '반박', '반반하다', '반발', '반복', '반성', '반영', '반응', '반의', '반일', '반일감정', '반입', '반장', '반전', '반점', '반증', '반지', '반지하', '반짝', '반쪽', '반찬', '반칙', '반하다', '반환', '받다', '받아들이다', '받아쓰기', '받치다', '발', '발가락', '발견', '발굴', '발끈', '발끝', '발달', '발라드', '발란스', '발랑까졋', '발롱도르', '발리', '발리다', '발린', '발목', '발바닥', '발발', '발버둥치다', '발부', '발뺌', '발산', '발생', '발성', '발손', '발악', '발암', '발언', '발연기', '발음', '발일', '발작', '발전', '발정', '발치', '발탁', '발톱', '발표', '밝다', '밝혀내다', '밝혀지다', '밝히다', '밟다', '밤', '밤새', '밤일', '밥', '밥값', '밥맛', '밥상', '밥좀', '밥큐', '밧다', '방', '방가', '방관', '방구', '방귀', '방금', '방기', '방뇨', '방도', '방문', '방법', '방부제', '방생', '방송', '방송국', '방송불가', '방송사', '방송사고', '방송인', '방송작가', '방송출연', '방식', '방씨', '방아', '방영', '방예담', '방울', '방위', '방이', '방자전', '방조', '방증', '방지', '방청', '방콕', '방탄', '방탄소년단', '방탕', '방통위', '방학', '방한', '방해', '방해꾼', '방향', '방향성', '밭', '밭일', '배', '배경', '배구', '배기', '배기성', '배꼽', '배다', '배달', '배댓', '배드', '배려', '배부르다', '배상금', '배시시', '배신', '배신자', '배아', '배알', '배역', '배연정', '배우', '배우다', '배우자', '배은망덕', '배정', '배제', '배차', '배출', '배치', '배타', '배틀', '배포', '배현진', '백', '백가', '백년', '백년손님', '백마', '백만', '백만이', '백방', '백상', '백색', '백수', '백숙', '백승', '백옥', '백인', '백정', '백제', '백종원', '백지영', '백진희', '백치', '백퍼', '백프로', '백합', '백호', '백화점', '밴드', '밸', '뱀', '뱃길', '뱃대지', '뱃살', '뱃속', '뱅규', '뱉다', '뱐태', '뱔', '버', '버그', '버는', '버는데', '버닝', '버닝썬', '버닝썬때문', '버들', '버랍', '버럭', '버렇', '버려지다', '버르장머리', '버릇', '버리다', '버맀', '버마', '버뮤다', '버스', '버스정류장', '버스킹', '버스터', '버신', '버어러', '버전', '버즈', '버트', '버티고', '버티다', '버프', '번', '번갈아', '번개', '번거', '번고', '번돈', '번동', '번드르르', '번복', '번은', '번인', '번죄', '번째', '번호', '벌', '벌거숭이', '벌겋다', '벌금', '벌다', '벌떡', '벌러덩', '벌레', '벌리다', '벌린', '벌벌', '벌써', '벌어지다', '벌이', '벌이다', '벌주다', '벌칙', '범', '범법', '범사', '범의', '범인', '범접', '범죄', '범죄인', '범죄자', '법', '법관', '법대', '법도', '법무부', '법석', '법안', '법원', '법적', '법적대응', '법정', '법치', '법칙', '벗', '벗겨지다', '벗다', '벗방', '벗어나다', '벙', '벙어리', '베', '베끼기', '베놈', '베다', '베댓', '베뎃', '베드', '베르테르', '베베', '베스트', '베스트셀러', '베이비', '베이스', '베충', '베컴', '베트남', '베풀다', '베프', '벤츠', '벤틀리', '벨', '벨트', '벼', '벼르', '벼슬', '벽', '변', '변기', '변명', '변비', '변성기', '변소', '변신', '변심', '변제', '변조', '변질', '변치', '변태', '변하다', '변호', '변호사', '변호사시험', '변호인', '변화', '별', '별개', '별거', '별것', '별난', '별놈', '별로', '별루', '별룬데', '별보', '별세', '별의별', '별일', '별탈', '병', '병들다', '병맛', '병문안', '병역', '병역기피', '병원', '병자', '병적', '병증', '병크', '병티즌', '병허니', '병헌', '보', '보가', '보건', '보검', '보고', '보고오다', '보구', '보기', '보나', '보나마나', '보내다', '보니하니', '보다', '보다는', '보다도', '보단', '보답', '보도', '보도자료', '보드', '보듬다', '보라', '보람', '보류', '보리문둥이', '보민', '보배', '보복', '보살', '보살피다', '보상', '보상금', '보석', '보수', '보시', '보신', '보신탕', '보아', '보여주다', '보엿으', '보영', '보유', '보육원', '보이', '보이다', '보이드', '보이스', '보이지', '보이콧', '보임', '보장', '보정', '보좌', '보증', '보증금', '보지', '보충역', '보컬', '보크', '보태', '보톡스', '보통', '보통사람', '보편', '보풀', '보험', '보혈', '보호', '보황', '복', '복걸', '복고', '복권', '복귀', '복기', '복면', '복무', '복선', '복수', '복수심', '복싱', '복용', '복은', '복장', '복주', '복지', '복찬', '볶다', '본', '본격', '본넷', '본능', '본래', '본명', '본받다', '본방', '본보기', '본색', '본성', '본업', '본연', '본인', '본적', '본질', '볼', '볼거리', '볼날', '볼때', '볼땐', '볼바', '볼일', '봄', '봄여름가을겨울', '봉', '봉건', '봉사', '봉사활동', '봉준호', '봉태규', '봉투', '봉하마을', '봐왓는데', '봐요느므', '봣', '뵈다', '뵙다', '부', '부각', '부고', '부과', '부금', '부끄럼', '부끄럽다', '부다', '부담', '부담스럽다', '부대', '부덜부덜', '부도덕하다', '부동산', '부들', '부들대다', '부들부들', '부들부들하다', '부디', '부러', '부러워하다', '부러지다', '부럽다', '부로', '부류', '부르다', '부리', '부리고', '부리다', '부모', '부모님', '부부', '부부인', '부분', '부사', '부산', '부상', '부서', '부서지다', '부스러기', '부스터', '부시', '부실', '부실부실하다', '부안', '부어', '부엉이', '부와', '부위', '부유', '부의', '부인', '부인과', '부자', '부자연', '부작', '부잣집', '부장', '부정', '부족', '부족하다', '부질없다', '부처', '부추기다', '부축', '부치다', '부친', '부친상', '부칸', '부탁', '부탁드리다', '부터가', '부턴', '부티', '부패', '부페', '부풀다', '부풀리다', '부하', '부화', '부활', '부회', '북', '북어', '북한', '분', '분간', '분과', '분노', '분노하다', '분다', '분도', '분들', '분량', '분리', '분리수거', '분명', '분명하다', '분발', '분배', '분별', '분석', '분수', '분야', '분양', '분위기', '분유', '분장', '분쟁', '분필', '분하다', '분할', '분해', '불', '불가', '불가능', '불가능하다', '불가리', '불공평하다', '불과하다', '불교', '불구', '불끈함', '불능', '불다', '불량', '불륜', '불리다', '불리하다', '불만', '불매', '불매운동', '불면증', '불명', '불문', '불법', '불변', '불복', '불수', '불순', '불시', '불쌍', '불쌍타', '불쌍하다', '불씨', '불안정하다', '불안하다', '불우', '불운', '불응', '불이익', '불임', '불장난', '불지', '불참', '불청', '불체', '불친절하다', '불쾌하다', '불키', '불타다', '불통', '불편', '불편하다', '불평', '불필요하다', '불합격', '불행', '불행하다', '불현', '불현듯', '불호', '불화', '불확실하다', '불후', '불후의명곡', '붉다', '붐', '붓감', '붓기', '붓다', '붕', '붕뜬', '붕어', '붕어빵', '붙다', '붙들다', '붙이', '붙이다', '붙잡다', '붙잡히다', '뷔', '뷔페', '뷰', '뷰터', '뷰티', '븅딱들', '브', '브라', '브라가', '브라보', '브라운관', '브라자', '브래드피트', '브래지어', '브랜드', '브루노', '브리', '브아걸', '브이', '브이넥', '븐', '블', '블라우스', '블락비', '블랙', '블랙리스트', '블러', '블럭', '블레스', '블로그', '블로썸', '블록버스터', '블링', '블쌍한척', '블핑', '비', '비거', '비걸', '비겁하다', '비결', '비공', '비공개', '비교', '비굴하다', '비극', '비기다', '비긴', '비꼬기', '비꼬다', '비난', '비누', '비닐', '비닐봉지', '비다', '비둘기', '비디오', '비뚤어지다', '비례', '비리', '비리다', '비만', '비민', '비밀', '비방', '비보', '비비고', '비비다', '비상', '비서', '비숫', '비숲', '비스듬하', '비스티보이즈', '비슷', '비슷비슷', '비실', '비싸다', '비아', '비아이', '비열하다', '비올', '비용', '비우다', '비웃다', '비위', '비유', '비율', '비정상', '비정하다', '비주', '비중', '비쥬', '비즈니스', '비지', '비지니스', '비참하다', '비추다', '비치', '비치다', '비키니', '비키다', '비통하다', '비트', '비판', '비평', '비호', '비호감', '비혼', '빅', '빅뱅', '빅엿', '빅토리아', '빅픽처', '빅히트', '빈', '빈대', '빈번', '빈자리', '빈지노', '빈집', '빈형', '빌다', '빌딩', '빌리다', '빌보드', '빌어', '빌푸사미빌레', '빔', '빗속', '빙', '빙상', '빙신', '빙의', '빙자', '빚', '빚쟁이', '빚투', '빚투비', '빛', '빛과', '빛나다', '빛투', '빠', '빠놔갖', '빠돌이', '빠들', '빠르다', '빠리', '빠빠잉', '빠샷', '빠순이', '빠심때문', '빠쑨이들', '빠져나가다', '빠져나오다', '빠지다', '빠쳐', '빠트린', '빡', '빡빡', '빡세', '빡시다', '빡치다', '빤스', '빤쯔흘리는뇬들', '빨', '빨갛다', '빨갱이', '빨겡이들', '빨다', '빨대', '빨르다', '빨리', '빱', '빵', '빵빵', '빵셔틀', '빵안', '빵터지다', '빻', '빻앗', '빻앗어', '빼', '빼기', '빼놓다', '빼다', '빼먹다', '빼박', '빼애', '빼액', '빽', '뺏다', '뺑', '뺑기', '뺑상우', '뺑소니', '뺨', '뻐기다', '뻔', '뻔뻔', '뻔하다', '뻗치다', '뻘', '뻘건살', '뻘겋', '뻣', '뻥', '뼈', '뼛속', '뼛속꺼', '뽀', '뽀록나다', '뽀롱나', '뽀빠이', '뽀샵', '뽀찌때주', '뽈', '뽈노', '뽑다', '뽑히다', '뽕', '뾰샵', '뿅', '뿅뿅', '뿌', '뿌까', '뿌리', '뿌리다', '뿌옇다', '뿐', '뿔', '뿜뿜', '뿜었어', '쁘', '삐', '삐뚤다', '삐뚤어지다', '삐지다', '삘', '삥', '사가', '사가다', '사가문', '사거리', '사건', '사계절', '사고', '사골', '사과', '사과문', '사과받다', '사관', '사교육', '사귀다', '사극', '사긔', '사기', '사기꾼', '사기죄', '사기혐의', '사나', '사나이', '사납다', '사내', '사내연애', '사느랗다', '사다', '사단', '사드', '사라', '사라지다', '사람', '사람과', '사람인', '사랑', '사랑받다', '사랑비', '사랑스럽다', '사례', '사로잡히다', '사르다', '사리', '사림', '사립', '사마', '사망', '사면', '사모', '사모님', '사발', '사백만', '사범', '사법부', '사보', '사부', '사부로', '사비', '사사', '사사건건', '사상', '사생', '사생아', '사생활', '사서', '사수', '사시', '사신', '사실', '사실관계', '사심', '사악하다', '사안', '사업', '사업가', '사업실패', '사연', '사오', '사용', '사원', '사위', '사유', '사유리', '사이', '사이다', '사이더', '사이비', '사이비종교', '사이즈', '사인', '사자', '사장', '사재기', '사적', '사전', '사전투표', '사정', '사제', '사죄', '사주', '사주다', '사주면', '사주지', '사중', '사지', '사진', '사찰', '사체', '사촌', '사촌동생', '사촌오빠', '사촌형', '사춘기', '사치', '사칭', '사쿠라', '사탄', '사퇴', '사투리', '사하나', '사하다', '사항', '사해', '사형', '사형제', '사회', '사회면', '사회생활', '사회인', '삭았', '삭제', '산', '산다', '산만하다', '산모', '산보', '산불', '산이', '살', '살구', '살기', '살길', '살다', '살다보면', '살땐', '살로', '살리다', '살림', '살맛', '살빠지다', '살빼다', '살수', '살아가다', '살아나다', '살아오다', '살이', '살인', '살인마', '살인자', '살좀', '살좀찌쟈', '살짝', '살찌다', '살찐', '살차', '살풀이', '살해', '삶', '삶다', '삼가다', '삼각지', '삼겹살', '삼고', '삼다', '삼류', '삼발이', '삼백', '삼성', '삼십', '삼억', '삼자', '삼척', '삼청동', '삼촌', '삼총사', '삼키다', '삽질', '삿', '상', '상가', '상감', '상관', '상관없다', '상권', '상근', '상남자', '상납', '상담', '상담사', '상당하다', '상대', '상대로', '상대방', '상대역', '상도', '상명대', '상무', '상미', '상민', '상병', '상보', '상복', '상사', '상상', '상상력', '상속', '상순이', '상습', '상습범', '상승', '상승세', '상식', '상실', '상아', '상업', '상영', '상위', '상의', '상이', '상인', '상일', '상임', '상장', '상장폐지', '상종', '상주', '상준', '상진', '상징', '상차림', '상책', '상처', '상치', '상콤', '상큼', '상태', '상투', '상판', '상팔자', '상폐', '상폐녀', '상품', '상품화', '상하', '상한', '상해', '상해죄', '상호', '상화', '상황', '새', '새끼', '새끼손가락', '새내기', '새다', '새드앤딩', '새로운시작', '새롬', '새롭다', '새마을', '새벽', '새삼', '새엄마', '새해', '색', '색감', '색기', '색깔', '색녀', '샘', '생', '생가', '생각', '생각나다', '생겻', '생겻다', '생계', '생글', '생기', '생기다', '생기지', '생때', '생리', '생매장', '생명', '생모', '생물', '생민', '생사', '생산', '생색', '생생', '생생하다', '생쇼', '생수', '생시', '생신', '생얼', '생인', '생일', '생전', '생존', '생중계', '생트집', '생활', '생활고', '생활비', '샤넬', '샤바', '샤워', '샤이니', '샤인', '샵', '샷', '서', '서강준', '서고', '서기', '서나', '서다', '서단', '서도', '서두르다', '서든', '서로', '서로서로', '서류', '서른', '서리', '서리다', '서먹하다', '서명', '서민', '서민정', '서바이벌', '서방', '서부', '서브', '서비스', '서빙', '서서', '서세원', '서양인', '서열', '서예', '서예지', '서우', '서우진', '서운하다', '서울', '서울대', '서울시', '서유기', '서유리', '서은수', '서인국', '서인영', '서장훈', '서점', '서정', '서준이', '서지영', '서태지', '서툴다', '서프라이즈', '서해', '서현', '서현진', '서혜진', '석', '석상', '섞다', '선', '선강', '선곡', '선교사', '선남선녀', '선대', '선동', '선물', '선미', '선발', '선배', '선비', '선빵', '선상', '선생', '선생님', '선샤인', '선수', '선씨', '선언', '선영', '선예', '선우', '선임', '선정', '선조', '선진국', '선처', '선택', '선풍기', '선풍기아줌마', '선플', '선하', '선하다', '선후배', '선희', '섣부르다', '설', '설겆', '설계', '설계자', '설국열차', '설다', '설득', '설레다', '설레설레', '설리', '설립', '설명', '설정', '설치', '설치다', '설탕', '설현', '설화', '섬', '섬나라', '섬세하다', '섭', '섭식장애', '섭외', '섭취', '성', '성가', '성격', '성경', '성공', '성공하다', '성과', '성관계', '성광', '성규', '성금', '성급하다', '성기', '성노예', '성대', '성도', '성동일', '성룡', '성매매', '성문', '성범죄', '성범죄자', '성별', '성불', '성비', '성사', '성수', '성숙하다', '성실하다', '성악', '성욕', '성우', '성원', '성유리', '성은', '성의', '성인', '성장', '성장기', '성장하다', '성재', '성적', '성적매력', '성조기', '성지', '성지글', '성질', '성차별', '성추행', '성취', '성폭력', '성폭행', '성표', '성품', '성하다', '성혁', '성현', '성현아', '성형', '성형수술', '성형전', '성황리', '성훈', '성희롱', '세', '세가족', '세계', '세계관', '세계획', '세고', '세균', '세균전', '세금', '세기', '세기말', '세뇌', '세다', '세대', '세라', '세련되다', '세로', '세면', '세명', '세무조사', '세번', '세분', '세븐', '세상', '세얼간이', '세영', '세우다', '세월', '세월호', '세자빈', '세종', '세준', '세탁', '세프', '섹', '섹스', '섹시', '섹시하다', '센스', '센치', '센터', '셀카', '셀프', '셈', '셋째', '셍', '셔누', '션', '셜리만', '셜리씨', '셨', '셰프', '소', '소감', '소개', '소굴', '소금', '소꿉', '소꿉장난', '소녀', '소녀시대', '소년', '소년단', '소니', '소도', '소두', '소드', '소득', '소라', '소라게', '소란', '소름', '소름끼치다', '소리', '소린', '소망', '소멸', '소명', '소모', '소문', '소박', '소박하다', '소비', '소비자', '소설', '소소하다', '소속', '소속사', '소송', '소수', '소수민족', '소스', '소시', '소시오패스', '소식', '소신', '소심하다', '소연', '소용없다', '소원', '소위', '소유', '소유자', '소유진', '소율', '소음', '소이현', '소재', '소주', '소중하다', '소지섭', '소진', '소질', '소집해제', '소통', '소품', '소하', '소향', '소현', '소화', '소환', '소희', '속', '속도위반', '속마음', '속보', '속사정', '속상하다', '속옷', '속이다', '속인', '속지', '손', '손가락', '손가락질', '손나은', '손녀', '손님', '손담비', '손대다', '손됫', '손발', '손색', '손승연', '손실', '손예진', '손익', '손자', '손잡다', '손절', '손절함', '손지창', '손태영', '손톱', '손해', '손현주', '손흥민', '솓', '솔', '솔까말', '솔로', '솔루션', '솔이', '솔지', '솔직', '솔직하다', '솜씨', '솟다', '송', '송가', '송강호', '송금', '송다은', '송도', '송미나', '송민호', '송소희', '송송', '송승헌', '송영길', '송윤아', '송은이', '송이', '송종국', '송중기', '송지효', '송찌질', '송창의', '송치', '송탈세', '송하예', '송해굥', '송헤교', '송형준', '송혜교', '송희섭', '쇄골', '쇄도', '쇠퇴하다', '쇼', '쇼건', '쇼맨', '쇼미더머니', '쇼아', '쇼지', '쇼핑몰', '숏컷', '수', '수가', '수고', '수금', '수급', '수긍', '수난', '수능', '수단', '수도', '수동', '수두', '수로', '수록', '수리', '수만', '수많다', '수면', '수모', '수목', '수박', '수발', '수배', '수백', '수법', '수북하다', '수사', '수상', '수상소감', '수상하다', '수수하다', '수순', '수술', '수시로', '수식어', '수신료', '수십', '수십억', '수아', '수애', '수없이', '수연', '수영', '수영복', '수요일', '수용', '수원', '수위', '수이', '수익', '수인', '수임', '수입', '수작', '수저', '수준', '수줍다', '수지', '수집', '수척하다', '수첩', '수치', '수치심', '수컷', '수행', '수향', '수현', '수형', '숙기', '숙언', '숙연', '숙이다', '숙제', '숙행', '숙행커플', '순', '순간', '순결', '순리', '순박하다', '순삭', '순산', '순서', '순수', '순수하다', '순식간', '순위', '순이', '순진', '순진하다', '순탄', '순하다', '숟가락', '술', '술사', '술수', '술집', '술처', '술처멱', '숨', '숨기', '숨기다', '숨다', '숨바꼭질', '숨소리', '숨쉬다', '숨죽', '숨통', '숫놈', '숭', '숭문중', '숭배', '숭보', '숯', '숱', '쉐', '쉐리', '쉐키들', '쉐프', '쉬', '쉬다', '쉬폰', '쉰', '쉰내', '쉴드', '쉴드치다', '쉽다', '슈', '슈가', '슈는', '슈도', '슈돌', '슈돌이', '슈만', '슈스케', '슈언', '슈주', '슈트', '슈퍼', '슈퍼맨', '슈퍼스타', '슈퍼쥬니어', '슈퍼카', '슈한테', '슛', '스', '스노우', '스님', '스랍', '스러운', '스런', '스럽게', '스럽다', '스럽지', '스럽지도', '스리', '스마', '스마트폰', '스몰', '스밍', '스브스', '스브얼', '스샷', '스섹신', '스스럼없이', '스스로', '스승', '스시', '스엠', '스엠화', '스웩있', '스위스', '스위치', '스윗', '스윙', '스윙스', '스치다', '스카이', '스캐', '스캔', '스캔들', '스케일', '스케줄', '스케쥴', '스케치북', '스켄들', '스크린', '스킵', '스타', '스타인', '스타일', '스타킹', '스탈', '스태프', '스탠', '스탠딩', '스탭', '스탭들', '스테이', '스텝', '스토리', '스토브', '스튜', '스튜디오', '스트레스', '스티브', '스티븐', '스티커', '스틱', '스팅', '스파이', '스파이더맨', '스파이크', '스페셜', '스페인', '스펙', '스펙트럼', '스포', '스포츠', '스포츠카', '스폰', '스폰있다', '스프', '스피드', '스피카', '슥', '슨', '슬금슬금', '슬기', '슬기롭다', '슬러', '슬럼', '슬렁슬렁', '슬리퍼', '슬슬', '슬쩍', '슬프다', '슬픔', '슴', '슴가', '습관', '승', '승관', '승기', '승려', '승리', '승리자', '승무원', '승부', '승소', '승승장구', '승아', '승원', '승자', '승재', '승전', '승진', '승질', '승천', '승현', '승훈', '싑', '시', '시가', '시간대', '시간여행', '시골', '시구', '시국', '시궁창', '시그널', '시금치', '시급하다', '시기', '시기하다', '시끄럽다', '시나', '시나리오', '시놉', '시누이', '시달리다', '시대', '시대극', '시댁', '시도', '시드라', '시들다', '시들하다', '시래기', '시랭', '시력', '시르다', '시름', '시리', '시리즈', '시민', '시발', '시보', '시부모', '시불', '시비', '시상', '시상식', '시새다', '시선', '시선집중', '시세', '시술', '시스타', '시시', '시시하다', '시아버지', '시아준수', '시안', '시야', '시어머니', '시언', '시원', '시원스럽다', '시원하다', '시위', '시인', '시작', '시장', '시전', '시절', '시점', '시즌', '시지', '시집', '시집가다', '시창', '시청', '시청률', '시청율', '시청자', '시쳥률', '시치미', '시커멓다', '시켯으', '시크릿가든', '시큼하다', '시킴', '시트콤', '시프', '시화', '시효', '시후', '식', '식구', '식다', '식당', '식당설겆', '식도', '식별', '식사', '식상하다', '식수', '식스센스', '식이', '식탐', '식품', '신', '신가', '신검', '신격화', '신경', '신경안', '신고', '신곡', '신급', '신기', '신기하다', '신나다', '신념', '신다', '신다은', '신데렐라', '신데렐라맨', '신도', '신동', '신동미', '신동엽', '신동욱', '신들', '신라', '신라면', '신랑', '신랑감', '신뢰', '신문사', '신물', '신민아', '신발', '신봉선', '신부', '신분', '신비', '신상', '신상털기', '신선하다', '신성록', '신성일', '신성하다', '신세경', '신소율', '신수지', '신양면', '신영복', '신영수', '신의한수', '신인', '신인상', '신인시절', '신입', '신자', '신작', '신재민', '신재은', '신재호', '신정환', '신제품', '신종', '신중하다', '신지', '신지수', '신처리', '신천지', '신청', '신체', '신태용', '신파극', '신품', '신한', '신해철', '신현준', '신형', '신혜', '신혜선', '신혜성', '신혼', '신혼여행', '신화', '실', '실감', '실검', '실기', '실눈', '실력', '실례', '실루엣', '실리다', '실망', '실망하다', '실명', '실물', '실사판', '실상', '실수', '실시', '실시간', '실실', '실어', '실언', '실업자', '실장', '실적', '실제', '실존', '실종', '실질', '실천', '실체', '실컷', '실타', '실패', '실패하다', '실하다', '실현', '실화', '싫다', '싫어지다', '싫어하다', '싫증', '심', '심각하다', '심다', '심리', '심리치료', '심보', '심뽀', '심뽀갖', '심사', '심상정', '심성', '심성은', '심술', '심심하다', '심오하다', '심장', '심장마비', '심장소리', '심정', '심증', '심취', '심쿨', '심쿵', '심통', '심판', '심폐소생', '심플', '심하다', '심해', '심해지다', '십', '십년', '십대', '십여', '십원', '싱', '싱글', '싱싱하다', '싱어', '싱크로', '싶곸', '싶다', '싸', '싸가지', '싸구려', '싸다', '싸대기', '싸우다', '싸움', '싸이', '싸이다', '싸이코', '싸이코패스', '싸인', '싸잡다', '싸하다', '싹', '싹수', '싹싹하다', '쌀', '쌈', '쌈디', '쌍', '쌍갓', '쌍도', '쌍둥이', '쌍방', '쌍수', '쌍욕', '쌍코피', '쌍판', '쌍폐남', '쌓다', '쌓이다', '쌤', '쌤통', '쌩', '쌩곀', '쌩까다', '쌩뚱맞', '쌩목', '써니', '써다', '써주다', '썩다', '썰전', '썸', '썸녀', '썻거', '쎄다', '쎄리', '쎗다면', '쏘다', '쏙', '쏜다', '쏟아지다', '쏠', '쏠리다', '쏠쏠하다', '쏭가인', '쑈', '쑤랙', '쑤셧잖', '쑤시다', '쑥쑥', '쓰다', '쓰래', '쓰러지다', '쓰레기', '쓰레긴건', '쓰레들', '쓰리다', '쓰시', '쓴다', '쓸다', '쓸데없다', '쓸데없이', '쓸모', '쓸모없다', '씁쓸하다', '씌', '씌우다', '씌인듯', '씨', '씨방', '씨뱅', '씨부리다', '씨아이', '씨앗', '씨엔블루', '씨엘', '씩', '씩씩하다', '씬', '씬가', '씸디나와', '씹다', '씹선비', '씹히다', '씻다', '씽', '아가', '아가리', '아가씨', '아고라', '아구', '아구찜', '아구창', '아기', '아까버', '아깝다', '아끼다', '아낌없다', '아나운서', '아내', '아냠', '아니꼽다', '아니냨', '아니다', '아다라', '아담하다', '아대', '아들', '아들내미', '아디', '아디다스', '아따', '아라', '아라하', '아래', '아랫', '아련하다', '아름', '아름답다', '아리', '아마', '아마도', '아마추어', '아무', '아무나', '아무래도', '아무렇다', '아무렴', '아무리', '아무튼', '아물다', '아미', '아방궁', '아버님', '아버지', '아베', '아보', '아부지', '아비', '아빠', '아빠버프', '아산', '아쉬움', '아쉽다', '아스', '아스트로', '아시', '아시냐', '아시안', '아시안컵', '아싱해짐', '아싸', '아씨', '아아', '아악', '아안', '아앙', '아양', '아역', '아예', '아오', '아오이', '아우', '아우라', '아웃', '아유', '아육대', '아이돌', '아이돌가수', '아이디', '아이디어', '아이린', '아이언맨', '아이엠', '아이오', '아이유', '아이즈', '아이콘', '아이템', '아이폰', '아일랜드', '아자', '아작', '아저씨', '아전', '아주', '아주머니', '아줌마', '아즘마', '아지', '아직', '아직도', '아진짴오랜', '아치', '아침', '아침밥', '아토피', '아티스트', '아파트', '아프다', '아프리카', '아픔', '악', '악녀', '악마', '악성', '악역', '악용', '악의', '악의축', '악질', '악착같이', '악풀', '악플', '악플다다', '악플달다', '악플량', '악플러', '악플쩌', '악한', '악행', '악화', '안', '안감', '안갖', '안검', '안경', '안고', '안과', '안긔', '안기다', '안나', '안남', '안남다', '안내', '안내상', '안녕하다', '안다', '안달', '안대', '안뎄다', '안도', '안되다', '안된딘', '안됫으믄', '안드', '안듬', '안락', '안락사', '안마', '안마방', '안목', '안무', '안변', '안보', '안부', '안성훈', '안습', '안시성', '안심', '안쓰럽다', '안유진', '안이', '안일', '안재현', '안재홍', '안재환', '안전', '안전하다', '안정', '안정환', '안좋다', '안주', '안준', '안중', '안지우', '안처', '안치우', '안타', '안타깝다', '안티', '안하무인', '안함', '안해', '안햇으', '안현모', '안효섭', '안희정', '앉다', '앉히다', '않넫', '않다', '알', '알권리', '알꼬', '알다', '알라', '알렉스', '알려지다', '알리', '알리다', '알맹이', '알바', '알베', '알베르토', '알수없음', '알아보다', '알아주다', '알음', '알이에프', '알짛내', '알짝', '알츠하이머', '알콜중독', '알콩달콩', '알탕', '알함브라', '앓다', '암', '암놈', '암만', '암시', '암암리', '암탉', '암퇘지', '암튼', '압도', '압살', '압승', '앖다', '앗다', '았', '앙', '앙념', '앙이다', '앚', '앞', '앞가림', '앞길', '앞날', '앞니', '앞뒤', '앞머리', '앞서', '앞세우다', '애', '애가', '애걸', '애견', '애교', '애국', '애국가', '애국자', '애기', '애꿎', '애나', '애넨', '애니콜', '애도', '애둘', '애려', '애매하다', '애먼', '애무', '애비', '애사', '애쓰다', '애액', '애원', '애인', '애잔하다', '애절하다', '애정', '애정씬', '애죽', '애증', '애착', '애첩', '애초', '애프터스쿨', '애하', '액', '액션', '액수', '액자', '앤데', '앤디', '앤딩', '앨범', '앱', '앵', '앵두', '앵벌이', '앵앵', '야광', '야구', '야구선수', '야구장', '야노', '야다', '야담', '야동', '야무지다', '야비하다', '야야', '야인시대', '야하다', '약', '약국', '약대', '약물', '약속', '약점', '약하다', '약해지다', '약혼자', '얄미웡', '얄밉다', '얌전하다', '얍삽한년', '얏호', '양', '양기원', '양녀', '양념', '양념치킨', '양다리', '양동근', '양민', '양반', '양배추', '양보', '양복', '양사', '양상', '양상국', '양성', '양성평등', '양세종', '양세형', '양심', '양씨', '양악수술', '양예원', '양육비', '양은', '양인', '양준', '양준혁', '양지', '양지원', '양쪽', '양철', '양치', '양치기', '양하다', '양해', '양현석', '양혐석', '양희은', '얔', '얘', '얘기', '얘넨', '얜', '어거지', '어게인', '어그', '어금니', '어기', '어깨', '어나', '어느새다', '어뎃노', '어도', '어두운', '어디가', '어디서', '어딘가', '어딜', '어딧', '어딧겠', '어딧음', '어딨다', '어따', '어떡하다', '어떻', '어떻다', '어떻든', '어렇', '어려움', '어려워지다', '어렵다', '어루만지다', '어르다', '어른', '어리다', '어린시절', '어린이', '어마', '어마어마하다', '어머', '어머나', '어머니', '어머님', '어무', '어묵', '어미', '어벤져스', '어보', '어부', '어색', '어색하다', '어서', '어설프다', '어어', '어우', '어우리', '어울리다', '어울림', '어워드', '어유', '어이없다', '어이쿠', '어장', '어잿거', '어제', '어젯밤', '어중간하다', '어지간', '어지간하다', '어지럽다', '어짜피', '어째', '어쨋', '어쨌', '어쨌든', '어쩌', '어쩌고저쩌고', '어쩌고해', '어쩌까', '어쩌나', '어쩌내', '어쩌누', '어쩌다', '어쩌다가', '어쩌라고', '어쩌라구', '어쩌려', '어쩌면', '어쩌지', '어쩐', '어쩐지', '어쩔', '어쩜', '어쪄려', '어찌어찌', '어차피', '어치', '어플', '어필', '어한첨', '어허', '어후', '어휴', '억', '억닥위', '억대', '억세다', '억울', '억울하다', '억원', '억이', '억지', '억지로', '억지스럽다', '언', '언급', '언능', '언니', '언론', '언론인', '언론플레이', '언어', '언정', '언제나', '언플', '언플쩌', '언행', '얹다', '얹히다', '얻다', '얻지', '얼', '얼간이', '얼굴', '얼굴피셧', '얼다', '얼른', '얼매', '얼빠', '얼씨구', '얼씬', '얼어붙다', '얼음', '얼쩡거리다', '얼평', '얼핏', '얼훌', '얽히다', '엄', '엄두', '엄마', '엄벌', '엄복동', '엄빠', '엄연하다', '엄정화', '엄지', '엄지손가락', '엄청', '엄청나다', '엄청쩠', '엄친딸', '엄태웅', '엄텅', '엄포', '엄하', '엄현경', '업', '업계', '업그레이드', '업글시', '업다', '업도', '업보', '업슴', '업자', '업체', '업힐때', '없다', '없슴묘', '없애다', '없애드', '없어지다', '없이', '없쟎', '엇', '엇네', '엇니', '엇디', '엇을', '엉', '엉덩이', '엉딩이', '엉뚱하다', '엉망', '엊그제', '엌', '엎', '엎어', '엎었', '에가', '에게는', '에게도', '에게로', '에게서', '에겐', '에고', '에구', '에까지', '에나', '에너미', '에너지', '에는', '에다', '에다가', '에도', '에두', '에드', '에드가', '에디킴', '에라도', '에러', '에로', '에로스', '에로영화', '에르메스', '에를', '에리', '에릭', '에만', '에쁘', '에서까지', '에서나', '에서는', '에서도', '에서만', '에서의', '에선', '에스', '에스더', '에스코트', '에요', '에이', '에이미', '에이브', '에이스', '에이시아', '에이프릴', '에이핑크', '에쵸티', '에코', '에프', '에프터스쿨', '에피', '에피소드', '에혀', '엑', '엑소', '엑스', '엑스트라', '엔', '엔도', '엔드게임', '엔딩', '엔진', '엔터', '엔터테이먼트', '엔터테인먼트', '엘', '엘라스', '엘리트', '엠', '엠넷', '엠마', '엠블랙', '엠비씨', '엠빙신', '엠씨', '엠씨몽', '엠파이어', '엣날', '엣날얼굴', '엥', '여관', '여기다', '여기저기', '여니', '여대', '여드름', '여러', '여럿', '여론', '여론몰이', '여론조작', '여름', '여배우', '여보세요', '여사', '여생', '여서', '여선생', '여성', '여성인권', '여신', '여실히', '여왕', '여요', '여우', '여운', '여유', '여유롭다', '여윽시', '여자', '여자도', '여자아이', '여자애', '여자친구', '여장', '여적', '여전하다', '여제', '여주', '여중생', '여지', '여진구', '여차하면', '여친', '여태', '여태껏', '여편네', '여포', '여프듀', '여하튼', '여학생', '여행', '여행가', '여행객', '여혐', '역', '역겹다', '역경', '역관', '역다', '역대', '역도', '역량', '역병', '역사', '역사왜곡', '역쉬', '역시', '역풍', '역할', '역행', '역활', '역효과', '엮', '엮어', '엮으려', '엮이', '엮이겠', '연', '연간', '연결', '연결고리', '연관', '연구', '연구소', '연구원', '연극', '연금술사', '연기', '연기대상', '연기력', '연기자', '연남동', '연달', '연대', '연대기', '연도', '연때', '연락', '연령', '연말', '연명', '연배', '연봉', '연상', '연상녀', '연상연하', '연설', '연세', '연세대', '연속', '연수', '연습', '연습생', '연승', '연애', '연약하다', '연얜', '연예', '연예가중계', '연예계', '연예인', '연예인병', '연옌', '연우', '연우진', '연인', '연장', '연재', '연정훈', '연좌제', '연출', '연출자', '연하', '연하남', '연하다', '연희', '열', '열광하다', '열다', '열대새', '열두달', '열등', '열등감', '열등하다', '열리다', '열받드', '열사', '열시', '열심', '열심히', '열애', '열애설', '열애인정', '열연', '열정', '열차', '열폭', '염', '염려', '염병', '염색체', '염소', '염정아', '염치', '염탐', '엽기', '엿', '엿같아', '엿먹으', '였슴', '영감', '영계', '영광', '영국드라마', '영리활동', '영배', '영부인', '영상', '영수증', '영심', '영악', '영애', '영양소', '영양식', '영어', '영업', '영업정지', '영웅재중', '영웅호걸', '영원', '영원하다', '영유', '영은', '영자', '영재', '영재교육', '영접', '영주', '영주고', '영주권', '영향', '영향력', '영혼', '영화', '영화계', '영화관', '영화로', '영화배우', '영화인', '옆', '옆모습', '옆집', '예감', '예견', '예고', '예고편', '예능', '예능인', '예매', '예민', '예민하다', '예방', '예방접종', '예비', '예뽀', '예쁘다', '예사롭다', '예상', '예서', '예수', '예수님', '예술', '예술가', '예시', '예언', '예요', '예원', '예은', '예의', '예인', '예전', '예절', '예정', '예진', '예측', '옌', '옘병', '옛', '옛날', '옛말', '옜날', '오가다', '오그라들다', '오글거리다', '오기', '오나라', '오누이', '오뉴월', '오는', '오늘', '오늘밤', '오늘이', '오니', '오다', '오달수', '오드', '오디', '오디션', '오디오', '오라', '오라버니', '오락', '오랄', '오래', '오래도록', '오래되다', '오래오래', '오래전', '오랜', '오랫', '오랫동안', '오르내리다', '오른손', '오른쪽', '오름', '오리', '오마이', '오마이갓', '오만하다', '오메', '오물', '오바쩌', '오버', '오브', '오빠', '오상진', '오션', '오손도손', '오스카', '오승환', '오심', '오십', '오싱', '오씨', '오연서', '오연수', '오열', '오영주', '오오', '오우', '오우야', '오윤아', '오이', '오이지', '오점', '오정세', '오정연', '오죽', '오죽하다', '오줌', '오지', '오지랖', '오진영', '오징어', '오창석', '오초희', '오케이', '오크', '오타쿠', '오프라인', '오픈', '오피스', '오합지졸', '오해', '오혁', '오현경', '옥', '옥땅', '옥자', '옥죄', '옥주현', '옥탑방', '온', '온갓', '온갖', '온기', '온니유', '온도', '온라인', '온몸', '온유', '온정', '온통', '온화', '올', '올드보이', '올라가다', '올라서다', '올라오다', '올려놓다', '올려주다', '올리다', '올림픽', '올바르다', '올백머리', '올빼미', '올인', '올튜닝', '올해', '옮기다', '옮으', '옳다', '옵니다', '옵션', '옷', '옷발', '옹', '옹기종기', '옹알옹알', '옹이', '옹호', '와꾸', '와는', '와도', '와송', '와우', '와의', '와이셔츠', '와이지', '와이키키', '와이프', '와장창', '와전쩌', '와중', '왁', '왁스', '완', '완고하다', '완도', '완료', '완벽', '완벽하다', '완성', '완장', '완전', '완전체', '완존', '완죤', '완죤멋찜', '완주', '완치', '완쾌', '완판', '완판해', '왈가', '왈부', '왈왈', '왑피', '왓', '왓으', '왕', '왕국', '왕년', '왕도', '왕따', '왕무', '왕빛나', '왕사', '왕새우', '왕성', '왕식', '왕좌', '왕지혜', '왕진', '왘', '왜곡', '왜구', '왜그레', '왜년', '왜놈', '왜못', '왜설겆', '왜소하다', '왜안', '왜욕', '왜인', '왜캐', '왜함', '왠', '왠만하다', '왠지', '외', '외간', '외계', '외과', '외교', '외국', '외국인', '외다', '외도', '외동', '외로', '외롭다', '외면', '외모', '외박', '외부', '외식', '외압', '외우다', '외챴는데', '외출', '외치', '외치다', '외톨이', '왼손', '왼쪽', '요', '요가', '요구', '요기', '요뇬', '요딴', '요란하다', '요런', '요렇게', '요리', '요리사', '요리실', '요새', '요소', '요술', '요양', '요요', '요원', '요정', '요즘', '요지', '요지경', '요청', '요코', '요한', '욕', '욕구', '욕망', '욕먹다', '욕설', '욕심', '욕조', '욕질', '욕처', '욕함', '욕햇', '욤', '욤귀욤', '욥', '욧', '용', '용감하다', '용기', '용다', '용돈', '용두사미', '용병', '용서', '용석', '용어', '용이', '용인', '용임', '용진', '용하다', '용해', '우', '우걱우걱', '우기다', '우길', '우대', '우도', '우동', '우려', '우롱', '우루루', '우르를', '우리나라', '우리동네', '우리엄마', '우리형', '우린', '우릴', '우만', '우비다', '우상', '우수', '우수상', '우스', '우습다', '우승', '우승상금', '우승자', '우승하다', '우시', '우아', '우아하다', '우연히', '우와', '우울증', '우울하다', '우월', '우웩', '우유', '우익', '우정', '우진', '우쭈', '우케', '우파', '우하하', '우한', '우혜우혜', '우회', '욱일기', '운', '운동', '운동량', '운동선수', '운동신경', '운동화', '운동회', '운명', '운영', '운전', '운전기사', '운전자', '운지', '운행', '울', '울고불고', '울궈', '울다', '울리다', '울산', '울상', '울컥', '움', '움직이다', '웁', '웃', '웃기', '웃기다', '웃긴뇬', '웃다', '웃음', '웃음소리', '웃프', '웅', '웅앵웅', '웅챠', '워', '워낙', '워마드쌍것들', '워터스포츠', '원', '원걸', '원금', '원내', '원더걸스', '원도', '원래', '원만', '원만하다', '원망', '원본', '원부인', '원빈', '원상탸', '원수', '원숭이', '원아', '원인', '원자폭탄', '원작', '원정', '원조', '원주', '원진', '원칙', '원타임', '원폭', '원피스', '원하다', '원한', '원호', '원희', '월급', '월급쟁이', '월드', '월드컵', '월세', '월요일', '월욜', '월트디즈니', '웜퇘', '웠', '웨', '웨딩', '웨어', '웩', '웬', '웬디', '웬만하다', '웬수', '웰', '웹드기', '웹툰', '위', '위급', '위기', '위너', '위대', '위대하다', '위로', '위생', '위스키', '위스플', '위아래', '위안', '위안부', '위원', '위원회', '위자료', '위장', '위장결혼', '위주', '위치', '위키', '위트', '위함', '위해', '위험', '위험하다', '위협', '위화', '윈도', '윈도우', '윌리엄', '윌벤져스', '윗', '유', '유가', '유가족', '유감', '유강', '유건', '유고', '유골', '유광', '유괴', '유권', '유기', '유기동물', '유나', '유난', '유노윤호', '유느님', '유니', '유니클로', '유닛', '유도', '유독', '유동근', '유두', '유라', '유럽', '유료', '유륜', '유리', '유리천장', '유리하다', '유명', '유명인', '유명하다', '유모차', '유물', '유미', '유민상', '유별', '유병언', '유병재', '유부', '유부녀', '유분수', '유빈', '유사', '유산', '유산슬', '유서', '유선', '유스', '유스케', '유승민', '유승준', '유시', '유시민', '유시춘', '유아인', '유애', '유업', '유엔', '유역비', '유연석', '유연하다', '유영', '유유', '유유상종', '유이', '유익하다', '유인나', '유일하다', '유재석', '유전자', '유종', '유죄', '유주', '유지', '유진', '유진우', '유착', '유책', '유천', '유출', '유치원', '유치하다', '유쾌', '유키스', '유투', '유투브', '유튜브', '유트브', '유틀', '유포', '유포자', '유하', '유학', '유해진', '유행', '유행어', '유형', '유혹', '유화', '유흥가', '유흥업소', '유희열', '육갑', '육두문자', '육성재', '육아', '육종', '육중', '육지', '윤', '윤건', '윤경', '윤계상', '윤곽', '윤두준', '윤미래', '윤민수', '윤박', '윤상', '윤서', '윤서인', '윤성한', '윤세리', '윤세아', '윤소이', '윤소희', '윤시윤', '윤식당', '윤씨', '윤아', '윤여정', '윤은혜', '윤정', '윤정수', '윤정아', '윤종신', '윤지', '윤지성', '윤지오', '윤진이', '윤총경', '윤형', '율', '으', '으로가', '으로는', '으로도', '으로라도', '으로만', '으로서의', '으로의', '으론', '으매', '으윽', '으이', '윽', '윾', '윾시', '은', '은거', '은근', '은나라', '은또', '은방', '은비', '은섬', '은수', '은씨', '은애', '은우', '은인', '은지', '은지원', '은진', '은퇴', '은혁', '은혼식', '을궈', '을기', '을사', '을해', '음', '음료', '음모론', '음반', '음방', '음색', '음서', '음성', '음식', '음식점', '음악', '음역', '음원', '음윈상', '음이탈', '음정', '음주', '음주운전', '음치', '음탕', '음탕하다', '음해', '읍', '읍니', '읏', '응근슬쩍', '응급실', '응답', '응딩', '응암동', '응애', '응원', '응원글', '의건', '의견', '의논', '의대', '의도', '의뢰', '의료', '의료사', '의리', '의무', '의무감', '의무병', '의문', '의미', '의병', '의부증', '의사', '의상', '의식', '의심', '의심스럽다', '의아', '의외', '의외로', '의욕', '의원', '의의', '의인', '의자', '의적', '의젓하다', '의존', '의중', '의지', '의하다', '의학', '의향', '의혹', '이강인', '이거지', '이걸루', '이겠다', '이견', '이경', '이경규', '이경실', '이계인', '이고', '이광수', '이구', '이구나', '이구만', '이국주', '이군', '이규', '이규한', '이그', '이그리', '이글', '이글스', '이기', '이기다', '이기도', '이기세', '이기심', '이기주의', '이끌다', '이나', '이나라', '이나리', '이나영', '이냐', '이네', '이념', '이노', '이뇨', '이니', '이니까', '이닌', '이다', '이다해', '이다희', '이단', '이대', '이대로', '이덕화', '이던', '이도', '이돈', '이동건', '이동국', '이동우', '이드', '이득', '이든', '이따', '이따가', '이따위', '이딴', '이떄', '이라', '이라고', '이라고는', '이라곤', '이라기', '이라는', '이라니', '이라도', '이라서', '이란', '이랑', '이랑은', '이래도', '이래서', '이래저래', '이랬는데', '이러니', '이러쿵저러쿵', '이런저런', '이렇게', '이렇다', '이레', '이력', '이론', '이롭다', '이루', '이루다', '이루어지다', '이르다', '이르키', '이를', '이름', '이리', '이마', '이만', '이만기', '이만원', '이며', '이면', '이명', '이명박', '이모', '이목', '이목구비', '이몽', '이미', '이미경', '이미숙', '이미자', '이미지', '이민', '이민기', '이민정', '이민호', '이발', '이백', '이백억', '이벤트', '이별', '이병헌', '이보', '이보람', '이복', '이본', '이부진', '이분', '이불', '이빨', '이뽀', '이뿌다', '이쁘닌까', '이쁘다', '이쁭거', '이사', '이사배', '이사이', '이산', '이상민', '이상봉', '이상아', '이상엽', '이상우', '이상윤', '이상은', '이상인', '이상자', '이상하다', '이상형', '이상화', '이색', '이서', '이서준', '이서진', '이석훈', '이선', '이선경', '이선균', '이선정', '이성', '이성경', '이성계', '이성미', '이성민', '이성우', '이성욱', '이성재', '이세', '이세영', '이세창', '이소라', '이소연', '이솜', '이수', '이수경', '이수근', '이순재', '이슈', '이스', '이승', '이승기', '이승만', '이승우', '이승윤', '이승환', '이승훈', '이시언', '이시영', '이신', '이실', '이심', '이십', '이아', '이아주', '이안', '이애', '이야', '이야기', '이야말로', '이어도', '이어지다', '이어진', '이어폰', '이억', '이얼', '이에요', '이엘리야', '이여', '이연희', '이열음', '이영애', '이영자', '이예', '이예림', '이완', '이왕', '이왕이면', '이외', '이요', '이용', '이용대', '이용진', '이웃', '이유', '이유리', '이유지', '이윤', '이윤성', '이윤지', '이은주', '이은희', '이의', '이이', '이이경', '이이구', '이익', '이자', '이자나', '이장', '이장우', '이재', '이재영', '이재용', '이재원', '이전', '이정', '이정재', '이정현', '이제', '이제야', '이젭', '이종석', '이종현', '이주', '이주승', '이주연', '이주일', '이준', '이준기', '이중', '이중성', '이중인격', '이즈', '이지', '이지아', '이지은', '이지혜', '이지훈', '이진', '이진숙', '이질', '이집', '이징', '이쯤', '이찬', '이찬오', '이찬원', '이참', '이창동', '이창민', '이창섭', '이창훈', '이채', '이채연', '이청아', '이체', '이치', '이크', '이탈', '이탈리아', '이태곤', '이태란', '이태리', '이태임', '이특', '이틀', '이편', '이프', '이필모', '이하', '이하고', '이하늘', '이하늬', '이하이', '이하정', '이함', '이항', '이해', '이해관계', '이해해', '이혁', '이현', '이형', '이혜원', '이혜정', '이호', '이호석', '이혼', '이홍기', '이효리', '이후', '이휘재', '이희진', '익', '익다', '익살스럽다', '익숙하다', '인', '인가', '인가요', '인간', '인간극장', '인간성', '인간취', '인거', '인걸', '인게', '인격', '인공', '인과', '인교진', '인구', '인국', '인권', '인기', '인기상', '인내', '인대', '인댕', '인덕', '인데', '인도', '인들', '인디언', '인디음악', '인류', '인륜', '인맥', '인물', '인민', '인방', '인별', '인분', '인사', '인상', '인색', '인생', '인생살이', '인생쫑났', '인성', '인성진', '인솔', '인스타', '인스타그램', '인스턴트', '인식', '인신', '인신공격', '인신매매', '인씨', '인연', '인위', '인육', '인의', '인자', '인재', '인정', '인제', '인조', '인종', '인종차별', '인준', '인즉슨', '인증', '인증샷', '인지', '인지도', '인지부조화', '인직', '인척', '인체', '인치', '인터넷', '인터뷰', '인터폴', '인턴', '인테리어', '인품', '인하다', '인하대', '인형', '일가', '일간', '일관', '일기', '일기장', '일당', '일도', '일동', '일련', '일로', '일루미나티', '일리', '일리네어', '일링', '일만', '일맥상통', '일명', '일박이일', '일반', '일반인', '일방', '일벌', '일베', '일베충', '일병', '일보', '일본', '일본도', '일본드라마', '일본사람', '일본어', '일본여행', '일본인', '일본정부', '일부', '일부다처제', '일부러', '일상', '일상생활', '일생', '일석이조', '일수', '일어나다', '일어나서', '일어나지', '일어서다', '일으키다', '일이', '일인', '일일', '일일이', '일임', '일자', '일자리', '일장기', '일절', '일정', '일정하다', '일제', '일종', '일주일', '일지', '일진', '일진설', '일찍', '일체', '일촉즉발', '일케', '일터', '일텐데', '일해', '일화', '읽다', '읽히다', '잃다', '잃어버리다', '임', '임금', '임기', '임기응변', '임나', '임마', '임명', '임블리', '임산부', '임성한', '임세령', '임수향', '임시완', '임신', '임영웅', '임예진', '임원희', '임종석', '임지연', '임창정', '임청하', '임패트있는분', '임팩트', '임하룡', '임현', '임현주', '입', '입국', '입금', '입김', '입다', '입담', '입당', '입대', '입덕', '입맛', '입사', '입소', '입술', '입양', '입원', '입자', '입장', '입좀', '입주', '입증', '입지', '입천장', '입터', '입하', '입학', '입히다', '잇다', '잉', '잉랩', '잉여', '잊다', '잊어버리다', '잊혀지다', '잎', '잏', '자가', '자가발전', '자건', '자게', '자격', '자격지심', '자고', '자고로', '자괴', '자국', '자궁', '자그마하다', '자극', '자극받다', '자극제', '자금', '자기야', '자꾸', '자꾸나', '자녀', '자다', '자도', '자동', '자동차', '자두', '자딸', '자라', '자라다', '자랏우', '자랑', '자랑스럽다', '자료', '자루', '자르다', '자리', '자리다', '자막', '자매', '자발', '자백', '자본주의', '자부', '자부심', '자비', '자빠졋', '자빠지다', '자산', '자살', '자상하다', '자석', '자세', '자세하다', '자손', '자수', '자숙', '자숙해', '자숙했다', '자슥들', '자시', '자시다', '자식', '자식새끼', '자신감', '자아', '자업자득', '자연', '자연미', '자연미인', '자연스럽다', '자연스레', '자연인', '자영', '자원봉사', '자위', '자유', '자유당', '자유롭다', '자유연애', '자의', '자이언트', '자인', '자임', '자자하다', '자전차', '자제', '자존감', '자존심', '자주', '자중', '자지', '자진', '자진하차', '자질', '자체', '자칭', '자퇴', '자판기', '자핑', '작', '작가', '작가라', '작고', '작곡', '작곡가', '작년', '작다', '작당', '작도', '작물', '작살', '작성', '작업', '작업실', '작위', '작은딸', '작자', '작작', '작작하다', '작전', '작정', '작품', '잔', '잔나비', '잔득', '잔뜩', '잔소리', '잔인하다', '잔잔', '잔잔하다', '잔챙이', '잔치', '잖다', '잘', '잘나가다', '잘나다', '잘나오다', '잘되지', '잘만', '잘맞다', '잘머꼬', '잘못', '잘버', '잘버는데', '잘버시', '잘봣습니', '잘불르다', '잘빠지다', '잘뽑다', '잘살다', '잘생겻', '잘생기다', '잘쓰다', '잘알다', '잘컸넹', '잘해야', '잘해주다', '잘햇을텐데', '잠', '잠꼬대', '잠들다', '잠복', '잠수', '잠자다', '잠자리', '잠자코', '잠잠하다', '잠재', '잠정', '잡', '잡것', '잡고', '잡기', '잡다', '잡아가다', '잡아당기다', '잡아떼다', '잡아먹다', '잡음', '잡지', '잡티', '잡히다', '잣', '장', '장가', '장고', '장관', '장군', '장기간', '장나라', '장난', '장님', '장단', '장담', '장대', '장도리', '장도연', '장동건', '장동민', '장디매', '장땡', '장례식', '장르', '장만', '장말', '장면', '장모', '장모님', '장문', '장미', '장미여관', '장미희', '장백지', '장보리', '장본인', '장사', '장사꾼', '장성규', '장소', '장수', '장승', '장신영', '장씨', '장악', '장애', '장애인', '장어', '장영란', '장예원', '장우혁', '장원영', '장위안', '장유유서', '장윤정', '장의', '장이', '장인', '장자연', '장재인', '장제원', '장창', '장치', '장태준', '장하다', '장혁', '장훈', '재', '재간', '재결합', '재계약', '재국', '재균', '재기', '재난', '재는', '재능', '재능기부', '재다', '재단', '재동', '재력', '재료', '재미', '재미없다', '재미있다', '재믺나', '재민', '재밌다', '재발', '재방', '재방송', '재벌', '재범', '재산', '재상', '재석', '재수', '재수앖', '재수없다', '재쑈', '재앙', '재야', '재우다', '재원', '재인', '재임', '재잘대다', '재정', '재주', '재취', '재치', '재판', '재패', '재팬', '재학', '재현', '재형', '재혼', '재활용', '잭블랙', '잼', '잼남', '잼없다했드', '잼잼', '쟁이', '쟁일', '쟈', '쟈들', '쟤', '쟤때매', '쟤임', '저건', '저걸', '저격', '저급', '저급하다', '저넘', '저녁', '저년', '저능', '저니', '저따위', '저딴', '저러다', '저러케', '저런', '저렇게', '저렇다', '저렴', '저렴하다', '저리', '저리다', '저만', '저만큼', '저물다', '저번', '저음', '저작권', '저절로', '저주', '저지르다', '저쩌', '저체중', '저출산', '저택', '저혈압', '적', '적극', '적나라하다', '적다', '적당하다', '적도', '적발', '적뽀', '적색', '적어도', '적용', '적응', '적임', '적자', '적절하다', '적중', '적지', '적페', '적폐', '적화통일', '적히다', '전', '전개', '전과', '전과자', '전관예우', '전교', '전국', '전국구', '전국노래자랑', '전남친', '전남편', '전념', '전도', '전두환', '전라남도', '전라도', '전라디언', '전력', '전례', '전멸', '전문', '전문가', '전문직', '전미선', '전반', '전범', '전보', '전복', '전생', '전설', '전성기', '전세계', '전소민', '전시장', '전씨', '전액', '전여자친구', '전여친', '전역', '전영록', '전용', '전원', '전이', '전인', '전일', '전자기기', '전자레인지', '전자발찌', '전작', '전쟁', '전쟁기념관', '전적', '전제', '전주', '전지현', '전진', '전집', '전체', '전투기', '전투씬', '전파', '전함', '전해', '전향', '전혀', '전현무', '전형', '전화', '전화번호', '전화하다', '전환', '절', '절대', '절대로', '절도', '절레절레', '절로', '절망', '절묘하다', '절반', '절세', '절세미인', '절실', '절약', '절절', '절정', '절차', '절친', '절하', '젊다', '젊은이', '젊음', '점', '점검', '점수', '점심', '점유', '점점', '점주', '점차', '점퍼', '점포', '접', '접근', '접다', '접대', '접대부', '접착', '젓', '젓댓', '정', '정가은', '정겨운', '정겹다', '정경', '정경호', '정국', '정권', '정글', '정나미', '정다빈', '정답', '정당성', '정당하다', '정당화', '정도', '정도전', '정돈', '정두홍', '정력', '정리', '정리정돈', '정말', '정면', '정모', '정미', '정법', '정보', '정복', '정부', '정산', '정상', '정상인', '정상화', '정상회담', '정색', '정서', '정석', '정석원', '정선', '정선희', '정설', '정성', '정세운', '정소민', '정소영', '정숙', '정숙희', '정시아', '정식', '정신', '정신과상담', '정신병', '정신병원', '정신승리', '정신질환', '정신차려라', '정신차리다', '정심', '정싱좀', '정아', '정액', '정연', '정용화', '정우', '정우성', '정웅인', '정원', '정유미', '정유진', '정은정', '정은채', '정은태', '정의', '정의롭', '정이', '정인선', '정작', '정장', '정정', '정조국', '정존', '정종철', '정죄', '정준', '정준영', '정준하', '정준호', '정지', '정지훈', '정진', '정착', '정채', '정체', '정치', '정치계', '정치권', '정치인', '정통', '정해', '정해지다', '정현', '정형돈', '정화', '정확하다', '정훈', '정훈희', '정히', '젖', '젖가슴', '젖꼭지', '젖다', '제갈공명', '제거', '제곱', '제공', '제국', '제기', '제나', '제니', '제다', '제대', '제대로', '제도', '제동', '제등', '제때', '제로', '제리케이', '제명', '제목', '제발', '제법', '제보', '제보자', '제사', '제삿밥', '제스쳐', '제시', '제시카', '제안', '제어', '제왑', '제외', '제이', '제이슨', '제인', '제일', '제자', '제작', '제작비', '제작사', '제재', '제적', '제주도', '제품', '제한', '제해', '젝키', '젠', '젠더', '젠장', '젠틀', '젤', '젤루', '젤예', '져', '져서', '젼나', '젼혀못찿', '졋', '졋누', '졋을텐', '졋음', '졍', '조', '조가', '조각', '조각상', '조강지처', '조개', '조건', '조국', '조그만', '조금씩', '조급하다', '조기', '조덕제', '조롱', '조르다', '조리', '조리돌림', '조만간', '조만해', '조명', '조문', '조민기', '조민아', '조보아', '조부', '조사', '조사해', '조상', '조선', '조선시대', '조선인', '조선일보', '조선족', '조성모', '조성하', '조세형', '조세호', '조센징', '조속', '조수미', '조수훈', '조신', '조심', '조심하다', '조아', '조아리다', '조언', '조여정', '조연', '조연정', '조영구', '조영남', '조용필', '조용하다', '조우', '조우종', '조유리', '조은정', '조의', '조이', '조이다', '조인성', '조작', '조잡하다', '조장', '조재현', '조절', '조정석', '조제', '조졋다', '조종', '조중동', '조지', '조직', '조차가', '조충현', '조치', '조카', '조캣따', '조커', '조폭', '조합', '조항', '조현', '조현우', '조현재', '조형', '조혜련', '조화', '조회', '족', '족보', '족속', '족족', '족치다', '존', '존경', '존나', '존못', '존심', '존예', '존잘', '존재', '존잼', '존중', '존칭', '졷망', '졸', '졸귀', '졸다', '졸라', '졸렬하다', '졸리', '졸리다', '졸부', '졸업', '졸음', '졸이다', '졸작', '좀더', '좀도', '좀드', '좀봨', '좀비', '좀찌', '좀첫다', '좀해', '좁다', '좁히다', '좃', '좃선', '종', '종간', '종교', '종교의자유', '종국', '종답', '종도', '종료', '종목', '종민', '종방', '종북좌파', '종사', '종아리', '종영', '종원', '종이', '종인', '종일', '종자', '종전', '종족', '종종', '종진', '종특', '종편', '종합', '종혁자', '종현', '종횡무진', '좊', '좋다', '좋아지다', '좋아하다', '좋았슴작', '좌', '좌궁', '좌뇌', '좌빨', '좌앙', '좌익', '좌좀', '좌파', '좌표', '좌회전', '좔좔', '좠투', '죄', '죄값', '죄다', '죄송', '죄송하다', '죄습럽다', '죄인', '죄임', '죄책감', '죕', '죗값', '죗값받기', '죙일', '죠', '죠깥', '죳티즌들', '죵답', '주', '주가', '주관', '주기', '주기도', '주네', '주눅', '주니', '주니어', '주다', '주더', '주도', '주도하다', '주드', '주랑', '주로', '주름', '주름살', '주리', '주말', '주먹', '주먹질', '주목', '주무르다', '주민', '주방', '주변', '주병', '주부', '주사', '주사파', '주술사', '주시', '주식', '주신', '주씨', '주안', '주연', '주영훈', '주올', '주위', '주의', '주의자', '주인', '주인공', '주자', '주작', '주장', '주저', '주적', '주접', '주정은', '주제', '주제가', '주지', '주지훈', '주진모', '주차', '주체', '주취후', '주치의', '주행', '주혁', '주현', '주홍글씨', '죽', '죽겄', '죽겄다', '죽겠네', '죽다', '죽돌이', '죽빵', '죽여주다', '죽음', '죽이다', '죽지', '죽창', '준', '준돈', '준법', '준비', '준영', '준회', '준희', '줄', '줄거리', '줄기', '줄기차다', '줄넘기', '줄다', '줄때', '줄알', '줄어듬', '줄이다', '줄줄', '줄줄이', '줌', '줌마', '줌씨', '줍다', '중', '중간', '중고', '중고나라', '중국', '중국사람', '중국산', '중국인', '중국집', '중기', '중년', '중단', '중대', '중독', '중독증', '중등', '중딩', '중립', '중반', '중세', '중심', '중앙', '중앙대', '중요', '중요하다', '중이', '중인', '중재', '중점', '중졸', '중진', '중학교', '중환', '중환자실', '중후', '줜', '줮', '쥐', '쥐다', '쥐똥', '쥐락펴락', '쥐랄', '쥬', '쥬금', '쥬니어', '쥬라기', '쥬비스', '쥴', '쥼', '즁', '즈', '즈그', '즌라디언', '즐', '즐거움', '즐겁다', '즐기다', '즐떡', '즐비하다', '즘', '증', '증가', '증거', '증말', '증명', '증상', '증세', '증언', '증오', '증조', '증진', '증폭', '지', '지각', '지갑', '지게', '지겹다', '지고', '지구', '지구대', '지그', '지금', '지긋지긋', '지긋지긋하다', '지껄', '지껄이다', '지나', '지나가다', '지나다', '지나치다', '지난', '지난번', '지난주', '지남', '지내다', '지네', '지누', '지는', '지능', '지니', '지다', '지대', '지덕', '지도', '지독하다', '지드', '지드래곤', '지들', '지라', '지란', '지랄', '지럴', '지럴마', '지로', '지루', '지루하다', '지르다', '지름길', '지리', '지리다', '지망', '지면', '지목', '지못미', '지민', '지반', '지방', '지배', '지병', '지불', '지붕', '지상', '지상파', '지석진', '지성', '지성인', '지수', '지스', '지시', '지식', '지심', '지아', '지안', '지역', '지연', '지영', '지오', '지옥', '지우', '지우다', '지웅', '지워지다', '지원', '지은', '지은이', '지인', '지장', '지저분하다', '지적', '지정', '지정도', '지조', '지주', '지지', '지지난', '지지다', '지지마', '지지자', '지진희', '지창욱', '지축', '지층', '지치다', '지켜보다', '지코', '지키겄', '지키다', '지표', '지하방', '지해', '지현우', '지혜', '지환', '직', '직성', '직업', '직업여성', '직원', '직장', '직장인', '직전', '직접', '직종', '직진', '진', '진가', '진국', '진단', '진도', '진료', '진리', '진보', '진보면', '진부', '진부하다', '진사', '진상', '진성', '진솔', '진솔하다', '진실', '진실게임', '진실인', '진실하다', '진심', '진씨', '진아', '진영', '진용', '진우', '진위', '진유', '진일', '진임', '진자', '진작', '진장', '진전', '진정', '진정하다', '진즉', '진지', '진지하다', '진진', '진짜', '진짜진짜', '진짴', '진창', '진척', '진출', '진하다', '진행', '진행자', '진행중', '진혁', '진화', '진흙탕', '질', '질도', '질때', '질라', '질리', '질리다', '질린다', '질문', '질소', '질적', '질좀', '질질', '질책', '질척', '질투', '짐', '짐애', '집', '집값', '집권', '집다', '집단', '집도', '집밥', '집사', '집사부', '집세', '집시', '집안', '집안일', '집앞', '집어넣다', '집유', '집중', '집착', '집합', '집행유예', '짓', '짓거리', '짓다', '짓뭉', '징', '징그럽다', '징글징글', '징역', '징징', '징징거리다', '징징대다', '짖다', '짘', '짚다', '짜깁다', '짜다', '짜르', '짜리몽땅', '짜릿하다', '짜이다', '짜임', '짜장', '짜장면', '짜져', '짜증', '짜증나다', '짜지다', '짝', '짝사랑', '짝애', '짝짓기', '짝짝', '짝퉁', '짠하다', '짤', '짤랐나', '짤린거', '짤릴', '짤방', '짧다', '짬', '짬밥', '짬뽕', '짱', '짱개', '짱깨', '짱꼴라', '짱짱', '짴', '째', '째다', '째지다', '쨩', '쩌', '쩌리', '쩍쩍', '쩐다', '쩔다', '쩔뚝', '쩜', '쩝', '쩡수', '쪼개다', '쪼그만', '쪼금', '쪼매', '쪼옴', '쪼잔한넘', '쪽', '쪽바리', '쪽발이', '쪽빨', '쪽팔리다', '쪾', '쫄렸나봐', '쫄리겠', '쫄리긴', '쫌', '쫌있음', '쫑', '쫑나', '쫑난거', '쫑난다', '쫑민이', '쫑석', '쫒다', '쫓다', '쫓아내다', '쫙', '쭈욱', '쭉', '쭉빵워마드', '쭉쭉', '쯔', '쯔쯔', '쯔쯧', '쯤', '쯥', '쯧', '쯧쯔', '쯧쯧', '찌', '찌다', '찌들다', '찌라시', '찌르다', '찌질하다', '찌찌', '찍', '찍다', '찍찍', '찍히다', '찔리다', '찜', '찜찜하다', '찠', '찡', '찡그리다', '찡얼대다', '찢다', '찢어지다', '차', '차갑다', '차고', '차근차근', '차기작', '차다', '차단', '차도', '차두리', '차라', '차량', '차려', '차례', '차로', '차리다', '차마', '차범근', '차별', '차별성', '차병원', '차분하다', '차분해지다', '차서', '차선', '차세대', '차승원', '차암', '차야', '차예련', '차우찬', '차원', '차유람', '차이', '차이나', '차이나다', '차이다', '차임', '차장', '차주혁', '차지', '차칸', '차태현', '차트', '차홍', '차화연', '착', '착각', '착오', '착용', '착하다', '착힌신것', '찬', '찬물', '찬성', '찬양', '찰떡', '찰지다', '참견', '참고', '참내', '참다', '참담하다', '참변', '참석', '참여', '참으로', '참전', '참조', '참주', '참지않긬', '참치', '찹쌀떡', '창', '창백하다', '창법', '창업', '창원', '창자', '창작', '창정', '창피하다', '찾기', '찾다', '찾아가다', '찾아보다', '찾아오다', '찿', '찿는', '채', '채널', '채다', '채린', '채무자', '채보', '채수빈', '채식주의자', '채연', '채우다', '채원', '채좀', '채팅', '책', '책사', '책임', '책임감', '책임지다', '책정', '챗', '챙', '챙기다', '챙녀', '챙롬들', '챙피', '처', '처가', '처낟', '처남', '처녀', '처럼', '처렁', '처름', '처리', '처먹엇엇다', '처무처무', '처벌', '처음', '처음처럼', '처자', '처절하다', '처제', '처줄', '처지', '처해', '처형', '척', '천', '천국', '천녀유혼', '천도', '천륜', '천만', '천만다행', '천만배', '천만원', '천만이', '천명', '천명훈', '천박', '천박하다', '천벌', '천사', '천상', '천상여자', '천생', '천생연분', '천연기념물', '천우', '천운', '천이', '천이슬', '천재', '천주', '천지', '천지창조', '천진', '천진난만하다', '천천히', '천치', '천하다', '철', '철가면', '철거', '철구', '철벽', '철수', '철썩', '철저하다', '철판', '첨', '첨견말자', '첨부', '첩', '첩보', '첫', '첫날', '첫사랑', '첫째', '첫키스', '청', '청구', '청국장', '청년', '청념한척', '청력', '청룡', '청문회', '청바지', '청부', '청산', '청소', '청순', '청순하다', '청승', '청약', '청와대', '청원', '청자', '청주', '청초하다', '청춘', '청탁', '체', '체감', '체격', '체고', '체널', '체력', '체인', '체인점', '체인지', '체적', '체질', '체크', '체험', '쳐놧으', '쳐다보다', '초', '초기', '초대', '초대형', '초등학교', '초등학생', '초딩', '초래', '초반', '초밥', '초상', '초석', '초성', '초심', '초아', '초월', '초점', '초집', '초청', '초콜릿', '초희', '촉구', '촌', '촌년', '촌스럽다', '촐싹대다', '촛불', '촛불시위', '총', '총각', '총경', '총리와나', '총알', '총장', '촤', '촬영', '촬영장', '최', '최강', '최강창민', '최고', '최고다', '최고봉', '최곤', '최근', '최다니엘', '최대', '최대한', '최명길', '최민수', '최상', '최선', '최성국', '최소', '최소한', '최소현', '최수영', '최수종', '최승호', '최시원', '최신', '최씨', '최악', '최애', '최예나', '최우수상', '최우식', '최욱', '최유라', '최율', '최자', '최정', '최정훈', '최종', '최종범', '최종훈', '최지우', '최진', '최진실', '최진혁', '최초', '최하', '추', '추가', '추다', '추락', '추리', '추모', '추방', '추산', '추상', '추석', '추세', '추스려', '추스려지', '추억', '추워지다', '추자현', '추잡', '추잡하다', '추적', '추정', '추징', '추천', '추첨', '추측', '추켜', '추태', '추하다', '추후', '축', '축가', '축구', '축구선수', '축구인', '축복', '축원', '축제', '축하', '춘해', '출가자', '출국', '출근', '출동', '출발', '출사', '출산', '출생', '출세', '출시', '출신', '출알', '출연', '출연료', '출연자', '출장', '출중하다', '출판', '출판사', '출하', '출현', '출혈', '춤', '춤추다', '충', '충격', '충고', '충남', '충돌', '충북', '충분하다', '충실하다', '충재', '충전', '충족', '충청도', '충치', '췌장암', '췍', '취급', '취득', '취미', '취소', '취약', '취업', '취재', '취지', '취직', '취집', '취하', '취학', '취할때', '취해', '취했', '취향', '츄', '츠카사', '측', '측근', '측도', '측은', '츳', '층', '층간소음', '층방', '치', '치가', '치고', '치고는', '치과', '치과의사', '치기', '치네다', '치다', '치도', '치료', '치료받다', '치루', '치룬', '치르다', '치마', '치맛바람', '치매', '치면', '치부', '치사', '치사스럽다', '치수', '치아', '치안', '치앙마이', '치욕스럽다', '치우다', '치유', '치이다', '치장', '치정질', '치즈', '치킨', '치타', '치통', '치트키', '치프', '칙칙하다', '친', '친가', '친구', '친근하다', '친돈', '친딸', '친목', '친부모', '친선대사', '친어머니', '친언니', '친오빠', '친일', '친일파', '친자', '친절하다', '친정', '친정엄마', '친지', '친척', '친하다', '친한척', '친해지다', '친형', '친화력', '칠성파', '칠이', '칠하다', '침', '침공', '침대', '침묵', '침수', '침입', '침착하다', '침침하다', '침해', '칭송', '칭찬', '카드', '카리스마', '카메라', '카사노바', '카악', '카앜퉤', '카운터', '카이', '카이스트', '카지노', '카츠', '카테고리', '카톡', '카페', '칼', '칼라', '칼질', '캍', '캐', '캐나다인', '캐다', '캐럿', '캐롤', '캐리', '캐릭', '캐릭터', '캐스팅', '캐슬', '캔디', '캘리포니아', '캠핑', '캡쳐', '캥거루', '캬', '커녕', '커리어', '커뮤니티', '커밍아웃', '커버', '커서', '커지다', '커플', '커플링', '커피', '커피숍', '컥', '컨', '컨데', '컨디션', '컨셉', '컨츄리', '컨텐츠', '컨트롤', '컨펌한거', '컬', '컴백', '컴온', '컴플', '컵', '컵라면', '컷', '컷트', '케', '케롤', '케미', '케바케', '케어', '케이', '케이블', '케이스', '케이윌', '케이팝', '케익', '케잌', '케케', '켄데', '켜', '켜다', '코', '코끝', '코끼', '코다리', '코드', '코디', '코러스', '코로나', '코르셋', '코리아', '코리아나', '코리안', '코맹맹', '코모', '코미디', '코믹', '코봉', '코스레', '코스프레', '코시', '코앞', '코요테', '코웃음', '코인', '코재', '코치', '코카콜라', '코피', '콘돔', '콘서트', '콘취소해', '콘텐츠', '콜', '콜라보', '콤', '콧구멍', '콧대', '콧물', '콧소리', '콧수염', '콧잔등', '콩', '콩가루', '콩깍지', '콩밥', '콩산', '콩트', '콰트로', '콱', '쾅', '쾅년', '쾌차', '쾌활하다', '쾡', '쿠시', '쿨', '쿨케이', '쿨하다', '쿵광', '쿵쾅', '쿵쾅거리다', '퀄', '퀄리티', '퀭하', '퀴', '퀴들', '퀴어', '퀸', '큐리', '큐브', '크게', '크다', '크라임씬', '크러쉬', '크러시', '크루', '크리스마스', '크리스탈', '크리에이터', '크림', '크보', '크브스', '큰딸', '큰일', '클라라', '클라스', '클래스', '클럽', '킁킁킁', '키', '키도', '키드', '키라', '키로', '키론데', '키스', '키스신', '키우다', '키크', '키퍼', '킨텍스', '킬러', '킬로', '킴', '킴치련', '킹', '타', '타고', '타고나다', '타국', '타나', '타령', '타살', '타샤', '타워', '타율', '타이', '타이거', '타이거마스크', '타이밍', '타이틀', '타임', '타입', '타진요', '타짜', '타치', '타코야키', '타쿠야', '타투', '타팬', '타협', '탁', '탁씨', '탁재훈', '탁제훈', '탄생', '탄수화물', '탄압', '탄자', '탄탄하다', '탄핵', '탈', '탈덕', '탈락', '탈모', '탈북', '탈세', '탈옥', '탈출', '탈탈', '탈퇴', '탐관', '탐욕', '탐지기', '탑', '탓', '탕', '탕수육', '탕웨이', '탕집', '태', '태고', '태국', '태규', '태극기', '태도', '태생', '태세', '태아', '태양', '태어나다', '태연', '태우다', '태임', '태지', '태진아', '태콩', '태클', '태풍', '태형', '태호', '태환', '태후', '태희', '택', '택시', '택연', '탤런트', '탱', '터', '터내', '터널', '터들', '터뜨리다', '터전', '터지다', '터치', '터키', '터트려', '터트린거', '터트린거자', '터트린듯', '턱', '턴', '털', '털년', '털다', '털털', '텁텁', '텃세', '텅텅', '텅텅빈', '테', '테러', '테로', '테리', '테스트', '테이', '테이블', '테이프', '테크', '텐데', '텐트', '토', '토끼', '토끼다', '토나오다', '토니', '토니스타크', '토니안', '토닥토닥', '토르', '토마토', '토씨', '토악질', '토요일', '토착', '토크', '토토가', '톡', '톡방', '톤', '톱', '톱스타', '톱임', '톱질', '통', '통계', '통과', '통달', '통뼈', '통속', '통수', '통수치다', '통역', '통역관', '통역사', '통장', '통제', '통증', '통채', '통쾌하다', '통통이', '통통하다', '통편집', '통해', '퇘', '퇴', '퇴물', '퇴물놈', '퇴물틀', '퇴사', '퇴장', '투', '투구', '투기', '투도', '투머치', '투명인간', '투명하다', '투샷', '투성이', '투애니원', '투야', '투약', '투어', '투영', '투입', '투자', '투정', '투척', '투철', '투표', '투하', '툭하면', '퉁', '퉁퉁', '퉤슈', '퉷', '튀기다', '튀다', '튀어나오다', '튜닝', '튜엣', '튠', '트', '트곡', '트라우마', '트랜드', '트러블', '트럭', '트럼프', '트렌디', '트로트', '트롯', '트루', '트리', '트리플', '트릴', '트림', '트와이스', '트왜', '트위터', '트젠', '트집', '트퀴들', '트페', '특', '특검', '특급', '특기', '특별출연', '특별하다', '특유', '특이하다', '특정', '특종', '특집', '특징', '특혜', '특화된', '특히', '틀', '틀니', '틀다', '틀리다', '틀림', '틀속', '틀어놓다', '틀탁', '틈', '티', '티걸', '티격태격', '티나', '티남', '티내', '티라노', '티비', '티비조선', '티아라', '티에스토', '티켓', '틱', '틴', '팀', '팀워크', '팀임', '팁', '팅', '팅기다', '팅옷', '파', '파격', '파국', '파급', '파기', '파다', '파도', '파동', '파라', '파렴치', '파리', '파먹다', '파멸', '파묻다', '파서', '파악', '파열', '파워', '파워레인저', '파이다', '파이란', '파이팅', '파장', '파크랜드', '파트너', '파티', '파헤치다', '파혼', '팍싹', '팍팍', '판', '판결', '판국', '판다', '판단', '판매', '판매량', '판명', '판박이', '판빙빙', '판사', '판이', '판정', '판청', '판치다', '판타스틱', '판타지', '팔고', '팔굽혀펴기', '팔다', '팔로우', '팔리다', '팔면', '팔이', '팔자', '팔지마다', '팔짝', '팔팔하다', '팜므파탈', '팝', '팝콘', '패', '패거리', '패널', '패떳', '패떴', '패러디', '패륜', '패밀리', '패배', '패셔', '패션', '패션센스', '패션쇼', '패소', '패스', '패인', '패키지', '패턴', '팩', '팩트', '팬', '팬것', '팬덤', '팬미팅', '팬수', '팬심', '팬싸', '팬코', '팬클럽', '팬티', '팰', '팽', '팽겨', '퍼', '퍼다', '퍼뜨렸음', '퍼뜩', '퍼센트', '퍼오', '퍼주', '퍼즐', '퍼지다', '퍼트', '퍼펙트', '퍼포먼스', '펄럭이다', '페디큐어', '페미', '페미니스트', '페미니즘', '페북', '페이', '페이스', '페이크', '페인', '페인트', '페지', '페트', '페티쉬', '펜', '펜타곤', '펠', '펠트', '펭귄', '펭수', '펴다', '편', '편견', '편내', '편도', '편성', '편안', '편안하다', '편의', '편의점', '편이', '편집', '편타', '편하다', '편향', '편협', '펼쳐지다', '펼치다', '폄훼하', '폇어', '평', '평가', '평균', '평등', '평등하다', '평론가', '평민', '평범', '평범하다', '평상시', '평생', '평소', '평이', '평일', '평창올림픽', '평화', '폐', '폐가', '폐경', '폐경기', '폐기', '폐렴', '폐쇄', '폐암', '폐인', '폐지', '포', '포기', '포도', '포르노', '포르테', '포르투갈', '포맷', '포방터', '포상', '포스', '포스터', '포스트잇', '포옹', '포장', '포주', '포카', '포텐', '포토샵', '포트', '포함', '폭', '폭격', '폭력', '폭로', '폭망', '폭발', '폭소', '폭죽', '폭탄', '폭팔', '폭풍', '폭행', '폰', '폴반', '폼', '퐁당', '퐈이팅', '퐉', '표', '표명', '표본', '표시', '표적', '표절', '표정', '표준', '표지', '표현', '푸다', '푸핫', '푹', '푹쉬다', '푼', '풀', '풀다', '풀리', '풀리다', '풀메이크업', '풀발', '풀이', '품다', '품위', '풋', '풋살', '풋풋하다', '풍', '풍금', '풍기', '풍년', '풍만', '풍부하다', '풍비박산', '풍상', '풍자', '풍족', '퓨짐해', '프듀', '프라', '프란치스코', '프랑켄슈타인', '프랜', '프랜차이즈', '프러포즈', '프레임', '프렌즈', '프로', '프로게이머', '프로그램', '프로도', '프로듀서', '프로보', '프로토스', '프로필사진', '프론', '프리', '프맴버', '프사', '프틴', '픈', '플', '플랜', '플러스', '플레이', '플로', '플로우', '플하', '피', '피겨', '피고', '피고인', '피곤', '피곤하다', '피나', '피다', '피드백', '피디', '피땀', '피떡', '피부', '피부색', '피쉬', '피스', '피시', '피시방', '피아', '피어싱', '피오', '피우다', '피의자', '피임', '피자', '피지', '피카츄', '피터', '피터지다', '피트', '피플', '피피', '피하', '피해', '피해망상', '피해자', '핀', '핀놈', '핀란드', '필', '필라테스', '필러', '필로폰', '필립', '필모', '필사', '필수', '필연', '필요', '필요없다', '필요하다', '필터', '핍박', '핏', '핏박받는', '핑', '핑계', '핑크', '핑클', '하객', '하겄', '하겟', '하고', '하고는', '하고도', '하고만', '하고프다', '하기야', '하나같이', '하나경', '하나님', '하나로', '하나요', '하녀', '하노', '하느님', '하늘', '하늘나라', '하니', '하다', '하다못해', '하단', '하드', '하드레', '하든', '하등', '하라', '하락', '하래', '하루', '하루빨리', '하루아침', '하루하루', '하림', '하므다', '하버드', '하선', '하성', '하셔욤', '하소', '하수', '하수도', '하숙', '하승진', '하시시', '하아', '하악하악', '하얀거탑', '하얗다', '하여가', '하여간', '하여튼', '하연', '하연수', '하연주', '하오', '하옵다', '하와이', '하은', '하의', '하이', '하이고', '하이라이트', '하이킥', '하자', '하재웅', '하정우', '하쥬', '하지맙시', '하지원', '하진', '하차', '하찮다', '하치', '하태식', '하트', '하필', '하현우', '하혈', '하희라', '학', '학계', '학과', '학교', '학교폭력', '학구', '학대', '학력', '학벌', '학부모', '학사', '학살', '학생', '학수고대', '학업', '학원', '학창시절', '학폭', '학폭레기', '한', '한가득', '한가인', '한가지', '한가하다', '한강', '한개', '한결', '한결같다', '한계', '한고은', '한국', '한국말', '한국영', '한국인', '한국판', '한글', '한남', '한낱', '한냄퇘', '한눈', '한눈팔다', '한다는', '한대화', '한도', '한동안', '한두', '한때', '한떈', '한류', '한맺힌', '한몫', '한물가다', '한미', '한민족', '한밤', '한번', '한보', '한복', '한부모', '한사', '한상진', '한상태', '한서희', '한석규', '한쇼', '한수민', '한순간', '한숨', '한스', '한식', '한심하다', '한씨', '한역', '한예슬', '한우', '한은정', '한의사', '한인', '한인타운', '한일', '한일관계', '한잔', '한장', '한재석', '한적', '한정', '한주', '한지', '한지민', '한지혜', '한쪽', '한참', '한창', '한채아', '한채영', '한철', '한체대', '한치', '한탄', '한테', '한텐', '한편', '한평생', '한현민', '한혜연', '한혜지니', '한혜진', '한화', '한효주', '한희', '할기다', '할리', '할리우드', '할마', '할망구', '할머니', '할머님', '할배', '할부', '할아버지', '할애비', '할인', '할퀴다', '핣', '핥다', '함', '함묘', '함부로', '함소원', '함안', '함은정', '함정', '합', '합닏', '합류', '합법', '합산', '합숙', '합의', '합의금', '합치다', '핫', '핫핑크', '핬', '항', '항목', '항문', '항상', '항소', '항암제', '항의', '항전', '항진', '항해', '핰', '해', '해결', '해고', '해골', '해내다', '해달라다', '해당', '해대', '해댐', '해도', '해리포터', '해맑드', '해먹', '해명', '해묵', '해변', '해병대', '해보다', '해봤다', '해산', '해석', '해소', '해안', '해안가', '해어지다', '해오다', '해외', '해외여행', '해이해', '해인', '해주', '해주다', '해지', '해지니', '해체', '해치다', '해킹', '해투', '해피', '해피엔딩', '핵', '핵꿀잼', '핵폭발', '핸드폰', '핸디캡', '핸섬쪽', '햄버거', '햇', '햇님', '햇던', '햇음함', '했길레', '했으먄', '행', '행각', '행거', '행닝', '행동', '행보', '행복', '행복지수', '행복하다', '행사', '행쇼', '행시', '행실', '행위', '행진', '행태', '행패', '행해지다', '햐', '향', '향단', '향수', '허겁지겁', '허구', '허니', '허다', '허락', '허리', '허망', '허무맹랑', '허버', '허벅다리', '허벅지', '허상', '허세', '허송', '허쉬', '허안나', '허언증', '허용', '허위', '허재', '허전하다', '허지웅', '헌', '헌법', '헐다', '헐뜯다', '헐리우드', '헐리웃', '험담', '험하다', '헛', '헛발질', '헛소리', '헛웃음', '헤', '헤니', '헤드라인', '헤드샷', '헤럴드', '헤례허식', '헤어', '헤어졋으', '헤어지다', '헤어지자', '헤엄', '헤이', '헤치다', '헤프닝', '헤헤', '헤헿', '헨리', '헬', '헬쓱', '헬조선', '헬쥐', '헬쥐팀', '헷갈리다', '혀', '현', '현관', '현금', '현대', '현명하다', '현무', '현빈', '현상', '현생', '현석', '현숙', '현실', '현씨', '현아', '현역', '현영', '현우', '현이', '현장', '현재', '현정', '현주', '현지', '혈', '혈관', '혈기', '혈압', '혈액암', '혈액형', '혐', '혐오', '혐중', '협', '협박', '협의', '협차', '협찬', '혓바닥', '혓재', '형', '형광등', '형님', '형도', '형량줄', '형벌', '형사', '형사고소', '형살', '형석', '형설', '형성', '형식', '형아', '형제', '형제자매', '형철', '형태', '형편', '혜', '혜교', '혜교님', '혜교씨', '혜나', '혜리', '혜빈', '혜선', '혜성', '혜원', '혜자', '혜정', '혜진', '혜택', '호', '호감', '호강', '호구', '호기심', '호날두', '호들갑', '호락호락', '호란', '호랑나비', '호랑이', '호르몬', '호박', '호불호', '호빗', '호사', '호색', '호소', '호스트', '호씨', '호야', '호응', '호의', '호의호식', '호이안', '호주', '호철', '호칭', '호킹', '호텔', '호평', '호한', '호흡', '혹', '혼', '혼나다', '혼내다', '혼돈', '혼선', '혼수', '혼외', '혼외자', '혼전', '혼전임신', '홀', '홀딱', '홀랑', '홀려', '홀로', '홀릭', '홀림', '홀애비', '홈', '홈쇼핑', '홍', '홍보', '홍상수', '홍석천', '홍선영', '홍섭', '홍수', '홍수아', '홍수현', '홍어', '홍유', '홍윤', '홍인', '홍일점', '홍자매', '홍정욱', '홍진경', '홍진영', '홍천', '홍콩', '홍현희', '홍화', '화', '화가', '화교', '화끈하다', '화나다', '화낼', '화려하다', '화류', '화만', '화면', '화목', '화물차', '화보', '화사', '화사하다', '화살', '화성', '화순', '화신', '화영', '화이', '화이팅', '화장', '화장실', '화재', '화제', '화하다', '화해', '확', '확률', '확시', '확실', '확실하다', '확인', '확정', '확증', '확행', '환', '환각', '환갑', '환경', '환경오염', '환불', '환상', '환생하다', '환수', '환영', '환자', '환장하다', '환하다', '환향', '환희', '활동', '활력소', '활발하다', '활약', '활용', '홧팅', '홨팅', '황', '황교익', '황구라', '황금', '황금시간대', '황금정', '황당하다', '황도', '황동주', '황민', '황상', '황소', '황소개구리', '황수정', '황신혜', '황실', '황우', '황우슬혜', '황은정', '황의조', '황의찬', '황재균', '황정', '황정음', '황제', '황지현', '황찬성', '황천', '황하나', '황혼', '황후', '회', '회개', '회덮밥', '회도', '회보', '회복', '회복하다', '회부', '회분', '회사', '회사원', '회상씬', '회생', '회수', '회식', '회장', '회춘', '획사', '횟집', '횡패', '효', '효가', '효과', '효광', '효녀', '효도', '효리', '효리야', '효린', '효민', '효섭', '효성', '효영', '효은', '횽님홧팅', '후', '후기', '후덕', '후두', '후려치다', '후련햇', '후리', '후반', '후배', '후보', '후보자', '후속', '후속작', '후손', '후원', '후원자', '후유증', '후전', '후진', '후진국', '후학', '후회', '훅', '훅훅', '훈남', '훈련소', '훈방', '훈수', '훈훈거려', '훈훈하다', '훌륭하다', '훌훌', '훔', '훗날', '훠', '훤', '훨', '훨남', '훨낫다', '훨잘해', '훨훨', '훼손', '휘', '휘두르다', '휘성', '휘재', '휠체어', '휩쓸다', '휴가', '휴대폰', '휴지', '휴학', '흉', '흉기', '흉내내', '흉년', '흉측하다', '흉터', '흉하다', '흐', '흐르다', '흐름', '흐리다', '흐미', '흐음', '흑기사', '흑발', '흑백', '흑역사', '흑우', '흑인', '흔', '흔들다', '흔적', '흔하다', '흘러가다', '흘러내리다', '흘리다', '흙', '흠', '흠집', '흡수', '흡연', '흡입', '흥국', '흥국혀엄', '흥미', '흥미롭다', '흥민', '흥분', '흥분하다', '흥행', '희극', '희다', '희망', '희박하다', '희생', '희생양', '희한하다', '흰색', '히', '히든싱어', '히스테리', '히어로', '히어로즈', '히잌', '히토미', '히트', '힐', '힐끔', '힐링', '힐줄', '힘', '힘겹다', '힘내다', '힘내랏', '힘드다', '힘들겄다', '힘들다', '힘빠지다', '힘쓰다', '힙', '힙찔', '힙합', '힢']\n"
     ]
    }
   ],
   "source": [
    "print(sorted(word_index.keys()))"
   ]
  },
  {
   "cell_type": "markdown",
   "metadata": {},
   "source": [
    "### Document Term Matrix"
   ]
  },
  {
   "cell_type": "code",
   "execution_count": 22,
   "metadata": {},
   "outputs": [],
   "source": [
    "trainarray=[]\n",
    "for corpus in train.corpus:\n",
    "    temp=[0]*len(word_index)\n",
    "    for word in corpus:\n",
    "        if word in word_index.keys():\n",
    "            temp[word_index[word]]=+1\n",
    "    trainarray.append(temp)"
   ]
  },
  {
   "cell_type": "code",
   "execution_count": 23,
   "metadata": {},
   "outputs": [],
   "source": [
    "dtm=pd.DataFrame(trainarray,columns=word_index.keys())"
   ]
  },
  {
   "cell_type": "code",
   "execution_count": 24,
   "metadata": {},
   "outputs": [
    {
     "data": {
      "text/plain": [
       "(8367, 11968)"
      ]
     },
     "execution_count": 24,
     "metadata": {},
     "output_type": "execute_result"
    }
   ],
   "source": [
    "dtm.shape"
   ]
  },
  {
   "cell_type": "markdown",
   "metadata": {},
   "source": [
    "### one hot encoding"
   ]
  },
  {
   "cell_type": "code",
   "execution_count": 25,
   "metadata": {},
   "outputs": [],
   "source": [
    "trainarray=[]\n",
    "for corpus in train.corpus:\n",
    "    temp=[0]*len(word_index)\n",
    "    for word in corpus:\n",
    "        if word in word_index.keys():\n",
    "            temp[word_index[word]]=1\n",
    "    trainarray.append(temp)"
   ]
  },
  {
   "cell_type": "code",
   "execution_count": 26,
   "metadata": {},
   "outputs": [],
   "source": [
    "ohe=pd.DataFrame(trainarray,columns=word_index.keys())"
   ]
  },
  {
   "cell_type": "code",
   "execution_count": 27,
   "metadata": {},
   "outputs": [
    {
     "data": {
      "text/plain": [
       "(8367, 11968)"
      ]
     },
     "execution_count": 27,
     "metadata": {},
     "output_type": "execute_result"
    }
   ],
   "source": [
    "ohe.shape"
   ]
  },
  {
   "cell_type": "markdown",
   "metadata": {},
   "source": [
    "### xTrain yTrain xTest 생성"
   ]
  },
  {
   "cell_type": "code",
   "execution_count": 28,
   "metadata": {},
   "outputs": [],
   "source": [
    "xTrain=ohe.values\n",
    "yTrain=train['label'].values\n",
    "xTest=testarray"
   ]
  },
  {
   "cell_type": "markdown",
   "metadata": {},
   "source": [
    "### naive_bayes"
   ]
  },
  {
   "cell_type": "code",
   "execution_count": 29,
   "metadata": {},
   "outputs": [],
   "source": [
    "from sklearn.naive_bayes import CategoricalNB"
   ]
  },
  {
   "cell_type": "code",
   "execution_count": 30,
   "metadata": {},
   "outputs": [
    {
     "data": {
      "text/plain": [
       "CategoricalNB()"
      ]
     },
     "execution_count": 30,
     "metadata": {},
     "output_type": "execute_result"
    }
   ],
   "source": [
    "model=CategoricalNB()\n",
    "model.fit(xTrain, yTrain)"
   ]
  },
  {
   "cell_type": "code",
   "execution_count": 31,
   "metadata": {},
   "outputs": [],
   "source": [
    "pred=model.predict(xTest)"
   ]
  },
  {
   "cell_type": "code",
   "execution_count": 32,
   "metadata": {},
   "outputs": [
    {
     "data": {
      "text/plain": [
       "0.7534361180829449"
      ]
     },
     "execution_count": 32,
     "metadata": {},
     "output_type": "execute_result"
    }
   ],
   "source": [
    "model.score(xTrain , yTrain)"
   ]
  },
  {
   "cell_type": "code",
   "execution_count": 33,
   "metadata": {},
   "outputs": [],
   "source": [
    "test_row['label']=pred\n",
    "submit_NB=test_row[['comments','label']]"
   ]
  },
  {
   "cell_type": "code",
   "execution_count": 34,
   "metadata": {},
   "outputs": [],
   "source": [
    "submit_NB.to_csv('submit_NB.csv',index=False)"
   ]
  },
  {
   "cell_type": "markdown",
   "metadata": {},
   "source": [
    "### 신경망"
   ]
  },
  {
   "cell_type": "code",
   "execution_count": 35,
   "metadata": {},
   "outputs": [],
   "source": [
    "from keras.models import Sequential \n",
    "from keras.layers import Dense\n",
    "from keras import optimizers"
   ]
  },
  {
   "cell_type": "code",
   "execution_count": 36,
   "metadata": {},
   "outputs": [],
   "source": [
    "model=Sequential()\n",
    "model.add(Dense(2187,input_shape=(xTrain.shape[1],) ,activation='relu'))\n",
    "model.add(Dense(729,activation='relu'))\n",
    "model.add(Dense(243,activation='relu'))\n",
    "model.add(Dense(81,activation='relu'))\n",
    "model.add(Dense(27,activation='relu'))\n",
    "model.add(Dense(3,activation='softmax'))"
   ]
  },
  {
   "cell_type": "code",
   "execution_count": 37,
   "metadata": {},
   "outputs": [],
   "source": [
    "model.compile(optimizer='rmsprop',\n",
    "             loss='categorical_crossentropy',\n",
    "             metrics=['accuracy'])"
   ]
  },
  {
   "cell_type": "code",
   "execution_count": 38,
   "metadata": {},
   "outputs": [
    {
     "data": {
      "text/plain": [
       "array([[False, False,  True],\n",
       "       [ True, False, False],\n",
       "       [False, False,  True],\n",
       "       ...,\n",
       "       [False,  True, False],\n",
       "       [False, False,  True],\n",
       "       [ True, False, False]])"
      ]
     },
     "execution_count": 38,
     "metadata": {},
     "output_type": "execute_result"
    }
   ],
   "source": [
    "train['none']=train['label']==0\n",
    "train['offensive']=train['label']==1\n",
    "train['hate']=train['label']==2\n",
    "yTrain=train[['none','offensive','hate']].values\n",
    "yTrain"
   ]
  },
  {
   "cell_type": "code",
   "execution_count": 39,
   "metadata": {},
   "outputs": [],
   "source": [
    "x_val = xTrain[:1000]\n",
    "partial_x_train = xTrain[1000:]\n",
    "\n",
    "y_val = yTrain[:1000]\n",
    "partial_y_train = yTrain[1000:]"
   ]
  },
  {
   "cell_type": "code",
   "execution_count": 40,
   "metadata": {},
   "outputs": [
    {
     "name": "stdout",
     "output_type": "stream",
     "text": [
      "Epoch 1/20\n",
      "15/15 [==============================] - 3s 218ms/step - loss: 1.0330 - accuracy: 0.4693 - val_loss: 1.0155 - val_accuracy: 0.4480\n",
      "Epoch 2/20\n",
      "15/15 [==============================] - 3s 184ms/step - loss: 0.7269 - accuracy: 0.6693 - val_loss: 0.9924 - val_accuracy: 0.5740\n",
      "Epoch 3/20\n",
      "15/15 [==============================] - 3s 185ms/step - loss: 0.4019 - accuracy: 0.8455 - val_loss: 1.1339 - val_accuracy: 0.5480\n",
      "Epoch 4/20\n",
      "15/15 [==============================] - 3s 185ms/step - loss: 0.1387 - accuracy: 0.9557 - val_loss: 1.5126 - val_accuracy: 0.5410\n",
      "Epoch 5/20\n",
      "15/15 [==============================] - 3s 184ms/step - loss: 0.0376 - accuracy: 0.9894 - val_loss: 2.0121 - val_accuracy: 0.5390\n",
      "Epoch 6/20\n",
      "15/15 [==============================] - 3s 185ms/step - loss: 0.0108 - accuracy: 0.9967 - val_loss: 2.4759 - val_accuracy: 0.5640\n",
      "Epoch 7/20\n",
      "15/15 [==============================] - 3s 187ms/step - loss: 0.1161 - accuracy: 0.9733 - val_loss: 2.2398 - val_accuracy: 0.5530\n",
      "Epoch 8/20\n",
      "15/15 [==============================] - 3s 186ms/step - loss: 0.0052 - accuracy: 0.9992 - val_loss: 2.5785 - val_accuracy: 0.5490\n",
      "Epoch 9/20\n",
      "15/15 [==============================] - 3s 186ms/step - loss: 0.0029 - accuracy: 0.9995 - val_loss: 2.8964 - val_accuracy: 0.5560\n",
      "Epoch 10/20\n",
      "15/15 [==============================] - 3s 186ms/step - loss: 0.0019 - accuracy: 0.9995 - val_loss: 3.8859 - val_accuracy: 0.5810\n",
      "Epoch 11/20\n",
      "15/15 [==============================] - 3s 185ms/step - loss: 0.0740 - accuracy: 0.9818 - val_loss: 2.9798 - val_accuracy: 0.5660\n",
      "Epoch 12/20\n",
      "15/15 [==============================] - 3s 188ms/step - loss: 0.0034 - accuracy: 0.9989 - val_loss: 3.1213 - val_accuracy: 0.5450\n",
      "Epoch 13/20\n",
      "15/15 [==============================] - 3s 189ms/step - loss: 0.0018 - accuracy: 0.9995 - val_loss: 3.3023 - val_accuracy: 0.5400\n",
      "Epoch 14/20\n",
      "15/15 [==============================] - 3s 187ms/step - loss: 0.0014 - accuracy: 0.9996 - val_loss: 3.7889 - val_accuracy: 0.5450\n",
      "Epoch 15/20\n",
      "15/15 [==============================] - 3s 186ms/step - loss: 0.0019 - accuracy: 0.9995 - val_loss: 3.5282 - val_accuracy: 0.5500\n",
      "Epoch 16/20\n",
      "15/15 [==============================] - 3s 190ms/step - loss: 0.0018 - accuracy: 0.9993 - val_loss: 4.4943 - val_accuracy: 0.5520\n",
      "Epoch 17/20\n",
      "15/15 [==============================] - 3s 188ms/step - loss: 0.0986 - accuracy: 0.9857 - val_loss: 3.5754 - val_accuracy: 0.5490\n",
      "Epoch 18/20\n",
      "15/15 [==============================] - 3s 194ms/step - loss: 0.0021 - accuracy: 0.9993 - val_loss: 3.5267 - val_accuracy: 0.5390\n",
      "Epoch 19/20\n",
      "15/15 [==============================] - 3s 190ms/step - loss: 0.0013 - accuracy: 0.9993 - val_loss: 3.6610 - val_accuracy: 0.5440\n",
      "Epoch 20/20\n",
      "15/15 [==============================] - 3s 193ms/step - loss: 0.0010 - accuracy: 0.9995 - val_loss: 4.0055 - val_accuracy: 0.5500\n"
     ]
    }
   ],
   "source": [
    "history = model.fit(partial_x_train,\n",
    "                    partial_y_train,\n",
    "                    epochs=20,\n",
    "                    batch_size=512,\n",
    "                    validation_data=(x_val, y_val))"
   ]
  },
  {
   "cell_type": "code",
   "execution_count": 41,
   "metadata": {},
   "outputs": [
    {
     "data": {
      "image/png": "[encoded data removed]",
      "text/plain": [
       "<Figure size 432x288 with 1 Axes>"
      ]
     },
     "metadata": {
      "needs_background": "light"
     },
     "output_type": "display_data"
    }
   ],
   "source": [
    "loss= history.history['loss']\n",
    "val_loss=history.history['val_loss']\n",
    "\n",
    "epochs = range(1, len(loss) + 1)\n",
    "\n",
    "plt.plot(epochs, loss, 'bo',label=\"Training loss\" )\n",
    "plt.plot(epochs, val_loss, 'b', label='Validation loss')\n",
    "plt.title('Training and validation loss')\n",
    "plt.xlabel('Epochs')\n",
    "plt.ylabel('Loss')\n",
    "plt.legend()\n",
    "\n",
    "plt.show()"
   ]
  },
  {
   "cell_type": "code",
   "execution_count": 42,
   "metadata": {},
   "outputs": [
    {
     "data": {
      "image/png": "[encoded data removed]",
      "text/plain": [
       "<Figure size 432x288 with 1 Axes>"
      ]
     },
     "metadata": {
      "needs_background": "light"
     },
     "output_type": "display_data"
    }
   ],
   "source": [
    "plt.clf() #그래프 초기화 \n",
    "\n",
    "acc = history.history['accuracy']\n",
    "val_acc = history.history['val_accuracy']\n",
    "\n",
    "plt.plot(epochs, acc, 'bo', label='Training acc')\n",
    "plt.plot(epochs, val_acc, 'b', label='Validation acc')\n",
    "\n",
    "plt.title('Training and Validation Accuracy')\n",
    "plt.xlabel('Epochs')\n",
    "plt.ylabel('Accuracy')\n",
    "\n",
    "plt.legend()\n",
    "\n",
    "plt.show()"
   ]
  },
  {
   "cell_type": "code",
   "execution_count": 43,
   "metadata": {},
   "outputs": [],
   "source": [
    "pred=model.predict(xTest)"
   ]
  },
  {
   "cell_type": "code",
   "execution_count": 44,
   "metadata": {},
   "outputs": [],
   "source": [
    "predict=[]\n",
    "for i in pred:\n",
    "    predict.append(i.argmax())"
   ]
  },
  {
   "cell_type": "code",
   "execution_count": 45,
   "metadata": {},
   "outputs": [],
   "source": [
    "test_row['label']=predict"
   ]
  },
  {
   "cell_type": "code",
   "execution_count": 46,
   "metadata": {},
   "outputs": [],
   "source": [
    "submit_MC=test_row[['comments','label']]"
   ]
  },
  {
   "cell_type": "code",
   "execution_count": 47,
   "metadata": {},
   "outputs": [],
   "source": [
    "submit_MC.to_csv('submit_MC.csv',index=False)"
   ]
  },
  {
   "cell_type": "code",
   "execution_count": 48,
   "metadata": {},
   "outputs": [
    {
     "data": {
      "text/plain": [
       "0    465\n",
       "1    348\n",
       "2    161\n",
       "Name: label, dtype: int64"
      ]
     },
     "execution_count": 48,
     "metadata": {},
     "output_type": "execute_result"
    }
   ],
   "source": [
    "submit_MC['label'].value_counts()"
   ]
  },
  {
   "cell_type": "code",
   "execution_count": 49,
   "metadata": {},
   "outputs": [
    {
     "data": {
      "text/html": [
       "<div>\n",
       "<style scoped>\n",
       "    .dataframe tbody tr th:only-of-type {\n",
       "        vertical-align: middle;\n",
       "    }\n",
       "\n",
       "    .dataframe tbody tr th {\n",
       "        vertical-align: top;\n",
       "    }\n",
       "\n",
       "    .dataframe thead th {\n",
       "        text-align: right;\n",
       "    }\n",
       "</style>\n",
       "<table border=\"1\" class=\"dataframe\">\n",
       "  <thead>\n",
       "    <tr style=\"text-align: right;\">\n",
       "      <th></th>\n",
       "      <th>comments</th>\n",
       "      <th>label</th>\n",
       "    </tr>\n",
       "  </thead>\n",
       "  <tbody>\n",
       "    <tr>\n",
       "      <th>0</th>\n",
       "      <td>ㅋㅋㅋㅋ 그래도 조아해주는 팬들 많아서 좋겠다 ㅠㅠ 니들은 온유가 안만져줌 ㅠㅠ</td>\n",
       "      <td>1</td>\n",
       "    </tr>\n",
       "    <tr>\n",
       "      <th>1</th>\n",
       "      <td>둘다 넘 좋다~행복하세요</td>\n",
       "      <td>0</td>\n",
       "    </tr>\n",
       "    <tr>\n",
       "      <th>2</th>\n",
       "      <td>근데 만원이하는 현금결제만 하라고 써놓은집 우리나라에 엄청 많은데</td>\n",
       "      <td>0</td>\n",
       "    </tr>\n",
       "    <tr>\n",
       "      <th>3</th>\n",
       "      <td>원곡생각하나도 안나고 러블리즈 신곡나온줄!!! 너무 예쁘게 잘봤어요</td>\n",
       "      <td>0</td>\n",
       "    </tr>\n",
       "    <tr>\n",
       "      <th>4</th>\n",
       "      <td>장현승 얘도 참 이젠 짠하다...</td>\n",
       "      <td>1</td>\n",
       "    </tr>\n",
       "    <tr>\n",
       "      <th>...</th>\n",
       "      <td>...</td>\n",
       "      <td>...</td>\n",
       "    </tr>\n",
       "    <tr>\n",
       "      <th>969</th>\n",
       "      <td>대박 게스트... 꼭 봐야징~ 컨셉이 바뀌니깐 재미지넹</td>\n",
       "      <td>0</td>\n",
       "    </tr>\n",
       "    <tr>\n",
       "      <th>970</th>\n",
       "      <td>성형으로 다 뜯어고쳐놓고 예쁜척. 성형 전 니 얼굴 다 알고있다. 순자처럼 된장냄새...</td>\n",
       "      <td>1</td>\n",
       "    </tr>\n",
       "    <tr>\n",
       "      <th>971</th>\n",
       "      <td>분위기는 비슷하다만 전혀다른 전개던데 무슨ㅋㅋㄱ 우리나라사람들은 분위기만 비슷하면 ...</td>\n",
       "      <td>0</td>\n",
       "    </tr>\n",
       "    <tr>\n",
       "      <th>972</th>\n",
       "      <td>입에 손가릭이 10개 있으니 징그럽다</td>\n",
       "      <td>2</td>\n",
       "    </tr>\n",
       "    <tr>\n",
       "      <th>973</th>\n",
       "      <td>난 조보아 이뻐서 보는데 백종원 관심무</td>\n",
       "      <td>0</td>\n",
       "    </tr>\n",
       "  </tbody>\n",
       "</table>\n",
       "<p>974 rows × 2 columns</p>\n",
       "</div>"
      ],
      "text/plain": [
       "                                              comments  label\n",
       "0         ㅋㅋㅋㅋ 그래도 조아해주는 팬들 많아서 좋겠다 ㅠㅠ 니들은 온유가 안만져줌 ㅠㅠ      1\n",
       "1                                        둘다 넘 좋다~행복하세요      0\n",
       "2                 근데 만원이하는 현금결제만 하라고 써놓은집 우리나라에 엄청 많은데      0\n",
       "3                원곡생각하나도 안나고 러블리즈 신곡나온줄!!! 너무 예쁘게 잘봤어요      0\n",
       "4                                   장현승 얘도 참 이젠 짠하다...      1\n",
       "..                                                 ...    ...\n",
       "969                     대박 게스트... 꼭 봐야징~ 컨셉이 바뀌니깐 재미지넹      0\n",
       "970  성형으로 다 뜯어고쳐놓고 예쁜척. 성형 전 니 얼굴 다 알고있다. 순자처럼 된장냄새...      1\n",
       "971  분위기는 비슷하다만 전혀다른 전개던데 무슨ㅋㅋㄱ 우리나라사람들은 분위기만 비슷하면 ...      0\n",
       "972                               입에 손가릭이 10개 있으니 징그럽다      2\n",
       "973                              난 조보아 이뻐서 보는데 백종원 관심무      0\n",
       "\n",
       "[974 rows x 2 columns]"
      ]
     },
     "execution_count": 49,
     "metadata": {},
     "output_type": "execute_result"
    }
   ],
   "source": [
    "submit_MC"
   ]
  },
  {
   "cell_type": "code",
   "execution_count": 50,
   "metadata": {},
   "outputs": [
    {
     "data": {
      "text/html": [
       "<div>\n",
       "<style scoped>\n",
       "    .dataframe tbody tr th:only-of-type {\n",
       "        vertical-align: middle;\n",
       "    }\n",
       "\n",
       "    .dataframe tbody tr th {\n",
       "        vertical-align: top;\n",
       "    }\n",
       "\n",
       "    .dataframe thead th {\n",
       "        text-align: right;\n",
       "    }\n",
       "</style>\n",
       "<table border=\"1\" class=\"dataframe\">\n",
       "  <thead>\n",
       "    <tr style=\"text-align: right;\">\n",
       "      <th></th>\n",
       "      <th>comments</th>\n",
       "      <th>label</th>\n",
       "    </tr>\n",
       "  </thead>\n",
       "  <tbody>\n",
       "    <tr>\n",
       "      <th>0</th>\n",
       "      <td>ㅋㅋㅋㅋ 그래도 조아해주는 팬들 많아서 좋겠다 ㅠㅠ 니들은 온유가 안만져줌 ㅠㅠ</td>\n",
       "      <td>0</td>\n",
       "    </tr>\n",
       "    <tr>\n",
       "      <th>1</th>\n",
       "      <td>둘다 넘 좋다~행복하세요</td>\n",
       "      <td>0</td>\n",
       "    </tr>\n",
       "    <tr>\n",
       "      <th>2</th>\n",
       "      <td>근데 만원이하는 현금결제만 하라고 써놓은집 우리나라에 엄청 많은데</td>\n",
       "      <td>1</td>\n",
       "    </tr>\n",
       "    <tr>\n",
       "      <th>3</th>\n",
       "      <td>원곡생각하나도 안나고 러블리즈 신곡나온줄!!! 너무 예쁘게 잘봤어요</td>\n",
       "      <td>0</td>\n",
       "    </tr>\n",
       "    <tr>\n",
       "      <th>4</th>\n",
       "      <td>장현승 얘도 참 이젠 짠하다...</td>\n",
       "      <td>0</td>\n",
       "    </tr>\n",
       "    <tr>\n",
       "      <th>...</th>\n",
       "      <td>...</td>\n",
       "      <td>...</td>\n",
       "    </tr>\n",
       "    <tr>\n",
       "      <th>969</th>\n",
       "      <td>대박 게스트... 꼭 봐야징~ 컨셉이 바뀌니깐 재미지넹</td>\n",
       "      <td>0</td>\n",
       "    </tr>\n",
       "    <tr>\n",
       "      <th>970</th>\n",
       "      <td>성형으로 다 뜯어고쳐놓고 예쁜척. 성형 전 니 얼굴 다 알고있다. 순자처럼 된장냄새...</td>\n",
       "      <td>1</td>\n",
       "    </tr>\n",
       "    <tr>\n",
       "      <th>971</th>\n",
       "      <td>분위기는 비슷하다만 전혀다른 전개던데 무슨ㅋㅋㄱ 우리나라사람들은 분위기만 비슷하면 ...</td>\n",
       "      <td>0</td>\n",
       "    </tr>\n",
       "    <tr>\n",
       "      <th>972</th>\n",
       "      <td>입에 손가릭이 10개 있으니 징그럽다</td>\n",
       "      <td>1</td>\n",
       "    </tr>\n",
       "    <tr>\n",
       "      <th>973</th>\n",
       "      <td>난 조보아 이뻐서 보는데 백종원 관심무</td>\n",
       "      <td>0</td>\n",
       "    </tr>\n",
       "  </tbody>\n",
       "</table>\n",
       "<p>974 rows × 2 columns</p>\n",
       "</div>"
      ],
      "text/plain": [
       "                                              comments  label\n",
       "0         ㅋㅋㅋㅋ 그래도 조아해주는 팬들 많아서 좋겠다 ㅠㅠ 니들은 온유가 안만져줌 ㅠㅠ      0\n",
       "1                                        둘다 넘 좋다~행복하세요      0\n",
       "2                 근데 만원이하는 현금결제만 하라고 써놓은집 우리나라에 엄청 많은데      1\n",
       "3                원곡생각하나도 안나고 러블리즈 신곡나온줄!!! 너무 예쁘게 잘봤어요      0\n",
       "4                                   장현승 얘도 참 이젠 짠하다...      0\n",
       "..                                                 ...    ...\n",
       "969                     대박 게스트... 꼭 봐야징~ 컨셉이 바뀌니깐 재미지넹      0\n",
       "970  성형으로 다 뜯어고쳐놓고 예쁜척. 성형 전 니 얼굴 다 알고있다. 순자처럼 된장냄새...      1\n",
       "971  분위기는 비슷하다만 전혀다른 전개던데 무슨ㅋㅋㄱ 우리나라사람들은 분위기만 비슷하면 ...      0\n",
       "972                               입에 손가릭이 10개 있으니 징그럽다      1\n",
       "973                              난 조보아 이뻐서 보는데 백종원 관심무      0\n",
       "\n",
       "[974 rows x 2 columns]"
      ]
     },
     "execution_count": 50,
     "metadata": {},
     "output_type": "execute_result"
    }
   ],
   "source": [
    "submit_NB"
   ]
  },
  {
   "cell_type": "code",
   "execution_count": null,
   "metadata": {},
   "outputs": [],
   "source": []
  },
  {
   "cell_type": "code",
   "execution_count": null,
   "metadata": {},
   "outputs": [],
   "source": []
  }
 ],
 "metadata": {
  "kernelspec": {
   "display_name": "Python 3",
   "language": "python",
   "name": "python3"
  },
  "language_info": {
   "codemirror_mode": {
    "name": "ipython",
    "version": 3
   },
   "file_extension": ".py",
   "mimetype": "text/x-python",
   "name": "python",
   "nbconvert_exporter": "python",
   "pygments_lexer": "ipython3",
   "version": "3.8.3"
  }
 },
 "nbformat": 4,
 "nbformat_minor": 4
}
