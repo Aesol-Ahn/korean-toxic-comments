{
 "cells": [
  {
   "cell_type": "code",
   "execution_count": 22,
   "metadata": {
    "executionInfo": {
     "elapsed": 1106,
     "status": "ok",
     "timestamp": 1604906467105,
     "user": {
      "displayName": "조원우",
      "photoUrl": "",
      "userId": "11153319923813420173"
     },
     "user_tz": -540
    },
    "id": "26MNEKH61WG2",
    "scrolled": true
   },
   "outputs": [],
   "source": [
    "import re\n",
    "import pickle\n",
    "import pandas as pd\n",
    "import numpy as np\n",
    "%matplotlib inline\n",
    "import matplotlib.pyplot as plt\n",
    "from PIL import Image\n",
    "from konlpy.tag import Okt\n",
    "from wordcloud import WordCloud\n",
    "from tensorflow.keras.preprocessing.text import Tokenizer\n",
    "from tensorflow.keras.preprocessing.sequence import pad_sequences\n",
    "from konlpy.tag import Mecab\n",
    "from collections import Counter\n",
    "import sklearn.metrics as metrics"
   ]
  },
  {
   "cell_type": "markdown",
   "metadata": {
    "id": "Jt9swcpM1WG9"
   },
   "source": [
    "## 데이터 로드"
   ]
  },
  {
   "cell_type": "code",
   "execution_count": 18,
   "metadata": {
    "colab": {
     "base_uri": "https://localhost:8080/",
     "height": 204
    },
    "executionInfo": {
     "elapsed": 3742,
     "status": "ok",
     "timestamp": 1604906089831,
     "user": {
      "displayName": "조원우",
      "photoUrl": "",
      "userId": "11153319923813420173"
     },
     "user_tz": -540
    },
    "id": "XvcqDo_i1WG9",
    "outputId": "22456ecd-fa91-45b8-f3ff-53d4f27e3d26"
   },
   "outputs": [
    {
     "data": {
      "text/html": [
       "<div>\n",
       "<style scoped>\n",
       "    .dataframe tbody tr th:only-of-type {\n",
       "        vertical-align: middle;\n",
       "    }\n",
       "\n",
       "    .dataframe tbody tr th {\n",
       "        vertical-align: top;\n",
       "    }\n",
       "\n",
       "    .dataframe thead th {\n",
       "        text-align: right;\n",
       "    }\n",
       "</style>\n",
       "<table border=\"1\" class=\"dataframe\">\n",
       "  <thead>\n",
       "    <tr style=\"text-align: right;\">\n",
       "      <th></th>\n",
       "      <th>comments</th>\n",
       "      <th>label</th>\n",
       "    </tr>\n",
       "  </thead>\n",
       "  <tbody>\n",
       "    <tr>\n",
       "      <th>0</th>\n",
       "      <td>정말 재밌다 연기도 좋고 디카프리오 짱</td>\n",
       "      <td>1</td>\n",
       "    </tr>\n",
       "    <tr>\n",
       "      <th>1</th>\n",
       "      <td>심쿵심쿵 미치네요이수혁땜에 잠 못자겠어요ㅠ자꾸 아른거림ㅠ</td>\n",
       "      <td>1</td>\n",
       "    </tr>\n",
       "    <tr>\n",
       "      <th>2</th>\n",
       "      <td>하지만 이니후빨러들은 이런거 관심 하나도 없음</td>\n",
       "      <td>0</td>\n",
       "    </tr>\n",
       "    <tr>\n",
       "      <th>3</th>\n",
       "      <td>@착한아이임당 A4 용지 덮고?</td>\n",
       "      <td>0</td>\n",
       "    </tr>\n",
       "    <tr>\n",
       "      <th>4</th>\n",
       "      <td>진짜 평점 믿으면 안된 다는 걸 현실로 보여주는 영화입니다. 네티즌,전문가 하나같이...</td>\n",
       "      <td>1</td>\n",
       "    </tr>\n",
       "  </tbody>\n",
       "</table>\n",
       "</div>"
      ],
      "text/plain": [
       "                                            comments  label\n",
       "0                              정말 재밌다 연기도 좋고 디카프리오 짱      1\n",
       "1                    심쿵심쿵 미치네요이수혁땜에 잠 못자겠어요ㅠ자꾸 아른거림ㅠ      1\n",
       "2                          하지만 이니후빨러들은 이런거 관심 하나도 없음      0\n",
       "3                                  @착한아이임당 A4 용지 덮고?      0\n",
       "4  진짜 평점 믿으면 안된 다는 걸 현실로 보여주는 영화입니다. 네티즌,전문가 하나같이...      1"
      ]
     },
     "execution_count": 18,
     "metadata": {
      "tags": []
     },
     "output_type": "execute_result"
    }
   ],
   "source": [
    "data = pd.read_csv(\"hate_speech_large.csv\")\n",
    "data.columns = [\"comments\", \"label\"]\n",
    "data.head()"
   ]
  },
  {
   "cell_type": "code",
   "execution_count": 19,
   "metadata": {
    "colab": {
     "base_uri": "https://localhost:8080/"
    },
    "executionInfo": {
     "elapsed": 1145,
     "status": "ok",
     "timestamp": 1604906093733,
     "user": {
      "displayName": "조원우",
      "photoUrl": "",
      "userId": "11153319923813420173"
     },
     "user_tz": -540
    },
    "id": "1tAsPFHa1WHC",
    "outputId": "7573f8aa-84d7-411a-e9af-fe45970b7917"
   },
   "outputs": [
    {
     "name": "stdout",
     "output_type": "stream",
     "text": [
      "댓글 개수 : 190000\n"
     ]
    }
   ],
   "source": [
    "print(\"댓글 개수 :\",len(data)) # 댓글 개수 출력"
   ]
  },
  {
   "cell_type": "markdown",
   "metadata": {
    "id": "IiMOhpiv1WHF"
   },
   "source": [
    "## 데이터 정제"
   ]
  },
  {
   "cell_type": "code",
   "execution_count": 20,
   "metadata": {
    "executionInfo": {
     "elapsed": 1061,
     "status": "ok",
     "timestamp": 1604906098914,
     "user": {
      "displayName": "조원우",
      "photoUrl": "",
      "userId": "11153319923813420173"
     },
     "user_tz": -540
    },
    "id": "PdqWnPZ61WHF"
   },
   "outputs": [],
   "source": [
    "data['label'] = np.where(data['label'] == 0, 1, 0)"
   ]
  },
  {
   "cell_type": "markdown",
   "metadata": {
    "id": "dHmbQmAU1WHI"
   },
   "source": [
    "### 댓글의 중복 여부 확인"
   ]
  },
  {
   "cell_type": "code",
   "execution_count": 21,
   "metadata": {
    "colab": {
     "base_uri": "https://localhost:8080/"
    },
    "executionInfo": {
     "elapsed": 1116,
     "status": "ok",
     "timestamp": 1604906101076,
     "user": {
      "displayName": "조원우",
      "photoUrl": "",
      "userId": "11153319923813420173"
     },
     "user_tz": -540
    },
    "id": "VX-t0yIG1WHJ",
    "outputId": "e71ef32f-dbd8-412a-8b19-eb6e1602d0ac"
   },
   "outputs": [
    {
     "data": {
      "text/plain": [
       "(187142, 2)"
      ]
     },
     "execution_count": 21,
     "metadata": {
      "tags": []
     },
     "output_type": "execute_result"
    }
   ],
   "source": [
    "data['comments'].nunique(), data['label'].nunique()"
   ]
  },
  {
   "cell_type": "code",
   "execution_count": 22,
   "metadata": {
    "colab": {
     "base_uri": "https://localhost:8080/"
    },
    "executionInfo": {
     "elapsed": 1159,
     "status": "ok",
     "timestamp": 1604906102016,
     "user": {
      "displayName": "조원우",
      "photoUrl": "",
      "userId": "11153319923813420173"
     },
     "user_tz": -540
    },
    "id": "ErP9BGIX1WHN",
    "outputId": "0044b88b-9389-4602-f8f2-51c8df50c619"
   },
   "outputs": [
    {
     "data": {
      "text/plain": [
       "(187143, 2)"
      ]
     },
     "execution_count": 22,
     "metadata": {
      "tags": []
     },
     "output_type": "execute_result"
    }
   ],
   "source": [
    "data.drop_duplicates(subset=['comments'], inplace=True) # 중복 코멘트 제거\n",
    "data.shape"
   ]
  },
  {
   "cell_type": "code",
   "execution_count": 23,
   "metadata": {
    "colab": {
     "base_uri": "https://localhost:8080/"
    },
    "executionInfo": {
     "elapsed": 1495,
     "status": "ok",
     "timestamp": 1604906103184,
     "user": {
      "displayName": "조원우",
      "photoUrl": "",
      "userId": "11153319923813420173"
     },
     "user_tz": -540
    },
    "id": "iGQOtDjk1WHQ",
    "outputId": "fe5b0a58-4b61-4857-9047-aad8f522707c"
   },
   "outputs": [
    {
     "name": "stdout",
     "output_type": "stream",
     "text": [
      "총 샘플의 수 : 187143\n"
     ]
    }
   ],
   "source": [
    "print('총 샘플의 수 :',len(data))"
   ]
  },
  {
   "cell_type": "markdown",
   "metadata": {
    "id": "KwOBoC1t1WHV"
   },
   "source": [
    "#### 레이블 값의 분포"
   ]
  },
  {
   "cell_type": "code",
   "execution_count": 24,
   "metadata": {
    "colab": {
     "base_uri": "https://localhost:8080/",
     "height": 280
    },
    "executionInfo": {
     "elapsed": 1203,
     "status": "ok",
     "timestamp": 1604906104053,
     "user": {
      "displayName": "조원우",
      "photoUrl": "",
      "userId": "11153319923813420173"
     },
     "user_tz": -540
    },
    "id": "5RvVPaWy1WHW",
    "outputId": "2e2567e5-084b-4cec-8991-0f3c914e37f5"
   },
   "outputs": [
    {
     "data": {
      "text/plain": [
       "<matplotlib.axes._subplots.AxesSubplot at 0x7f76a8ebbb38>"
      ]
     },
     "execution_count": 24,
     "metadata": {
      "tags": []
     },
     "output_type": "execute_result"
    },
    {
     "data": {
      "image/png": "[encoded data removed]",
      "text/plain": [
       "<Figure size 432x288 with 1 Axes>"
      ]
     },
     "metadata": {
      "needs_background": "light",
      "tags": []
     },
     "output_type": "display_data"
    }
   ],
   "source": [
    "data['label'].value_counts().plot(kind = 'bar')"
   ]
  },
  {
   "cell_type": "code",
   "execution_count": 25,
   "metadata": {
    "colab": {
     "base_uri": "https://localhost:8080/"
    },
    "executionInfo": {
     "elapsed": 623,
     "status": "ok",
     "timestamp": 1604906104467,
     "user": {
      "displayName": "조원우",
      "photoUrl": "",
      "userId": "11153319923813420173"
     },
     "user_tz": -540
    },
    "id": "ANP5jvwo1WHb",
    "outputId": "d4416591-df10-4e1c-cd69-3ebe9c5d0c7d"
   },
   "outputs": [
    {
     "name": "stdout",
     "output_type": "stream",
     "text": [
      "   label  count\n",
      "0      0  97223\n",
      "1      1  89920\n"
     ]
    }
   ],
   "source": [
    "print(data.groupby('label').size().reset_index(name = 'count'))"
   ]
  },
  {
   "cell_type": "markdown",
   "metadata": {
    "id": "l9CrgOOn1WHg"
   },
   "source": [
    "### Null 값 제거"
   ]
  },
  {
   "cell_type": "code",
   "execution_count": 26,
   "metadata": {
    "colab": {
     "base_uri": "https://localhost:8080/"
    },
    "executionInfo": {
     "elapsed": 1084,
     "status": "ok",
     "timestamp": 1604906107283,
     "user": {
      "displayName": "조원우",
      "photoUrl": "",
      "userId": "11153319923813420173"
     },
     "user_tz": -540
    },
    "id": "B3ahSAD31WHh",
    "outputId": "3c02e3be-80c2-4ad4-bec2-84b12028f1aa"
   },
   "outputs": [
    {
     "name": "stdout",
     "output_type": "stream",
     "text": [
      "True\n"
     ]
    }
   ],
   "source": [
    "print(data.isnull().values.any())"
   ]
  },
  {
   "cell_type": "code",
   "execution_count": 27,
   "metadata": {
    "colab": {
     "base_uri": "https://localhost:8080/"
    },
    "executionInfo": {
     "elapsed": 1235,
     "status": "ok",
     "timestamp": 1604906108733,
     "user": {
      "displayName": "조원우",
      "photoUrl": "",
      "userId": "11153319923813420173"
     },
     "user_tz": -540
    },
    "id": "3neFBZD41WHj",
    "outputId": "0a9fe918-ae57-46e3-c50a-c1e3d2bd9dcd"
   },
   "outputs": [
    {
     "name": "stdout",
     "output_type": "stream",
     "text": [
      "comments    1\n",
      "label       0\n",
      "dtype: int64\n"
     ]
    }
   ],
   "source": [
    "print(data.isnull().sum())"
   ]
  },
  {
   "cell_type": "code",
   "execution_count": 28,
   "metadata": {
    "colab": {
     "base_uri": "https://localhost:8080/",
     "height": 80
    },
    "executionInfo": {
     "elapsed": 652,
     "status": "ok",
     "timestamp": 1604906108734,
     "user": {
      "displayName": "조원우",
      "photoUrl": "",
      "userId": "11153319923813420173"
     },
     "user_tz": -540
    },
    "id": "NFOr1oZ81WHm",
    "outputId": "e431c0c2-9ad7-45a0-f743-7424b3969b0d"
   },
   "outputs": [
    {
     "data": {
      "text/html": [
       "<div>\n",
       "<style scoped>\n",
       "    .dataframe tbody tr th:only-of-type {\n",
       "        vertical-align: middle;\n",
       "    }\n",
       "\n",
       "    .dataframe tbody tr th {\n",
       "        vertical-align: top;\n",
       "    }\n",
       "\n",
       "    .dataframe thead th {\n",
       "        text-align: right;\n",
       "    }\n",
       "</style>\n",
       "<table border=\"1\" class=\"dataframe\">\n",
       "  <thead>\n",
       "    <tr style=\"text-align: right;\">\n",
       "      <th></th>\n",
       "      <th>comments</th>\n",
       "      <th>label</th>\n",
       "    </tr>\n",
       "  </thead>\n",
       "  <tbody>\n",
       "    <tr>\n",
       "      <th>7807</th>\n",
       "      <td>NaN</td>\n",
       "      <td>0</td>\n",
       "    </tr>\n",
       "  </tbody>\n",
       "</table>\n",
       "</div>"
      ],
      "text/plain": [
       "     comments  label\n",
       "7807      NaN      0"
      ]
     },
     "execution_count": 28,
     "metadata": {
      "tags": []
     },
     "output_type": "execute_result"
    }
   ],
   "source": [
    "data.loc[data.comments.isnull()]"
   ]
  },
  {
   "cell_type": "code",
   "execution_count": 29,
   "metadata": {
    "colab": {
     "base_uri": "https://localhost:8080/"
    },
    "executionInfo": {
     "elapsed": 1100,
     "status": "ok",
     "timestamp": 1604906109817,
     "user": {
      "displayName": "조원우",
      "photoUrl": "",
      "userId": "11153319923813420173"
     },
     "user_tz": -540
    },
    "id": "cRGoBcTr1WHo",
    "outputId": "c96e5f48-902d-4b04-ad2e-fead33e37e9b"
   },
   "outputs": [
    {
     "name": "stdout",
     "output_type": "stream",
     "text": [
      "False\n"
     ]
    }
   ],
   "source": [
    "data = data.dropna(how = 'any') # Null 값이 존재하는 행 제거\n",
    "print(data.isnull().values.any()) # Null 값이 존재하는지 확인"
   ]
  },
  {
   "cell_type": "code",
   "execution_count": 30,
   "metadata": {
    "colab": {
     "base_uri": "https://localhost:8080/"
    },
    "executionInfo": {
     "elapsed": 1769,
     "status": "ok",
     "timestamp": 1604906111315,
     "user": {
      "displayName": "조원우",
      "photoUrl": "",
      "userId": "11153319923813420173"
     },
     "user_tz": -540
    },
    "id": "67T7vrks1WHr",
    "outputId": "65632989-4d8e-4922-b687-ed58f15b0450"
   },
   "outputs": [
    {
     "name": "stdout",
     "output_type": "stream",
     "text": [
      "187142\n"
     ]
    }
   ],
   "source": [
    "print(len(data))"
   ]
  },
  {
   "cell_type": "markdown",
   "metadata": {
    "id": "Q0l-Lh9i1WHu"
   },
   "source": [
    "### 한글, 공백 제외 전처리"
   ]
  },
  {
   "cell_type": "code",
   "execution_count": 31,
   "metadata": {
    "colab": {
     "base_uri": "https://localhost:8080/",
     "height": 204
    },
    "executionInfo": {
     "elapsed": 1058,
     "status": "ok",
     "timestamp": 1604906115438,
     "user": {
      "displayName": "조원우",
      "photoUrl": "",
      "userId": "11153319923813420173"
     },
     "user_tz": -540
    },
    "id": "yJj_vCWr1WHv",
    "outputId": "ea36a5b5-8dee-4163-d775-4abdbe810984"
   },
   "outputs": [
    {
     "data": {
      "text/html": [
       "<div>\n",
       "<style scoped>\n",
       "    .dataframe tbody tr th:only-of-type {\n",
       "        vertical-align: middle;\n",
       "    }\n",
       "\n",
       "    .dataframe tbody tr th {\n",
       "        vertical-align: top;\n",
       "    }\n",
       "\n",
       "    .dataframe thead th {\n",
       "        text-align: right;\n",
       "    }\n",
       "</style>\n",
       "<table border=\"1\" class=\"dataframe\">\n",
       "  <thead>\n",
       "    <tr style=\"text-align: right;\">\n",
       "      <th></th>\n",
       "      <th>comments</th>\n",
       "      <th>label</th>\n",
       "    </tr>\n",
       "  </thead>\n",
       "  <tbody>\n",
       "    <tr>\n",
       "      <th>0</th>\n",
       "      <td>정말 재밌다 연기도 좋고 디카프리오 짱</td>\n",
       "      <td>0</td>\n",
       "    </tr>\n",
       "    <tr>\n",
       "      <th>1</th>\n",
       "      <td>심쿵심쿵 미치네요이수혁땜에 잠 못자겠어요ㅠ자꾸 아른거림ㅠ</td>\n",
       "      <td>0</td>\n",
       "    </tr>\n",
       "    <tr>\n",
       "      <th>2</th>\n",
       "      <td>하지만 이니후빨러들은 이런거 관심 하나도 없음</td>\n",
       "      <td>1</td>\n",
       "    </tr>\n",
       "    <tr>\n",
       "      <th>3</th>\n",
       "      <td>착한아이임당  용지 덮고</td>\n",
       "      <td>1</td>\n",
       "    </tr>\n",
       "    <tr>\n",
       "      <th>4</th>\n",
       "      <td>진짜 평점 믿으면 안된 다는 걸 현실로 보여주는 영화입니다 네티즌전문가 하나같이 영...</td>\n",
       "      <td>0</td>\n",
       "    </tr>\n",
       "  </tbody>\n",
       "</table>\n",
       "</div>"
      ],
      "text/plain": [
       "                                            comments  label\n",
       "0                              정말 재밌다 연기도 좋고 디카프리오 짱      0\n",
       "1                    심쿵심쿵 미치네요이수혁땜에 잠 못자겠어요ㅠ자꾸 아른거림ㅠ      0\n",
       "2                          하지만 이니후빨러들은 이런거 관심 하나도 없음      1\n",
       "3                                      착한아이임당  용지 덮고      1\n",
       "4  진짜 평점 믿으면 안된 다는 걸 현실로 보여주는 영화입니다 네티즌전문가 하나같이 영...      0"
      ]
     },
     "execution_count": 31,
     "metadata": {
      "tags": []
     },
     "output_type": "execute_result"
    }
   ],
   "source": [
    "data['comments'] = data['comments'].str.replace(\"[^ㄱ-ㅎㅏ-ㅣ가-힣 ]\",\"\")\n",
    "data.head()"
   ]
  },
  {
   "cell_type": "code",
   "execution_count": 32,
   "metadata": {
    "colab": {
     "base_uri": "https://localhost:8080/"
    },
    "executionInfo": {
     "elapsed": 1023,
     "status": "ok",
     "timestamp": 1604906115856,
     "user": {
      "displayName": "조원우",
      "photoUrl": "",
      "userId": "11153319923813420173"
     },
     "user_tz": -540
    },
    "id": "XFW4hlEL1WHy",
    "outputId": "bd9d7d2d-c8ff-431e-c55b-f26714317684"
   },
   "outputs": [
    {
     "name": "stdout",
     "output_type": "stream",
     "text": [
      "comments    1021\n",
      "label          0\n",
      "dtype: int64\n"
     ]
    }
   ],
   "source": [
    "data['comments'] = data['comments'].str.strip()\n",
    "data['comments'].replace('', np.nan, inplace=True)\n",
    "print(data.isnull().sum())"
   ]
  },
  {
   "cell_type": "code",
   "execution_count": 33,
   "metadata": {
    "colab": {
     "base_uri": "https://localhost:8080/"
    },
    "executionInfo": {
     "elapsed": 1063,
     "status": "ok",
     "timestamp": 1604906116270,
     "user": {
      "displayName": "조원우",
      "photoUrl": "",
      "userId": "11153319923813420173"
     },
     "user_tz": -540
    },
    "id": "ao7EdMbK1WH1",
    "outputId": "712ef98e-9f0d-4579-ffb9-a86c8e244a5b"
   },
   "outputs": [
    {
     "name": "stdout",
     "output_type": "stream",
     "text": [
      "186121\n"
     ]
    }
   ],
   "source": [
    "data = data.dropna(how = 'any')\n",
    "print(len(data))"
   ]
  },
  {
   "cell_type": "markdown",
   "metadata": {
    "id": "qZFvstm61WH5"
   },
   "source": [
    "### 데이터 분리"
   ]
  },
  {
   "cell_type": "code",
   "execution_count": 34,
   "metadata": {
    "executionInfo": {
     "elapsed": 1102,
     "status": "ok",
     "timestamp": 1604906120146,
     "user": {
      "displayName": "조원우",
      "photoUrl": "",
      "userId": "11153319923813420173"
     },
     "user_tz": -540
    },
    "id": "J3L2-BMk1WH5"
   },
   "outputs": [],
   "source": [
    "train_data = data[:150000]\n",
    "test_data = data[150000:]\n",
    "\n",
    "train_data.to_csv(\"train_data.csv\", index=False)\n",
    "test_data.to_csv(\"test_data.csv\", index=False)"
   ]
  },
  {
   "cell_type": "code",
   "execution_count": 35,
   "metadata": {
    "executionInfo": {
     "elapsed": 1201,
     "status": "ok",
     "timestamp": 1604906120655,
     "user": {
      "displayName": "조원우",
      "photoUrl": "",
      "userId": "11153319923813420173"
     },
     "user_tz": -540
    },
    "id": "m6s1A15S1WH8"
   },
   "outputs": [],
   "source": [
    "train_data = pd.read_csv(\"train_data.csv\")\n",
    "test_data = pd.read_csv(\"test_data.csv\")"
   ]
  },
  {
   "cell_type": "code",
   "execution_count": 37,
   "metadata": {
    "executionInfo": {
     "elapsed": 1139,
     "status": "ok",
     "timestamp": 1604906385345,
     "user": {
      "displayName": "조원우",
      "photoUrl": "",
      "userId": "11153319923813420173"
     },
     "user_tz": -540
    },
    "id": "Er1RT4V73-dn"
   },
   "outputs": [],
   "source": [
    "mecab = Mecab()"
   ]
  },
  {
   "cell_type": "markdown",
   "metadata": {
    "id": "g8PY6dmu1WH_"
   },
   "source": [
    "## EDA"
   ]
  },
  {
   "cell_type": "markdown",
   "metadata": {
    "id": "aePY1I5G1WH_"
   },
   "source": [
    "### 워드클라우드\n",
    "* 긍정/부정 댓글에서 빈도수가 가장 높은 명사들을 시각화"
   ]
  },
  {
   "cell_type": "markdown",
   "metadata": {
    "id": "snfgoTRX1WH_"
   },
   "source": [
    "명사 추출 함수"
   ]
  },
  {
   "cell_type": "code",
   "execution_count": 40,
   "metadata": {
    "executionInfo": {
     "elapsed": 15592,
     "status": "ok",
     "timestamp": 1604906492941,
     "user": {
      "displayName": "조원우",
      "photoUrl": "",
      "userId": "11153319923813420173"
     },
     "user_tz": -540
    },
    "id": "tMTGslpV1WIA"
   },
   "outputs": [],
   "source": [
    "def get_nouns(data, label):\n",
    "    subset = data[data['label'] == label]\n",
    "    text = subset['comments']\n",
    "    \n",
    "    morphs = []\n",
    "    for sentence in text:\n",
    "        morphs.append(mecab.pos(sentence))\n",
    "\n",
    "    nouns = []\n",
    "    for morph in morphs:\n",
    "        for word, tag in morph:\n",
    "            if tag in ['Noun']:\n",
    "                nouns.append(word)\n",
    "    \n",
    "    count = Counter(nouns)\n",
    "    words = dict(count.most_common())\n",
    "    \n",
    "    return words\n",
    "\n",
    "positive = get_nouns(train_data, 0)\n",
    "negative = get_nouns(train_data, 1)"
   ]
  },
  {
   "cell_type": "markdown",
   "metadata": {
    "id": "APTMSRqR1WIC"
   },
   "source": [
    "워드 클라우드 생성 함수"
   ]
  },
  {
   "cell_type": "code",
   "execution_count": 43,
   "metadata": {
    "colab": {
     "base_uri": "https://localhost:8080/",
     "height": 376
    },
    "executionInfo": {
     "elapsed": 1413,
     "status": "error",
     "timestamp": 1604906634462,
     "user": {
      "displayName": "조원우",
      "photoUrl": "",
      "userId": "11153319923813420173"
     },
     "user_tz": -540
    },
    "id": "u0E7vecp1WID",
    "outputId": "b929c952-8f9f-4ebe-d2b0-9a54c4beab15"
   },
   "outputs": [
    {
     "ename": "FileNotFoundError",
     "evalue": "ignored",
     "output_type": "error",
     "traceback": [
      "\u001b[0;31m---------------------------------------------------------------------------\u001b[0m",
      "\u001b[0;31mFileNotFoundError\u001b[0m                         Traceback (most recent call last)",
      "\u001b[0;32m<ipython-input-43-ba832870b971>\u001b[0m in \u001b[0;36m<module>\u001b[0;34m()\u001b[0m\n\u001b[1;32m     17\u001b[0m \u001b[0;34m\u001b[0m\u001b[0m\n\u001b[1;32m     18\u001b[0m \u001b[0mstopwords\u001b[0m \u001b[0;34m=\u001b[0m \u001b[0;34m[\u001b[0m\u001b[0;34m'의'\u001b[0m\u001b[0;34m,\u001b[0m\u001b[0;34m'가'\u001b[0m\u001b[0;34m,\u001b[0m\u001b[0;34m'이'\u001b[0m\u001b[0;34m,\u001b[0m\u001b[0;34m'은'\u001b[0m\u001b[0;34m,\u001b[0m\u001b[0;34m'들'\u001b[0m\u001b[0;34m,\u001b[0m\u001b[0;34m'는'\u001b[0m\u001b[0;34m,\u001b[0m\u001b[0;34m'좀'\u001b[0m\u001b[0;34m,\u001b[0m\u001b[0;34m'잘'\u001b[0m\u001b[0;34m,\u001b[0m\u001b[0;34m'걍'\u001b[0m\u001b[0;34m,\u001b[0m\u001b[0;34m'과'\u001b[0m\u001b[0;34m,\u001b[0m\u001b[0;34m'도'\u001b[0m\u001b[0;34m,\u001b[0m\u001b[0;34m'를'\u001b[0m\u001b[0;34m,\u001b[0m\u001b[0;34m'으로'\u001b[0m\u001b[0;34m,\u001b[0m\u001b[0;34m'자'\u001b[0m\u001b[0;34m,\u001b[0m\u001b[0;34m'에'\u001b[0m\u001b[0;34m,\u001b[0m\u001b[0;34m'와'\u001b[0m\u001b[0;34m,\u001b[0m\u001b[0;34m'한'\u001b[0m\u001b[0;34m,\u001b[0m\u001b[0;34m'하다'\u001b[0m\u001b[0;34m]\u001b[0m\u001b[0;34m\u001b[0m\u001b[0;34m\u001b[0m\u001b[0m\n\u001b[0;32m---> 19\u001b[0;31m \u001b[0mgenerate_word_cloud\u001b[0m\u001b[0;34m(\u001b[0m\u001b[0mpositive\u001b[0m\u001b[0;34m,\u001b[0m \u001b[0;34m\"safe-zone\"\u001b[0m\u001b[0;34m,\u001b[0m \u001b[0;34m\"긍정 댓글 명사 빈도\"\u001b[0m\u001b[0;34m,\u001b[0m \u001b[0;34m\"viridis\"\u001b[0m\u001b[0;34m)\u001b[0m\u001b[0;34m\u001b[0m\u001b[0;34m\u001b[0m\u001b[0m\n\u001b[0m\u001b[1;32m     20\u001b[0m \u001b[0mgenerate_word_cloud\u001b[0m\u001b[0;34m(\u001b[0m\u001b[0mnegative\u001b[0m\u001b[0;34m,\u001b[0m \u001b[0;34m\"anger\"\u001b[0m\u001b[0;34m,\u001b[0m \u001b[0;34m\"부정 댓글 명사 빈도\"\u001b[0m\u001b[0;34m,\u001b[0m \u001b[0;34m\"hot\"\u001b[0m\u001b[0;34m)\u001b[0m\u001b[0;34m\u001b[0m\u001b[0;34m\u001b[0m\u001b[0m\n",
      "\u001b[0;32m<ipython-input-43-ba832870b971>\u001b[0m in \u001b[0;36mgenerate_word_cloud\u001b[0;34m(data, img, title, cmap)\u001b[0m\n\u001b[1;32m      1\u001b[0m \u001b[0;32mdef\u001b[0m \u001b[0mgenerate_word_cloud\u001b[0m\u001b[0;34m(\u001b[0m\u001b[0mdata\u001b[0m\u001b[0;34m,\u001b[0m \u001b[0mimg\u001b[0m\u001b[0;34m,\u001b[0m \u001b[0mtitle\u001b[0m\u001b[0;34m,\u001b[0m \u001b[0mcmap\u001b[0m\u001b[0;34m)\u001b[0m\u001b[0;34m:\u001b[0m\u001b[0;34m\u001b[0m\u001b[0;34m\u001b[0m\u001b[0m\n\u001b[0;32m----> 2\u001b[0;31m     \u001b[0mclean_mask\u001b[0m \u001b[0;34m=\u001b[0m \u001b[0mnp\u001b[0m\u001b[0;34m.\u001b[0m\u001b[0marray\u001b[0m\u001b[0;34m(\u001b[0m\u001b[0mImage\u001b[0m\u001b[0;34m.\u001b[0m\u001b[0mopen\u001b[0m\u001b[0;34m(\u001b[0m\u001b[0mstr\u001b[0m\u001b[0;34m(\u001b[0m\u001b[0mimg\u001b[0m\u001b[0;34m)\u001b[0m \u001b[0;34m+\u001b[0m \u001b[0;34m\".png\"\u001b[0m\u001b[0;34m)\u001b[0m\u001b[0;34m)\u001b[0m\u001b[0;34m\u001b[0m\u001b[0;34m\u001b[0m\u001b[0m\n\u001b[0m\u001b[1;32m      3\u001b[0m     \u001b[0mclean_mask\u001b[0m \u001b[0;34m=\u001b[0m \u001b[0mclean_mask\u001b[0m\u001b[0;34m[\u001b[0m\u001b[0;34m:\u001b[0m\u001b[0;34m,\u001b[0m\u001b[0;34m:\u001b[0m\u001b[0;34m,\u001b[0m\u001b[0;36m1\u001b[0m\u001b[0;34m]\u001b[0m\u001b[0;34m\u001b[0m\u001b[0;34m\u001b[0m\u001b[0m\n\u001b[1;32m      4\u001b[0m \u001b[0;34m\u001b[0m\u001b[0m\n\u001b[1;32m      5\u001b[0m     wc = WordCloud(font_path ='NanumGothic.ttf', \n",
      "\u001b[0;32m/usr/local/lib/python3.6/dist-packages/PIL/Image.py\u001b[0m in \u001b[0;36mopen\u001b[0;34m(fp, mode)\u001b[0m\n\u001b[1;32m   2807\u001b[0m \u001b[0;34m\u001b[0m\u001b[0m\n\u001b[1;32m   2808\u001b[0m     \u001b[0;32mif\u001b[0m \u001b[0mfilename\u001b[0m\u001b[0;34m:\u001b[0m\u001b[0;34m\u001b[0m\u001b[0;34m\u001b[0m\u001b[0m\n\u001b[0;32m-> 2809\u001b[0;31m         \u001b[0mfp\u001b[0m \u001b[0;34m=\u001b[0m \u001b[0mbuiltins\u001b[0m\u001b[0;34m.\u001b[0m\u001b[0mopen\u001b[0m\u001b[0;34m(\u001b[0m\u001b[0mfilename\u001b[0m\u001b[0;34m,\u001b[0m \u001b[0;34m\"rb\"\u001b[0m\u001b[0;34m)\u001b[0m\u001b[0;34m\u001b[0m\u001b[0;34m\u001b[0m\u001b[0m\n\u001b[0m\u001b[1;32m   2810\u001b[0m         \u001b[0mexclusive_fp\u001b[0m \u001b[0;34m=\u001b[0m \u001b[0;32mTrue\u001b[0m\u001b[0;34m\u001b[0m\u001b[0;34m\u001b[0m\u001b[0m\n\u001b[1;32m   2811\u001b[0m \u001b[0;34m\u001b[0m\u001b[0m\n",
      "\u001b[0;31mFileNotFoundError\u001b[0m: [Errno 2] No such file or directory: 'safe-zone.png'"
     ]
    }
   ],
   "source": [
    "def generate_word_cloud(data, img, title, cmap):\n",
    "    clean_mask = np.array(Image.open(str(img) + \".png\"))\n",
    "    clean_mask = clean_mask[:,:,1]\n",
    "\n",
    "    wc = WordCloud(font_path ='NanumGothic.ttf', \n",
    "                   background_color =\"black\",\n",
    "                   max_words = 2000,\n",
    "                   mask = clean_mask,\n",
    "                   stopwords = stopwords)\n",
    "\n",
    "    wc.generate(\" \".join(data))\n",
    "    plt.figure(figsize = (20, 10))\n",
    "    plt.axis(\"off\")\n",
    "    plt.title(title, fontsize = 30)\n",
    "    plt.imshow(wc.recolor(colormap = cmap, random_state = 17), alpha = 0.98)\n",
    "    plt.savefig(title + \".png\")\n",
    "\n",
    "stopwords = ['의','가','이','은','들','는','좀','잘','걍','과','도','를','으로','자','에','와','한','하다']\n",
    "generate_word_cloud(positive, \"safe-zone\", \"긍정 댓글 명사 빈도\", \"viridis\")\n",
    "generate_word_cloud(negative, \"anger\", \"부정 댓글 명사 빈도\", \"hot\")"
   ]
  },
  {
   "cell_type": "markdown",
   "metadata": {
    "id": "ZxFYbD8V1WIF"
   },
   "source": [
    "## 토큰화"
   ]
  },
  {
   "cell_type": "code",
   "execution_count": 52,
   "metadata": {
    "executionInfo": {
     "elapsed": 1065,
     "status": "ok",
     "timestamp": 1604906678542,
     "user": {
      "displayName": "조원우",
      "photoUrl": "",
      "userId": "11153319923813420173"
     },
     "user_tz": -540
    },
    "id": "ImkLJhcu1WIG"
   },
   "outputs": [],
   "source": [
    "stopwords = ['의','가','이','은','들','는','좀','잘','걍','과','도','를','으로','자','에','와','한','하다']"
   ]
  },
  {
   "cell_type": "code",
   "execution_count": 47,
   "metadata": {
    "executionInfo": {
     "elapsed": 15743,
     "status": "ok",
     "timestamp": 1604906717697,
     "user": {
      "displayName": "조원우",
      "photoUrl": "",
      "userId": "11153319923813420173"
     },
     "user_tz": -540
    },
    "id": "yEMqvLYA1WII"
   },
   "outputs": [],
   "source": [
    "\n",
    "X_train = []\n",
    "for sentence in train_data['comments']:\n",
    "    temp_X = []\n",
    "    temp_X = mecab.morphs(sentence,) # 토큰화\n",
    "    temp_X = [word for word in temp_X if not word in stopwords] # 불용어 제거\n",
    "    X_train.append(temp_X)"
   ]
  },
  {
   "cell_type": "code",
   "execution_count": 48,
   "metadata": {
    "colab": {
     "base_uri": "https://localhost:8080/"
    },
    "executionInfo": {
     "elapsed": 1077,
     "status": "ok",
     "timestamp": 1604906730210,
     "user": {
      "displayName": "조원우",
      "photoUrl": "",
      "userId": "11153319923813420173"
     },
     "user_tz": -540
    },
    "id": "TJfz10s91WIL",
    "outputId": "538d3e41-ea72-43ef-fc6e-a2aa19536787"
   },
   "outputs": [
    {
     "name": "stdout",
     "output_type": "stream",
     "text": [
      "['정말', '재밌', '다', '연기', '좋', '고', '디카프리오', '짱']\n"
     ]
    }
   ],
   "source": [
    "print(X_train[0])"
   ]
  },
  {
   "cell_type": "code",
   "execution_count": 51,
   "metadata": {
    "executionInfo": {
     "elapsed": 4447,
     "status": "ok",
     "timestamp": 1604906748283,
     "user": {
      "displayName": "조원우",
      "photoUrl": "",
      "userId": "11153319923813420173"
     },
     "user_tz": -540
    },
    "id": "_ys5JAk01WIP"
   },
   "outputs": [],
   "source": [
    "X_test = []\n",
    "for sentence in test_data['comments']:\n",
    "    temp_X = []\n",
    "    temp_X = mecab.morphs(sentence) # 토큰화\n",
    "    temp_X = [word for word in temp_X if not word in stopwords] # 불용어 제거\n",
    "    X_test.append(temp_X)"
   ]
  },
  {
   "cell_type": "code",
   "execution_count": 52,
   "metadata": {
    "colab": {
     "base_uri": "https://localhost:8080/"
    },
    "executionInfo": {
     "elapsed": 3252,
     "status": "ok",
     "timestamp": 1604906748287,
     "user": {
      "displayName": "조원우",
      "photoUrl": "",
      "userId": "11153319923813420173"
     },
     "user_tz": -540
    },
    "id": "NPNe2Dww1WIR",
    "outputId": "f5c8cfb2-7c80-41f7-ef27-0c68da2a7d38"
   },
   "outputs": [
    {
     "name": "stdout",
     "output_type": "stream",
     "text": [
      "['문채원', '짱', '너무나', '사랑', '스럽', '고', '귀엽', '고', '문채원', '매력', '푹', '빠져', '보', '세요']\n"
     ]
    }
   ],
   "source": [
    "print(X_test[0])"
   ]
  },
  {
   "cell_type": "code",
   "execution_count": 53,
   "metadata": {
    "executionInfo": {
     "elapsed": 2214,
     "status": "ok",
     "timestamp": 1604906763140,
     "user": {
      "displayName": "조원우",
      "photoUrl": "",
      "userId": "11153319923813420173"
     },
     "user_tz": -540
    },
    "id": "P580cdyS1WIT"
   },
   "outputs": [],
   "source": [
    "with open(\"data/mecab_train.pkl\", \"wb\") as f:\n",
    "    pickle.dump(X_train, f)\n",
    "    \n",
    "with open(\"data/mecab_test.pkl\", \"wb\") as f:\n",
    "    pickle.dump(X_test, f)"
   ]
  },
  {
   "cell_type": "markdown",
   "metadata": {
    "id": "GSozx0Zk1WIV"
   },
   "source": [
    "# 여기서 시작 ---------------------------------------------------------"
   ]
  },
  {
   "cell_type": "code",
   "execution_count": 2,
   "metadata": {
    "id": "ObmlFMh31WIV"
   },
   "outputs": [],
   "source": [
    "import re\n",
    "import pickle\n",
    "import pandas as pd\n",
    "import numpy as np\n",
    "%matplotlib inline\n",
    "import matplotlib.pyplot as plt\n",
    "from PIL import Image\n",
    "from konlpy.tag import Okt\n",
    "from wordcloud import WordCloud\n",
    "from tensorflow.keras.preprocessing.text import Tokenizer\n",
    "from tensorflow.keras.preprocessing.sequence import pad_sequences"
   ]
  },
  {
   "cell_type": "markdown",
   "metadata": {
    "id": "EoQsXd0w1WIY"
   },
   "source": [
    "### okt"
   ]
  },
  {
   "cell_type": "code",
   "execution_count": 105,
   "metadata": {
    "id": "VI-ZF_Ox1WIZ"
   },
   "outputs": [],
   "source": [
    "with open(\"data/khaiii_train.pkl\", \"rb\") as f:\n",
    "    X_train = pickle.load(f)\n",
    "    \n",
    "with open(\"data/khaiii_test.pkl\", \"rb\") as f:\n",
    "    X_test = pickle.load(f)"
   ]
  },
  {
   "cell_type": "code",
   "execution_count": 106,
   "metadata": {},
   "outputs": [
    {
     "name": "stdout",
     "output_type": "stream",
     "text": [
      "36121 150000\n"
     ]
    }
   ],
   "source": [
    "print(len(X_test),len(X_train))"
   ]
  },
  {
   "cell_type": "code",
   "execution_count": 107,
   "metadata": {
    "id": "jXTtxkRQ1WIc"
   },
   "outputs": [],
   "source": [
    "train_data = pd.read_csv(\"data/train_data.csv\")\n",
    "test_data = pd.read_csv(\"data/test_data.csv\")"
   ]
  },
  {
   "cell_type": "markdown",
   "metadata": {
    "id": "RleDW4hB1WIe"
   },
   "source": [
    "## 정수 인코딩"
   ]
  },
  {
   "cell_type": "code",
   "execution_count": 108,
   "metadata": {
    "id": "gGoaNwuN1WIe"
   },
   "outputs": [],
   "source": [
    "tokenizer = Tokenizer()\n",
    "tokenizer.fit_on_texts(X_train)"
   ]
  },
  {
   "cell_type": "code",
   "execution_count": 109,
   "metadata": {
    "id": "gVxVHfmu1WIg",
    "outputId": "5322717b-a3a5-47ee-c2d4-41cd2f82850e"
   },
   "outputs": [
    {
     "name": "stdout",
     "output_type": "stream",
     "text": [
      "129184\n"
     ]
    }
   ],
   "source": [
    "print(len(tokenizer.word_index))"
   ]
  },
  {
   "cell_type": "code",
   "execution_count": 110,
   "metadata": {
    "id": "EaYO5S8a1WIi",
    "outputId": "1de3e469-d096-46ff-c325-ac457d190bf1"
   },
   "outputs": [
    {
     "name": "stdout",
     "output_type": "stream",
     "text": [
      "단어 집합(vocabulary)의 크기 : 129184\n",
      "등장 빈도가 2번 이하인 희귀 단어의 수: 100312\n",
      "단어 집합에서 희귀 단어의 비율: 77.65048303195442\n",
      "전체 등장 빈도에서 희귀 단어 등장 빈도 비율: 4.675132833710812\n"
     ]
    }
   ],
   "source": [
    "threshold = 3\n",
    "total_cnt = len(tokenizer.word_index) # 단어의 수\n",
    "rare_cnt = 0 # 등장 빈도수가 threshold보다 작은 단어의 개수를 카운트\n",
    "total_freq = 0 # 훈련 데이터의 전체 단어 빈도수 총 합\n",
    "rare_freq = 0 # 등장 빈도수가 threshold보다 작은 단어의 등장 빈도수의 총 합\n",
    "\n",
    "# 단어와 빈도수의 쌍(pair)을 key와 value로 받는다.\n",
    "for key, value in tokenizer.word_counts.items():\n",
    "    total_freq = total_freq + value\n",
    "\n",
    "    # 단어의 등장 빈도수가 threshold보다 작으면\n",
    "    if(value < threshold):\n",
    "        rare_cnt = rare_cnt + 1\n",
    "        rare_freq = rare_freq + value\n",
    "\n",
    "print('단어 집합(vocabulary)의 크기 :',total_cnt)\n",
    "print('등장 빈도가 %s번 이하인 희귀 단어의 수: %s'%(threshold - 1, rare_cnt))\n",
    "print(\"단어 집합에서 희귀 단어의 비율:\", (rare_cnt / total_cnt)*100)\n",
    "print(\"전체 등장 빈도에서 희귀 단어 등장 빈도 비율:\", (rare_freq / total_freq)*100)"
   ]
  },
  {
   "cell_type": "code",
   "execution_count": 111,
   "metadata": {
    "id": "4_7YvyGC1WIk",
    "outputId": "99348f0a-1dab-4692-ceb8-c7fab393dcae"
   },
   "outputs": [
    {
     "name": "stdout",
     "output_type": "stream",
     "text": [
      "단어 집합의 크기 : 28874\n"
     ]
    }
   ],
   "source": [
    "vocab_size = total_cnt - rare_cnt + 2\n",
    "print('단어 집합의 크기 :',vocab_size)"
   ]
  },
  {
   "cell_type": "code",
   "execution_count": 112,
   "metadata": {
    "id": "Ri7D-xW31WIp"
   },
   "outputs": [],
   "source": [
    "tokenizer = Tokenizer(vocab_size, oov_token = 'OOV') \n",
    "tokenizer.fit_on_texts(X_train)\n",
    "X_train = tokenizer.texts_to_sequences(X_train)\n",
    "X_test = tokenizer.texts_to_sequences(X_test)"
   ]
  },
  {
   "cell_type": "code",
   "execution_count": 113,
   "metadata": {
    "id": "hH2lsgyg1WIt",
    "outputId": "1d1166a9-7ce1-4388-93ea-da96bbf5d2bb"
   },
   "outputs": [
    {
     "name": "stdout",
     "output_type": "stream",
     "text": [
      "[[50, 65, 5, 95, 24, 4, 3286, 267], [22494, 1, 86, 14395, 1022, 1507, 91, 54, 48, 1, 18823, 3, 21, 1100, 69], [2655, 51, 380, 1017, 10, 92, 21, 681, 167, 30, 37]]\n"
     ]
    }
   ],
   "source": [
    "print(X_train[:3])"
   ]
  },
  {
   "cell_type": "code",
   "execution_count": 114,
   "metadata": {
    "id": "kKFmMVDT1WIx"
   },
   "outputs": [],
   "source": [
    "y_train = np.array(train_data['label'])\n",
    "y_test = np.array(test_data['label'])"
   ]
  },
  {
   "cell_type": "markdown",
   "metadata": {
    "id": "bx_HFC5J1WI1"
   },
   "source": [
    "## 빈 샘플 제거"
   ]
  },
  {
   "cell_type": "code",
   "execution_count": 115,
   "metadata": {
    "id": "gWF4Cx931WI2",
    "outputId": "3fcf23f4-997b-40a2-ea98-b6ee136a567c"
   },
   "outputs": [
    {
     "data": {
      "text/plain": [
       "6"
      ]
     },
     "execution_count": 115,
     "metadata": {},
     "output_type": "execute_result"
    }
   ],
   "source": [
    "drop_train = [index for index, sentence in enumerate(X_train) if len(sentence) < 1]\n",
    "len(drop_train)"
   ]
  },
  {
   "cell_type": "code",
   "execution_count": 116,
   "metadata": {
    "id": "3r1fA7TF1WI5",
    "outputId": "0ba233f8-8ce8-4bc2-bb9f-1f32c66a35a8"
   },
   "outputs": [
    {
     "name": "stdout",
     "output_type": "stream",
     "text": [
      "149994\n",
      "149994\n"
     ]
    }
   ],
   "source": [
    "# 빈 샘플들을 제거\n",
    "X_train = np.delete(X_train, drop_train, axis=0)\n",
    "y_train = np.delete(y_train, drop_train, axis=0)\n",
    "print(len(X_train))\n",
    "print(len(y_train))"
   ]
  },
  {
   "cell_type": "markdown",
   "metadata": {
    "id": "HWsBS_2s1WI8"
   },
   "source": [
    "## 패딩"
   ]
  },
  {
   "cell_type": "code",
   "execution_count": 117,
   "metadata": {
    "id": "1ppVV1rE1WI9",
    "outputId": "2a41358d-f30a-414e-f9aa-bc0490526b7d"
   },
   "outputs": [
    {
     "name": "stdout",
     "output_type": "stream",
     "text": [
      "리뷰의 최대 길이 : 431\n",
      "리뷰의 평균 길이 : 16.29295171806872\n"
     ]
    },
    {
     "data": {
      "image/png": "[encoded data removed]",
      "text/plain": [
       "<Figure size 432x288 with 1 Axes>"
      ]
     },
     "metadata": {
      "needs_background": "light"
     },
     "output_type": "display_data"
    }
   ],
   "source": [
    "print('리뷰의 최대 길이 :',max(len(l) for l in X_train))\n",
    "print('리뷰의 평균 길이 :',sum(map(len, X_train))/len(X_train))\n",
    "plt.hist([len(s) for s in X_train], bins=50)\n",
    "plt.xlabel('length of samples')\n",
    "plt.ylabel('number of samples')\n",
    "plt.show()"
   ]
  },
  {
   "cell_type": "code",
   "execution_count": 118,
   "metadata": {
    "id": "WF_Uf6pi1WJC"
   },
   "outputs": [],
   "source": [
    "def below_threshold_len(max_len, nested_list):\n",
    "    cnt = 0\n",
    "    for s in nested_list:\n",
    "        if(len(s) <= max_len):\n",
    "            cnt = cnt + 1\n",
    "    print('전체 샘플 중 길이가 %s 이하인 샘플의 비율: %s'%(max_len, (cnt / len(nested_list))*100))"
   ]
  },
  {
   "cell_type": "code",
   "execution_count": 119,
   "metadata": {
    "id": "8GYbZRNd1WJG",
    "outputId": "66679017-bd35-4b7f-f5ac-12b709313368"
   },
   "outputs": [
    {
     "name": "stdout",
     "output_type": "stream",
     "text": [
      "전체 샘플 중 길이가 50 이하인 샘플의 비율: 95.58449004626853\n"
     ]
    }
   ],
   "source": [
    "max_len = 50\n",
    "below_threshold_len(max_len, X_train)"
   ]
  },
  {
   "cell_type": "code",
   "execution_count": 120,
   "metadata": {
    "id": "uoX9s4-S1WJJ"
   },
   "outputs": [],
   "source": [
    "X_train = pad_sequences(X_train, maxlen = max_len)\n",
    "X_test = pad_sequences(X_test, maxlen = max_len)"
   ]
  },
  {
   "cell_type": "code",
   "execution_count": 121,
   "metadata": {},
   "outputs": [
    {
     "data": {
      "text/plain": [
       "149994"
      ]
     },
     "execution_count": 121,
     "metadata": {},
     "output_type": "execute_result"
    }
   ],
   "source": [
    "len(X_train)"
   ]
  },
  {
   "cell_type": "code",
   "execution_count": 122,
   "metadata": {},
   "outputs": [
    {
     "data": {
      "text/plain": [
       "36121"
      ]
     },
     "execution_count": 122,
     "metadata": {},
     "output_type": "execute_result"
    }
   ],
   "source": [
    "len(X_test)"
   ]
  },
  {
   "cell_type": "markdown",
   "metadata": {
    "id": "h6xImfsi1WJM"
   },
   "source": [
    "## RNN으로 악성 댓글 분류"
   ]
  },
  {
   "cell_type": "code",
   "execution_count": 123,
   "metadata": {
    "id": "iSsD70zG1WJM"
   },
   "outputs": [],
   "source": [
    "from tensorflow.keras.layers import Embedding, Dense, LSTM, SimpleRNN\n",
    "from tensorflow.keras.models import Sequential\n",
    "from tensorflow.keras.models import load_model\n",
    "from tensorflow.keras.callbacks import EarlyStopping, ModelCheckpoint"
   ]
  },
  {
   "cell_type": "code",
   "execution_count": 130,
   "metadata": {
    "id": "qOMHK0EI1WJP",
    "jupyter": {
     "outputs_hidden": true
    },
    "outputId": "41340a46-7462-4a99-9f1b-c7ffc94654b4",
    "scrolled": true
   },
   "outputs": [
    {
     "name": "stdout",
     "output_type": "stream",
     "text": [
      "Epoch 1/15\n",
      "2000/2000 [==============================] - ETA: 0s - loss: 0.2534 - acc: 0.8907\n",
      "Epoch 00001: val_acc improved from -inf to 0.92550, saving model to khaiii_RNN_single.h5\n",
      "2000/2000 [==============================] - 59s 30ms/step - loss: 0.2534 - acc: 0.8907 - val_loss: 0.1830 - val_acc: 0.9255\n",
      "Epoch 2/15\n",
      "2000/2000 [==============================] - ETA: 0s - loss: 0.1932 - acc: 0.9234\n",
      "Epoch 00002: val_acc improved from 0.92550 to 0.92850, saving model to khaiii_RNN_single.h5\n",
      "2000/2000 [==============================] - 58s 29ms/step - loss: 0.1932 - acc: 0.9234 - val_loss: 0.1893 - val_acc: 0.9285\n",
      "Epoch 3/15\n",
      "2000/2000 [==============================] - ETA: 0s - loss: 0.1721 - acc: 0.9315\n",
      "Epoch 00003: val_acc improved from 0.92850 to 0.93080, saving model to khaiii_RNN_single.h5\n",
      "2000/2000 [==============================] - 59s 29ms/step - loss: 0.1721 - acc: 0.9315 - val_loss: 0.1785 - val_acc: 0.9308\n",
      "Epoch 4/15\n",
      "2000/2000 [==============================] - ETA: 0s - loss: 0.1597 - acc: 0.9378- ETA: 0s - loss: 0.1597 - acc: 0.93\n",
      "Epoch 00004: val_acc did not improve from 0.93080\n",
      "2000/2000 [==============================] - 59s 29ms/step - loss: 0.1597 - acc: 0.9378 - val_loss: 0.1862 - val_acc: 0.9231\n",
      "Epoch 5/15\n",
      "1999/2000 [============================>.] - ETA: 0s - loss: 0.1528 - acc: 0.9405\n",
      "Epoch 00005: val_acc improved from 0.93080 to 0.93173, saving model to khaiii_RNN_single.h5\n",
      "2000/2000 [==============================] - 59s 30ms/step - loss: 0.1528 - acc: 0.9405 - val_loss: 0.1749 - val_acc: 0.9317\n",
      "Epoch 6/15\n",
      "2000/2000 [==============================] - ETA: 0s - loss: 0.1458 - acc: 0.9437\n",
      "Epoch 00006: val_acc improved from 0.93173 to 0.93376, saving model to khaiii_RNN_single.h5\n",
      "2000/2000 [==============================] - 58s 29ms/step - loss: 0.1458 - acc: 0.9437 - val_loss: 0.1687 - val_acc: 0.9338\n",
      "Epoch 7/15\n",
      "1999/2000 [============================>.] - ETA: 0s - loss: 0.1415 - acc: 0.9453\n",
      "Epoch 00007: val_acc did not improve from 0.93376\n",
      "2000/2000 [==============================] - 57s 28ms/step - loss: 0.1415 - acc: 0.9453 - val_loss: 0.1701 - val_acc: 0.9336\n",
      "Epoch 8/15\n",
      "1999/2000 [============================>.] - ETA: 0s - loss: 0.1386 - acc: 0.9472\n",
      "Epoch 00008: val_acc did not improve from 0.93376\n",
      "2000/2000 [==============================] - 58s 29ms/step - loss: 0.1386 - acc: 0.9473 - val_loss: 0.1727 - val_acc: 0.9315\n",
      "Epoch 9/15\n",
      "2000/2000 [==============================] - ETA: 0s - loss: 0.1347 - acc: 0.9491\n",
      "Epoch 00009: val_acc did not improve from 0.93376\n",
      "2000/2000 [==============================] - 57s 29ms/step - loss: 0.1347 - acc: 0.9491 - val_loss: 0.1715 - val_acc: 0.9331\n",
      "Epoch 10/15\n",
      "1999/2000 [============================>.] - ETA: 0s - loss: 0.1320 - acc: 0.9499\n",
      "Epoch 00010: val_acc did not improve from 0.93376\n",
      "2000/2000 [==============================] - 57s 28ms/step - loss: 0.1320 - acc: 0.9499 - val_loss: 0.1764 - val_acc: 0.9315\n",
      "Epoch 00010: early stopping\n"
     ]
    }
   ],
   "source": [
    "model = Sequential()\n",
    "model.add(Embedding(vocab_size, 100))\n",
    "model.add(SimpleRNN(128))\n",
    "model.add(Dense(1, activation='sigmoid'))\n",
    "\n",
    "es = EarlyStopping(monitor='val_loss', mode='min', verbose=1, patience=4)\n",
    "mc = ModelCheckpoint('khaiii_RNN_single.h5', monitor='val_acc', \n",
    "                     mode='max', verbose=1, save_best_only=True)\n",
    "\n",
    "model.compile(optimizer='rmsprop', loss='binary_crossentropy', metrics=['acc'])\n",
    "history = model.fit(X_train, y_train, epochs=15, callbacks=[es, mc], \n",
    "                    batch_size=60, validation_split=0.2)"
   ]
  },
  {
   "cell_type": "code",
   "execution_count": 131,
   "metadata": {},
   "outputs": [
    {
     "name": "stdout",
     "output_type": "stream",
     "text": [
      "Model: \"sequential_5\"\n",
      "_________________________________________________________________\n",
      "Layer (type)                 Output Shape              Param #   \n",
      "=================================================================\n",
      "embedding_5 (Embedding)      (None, None, 100)         2887400   \n",
      "_________________________________________________________________\n",
      "simple_rnn_5 (SimpleRNN)     (None, 128)               29312     \n",
      "_________________________________________________________________\n",
      "dense_5 (Dense)              (None, 1)                 129       \n",
      "=================================================================\n",
      "Total params: 2,916,841\n",
      "Trainable params: 2,916,841\n",
      "Non-trainable params: 0\n",
      "_________________________________________________________________\n"
     ]
    }
   ],
   "source": [
    "model.summary()"
   ]
  },
  {
   "cell_type": "code",
   "execution_count": 125,
   "metadata": {
    "id": "erda4-Na1WJS",
    "outputId": "a21ef5ff-3d07-4374-a78f-851512d8a2af",
    "scrolled": true
   },
   "outputs": [
    {
     "name": "stdout",
     "output_type": "stream",
     "text": [
      "1129/1129 [==============================] - 4s 3ms/step - loss: 0.1666 - acc: 0.9358\n",
      "\n",
      "테스트 정확도: 0.9358\n"
     ]
    }
   ],
   "source": [
    "loaded_model = load_model('khaiii_RNN_single.h5')\n",
    "print(\"\\n테스트 정확도: %.4f\" % (loaded_model.evaluate(X_test, y_test)[1]))"
   ]
  },
  {
   "cell_type": "code",
   "execution_count": 126,
   "metadata": {},
   "outputs": [
    {
     "name": "stdout",
     "output_type": "stream",
     "text": [
      "[[17095  1455]\n",
      " [  864 16707]]\n"
     ]
    }
   ],
   "source": [
    "from sklearn.metrics import confusion_matrix\n",
    "pred = loaded_model.predict(X_test)\n",
    "results = confusion_matrix(y_true=y_test, y_pred=pred.round())\n",
    "\n",
    "print(results)"
   ]
  },
  {
   "cell_type": "code",
   "execution_count": 127,
   "metadata": {},
   "outputs": [
    {
     "data": {
      "text/plain": [
       "array([[0.00327623],\n",
       "       [0.98846   ],\n",
       "       [0.1353536 ],\n",
       "       ...,\n",
       "       [0.81414086],\n",
       "       [0.04449466],\n",
       "       [0.97150326]], dtype=float32)"
      ]
     },
     "execution_count": 127,
     "metadata": {},
     "output_type": "execute_result"
    }
   ],
   "source": [
    "y_test_decode = []\n",
    "for i in range(len(y_test)):\n",
    "    if y_test[i] >= 0.5:\n",
    "        y_test_decode.append(1)\n",
    "    else:\n",
    "        y_test_decode.append(0)\n",
    "len(y_test_decode)\n",
    "pred = model.predict(X_test)\n",
    "pred_decode = []\n",
    "for i in range(len(pred)):\n",
    "    if pred[i] >= 0.5:\n",
    "        pred_decode.append(1)\n",
    "    else:\n",
    "        pred_decode.append(0)\n",
    "pred"
   ]
  },
  {
   "cell_type": "code",
   "execution_count": 128,
   "metadata": {
    "scrolled": true
   },
   "outputs": [
    {
     "name": "stdout",
     "output_type": "stream",
     "text": [
      "f1 :  0.8883749779953503\n",
      "recall :  0.8889914618258061\n",
      "precision :  0.88893708448192\n",
      "accuracy 0.8883751834113119\n"
     ]
    }
   ],
   "source": [
    "print('f1 : ',metrics.f1_score(y_test_decode, pred_decode, average='macro'))\n",
    "print('recall : ', metrics.recall_score(y_test_decode,pred_decode,average='macro'))\n",
    "print('precision : ',metrics.precision_score(y_test_decode,pred_decode,average='macro'))\n",
    "print('accuracy', metrics.accuracy_score(y_test_decode, pred_decode,))"
   ]
  },
  {
   "cell_type": "code",
   "execution_count": 129,
   "metadata": {},
   "outputs": [],
   "source": [
    "okt = Okt()"
   ]
  },
  {
   "cell_type": "code",
   "execution_count": 50,
   "metadata": {
    "id": "ALLlrfP71WJV"
   },
   "outputs": [],
   "source": [
    "def sentiment_predict(new_sentence):\n",
    "    sent = new_sentence\n",
    "    new_sentence = okt.morphs(new_sentence, stem=True) # 토큰화\n",
    "    new_sentence = [word for word in new_sentence if not word in stopwords] # 불용어 제거\n",
    "    encoded = tokenizer.texts_to_sequences([new_sentence]) # 정수 인코딩\n",
    "    pad_new = pad_sequences(encoded, maxlen = max_len) # 패딩\n",
    "    score = float(loaded_model.predict(pad_new)) # 예측\n",
    "    if(score > 0.5):\n",
    "        print(\"{}: {:.2f}% --.\\n\".format(sent, score * 100))\n",
    "    else:\n",
    "        print(\"{}: {:.2f}% ++.\\n\".format(sent, (1 - score) * 100))"
   ]
  },
  {
   "cell_type": "code",
   "execution_count": 55,
   "metadata": {
    "id": "kn46qgsI1WJZ",
    "outputId": "1bc28767-b1b1-4cd8-8cdf-cfabc8866550"
   },
   "outputs": [
    {
     "name": "stdout",
     "output_type": "stream",
     "text": [
      "문채원 짱 너무나 사랑스럽고 귀엽고 문채원의 매력에 푹 빠져보세요: 99.78% ++.\n",
      "\n",
      "익명 육사 조지는거: 99.71% --.\n",
      "\n",
      "재미만있구만: 97.46% ++.\n",
      "\n",
      "내가 지인들에게 가장 추천하고픈 영화: 99.84% ++.\n",
      "\n",
      "가슴에 사무치게 따뜻한 영화ㅋ: 99.64% ++.\n",
      "\n",
      "이건뭐 우리 강지환씨가 다 살려주네 그려차도남 현기준의 무한매력에 빠져있느라 다른캐릭터는눈에 들어오지도 않았음ㅋㅋ어쨌든 만화같은 이야기 넘 재밌게 봄: 99.69% ++.\n",
      "\n",
      "무능보다 거짓말이래 ㅋㅋㅋ 탈당했다가 복당 짓은 거짓말이냐 무능이냐 저런 의원들  상황에따라 적이 바뀌고 말이 바뀌는 사람들  저러는 이유는 다른거 없다 지가 정치 계속하고 싶고 의원 계속하고 싶기 때문이지 속은 주판말 퉁기면서 겉으론 입바른 소리: 99.32% --.\n",
      "\n",
      "강남권서울멋쟁이 ㄱㅅ: 98.63% --.\n",
      "\n",
      "의사가 일부러 그런것도 아니고 저정도 고수들만 의사하라고 하면 당장 국민이 더 불편함 어쩔 수 없는거임: 99.75% --.\n",
      "\n",
      "진중권 ㅇㅂ: 99.80% --.\n",
      "\n",
      "서울 안살면 대부분  전화번호 안받음: 99.64% --.\n",
      "\n",
      "임기말쯤 터질듯결국 바둑이랑기: 81.00% --.\n",
      "\n",
      "김수현의 불륜에는 뭔가 철학이 있더라: 98.68% ++.\n",
      "\n",
      "사랑에눈멀어눈에뵈는게없는게아니라 사랑을 기성세대의 틀로 억압한 결과지 무식아: 94.24% ++.\n",
      "\n",
      "익명 중일러 헬조셴도 만만치않은듯: 99.57% --.\n",
      "\n",
      "머가리폭도컷 아오 씨발ㅋㅋ 존나웃기노: 99.43% --.\n",
      "\n",
      "오프리 윈프리 맞나: 93.04% --.\n",
      "\n",
      "사랑을알아가는데필요한시간을잘말해주는영화: 99.85% ++.\n",
      "\n",
      "이게 점짜리지: 96.98% ++.\n",
      "\n",
      "나도 그러던데지들이 걸어놓고 갑자기 귀하는 해당지역 조사대상이 아니래 ㅋ: 99.59% --.\n",
      "\n",
      "사무엘잭슨은 좀빼라 못봐주겠다: 80.89% ++.\n",
      "\n",
      "제발 세컨더리 보이콧 해주세요: 89.79% --.\n",
      "\n",
      "샤이니오빠들 사랑해요 지금은 빛나는 우리 샤이니 시대 진기종현기범민호태민 오빠 사랑해요: 99.79% ++.\n",
      "\n",
      "영화보고 나서 일드로도 찾아봤네요 사람들간의 따뜻한 얘기들이 좋네요 며칠동안 시즌까지 보면서 힐링되었음: 99.79% ++.\n",
      "\n",
      "역시 최민수 형은 쩔어 ㅇㅅㅇ: 98.07% ++.\n",
      "\n",
      "원숭이 수법 모르냐 저린식으로 소송해서 돈 뜻는거잖아: 99.52% --.\n",
      "\n",
      "제 친구를 보는 듯ㅋ 저예산 무명배우들로 이정도면 만점인거같네요: 98.67% ++.\n",
      "\n",
      "글렌 클로즈와 배우들이 말해주는 여성 영화의 전형: 99.61% ++.\n",
      "\n",
      "이 영화는 분명히 청소년기에 꼭 봐야할 영화다: 99.75% ++.\n",
      "\n",
      "가벼운 영화지만 행복해집니다: 99.47% ++.\n",
      "\n",
      "완전 감동이다: 99.66% ++.\n",
      "\n",
      "근래에 봤던 드라마 중 최고마지막에 항상 거지같이 마무리되는 드라마는 정말 그동안 투자한 시간을 아깝게 하지만직장의 신은 마지막까지 감동적이고 깔끔했음: 99.72% ++.\n",
      "\n",
      "근데 저언거 왜 굳이 저렇게 비싼돈주고 사는거냐결국 옷걸이가 중요한건데 알아보는년놈들만 알아보는것들 아님: 99.70% --.\n",
      "\n",
      "로빈 윌리엄스의 연기는 정말 감동적입니다: 99.64% ++.\n",
      "\n",
      "예고편만마믿고 봤는데 읭 완전 재밌음 흥미진진하고 존 아저씨의 능글한연기짱: 99.84% ++.\n",
      "\n",
      "타카가키 아야히: 79.64% --.\n",
      "\n",
      "전라도는아니랑께요: 99.71% --.\n",
      "\n",
      "놀라운건 감독음악연출 모두 주걸륜이 만들었다는거헐 천재였네: 99.75% ++.\n",
      "\n",
      "지금 내 옆에 있는 사람을 진심으로 이해하고 사랑하고 있스니까 생각을 다시하게 해주는 고마운 영화 심지어 도 좋다: 99.71% ++.\n",
      "\n",
      "예쁜여자가 노랴부르고 춤추면 예쁜게 노래도 춤도 열심히 하네 라고 하지만 못생긴 여자가 저렇게 노래부르면서 나대면 어휴 그 노력으로 얼굴이나 노력해서 바꾸지라고 남자들은 생각한다: 97.42% --.\n",
      "\n",
      "노고무대전령 어떤 새끼가 십자로 집을 터냐 십자로: 99.32% --.\n",
      "\n",
      "견자단 대박엽문 시리즈는 계속된다: 99.53% ++.\n",
      "\n",
      "유리코 완전 이쁘네ㄷㄷㄷㄷㄷㄷㄷㄷ: 84.73% ++.\n",
      "\n",
      "감동실화 영화였노오스카 실화기반 영화 좋아 하던데 그래서 상 줬네: 97.75% ++.\n",
      "\n",
      "스텔스 헬기의 존재를 세상에 처음으로 알린 영화: 99.85% ++.\n",
      "\n",
      "틀딱이라 하지마라어르신들덕에 나라되찾을수있을거다: 99.72% --.\n",
      "\n",
      "말 그대로 완벽해요 가장 좋아하는 영화로 뽑혔네요: 99.39% ++.\n",
      "\n",
      "이거 내가 웃대 올렸는데 제 아이디 애국자남선이에요: 87.01% --.\n",
      "\n",
      "초반부를 볼때는 현재와 관련이 없어보였던 과거의 내용을 오래도록 이야기해서 이게 뭔가 싶었고 어떤식으로 엮어나가려고 하나 했는데 중후반으로 가면서 완전하게 아귀가 딱딱 맞춰지는 스토리와 약간의 반전있는 결말까지 책 처럼 구성이 치밀하다: 99.75% ++.\n",
      "\n",
      "비행기 한대값 존나 비싸지 않냐 카미카제 공격 한번에 돈존나 깨졌겠노: 99.72% --.\n",
      "\n",
      "가슴 뭉클하고인생에 도움이 되는 영화: 99.79% ++.\n",
      "\n",
      "보는 내내 배고프게 만들었던 영화 따뜻함은 덤으로: 99.76% ++.\n",
      "\n",
      "내가 모기 파리 바퀴벌레 빼고서 어지간한 곤충도 함부로 못죽인다여름에 집에 무당벌레 하나 들어왔는데 손으로 고이감싸서 밖에다 날려줬다그런데 내가 진짜 문재인 이새끼 나보고 죽이라하면 오원춘 빙의해서 살점하나하나 도려내고 잘라내생살 고깃덩이 잘근잘근 씹어먹을수 있을거같다 산낙지도 못먹는데: 99.77% --.\n",
      "\n",
      "다음편 언제올리노 게이야 빨리올려줘라: 99.07% --.\n",
      "\n",
      "익명 홍어피가 도 없는걸로 알고 있다 그냥 특별한 케이스라고 보면됨 마지 전남 보성에서 나고 자란 안정권 같은 놈이라 생각하면됨: 99.61% --.\n",
      "\n",
      "우리아이가 달라졌어요 버전: 94.71% ++.\n",
      "\n",
      "평창올림끡 파트타임 알바 하나 구하겠지: 99.31% --.\n",
      "\n",
      "사람은 배워야한다: 82.15% --.\n",
      "\n",
      "장난치는거 왜 하냐 정말 이해가 안감: 62.94% ++.\n",
      "\n",
      "압구정한양게이 ㅋㅋㅋ: 99.69% --.\n",
      "\n",
      "하루하루가 소중하다는걸 알려준 영화: 99.78% ++.\n",
      "\n",
      "북한에 문재인 쏘자반년도 못가서 북한 폭망할듯: 99.83% --.\n",
      "\n",
      "머리에 든 거 하나도 없네: 92.75% --.\n",
      "\n",
      "영화도 영화지만 영화의 재미를 배로 해주는 는 정말 명곡이다 엔니오모리꼬네를 만난 뵌것은 영광이었다: 99.40% ++.\n",
      "\n",
      "익명 윤석열도 같은 생각임 ㅋㅋ: 99.74% --.\n",
      "\n",
      "스무살 시절 하루하루 이 영화보며 꿈을 키웠   날 미치게한 뮤비: 99.59% ++.\n",
      "\n",
      "상영관이 부족한 게 참 아쉽다 보고 있으면 어느새 미소가 지어져있는 영화: 99.81% ++.\n",
      "\n",
      "반대로 여자들이 수건을 훔치는 이유는 수건이 집에서 자연발생을 안한다는걸 알기 때문이라구욧: 99.72% --.\n",
      "\n",
      "자네에게 나와 섹스할 자격능 주노라: 98.75% --.\n",
      "\n",
      "유쾌: 55.74% --.\n",
      "\n",
      "고종이 문재인으로 환생하다: 99.60% --.\n",
      "\n",
      "아이와 함께보기 좋네요: 99.59% ++.\n",
      "\n",
      "아는게 없으면 재밌을 수가 없는 영화 적어도 난 그걸 알기에 만점을 준다: 98.86% ++.\n",
      "\n",
      "년대 영화가 이렇게 빼어나다니: 99.52% ++.\n",
      "\n",
      "여친이 몇살 차이길래 애애 거리냐: 99.68% --.\n",
      "\n",
      "첨부터 끝까지 진지한 영화 지금 보면 약간씩 손발이 오그라드는 대사가 간간히 보이나 이만한 영화 별로 없다: 99.49% ++.\n",
      "\n",
      "전 몇번을봐도 재밌네요: 99.71% ++.\n",
      "\n",
      "전라도 새끼들은 전부 가스실에 처넣어야됨: 99.69% --.\n",
      "\n",
      "휘파람 행진곡이 귓가에 맴도는 듯: 94.55% ++.\n",
      "\n",
      "안산시 선부중학교만일 전라도 였다면: 99.19% --.\n",
      "\n",
      "익명 저놈 처먹는 쌀 한톨도 아깝다: 99.37% --.\n",
      "\n",
      "지금 북한 없애지 않으면 전 세계가 개고생이다: 98.72% --.\n",
      "\n",
      "ㅎ홍어ㅠㅇ너ㅠ노ㅠㅍ너ㅠㅠ: 99.24% --.\n",
      "\n",
      "기센여자네 침대에선 어떨까: 93.83% --.\n",
      "\n",
      "왜 요즘은 이런 드라마가 없을까여백있는 드라마 대사들이 아름다운주찬옥황인뢰 드라마에 한때 열광했었는데: 99.61% ++.\n",
      "\n",
      "개쩐다: 53.99% --.\n",
      "\n",
      "우리집은 추리닝두벌 햇반 한박스 진라면 한박스 백산수 빤스 담요 기타등등 미친듯이 주던데 이상하네: 99.78% --.\n",
      "\n",
      "개같이벌려이년아 저렇게 우덜식으로하는데 이나 나오겠냐 ㅋㅋ문재인새끼도 칠퍼센트못해서 죄송합니다가 어울리는 새끼임ㅊㅇㅇ: 99.51% --.\n",
      "\n",
      "김정은참수팀장 우측: 99.12% --.\n",
      "\n",
      "기자들은 김영란법을가장반대했음 그리고 면제함: 98.96% --.\n",
      "\n",
      "추애미애추 수입이 늘어난 알바도 크게 없어시간당 수입이 늘어난 만큼 근무시간 자체가 줄어든 알바들이 많다: 97.31% --.\n",
      "\n",
      "최고최고 정말 재밌는 드라마: 99.82% ++.\n",
      "\n",
      "내용 굿 대사 굿 지적인 로맨틱 코미디라는 말이 딱 맞다: 92.47% ++.\n",
      "\n",
      "평점 좀 올려주시다: 99.39% ++.\n",
      "\n",
      "머리박고 돈벌수있으면 난 헤드스핀도 한다: 99.34% --.\n",
      "\n",
      "알고보니 부시는 트럼프가 보낸 특사였군: 95.26% --.\n",
      "\n",
      "영화 마지막 장면을 보고 극소름 아직도 소름이 가라앉지않는다 별개: 99.74% ++.\n",
      "\n",
      "감자국화폐 잘했다감자게이야대신의료비는검머급으로가라이기: 99.86% --.\n",
      "\n",
      "분탕도살꾼 메가톤: 96.04% --.\n",
      "\n",
      "년대와 년대 후반 팝송을 잘 안다면 매력적인 영화로빈튜니연기도굿: 99.85% ++.\n",
      "\n"
     ]
    }
   ],
   "source": [
    "for sentence in test_data['comments'][:100]:\n",
    "    sentiment_predict(sentence)"
   ]
  },
  {
   "cell_type": "code",
   "execution_count": null,
   "metadata": {},
   "outputs": [],
   "source": []
  }
 ],
 "metadata": {
  "accelerator": "GPU",
  "colab": {
   "name": "LSTM_yoon.ipynb",
   "provenance": []
  },
  "kernelspec": {
   "display_name": "Python 3",
   "language": "python",
   "name": "python3"
  },
  "language_info": {
   "codemirror_mode": {
    "name": "ipython",
    "version": 3
   },
   "file_extension": ".py",
   "mimetype": "text/x-python",
   "name": "python",
   "nbconvert_exporter": "python",
   "pygments_lexer": "ipython3",
   "version": "3.7.7"
  }
 },
 "nbformat": 4,
 "nbformat_minor": 1
}
