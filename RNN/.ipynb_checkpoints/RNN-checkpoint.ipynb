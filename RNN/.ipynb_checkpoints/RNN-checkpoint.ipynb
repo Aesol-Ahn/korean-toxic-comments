{
 "cells": [
  {
   "cell_type": "code",
   "execution_count": 1,
   "metadata": {
    "executionInfo": {
     "elapsed": 1106,
     "status": "ok",
     "timestamp": 1604906467105,
     "user": {
      "displayName": "조원우",
      "photoUrl": "",
      "userId": "11153319923813420173"
     },
     "user_tz": -540
    },
    "id": "26MNEKH61WG2",
    "scrolled": true
   },
   "outputs": [
    {
     "name": "stderr",
     "output_type": "stream",
     "text": [
      "C:\\Anaconda3\\lib\\site-packages\\tensorboard\\compat\\tensorflow_stub\\dtypes.py:541: FutureWarning: Passing (type, 1) or '1type' as a synonym of type is deprecated; in a future version of numpy, it will be understood as (type, (1,)) / '(1,)type'.\n",
      "  _np_qint8 = np.dtype([(\"qint8\", np.int8, 1)])\n",
      "C:\\Anaconda3\\lib\\site-packages\\tensorboard\\compat\\tensorflow_stub\\dtypes.py:542: FutureWarning: Passing (type, 1) or '1type' as a synonym of type is deprecated; in a future version of numpy, it will be understood as (type, (1,)) / '(1,)type'.\n",
      "  _np_quint8 = np.dtype([(\"quint8\", np.uint8, 1)])\n",
      "C:\\Anaconda3\\lib\\site-packages\\tensorboard\\compat\\tensorflow_stub\\dtypes.py:543: FutureWarning: Passing (type, 1) or '1type' as a synonym of type is deprecated; in a future version of numpy, it will be understood as (type, (1,)) / '(1,)type'.\n",
      "  _np_qint16 = np.dtype([(\"qint16\", np.int16, 1)])\n",
      "C:\\Anaconda3\\lib\\site-packages\\tensorboard\\compat\\tensorflow_stub\\dtypes.py:544: FutureWarning: Passing (type, 1) or '1type' as a synonym of type is deprecated; in a future version of numpy, it will be understood as (type, (1,)) / '(1,)type'.\n",
      "  _np_quint16 = np.dtype([(\"quint16\", np.uint16, 1)])\n",
      "C:\\Anaconda3\\lib\\site-packages\\tensorboard\\compat\\tensorflow_stub\\dtypes.py:545: FutureWarning: Passing (type, 1) or '1type' as a synonym of type is deprecated; in a future version of numpy, it will be understood as (type, (1,)) / '(1,)type'.\n",
      "  _np_qint32 = np.dtype([(\"qint32\", np.int32, 1)])\n",
      "C:\\Anaconda3\\lib\\site-packages\\tensorboard\\compat\\tensorflow_stub\\dtypes.py:550: FutureWarning: Passing (type, 1) or '1type' as a synonym of type is deprecated; in a future version of numpy, it will be understood as (type, (1,)) / '(1,)type'.\n",
      "  np_resource = np.dtype([(\"resource\", np.ubyte, 1)])\n"
     ]
    }
   ],
   "source": [
    "import re\n",
    "import pickle\n",
    "import pandas as pd\n",
    "import numpy as np\n",
    "%matplotlib inline\n",
    "import matplotlib.pyplot as plt\n",
    "from PIL import Image\n",
    "from konlpy.tag import Okt\n",
    "from wordcloud import WordCloud\n",
    "from tensorflow.keras.preprocessing.text import Tokenizer\n",
    "from tensorflow.keras.preprocessing.sequence import pad_sequences\n",
    "from konlpy.tag import Mecab\n",
    "from collections import Counter"
   ]
  },
  {
   "cell_type": "markdown",
   "metadata": {
    "id": "Jt9swcpM1WG9"
   },
   "source": [
    "## 데이터 로드"
   ]
  },
  {
   "cell_type": "code",
   "execution_count": 18,
   "metadata": {
    "colab": {
     "base_uri": "https://localhost:8080/",
     "height": 204
    },
    "executionInfo": {
     "elapsed": 3742,
     "status": "ok",
     "timestamp": 1604906089831,
     "user": {
      "displayName": "조원우",
      "photoUrl": "",
      "userId": "11153319923813420173"
     },
     "user_tz": -540
    },
    "id": "XvcqDo_i1WG9",
    "outputId": "22456ecd-fa91-45b8-f3ff-53d4f27e3d26"
   },
   "outputs": [
    {
     "data": {
      "text/html": [
       "<div>\n",
       "<style scoped>\n",
       "    .dataframe tbody tr th:only-of-type {\n",
       "        vertical-align: middle;\n",
       "    }\n",
       "\n",
       "    .dataframe tbody tr th {\n",
       "        vertical-align: top;\n",
       "    }\n",
       "\n",
       "    .dataframe thead th {\n",
       "        text-align: right;\n",
       "    }\n",
       "</style>\n",
       "<table border=\"1\" class=\"dataframe\">\n",
       "  <thead>\n",
       "    <tr style=\"text-align: right;\">\n",
       "      <th></th>\n",
       "      <th>comments</th>\n",
       "      <th>label</th>\n",
       "    </tr>\n",
       "  </thead>\n",
       "  <tbody>\n",
       "    <tr>\n",
       "      <th>0</th>\n",
       "      <td>정말 재밌다 연기도 좋고 디카프리오 짱</td>\n",
       "      <td>1</td>\n",
       "    </tr>\n",
       "    <tr>\n",
       "      <th>1</th>\n",
       "      <td>심쿵심쿵 미치네요이수혁땜에 잠 못자겠어요ㅠ자꾸 아른거림ㅠ</td>\n",
       "      <td>1</td>\n",
       "    </tr>\n",
       "    <tr>\n",
       "      <th>2</th>\n",
       "      <td>하지만 이니후빨러들은 이런거 관심 하나도 없음</td>\n",
       "      <td>0</td>\n",
       "    </tr>\n",
       "    <tr>\n",
       "      <th>3</th>\n",
       "      <td>@착한아이임당 A4 용지 덮고?</td>\n",
       "      <td>0</td>\n",
       "    </tr>\n",
       "    <tr>\n",
       "      <th>4</th>\n",
       "      <td>진짜 평점 믿으면 안된 다는 걸 현실로 보여주는 영화입니다. 네티즌,전문가 하나같이...</td>\n",
       "      <td>1</td>\n",
       "    </tr>\n",
       "  </tbody>\n",
       "</table>\n",
       "</div>"
      ],
      "text/plain": [
       "                                            comments  label\n",
       "0                              정말 재밌다 연기도 좋고 디카프리오 짱      1\n",
       "1                    심쿵심쿵 미치네요이수혁땜에 잠 못자겠어요ㅠ자꾸 아른거림ㅠ      1\n",
       "2                          하지만 이니후빨러들은 이런거 관심 하나도 없음      0\n",
       "3                                  @착한아이임당 A4 용지 덮고?      0\n",
       "4  진짜 평점 믿으면 안된 다는 걸 현실로 보여주는 영화입니다. 네티즌,전문가 하나같이...      1"
      ]
     },
     "execution_count": 18,
     "metadata": {
      "tags": []
     },
     "output_type": "execute_result"
    }
   ],
   "source": [
    "data = pd.read_csv(\"hate_speech_large.csv\")\n",
    "data.columns = [\"comments\", \"label\"]\n",
    "data.head()"
   ]
  },
  {
   "cell_type": "code",
   "execution_count": 19,
   "metadata": {
    "colab": {
     "base_uri": "https://localhost:8080/"
    },
    "executionInfo": {
     "elapsed": 1145,
     "status": "ok",
     "timestamp": 1604906093733,
     "user": {
      "displayName": "조원우",
      "photoUrl": "",
      "userId": "11153319923813420173"
     },
     "user_tz": -540
    },
    "id": "1tAsPFHa1WHC",
    "outputId": "7573f8aa-84d7-411a-e9af-fe45970b7917"
   },
   "outputs": [
    {
     "name": "stdout",
     "output_type": "stream",
     "text": [
      "댓글 개수 : 190000\n"
     ]
    }
   ],
   "source": [
    "print(\"댓글 개수 :\",len(data)) # 댓글 개수 출력"
   ]
  },
  {
   "cell_type": "markdown",
   "metadata": {
    "id": "IiMOhpiv1WHF"
   },
   "source": [
    "## 데이터 정제"
   ]
  },
  {
   "cell_type": "code",
   "execution_count": 20,
   "metadata": {
    "executionInfo": {
     "elapsed": 1061,
     "status": "ok",
     "timestamp": 1604906098914,
     "user": {
      "displayName": "조원우",
      "photoUrl": "",
      "userId": "11153319923813420173"
     },
     "user_tz": -540
    },
    "id": "PdqWnPZ61WHF"
   },
   "outputs": [],
   "source": [
    "data['label'] = np.where(data['label'] == 0, 1, 0)"
   ]
  },
  {
   "cell_type": "markdown",
   "metadata": {
    "id": "dHmbQmAU1WHI"
   },
   "source": [
    "### 댓글의 중복 여부 확인"
   ]
  },
  {
   "cell_type": "code",
   "execution_count": 21,
   "metadata": {
    "colab": {
     "base_uri": "https://localhost:8080/"
    },
    "executionInfo": {
     "elapsed": 1116,
     "status": "ok",
     "timestamp": 1604906101076,
     "user": {
      "displayName": "조원우",
      "photoUrl": "",
      "userId": "11153319923813420173"
     },
     "user_tz": -540
    },
    "id": "VX-t0yIG1WHJ",
    "outputId": "e71ef32f-dbd8-412a-8b19-eb6e1602d0ac"
   },
   "outputs": [
    {
     "data": {
      "text/plain": [
       "(187142, 2)"
      ]
     },
     "execution_count": 21,
     "metadata": {
      "tags": []
     },
     "output_type": "execute_result"
    }
   ],
   "source": [
    "data['comments'].nunique(), data['label'].nunique()"
   ]
  },
  {
   "cell_type": "code",
   "execution_count": 22,
   "metadata": {
    "colab": {
     "base_uri": "https://localhost:8080/"
    },
    "executionInfo": {
     "elapsed": 1159,
     "status": "ok",
     "timestamp": 1604906102016,
     "user": {
      "displayName": "조원우",
      "photoUrl": "",
      "userId": "11153319923813420173"
     },
     "user_tz": -540
    },
    "id": "ErP9BGIX1WHN",
    "outputId": "0044b88b-9389-4602-f8f2-51c8df50c619"
   },
   "outputs": [
    {
     "data": {
      "text/plain": [
       "(187143, 2)"
      ]
     },
     "execution_count": 22,
     "metadata": {
      "tags": []
     },
     "output_type": "execute_result"
    }
   ],
   "source": [
    "data.drop_duplicates(subset=['comments'], inplace=True) # 중복 코멘트 제거\n",
    "data.shape"
   ]
  },
  {
   "cell_type": "code",
   "execution_count": 23,
   "metadata": {
    "colab": {
     "base_uri": "https://localhost:8080/"
    },
    "executionInfo": {
     "elapsed": 1495,
     "status": "ok",
     "timestamp": 1604906103184,
     "user": {
      "displayName": "조원우",
      "photoUrl": "",
      "userId": "11153319923813420173"
     },
     "user_tz": -540
    },
    "id": "iGQOtDjk1WHQ",
    "outputId": "fe5b0a58-4b61-4857-9047-aad8f522707c"
   },
   "outputs": [
    {
     "name": "stdout",
     "output_type": "stream",
     "text": [
      "총 샘플의 수 : 187143\n"
     ]
    }
   ],
   "source": [
    "print('총 샘플의 수 :',len(data))"
   ]
  },
  {
   "cell_type": "markdown",
   "metadata": {
    "id": "KwOBoC1t1WHV"
   },
   "source": [
    "#### 레이블 값의 분포"
   ]
  },
  {
   "cell_type": "code",
   "execution_count": 24,
   "metadata": {
    "colab": {
     "base_uri": "https://localhost:8080/",
     "height": 280
    },
    "executionInfo": {
     "elapsed": 1203,
     "status": "ok",
     "timestamp": 1604906104053,
     "user": {
      "displayName": "조원우",
      "photoUrl": "",
      "userId": "11153319923813420173"
     },
     "user_tz": -540
    },
    "id": "5RvVPaWy1WHW",
    "outputId": "2e2567e5-084b-4cec-8991-0f3c914e37f5"
   },
   "outputs": [
    {
     "data": {
      "text/plain": [
       "<matplotlib.axes._subplots.AxesSubplot at 0x7f76a8ebbb38>"
      ]
     },
     "execution_count": 24,
     "metadata": {
      "tags": []
     },
     "output_type": "execute_result"
    },
    {
     "data": {
      "image/png": "[encoded data removed]",
      "text/plain": [
       "<Figure size 432x288 with 1 Axes>"
      ]
     },
     "metadata": {
      "needs_background": "light",
      "tags": []
     },
     "output_type": "display_data"
    }
   ],
   "source": [
    "data['label'].value_counts().plot(kind = 'bar')"
   ]
  },
  {
   "cell_type": "code",
   "execution_count": 25,
   "metadata": {
    "colab": {
     "base_uri": "https://localhost:8080/"
    },
    "executionInfo": {
     "elapsed": 623,
     "status": "ok",
     "timestamp": 1604906104467,
     "user": {
      "displayName": "조원우",
      "photoUrl": "",
      "userId": "11153319923813420173"
     },
     "user_tz": -540
    },
    "id": "ANP5jvwo1WHb",
    "outputId": "d4416591-df10-4e1c-cd69-3ebe9c5d0c7d"
   },
   "outputs": [
    {
     "name": "stdout",
     "output_type": "stream",
     "text": [
      "   label  count\n",
      "0      0  97223\n",
      "1      1  89920\n"
     ]
    }
   ],
   "source": [
    "print(data.groupby('label').size().reset_index(name = 'count'))"
   ]
  },
  {
   "cell_type": "markdown",
   "metadata": {
    "id": "l9CrgOOn1WHg"
   },
   "source": [
    "### Null 값 제거"
   ]
  },
  {
   "cell_type": "code",
   "execution_count": 26,
   "metadata": {
    "colab": {
     "base_uri": "https://localhost:8080/"
    },
    "executionInfo": {
     "elapsed": 1084,
     "status": "ok",
     "timestamp": 1604906107283,
     "user": {
      "displayName": "조원우",
      "photoUrl": "",
      "userId": "11153319923813420173"
     },
     "user_tz": -540
    },
    "id": "B3ahSAD31WHh",
    "outputId": "3c02e3be-80c2-4ad4-bec2-84b12028f1aa"
   },
   "outputs": [
    {
     "name": "stdout",
     "output_type": "stream",
     "text": [
      "True\n"
     ]
    }
   ],
   "source": [
    "print(data.isnull().values.any())"
   ]
  },
  {
   "cell_type": "code",
   "execution_count": 27,
   "metadata": {
    "colab": {
     "base_uri": "https://localhost:8080/"
    },
    "executionInfo": {
     "elapsed": 1235,
     "status": "ok",
     "timestamp": 1604906108733,
     "user": {
      "displayName": "조원우",
      "photoUrl": "",
      "userId": "11153319923813420173"
     },
     "user_tz": -540
    },
    "id": "3neFBZD41WHj",
    "outputId": "0a9fe918-ae57-46e3-c50a-c1e3d2bd9dcd"
   },
   "outputs": [
    {
     "name": "stdout",
     "output_type": "stream",
     "text": [
      "comments    1\n",
      "label       0\n",
      "dtype: int64\n"
     ]
    }
   ],
   "source": [
    "print(data.isnull().sum())"
   ]
  },
  {
   "cell_type": "code",
   "execution_count": 28,
   "metadata": {
    "colab": {
     "base_uri": "https://localhost:8080/",
     "height": 80
    },
    "executionInfo": {
     "elapsed": 652,
     "status": "ok",
     "timestamp": 1604906108734,
     "user": {
      "displayName": "조원우",
      "photoUrl": "",
      "userId": "11153319923813420173"
     },
     "user_tz": -540
    },
    "id": "NFOr1oZ81WHm",
    "outputId": "e431c0c2-9ad7-45a0-f743-7424b3969b0d"
   },
   "outputs": [
    {
     "data": {
      "text/html": [
       "<div>\n",
       "<style scoped>\n",
       "    .dataframe tbody tr th:only-of-type {\n",
       "        vertical-align: middle;\n",
       "    }\n",
       "\n",
       "    .dataframe tbody tr th {\n",
       "        vertical-align: top;\n",
       "    }\n",
       "\n",
       "    .dataframe thead th {\n",
       "        text-align: right;\n",
       "    }\n",
       "</style>\n",
       "<table border=\"1\" class=\"dataframe\">\n",
       "  <thead>\n",
       "    <tr style=\"text-align: right;\">\n",
       "      <th></th>\n",
       "      <th>comments</th>\n",
       "      <th>label</th>\n",
       "    </tr>\n",
       "  </thead>\n",
       "  <tbody>\n",
       "    <tr>\n",
       "      <th>7807</th>\n",
       "      <td>NaN</td>\n",
       "      <td>0</td>\n",
       "    </tr>\n",
       "  </tbody>\n",
       "</table>\n",
       "</div>"
      ],
      "text/plain": [
       "     comments  label\n",
       "7807      NaN      0"
      ]
     },
     "execution_count": 28,
     "metadata": {
      "tags": []
     },
     "output_type": "execute_result"
    }
   ],
   "source": [
    "data.loc[data.comments.isnull()]"
   ]
  },
  {
   "cell_type": "code",
   "execution_count": 29,
   "metadata": {
    "colab": {
     "base_uri": "https://localhost:8080/"
    },
    "executionInfo": {
     "elapsed": 1100,
     "status": "ok",
     "timestamp": 1604906109817,
     "user": {
      "displayName": "조원우",
      "photoUrl": "",
      "userId": "11153319923813420173"
     },
     "user_tz": -540
    },
    "id": "cRGoBcTr1WHo",
    "outputId": "c96e5f48-902d-4b04-ad2e-fead33e37e9b"
   },
   "outputs": [
    {
     "name": "stdout",
     "output_type": "stream",
     "text": [
      "False\n"
     ]
    }
   ],
   "source": [
    "data = data.dropna(how = 'any') # Null 값이 존재하는 행 제거\n",
    "print(data.isnull().values.any()) # Null 값이 존재하는지 확인"
   ]
  },
  {
   "cell_type": "code",
   "execution_count": 30,
   "metadata": {
    "colab": {
     "base_uri": "https://localhost:8080/"
    },
    "executionInfo": {
     "elapsed": 1769,
     "status": "ok",
     "timestamp": 1604906111315,
     "user": {
      "displayName": "조원우",
      "photoUrl": "",
      "userId": "11153319923813420173"
     },
     "user_tz": -540
    },
    "id": "67T7vrks1WHr",
    "outputId": "65632989-4d8e-4922-b687-ed58f15b0450"
   },
   "outputs": [
    {
     "name": "stdout",
     "output_type": "stream",
     "text": [
      "187142\n"
     ]
    }
   ],
   "source": [
    "print(len(data))"
   ]
  },
  {
   "cell_type": "markdown",
   "metadata": {
    "id": "Q0l-Lh9i1WHu"
   },
   "source": [
    "### 한글, 공백 제외 전처리"
   ]
  },
  {
   "cell_type": "code",
   "execution_count": 31,
   "metadata": {
    "colab": {
     "base_uri": "https://localhost:8080/",
     "height": 204
    },
    "executionInfo": {
     "elapsed": 1058,
     "status": "ok",
     "timestamp": 1604906115438,
     "user": {
      "displayName": "조원우",
      "photoUrl": "",
      "userId": "11153319923813420173"
     },
     "user_tz": -540
    },
    "id": "yJj_vCWr1WHv",
    "outputId": "ea36a5b5-8dee-4163-d775-4abdbe810984"
   },
   "outputs": [
    {
     "data": {
      "text/html": [
       "<div>\n",
       "<style scoped>\n",
       "    .dataframe tbody tr th:only-of-type {\n",
       "        vertical-align: middle;\n",
       "    }\n",
       "\n",
       "    .dataframe tbody tr th {\n",
       "        vertical-align: top;\n",
       "    }\n",
       "\n",
       "    .dataframe thead th {\n",
       "        text-align: right;\n",
       "    }\n",
       "</style>\n",
       "<table border=\"1\" class=\"dataframe\">\n",
       "  <thead>\n",
       "    <tr style=\"text-align: right;\">\n",
       "      <th></th>\n",
       "      <th>comments</th>\n",
       "      <th>label</th>\n",
       "    </tr>\n",
       "  </thead>\n",
       "  <tbody>\n",
       "    <tr>\n",
       "      <th>0</th>\n",
       "      <td>정말 재밌다 연기도 좋고 디카프리오 짱</td>\n",
       "      <td>0</td>\n",
       "    </tr>\n",
       "    <tr>\n",
       "      <th>1</th>\n",
       "      <td>심쿵심쿵 미치네요이수혁땜에 잠 못자겠어요ㅠ자꾸 아른거림ㅠ</td>\n",
       "      <td>0</td>\n",
       "    </tr>\n",
       "    <tr>\n",
       "      <th>2</th>\n",
       "      <td>하지만 이니후빨러들은 이런거 관심 하나도 없음</td>\n",
       "      <td>1</td>\n",
       "    </tr>\n",
       "    <tr>\n",
       "      <th>3</th>\n",
       "      <td>착한아이임당  용지 덮고</td>\n",
       "      <td>1</td>\n",
       "    </tr>\n",
       "    <tr>\n",
       "      <th>4</th>\n",
       "      <td>진짜 평점 믿으면 안된 다는 걸 현실로 보여주는 영화입니다 네티즌전문가 하나같이 영...</td>\n",
       "      <td>0</td>\n",
       "    </tr>\n",
       "  </tbody>\n",
       "</table>\n",
       "</div>"
      ],
      "text/plain": [
       "                                            comments  label\n",
       "0                              정말 재밌다 연기도 좋고 디카프리오 짱      0\n",
       "1                    심쿵심쿵 미치네요이수혁땜에 잠 못자겠어요ㅠ자꾸 아른거림ㅠ      0\n",
       "2                          하지만 이니후빨러들은 이런거 관심 하나도 없음      1\n",
       "3                                      착한아이임당  용지 덮고      1\n",
       "4  진짜 평점 믿으면 안된 다는 걸 현실로 보여주는 영화입니다 네티즌전문가 하나같이 영...      0"
      ]
     },
     "execution_count": 31,
     "metadata": {
      "tags": []
     },
     "output_type": "execute_result"
    }
   ],
   "source": [
    "data['comments'] = data['comments'].str.replace(\"[^ㄱ-ㅎㅏ-ㅣ가-힣 ]\",\"\")\n",
    "data.head()"
   ]
  },
  {
   "cell_type": "code",
   "execution_count": 32,
   "metadata": {
    "colab": {
     "base_uri": "https://localhost:8080/"
    },
    "executionInfo": {
     "elapsed": 1023,
     "status": "ok",
     "timestamp": 1604906115856,
     "user": {
      "displayName": "조원우",
      "photoUrl": "",
      "userId": "11153319923813420173"
     },
     "user_tz": -540
    },
    "id": "XFW4hlEL1WHy",
    "outputId": "bd9d7d2d-c8ff-431e-c55b-f26714317684"
   },
   "outputs": [
    {
     "name": "stdout",
     "output_type": "stream",
     "text": [
      "comments    1021\n",
      "label          0\n",
      "dtype: int64\n"
     ]
    }
   ],
   "source": [
    "data['comments'] = data['comments'].str.strip()\n",
    "data['comments'].replace('', np.nan, inplace=True)\n",
    "print(data.isnull().sum())"
   ]
  },
  {
   "cell_type": "code",
   "execution_count": 33,
   "metadata": {
    "colab": {
     "base_uri": "https://localhost:8080/"
    },
    "executionInfo": {
     "elapsed": 1063,
     "status": "ok",
     "timestamp": 1604906116270,
     "user": {
      "displayName": "조원우",
      "photoUrl": "",
      "userId": "11153319923813420173"
     },
     "user_tz": -540
    },
    "id": "ao7EdMbK1WH1",
    "outputId": "712ef98e-9f0d-4579-ffb9-a86c8e244a5b"
   },
   "outputs": [
    {
     "name": "stdout",
     "output_type": "stream",
     "text": [
      "186121\n"
     ]
    }
   ],
   "source": [
    "data = data.dropna(how = 'any')\n",
    "print(len(data))"
   ]
  },
  {
   "cell_type": "markdown",
   "metadata": {
    "id": "qZFvstm61WH5"
   },
   "source": [
    "### 데이터 분리"
   ]
  },
  {
   "cell_type": "code",
   "execution_count": 34,
   "metadata": {
    "executionInfo": {
     "elapsed": 1102,
     "status": "ok",
     "timestamp": 1604906120146,
     "user": {
      "displayName": "조원우",
      "photoUrl": "",
      "userId": "11153319923813420173"
     },
     "user_tz": -540
    },
    "id": "J3L2-BMk1WH5"
   },
   "outputs": [],
   "source": [
    "train_data = data[:150000]\n",
    "test_data = data[150000:]\n",
    "\n",
    "train_data.to_csv(\"train_data.csv\", index=False)\n",
    "test_data.to_csv(\"test_data.csv\", index=False)"
   ]
  },
  {
   "cell_type": "code",
   "execution_count": 35,
   "metadata": {
    "executionInfo": {
     "elapsed": 1201,
     "status": "ok",
     "timestamp": 1604906120655,
     "user": {
      "displayName": "조원우",
      "photoUrl": "",
      "userId": "11153319923813420173"
     },
     "user_tz": -540
    },
    "id": "m6s1A15S1WH8"
   },
   "outputs": [],
   "source": [
    "train_data = pd.read_csv(\"train_data.csv\")\n",
    "test_data = pd.read_csv(\"test_data.csv\")"
   ]
  },
  {
   "cell_type": "code",
   "execution_count": 37,
   "metadata": {
    "executionInfo": {
     "elapsed": 1139,
     "status": "ok",
     "timestamp": 1604906385345,
     "user": {
      "displayName": "조원우",
      "photoUrl": "",
      "userId": "11153319923813420173"
     },
     "user_tz": -540
    },
    "id": "Er1RT4V73-dn"
   },
   "outputs": [],
   "source": [
    "mecab = Mecab()"
   ]
  },
  {
   "cell_type": "markdown",
   "metadata": {
    "id": "g8PY6dmu1WH_"
   },
   "source": [
    "## EDA"
   ]
  },
  {
   "cell_type": "markdown",
   "metadata": {
    "id": "aePY1I5G1WH_"
   },
   "source": [
    "### 워드클라우드\n",
    "* 긍정/부정 댓글에서 빈도수가 가장 높은 명사들을 시각화"
   ]
  },
  {
   "cell_type": "markdown",
   "metadata": {
    "id": "snfgoTRX1WH_"
   },
   "source": [
    "명사 추출 함수"
   ]
  },
  {
   "cell_type": "code",
   "execution_count": 40,
   "metadata": {
    "executionInfo": {
     "elapsed": 15592,
     "status": "ok",
     "timestamp": 1604906492941,
     "user": {
      "displayName": "조원우",
      "photoUrl": "",
      "userId": "11153319923813420173"
     },
     "user_tz": -540
    },
    "id": "tMTGslpV1WIA"
   },
   "outputs": [],
   "source": [
    "def get_nouns(data, label):\n",
    "    subset = data[data['label'] == label]\n",
    "    text = subset['comments']\n",
    "    \n",
    "    morphs = []\n",
    "    for sentence in text:\n",
    "        morphs.append(mecab.pos(sentence))\n",
    "\n",
    "    nouns = []\n",
    "    for morph in morphs:\n",
    "        for word, tag in morph:\n",
    "            if tag in ['Noun']:\n",
    "                nouns.append(word)\n",
    "    \n",
    "    count = Counter(nouns)\n",
    "    words = dict(count.most_common())\n",
    "    \n",
    "    return words\n",
    "\n",
    "positive = get_nouns(train_data, 0)\n",
    "negative = get_nouns(train_data, 1)"
   ]
  },
  {
   "cell_type": "markdown",
   "metadata": {
    "id": "APTMSRqR1WIC"
   },
   "source": [
    "워드 클라우드 생성 함수"
   ]
  },
  {
   "cell_type": "code",
   "execution_count": 43,
   "metadata": {
    "colab": {
     "base_uri": "https://localhost:8080/",
     "height": 376
    },
    "executionInfo": {
     "elapsed": 1413,
     "status": "error",
     "timestamp": 1604906634462,
     "user": {
      "displayName": "조원우",
      "photoUrl": "",
      "userId": "11153319923813420173"
     },
     "user_tz": -540
    },
    "id": "u0E7vecp1WID",
    "outputId": "b929c952-8f9f-4ebe-d2b0-9a54c4beab15"
   },
   "outputs": [
    {
     "ename": "FileNotFoundError",
     "evalue": "ignored",
     "output_type": "error",
     "traceback": [
      "\u001b[0;31m---------------------------------------------------------------------------\u001b[0m",
      "\u001b[0;31mFileNotFoundError\u001b[0m                         Traceback (most recent call last)",
      "\u001b[0;32m<ipython-input-43-ba832870b971>\u001b[0m in \u001b[0;36m<module>\u001b[0;34m()\u001b[0m\n\u001b[1;32m     17\u001b[0m \u001b[0;34m\u001b[0m\u001b[0m\n\u001b[1;32m     18\u001b[0m \u001b[0mstopwords\u001b[0m \u001b[0;34m=\u001b[0m \u001b[0;34m[\u001b[0m\u001b[0;34m'의'\u001b[0m\u001b[0;34m,\u001b[0m\u001b[0;34m'가'\u001b[0m\u001b[0;34m,\u001b[0m\u001b[0;34m'이'\u001b[0m\u001b[0;34m,\u001b[0m\u001b[0;34m'은'\u001b[0m\u001b[0;34m,\u001b[0m\u001b[0;34m'들'\u001b[0m\u001b[0;34m,\u001b[0m\u001b[0;34m'는'\u001b[0m\u001b[0;34m,\u001b[0m\u001b[0;34m'좀'\u001b[0m\u001b[0;34m,\u001b[0m\u001b[0;34m'잘'\u001b[0m\u001b[0;34m,\u001b[0m\u001b[0;34m'걍'\u001b[0m\u001b[0;34m,\u001b[0m\u001b[0;34m'과'\u001b[0m\u001b[0;34m,\u001b[0m\u001b[0;34m'도'\u001b[0m\u001b[0;34m,\u001b[0m\u001b[0;34m'를'\u001b[0m\u001b[0;34m,\u001b[0m\u001b[0;34m'으로'\u001b[0m\u001b[0;34m,\u001b[0m\u001b[0;34m'자'\u001b[0m\u001b[0;34m,\u001b[0m\u001b[0;34m'에'\u001b[0m\u001b[0;34m,\u001b[0m\u001b[0;34m'와'\u001b[0m\u001b[0;34m,\u001b[0m\u001b[0;34m'한'\u001b[0m\u001b[0;34m,\u001b[0m\u001b[0;34m'하다'\u001b[0m\u001b[0;34m]\u001b[0m\u001b[0;34m\u001b[0m\u001b[0;34m\u001b[0m\u001b[0m\n\u001b[0;32m---> 19\u001b[0;31m \u001b[0mgenerate_word_cloud\u001b[0m\u001b[0;34m(\u001b[0m\u001b[0mpositive\u001b[0m\u001b[0;34m,\u001b[0m \u001b[0;34m\"safe-zone\"\u001b[0m\u001b[0;34m,\u001b[0m \u001b[0;34m\"긍정 댓글 명사 빈도\"\u001b[0m\u001b[0;34m,\u001b[0m \u001b[0;34m\"viridis\"\u001b[0m\u001b[0;34m)\u001b[0m\u001b[0;34m\u001b[0m\u001b[0;34m\u001b[0m\u001b[0m\n\u001b[0m\u001b[1;32m     20\u001b[0m \u001b[0mgenerate_word_cloud\u001b[0m\u001b[0;34m(\u001b[0m\u001b[0mnegative\u001b[0m\u001b[0;34m,\u001b[0m \u001b[0;34m\"anger\"\u001b[0m\u001b[0;34m,\u001b[0m \u001b[0;34m\"부정 댓글 명사 빈도\"\u001b[0m\u001b[0;34m,\u001b[0m \u001b[0;34m\"hot\"\u001b[0m\u001b[0;34m)\u001b[0m\u001b[0;34m\u001b[0m\u001b[0;34m\u001b[0m\u001b[0m\n",
      "\u001b[0;32m<ipython-input-43-ba832870b971>\u001b[0m in \u001b[0;36mgenerate_word_cloud\u001b[0;34m(data, img, title, cmap)\u001b[0m\n\u001b[1;32m      1\u001b[0m \u001b[0;32mdef\u001b[0m \u001b[0mgenerate_word_cloud\u001b[0m\u001b[0;34m(\u001b[0m\u001b[0mdata\u001b[0m\u001b[0;34m,\u001b[0m \u001b[0mimg\u001b[0m\u001b[0;34m,\u001b[0m \u001b[0mtitle\u001b[0m\u001b[0;34m,\u001b[0m \u001b[0mcmap\u001b[0m\u001b[0;34m)\u001b[0m\u001b[0;34m:\u001b[0m\u001b[0;34m\u001b[0m\u001b[0;34m\u001b[0m\u001b[0m\n\u001b[0;32m----> 2\u001b[0;31m     \u001b[0mclean_mask\u001b[0m \u001b[0;34m=\u001b[0m \u001b[0mnp\u001b[0m\u001b[0;34m.\u001b[0m\u001b[0marray\u001b[0m\u001b[0;34m(\u001b[0m\u001b[0mImage\u001b[0m\u001b[0;34m.\u001b[0m\u001b[0mopen\u001b[0m\u001b[0;34m(\u001b[0m\u001b[0mstr\u001b[0m\u001b[0;34m(\u001b[0m\u001b[0mimg\u001b[0m\u001b[0;34m)\u001b[0m \u001b[0;34m+\u001b[0m \u001b[0;34m\".png\"\u001b[0m\u001b[0;34m)\u001b[0m\u001b[0;34m)\u001b[0m\u001b[0;34m\u001b[0m\u001b[0;34m\u001b[0m\u001b[0m\n\u001b[0m\u001b[1;32m      3\u001b[0m     \u001b[0mclean_mask\u001b[0m \u001b[0;34m=\u001b[0m \u001b[0mclean_mask\u001b[0m\u001b[0;34m[\u001b[0m\u001b[0;34m:\u001b[0m\u001b[0;34m,\u001b[0m\u001b[0;34m:\u001b[0m\u001b[0;34m,\u001b[0m\u001b[0;36m1\u001b[0m\u001b[0;34m]\u001b[0m\u001b[0;34m\u001b[0m\u001b[0;34m\u001b[0m\u001b[0m\n\u001b[1;32m      4\u001b[0m \u001b[0;34m\u001b[0m\u001b[0m\n\u001b[1;32m      5\u001b[0m     wc = WordCloud(font_path ='NanumGothic.ttf', \n",
      "\u001b[0;32m/usr/local/lib/python3.6/dist-packages/PIL/Image.py\u001b[0m in \u001b[0;36mopen\u001b[0;34m(fp, mode)\u001b[0m\n\u001b[1;32m   2807\u001b[0m \u001b[0;34m\u001b[0m\u001b[0m\n\u001b[1;32m   2808\u001b[0m     \u001b[0;32mif\u001b[0m \u001b[0mfilename\u001b[0m\u001b[0;34m:\u001b[0m\u001b[0;34m\u001b[0m\u001b[0;34m\u001b[0m\u001b[0m\n\u001b[0;32m-> 2809\u001b[0;31m         \u001b[0mfp\u001b[0m \u001b[0;34m=\u001b[0m \u001b[0mbuiltins\u001b[0m\u001b[0;34m.\u001b[0m\u001b[0mopen\u001b[0m\u001b[0;34m(\u001b[0m\u001b[0mfilename\u001b[0m\u001b[0;34m,\u001b[0m \u001b[0;34m\"rb\"\u001b[0m\u001b[0;34m)\u001b[0m\u001b[0;34m\u001b[0m\u001b[0;34m\u001b[0m\u001b[0m\n\u001b[0m\u001b[1;32m   2810\u001b[0m         \u001b[0mexclusive_fp\u001b[0m \u001b[0;34m=\u001b[0m \u001b[0;32mTrue\u001b[0m\u001b[0;34m\u001b[0m\u001b[0;34m\u001b[0m\u001b[0m\n\u001b[1;32m   2811\u001b[0m \u001b[0;34m\u001b[0m\u001b[0m\n",
      "\u001b[0;31mFileNotFoundError\u001b[0m: [Errno 2] No such file or directory: 'safe-zone.png'"
     ]
    }
   ],
   "source": [
    "def generate_word_cloud(data, img, title, cmap):\n",
    "    clean_mask = np.array(Image.open(str(img) + \".png\"))\n",
    "    clean_mask = clean_mask[:,:,1]\n",
    "\n",
    "    wc = WordCloud(font_path ='NanumGothic.ttf', \n",
    "                   background_color =\"black\",\n",
    "                   max_words = 2000,\n",
    "                   mask = clean_mask,\n",
    "                   stopwords = stopwords)\n",
    "\n",
    "    wc.generate(\" \".join(data))\n",
    "    plt.figure(figsize = (20, 10))\n",
    "    plt.axis(\"off\")\n",
    "    plt.title(title, fontsize = 30)\n",
    "    plt.imshow(wc.recolor(colormap = cmap, random_state = 17), alpha = 0.98)\n",
    "    plt.savefig(title + \".png\")\n",
    "\n",
    "stopwords = ['의','가','이','은','들','는','좀','잘','걍','과','도','를','으로','자','에','와','한','하다']\n",
    "generate_word_cloud(positive, \"safe-zone\", \"긍정 댓글 명사 빈도\", \"viridis\")\n",
    "generate_word_cloud(negative, \"anger\", \"부정 댓글 명사 빈도\", \"hot\")"
   ]
  },
  {
   "cell_type": "markdown",
   "metadata": {
    "id": "ZxFYbD8V1WIF"
   },
   "source": [
    "## 토큰화"
   ]
  },
  {
   "cell_type": "code",
   "execution_count": 44,
   "metadata": {
    "executionInfo": {
     "elapsed": 1065,
     "status": "ok",
     "timestamp": 1604906678542,
     "user": {
      "displayName": "조원우",
      "photoUrl": "",
      "userId": "11153319923813420173"
     },
     "user_tz": -540
    },
    "id": "ImkLJhcu1WIG"
   },
   "outputs": [],
   "source": [
    "stopwords = ['의','가','이','은','들','는','좀','잘','걍','과','도','를','으로','자','에','와','한','하다']"
   ]
  },
  {
   "cell_type": "code",
   "execution_count": 47,
   "metadata": {
    "executionInfo": {
     "elapsed": 15743,
     "status": "ok",
     "timestamp": 1604906717697,
     "user": {
      "displayName": "조원우",
      "photoUrl": "",
      "userId": "11153319923813420173"
     },
     "user_tz": -540
    },
    "id": "yEMqvLYA1WII"
   },
   "outputs": [],
   "source": [
    "\n",
    "X_train = []\n",
    "for sentence in train_data['comments']:\n",
    "    temp_X = []\n",
    "    temp_X = mecab.morphs(sentence,) # 토큰화\n",
    "    temp_X = [word for word in temp_X if not word in stopwords] # 불용어 제거\n",
    "    X_train.append(temp_X)"
   ]
  },
  {
   "cell_type": "code",
   "execution_count": 48,
   "metadata": {
    "colab": {
     "base_uri": "https://localhost:8080/"
    },
    "executionInfo": {
     "elapsed": 1077,
     "status": "ok",
     "timestamp": 1604906730210,
     "user": {
      "displayName": "조원우",
      "photoUrl": "",
      "userId": "11153319923813420173"
     },
     "user_tz": -540
    },
    "id": "TJfz10s91WIL",
    "outputId": "538d3e41-ea72-43ef-fc6e-a2aa19536787"
   },
   "outputs": [
    {
     "name": "stdout",
     "output_type": "stream",
     "text": [
      "['정말', '재밌', '다', '연기', '좋', '고', '디카프리오', '짱']\n"
     ]
    }
   ],
   "source": [
    "print(X_train[0])"
   ]
  },
  {
   "cell_type": "code",
   "execution_count": 51,
   "metadata": {
    "executionInfo": {
     "elapsed": 4447,
     "status": "ok",
     "timestamp": 1604906748283,
     "user": {
      "displayName": "조원우",
      "photoUrl": "",
      "userId": "11153319923813420173"
     },
     "user_tz": -540
    },
    "id": "_ys5JAk01WIP"
   },
   "outputs": [],
   "source": [
    "X_test = []\n",
    "for sentence in test_data['comments']:\n",
    "    temp_X = []\n",
    "    temp_X = mecab.morphs(sentence) # 토큰화\n",
    "    temp_X = [word for word in temp_X if not word in stopwords] # 불용어 제거\n",
    "    X_test.append(temp_X)"
   ]
  },
  {
   "cell_type": "code",
   "execution_count": 52,
   "metadata": {
    "colab": {
     "base_uri": "https://localhost:8080/"
    },
    "executionInfo": {
     "elapsed": 3252,
     "status": "ok",
     "timestamp": 1604906748287,
     "user": {
      "displayName": "조원우",
      "photoUrl": "",
      "userId": "11153319923813420173"
     },
     "user_tz": -540
    },
    "id": "NPNe2Dww1WIR",
    "outputId": "f5c8cfb2-7c80-41f7-ef27-0c68da2a7d38"
   },
   "outputs": [
    {
     "name": "stdout",
     "output_type": "stream",
     "text": [
      "['문채원', '짱', '너무나', '사랑', '스럽', '고', '귀엽', '고', '문채원', '매력', '푹', '빠져', '보', '세요']\n"
     ]
    }
   ],
   "source": [
    "print(X_test[0])"
   ]
  },
  {
   "cell_type": "code",
   "execution_count": 53,
   "metadata": {
    "executionInfo": {
     "elapsed": 2214,
     "status": "ok",
     "timestamp": 1604906763140,
     "user": {
      "displayName": "조원우",
      "photoUrl": "",
      "userId": "11153319923813420173"
     },
     "user_tz": -540
    },
    "id": "P580cdyS1WIT"
   },
   "outputs": [],
   "source": [
    "with open(\"data/mecab_train.pkl\", \"wb\") as f:\n",
    "    pickle.dump(X_train, f)\n",
    "    \n",
    "with open(\"data/mecab_test.pkl\", \"wb\") as f:\n",
    "    pickle.dump(X_test, f)"
   ]
  },
  {
   "cell_type": "markdown",
   "metadata": {
    "id": "GSozx0Zk1WIV"
   },
   "source": [
    "# 여기서 시작 ---------------------------------------------------------"
   ]
  },
  {
   "cell_type": "code",
   "execution_count": 2,
   "metadata": {
    "id": "ObmlFMh31WIV"
   },
   "outputs": [],
   "source": [
    "import re\n",
    "import pickle\n",
    "import pandas as pd\n",
    "import numpy as np\n",
    "%matplotlib inline\n",
    "import matplotlib.pyplot as plt\n",
    "from PIL import Image\n",
    "from konlpy.tag import Okt\n",
    "from wordcloud import WordCloud\n",
    "from tensorflow.keras.preprocessing.text import Tokenizer\n",
    "from tensorflow.keras.preprocessing.sequence import pad_sequences"
   ]
  },
  {
   "cell_type": "markdown",
   "metadata": {
    "id": "EoQsXd0w1WIY"
   },
   "source": [
    "### okt"
   ]
  },
  {
   "cell_type": "code",
   "execution_count": 4,
   "metadata": {
    "id": "VI-ZF_Ox1WIZ"
   },
   "outputs": [],
   "source": [
    "with open(\"data/mecab_train.pkl\", \"rb\") as f:\n",
    "    X_train = pickle.load(f)\n",
    "    \n",
    "with open(\"data/mecab_test.pkl\", \"rb\") as f:\n",
    "    X_test = pickle.load(f)"
   ]
  },
  {
   "cell_type": "code",
   "execution_count": null,
   "metadata": {
    "id": "jXTtxkRQ1WIc"
   },
   "outputs": [],
   "source": [
    "train_data = pd.read_csv(\"data/train.csv\")\n",
    "test_data = pd.read_csv(\"data/test.csv\")"
   ]
  },
  {
   "cell_type": "markdown",
   "metadata": {
    "id": "RleDW4hB1WIe"
   },
   "source": [
    "## 정수 인코딩"
   ]
  },
  {
   "cell_type": "code",
   "execution_count": null,
   "metadata": {
    "id": "gGoaNwuN1WIe"
   },
   "outputs": [],
   "source": [
    "tokenizer = Tokenizer()\n",
    "tokenizer.fit_on_texts(X_train)"
   ]
  },
  {
   "cell_type": "code",
   "execution_count": null,
   "metadata": {
    "id": "gVxVHfmu1WIg",
    "outputId": "5322717b-a3a5-47ee-c2d4-41cd2f82850e"
   },
   "outputs": [
    {
     "name": "stdout",
     "output_type": "stream",
     "text": [
      "56246\n"
     ]
    }
   ],
   "source": [
    "print(len(tokenizer.word_index))"
   ]
  },
  {
   "cell_type": "code",
   "execution_count": null,
   "metadata": {
    "id": "EaYO5S8a1WIi",
    "outputId": "1de3e469-d096-46ff-c325-ac457d190bf1"
   },
   "outputs": [
    {
     "name": "stdout",
     "output_type": "stream",
     "text": [
      "단어 집합(vocabulary)의 크기 : 56246\n",
      "등장 빈도가 2번 이하인 희귀 단어의 수: 31118\n",
      "단어 집합에서 희귀 단어의 비율: 55.32482309853145\n",
      "전체 등장 빈도에서 희귀 단어 등장 빈도 비율: 2.119818367596178\n"
     ]
    }
   ],
   "source": [
    "threshold = 3\n",
    "total_cnt = len(tokenizer.word_index) # 단어의 수\n",
    "rare_cnt = 0 # 등장 빈도수가 threshold보다 작은 단어의 개수를 카운트\n",
    "total_freq = 0 # 훈련 데이터의 전체 단어 빈도수 총 합\n",
    "rare_freq = 0 # 등장 빈도수가 threshold보다 작은 단어의 등장 빈도수의 총 합\n",
    "\n",
    "# 단어와 빈도수의 쌍(pair)을 key와 value로 받는다.\n",
    "for key, value in tokenizer.word_counts.items():\n",
    "    total_freq = total_freq + value\n",
    "\n",
    "    # 단어의 등장 빈도수가 threshold보다 작으면\n",
    "    if(value < threshold):\n",
    "        rare_cnt = rare_cnt + 1\n",
    "        rare_freq = rare_freq + value\n",
    "\n",
    "print('단어 집합(vocabulary)의 크기 :',total_cnt)\n",
    "print('등장 빈도가 %s번 이하인 희귀 단어의 수: %s'%(threshold - 1, rare_cnt))\n",
    "print(\"단어 집합에서 희귀 단어의 비율:\", (rare_cnt / total_cnt)*100)\n",
    "print(\"전체 등장 빈도에서 희귀 단어 등장 빈도 비율:\", (rare_freq / total_freq)*100)"
   ]
  },
  {
   "cell_type": "code",
   "execution_count": null,
   "metadata": {
    "id": "4_7YvyGC1WIk",
    "outputId": "99348f0a-1dab-4692-ceb8-c7fab393dcae"
   },
   "outputs": [
    {
     "name": "stdout",
     "output_type": "stream",
     "text": [
      "단어 집합의 크기 : 25130\n"
     ]
    }
   ],
   "source": [
    "vocab_size = total_cnt - rare_cnt + 2\n",
    "print('단어 집합의 크기 :',vocab_size)"
   ]
  },
  {
   "cell_type": "code",
   "execution_count": null,
   "metadata": {
    "id": "Ri7D-xW31WIp"
   },
   "outputs": [],
   "source": [
    "tokenizer = Tokenizer(vocab_size, oov_token = 'OOV') \n",
    "tokenizer.fit_on_texts(X_train)\n",
    "X_train = tokenizer.texts_to_sequences(X_train)\n",
    "X_test = tokenizer.texts_to_sequences(X_test)"
   ]
  },
  {
   "cell_type": "code",
   "execution_count": null,
   "metadata": {
    "id": "hH2lsgyg1WIt",
    "outputId": "1d1166a9-7ce1-4388-93ea-da96bbf5d2bb"
   },
   "outputs": [
    {
     "name": "stdout",
     "output_type": "stream",
     "text": [
      "[[21, 17, 54, 8, 3090, 130], [21036, 216, 13736, 1235, 2155, 3000, 305, 1069, 9532, 305], [368, 6, 320, 447, 51, 67, 698, 98, 10]]\n"
     ]
    }
   ],
   "source": [
    "print(X_train[:3])"
   ]
  },
  {
   "cell_type": "code",
   "execution_count": null,
   "metadata": {
    "id": "kKFmMVDT1WIx"
   },
   "outputs": [],
   "source": [
    "y_train = np.array(train_data['label'])\n",
    "y_test = np.array(test_data['label'])"
   ]
  },
  {
   "cell_type": "markdown",
   "metadata": {
    "id": "bx_HFC5J1WI1"
   },
   "source": [
    "## 빈 샘플 제거"
   ]
  },
  {
   "cell_type": "code",
   "execution_count": null,
   "metadata": {
    "id": "gWF4Cx931WI2",
    "outputId": "3fcf23f4-997b-40a2-ea98-b6ee136a567c"
   },
   "outputs": [
    {
     "data": {
      "text/plain": [
       "15"
      ]
     },
     "execution_count": 66,
     "metadata": {
      "tags": []
     },
     "output_type": "execute_result"
    }
   ],
   "source": [
    "drop_train = [index for index, sentence in enumerate(X_train) if len(sentence) < 1]\n",
    "len(drop_train)"
   ]
  },
  {
   "cell_type": "code",
   "execution_count": null,
   "metadata": {
    "id": "3r1fA7TF1WI5",
    "outputId": "0ba233f8-8ce8-4bc2-bb9f-1f32c66a35a8"
   },
   "outputs": [
    {
     "name": "stdout",
     "output_type": "stream",
     "text": [
      "149985\n",
      "149985\n"
     ]
    }
   ],
   "source": [
    "# 빈 샘플들을 제거\n",
    "X_train = np.delete(X_train, drop_train, axis=0)\n",
    "y_train = np.delete(y_train, drop_train, axis=0)\n",
    "print(len(X_train))\n",
    "print(len(y_train))"
   ]
  },
  {
   "cell_type": "markdown",
   "metadata": {
    "id": "HWsBS_2s1WI8"
   },
   "source": [
    "## 패딩"
   ]
  },
  {
   "cell_type": "code",
   "execution_count": null,
   "metadata": {
    "id": "1ppVV1rE1WI9",
    "outputId": "2a41358d-f30a-414e-f9aa-bc0490526b7d"
   },
   "outputs": [
    {
     "name": "stdout",
     "output_type": "stream",
     "text": [
      "리뷰의 최대 길이 : 468\n",
      "리뷰의 평균 길이 : 12.065133179984665\n"
     ]
    },
    {
     "data": {
      "image/png": "[encoded data removed]",
      "text/plain": [
       "<Figure size 432x288 with 1 Axes>"
      ]
     },
     "metadata": {
      "needs_background": "light",
      "tags": []
     },
     "output_type": "display_data"
    }
   ],
   "source": [
    "print('리뷰의 최대 길이 :',max(len(l) for l in X_train))\n",
    "print('리뷰의 평균 길이 :',sum(map(len, X_train))/len(X_train))\n",
    "plt.hist([len(s) for s in X_train], bins=50)\n",
    "plt.xlabel('length of samples')\n",
    "plt.ylabel('number of samples')\n",
    "plt.show()"
   ]
  },
  {
   "cell_type": "code",
   "execution_count": null,
   "metadata": {
    "id": "WF_Uf6pi1WJC"
   },
   "outputs": [],
   "source": [
    "def below_threshold_len(max_len, nested_list):\n",
    "    cnt = 0\n",
    "    for s in nested_list:\n",
    "        if(len(s) <= max_len):\n",
    "            cnt = cnt + 1\n",
    "    print('전체 샘플 중 길이가 %s 이하인 샘플의 비율: %s'%(max_len, (cnt / len(nested_list))*100))"
   ]
  },
  {
   "cell_type": "code",
   "execution_count": null,
   "metadata": {
    "id": "8GYbZRNd1WJG",
    "outputId": "66679017-bd35-4b7f-f5ac-12b709313368"
   },
   "outputs": [
    {
     "name": "stdout",
     "output_type": "stream",
     "text": [
      "전체 샘플 중 길이가 50 이하인 샘플의 비율: 98.35716905023835\n"
     ]
    }
   ],
   "source": [
    "max_len = 50\n",
    "below_threshold_len(max_len, X_train)"
   ]
  },
  {
   "cell_type": "code",
   "execution_count": null,
   "metadata": {
    "id": "uoX9s4-S1WJJ"
   },
   "outputs": [],
   "source": [
    "X_train = pad_sequences(X_train, maxlen = max_len)\n",
    "X_test = pad_sequences(X_test, maxlen = max_len)"
   ]
  },
  {
   "cell_type": "markdown",
   "metadata": {
    "id": "h6xImfsi1WJM"
   },
   "source": [
    "## LSTM으로 악성 댓글 분류"
   ]
  },
  {
   "cell_type": "code",
   "execution_count": null,
   "metadata": {
    "id": "iSsD70zG1WJM"
   },
   "outputs": [],
   "source": [
    "from tensorflow.keras.layers import Embedding, Dense, LSTM\n",
    "from tensorflow.keras.models import Sequential\n",
    "from tensorflow.keras.models import load_model\n",
    "from tensorflow.keras.callbacks import EarlyStopping, ModelCheckpoint"
   ]
  },
  {
   "cell_type": "code",
   "execution_count": null,
   "metadata": {
    "collapsed": true,
    "id": "qOMHK0EI1WJP",
    "jupyter": {
     "outputs_hidden": true
    },
    "outputId": "41340a46-7462-4a99-9f1b-c7ffc94654b4"
   },
   "outputs": [
    {
     "name": "stdout",
     "output_type": "stream",
     "text": [
      "Train on 119988 samples, validate on 29997 samples\n",
      "Epoch 1/15\n",
      "119820/119988 [============================>.] - ETA: 0s - loss: 0.1906 - acc: 0.9241\n",
      "Epoch 00001: val_acc improved from -inf to 0.93889, saving model to 1best_model.h5\n",
      "119988/119988 [==============================] - 27s 229us/sample - loss: 0.1905 - acc: 0.9241 - val_loss: 0.1605 - val_acc: 0.9389\n",
      "Epoch 2/15\n",
      "119880/119988 [============================>.] - ETA: 0s - loss: 0.1447 - acc: 0.9432\n",
      "Epoch 00002: val_acc improved from 0.93889 to 0.94049, saving model to 1best_model.h5\n",
      "119988/119988 [==============================] - 25s 210us/sample - loss: 0.1447 - acc: 0.9432 - val_loss: 0.1527 - val_acc: 0.9405\n",
      "Epoch 3/15\n",
      "119880/119988 [============================>.] - ETA: 0s - loss: 0.1329 - acc: 0.9483\n",
      "Epoch 00003: val_acc improved from 0.94049 to 0.94316, saving model to 1best_model.h5\n",
      "119988/119988 [==============================] - 26s 214us/sample - loss: 0.1329 - acc: 0.9483 - val_loss: 0.1425 - val_acc: 0.9432\n",
      "Epoch 4/15\n",
      "119820/119988 [============================>.] - ETA: 0s - loss: 0.1235 - acc: 0.9528\n",
      "Epoch 00004: val_acc improved from 0.94316 to 0.94646, saving model to 1best_model.h5\n",
      "119988/119988 [==============================] - 26s 220us/sample - loss: 0.1235 - acc: 0.9528 - val_loss: 0.1366 - val_acc: 0.9465\n",
      "Epoch 5/15\n",
      "119880/119988 [============================>.] - ETA: 0s - loss: 0.1153 - acc: 0.9567\n",
      "Epoch 00005: val_acc did not improve from 0.94646\n",
      "119988/119988 [==============================] - 26s 217us/sample - loss: 0.1153 - acc: 0.9567 - val_loss: 0.1347 - val_acc: 0.9461\n",
      "Epoch 6/15\n",
      "119820/119988 [============================>.] - ETA: 0s - loss: 0.1090 - acc: 0.9597\n",
      "Epoch 00006: val_acc did not improve from 0.94646\n",
      "119988/119988 [==============================] - 26s 216us/sample - loss: 0.1090 - acc: 0.9596 - val_loss: 0.1352 - val_acc: 0.9461\n",
      "Epoch 7/15\n",
      "119940/119988 [============================>.] - ETA: 0s - loss: 0.1036 - acc: 0.9616\n",
      "Epoch 00007: val_acc improved from 0.94646 to 0.94726, saving model to 1best_model.h5\n",
      "119988/119988 [==============================] - 26s 214us/sample - loss: 0.1036 - acc: 0.9616 - val_loss: 0.1342 - val_acc: 0.9473\n",
      "Epoch 8/15\n",
      "119700/119988 [============================>.] - ETA: 0s - loss: 0.0985 - acc: 0.9636\n",
      "Epoch 00008: val_acc did not improve from 0.94726\n",
      "119988/119988 [==============================] - 26s 217us/sample - loss: 0.0985 - acc: 0.9636 - val_loss: 0.1373 - val_acc: 0.9468\n",
      "Epoch 9/15\n",
      "119940/119988 [============================>.] - ETA: 0s - loss: 0.0935 - acc: 0.9656\n",
      "Epoch 00009: val_acc did not improve from 0.94726\n",
      "119988/119988 [==============================] - 26s 213us/sample - loss: 0.0934 - acc: 0.9656 - val_loss: 0.1363 - val_acc: 0.9463\n",
      "Epoch 10/15\n",
      "119880/119988 [============================>.] - ETA: 0s - loss: 0.0875 - acc: 0.9674\n",
      "Epoch 00010: val_acc did not improve from 0.94726\n",
      "119988/119988 [==============================] - 27s 226us/sample - loss: 0.0875 - acc: 0.9674 - val_loss: 0.1387 - val_acc: 0.9455\n",
      "Epoch 11/15\n",
      "119940/119988 [============================>.] - ETA: 0s - loss: 0.0816 - acc: 0.9700\n",
      "Epoch 00011: val_acc did not improve from 0.94726\n",
      "119988/119988 [==============================] - 28s 231us/sample - loss: 0.0816 - acc: 0.9700 - val_loss: 0.1484 - val_acc: 0.9419\n",
      "Epoch 00011: early stopping\n"
     ]
    }
   ],
   "source": [
    "model = Sequential()\n",
    "model.add(Embedding(vocab_size, 100))\n",
    "model.add(LSTM(128))\n",
    "model.add(Dense(1, activation='sigmoid'))\n",
    "\n",
    "es = EarlyStopping(monitor='val_loss', mode='min', verbose=1, patience=4)\n",
    "mc = ModelCheckpoint('okt_LSTM_single.h5', monitor='val_acc', mode='max', verbose=1, save_best_only=True)\n",
    "\n",
    "model.compile(optimizer='rmsprop', loss='binary_crossentropy', metrics=['acc'])\n",
    "history = model.fit(X_train, y_train, epochs=15, callbacks=[es, mc], batch_size=60, validation_split=0.2)"
   ]
  },
  {
   "cell_type": "code",
   "execution_count": null,
   "metadata": {
    "id": "erda4-Na1WJS",
    "outputId": "a21ef5ff-3d07-4374-a78f-851512d8a2af"
   },
   "outputs": [
    {
     "name": "stdout",
     "output_type": "stream",
     "text": [
      "36121/36121 [==============================] - 8s 208us/sample - loss: 0.1344 - acc: 0.9477\n",
      "\n",
      "테스트 정확도: 0.9477\n"
     ]
    }
   ],
   "source": [
    "loaded_model = load_model('okt_LSTM_single.h5')\n",
    "print(\"\\n테스트 정확도: %.4f\" % (loaded_model.evaluate(X_test, y_test)[1]))"
   ]
  },
  {
   "cell_type": "code",
   "execution_count": null,
   "metadata": {
    "id": "ALLlrfP71WJV"
   },
   "outputs": [],
   "source": [
    "def sentiment_predict(new_sentence):\n",
    "    sent = new_sentence\n",
    "    new_sentence = okt.morphs(new_sentence, stem=True) # 토큰화\n",
    "    new_sentence = [word for word in new_sentence if not word in stopwords] # 불용어 제거\n",
    "    encoded = tokenizer.texts_to_sequences([new_sentence]) # 정수 인코딩\n",
    "    pad_new = pad_sequences(encoded, maxlen = max_len) # 패딩\n",
    "    score = float(loaded_model.predict(pad_new)) # 예측\n",
    "    if(score > 0.5):\n",
    "        print(\"{}: {:.2f}% --.\\n\".format(sent, score * 100))\n",
    "    else:\n",
    "        print(\"{}: {:.2f}% ++.\\n\".format(sent, (1 - score) * 100))"
   ]
  },
  {
   "cell_type": "code",
   "execution_count": null,
   "metadata": {
    "id": "kn46qgsI1WJZ",
    "outputId": "1bc28767-b1b1-4cd8-8cdf-cfabc8866550"
   },
   "outputs": [
    {
     "name": "stdout",
     "output_type": "stream",
     "text": [
      "문채원 짱 너무나 사랑스럽고 귀엽고 문채원의 매력에 푹 빠져보세요: 99.96% ++.\n",
      "\n"
     ]
    }
   ],
   "source": [
    "for sentence in test_data['comments'][:1]:\n",
    "    sentiment_predict(sentence)"
   ]
  }
 ],
 "metadata": {
  "accelerator": "GPU",
  "colab": {
   "name": "LSTM_yoon.ipynb",
   "provenance": []
  },
  "kernelspec": {
   "display_name": "Python 3",
   "language": "python",
   "name": "python3"
  },
  "language_info": {
   "codemirror_mode": {
    "name": "ipython",
    "version": 3
   },
   "file_extension": ".py",
   "mimetype": "text/x-python",
   "name": "python",
   "nbconvert_exporter": "python",
   "pygments_lexer": "ipython3",
   "version": "3.7.7"
  }
 },
 "nbformat": 4,
 "nbformat_minor": 1
}
